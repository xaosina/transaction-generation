{
 "cells": [
  {
   "cell_type": "code",
   "execution_count": 1,
   "id": "394d1f10",
   "metadata": {},
   "outputs": [
    {
     "name": "stdout",
     "output_type": "stream",
     "text": [
      "/home/transaction-generation\n"
     ]
    },
    {
     "name": "stderr",
     "output_type": "stream",
     "text": [
      "/usr/local/lib/python3.10/dist-packages/IPython/core/magics/osm.py:417: UserWarning: using dhist requires you to install the `pickleshare` library.\n",
      "  self.shell.db['dhist'] = compress_dhist(dhist)[-100:]\n"
     ]
    }
   ],
   "source": [
    "cd /home/transaction-generation"
   ]
  },
  {
   "cell_type": "code",
   "execution_count": 2,
   "id": "de29976f",
   "metadata": {},
   "outputs": [],
   "source": [
    "from notebooks.exps.config_factory import load_base_yaml, generate_configs, str_to_df, collect_res, df_to_str"
   ]
  },
  {
   "cell_type": "code",
   "execution_count": 3,
   "id": "179945ea",
   "metadata": {},
   "outputs": [
    {
     "name": "stdout",
     "output_type": "stream",
     "text": [
      "sh transaction-generation/zhores/simple.sh hist_len/33\n",
      "sh transaction-generation/zhores/simple.sh hist_len/64\n",
      "sh transaction-generation/zhores/simple.sh hist_len/128\n",
      "sh transaction-generation/zhores/simple.sh hist_len/256\n",
      "sh transaction-generation/zhores/simple.sh hist_len/512\n",
      "sh transaction-generation/zhores/simple.sh hist_len/1045\n",
      "✅ Generated 6 config files in '/home/transaction-generation/zhores/configs'\n",
      "sh zhores/simple_mega.sh hist_len/33\n",
      "sh zhores/simple_mega.sh hist_len/64\n",
      "sh zhores/simple_mega.sh hist_len/128\n",
      "sh zhores/simple_mega.sh hist_len/256\n",
      "sh zhores/simple_mega.sh hist_len/512\n",
      "sh zhores/simple_mega.sh hist_len/1045\n"
     ]
    }
   ],
   "source": [
    "config_rows = str_to_df('''run_name\tdata_conf.max_seq_len\n",
    "hist_len/33\t33\n",
    "hist_len/64\t64\n",
    "hist_len/128\t128\n",
    "hist_len/256\t256\n",
    "hist_len/512\t512\n",
    "hist_len/1045\t1045\n",
    "''')\n",
    "common_conf = {\n",
    "    \"runner.params.n_runs\": 2,\n",
    "    # \"data_conf.focus_on\": [\"event_type\"]\n",
    "}\n",
    "basic_conf = load_base_yaml(\"/home/transaction-generation/spec_config.yaml\")\n",
    "generate_configs(config_rows, common_conf, basic_conf)"
   ]
  },
  {
   "cell_type": "code",
   "execution_count": 4,
   "id": "62099c06",
   "metadata": {},
   "outputs": [
    {
     "name": "stdout",
     "output_type": "stream",
     "text": [
      "run_name\tdata_conf.max_seq_len\ttest_Reconstruction event_type\ttest_F1_macro on event_type\ttest_F1_micro on event_type\n",
      "hist_len/33\t33\t0,4576002371903128\t0,1919485760956575\t0,4605120132686721\n",
      "hist_len/64\t64\t0,4921686264136052\t0,2033083186794389\t0,498665825453082\n",
      "hist_len/128\t128\t0,5004749662252906\t0,2063124201978275\t0,5084533707071419\n",
      "hist_len/256\t256\t0,5232082874948889\t0,2079593557620291\t0,525582483606942\n",
      "hist_len/512\t512\t0,5244235200863951\t0,2087546955012843\t0,5275832524616708\n",
      "\n"
     ]
    }
   ],
   "source": [
    "cols = [\"test_Reconstruction overal\", \"test_Reconstruction event_type\", \"test_F1_macro on event_type\", \"test_F1_micro on event_type\"]\n",
    "print(df_to_str(collect_res(config_rows, cols)))"
   ]
  },
  {
   "cell_type": "code",
   "execution_count": 5,
   "id": "9d7e2d65",
   "metadata": {},
   "outputs": [
    {
     "name": "stdout",
     "output_type": "stream",
     "text": [
      "sh transaction-generation/zhores/simple.sh event_type/gru_shuffle/no_shuffle\n",
      "sh transaction-generation/zhores/simple.sh event_type/gru_shuffle/test_hist_shuffle\n",
      "sh transaction-generation/zhores/simple.sh event_type/gru_shuffle/basic_shuffle\n",
      "sh transaction-generation/zhores/simple.sh event_type/gru_shuffle/no_shuffle_limit\n",
      "sh transaction-generation/zhores/simple.sh event_type/gru_shuffle/test_hist_shuffle_limit\n",
      "sh transaction-generation/zhores/simple.sh event_type/gru_shuffle/basic_shuffle_limit\n",
      "sh transaction-generation/zhores/simple.sh event_type/gru_shuffle/head_shuffle_limit\n",
      "sh transaction-generation/zhores/simple.sh event_type/gru_shuffle/shuffle_pred\n",
      "✅ Generated 8 config files in '/home/transaction-generation/zhores/configs'\n",
      "sh zhores/simple_mega.sh event_type/gru_shuffle/no_shuffle\n",
      "sh zhores/simple_mega.sh event_type/gru_shuffle/test_hist_shuffle\n",
      "sh zhores/simple_mega.sh event_type/gru_shuffle/basic_shuffle\n",
      "sh zhores/simple_mega.sh event_type/gru_shuffle/no_shuffle_limit\n",
      "sh zhores/simple_mega.sh event_type/gru_shuffle/test_hist_shuffle_limit\n",
      "sh zhores/simple_mega.sh event_type/gru_shuffle/basic_shuffle_limit\n",
      "sh zhores/simple_mega.sh event_type/gru_shuffle/head_shuffle_limit\n",
      "sh zhores/simple_mega.sh event_type/gru_shuffle/shuffle_pred\n"
     ]
    }
   ],
   "source": [
    "config_rows = str_to_df('''run_name\tdata_conf.max_seq_len\tdata_conf.train_transforms.shuffle.ShuffleBatch.untouched_slice\tdata_conf.val_transforms.shuffle.ShuffleBatch.untouched_slice\tloss.name\n",
    "event_type/gru_shuffle/no_shuffle\t1045\t[None, None]\t[None, None]\tbaseline\n",
    "event_type/gru_shuffle/test_hist_shuffle\t1045\t[None, None]\t[-32, None]\tbaseline\n",
    "event_type/gru_shuffle/basic_shuffle\t1045\t[0, None]\t[-32, None]\tbaseline\n",
    "event_type/gru_shuffle/no_shuffle_limit\t64\t[None, None]\t[None, None]\tbaseline\n",
    "event_type/gru_shuffle/test_hist_shuffle_limit\t64\t[None, None]\t[-32, None]\tbaseline\n",
    "event_type/gru_shuffle/basic_shuffle_limit\t64\t[0, None]\t[-32, None]\tbaseline\n",
    "event_type/gru_shuffle/head_shuffle_limit\t64\t[-32, None]\t[-32, None]\ttail\n",
    "event_type/gru_shuffle/shuffle_pred\t1045\t[None, None]\t[None, -32]\tbaseline\n",
    "''')\n",
    "common_conf = {\n",
    "    \"runner.params.n_runs\": 2,\n",
    "    \"data_conf.focus_on\": [\"event_type\"]\n",
    "}\n",
    "basic_conf = load_base_yaml(\"/home/transaction-generation/spec_config.yaml\")\n",
    "generate_configs(config_rows, common_conf, basic_conf)"
   ]
  },
  {
   "cell_type": "code",
   "execution_count": 6,
   "id": "52d41c9c",
   "metadata": {},
   "outputs": [
    {
     "name": "stdout",
     "output_type": "stream",
     "text": [
      "sh transaction-generation/zhores/simple.sh gru_shuffle/no_shuffle\n",
      "sh transaction-generation/zhores/simple.sh gru_shuffle/test_hist_shuffle\n",
      "sh transaction-generation/zhores/simple.sh gru_shuffle/basic_shuffle\n",
      "sh transaction-generation/zhores/simple.sh gru_shuffle/no_shuffle_limit\n",
      "sh transaction-generation/zhores/simple.sh gru_shuffle/test_shuffle_limit\n",
      "sh transaction-generation/zhores/simple.sh gru_shuffle/basic_shuffle_limit\n",
      "sh transaction-generation/zhores/simple.sh gru_shuffle/head_shuffle_limit\n",
      "sh transaction-generation/zhores/simple.sh gru_shuffle/shuffle_pred\n",
      "✅ Generated 8 config files in '/home/transaction-generation/zhores/configs'\n",
      "sh zhores/simple_mega.sh gru_shuffle/no_shuffle\n",
      "sh zhores/simple_mega.sh gru_shuffle/test_hist_shuffle\n",
      "sh zhores/simple_mega.sh gru_shuffle/basic_shuffle\n",
      "sh zhores/simple_mega.sh gru_shuffle/no_shuffle_limit\n",
      "sh zhores/simple_mega.sh gru_shuffle/test_shuffle_limit\n",
      "sh zhores/simple_mega.sh gru_shuffle/basic_shuffle_limit\n",
      "sh zhores/simple_mega.sh gru_shuffle/head_shuffle_limit\n",
      "sh zhores/simple_mega.sh gru_shuffle/shuffle_pred\n"
     ]
    }
   ],
   "source": [
    "config_rows = str_to_df('''run_name\tdata_conf.max_seq_len\tdata_conf.train_transforms.shuffle.ShuffleBatch.untouched_slice\tdata_conf.val_transforms.shuffle.ShuffleBatch.untouched_slice\tloss.name\n",
    "gru_shuffle/no_shuffle\t1045\t[None, None]\t[None, None]\tbaseline\n",
    "gru_shuffle/test_hist_shuffle\t1045\t[None, None]\t[-32, None]\tbaseline\n",
    "gru_shuffle/basic_shuffle\t1045\t[0, None]\t[-32, None]\tbaseline\n",
    "gru_shuffle/no_shuffle_limit\t64\t[None, None]\t[None, None]\tbaseline\n",
    "gru_shuffle/test_shuffle_limit\t64\t[None, None]\t[-32, None]\tbaseline\n",
    "gru_shuffle/basic_shuffle_limit\t64\t[0, None]\t[-32, None]\tbaseline\n",
    "gru_shuffle/head_shuffle_limit\t64\t[-32, None]\t[-32, None]\ttail\n",
    "gru_shuffle/shuffle_pred\t1045\t[None, None]\t[None, -32]\tbaseline\n",
    "''')\n",
    "common_conf = {\n",
    "    \"runner.params.n_runs\": 2,\n",
    "}\n",
    "basic_conf = load_base_yaml(\"/home/transaction-generation/spec_config.yaml\")\n",
    "generate_configs(config_rows, common_conf, basic_conf)"
   ]
  }
 ],
 "metadata": {
  "kernelspec": {
   "display_name": "Python 3",
   "language": "python",
   "name": "python3"
  },
  "language_info": {
   "codemirror_mode": {
    "name": "ipython",
    "version": 3
   },
   "file_extension": ".py",
   "mimetype": "text/x-python",
   "name": "python",
   "nbconvert_exporter": "python",
   "pygments_lexer": "ipython3",
   "version": "3.10.12"
  }
 },
 "nbformat": 4,
 "nbformat_minor": 5
}
