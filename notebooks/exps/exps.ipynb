{
 "cells": [
  {
   "cell_type": "code",
   "execution_count": 1,
   "id": "394d1f10",
   "metadata": {},
   "outputs": [
    {
     "name": "stdout",
     "output_type": "stream",
     "text": [
      "/home/dev/2025/transaction-generation\n"
     ]
    },
    {
     "name": "stderr",
     "output_type": "stream",
     "text": [
      "/usr/local/lib/python3.10/dist-packages/IPython/core/magics/osm.py:417: UserWarning: using dhist requires you to install the `pickleshare` library.\n",
      "  self.shell.db['dhist'] = compress_dhist(dhist)[-100:]\n"
     ]
    }
   ],
   "source": [
    "cd /home/dev/2025/transaction-generation"
   ]
  },
  {
   "cell_type": "code",
   "execution_count": 2,
   "id": "de29976f",
   "metadata": {},
   "outputs": [],
   "source": [
    "from notebooks.exps.config_factory import load_base_yaml, generate_configs, str_to_df, collect_res, df_to_str, compare_yamls"
   ]
  },
  {
   "cell_type": "code",
   "execution_count": 3,
   "id": "e3f3643d",
   "metadata": {},
   "outputs": [],
   "source": [
    "import pandas as pd\n",
    "def str_to_df(s, sep='\\t'):\n",
    "    s = s.strip().split(\"\\n\")\n",
    "    df = pd.DataFrame(columns=s[0].split(\" ++ \"))\n",
    "    for i, line in enumerate(s[1:]):\n",
    "        line = line.split(\" ++ \")\n",
    "        df.loc[i] = line\n",
    "    for i in range(df.shape[0]):\n",
    "        for j in range(df.shape[1]):\n",
    "            try:\n",
    "                df.iloc[i, j] = eval(df.iloc[i, j])\n",
    "            except Exception:\n",
    "                pass\n",
    "    return df"
   ]
  },
  {
   "cell_type": "code",
   "execution_count": null,
   "id": "179945ea",
   "metadata": {},
   "outputs": [
    {
     "name": "stdout",
     "output_type": "stream",
     "text": [
      "{'config_factory': None, 'log_dir': 'log/generation/mbd', 'device': 'cuda:0', 'common_seed': 0, 'runner': {'name': 'GenerationTrainer', 'run_type': 'simple', 'seed_keys': ['common_seed'], 'params': {'n_runs': 1, 'n_workers': 1}, 'device_list': None}, 'logging': {'file_lvl': 'info', 'cons_lvl': 'info'}, 'trainer': {'total_iters': 1000000, 'total_epochs': None, 'ckpt_track_metric': 'Reconstruction overall', 'iters_per_epoch': None, 'patience': 10, 'profiling': False, 'verbose': True, 'ckpt_resume': None}, 'data_conf': {'cat_cardinalities': None, 'num_names': ['amount'], 'index_name': 'client_id', 'time_name': 'days_since_first_tx', 'focus_on': ['amount'], 'test_path': 'data/mbd-50k/test', 'train_path': 'data/mbd-50k/train', 'val_ratio': 0.15, 'num_workers': 4, 'train_resamples': 1, 'batch_size': 128, 'min_history_len': 32, 'generation_len': 32, 'max_seq_len': 1045, 'padding_value': 0, 'train_random_end': 'none', 'val_random_end': 'time', 'train_transforms': {'0': {'RescaleTime': {'loc': 0.0, 'scale': 365.0}}, '1': {'TimeToDiff': {'disable': False}}, 'ngrams': {'NGramTransform': {'model_path': 'data/mbd-50k/ngrams-mapper-32.pt', 'feature_name': 'event_type', 'feature_counts': 55, 'max_l': 1045, 'disable': True}}, 'log_tfs': {'Logarithm': {'names': ['amount']}}, '3': {'CutTargetSequence': {'target_len': 0}}}, 'val_transforms': {'0': {'RescaleTime': {'loc': 0.0, 'scale': 365.0}}, '1': {'TimeToDiff': {'disable': False}}, 'log_tfs': {'Logarithm': {'names': ['amount']}}, '3': {'CutTargetSequence': {'target_len': 32}}, 'ngrams': {'NGramTransform': {'model_path': 'data/mbd-50k/ngrams-mapper-32.pt', 'feature_name': 'event_type', 'feature_counts': 55, 'max_l': 1045, 'disable': True}}, 'shuffle_users': {'ShuffleUsers': {'shuffle': False}}}}, 'model': {'name': 'AutoregressiveGenerator', 'autoencoder': {'name': 'BaselineAE', 'params': {'cat_emb_dim': 16, 'num_emb_dim': 64, 'num_norm': True}, 'pretrain': False, 'frozen': False, 'checkpoint': 'none', 'batch_transforms': {'0': {'TimeToFeatures': {'process_type': 'cat'}}, 'set_features': 'Identity'}}, 'latent_encoder': {'name': 'GRU', 'params': {'hidden_size': 256, 'num_layers': 4}}}, 'optimizer': {'name': 'Adam', 'params': {'lr': 0.0015, 'weight_decay': 1e-09}}, 'schedulers': {'step': {'StepLR': {'step_size': 30}}}, 'loss': {'name': 'baseline', 'params': {'mse_weight': 0.07}}, 'optuna': {'params': {'n_trials': 70, 'n_startup_trials': 3, 'request_list': [{'optimizer.params.weight_decay': 1.5429769361370426e-13, 'optimizer.params.lr': 0.00016912601015410544, 'model.encoder.params.hidden_size': 164, 'model.encoder.params.num_layers': 3, 'model.encoder.params.dropout': 0.1831228989111418, \"model.preprocessor.batch_transforms.'0'.TimeToFeatures.process_type\": 'cat', 'model.preprocessor.num_norm': False, 'model.preprocessor.cat_emb_dim': 41, 'model.preprocessor.num_emb_dim': 60, 'loss.params.mse_weight': 0.5, 'data_conf.train_transforms.1.TimeToDiff.disable': True}], 'target_metric': 'Reconstruction overall'}, 'suggestions': [['optimizer.params.weight_decay', ['suggest_float', {'low': 1e-15, 'high': 0.001, 'log': True}]], ['optimizer.params.lr', ['suggest_float', {'low': 1e-05, 'high': 0.1, 'log': True}]], ['model.encoder.params.hidden_size', ['suggest_int', {'low': 10, 'high': 1200, 'log': True}]], ['model.encoder.params.num_layers', ['suggest_int', {'low': 1, 'high': 7, 'log': False}]], ['model.encoder.params.dropout', ['suggest_float', {'low': 1e-10, 'high': 0.3, 'log': True}]], ['model.preprocessor.batch_transforms.0.TimeToFeatures.process_type', ['suggest_categorical', {'choices': ['diff', 'cat', 'none']}]], [['data_conf.train_transforms.1.TimeToDiff.disable', 'data_conf.val_transforms.1.TimeToDiff.disable'], ['suggest_categorical', {'choices': [True, False]}]], ['model.preprocessor.num_norm', ['suggest_categorical', {'choices': [True, False]}]], ['model.preprocessor.cat_emb_dim', ['suggest_int', {'low': 1, 'high': 128, 'log': False}]], ['model.preprocessor.num_emb_dim', ['suggest_int', {'low': 1, 'high': 128, 'log': False}]], ['loss.params.mse_weight', ['suggest_float', {'low': 0, 'high': 1, 'log': False}]]]}, 'evaluator': {'devices': ['cuda:1', 'cuda:2'], 'metrics': ['Reconstruction', {'PR': {'target_key': 'event_type'}}, {'Levenshtein': {'target_key': 'event_type'}}, {'F1Metric': {'target_key': 'event_type', 'average': 'macro'}}, {'F1Metric': {'target_key': 'event_type', 'average': 'micro'}}, {'Density': {'log_cols': ['amount'], 'with_timediff': True, 'save_details': True, 'verbose': False}}]}}\n",
      "sh transaction-generation/zhores/simple.sh amount/event_type\n",
      "WARNING: /home/dev/2025/transaction-generation/zhores/configs/amount/event_type.yaml exists and content differs. {'evaluator.metrics': (['Reconstruction'], 'Reconstruction')}.\n",
      "✅ Generated 1 config files in '/home/dev/2025/transaction-generation/zhores/configs'\n",
      "sh zhores/simple_mega.sh amount/event_type\n"
     ]
    }
   ],
   "source": [
    "config_rows = str_to_df('''run_name ++ data_conf.num_names ++ data_conf.cat_cardinalities ++ data_conf.focus_on ++ evaluator.metrics ++ model.autoencoder.batch_transforms.set_features\n",
    "amount/event_type ++ ['amount'] ++ [['event_type', 55]] ++ ['amount'] ++ [Reconstruction] ++ {\"RemainOneFeatureToLearn: {\"cat_features\": [], \"num_features\": ['amount']}}\n",
    "''', sep=' ++ ')\n",
    "common_conf = {\n",
    "    \"runner.params.n_runs\": 2,\n",
    "    # \"data_conf.focus_on\": [\"event_type\"]\n",
    "}\n",
    "basic_conf = load_base_yaml(\"/home/dev/2025/transaction-generation/config.yaml\")"
   ]
  },
  {
   "cell_type": "code",
   "execution_count": null,
   "id": "fa936d2f",
   "metadata": {},
   "outputs": [],
   "source": []
  },
  {
   "cell_type": "code",
   "execution_count": null,
   "id": "774e99c5",
   "metadata": {},
   "outputs": [],
   "source": [
    "generate_configs(config_rows, common_conf, basic_conf, output_dir=\"/home/dev/2025/transaction-generation/zhores/configs\")\n"
   ]
  },
  {
   "cell_type": "code",
   "execution_count": null,
   "id": "0a6a8a3e",
   "metadata": {},
   "outputs": [
    {
     "ename": "KeyError",
     "evalue": "'run_name'",
     "output_type": "error",
     "traceback": [
      "\u001b[0;31m---------------------------------------------------------------------------\u001b[0m",
      "\u001b[0;31mKeyError\u001b[0m                                  Traceback (most recent call last)",
      "Cell \u001b[0;32mIn[36], line 9\u001b[0m\n\u001b[1;32m      4\u001b[0m common_conf \u001b[38;5;241m=\u001b[39m {\n\u001b[1;32m      5\u001b[0m     \u001b[38;5;124m\"\u001b[39m\u001b[38;5;124mrunner.params.n_runs\u001b[39m\u001b[38;5;124m\"\u001b[39m: \u001b[38;5;241m2\u001b[39m,\n\u001b[1;32m      6\u001b[0m     \u001b[38;5;66;03m# \"data_conf.focus_on\": [\"event_type\"]\u001b[39;00m\n\u001b[1;32m      7\u001b[0m }\n\u001b[1;32m      8\u001b[0m basic_conf \u001b[38;5;241m=\u001b[39m load_base_yaml(\u001b[38;5;124m\"\u001b[39m\u001b[38;5;124m/home/dev/2025/transaction-generation/config.yaml\u001b[39m\u001b[38;5;124m\"\u001b[39m)\n\u001b[0;32m----> 9\u001b[0m \u001b[43mgenerate_configs\u001b[49m\u001b[43m(\u001b[49m\u001b[43mconfig_rows\u001b[49m\u001b[43m,\u001b[49m\u001b[43m \u001b[49m\u001b[43mcommon_conf\u001b[49m\u001b[43m,\u001b[49m\u001b[43m \u001b[49m\u001b[43mbasic_conf\u001b[49m\u001b[43m,\u001b[49m\u001b[43m \u001b[49m\u001b[43moutput_dir\u001b[49m\u001b[38;5;241;43m=\u001b[39;49m\u001b[38;5;124;43m\"\u001b[39;49m\u001b[38;5;124;43m/home/dev/2025/transaction-generation/zhores/configs\u001b[39;49m\u001b[38;5;124;43m\"\u001b[39;49m\u001b[43m)\u001b[49m\n",
      "File \u001b[0;32m/home/dev/2025/transaction-generation/notebooks/exps/config_factory.py:102\u001b[0m, in \u001b[0;36mgenerate_configs\u001b[0;34m(config_rows, common_conf, base_config, output_dir)\u001b[0m\n\u001b[1;32m    100\u001b[0m row \u001b[38;5;241m=\u001b[39m row\u001b[38;5;241m.\u001b[39mto_dict()\n\u001b[1;32m    101\u001b[0m row\u001b[38;5;241m.\u001b[39mupdate(common_conf)\n\u001b[0;32m--> 102\u001b[0m run_name \u001b[38;5;241m=\u001b[39m \u001b[43mrow\u001b[49m\u001b[43m[\u001b[49m\u001b[38;5;124;43m\"\u001b[39;49m\u001b[38;5;124;43mrun_name\u001b[39;49m\u001b[38;5;124;43m\"\u001b[39;49m\u001b[43m]\u001b[49m\n\u001b[1;32m    103\u001b[0m config \u001b[38;5;241m=\u001b[39m base_config\u001b[38;5;241m.\u001b[39mcopy()\n\u001b[1;32m    105\u001b[0m \u001b[38;5;66;03m# Set run name\u001b[39;00m\n",
      "\u001b[0;31mKeyError\u001b[0m: 'run_name'"
     ]
    }
   ],
   "source": [
    "config_rows = str_to_df('''run_name data_conf.num_names\n",
    "amount/event_type   ['amount']\n",
    "''')\n",
    "common_conf = {\n",
    "    \"runner.params.n_runs\": 2,\n",
    "    # \"data_conf.focus_on\": [\"event_type\"]\n",
    "}\n",
    "basic_conf = load_base_yaml(\"/home/dev/2025/transaction-generation/config.yaml\")\n",
    "generate_configs(config_rows, common_conf, basic_conf, output_dir=\"/home/dev/2025/transaction-generation/zhores/configs\")"
   ]
  },
  {
   "cell_type": "code",
   "execution_count": 5,
   "id": "1495e00c",
   "metadata": {},
   "outputs": [],
   "source": [
    "# config_rows[\"run_name\"] = config_rows[\"run_name\"].str.replace(\"len\", \"len_old\")\n",
    "config_rows.loc[6] = {\"run_name\": \"hist_len/full_train_33_val\", \"data_conf.max_seq_len\": 33}"
   ]
  },
  {
   "cell_type": "code",
   "execution_count": 6,
   "id": "62099c06",
   "metadata": {},
   "outputs": [
    {
     "name": "stdout",
     "output_type": "stream",
     "text": [
      "run_name\tdata_conf.max_seq_len\ttest_Reconstruction overall\ttest_Reconstruction overall_std\ttest_Reconstruction event_type\ttest_F1_macro on event_type\ttest_F1_micro on event_type\n",
      "hist_len/33\t33\t-3,113789153160522\t1,4176234054411647\t0,4473422352922886\t0,1884065007855574\t0,4495562765005891\n",
      "hist_len/64\t64\t-0,9192381663541508\t0,203680866827878\t0,474336566569265\t0,1981738905368079\t0,4804777592162543\n",
      "hist_len/128\t128\t-2,8073141344591632\t1,8230455736736508\t0,4751193898854601\t0,1987590799698307\t0,4816197767114055\n",
      "hist_len/256\t256\t0,5737644999737526\t0,0614649497522162\t0,5153446199496978\t0,2131551317178197\t0,5273745833186865\n",
      "hist_len/512\t512\t0,5667375934681524\t0,0401673176846223\t0,5153073932242254\t0,2125140534767633\t0,5267226470536248\n",
      "hist_len/1045\t1045\t0,5896790182171521\t0,0078854769188361\t0,5157323573062194\t0,211917699329843\t0,5262053940297504\n",
      "hist_len/full_train_33_val\t33\t-3656,022326359088\t0,0\t0,439594475721323\t0,181858267141067\t0,4400439831104856\n",
      "\n"
     ]
    }
   ],
   "source": [
    "cols = [\"test_Reconstruction overall\", \"test_Reconstruction overall_std\", \"test_Reconstruction event_type\", \"test_F1_macro on event_type\", \"test_F1_micro on event_type\"]\n",
    "print(df_to_str(collect_res(config_rows, cols)))"
   ]
  },
  {
   "cell_type": "code",
   "execution_count": 22,
   "id": "9d7e2d65",
   "metadata": {},
   "outputs": [
    {
     "ename": "FileNotFoundError",
     "evalue": "[Errno 2] No such file or directory: '/home/transaction-generation/config.yaml'",
     "output_type": "error",
     "traceback": [
      "\u001b[0;31m---------------------------------------------------------------------------\u001b[0m",
      "\u001b[0;31mFileNotFoundError\u001b[0m                         Traceback (most recent call last)",
      "Cell \u001b[0;32mIn[22], line 15\u001b[0m\n\u001b[1;32m      1\u001b[0m config_rows \u001b[38;5;241m=\u001b[39m str_to_df(\u001b[38;5;124m'''\u001b[39m\u001b[38;5;124mrun_name\tdata_conf.max_seq_len\tdata_conf.train_transforms.shuffle.ShuffleBatch.untouched_slice\tdata_conf.val_transforms.shuffle.ShuffleBatch.untouched_slice\tloss.name\u001b[39m\n\u001b[1;32m      2\u001b[0m \u001b[38;5;124mevent_type/gru_shuffle/no_shuffle\t1045\t[None, None]\t[None, None]\tbaseline\u001b[39m\n\u001b[1;32m      3\u001b[0m \u001b[38;5;124mevent_type/gru_shuffle/test_hist_shuffle\t1045\t[None, None]\t[-32, None]\tbaseline\u001b[39m\n\u001b[0;32m   (...)\u001b[0m\n\u001b[1;32m      9\u001b[0m \u001b[38;5;124mevent_type/gru_shuffle/shuffle_pred\t1045\t[None, None]\t[None, -32]\tbaseline\u001b[39m\n\u001b[1;32m     10\u001b[0m \u001b[38;5;124m'''\u001b[39m)\n\u001b[1;32m     11\u001b[0m common_conf \u001b[38;5;241m=\u001b[39m {\n\u001b[1;32m     12\u001b[0m     \u001b[38;5;124m\"\u001b[39m\u001b[38;5;124mrunner.params.n_runs\u001b[39m\u001b[38;5;124m\"\u001b[39m: \u001b[38;5;241m2\u001b[39m,\n\u001b[1;32m     13\u001b[0m     \u001b[38;5;124m\"\u001b[39m\u001b[38;5;124mdata_conf.focus_on\u001b[39m\u001b[38;5;124m\"\u001b[39m: [\u001b[38;5;124m\"\u001b[39m\u001b[38;5;124mevent_type\u001b[39m\u001b[38;5;124m\"\u001b[39m]\n\u001b[1;32m     14\u001b[0m }\n\u001b[0;32m---> 15\u001b[0m basic_conf \u001b[38;5;241m=\u001b[39m \u001b[43mload_base_yaml\u001b[49m\u001b[43m(\u001b[49m\u001b[38;5;124;43m\"\u001b[39;49m\u001b[38;5;124;43m/home/transaction-generation/config.yaml\u001b[39;49m\u001b[38;5;124;43m\"\u001b[39;49m\u001b[43m)\u001b[49m\n\u001b[1;32m     16\u001b[0m generate_configs(config_rows, common_conf, basic_conf)\n",
      "File \u001b[0;32m/home/dev/2025/transaction-generation/notebooks/exps/config_factory.py:8\u001b[0m, in \u001b[0;36mload_base_yaml\u001b[0;34m(path)\u001b[0m\n\u001b[1;32m      7\u001b[0m \u001b[38;5;28;01mdef\u001b[39;00m \u001b[38;5;21mload_base_yaml\u001b[39m(path):\n\u001b[0;32m----> 8\u001b[0m     \u001b[38;5;28;01mwith\u001b[39;00m \u001b[38;5;28;43mopen\u001b[39;49m\u001b[43m(\u001b[49m\u001b[43mpath\u001b[49m\u001b[43m,\u001b[49m\u001b[43m \u001b[49m\u001b[38;5;124;43m\"\u001b[39;49m\u001b[38;5;124;43mr\u001b[39;49m\u001b[38;5;124;43m\"\u001b[39;49m\u001b[43m)\u001b[49m \u001b[38;5;28;01mas\u001b[39;00m f:\n\u001b[1;32m      9\u001b[0m         config_factory \u001b[38;5;241m=\u001b[39m yaml\u001b[38;5;241m.\u001b[39msafe_load(f)\u001b[38;5;241m.\u001b[39mget(\u001b[38;5;124m\"\u001b[39m\u001b[38;5;124mconfig_factory\u001b[39m\u001b[38;5;124m\"\u001b[39m, \u001b[38;5;28;01mNone\u001b[39;00m)\n\u001b[1;32m     11\u001b[0m     config_paths \u001b[38;5;241m=\u001b[39m [path]\n",
      "\u001b[0;31mFileNotFoundError\u001b[0m: [Errno 2] No such file or directory: '/home/transaction-generation/config.yaml'"
     ]
    }
   ],
   "source": [
    "config_rows = str_to_df('''run_name\tdata_conf.max_seq_len\tdata_conf.train_transforms.shuffle.ShuffleBatch.untouched_slice\tdata_conf.val_transforms.shuffle.ShuffleBatch.untouched_slice\tloss.name\n",
    "event_type/gru_shuffle/no_shuffle\t1045\t[None, None]\t[None, None]\tbaseline\n",
    "event_type/gru_shuffle/test_hist_shuffle\t1045\t[None, None]\t[-32, None]\tbaseline\n",
    "event_type/gru_shuffle/basic_shuffle\t1045\t[0, None]\t[-32, None]\tbaseline\n",
    "event_type/gru_shuffle/no_shuffle_limit\t64\t[None, None]\t[None, None]\tbaseline\n",
    "event_type/gru_shuffle/test_hist_shuffle_limit\t64\t[None, None]\t[-32, None]\tbaseline\n",
    "event_type/gru_shuffle/basic_shuffle_limit\t64\t[0, None]\t[-32, None]\tbaseline\n",
    "event_type/gru_shuffle/head_shuffle_limit\t64\t[-32, None]\t[-32, None]\ttail\n",
    "event_type/gru_shuffle/shuffle_pred\t1045\t[None, None]\t[None, -32]\tbaseline\n",
    "''')\n",
    "common_conf = {\n",
    "    \"runner.params.n_runs\": 2,\n",
    "    \"data_conf.focus_on\": [\"event_type\"]\n",
    "}\n",
    "basic_conf = load_base_yaml(\"/home/transaction-generation/config.yaml\")\n",
    "generate_configs(config_rows, common_conf, basic_conf)"
   ]
  },
  {
   "cell_type": "code",
   "execution_count": 9,
   "id": "61a87bd5",
   "metadata": {},
   "outputs": [],
   "source": [
    "config_rows.loc[8] = {\"run_name\": \"event_type/gru_shuffle/shuffle_pred_real\"}"
   ]
  },
  {
   "cell_type": "code",
   "execution_count": 10,
   "id": "0cc44c70",
   "metadata": {},
   "outputs": [
    {
     "name": "stdout",
     "output_type": "stream",
     "text": [
      "run_name\tdata_conf.max_seq_len\tdata_conf.train_transforms.shuffle.ShuffleBatch.untouched_slice\tdata_conf.val_transforms.shuffle.ShuffleBatch.untouched_slice\tloss.name\ttest_Reconstruction event_type\ttest_Reconstruction event_type_std\ttest_F1_macro on event_type\ttest_F1_micro on event_type\n",
      "event_type/gru_shuffle/no_shuffle\t1045\t[None, None]\t[None, None]\tbaseline\t0,4997503539599101\t0,0079000682779505\t0,2259678623416904\t0,5316181120239498\n",
      "event_type/gru_shuffle/test_hist_shuffle\t1045\t[None, None]\t[-32, None]\tbaseline\t0,4955031405214821\t0,0073927074728879\t0,2260842366954877\t0,5288709338352093\n",
      "event_type/gru_shuffle/basic_shuffle\t1045\t[0, None]\t[-32, None]\tbaseline\t0,5183340221872536\t0,0007476104658076\t0,207766155272697\t0,522256871631362\n",
      "event_type/gru_shuffle/no_shuffle_limit\t64\t[None, None]\t[None, None]\tbaseline\t0,5049566669448091\t0,0037198618779548\t0,2091703073653878\t0,5137708164371042\n",
      "event_type/gru_shuffle/test_hist_shuffle_limit\t64\t[None, None]\t[-32, None]\tbaseline\t0,5043174620323518\t0,0033911777255256\t0,2084018261829623\t0,5125860837328945\n",
      "event_type/gru_shuffle/basic_shuffle_limit\t64\t[0, None]\t[-32, None]\tbaseline\t0,5130496423163176\t4,73551945723294e-05\t0,2086909398831037\t0,5195330629628141\n",
      "event_type/gru_shuffle/head_shuffle_limit\t64\t[-32, None]\t[-32, None]\ttail\t0,5087099016081122\t0,0009451232829891\t0,2119849595420471\t0,5187877465258692\n",
      "event_type/gru_shuffle/shuffle_pred\t1045\t[None, None]\t[None, -32]\tbaseline\t0,4997503539599101\t0,0079000682779505\t0,2259678623416904\t0,5316181120239498\n",
      "event_type/gru_shuffle/shuffle_pred_real\tnan\tnan\tnan\tnan\t0,5072598522167487\t0,0\t0,2256164610210073\t0,5330568261787474\n",
      "\n"
     ]
    }
   ],
   "source": [
    "cols = [\"test_Reconstruction event_type\", \"test_Reconstruction event_type_std\", \"test_F1_macro on event_type\", \"test_F1_micro on event_type\"]\n",
    "print(df_to_str(collect_res(config_rows, cols)))"
   ]
  },
  {
   "cell_type": "code",
   "execution_count": 11,
   "id": "52d41c9c",
   "metadata": {},
   "outputs": [
    {
     "name": "stdout",
     "output_type": "stream",
     "text": [
      "sh transaction-generation/zhores/simple.sh gru_shuffle/no_shuffle\n",
      "sh transaction-generation/zhores/simple.sh gru_shuffle/test_hist_shuffle\n",
      "sh transaction-generation/zhores/simple.sh gru_shuffle/basic_shuffle\n",
      "sh transaction-generation/zhores/simple.sh gru_shuffle/no_shuffle_limit\n",
      "sh transaction-generation/zhores/simple.sh gru_shuffle/test_shuffle_limit\n",
      "sh transaction-generation/zhores/simple.sh gru_shuffle/basic_shuffle_limit\n",
      "sh transaction-generation/zhores/simple.sh gru_shuffle/head_shuffle_limit\n",
      "sh transaction-generation/zhores/simple.sh gru_shuffle/shuffle_pred\n",
      "✅ Generated 8 config files in '/home/transaction-generation/zhores/configs'\n",
      "sh zhores/simple_mega.sh gru_shuffle/no_shuffle\n",
      "sh zhores/simple_mega.sh gru_shuffle/test_hist_shuffle\n",
      "sh zhores/simple_mega.sh gru_shuffle/basic_shuffle\n",
      "sh zhores/simple_mega.sh gru_shuffle/no_shuffle_limit\n",
      "sh zhores/simple_mega.sh gru_shuffle/test_shuffle_limit\n",
      "sh zhores/simple_mega.sh gru_shuffle/basic_shuffle_limit\n",
      "sh zhores/simple_mega.sh gru_shuffle/head_shuffle_limit\n",
      "sh zhores/simple_mega.sh gru_shuffle/shuffle_pred\n"
     ]
    }
   ],
   "source": [
    "config_rows = str_to_df('''run_name\tdata_conf.max_seq_len\tdata_conf.train_transforms.shuffle.ShuffleBatch.untouched_slice\tdata_conf.val_transforms.shuffle.ShuffleBatch.untouched_slice\tloss.name\n",
    "gru_shuffle/no_shuffle\t1045\t[None, None]\t[None, None]\tbaseline\n",
    "gru_shuffle/test_hist_shuffle\t1045\t[None, None]\t[-32, None]\tbaseline\n",
    "gru_shuffle/basic_shuffle\t1045\t[0, None]\t[-32, None]\tbaseline\n",
    "gru_shuffle/no_shuffle_limit\t64\t[None, None]\t[None, None]\tbaseline\n",
    "gru_shuffle/test_shuffle_limit\t64\t[None, None]\t[-32, None]\tbaseline\n",
    "gru_shuffle/basic_shuffle_limit\t64\t[0, None]\t[-32, None]\tbaseline\n",
    "gru_shuffle/head_shuffle_limit\t64\t[-32, None]\t[-32, None]\ttail\n",
    "gru_shuffle/shuffle_pred\t1045\t[None, None]\t[None, -32]\tbaseline\n",
    "''')\n",
    "common_conf = {\n",
    "    \"runner.params.n_runs\": 2,\n",
    "}\n",
    "basic_conf = load_base_yaml(\"/home/transaction-generation/config.yaml\")\n",
    "generate_configs(config_rows, common_conf, basic_conf)"
   ]
  },
  {
   "cell_type": "code",
   "execution_count": 12,
   "id": "69f57ce6",
   "metadata": {},
   "outputs": [],
   "source": [
    "config_rows.loc[8] = {\"run_name\": \"gru_shuffle/shuffle_pred_real\"}"
   ]
  },
  {
   "cell_type": "code",
   "execution_count": 13,
   "id": "a5d46904",
   "metadata": {},
   "outputs": [
    {
     "name": "stdout",
     "output_type": "stream",
     "text": [
      "run_name\tdata_conf.max_seq_len\tdata_conf.train_transforms.shuffle.ShuffleBatch.untouched_slice\tdata_conf.val_transforms.shuffle.ShuffleBatch.untouched_slice\tloss.name\ttest_Reconstruction overall\ttest_Reconstruction overall_std\ttest_Reconstruction event_type\ttest_F1_macro on event_type\ttest_F1_micro on event_type\n",
      "gru_shuffle/no_shuffle\t1045\t[None, None]\t[None, None]\tbaseline\t0,626950538500848\t0,0348298597198615\t0,5165842942072534\t0,2141471924652556\t0,529716285984141\n",
      "gru_shuffle/test_hist_shuffle\t1045\t[None, None]\t[-32, None]\tbaseline\t0,398332970957412\t0,2377677390287732\t0,5119249446544822\t0,2127402166075434\t0,5248385525745295\n",
      "gru_shuffle/basic_shuffle\t1045\t[0, None]\t[-32, None]\tbaseline\t0,4147420273943289\t0,1587370093397339\t0,514614198738848\t0,2065546753726739\t0,5184586539801697\n",
      "gru_shuffle/no_shuffle_limit\t64\t[None, None]\t[None, None]\tbaseline\t-0,3827377440691157\t0,3215921002042922\t0,4923006256947674\t0,2050625980120491\t0,5004751565442429\n",
      "gru_shuffle/test_shuffle_limit\t64\t[None, None]\t[-32, None]\tbaseline\t-1,5135361060403174\t0,5643665096451447\t0,4755026960748504\t0,1985065453671077\t0,481725633486175\n",
      "gru_shuffle/basic_shuffle_limit\t64\t[0, None]\t[-32, None]\tbaseline\t-157,6949467754568\t152,16877058037468\t0,4855276957842339\t0,2000541522722578\t0,4905141840219105\n",
      "gru_shuffle/head_shuffle_limit\t64\t[-32, None]\t[-32, None]\ttail\t-0,3644661151675412\t0,3061790454163725\t0,4932747303442447\t0,204409195801699\t0,5007191324778951\n",
      "gru_shuffle/shuffle_pred\t1045\t[None, None]\t[None, -32]\tbaseline\t0,626950538500848\t0,0348298597198615\t0,5165842942072534\t0,2141471924652556\t0,529716285984141\n",
      "gru_shuffle/shuffle_pred_real\tnan\tnan\tnan\tnan\t0,6613302315540982\t0,0\t0,5193235397607319\t0,2155119102162733\t0,533091133004926\n",
      "\n"
     ]
    }
   ],
   "source": [
    "cols = [\"test_Reconstruction overall\", \"test_Reconstruction overall_std\", \"test_Reconstruction event_type\", \"test_F1_macro on event_type\", \"test_F1_micro on event_type\"]\n",
    "print(df_to_str(collect_res(config_rows, cols)))"
   ]
  }
 ],
 "metadata": {
  "kernelspec": {
   "display_name": "Python 3",
   "language": "python",
   "name": "python3"
  },
  "language_info": {
   "codemirror_mode": {
    "name": "ipython",
    "version": 3
   },
   "file_extension": ".py",
   "mimetype": "text/x-python",
   "name": "python",
   "nbconvert_exporter": "python",
   "pygments_lexer": "ipython3",
   "version": "3.10.12"
  }
 },
 "nbformat": 4,
 "nbformat_minor": 5
}
