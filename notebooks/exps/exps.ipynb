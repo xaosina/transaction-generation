{
 "cells": [
  {
   "cell_type": "code",
   "execution_count": 1,
   "id": "394d1f10",
   "metadata": {},
   "outputs": [
    {
     "name": "stdout",
     "output_type": "stream",
     "text": [
      "/home/transaction-generation\n"
     ]
    },
    {
     "name": "stderr",
     "output_type": "stream",
     "text": [
      "/usr/local/lib/python3.10/dist-packages/IPython/core/magics/osm.py:417: UserWarning: using dhist requires you to install the `pickleshare` library.\n",
      "  self.shell.db['dhist'] = compress_dhist(dhist)[-100:]\n"
     ]
    }
   ],
   "source": [
    "cd /home/transaction-generation"
   ]
  },
  {
   "cell_type": "code",
   "execution_count": 2,
   "id": "de29976f",
   "metadata": {},
   "outputs": [],
   "source": [
    "from notebooks.exps.config_factory import load_base_yaml, generate_configs, str_to_df, df_to_str"
   ]
  },
  {
   "cell_type": "code",
   "execution_count": 5,
   "id": "179945ea",
   "metadata": {},
   "outputs": [
    {
     "name": "stdout",
     "output_type": "stream",
     "text": [
      "sh transaction-generation/zhores/simple.sh hist_len/33\n",
      "sh transaction-generation/zhores/simple.sh hist_len/64\n",
      "sh transaction-generation/zhores/simple.sh hist_len/128\n",
      "sh transaction-generation/zhores/simple.sh hist_len/256\n",
      "sh transaction-generation/zhores/simple.sh hist_len/512\n",
      "sh transaction-generation/zhores/simple.sh hist_len/1045\n",
      "✅ Generated 6 config files in '/home/transaction-generation/zhores/configs'\n"
     ]
    }
   ],
   "source": [
    "config_rows = str_to_df('''run_name\tdata_conf.max_seq_len\n",
    "hist_len/33\t33\n",
    "hist_len/64\t64\n",
    "hist_len/128\t128\n",
    "hist_len/256\t256\n",
    "hist_len/512\t512\n",
    "hist_len/1045\t1045\n",
    "''')\n",
    "common_conf = {\n",
    "    \"runner.params.n_runs\": 2,\n",
    "    # \"data_conf.focus_on\": [\"event_type\"]\n",
    "}\n",
    "basic_conf = load_base_yaml(\"/home/transaction-generation/spec_config.yaml\")\n",
    "generate_configs(config_rows, common_conf, basic_conf)"
   ]
  },
  {
   "cell_type": "code",
   "execution_count": 7,
   "id": "9d7e2d65",
   "metadata": {},
   "outputs": [
    {
     "name": "stdout",
     "output_type": "stream",
     "text": [
      "sh transaction-generation/zhores/simple.sh event_type/gru_shuffle/no_shuffle\n",
      "sh transaction-generation/zhores/simple.sh event_type/gru_shuffle/test_hist_shuffle\n",
      "sh transaction-generation/zhores/simple.sh event_type/gru_shuffle/basic_shuffle\n",
      "sh transaction-generation/zhores/simple.sh event_type/gru_shuffle/no_shuffle_limit\n",
      "sh transaction-generation/zhores/simple.sh event_type/gru_shuffle/test_hist_shuffle_limit\n",
      "sh transaction-generation/zhores/simple.sh event_type/gru_shuffle/basic_shuffle_limit\n",
      "sh transaction-generation/zhores/simple.sh event_type/gru_shuffle/head_shuffle_limit\n",
      "sh transaction-generation/zhores/simple.sh event_type/gru_shuffle/shuffle_pred\n",
      "✅ Generated 8 config files in '/home/transaction-generation/zhores/configs'\n"
     ]
    }
   ],
   "source": [
    "config_rows = str_to_df('''run_name\tdata_conf.max_seq_len\tdata_conf.train_transforms.shuffle.ShuffleBatch.untouched_slice\tdata_conf.val_transforms.shuffle.ShuffleBatch.untouched_slice\tloss.name\n",
    "event_type/gru_shuffle/no_shuffle\t1045\t[None, None]\t[None, None]\tbaseline\n",
    "event_type/gru_shuffle/test_hist_shuffle\t1045\t[None, None]\t[-32, None]\tbaseline\n",
    "event_type/gru_shuffle/basic_shuffle\t1045\t[0, None]\t[-32, None]\tbaseline\n",
    "event_type/gru_shuffle/no_shuffle_limit\t64\t[None, None]\t[None, None]\tbaseline\n",
    "event_type/gru_shuffle/test_hist_shuffle_limit\t64\t[None, None]\t[-32, None]\tbaseline\n",
    "event_type/gru_shuffle/basic_shuffle_limit\t64\t[0, None]\t[-32, None]\tbaseline\n",
    "event_type/gru_shuffle/head_shuffle_limit\t64\t[-32, None]\t[-32, None]\ttail\n",
    "event_type/gru_shuffle/shuffle_pred\t1045\t[None, None]\t[None, -32]\tbaseline\n",
    "''')\n",
    "common_conf = {\n",
    "    \"runner.params.n_runs\": 2,\n",
    "    \"data_conf.focus_on\": [\"event_type\"]\n",
    "}\n",
    "basic_conf = load_base_yaml(\"/home/transaction-generation/spec_config.yaml\")\n",
    "generate_configs(config_rows, common_conf, basic_conf)"
   ]
  },
  {
   "cell_type": "code",
   "execution_count": 8,
   "id": "52d41c9c",
   "metadata": {},
   "outputs": [
    {
     "name": "stdout",
     "output_type": "stream",
     "text": [
      "sh transaction-generation/zhores/simple.sh gru_shuffle/no_shuffle\n",
      "sh transaction-generation/zhores/simple.sh gru_shuffle/test_hist_shuffle\n",
      "sh transaction-generation/zhores/simple.sh gru_shuffle/basic_shuffle\n",
      "sh transaction-generation/zhores/simple.sh gru_shuffle/no_shuffle_limit\n",
      "sh transaction-generation/zhores/simple.sh gru_shuffle/test_shuffle_limit\n",
      "sh transaction-generation/zhores/simple.sh gru_shuffle/basic_shuffle_limit\n",
      "sh transaction-generation/zhores/simple.sh gru_shuffle/head_shuffle_limit\n",
      "sh transaction-generation/zhores/simple.sh event_type/gru_shuffle/shuffle_pred\n",
      "✅ Generated 8 config files in '/home/transaction-generation/zhores/configs'\n"
     ]
    }
   ],
   "source": [
    "config_rows = str_to_df('''run_name\tdata_conf.max_seq_len\tdata_conf.train_transforms.shuffle.ShuffleBatch.untouched_slice\tdata_conf.val_transforms.shuffle.ShuffleBatch.untouched_slice\tloss.name\n",
    "gru_shuffle/no_shuffle\t1045\t[None, None]\t[None, None]\tbaseline\n",
    "gru_shuffle/test_hist_shuffle\t1045\t[None, None]\t[-32, None]\tbaseline\n",
    "gru_shuffle/basic_shuffle\t1045\t[0, None]\t[-32, None]\tbaseline\n",
    "gru_shuffle/no_shuffle_limit\t64\t[None, None]\t[None, None]\tbaseline\n",
    "gru_shuffle/test_shuffle_limit\t64\t[None, None]\t[-32, None]\tbaseline\n",
    "gru_shuffle/basic_shuffle_limit\t64\t[0, None]\t[-32, None]\tbaseline\n",
    "gru_shuffle/head_shuffle_limit\t64\t[-32, None]\t[-32, None]\ttail\n",
    "event_type/gru_shuffle/shuffle_pred\t1045\t[None, None]\t[None, -32]\tbaseline\n",
    "''')\n",
    "common_conf = {\n",
    "    \"runner.params.n_runs\": 2,\n",
    "}\n",
    "basic_conf = load_base_yaml(\"/home/transaction-generation/spec_config.yaml\")\n",
    "generate_configs(config_rows, common_conf, basic_conf)"
   ]
  }
 ],
 "metadata": {
  "kernelspec": {
   "display_name": "Python 3",
   "language": "python",
   "name": "python3"
  },
  "language_info": {
   "codemirror_mode": {
    "name": "ipython",
    "version": 3
   },
   "file_extension": ".py",
   "mimetype": "text/x-python",
   "name": "python",
   "nbconvert_exporter": "python",
   "pygments_lexer": "ipython3",
   "version": "3.10.12"
  }
 },
 "nbformat": 4,
 "nbformat_minor": 5
}
