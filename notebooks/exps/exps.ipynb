{
 "cells": [
  {
   "cell_type": "code",
   "execution_count": 1,
   "id": "394d1f10",
   "metadata": {},
   "outputs": [
    {
     "name": "stdout",
     "output_type": "stream",
     "text": [
      "/home/transaction-generation\n"
     ]
    },
    {
     "name": "stderr",
     "output_type": "stream",
     "text": [
      "/usr/local/lib/python3.10/dist-packages/IPython/core/magics/osm.py:417: UserWarning: using dhist requires you to install the `pickleshare` library.\n",
      "  self.shell.db['dhist'] = compress_dhist(dhist)[-100:]\n"
     ]
    }
   ],
   "source": [
    "cd /home/transaction-generation"
   ]
  },
  {
   "cell_type": "code",
   "execution_count": 2,
   "id": "de29976f",
   "metadata": {},
   "outputs": [],
   "source": [
    "from notebooks.exps.config_factory import load_base_yaml, generate_configs, str_to_df, collect_res, df_to_str, compare_yamls"
   ]
  },
  {
   "cell_type": "code",
   "execution_count": 6,
   "id": "179945ea",
   "metadata": {},
   "outputs": [
    {
     "name": "stdout",
     "output_type": "stream",
     "text": [
      "sh transaction-generation/zhores/simple.sh hist_len/33\n",
      "sh transaction-generation/zhores/simple.sh hist_len/64\n",
      "sh transaction-generation/zhores/simple.sh hist_len/128\n",
      "sh transaction-generation/zhores/simple.sh hist_len/256\n",
      "sh transaction-generation/zhores/simple.sh hist_len/512\n",
      "✅ Generated 5 config files in '/home/transaction-generation/zhores/configs'\n",
      "sh zhores/simple_mega.sh hist_len/33\n",
      "sh zhores/simple_mega.sh hist_len/64\n",
      "sh zhores/simple_mega.sh hist_len/128\n",
      "sh zhores/simple_mega.sh hist_len/256\n",
      "sh zhores/simple_mega.sh hist_len/512\n"
     ]
    }
   ],
   "source": [
    "config_rows = str_to_df('''run_name\tdata_conf.max_seq_len\n",
    "hist_len/33\t33\n",
    "hist_len/64\t64\n",
    "hist_len/128\t128\n",
    "hist_len/256\t256\n",
    "hist_len/512\t512\n",
    "''')\n",
    "common_conf = {\n",
    "    \"runner.params.n_runs\": 2,\n",
    "    # \"data_conf.focus_on\": [\"event_type\"]\n",
    "}\n",
    "basic_conf = load_base_yaml(\"/home/transaction-generation/config.yaml\")\n",
    "generate_configs(config_rows, common_conf, basic_conf)"
   ]
  },
  {
   "cell_type": "code",
   "execution_count": 7,
   "id": "1495e00c",
   "metadata": {},
   "outputs": [],
   "source": [
    "config_rows[\"run_name\"] = config_rows[\"run_name\"].str.replace(\"len\", \"len_old\")"
   ]
  },
  {
   "cell_type": "code",
   "execution_count": 8,
   "id": "62099c06",
   "metadata": {},
   "outputs": [
    {
     "name": "stdout",
     "output_type": "stream",
     "text": [
      "test_Reconstruction overall\ttest_Reconstruction event_type\ttest_F1_macro on event_type\ttest_F1_micro on event_type\n",
      "-66,37324665024651\t0,4576002371903128\t0,1919485760956575\t0,4605120132686721\n",
      "-0,869052770401541\t0,4921686264136052\t0,2033083186794389\t0,498665825453082\n",
      "-1,4471603664567745\t0,5004749662252906\t0,2063124201978275\t0,5084533707071419\n",
      "0,5518167954665067\t0,5232082874948889\t0,2079593557620291\t0,525582483606942\n",
      "0,5855960608525703\t0,5244235200863951\t0,2087546955012843\t0,5275832524616708\n",
      "\n"
     ]
    },
    {
     "name": "stderr",
     "output_type": "stream",
     "text": [
      "/home/transaction-generation/notebooks/exps/config_factory.py:139: SettingWithCopyWarning: \n",
      "A value is trying to be set on a copy of a slice from a DataFrame\n",
      "\n",
      "See the caveats in the documentation: https://pandas.pydata.org/pandas-docs/stable/user_guide/indexing.html#returning-a-view-versus-a-copy\n",
      "  new_res.loc[i, test_cols] = df.loc[test_cols, \"mean\"]\n"
     ]
    }
   ],
   "source": [
    "cols = [\"test_Reconstruction overall\", \"test_Reconstruction event_type\", \"test_F1_macro on event_type\", \"test_F1_micro on event_type\"]\n",
    "print(df_to_str(collect_res(config_rows, cols)))"
   ]
  },
  {
   "cell_type": "code",
   "execution_count": 5,
   "id": "9d7e2d65",
   "metadata": {},
   "outputs": [
    {
     "name": "stdout",
     "output_type": "stream",
     "text": [
      "sh transaction-generation/zhores/simple.sh event_type/gru_shuffle/no_shuffle\n",
      "sh transaction-generation/zhores/simple.sh event_type/gru_shuffle/test_hist_shuffle\n",
      "sh transaction-generation/zhores/simple.sh event_type/gru_shuffle/basic_shuffle\n",
      "sh transaction-generation/zhores/simple.sh event_type/gru_shuffle/no_shuffle_limit\n",
      "sh transaction-generation/zhores/simple.sh event_type/gru_shuffle/test_hist_shuffle_limit\n",
      "sh transaction-generation/zhores/simple.sh event_type/gru_shuffle/basic_shuffle_limit\n",
      "sh transaction-generation/zhores/simple.sh event_type/gru_shuffle/head_shuffle_limit\n",
      "sh transaction-generation/zhores/simple.sh event_type/gru_shuffle/shuffle_pred\n",
      "✅ Generated 8 config files in '/home/transaction-generation/zhores/configs'\n",
      "sh zhores/simple_mega.sh event_type/gru_shuffle/no_shuffle\n",
      "sh zhores/simple_mega.sh event_type/gru_shuffle/test_hist_shuffle\n",
      "sh zhores/simple_mega.sh event_type/gru_shuffle/basic_shuffle\n",
      "sh zhores/simple_mega.sh event_type/gru_shuffle/no_shuffle_limit\n",
      "sh zhores/simple_mega.sh event_type/gru_shuffle/test_hist_shuffle_limit\n",
      "sh zhores/simple_mega.sh event_type/gru_shuffle/basic_shuffle_limit\n",
      "sh zhores/simple_mega.sh event_type/gru_shuffle/head_shuffle_limit\n",
      "sh zhores/simple_mega.sh event_type/gru_shuffle/shuffle_pred\n"
     ]
    }
   ],
   "source": [
    "config_rows = str_to_df('''run_name\tdata_conf.max_seq_len\tdata_conf.train_transforms.shuffle.ShuffleBatch.untouched_slice\tdata_conf.val_transforms.shuffle.ShuffleBatch.untouched_slice\tloss.name\n",
    "event_type/gru_shuffle/no_shuffle\t1045\t[None, None]\t[None, None]\tbaseline\n",
    "event_type/gru_shuffle/test_hist_shuffle\t1045\t[None, None]\t[-32, None]\tbaseline\n",
    "event_type/gru_shuffle/basic_shuffle\t1045\t[0, None]\t[-32, None]\tbaseline\n",
    "event_type/gru_shuffle/no_shuffle_limit\t64\t[None, None]\t[None, None]\tbaseline\n",
    "event_type/gru_shuffle/test_hist_shuffle_limit\t64\t[None, None]\t[-32, None]\tbaseline\n",
    "event_type/gru_shuffle/basic_shuffle_limit\t64\t[0, None]\t[-32, None]\tbaseline\n",
    "event_type/gru_shuffle/head_shuffle_limit\t64\t[-32, None]\t[-32, None]\ttail\n",
    "event_type/gru_shuffle/shuffle_pred\t1045\t[None, None]\t[None, -32]\tbaseline\n",
    "''')\n",
    "common_conf = {\n",
    "    \"runner.params.n_runs\": 2,\n",
    "    \"data_conf.focus_on\": [\"event_type\"]\n",
    "}\n",
    "basic_conf = load_base_yaml(\"/home/transaction-generation/config.yaml\")\n",
    "generate_configs(config_rows, common_conf, basic_conf)"
   ]
  },
  {
   "cell_type": "code",
   "execution_count": 7,
   "id": "0cc44c70",
   "metadata": {},
   "outputs": [
    {
     "name": "stdout",
     "output_type": "stream",
     "text": [
      "run_name\tdata_conf.max_seq_len\tdata_conf.train_transforms.shuffle.ShuffleBatch.untouched_slice\tdata_conf.val_transforms.shuffle.ShuffleBatch.untouched_slice\tloss.name\ttest_Reconstruction overall\ttest_Reconstruction event_type\ttest_F1_macro on event_type\ttest_F1_micro on event_type\n",
      "event_type/gru_shuffle/no_shuffle\t1045\t[None, None]\t[None, None]\tbaseline\t0,4997503539599101\t0,4997503539599101\t0,2259678623416904\t0,5316181120239498\n",
      "event_type/gru_shuffle/test_hist_shuffle\t1045\t[None, None]\t[-32, None]\tbaseline\t0,4955031405214821\t0,4955031405214821\t0,2260842366954877\t0,5288709338352093\n",
      "event_type/gru_shuffle/basic_shuffle\t1045\t[0, None]\t[-32, None]\tbaseline\t0,5183340221872536\t0,5183340221872536\t0,207766155272697\t0,522256871631362\n",
      "event_type/gru_shuffle/no_shuffle_limit\t64\t[None, None]\t[None, None]\tbaseline\t0,5049566669448091\t0,5049566669448091\t0,2091703073653878\t0,5137708164371042\n",
      "event_type/gru_shuffle/test_hist_shuffle_limit\t64\t[None, None]\t[-32, None]\tbaseline\t0,5043174620323518\t0,5043174620323518\t0,2084018261829623\t0,5125860837328945\n",
      "event_type/gru_shuffle/basic_shuffle_limit\t64\t[0, None]\t[-32, None]\tbaseline\t0,5130496423163176\t0,5130496423163176\t0,2086909398831037\t0,5195330629628141\n",
      "event_type/gru_shuffle/head_shuffle_limit\t64\t[-32, None]\t[-32, None]\ttail\t0,5087099016081122\t0,5087099016081122\t0,2119849595420471\t0,5187877465258692\n",
      "event_type/gru_shuffle/shuffle_pred\t1045\t[None, None]\t[None, -32]\tbaseline\t0,4997503539599101\t0,4997503539599101\t0,2259678623416904\t0,5316181120239498\n",
      "\n"
     ]
    }
   ],
   "source": [
    "cols = [\"test_Reconstruction overall\", \"test_Reconstruction event_type\", \"test_F1_macro on event_type\", \"test_F1_micro on event_type\"]\n",
    "print(df_to_str(collect_res(config_rows, cols)))"
   ]
  },
  {
   "cell_type": "code",
   "execution_count": 10,
   "id": "52d41c9c",
   "metadata": {},
   "outputs": [
    {
     "name": "stdout",
     "output_type": "stream",
     "text": [
      "sh transaction-generation/zhores/simple.sh gru_shuffle/no_shuffle\n",
      "sh transaction-generation/zhores/simple.sh gru_shuffle/test_hist_shuffle\n",
      "sh transaction-generation/zhores/simple.sh gru_shuffle/basic_shuffle\n",
      "sh transaction-generation/zhores/simple.sh gru_shuffle/no_shuffle_limit\n",
      "sh transaction-generation/zhores/simple.sh gru_shuffle/test_shuffle_limit\n",
      "sh transaction-generation/zhores/simple.sh gru_shuffle/basic_shuffle_limit\n",
      "sh transaction-generation/zhores/simple.sh gru_shuffle/head_shuffle_limit\n",
      "sh transaction-generation/zhores/simple.sh gru_shuffle/shuffle_pred\n",
      "✅ Generated 8 config files in '/home/transaction-generation/zhores/configs'\n",
      "sh zhores/simple_mega.sh gru_shuffle/no_shuffle\n",
      "sh zhores/simple_mega.sh gru_shuffle/test_hist_shuffle\n",
      "sh zhores/simple_mega.sh gru_shuffle/basic_shuffle\n",
      "sh zhores/simple_mega.sh gru_shuffle/no_shuffle_limit\n",
      "sh zhores/simple_mega.sh gru_shuffle/test_shuffle_limit\n",
      "sh zhores/simple_mega.sh gru_shuffle/basic_shuffle_limit\n",
      "sh zhores/simple_mega.sh gru_shuffle/head_shuffle_limit\n",
      "sh zhores/simple_mega.sh gru_shuffle/shuffle_pred\n"
     ]
    }
   ],
   "source": [
    "config_rows = str_to_df('''run_name\tdata_conf.max_seq_len\tdata_conf.train_transforms.shuffle.ShuffleBatch.untouched_slice\tdata_conf.val_transforms.shuffle.ShuffleBatch.untouched_slice\tloss.name\n",
    "gru_shuffle/no_shuffle\t1045\t[None, None]\t[None, None]\tbaseline\n",
    "gru_shuffle/test_hist_shuffle\t1045\t[None, None]\t[-32, None]\tbaseline\n",
    "gru_shuffle/basic_shuffle\t1045\t[0, None]\t[-32, None]\tbaseline\n",
    "gru_shuffle/no_shuffle_limit\t64\t[None, None]\t[None, None]\tbaseline\n",
    "gru_shuffle/test_shuffle_limit\t64\t[None, None]\t[-32, None]\tbaseline\n",
    "gru_shuffle/basic_shuffle_limit\t64\t[0, None]\t[-32, None]\tbaseline\n",
    "gru_shuffle/head_shuffle_limit\t64\t[-32, None]\t[-32, None]\ttail\n",
    "gru_shuffle/shuffle_pred\t1045\t[None, None]\t[None, -32]\tbaseline\n",
    "''')\n",
    "common_conf = {\n",
    "    \"runner.params.n_runs\": 2,\n",
    "}\n",
    "basic_conf = load_base_yaml(\"/home/transaction-generation/config.yaml\")\n",
    "generate_configs(config_rows, common_conf, basic_conf)"
   ]
  },
  {
   "cell_type": "code",
   "execution_count": 11,
   "id": "a5d46904",
   "metadata": {},
   "outputs": [
    {
     "name": "stdout",
     "output_type": "stream",
     "text": [
      "run_name\tdata_conf.max_seq_len\tdata_conf.train_transforms.shuffle.ShuffleBatch.untouched_slice\tdata_conf.val_transforms.shuffle.ShuffleBatch.untouched_slice\tloss.name\ttest_Reconstruction overall\ttest_Reconstruction event_type\ttest_F1_macro on event_type\ttest_F1_micro on event_type\n",
      "gru_shuffle/no_shuffle\t1045\t[None, None]\t[None, None]\tbaseline\t0,626950538500848\t0,5165842942072534\t0,2141471924652556\t0,529716285984141\n",
      "gru_shuffle/test_hist_shuffle\t1045\t[None, None]\t[-32, None]\tbaseline\t0,398332970957412\t0,5119249446544822\t0,2127402166075434\t0,5248385525745295\n",
      "gru_shuffle/basic_shuffle\t1045\t[0, None]\t[-32, None]\tbaseline\t0,4147420273943289\t0,514614198738848\t0,2065546753726739\t0,5184586539801697\n",
      "gru_shuffle/no_shuffle_limit\t64\t[None, None]\t[None, None]\tbaseline\t-0,3827377440691157\t0,4923006256947674\t0,2050625980120491\t0,5004751565442429\n",
      "gru_shuffle/test_shuffle_limit\t64\t[None, None]\t[-32, None]\tbaseline\t-1,5135361060403174\t0,4755026960748504\t0,1985065453671077\t0,481725633486175\n",
      "gru_shuffle/basic_shuffle_limit\t64\t[0, None]\t[-32, None]\tbaseline\t-157,6949467754568\t0,4855276957842339\t0,2000541522722578\t0,4905141840219105\n",
      "gru_shuffle/head_shuffle_limit\t64\t[-32, None]\t[-32, None]\ttail\t-0,3644661151675412\t0,4932747303442447\t0,204409195801699\t0,5007191324778951\n",
      "gru_shuffle/shuffle_pred\t1045\t[None, None]\t[None, -32]\tbaseline\t0,626950538500848\t0,5165842942072534\t0,2141471924652556\t0,529716285984141\n",
      "\n"
     ]
    }
   ],
   "source": [
    "cols = [\"test_Reconstruction overall\", \"test_Reconstruction event_type\", \"test_F1_macro on event_type\", \"test_F1_micro on event_type\"]\n",
    "print(df_to_str(collect_res(config_rows, cols)))"
   ]
  }
 ],
 "metadata": {
  "kernelspec": {
   "display_name": "Python 3",
   "language": "python",
   "name": "python3"
  },
  "language_info": {
   "codemirror_mode": {
    "name": "ipython",
    "version": 3
   },
   "file_extension": ".py",
   "mimetype": "text/x-python",
   "name": "python",
   "nbconvert_exporter": "python",
   "pygments_lexer": "ipython3",
   "version": "3.10.12"
  }
 },
 "nbformat": 4,
 "nbformat_minor": 5
}
