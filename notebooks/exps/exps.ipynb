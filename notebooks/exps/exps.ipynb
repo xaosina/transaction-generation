{
 "cells": [
  {
   "cell_type": "code",
   "execution_count": 1,
   "id": "394d1f10",
   "metadata": {},
   "outputs": [
    {
     "name": "stdout",
     "output_type": "stream",
     "text": [
      "/home/dev/2025/transaction-generation\n"
     ]
    },
    {
     "name": "stderr",
     "output_type": "stream",
     "text": [
      "/usr/local/lib/python3.10/dist-packages/IPython/core/magics/osm.py:417: UserWarning: using dhist requires you to install the `pickleshare` library.\n",
      "  self.shell.db['dhist'] = compress_dhist(dhist)[-100:]\n"
     ]
    }
   ],
   "source": [
    "cd /home/dev/2025/transaction-generation"
   ]
  },
  {
   "cell_type": "code",
   "execution_count": 2,
   "id": "de29976f",
   "metadata": {},
   "outputs": [],
   "source": [
    "from pathlib import Path\n",
    "import yaml\n",
    "from itertools import product\n",
    "from notebooks.exps.config_factory import load_base_yaml, generate_configs, str_to_df, collect_res, df_to_str, compare_yamls"
   ]
  },
  {
   "cell_type": "code",
   "execution_count": null,
   "id": "b118ea1f",
   "metadata": {},
   "outputs": [],
   "source": [
    "def gen_yaml(\n",
    "        run_name=\"debug\",\n",
    "        category_name = \"\",\n",
    "        dataset_name = \"mbd\",\n",
    "        loss_name = \"matched\",\n",
    "        loss_params = {},\n",
    "        max_shuffle_shift=0,\n",
    "        backbone=\"gru\"\n",
    "    ):\n",
    "    \n",
    "    method_config = f\"{backbone}_oneshot\"\n",
    "    loss_params= {\n",
    "        \"mse_weight\": 0.5,\n",
    "    }\n",
    "\n",
    "    if loss_name == \"baseline\":\n",
    "        method_config = backbone\n",
    "        model_name = \"AutoregressiveGenerator\"\n",
    "    elif loss_name == \"matched\":\n",
    "        model_name = \"OneShotGenerator\"\n",
    "        loss_params= {\n",
    "            \"mse_weight\": 0.5,\n",
    "            \"max_shift\": -1,\n",
    "        }\n",
    "    elif loss_name == \"distloss\":\n",
    "        model_name = \"OneShotDistributionGenerator\"\n",
    "    elif loss_name == \"target\":\n",
    "        model_name = \"OneShotGenerator\"\n",
    "\n",
    "\n",
    "    run_name=f\"{dataset_name}/1507/{backbone}/{loss_name}/{category_name}/{'n1' if max_shuffle_shift == -1 else max_shuffle_shift}\"\n",
    "    focus_on = category_name\n",
    "    data = {\n",
    "        \"config_factory\": [\n",
    "            \"start\",\n",
    "            f\"datasets/{dataset_name}/{dataset_name}\",\n",
    "            f\"methods/{method_config}\",\n",
    "            \"metrics/default\"\n",
    "        ],\n",
    "        \"run_name\": run_name,\n",
    "        \"model\": {\n",
    "            \"name\": model_name\n",
    "        },\n",
    "        \"loss\": {\n",
    "            \"name\": loss_name,\n",
    "            \"params\": loss_params\n",
    "        },\n",
    "        \"data_conf\":{\n",
    "            \"train_transforms\": {\n",
    "                \"local_shuffle\": {\n",
    "                    \"LocalShuffle\": {\n",
    "                        \"max_shift\": max_shuffle_shift\n",
    "                    }\n",
    "                }\n",
    "           },\n",
    "            \"focus_on\": [focus_on],\n",
    "            \"num_workers\": 10,\n",
    "            \"target_token\": focus_on\n",
    "        },\n",
    "        \"trainer\": {\n",
    "            \"ckpt_track_metric\": f\"F1_macro on {focus_on}\"\n",
    "        }\n",
    "    }\n",
    "    path = Path(f\"zhores/configs/{run_name}/config.yaml\")\n",
    "\n",
    "    path.parent.mkdir(parents=True, exist_ok=True)\n",
    "\n",
    "    yaml_dump(data, path=path)\n",
    "    return data\n",
    "\n",
    "\n",
    "def yaml_dump(data, path):\n",
    "\n",
    "    yaml_block = yaml.safe_dump(\n",
    "        data,\n",
    "        sort_keys=False,\n",
    "        default_flow_style=False,\n",
    "        allow_unicode=True\n",
    "    )\n",
    "\n",
    "    Path(path).write_text(yaml_block, encoding=\"utf-8\")\n"
   ]
  },
  {
   "cell_type": "code",
   "execution_count": null,
   "id": "1616281a",
   "metadata": {},
   "outputs": [],
   "source": [
    "params = {\n",
    "    \"max_shuffle_shift\": [0, 2, 16, -1],\n",
    "    \"loss_name\": [\"matched\", \"distloss\", \"target\"]\n",
    "}\n",
    "\n",
    "base_kwargs = dict(\n",
    "    dataset_name=\"mbd\",\n",
    "    category_name=\"event_type\",\n",
    "    backbone=\"transformer\"\n",
    ")\n",
    "for max_shuffle_shift, loss_name in product(\n",
    "        params[\"max_shuffle_shift\"], params[\"loss_name\"]):\n",
    "        gen_yaml(\n",
    "            **base_kwargs,\n",
    "            loss_name = loss_name,\n",
    "            max_shuffle_shift=max_shuffle_shift\n",
    "        )\n"
   ]
  },
  {
   "cell_type": "code",
   "execution_count": null,
   "id": "cb2c26df",
   "metadata": {},
   "outputs": [],
   "source": []
  },
  {
   "cell_type": "code",
   "execution_count": null,
   "id": "e02ca199",
   "metadata": {},
   "outputs": [],
   "source": []
  },
  {
   "cell_type": "code",
   "execution_count": 10,
   "id": "a069b82f",
   "metadata": {},
   "outputs": [],
   "source": [
    "with open(\"config.yaml\", \"r\", encoding=\"utf-8\") as f:\n",
    "    cfg = yaml.safe_load(f)\n",
    "\n",
    "assert cfg == data"
   ]
  },
  {
   "cell_type": "code",
   "execution_count": 10,
   "id": "1ab342d4",
   "metadata": {},
   "outputs": [
    {
     "name": "stdout",
     "output_type": "stream",
     "text": [
      "Не удалось распарсить ячейку 0,0: name 'retail' is not defined\n",
      "Не удалось распарсить ячейку 0,2: name 'OneShotDistributionGenerator' is not defined\n",
      "Не удалось распарсить ячейку 0,3: name 'distloss' is not defined\n",
      "sh transaction-generation/zhores/simple.sh retail/1107/distloss/level_2\n",
      "✅ Generated 1 config files in '/home/dev/2025/transaction-generation/zhores/configs'\n",
      "sh zhores/simple_mega.sh retail/1107/distloss/level_2\n"
     ]
    }
   ],
   "source": [
    "template = '''run_name ++ trainer.ckpt_track_metric ++ model.name ++ loss.name ++ loss.params\n",
    "{dataset}/1107/{loss}/{category} ++ \"F1_macro on {category}\" ++ {generator} ++ {loss} ++ {loss_params}\n",
    "'''\n",
    "config_rows = str_to_df(\n",
    "    template.format(\n",
    "        dataset=\"retail\",\n",
    "        category=\"level_2\",\n",
    "        generator=\"OneShotDistributionGenerator\",\n",
    "        loss=\"distloss\",\n",
    "        loss_params={\n",
    "            \"mse_weight\": 0.5,\n",
    "            # \"max_shift\": -1,\n",
    "        },  \n",
    "    ), sep=' ++ '\n",
    "    )\n",
    "\n",
    "common_conf = {\n",
    "    \"runner.params.n_runs\": 3,\n",
    "}\n",
    "basic_conf = load_base_yaml(\"/home/dev/2025/transaction-generation/config.yaml\")\n",
    "\n",
    "generate_configs(config_rows, common_conf, basic_conf, output_dir=\"/home/dev/2025/transaction-generation/zhores/configs\")"
   ]
  },
  {
   "cell_type": "code",
   "execution_count": 4,
   "id": "4c626773",
   "metadata": {},
   "outputs": [
    {
     "name": "stdout",
     "output_type": "stream",
     "text": [
      "Не удалось распарсить ячейку 0,0: name 'shakespeare' is not defined\n",
      "sh transaction-generation/zhores/simple.sh shakespeare/1107/ar/char\n",
      "✅ Generated 1 config files in '/home/dev/2025/transaction-generation/zhores/configs'\n",
      "sh zhores/simple_mega.sh shakespeare/1107/ar/char\n"
     ]
    }
   ],
   "source": [
    "template = '''run_name ++ trainer.ckpt_track_metric\n",
    "{dataset}/1107/{loss}/{category} ++ \"F1_macro on {category}\"\n",
    "'''\n",
    "config_rows = str_to_df(\n",
    "    template.format(\n",
    "        dataset=\"shakespeare\",\n",
    "        category=\"char\",\n",
    "        loss=\"ar\",\n",
    "    ), sep=' ++ '\n",
    "    )\n",
    "\n",
    "common_conf = {\n",
    "    \"runner.params.n_runs\": 3,\n",
    "}\n",
    "basic_conf = load_base_yaml(\"/home/dev/2025/transaction-generation/config.yaml\")\n",
    "\n",
    "generate_configs(config_rows, common_conf, basic_conf, output_dir=\"/home/dev/2025/transaction-generation/zhores/configs\")"
   ]
  },
  {
   "cell_type": "code",
   "execution_count": 19,
   "id": "fa936d2f",
   "metadata": {},
   "outputs": [
    {
     "name": "stdout",
     "output_type": "stream",
     "text": [
      "sh transaction-generation/zhores/simple.sh mbd/1107/distloss/event_type\n",
      "✅ Generated 1 config files in '/home/dev/2025/transaction-generation/zhores/configs'\n",
      "sh zhores/simple_mega.sh mbd/1107/distloss/event_type\n"
     ]
    }
   ],
   "source": [
    "generate_configs(config_rows, common_conf, basic_conf, output_dir=\"/home/dev/2025/transaction-generation/zhores/configs\")"
   ]
  },
  {
   "cell_type": "code",
   "execution_count": null,
   "id": "d2441800",
   "metadata": {},
   "outputs": [],
   "source": []
  },
  {
   "cell_type": "code",
   "execution_count": null,
   "id": "a0a80790",
   "metadata": {},
   "outputs": [],
   "source": []
  },
  {
   "cell_type": "code",
   "execution_count": null,
   "id": "e7aca954",
   "metadata": {},
   "outputs": [],
   "source": []
  },
  {
   "cell_type": "code",
   "execution_count": 5,
   "id": "1495e00c",
   "metadata": {},
   "outputs": [],
   "source": [
    "# config_rows[\"run_name\"] = config_rows[\"run_name\"].str.replace(\"len\", \"len_old\")\n",
    "config_rows.loc[6] = {\"run_name\": \"hist_len/full_train_33_val\", \"data_conf.max_seq_len\": 33}"
   ]
  },
  {
   "cell_type": "code",
   "execution_count": 6,
   "id": "62099c06",
   "metadata": {},
   "outputs": [
    {
     "name": "stdout",
     "output_type": "stream",
     "text": [
      "run_name\tdata_conf.max_seq_len\ttest_Reconstruction overall\ttest_Reconstruction overall_std\ttest_Reconstruction event_type\ttest_F1_macro on event_type\ttest_F1_micro on event_type\n",
      "hist_len/33\t33\t-3,113789153160522\t1,4176234054411647\t0,4473422352922886\t0,1884065007855574\t0,4495562765005891\n",
      "hist_len/64\t64\t-0,9192381663541508\t0,203680866827878\t0,474336566569265\t0,1981738905368079\t0,4804777592162543\n",
      "hist_len/128\t128\t-2,8073141344591632\t1,8230455736736508\t0,4751193898854601\t0,1987590799698307\t0,4816197767114055\n",
      "hist_len/256\t256\t0,5737644999737526\t0,0614649497522162\t0,5153446199496978\t0,2131551317178197\t0,5273745833186865\n",
      "hist_len/512\t512\t0,5667375934681524\t0,0401673176846223\t0,5153073932242254\t0,2125140534767633\t0,5267226470536248\n",
      "hist_len/1045\t1045\t0,5896790182171521\t0,0078854769188361\t0,5157323573062194\t0,211917699329843\t0,5262053940297504\n",
      "hist_len/full_train_33_val\t33\t-3656,022326359088\t0,0\t0,439594475721323\t0,181858267141067\t0,4400439831104856\n",
      "\n"
     ]
    }
   ],
   "source": [
    "cols = [\"test_Reconstruction overall\", \"test_Reconstruction overall_std\", \"test_Reconstruction event_type\", \"test_F1_macro on event_type\", \"test_F1_micro on event_type\"]\n",
    "print(df_to_str(collect_res(config_rows, cols)))"
   ]
  },
  {
   "cell_type": "code",
   "execution_count": 22,
   "id": "9d7e2d65",
   "metadata": {},
   "outputs": [
    {
     "ename": "FileNotFoundError",
     "evalue": "[Errno 2] No such file or directory: '/home/transaction-generation/config.yaml'",
     "output_type": "error",
     "traceback": [
      "\u001b[0;31m---------------------------------------------------------------------------\u001b[0m",
      "\u001b[0;31mFileNotFoundError\u001b[0m                         Traceback (most recent call last)",
      "Cell \u001b[0;32mIn[22], line 15\u001b[0m\n\u001b[1;32m      1\u001b[0m config_rows \u001b[38;5;241m=\u001b[39m str_to_df(\u001b[38;5;124m'''\u001b[39m\u001b[38;5;124mrun_name\tdata_conf.max_seq_len\tdata_conf.train_transforms.shuffle.ShuffleBatch.untouched_slice\tdata_conf.val_transforms.shuffle.ShuffleBatch.untouched_slice\tloss.name\u001b[39m\n\u001b[1;32m      2\u001b[0m \u001b[38;5;124mevent_type/gru_shuffle/no_shuffle\t1045\t[None, None]\t[None, None]\tbaseline\u001b[39m\n\u001b[1;32m      3\u001b[0m \u001b[38;5;124mevent_type/gru_shuffle/test_hist_shuffle\t1045\t[None, None]\t[-32, None]\tbaseline\u001b[39m\n\u001b[0;32m   (...)\u001b[0m\n\u001b[1;32m      9\u001b[0m \u001b[38;5;124mevent_type/gru_shuffle/shuffle_pred\t1045\t[None, None]\t[None, -32]\tbaseline\u001b[39m\n\u001b[1;32m     10\u001b[0m \u001b[38;5;124m'''\u001b[39m)\n\u001b[1;32m     11\u001b[0m common_conf \u001b[38;5;241m=\u001b[39m {\n\u001b[1;32m     12\u001b[0m     \u001b[38;5;124m\"\u001b[39m\u001b[38;5;124mrunner.params.n_runs\u001b[39m\u001b[38;5;124m\"\u001b[39m: \u001b[38;5;241m2\u001b[39m,\n\u001b[1;32m     13\u001b[0m     \u001b[38;5;124m\"\u001b[39m\u001b[38;5;124mdata_conf.focus_on\u001b[39m\u001b[38;5;124m\"\u001b[39m: [\u001b[38;5;124m\"\u001b[39m\u001b[38;5;124mevent_type\u001b[39m\u001b[38;5;124m\"\u001b[39m]\n\u001b[1;32m     14\u001b[0m }\n\u001b[0;32m---> 15\u001b[0m basic_conf \u001b[38;5;241m=\u001b[39m \u001b[43mload_base_yaml\u001b[49m\u001b[43m(\u001b[49m\u001b[38;5;124;43m\"\u001b[39;49m\u001b[38;5;124;43m/home/transaction-generation/config.yaml\u001b[39;49m\u001b[38;5;124;43m\"\u001b[39;49m\u001b[43m)\u001b[49m\n\u001b[1;32m     16\u001b[0m generate_configs(config_rows, common_conf, basic_conf)\n",
      "File \u001b[0;32m/home/dev/2025/transaction-generation/notebooks/exps/config_factory.py:8\u001b[0m, in \u001b[0;36mload_base_yaml\u001b[0;34m(path)\u001b[0m\n\u001b[1;32m      7\u001b[0m \u001b[38;5;28;01mdef\u001b[39;00m \u001b[38;5;21mload_base_yaml\u001b[39m(path):\n\u001b[0;32m----> 8\u001b[0m     \u001b[38;5;28;01mwith\u001b[39;00m \u001b[38;5;28;43mopen\u001b[39;49m\u001b[43m(\u001b[49m\u001b[43mpath\u001b[49m\u001b[43m,\u001b[49m\u001b[43m \u001b[49m\u001b[38;5;124;43m\"\u001b[39;49m\u001b[38;5;124;43mr\u001b[39;49m\u001b[38;5;124;43m\"\u001b[39;49m\u001b[43m)\u001b[49m \u001b[38;5;28;01mas\u001b[39;00m f:\n\u001b[1;32m      9\u001b[0m         config_factory \u001b[38;5;241m=\u001b[39m yaml\u001b[38;5;241m.\u001b[39msafe_load(f)\u001b[38;5;241m.\u001b[39mget(\u001b[38;5;124m\"\u001b[39m\u001b[38;5;124mconfig_factory\u001b[39m\u001b[38;5;124m\"\u001b[39m, \u001b[38;5;28;01mNone\u001b[39;00m)\n\u001b[1;32m     11\u001b[0m     config_paths \u001b[38;5;241m=\u001b[39m [path]\n",
      "\u001b[0;31mFileNotFoundError\u001b[0m: [Errno 2] No such file or directory: '/home/transaction-generation/config.yaml'"
     ]
    }
   ],
   "source": [
    "config_rows = str_to_df('''run_name\tdata_conf.max_seq_len\tdata_conf.train_transforms.shuffle.ShuffleBatch.untouched_slice\tdata_conf.val_transforms.shuffle.ShuffleBatch.untouched_slice\tloss.name\n",
    "event_type/gru_shuffle/no_shuffle\t1045\t[None, None]\t[None, None]\tbaseline\n",
    "event_type/gru_shuffle/test_hist_shuffle\t1045\t[None, None]\t[-32, None]\tbaseline\n",
    "event_type/gru_shuffle/basic_shuffle\t1045\t[0, None]\t[-32, None]\tbaseline\n",
    "event_type/gru_shuffle/no_shuffle_limit\t64\t[None, None]\t[None, None]\tbaseline\n",
    "event_type/gru_shuffle/test_hist_shuffle_limit\t64\t[None, None]\t[-32, None]\tbaseline\n",
    "event_type/gru_shuffle/basic_shuffle_limit\t64\t[0, None]\t[-32, None]\tbaseline\n",
    "event_type/gru_shuffle/head_shuffle_limit\t64\t[-32, None]\t[-32, None]\ttail\n",
    "event_type/gru_shuffle/shuffle_pred\t1045\t[None, None]\t[None, -32]\tbaseline\n",
    "''')\n",
    "common_conf = {\n",
    "    \"runner.params.n_runs\": 2,\n",
    "    \"data_conf.focus_on\": [\"event_type\"]\n",
    "}\n",
    "basic_conf = load_base_yaml(\"/home/transaction-generation/config.yaml\")\n",
    "generate_configs(config_rows, common_conf, basic_conf)"
   ]
  },
  {
   "cell_type": "code",
   "execution_count": 9,
   "id": "61a87bd5",
   "metadata": {},
   "outputs": [],
   "source": [
    "config_rows.loc[8] = {\"run_name\": \"event_type/gru_shuffle/shuffle_pred_real\"}"
   ]
  },
  {
   "cell_type": "code",
   "execution_count": 10,
   "id": "0cc44c70",
   "metadata": {},
   "outputs": [
    {
     "name": "stdout",
     "output_type": "stream",
     "text": [
      "run_name\tdata_conf.max_seq_len\tdata_conf.train_transforms.shuffle.ShuffleBatch.untouched_slice\tdata_conf.val_transforms.shuffle.ShuffleBatch.untouched_slice\tloss.name\ttest_Reconstruction event_type\ttest_Reconstruction event_type_std\ttest_F1_macro on event_type\ttest_F1_micro on event_type\n",
      "event_type/gru_shuffle/no_shuffle\t1045\t[None, None]\t[None, None]\tbaseline\t0,4997503539599101\t0,0079000682779505\t0,2259678623416904\t0,5316181120239498\n",
      "event_type/gru_shuffle/test_hist_shuffle\t1045\t[None, None]\t[-32, None]\tbaseline\t0,4955031405214821\t0,0073927074728879\t0,2260842366954877\t0,5288709338352093\n",
      "event_type/gru_shuffle/basic_shuffle\t1045\t[0, None]\t[-32, None]\tbaseline\t0,5183340221872536\t0,0007476104658076\t0,207766155272697\t0,522256871631362\n",
      "event_type/gru_shuffle/no_shuffle_limit\t64\t[None, None]\t[None, None]\tbaseline\t0,5049566669448091\t0,0037198618779548\t0,2091703073653878\t0,5137708164371042\n",
      "event_type/gru_shuffle/test_hist_shuffle_limit\t64\t[None, None]\t[-32, None]\tbaseline\t0,5043174620323518\t0,0033911777255256\t0,2084018261829623\t0,5125860837328945\n",
      "event_type/gru_shuffle/basic_shuffle_limit\t64\t[0, None]\t[-32, None]\tbaseline\t0,5130496423163176\t4,73551945723294e-05\t0,2086909398831037\t0,5195330629628141\n",
      "event_type/gru_shuffle/head_shuffle_limit\t64\t[-32, None]\t[-32, None]\ttail\t0,5087099016081122\t0,0009451232829891\t0,2119849595420471\t0,5187877465258692\n",
      "event_type/gru_shuffle/shuffle_pred\t1045\t[None, None]\t[None, -32]\tbaseline\t0,4997503539599101\t0,0079000682779505\t0,2259678623416904\t0,5316181120239498\n",
      "event_type/gru_shuffle/shuffle_pred_real\tnan\tnan\tnan\tnan\t0,5072598522167487\t0,0\t0,2256164610210073\t0,5330568261787474\n",
      "\n"
     ]
    }
   ],
   "source": [
    "cols = [\"test_Reconstruction event_type\", \"test_Reconstruction event_type_std\", \"test_F1_macro on event_type\", \"test_F1_micro on event_type\"]\n",
    "print(df_to_str(collect_res(config_rows, cols)))"
   ]
  },
  {
   "cell_type": "code",
   "execution_count": 11,
   "id": "52d41c9c",
   "metadata": {},
   "outputs": [
    {
     "name": "stdout",
     "output_type": "stream",
     "text": [
      "sh transaction-generation/zhores/simple.sh gru_shuffle/no_shuffle\n",
      "sh transaction-generation/zhores/simple.sh gru_shuffle/test_hist_shuffle\n",
      "sh transaction-generation/zhores/simple.sh gru_shuffle/basic_shuffle\n",
      "sh transaction-generation/zhores/simple.sh gru_shuffle/no_shuffle_limit\n",
      "sh transaction-generation/zhores/simple.sh gru_shuffle/test_shuffle_limit\n",
      "sh transaction-generation/zhores/simple.sh gru_shuffle/basic_shuffle_limit\n",
      "sh transaction-generation/zhores/simple.sh gru_shuffle/head_shuffle_limit\n",
      "sh transaction-generation/zhores/simple.sh gru_shuffle/shuffle_pred\n",
      "✅ Generated 8 config files in '/home/transaction-generation/zhores/configs'\n",
      "sh zhores/simple_mega.sh gru_shuffle/no_shuffle\n",
      "sh zhores/simple_mega.sh gru_shuffle/test_hist_shuffle\n",
      "sh zhores/simple_mega.sh gru_shuffle/basic_shuffle\n",
      "sh zhores/simple_mega.sh gru_shuffle/no_shuffle_limit\n",
      "sh zhores/simple_mega.sh gru_shuffle/test_shuffle_limit\n",
      "sh zhores/simple_mega.sh gru_shuffle/basic_shuffle_limit\n",
      "sh zhores/simple_mega.sh gru_shuffle/head_shuffle_limit\n",
      "sh zhores/simple_mega.sh gru_shuffle/shuffle_pred\n"
     ]
    }
   ],
   "source": [
    "config_rows = str_to_df('''run_name\tdata_conf.max_seq_len\tdata_conf.train_transforms.shuffle.ShuffleBatch.untouched_slice\tdata_conf.val_transforms.shuffle.ShuffleBatch.untouched_slice\tloss.name\n",
    "gru_shuffle/no_shuffle\t1045\t[None, None]\t[None, None]\tbaseline\n",
    "gru_shuffle/test_hist_shuffle\t1045\t[None, None]\t[-32, None]\tbaseline\n",
    "gru_shuffle/basic_shuffle\t1045\t[0, None]\t[-32, None]\tbaseline\n",
    "gru_shuffle/no_shuffle_limit\t64\t[None, None]\t[None, None]\tbaseline\n",
    "gru_shuffle/test_shuffle_limit\t64\t[None, None]\t[-32, None]\tbaseline\n",
    "gru_shuffle/basic_shuffle_limit\t64\t[0, None]\t[-32, None]\tbaseline\n",
    "gru_shuffle/head_shuffle_limit\t64\t[-32, None]\t[-32, None]\ttail\n",
    "gru_shuffle/shuffle_pred\t1045\t[None, None]\t[None, -32]\tbaseline\n",
    "''')\n",
    "common_conf = {\n",
    "    \"runner.params.n_runs\": 2,\n",
    "}\n",
    "basic_conf = load_base_yaml(\"/home/transaction-generation/config.yaml\")\n",
    "generate_configs(config_rows, common_conf, basic_conf)"
   ]
  },
  {
   "cell_type": "code",
   "execution_count": 12,
   "id": "69f57ce6",
   "metadata": {},
   "outputs": [],
   "source": [
    "config_rows.loc[8] = {\"run_name\": \"gru_shuffle/shuffle_pred_real\"}"
   ]
  },
  {
   "cell_type": "code",
   "execution_count": 13,
   "id": "a5d46904",
   "metadata": {},
   "outputs": [
    {
     "name": "stdout",
     "output_type": "stream",
     "text": [
      "run_name\tdata_conf.max_seq_len\tdata_conf.train_transforms.shuffle.ShuffleBatch.untouched_slice\tdata_conf.val_transforms.shuffle.ShuffleBatch.untouched_slice\tloss.name\ttest_Reconstruction overall\ttest_Reconstruction overall_std\ttest_Reconstruction event_type\ttest_F1_macro on event_type\ttest_F1_micro on event_type\n",
      "gru_shuffle/no_shuffle\t1045\t[None, None]\t[None, None]\tbaseline\t0,626950538500848\t0,0348298597198615\t0,5165842942072534\t0,2141471924652556\t0,529716285984141\n",
      "gru_shuffle/test_hist_shuffle\t1045\t[None, None]\t[-32, None]\tbaseline\t0,398332970957412\t0,2377677390287732\t0,5119249446544822\t0,2127402166075434\t0,5248385525745295\n",
      "gru_shuffle/basic_shuffle\t1045\t[0, None]\t[-32, None]\tbaseline\t0,4147420273943289\t0,1587370093397339\t0,514614198738848\t0,2065546753726739\t0,5184586539801697\n",
      "gru_shuffle/no_shuffle_limit\t64\t[None, None]\t[None, None]\tbaseline\t-0,3827377440691157\t0,3215921002042922\t0,4923006256947674\t0,2050625980120491\t0,5004751565442429\n",
      "gru_shuffle/test_shuffle_limit\t64\t[None, None]\t[-32, None]\tbaseline\t-1,5135361060403174\t0,5643665096451447\t0,4755026960748504\t0,1985065453671077\t0,481725633486175\n",
      "gru_shuffle/basic_shuffle_limit\t64\t[0, None]\t[-32, None]\tbaseline\t-157,6949467754568\t152,16877058037468\t0,4855276957842339\t0,2000541522722578\t0,4905141840219105\n",
      "gru_shuffle/head_shuffle_limit\t64\t[-32, None]\t[-32, None]\ttail\t-0,3644661151675412\t0,3061790454163725\t0,4932747303442447\t0,204409195801699\t0,5007191324778951\n",
      "gru_shuffle/shuffle_pred\t1045\t[None, None]\t[None, -32]\tbaseline\t0,626950538500848\t0,0348298597198615\t0,5165842942072534\t0,2141471924652556\t0,529716285984141\n",
      "gru_shuffle/shuffle_pred_real\tnan\tnan\tnan\tnan\t0,6613302315540982\t0,0\t0,5193235397607319\t0,2155119102162733\t0,533091133004926\n",
      "\n"
     ]
    }
   ],
   "source": [
    "cols = [\"test_Reconstruction overall\", \"test_Reconstruction overall_std\", \"test_Reconstruction event_type\", \"test_F1_macro on event_type\", \"test_F1_micro on event_type\"]\n",
    "print(df_to_str(collect_res(config_rows, cols)))"
   ]
  }
 ],
 "metadata": {
  "kernelspec": {
   "display_name": "Python 3",
   "language": "python",
   "name": "python3"
  },
  "language_info": {
   "codemirror_mode": {
    "name": "ipython",
    "version": 3
   },
   "file_extension": ".py",
   "mimetype": "text/x-python",
   "name": "python",
   "nbconvert_exporter": "python",
   "pygments_lexer": "ipython3",
   "version": "3.10.12"
  }
 },
 "nbformat": 4,
 "nbformat_minor": 5
}
