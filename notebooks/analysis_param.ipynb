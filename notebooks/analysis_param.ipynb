{
 "cells": [
  {
   "cell_type": "code",
   "execution_count": 79,
   "metadata": {},
   "outputs": [
    {
     "name": "stdout",
     "output_type": "stream",
     "text": [
      "/home/transaction-generation\n"
     ]
    },
    {
     "name": "stderr",
     "output_type": "stream",
     "text": [
      "/usr/local/lib/python3.10/dist-packages/IPython/core/magics/osm.py:417: UserWarning:\n",
      "\n",
      "using dhist requires you to install the `pickleshare` library.\n",
      "\n"
     ]
    }
   ],
   "source": [
    "%cd /home/transaction-generation\n",
    "\n",
    "import pandas as pd\n",
    "import matplotlib.pyplot as plt\n",
    "import numpy as np\n",
    "from tqdm import tqdm\n",
    "from pathlib import Path\n",
    "from ebes.pipeline.utils import optuna_df\n",
    "from optuna.trial import TrialState\n",
    "from glob import glob\n",
    "from itertools import product\n",
    "import warnings\n",
    "import optuna\n",
    "from optuna.exceptions import ExperimentalWarning \n",
    "\n",
    "warnings.filterwarnings(\"ignore\", category=ExperimentalWarning)"
   ]
  },
  {
   "cell_type": "code",
   "execution_count": 80,
   "metadata": {},
   "outputs": [],
   "source": [
    "def get_run(path, number, dataset, method, token_mode=False, rewrite=False):\n",
    "    path = Path(f\"log/generation/{path}/{number}\")\n",
    "    save_path = Path(f\"configs/best_params/{dataset}\")\n",
    "    if token_mode:\n",
    "        save_path /= \"1to1\"\n",
    "    save_path.mkdir(parents=True, exist_ok=True)\n",
    "    save_path = save_path / f\"{method}.yaml\"\n",
    "    if not rewrite:\n",
    "        if save_path.exists():\n",
    "            print(\"Cant rewrite\")\n",
    "            return\n",
    "    m_d = {\n",
    "        \"gru\": \"gru, 1to1\",\n",
    "        \"gpt\": \"gpt, 1to1\",\n",
    "        \"gru_dist\": \"oneshot/gru, methods/oneshot/dist, allto1\",\n",
    "        \"gru_target\": \"oneshot/gru, methods/oneshot/target, allto1\",\n",
    "        \"gru_matched\": \"oneshot/gru, methods/oneshot/matched, allto1\",\n",
    "        \"vae\": \"vae\",\n",
    "    }\n",
    "    config = (path / \"params.txt\").read_text()\n",
    "    print_best_res(path)\n",
    "    method_part = m_d.get(method, method)\n",
    "    factory = f\"config_factory: [start, metrics/default, datasets/{dataset}/{dataset}, methods/{method_part}]\\n\\n\"\n",
    "    config = factory + config\n",
    "    save_path.write_text(config)\n",
    "\n",
    "def print_best_res(path):\n",
    "    df = pd.read_csv(path / \"results.csv\", index_col=0)[\"mean\"]\n",
    "    index = [id for id in df.index if \"test\" in id]\n",
    "    df = df.loc[index]\n",
    "    df.index = [id.replace(\"test_\", \"\") for id in df.index]\n",
    "    df.astype(str).replace('\\\\.', ',', regex=True).to_csv('res', sep='\\t')\n",
    "\n",
    "\n",
    "def prepare_data(path):\n",
    "    path = Path(f\"log/generation/{path}\")\n",
    "    df, study = optuna_df(path)\n",
    "    col_to_drop = [\n",
    "        \"datetime_start\",\n",
    "        \"datetime_complete\",\n",
    "        \"system_attrs_fixed_params\",\n",
    "        \"state\",\n",
    "        \"value\",\n",
    "    ]\n",
    "    col_params = [\"value\", \"duration\"] + [col for col in df if \"params_\" in col]\n",
    "    col_user = [\"value\", \"duration\"] + [col for col in df if \"user\" in col]\n",
    "    # df[\"duration\"] = df[\"duration\"].dt.total_seconds()\n",
    "    return df, study, col_user, col_params\n",
    "\n",
    "\n",
    "k = -1"
   ]
  },
  {
   "cell_type": "code",
   "execution_count": 135,
   "metadata": {},
   "outputs": [
    {
     "name": "stdout",
     "output_type": "stream",
     "text": [
      "age/optuna/detpp\n",
      "(600, 76) (39, 76)\n"
     ]
    },
    {
     "data": {
      "text/html": [
       "<div>\n",
       "<style scoped>\n",
       "    .dataframe tbody tr th:only-of-type {\n",
       "        vertical-align: middle;\n",
       "    }\n",
       "\n",
       "    .dataframe tbody tr th {\n",
       "        vertical-align: top;\n",
       "    }\n",
       "\n",
       "    .dataframe thead th {\n",
       "        text-align: right;\n",
       "    }\n",
       "</style>\n",
       "<table border=\"1\" class=\"dataframe\">\n",
       "  <thead>\n",
       "    <tr style=\"text-align: right;\">\n",
       "      <th></th>\n",
       "      <th>value</th>\n",
       "      <th>user_attrs_Cardinality on small_group gen_mean</th>\n",
       "      <th>user_attrs_Cardinality on small_group orig_mean</th>\n",
       "      <th>user_attrs_F1_macro on small_group_mean</th>\n",
       "      <th>user_attrs_F1_micro on small_group_mean</th>\n",
       "      <th>user_attrs_OTD age_mean</th>\n",
       "      <th>user_attrs_OTD amount_rur_mean</th>\n",
       "      <th>user_attrs_OTD overall_mean</th>\n",
       "      <th>user_attrs_OTD small_group_mean</th>\n",
       "      <th>user_attrs_OTD trans_date_mean</th>\n",
       "      <th>...</th>\n",
       "      <th>user_attrs_memory_after_mean</th>\n",
       "      <th>user_attrs_train_Cardinality on small_group gen_mean</th>\n",
       "      <th>user_attrs_train_Cardinality on small_group orig_mean</th>\n",
       "      <th>user_attrs_train_F1_macro on small_group_mean</th>\n",
       "      <th>user_attrs_train_F1_micro on small_group_mean</th>\n",
       "      <th>user_attrs_train_OTD age_mean</th>\n",
       "      <th>user_attrs_train_OTD amount_rur_mean</th>\n",
       "      <th>user_attrs_train_OTD overall_mean</th>\n",
       "      <th>user_attrs_train_OTD small_group_mean</th>\n",
       "      <th>user_attrs_train_OTD trans_date_mean</th>\n",
       "    </tr>\n",
       "  </thead>\n",
       "  <tbody>\n",
       "    <tr>\n",
       "      <th>323</th>\n",
       "      <td>-53.801930</td>\n",
       "      <td>8.308774</td>\n",
       "      <td>10.631</td>\n",
       "      <td>0.405302</td>\n",
       "      <td>0.708795</td>\n",
       "      <td>0.999990</td>\n",
       "      <td>0.501886</td>\n",
       "      <td>0.748714</td>\n",
       "      <td>0.674822</td>\n",
       "      <td>0.818158</td>\n",
       "      <td>...</td>\n",
       "      <td>75498.0</td>\n",
       "      <td>8.399194</td>\n",
       "      <td>10.666176</td>\n",
       "      <td>0.407851</td>\n",
       "      <td>0.710689</td>\n",
       "      <td>1.000000</td>\n",
       "      <td>0.486613</td>\n",
       "      <td>0.745172</td>\n",
       "      <td>0.675926</td>\n",
       "      <td>0.818148</td>\n",
       "    </tr>\n",
       "    <tr>\n",
       "      <th>521</th>\n",
       "      <td>-53.698955</td>\n",
       "      <td>8.255274</td>\n",
       "      <td>10.631</td>\n",
       "      <td>0.400350</td>\n",
       "      <td>0.705461</td>\n",
       "      <td>1.000000</td>\n",
       "      <td>0.500977</td>\n",
       "      <td>0.463982</td>\n",
       "      <td>0.667562</td>\n",
       "      <td>-0.312610</td>\n",
       "      <td>...</td>\n",
       "      <td>80354.0</td>\n",
       "      <td>8.321162</td>\n",
       "      <td>10.646079</td>\n",
       "      <td>0.403620</td>\n",
       "      <td>0.707142</td>\n",
       "      <td>1.000000</td>\n",
       "      <td>0.561095</td>\n",
       "      <td>0.525867</td>\n",
       "      <td>0.674020</td>\n",
       "      <td>-0.131647</td>\n",
       "    </tr>\n",
       "    <tr>\n",
       "      <th>303</th>\n",
       "      <td>-53.578084</td>\n",
       "      <td>8.529196</td>\n",
       "      <td>10.631</td>\n",
       "      <td>0.404306</td>\n",
       "      <td>0.706349</td>\n",
       "      <td>1.000000</td>\n",
       "      <td>0.486309</td>\n",
       "      <td>0.151069</td>\n",
       "      <td>0.671928</td>\n",
       "      <td>-1.553961</td>\n",
       "      <td>...</td>\n",
       "      <td>75162.0</td>\n",
       "      <td>8.587790</td>\n",
       "      <td>10.672615</td>\n",
       "      <td>0.408148</td>\n",
       "      <td>0.707208</td>\n",
       "      <td>1.000000</td>\n",
       "      <td>0.529509</td>\n",
       "      <td>0.256723</td>\n",
       "      <td>0.677398</td>\n",
       "      <td>-1.180015</td>\n",
       "    </tr>\n",
       "    <tr>\n",
       "      <th>424</th>\n",
       "      <td>-53.486892</td>\n",
       "      <td>8.261388</td>\n",
       "      <td>10.631</td>\n",
       "      <td>0.402818</td>\n",
       "      <td>0.703999</td>\n",
       "      <td>1.000000</td>\n",
       "      <td>0.500429</td>\n",
       "      <td>-0.709504</td>\n",
       "      <td>0.672357</td>\n",
       "      <td>-5.010804</td>\n",
       "      <td>...</td>\n",
       "      <td>76890.0</td>\n",
       "      <td>8.295102</td>\n",
       "      <td>10.689479</td>\n",
       "      <td>0.409122</td>\n",
       "      <td>0.708558</td>\n",
       "      <td>1.000000</td>\n",
       "      <td>0.478113</td>\n",
       "      <td>-0.665196</td>\n",
       "      <td>0.675826</td>\n",
       "      <td>-4.814724</td>\n",
       "    </tr>\n",
       "    <tr>\n",
       "      <th>305</th>\n",
       "      <td>-53.364592</td>\n",
       "      <td>8.342709</td>\n",
       "      <td>10.631</td>\n",
       "      <td>0.403381</td>\n",
       "      <td>0.707696</td>\n",
       "      <td>0.999981</td>\n",
       "      <td>0.499997</td>\n",
       "      <td>0.634588</td>\n",
       "      <td>0.670494</td>\n",
       "      <td>0.367879</td>\n",
       "      <td>...</td>\n",
       "      <td>76700.0</td>\n",
       "      <td>8.379765</td>\n",
       "      <td>10.683729</td>\n",
       "      <td>0.408057</td>\n",
       "      <td>0.709974</td>\n",
       "      <td>0.999998</td>\n",
       "      <td>0.498921</td>\n",
       "      <td>0.634302</td>\n",
       "      <td>0.675338</td>\n",
       "      <td>0.362950</td>\n",
       "    </tr>\n",
       "    <tr>\n",
       "      <th>243</th>\n",
       "      <td>-53.298817</td>\n",
       "      <td>8.000611</td>\n",
       "      <td>10.631</td>\n",
       "      <td>0.397070</td>\n",
       "      <td>0.702585</td>\n",
       "      <td>0.999981</td>\n",
       "      <td>0.495990</td>\n",
       "      <td>0.190168</td>\n",
       "      <td>0.668058</td>\n",
       "      <td>-1.403356</td>\n",
       "      <td>...</td>\n",
       "      <td>78128.0</td>\n",
       "      <td>8.085761</td>\n",
       "      <td>10.646630</td>\n",
       "      <td>0.401382</td>\n",
       "      <td>0.703337</td>\n",
       "      <td>0.999997</td>\n",
       "      <td>0.476326</td>\n",
       "      <td>0.195650</td>\n",
       "      <td>0.668932</td>\n",
       "      <td>-1.362656</td>\n",
       "    </tr>\n",
       "    <tr>\n",
       "      <th>199</th>\n",
       "      <td>-53.010165</td>\n",
       "      <td>8.394069</td>\n",
       "      <td>10.631</td>\n",
       "      <td>0.406199</td>\n",
       "      <td>0.707935</td>\n",
       "      <td>0.999971</td>\n",
       "      <td>0.501072</td>\n",
       "      <td>0.224866</td>\n",
       "      <td>0.674125</td>\n",
       "      <td>-1.275705</td>\n",
       "      <td>...</td>\n",
       "      <td>76688.0</td>\n",
       "      <td>8.421331</td>\n",
       "      <td>10.661187</td>\n",
       "      <td>0.410841</td>\n",
       "      <td>0.711587</td>\n",
       "      <td>0.999997</td>\n",
       "      <td>0.487718</td>\n",
       "      <td>0.276372</td>\n",
       "      <td>0.676450</td>\n",
       "      <td>-1.058677</td>\n",
       "    </tr>\n",
       "    <tr>\n",
       "      <th>215</th>\n",
       "      <td>-52.730473</td>\n",
       "      <td>8.385203</td>\n",
       "      <td>10.631</td>\n",
       "      <td>0.410277</td>\n",
       "      <td>0.711059</td>\n",
       "      <td>1.000000</td>\n",
       "      <td>0.500646</td>\n",
       "      <td>0.389893</td>\n",
       "      <td>0.675099</td>\n",
       "      <td>-0.616175</td>\n",
       "      <td>...</td>\n",
       "      <td>73318.0</td>\n",
       "      <td>8.447836</td>\n",
       "      <td>10.648889</td>\n",
       "      <td>0.416257</td>\n",
       "      <td>0.715189</td>\n",
       "      <td>1.000000</td>\n",
       "      <td>0.575573</td>\n",
       "      <td>0.467081</td>\n",
       "      <td>0.687685</td>\n",
       "      <td>-0.394935</td>\n",
       "    </tr>\n",
       "    <tr>\n",
       "      <th>536</th>\n",
       "      <td>-52.546022</td>\n",
       "      <td>8.359829</td>\n",
       "      <td>10.631</td>\n",
       "      <td>0.409988</td>\n",
       "      <td>0.711613</td>\n",
       "      <td>1.000000</td>\n",
       "      <td>0.500972</td>\n",
       "      <td>0.240056</td>\n",
       "      <td>0.677029</td>\n",
       "      <td>-1.217777</td>\n",
       "      <td>...</td>\n",
       "      <td>80024.0</td>\n",
       "      <td>8.419876</td>\n",
       "      <td>10.643984</td>\n",
       "      <td>0.417204</td>\n",
       "      <td>0.717088</td>\n",
       "      <td>1.000000</td>\n",
       "      <td>0.516609</td>\n",
       "      <td>0.180565</td>\n",
       "      <td>0.683572</td>\n",
       "      <td>-1.477919</td>\n",
       "    </tr>\n",
       "    <tr>\n",
       "      <th>282</th>\n",
       "      <td>-52.479327</td>\n",
       "      <td>8.320086</td>\n",
       "      <td>10.631</td>\n",
       "      <td>0.406463</td>\n",
       "      <td>0.708690</td>\n",
       "      <td>1.000000</td>\n",
       "      <td>0.502682</td>\n",
       "      <td>-0.548944</td>\n",
       "      <td>0.674918</td>\n",
       "      <td>-4.373376</td>\n",
       "      <td>...</td>\n",
       "      <td>77676.0</td>\n",
       "      <td>8.365977</td>\n",
       "      <td>10.691835</td>\n",
       "      <td>0.414831</td>\n",
       "      <td>0.716353</td>\n",
       "      <td>0.999998</td>\n",
       "      <td>0.595219</td>\n",
       "      <td>-0.024486</td>\n",
       "      <td>0.691734</td>\n",
       "      <td>-2.384896</td>\n",
       "    </tr>\n",
       "  </tbody>\n",
       "</table>\n",
       "<p>10 rows × 21 columns</p>\n",
       "</div>"
      ],
      "text/plain": [
       "         value  user_attrs_Cardinality on small_group gen_mean  \\\n",
       "323 -53.801930                                        8.308774   \n",
       "521 -53.698955                                        8.255274   \n",
       "303 -53.578084                                        8.529196   \n",
       "424 -53.486892                                        8.261388   \n",
       "305 -53.364592                                        8.342709   \n",
       "243 -53.298817                                        8.000611   \n",
       "199 -53.010165                                        8.394069   \n",
       "215 -52.730473                                        8.385203   \n",
       "536 -52.546022                                        8.359829   \n",
       "282 -52.479327                                        8.320086   \n",
       "\n",
       "     user_attrs_Cardinality on small_group orig_mean  \\\n",
       "323                                           10.631   \n",
       "521                                           10.631   \n",
       "303                                           10.631   \n",
       "424                                           10.631   \n",
       "305                                           10.631   \n",
       "243                                           10.631   \n",
       "199                                           10.631   \n",
       "215                                           10.631   \n",
       "536                                           10.631   \n",
       "282                                           10.631   \n",
       "\n",
       "     user_attrs_F1_macro on small_group_mean  \\\n",
       "323                                 0.405302   \n",
       "521                                 0.400350   \n",
       "303                                 0.404306   \n",
       "424                                 0.402818   \n",
       "305                                 0.403381   \n",
       "243                                 0.397070   \n",
       "199                                 0.406199   \n",
       "215                                 0.410277   \n",
       "536                                 0.409988   \n",
       "282                                 0.406463   \n",
       "\n",
       "     user_attrs_F1_micro on small_group_mean  user_attrs_OTD age_mean  \\\n",
       "323                                 0.708795                 0.999990   \n",
       "521                                 0.705461                 1.000000   \n",
       "303                                 0.706349                 1.000000   \n",
       "424                                 0.703999                 1.000000   \n",
       "305                                 0.707696                 0.999981   \n",
       "243                                 0.702585                 0.999981   \n",
       "199                                 0.707935                 0.999971   \n",
       "215                                 0.711059                 1.000000   \n",
       "536                                 0.711613                 1.000000   \n",
       "282                                 0.708690                 1.000000   \n",
       "\n",
       "     user_attrs_OTD amount_rur_mean  user_attrs_OTD overall_mean  \\\n",
       "323                        0.501886                     0.748714   \n",
       "521                        0.500977                     0.463982   \n",
       "303                        0.486309                     0.151069   \n",
       "424                        0.500429                    -0.709504   \n",
       "305                        0.499997                     0.634588   \n",
       "243                        0.495990                     0.190168   \n",
       "199                        0.501072                     0.224866   \n",
       "215                        0.500646                     0.389893   \n",
       "536                        0.500972                     0.240056   \n",
       "282                        0.502682                    -0.548944   \n",
       "\n",
       "     user_attrs_OTD small_group_mean  user_attrs_OTD trans_date_mean  ...  \\\n",
       "323                         0.674822                        0.818158  ...   \n",
       "521                         0.667562                       -0.312610  ...   \n",
       "303                         0.671928                       -1.553961  ...   \n",
       "424                         0.672357                       -5.010804  ...   \n",
       "305                         0.670494                        0.367879  ...   \n",
       "243                         0.668058                       -1.403356  ...   \n",
       "199                         0.674125                       -1.275705  ...   \n",
       "215                         0.675099                       -0.616175  ...   \n",
       "536                         0.677029                       -1.217777  ...   \n",
       "282                         0.674918                       -4.373376  ...   \n",
       "\n",
       "     user_attrs_memory_after_mean  \\\n",
       "323                       75498.0   \n",
       "521                       80354.0   \n",
       "303                       75162.0   \n",
       "424                       76890.0   \n",
       "305                       76700.0   \n",
       "243                       78128.0   \n",
       "199                       76688.0   \n",
       "215                       73318.0   \n",
       "536                       80024.0   \n",
       "282                       77676.0   \n",
       "\n",
       "     user_attrs_train_Cardinality on small_group gen_mean  \\\n",
       "323                                           8.399194      \n",
       "521                                           8.321162      \n",
       "303                                           8.587790      \n",
       "424                                           8.295102      \n",
       "305                                           8.379765      \n",
       "243                                           8.085761      \n",
       "199                                           8.421331      \n",
       "215                                           8.447836      \n",
       "536                                           8.419876      \n",
       "282                                           8.365977      \n",
       "\n",
       "     user_attrs_train_Cardinality on small_group orig_mean  \\\n",
       "323                                          10.666176       \n",
       "521                                          10.646079       \n",
       "303                                          10.672615       \n",
       "424                                          10.689479       \n",
       "305                                          10.683729       \n",
       "243                                          10.646630       \n",
       "199                                          10.661187       \n",
       "215                                          10.648889       \n",
       "536                                          10.643984       \n",
       "282                                          10.691835       \n",
       "\n",
       "     user_attrs_train_F1_macro on small_group_mean  \\\n",
       "323                                       0.407851   \n",
       "521                                       0.403620   \n",
       "303                                       0.408148   \n",
       "424                                       0.409122   \n",
       "305                                       0.408057   \n",
       "243                                       0.401382   \n",
       "199                                       0.410841   \n",
       "215                                       0.416257   \n",
       "536                                       0.417204   \n",
       "282                                       0.414831   \n",
       "\n",
       "     user_attrs_train_F1_micro on small_group_mean  \\\n",
       "323                                       0.710689   \n",
       "521                                       0.707142   \n",
       "303                                       0.707208   \n",
       "424                                       0.708558   \n",
       "305                                       0.709974   \n",
       "243                                       0.703337   \n",
       "199                                       0.711587   \n",
       "215                                       0.715189   \n",
       "536                                       0.717088   \n",
       "282                                       0.716353   \n",
       "\n",
       "     user_attrs_train_OTD age_mean  user_attrs_train_OTD amount_rur_mean  \\\n",
       "323                       1.000000                              0.486613   \n",
       "521                       1.000000                              0.561095   \n",
       "303                       1.000000                              0.529509   \n",
       "424                       1.000000                              0.478113   \n",
       "305                       0.999998                              0.498921   \n",
       "243                       0.999997                              0.476326   \n",
       "199                       0.999997                              0.487718   \n",
       "215                       1.000000                              0.575573   \n",
       "536                       1.000000                              0.516609   \n",
       "282                       0.999998                              0.595219   \n",
       "\n",
       "     user_attrs_train_OTD overall_mean  user_attrs_train_OTD small_group_mean  \\\n",
       "323                           0.745172                               0.675926   \n",
       "521                           0.525867                               0.674020   \n",
       "303                           0.256723                               0.677398   \n",
       "424                          -0.665196                               0.675826   \n",
       "305                           0.634302                               0.675338   \n",
       "243                           0.195650                               0.668932   \n",
       "199                           0.276372                               0.676450   \n",
       "215                           0.467081                               0.687685   \n",
       "536                           0.180565                               0.683572   \n",
       "282                          -0.024486                               0.691734   \n",
       "\n",
       "     user_attrs_train_OTD trans_date_mean  \n",
       "323                              0.818148  \n",
       "521                             -0.131647  \n",
       "303                             -1.180015  \n",
       "424                             -4.814724  \n",
       "305                              0.362950  \n",
       "243                             -1.362656  \n",
       "199                             -1.058677  \n",
       "215                             -0.394935  \n",
       "536                             -1.477919  \n",
       "282                             -2.384896  \n",
       "\n",
       "[10 rows x 21 columns]"
      ]
     },
     "execution_count": 135,
     "metadata": {},
     "output_type": "execute_result"
    }
   ],
   "source": [
    "datasets = [\"alphabattle_small\", \"age\"]\n",
    "methods = [\"vae\", \"detpp\"]\n",
    "token_modes = [False, True]\n",
    "k += 1\n",
    "full_product = list(product(datasets, methods, token_modes))\n",
    "dataset, method, token_mode = full_product[k % len(full_product)]\n",
    "\n",
    "path = f\"{dataset}/{'1to1/optuna' if token_mode else 'optuna'}/{method}\"\n",
    "print(path)\n",
    "df, study, col_user, col_params = prepare_data(path)\n",
    "\n",
    "print(df.shape, df[~df[\"value\"].isna()].shape)\n",
    "test_cols = [col for col in col_user if (\"mean\" in col) and (\"test\" not in col)]\n",
    "# test_cols = [col for col in test_cols if (\"F1\" in col) or (\"Cardinality\" in col)]\n",
    "# par = [col for col in col_user + col_params if \"BetaScheduler\" in col]\n",
    "# test_loss = \"user_attrs_test_loss_mean\"\n",
    "sorted_df = df[~df[\"value\"].isna()].sort_values(\"value\")\n",
    "best_run = sorted_df.iloc[-1].name\n",
    "sorted_df[[\"value\"] + test_cols][-10:]"
   ]
  },
  {
   "cell_type": "code",
   "execution_count": 101,
   "metadata": {},
   "outputs": [],
   "source": [
    "get_run(path, 183, dataset, method, token_mode, True)\n"
   ]
  },
  {
   "cell_type": "code",
   "execution_count": 116,
   "metadata": {},
   "outputs": [
    {
     "data": {
      "text/html": [
       "<div>\n",
       "<style scoped>\n",
       "    .dataframe tbody tr th:only-of-type {\n",
       "        vertical-align: middle;\n",
       "    }\n",
       "\n",
       "    .dataframe tbody tr th {\n",
       "        vertical-align: top;\n",
       "    }\n",
       "\n",
       "    .dataframe thead th {\n",
       "        text-align: right;\n",
       "    }\n",
       "</style>\n",
       "<table border=\"1\" class=\"dataframe\">\n",
       "  <thead>\n",
       "    <tr style=\"text-align: right;\">\n",
       "      <th></th>\n",
       "      <th>user_attrs_memory_after_mean</th>\n",
       "      <th>user_attrs_memory_after_std</th>\n",
       "    </tr>\n",
       "  </thead>\n",
       "  <tbody>\n",
       "    <tr>\n",
       "      <th>74</th>\n",
       "      <td>11054.0</td>\n",
       "      <td>0.0</td>\n",
       "    </tr>\n",
       "    <tr>\n",
       "      <th>50</th>\n",
       "      <td>15448.0</td>\n",
       "      <td>0.0</td>\n",
       "    </tr>\n",
       "    <tr>\n",
       "      <th>66</th>\n",
       "      <td>17772.0</td>\n",
       "      <td>0.0</td>\n",
       "    </tr>\n",
       "    <tr>\n",
       "      <th>49</th>\n",
       "      <td>18908.0</td>\n",
       "      <td>0.0</td>\n",
       "    </tr>\n",
       "    <tr>\n",
       "      <th>78</th>\n",
       "      <td>11762.0</td>\n",
       "      <td>0.0</td>\n",
       "    </tr>\n",
       "    <tr>\n",
       "      <th>42</th>\n",
       "      <td>17686.0</td>\n",
       "      <td>0.0</td>\n",
       "    </tr>\n",
       "    <tr>\n",
       "      <th>82</th>\n",
       "      <td>14168.0</td>\n",
       "      <td>0.0</td>\n",
       "    </tr>\n",
       "    <tr>\n",
       "      <th>81</th>\n",
       "      <td>11378.0</td>\n",
       "      <td>0.0</td>\n",
       "    </tr>\n",
       "    <tr>\n",
       "      <th>80</th>\n",
       "      <td>11174.0</td>\n",
       "      <td>0.0</td>\n",
       "    </tr>\n",
       "    <tr>\n",
       "      <th>84</th>\n",
       "      <td>12696.0</td>\n",
       "      <td>0.0</td>\n",
       "    </tr>\n",
       "  </tbody>\n",
       "</table>\n",
       "</div>"
      ],
      "text/plain": [
       "    user_attrs_memory_after_mean  user_attrs_memory_after_std\n",
       "74                       11054.0                          0.0\n",
       "50                       15448.0                          0.0\n",
       "66                       17772.0                          0.0\n",
       "49                       18908.0                          0.0\n",
       "78                       11762.0                          0.0\n",
       "42                       17686.0                          0.0\n",
       "82                       14168.0                          0.0\n",
       "81                       11378.0                          0.0\n",
       "80                       11174.0                          0.0\n",
       "84                       12696.0                          0.0"
      ]
     },
     "execution_count": 116,
     "metadata": {},
     "output_type": "execute_result"
    }
   ],
   "source": [
    "sorted_df[[col for col in col_user if (\"memory\" in col)]][-10:]"
   ]
  },
  {
   "cell_type": "code",
   "execution_count": 74,
   "metadata": {},
   "outputs": [
    {
     "name": "stdout",
     "output_type": "stream",
     "text": [
      "Index([  2,   4,   5,   7,  15,  16,  17,  18,  19,  20,\n",
      "       ...\n",
      "       289, 290, 298, 300, 301, 305, 306, 307, 308, 309],\n",
      "      dtype='int64', length=185)\n",
      "2 torch.cuda.OutOfMemoryError: CUDA out of memory. Tried to allocate 5.67 GiB. GPU \n",
      "4 torch.cuda.OutOfMemoryError: CUDA out of memory. Tried to allocate 5.46 GiB. GPU \n",
      "5 torch.cuda.OutOfMemoryError: CUDA out of memory. Tried to allocate 15.86 GiB. GPU \n",
      "7 torch.cuda.OutOfMemoryError: CUDA out of memory. Tried to allocate 6.64 GiB. GPU \n",
      "15 \n",
      "16 \n",
      "17 \n",
      "18 \n",
      "19 \n",
      "20 \n",
      "21 \n",
      "22 \n",
      "23 \n",
      "24 \n",
      "25 \n",
      "26 \n",
      "27 \n",
      "28 \n",
      "29 \n",
      "30 \n",
      "31 \n",
      "32 \n",
      "33 \n",
      "34 \n",
      "35 \n",
      "36 \n",
      "37 \n",
      "38 \n",
      "39 \n",
      "40 \n",
      "41 \n",
      "42 \n",
      "43 \n",
      "44 \n",
      "45 \n",
      "46 \n",
      "47 \n",
      "48 \n",
      "49 \n",
      "50 \n",
      "51 \n",
      "52 \n",
      "53 \n",
      "54 \n",
      "55 \n",
      "56 \n",
      "57 \n",
      "58 \n",
      "59 \n",
      "60 \n",
      "61 \n",
      "62 \n",
      "63 \n",
      "64 \n",
      "65 \n",
      "66 \n",
      "67 \n",
      "68 \n",
      "69 \n",
      "70 \n",
      "71 \n",
      "72 \n",
      "73 \n",
      "74 \n",
      "75 \n",
      "76 \n",
      "77 \n",
      "78 \n",
      "79 \n",
      "80 \n",
      "81 \n",
      "82 \n",
      "83 \n",
      "84 \n",
      "85 \n",
      "86 \n",
      "87 \n",
      "88 \n",
      "89 \n",
      "90 \n",
      "91 \n",
      "92 \n",
      "93 \n",
      "94 \n",
      "95 \n",
      "96 \n",
      "97 \n",
      "98 \n",
      "99 \n",
      "120 torch.cuda.OutOfMemoryError: CUDA out of memory. Tried to allocate 5.41 GiB. GPU \n",
      "121 torch.cuda.OutOfMemoryError: CUDA out of memory. Tried to allocate 5.41 GiB. GPU \n",
      "150 torch.cuda.OutOfMemoryError: CUDA out of memory. Tried to allocate 5.06 GiB. GPU \n",
      "156 torch.cuda.OutOfMemoryError: CUDA out of memory. Tried to allocate 7.17 GiB. GPU \n",
      "160 ValueError: None detected in loss. Terminating training.\n",
      "170 torch.cuda.OutOfMemoryError: CUDA out of memory. Tried to allocate 7.35 GiB. GPU \n",
      "173 torch.cuda.OutOfMemoryError: CUDA out of memory. Tried to allocate 6.91 GiB. GPU \n",
      "174 torch.cuda.OutOfMemoryError: CUDA out of memory. Tried to allocate 7.35 GiB. GPU \n",
      "178 torch.cuda.OutOfMemoryError: CUDA out of memory. Tried to allocate 6.38 GiB. GPU \n",
      "183 torch.cuda.OutOfMemoryError: CUDA out of memory. Tried to allocate 6.56 GiB. GPU \n",
      "184 ValueError: None detected in loss. Terminating training.\n",
      "195 torch.cuda.OutOfMemoryError: CUDA out of memory. Tried to allocate 5.18 GiB. GPU \n",
      "196 torch.cuda.OutOfMemoryError: CUDA out of memory. Tried to allocate 4.77 GiB. GPU \n",
      "199 torch.cuda.OutOfMemoryError: CUDA out of memory. Tried to allocate 7.62 GiB. GPU \n",
      "201 torch.cuda.OutOfMemoryError: CUDA out of memory. Tried to allocate 8.06 GiB. GPU \n",
      "202 torch.cuda.OutOfMemoryError: CUDA out of memory. Tried to allocate 7.35 GiB. GPU \n",
      "203 torch.cuda.OutOfMemoryError: CUDA out of memory. Tried to allocate 5.40 GiB. GPU \n",
      "207 torch.cuda.OutOfMemoryError: CUDA out of memory. Tried to allocate 5.41 GiB. GPU \n",
      "210 torch.cuda.OutOfMemoryError: CUDA out of memory. Tried to allocate 4.36 GiB. GPU \n",
      "211 torch.cuda.OutOfMemoryError: CUDA out of memory. Tried to allocate 6.29 GiB. GPU \n",
      "212 torch.cuda.OutOfMemoryError: CUDA out of memory. Tried to allocate 5.05 GiB. GPU \n",
      "213 torch.cuda.OutOfMemoryError: CUDA out of memory. Tried to allocate 4.13 GiB. GPU \n",
      "214 torch.cuda.OutOfMemoryError: CUDA out of memory. Tried to allocate 5.38 GiB. GPU \n",
      "215 torch.cuda.OutOfMemoryError: CUDA out of memory. Tried to allocate 6.08 GiB. GPU \n",
      "216 torch.cuda.OutOfMemoryError: CUDA out of memory. Tried to allocate 6.21 GiB. GPU \n",
      "217 torch.cuda.OutOfMemoryError: CUDA out of memory. Tried to allocate 8.28 GiB. GPU \n",
      "218 torch.cuda.OutOfMemoryError: CUDA out of memory. Tried to allocate 5.94 GiB. GPU \n",
      "219 torch.cuda.OutOfMemoryError: CUDA out of memory. Tried to allocate 6.21 GiB. GPU \n",
      "220 torch.cuda.OutOfMemoryError: CUDA out of memory. Tried to allocate 6.03 GiB. GPU \n",
      "221 torch.cuda.OutOfMemoryError: CUDA out of memory. Tried to allocate 7.20 GiB. GPU \n",
      "222 torch.cuda.OutOfMemoryError: CUDA out of memory. Tried to allocate 3.94 GiB. GPU \n",
      "223 torch.cuda.OutOfMemoryError: CUDA out of memory. Tried to allocate 6.84 GiB. GPU \n",
      "224 torch.cuda.OutOfMemoryError: CUDA out of memory. Tried to allocate 6.09 GiB. GPU \n",
      "225 torch.cuda.OutOfMemoryError: CUDA out of memory. Tried to allocate 4.39 GiB. GPU \n",
      "226 torch.cuda.OutOfMemoryError: CUDA out of memory. Tried to allocate 4.32 GiB. GPU \n",
      "227 torch.cuda.OutOfMemoryError: CUDA out of memory. Tried to allocate 4.53 GiB. GPU \n",
      "228 torch.cuda.OutOfMemoryError: CUDA out of memory. Tried to allocate 7.58 GiB. GPU \n",
      "229 torch.cuda.OutOfMemoryError: CUDA out of memory. Tried to allocate 6.03 GiB. GPU \n",
      "230 torch.cuda.OutOfMemoryError: CUDA out of memory. Tried to allocate 7.48 GiB. GPU \n",
      "231 torch.cuda.OutOfMemoryError: CUDA out of memory. Tried to allocate 3.96 GiB. GPU \n",
      "232 torch.cuda.OutOfMemoryError: CUDA out of memory. Tried to allocate 6.57 GiB. GPU \n",
      "233 torch.cuda.OutOfMemoryError: CUDA out of memory. Tried to allocate 3.83 GiB. GPU \n",
      "234 torch.cuda.OutOfMemoryError: CUDA out of memory. Tried to allocate 3.87 GiB. GPU \n",
      "235 torch.cuda.OutOfMemoryError: CUDA out of memory. Tried to allocate 5.98 GiB. GPU \n",
      "236 torch.cuda.OutOfMemoryError: CUDA out of memory. Tried to allocate 4.88 GiB. GPU \n",
      "237 torch.cuda.OutOfMemoryError: CUDA out of memory. Tried to allocate 3.23 GiB. GPU \n",
      "238 torch.cuda.OutOfMemoryError: CUDA out of memory. Tried to allocate 5.93 GiB. GPU \n",
      "239 torch.cuda.OutOfMemoryError: CUDA out of memory. Tried to allocate 6.19 GiB. GPU \n",
      "240 torch.cuda.OutOfMemoryError: CUDA out of memory. Tried to allocate 7.11 GiB. GPU \n",
      "241 torch.cuda.OutOfMemoryError: CUDA out of memory. Tried to allocate 4.81 GiB. GPU \n",
      "242 torch.cuda.OutOfMemoryError: CUDA out of memory. Tried to allocate 8.25 GiB. GPU \n",
      "243 torch.cuda.OutOfMemoryError: CUDA out of memory. Tried to allocate 6.41 GiB. GPU \n",
      "244 torch.cuda.OutOfMemoryError: CUDA out of memory. Tried to allocate 4.34 GiB. GPU \n",
      "245 torch.cuda.OutOfMemoryError: CUDA out of memory. Tried to allocate 3.77 GiB. GPU \n",
      "246 torch.cuda.OutOfMemoryError: CUDA out of memory. Tried to allocate 6.36 GiB. GPU \n",
      "247 torch.cuda.OutOfMemoryError: CUDA out of memory. Tried to allocate 4.34 GiB. GPU \n",
      "248 torch.cuda.OutOfMemoryError: CUDA out of memory. Tried to allocate 3.87 GiB. GPU \n",
      "249 torch.cuda.OutOfMemoryError: CUDA out of memory. Tried to allocate 6.06 GiB. GPU \n",
      "250 torch.cuda.OutOfMemoryError: CUDA out of memory. Tried to allocate 7.09 GiB. GPU \n",
      "251 torch.cuda.OutOfMemoryError: CUDA out of memory. Tried to allocate 7.11 GiB. GPU \n",
      "252 torch.cuda.OutOfMemoryError: CUDA out of memory. Tried to allocate 7.45 GiB. GPU \n",
      "253 torch.cuda.OutOfMemoryError: CUDA out of memory. Tried to allocate 7.21 GiB. GPU \n",
      "254 torch.cuda.OutOfMemoryError: CUDA out of memory. Tried to allocate 7.08 GiB. GPU \n",
      "255 torch.cuda.OutOfMemoryError: CUDA out of memory. Tried to allocate 5.98 GiB. GPU \n",
      "256 torch.cuda.OutOfMemoryError: CUDA out of memory. Tried to allocate 6.04 GiB. GPU \n",
      "257 torch.cuda.OutOfMemoryError: CUDA out of memory. Tried to allocate 5.58 GiB. GPU \n",
      "258 torch.cuda.OutOfMemoryError: CUDA out of memory. Tried to allocate 6.46 GiB. GPU \n",
      "259 torch.cuda.OutOfMemoryError: CUDA out of memory. Tried to allocate 3.95 GiB. GPU \n",
      "260 torch.cuda.OutOfMemoryError: CUDA out of memory. Tried to allocate 5.97 GiB. GPU \n",
      "261 torch.cuda.OutOfMemoryError: CUDA out of memory. Tried to allocate 4.05 GiB. GPU \n",
      "262 torch.cuda.OutOfMemoryError: CUDA out of memory. Tried to allocate 4.00 GiB. GPU \n",
      "263 torch.cuda.OutOfMemoryError: CUDA out of memory. Tried to allocate 7.71 GiB. GPU \n",
      "264 torch.cuda.OutOfMemoryError: CUDA out of memory. Tried to allocate 7.42 GiB. GPU \n",
      "265 torch.cuda.OutOfMemoryError: CUDA out of memory. Tried to allocate 5.98 GiB. GPU \n",
      "266 torch.cuda.OutOfMemoryError: CUDA out of memory. Tried to allocate 7.18 GiB. GPU \n",
      "267 torch.cuda.OutOfMemoryError: CUDA out of memory. Tried to allocate 6.96 GiB. GPU \n",
      "268 torch.cuda.OutOfMemoryError: CUDA out of memory. Tried to allocate 8.23 GiB. GPU \n",
      "270 ValueError: None detected in loss. Terminating training.\n",
      "273 torch.cuda.OutOfMemoryError: CUDA out of memory. Tried to allocate 5.53 GiB. GPU \n",
      "276 torch.cuda.OutOfMemoryError: CUDA out of memory. Tried to allocate 5.47 GiB. GPU \n",
      "279 torch.cuda.OutOfMemoryError: CUDA out of memory. Tried to allocate 8.24 GiB. GPU \n",
      "281 torch.cuda.OutOfMemoryError: CUDA out of memory. Tried to allocate 7.09 GiB. GPU \n",
      "282 torch.cuda.OutOfMemoryError: CUDA out of memory. Tried to allocate 8.05 GiB. GPU \n",
      "283 torch.cuda.OutOfMemoryError: CUDA out of memory. Tried to allocate 5.29 GiB. GPU \n",
      "287 torch.cuda.OutOfMemoryError: CUDA out of memory. Tried to allocate 5.47 GiB. GPU \n",
      "288 torch.cuda.OutOfMemoryError: CUDA out of memory. Tried to allocate 5.41 GiB. GPU \n",
      "289 torch.cuda.OutOfMemoryError: CUDA out of memory. Tried to allocate 7.35 GiB. GPU \n",
      "290 torch.cuda.OutOfMemoryError: CUDA out of memory. Tried to allocate 14.29 GiB. GPU \n",
      "298 torch.cuda.OutOfMemoryError: CUDA out of memory. Tried to allocate 5.40 GiB. GPU \n",
      "300 torch.cuda.OutOfMemoryError: CUDA out of memory. Tried to allocate 5.46 GiB. GPU \n",
      "301 torch.cuda.OutOfMemoryError: CUDA out of memory. Tried to allocate 5.41 GiB. GPU \n",
      "305 torch.cuda.OutOfMemoryError: CUDA out of memory. Tried to allocate 5.29 GiB. GPU \n",
      "306 torch.cuda.OutOfMemoryError: CUDA out of memory. Tried to allocate 7.74 GiB. GPU \n",
      "307 torch.cuda.OutOfMemoryError: CUDA out of memory. Tried to allocate 8.41 GiB. GPU \n",
      "308 value                                                                   NaN\n",
      "datetime_start                                   2025-09-10 17:30:47.202795\n",
      "datetime_complete                                                       NaT\n",
      "duration                                                                NaT\n",
      "params_loss.params.matching_weights._presence                      0.913227\n",
      "                                                            ...            \n",
      "user_attrs_train_OTD overall_std                                        NaN\n",
      "user_attrs_train_OTD payment_system_mean                                NaN\n",
      "user_attrs_train_OTD payment_system_std                                 NaN\n",
      "system_attrs_fixed_params                                               NaN\n",
      "state                                                               RUNNING\n",
      "Name: 308, Length: 88, dtype: object\n",
      "309 value                                                                   NaN\n",
      "datetime_start                                   2025-09-10 18:25:49.961606\n",
      "datetime_complete                                                       NaT\n",
      "duration                                                                NaT\n",
      "params_loss.params.matching_weights._presence                      0.006671\n",
      "                                                            ...            \n",
      "user_attrs_train_OTD overall_std                                        NaN\n",
      "user_attrs_train_OTD payment_system_mean                                NaN\n",
      "user_attrs_train_OTD payment_system_std                                 NaN\n",
      "system_attrs_fixed_params                                               NaN\n",
      "state                                                               RUNNING\n",
      "Name: 309, Length: 88, dtype: object\n"
     ]
    }
   ],
   "source": [
    "failed = df[(df[\"state\"] != \"COMPLETE\") | (df[col_user].isna().any(axis=1))][col_user].index\n",
    "print(failed)\n",
    "for fail in df[(df[\"state\"] != \"COMPLETE\") | (df[col_user].isna().any(axis=1))][col_user].index:\n",
    "    error_path = Path(f\"log/generation/{path}/{fail}/ERROR.txt\")\n",
    "    if error_path.exists():\n",
    "        error = error_path.read_text()\n",
    "        print(fail, error.split(\"\\n\")[-2])\n",
    "    else:\n",
    "        print(fail, df.loc[fail])"
   ]
  },
  {
   "cell_type": "code",
   "execution_count": 75,
   "metadata": {},
   "outputs": [],
   "source": [
    "# optuna.visualization.plot_optimization_history(study)"
   ]
  },
  {
   "cell_type": "markdown",
   "metadata": {},
   "source": [
    "### Params influence"
   ]
  },
  {
   "cell_type": "code",
   "execution_count": 76,
   "metadata": {},
   "outputs": [
    {
     "name": "stderr",
     "output_type": "stream",
     "text": [
      "[I 2025-09-15 15:51:16,419] A new study created in memory with name: no-name-96dc0ed0-cf53-4294-9403-c8e78927d032\n"
     ]
    }
   ],
   "source": [
    "trials = study.trials\n",
    "trials = [trial for trial in trials if (trial.state == TrialState.COMPLETE) and (trial.value >= -1e4)]\n",
    "plotted_trials = sorted(trials, key=lambda t: t.value)\n",
    "study = optuna.create_study()\n",
    "\n",
    "for trial in plotted_trials:\n",
    "    study.add_trial(trial)"
   ]
  },
  {
   "cell_type": "code",
   "execution_count": 77,
   "metadata": {},
   "outputs": [
    {
     "name": "stdout",
     "output_type": "stream",
     "text": [
      "[0.5898733240869858, 0.16537854782255595, 0.1296331387829132, 0.04447632621437558, 0.025722607503003078, 0.024558496166869344, 0.013944047213503652, 0.003978982610401779, 0.0016673888528389604, 0.0007671407465527272]\n",
      "['optimizer.params.lr', 'optimizer.params.weight_decay', 'model.autoencoder.params.num_emb_dim', 'model.params.k_factor', 'model.latent_encoder.params.num_layers', 'model.autoencoder.params.num_norm', 'model.latent_encoder.params.dropout', 'model.autoencoder.params.cat_emb_dim', 'model.latent_encoder.params.hidden_size', 'loss.params.matching_weights._presence']\n"
     ]
    },
    {
     "data": {
      "application/vnd.plotly.v1+json": {
       "config": {
        "plotlyServerURL": "https://plot.ly"
       },
       "data": [
        {
         "cliponaxis": false,
         "hovertemplate": [
          "loss.params.matching_weights._presence (FloatDistribution): 0.0007671407465527272<extra></extra>",
          "model.latent_encoder.params.hidden_size (IntDistribution): 0.0016673888528389604<extra></extra>",
          "model.autoencoder.params.cat_emb_dim (IntDistribution): 0.003978982610401779<extra></extra>",
          "model.latent_encoder.params.dropout (FloatDistribution): 0.013944047213503652<extra></extra>",
          "model.autoencoder.params.num_norm (CategoricalDistribution): 0.024558496166869344<extra></extra>",
          "model.latent_encoder.params.num_layers (IntDistribution): 0.025722607503003078<extra></extra>",
          "model.params.k_factor (FloatDistribution): 0.04447632621437558<extra></extra>",
          "model.autoencoder.params.num_emb_dim (IntDistribution): 0.1296331387829132<extra></extra>",
          "optimizer.params.weight_decay (FloatDistribution): 0.16537854782255595<extra></extra>",
          "optimizer.params.lr (FloatDistribution): 0.5898733240869858<extra></extra>"
         ],
         "name": "target",
         "orientation": "h",
         "text": [
          "<0.01",
          "<0.01",
          "<0.01",
          "0.01",
          "0.02",
          "0.03",
          "0.04",
          "0.13",
          "0.17",
          "0.59"
         ],
         "textposition": "outside",
         "type": "bar",
         "x": [
          0.0007671407465527272,
          0.0016673888528389604,
          0.003978982610401779,
          0.013944047213503652,
          0.024558496166869344,
          0.025722607503003078,
          0.04447632621437558,
          0.1296331387829132,
          0.16537854782255595,
          0.5898733240869858
         ],
         "y": [
          "loss.params.matching_weights._presence",
          "model.latent_encoder.params.hidden_size",
          "model.autoencoder.params.cat_emb_dim",
          "model.latent_encoder.params.dropout",
          "model.autoencoder.params.num_norm",
          "model.latent_encoder.params.num_layers",
          "model.params.k_factor",
          "model.autoencoder.params.num_emb_dim",
          "optimizer.params.weight_decay",
          "optimizer.params.lr"
         ]
        }
       ],
       "layout": {
        "template": {
         "data": {
          "bar": [
           {
            "error_x": {
             "color": "#2a3f5f"
            },
            "error_y": {
             "color": "#2a3f5f"
            },
            "marker": {
             "line": {
              "color": "#E5ECF6",
              "width": 0.5
             },
             "pattern": {
              "fillmode": "overlay",
              "size": 10,
              "solidity": 0.2
             }
            },
            "type": "bar"
           }
          ],
          "barpolar": [
           {
            "marker": {
             "line": {
              "color": "#E5ECF6",
              "width": 0.5
             },
             "pattern": {
              "fillmode": "overlay",
              "size": 10,
              "solidity": 0.2
             }
            },
            "type": "barpolar"
           }
          ],
          "carpet": [
           {
            "aaxis": {
             "endlinecolor": "#2a3f5f",
             "gridcolor": "white",
             "linecolor": "white",
             "minorgridcolor": "white",
             "startlinecolor": "#2a3f5f"
            },
            "baxis": {
             "endlinecolor": "#2a3f5f",
             "gridcolor": "white",
             "linecolor": "white",
             "minorgridcolor": "white",
             "startlinecolor": "#2a3f5f"
            },
            "type": "carpet"
           }
          ],
          "choropleth": [
           {
            "colorbar": {
             "outlinewidth": 0,
             "ticks": ""
            },
            "type": "choropleth"
           }
          ],
          "contour": [
           {
            "colorbar": {
             "outlinewidth": 0,
             "ticks": ""
            },
            "colorscale": [
             [
              0,
              "#0d0887"
             ],
             [
              0.1111111111111111,
              "#46039f"
             ],
             [
              0.2222222222222222,
              "#7201a8"
             ],
             [
              0.3333333333333333,
              "#9c179e"
             ],
             [
              0.4444444444444444,
              "#bd3786"
             ],
             [
              0.5555555555555556,
              "#d8576b"
             ],
             [
              0.6666666666666666,
              "#ed7953"
             ],
             [
              0.7777777777777778,
              "#fb9f3a"
             ],
             [
              0.8888888888888888,
              "#fdca26"
             ],
             [
              1,
              "#f0f921"
             ]
            ],
            "type": "contour"
           }
          ],
          "contourcarpet": [
           {
            "colorbar": {
             "outlinewidth": 0,
             "ticks": ""
            },
            "type": "contourcarpet"
           }
          ],
          "heatmap": [
           {
            "colorbar": {
             "outlinewidth": 0,
             "ticks": ""
            },
            "colorscale": [
             [
              0,
              "#0d0887"
             ],
             [
              0.1111111111111111,
              "#46039f"
             ],
             [
              0.2222222222222222,
              "#7201a8"
             ],
             [
              0.3333333333333333,
              "#9c179e"
             ],
             [
              0.4444444444444444,
              "#bd3786"
             ],
             [
              0.5555555555555556,
              "#d8576b"
             ],
             [
              0.6666666666666666,
              "#ed7953"
             ],
             [
              0.7777777777777778,
              "#fb9f3a"
             ],
             [
              0.8888888888888888,
              "#fdca26"
             ],
             [
              1,
              "#f0f921"
             ]
            ],
            "type": "heatmap"
           }
          ],
          "histogram": [
           {
            "marker": {
             "pattern": {
              "fillmode": "overlay",
              "size": 10,
              "solidity": 0.2
             }
            },
            "type": "histogram"
           }
          ],
          "histogram2d": [
           {
            "colorbar": {
             "outlinewidth": 0,
             "ticks": ""
            },
            "colorscale": [
             [
              0,
              "#0d0887"
             ],
             [
              0.1111111111111111,
              "#46039f"
             ],
             [
              0.2222222222222222,
              "#7201a8"
             ],
             [
              0.3333333333333333,
              "#9c179e"
             ],
             [
              0.4444444444444444,
              "#bd3786"
             ],
             [
              0.5555555555555556,
              "#d8576b"
             ],
             [
              0.6666666666666666,
              "#ed7953"
             ],
             [
              0.7777777777777778,
              "#fb9f3a"
             ],
             [
              0.8888888888888888,
              "#fdca26"
             ],
             [
              1,
              "#f0f921"
             ]
            ],
            "type": "histogram2d"
           }
          ],
          "histogram2dcontour": [
           {
            "colorbar": {
             "outlinewidth": 0,
             "ticks": ""
            },
            "colorscale": [
             [
              0,
              "#0d0887"
             ],
             [
              0.1111111111111111,
              "#46039f"
             ],
             [
              0.2222222222222222,
              "#7201a8"
             ],
             [
              0.3333333333333333,
              "#9c179e"
             ],
             [
              0.4444444444444444,
              "#bd3786"
             ],
             [
              0.5555555555555556,
              "#d8576b"
             ],
             [
              0.6666666666666666,
              "#ed7953"
             ],
             [
              0.7777777777777778,
              "#fb9f3a"
             ],
             [
              0.8888888888888888,
              "#fdca26"
             ],
             [
              1,
              "#f0f921"
             ]
            ],
            "type": "histogram2dcontour"
           }
          ],
          "mesh3d": [
           {
            "colorbar": {
             "outlinewidth": 0,
             "ticks": ""
            },
            "type": "mesh3d"
           }
          ],
          "parcoords": [
           {
            "line": {
             "colorbar": {
              "outlinewidth": 0,
              "ticks": ""
             }
            },
            "type": "parcoords"
           }
          ],
          "pie": [
           {
            "automargin": true,
            "type": "pie"
           }
          ],
          "scatter": [
           {
            "fillpattern": {
             "fillmode": "overlay",
             "size": 10,
             "solidity": 0.2
            },
            "type": "scatter"
           }
          ],
          "scatter3d": [
           {
            "line": {
             "colorbar": {
              "outlinewidth": 0,
              "ticks": ""
             }
            },
            "marker": {
             "colorbar": {
              "outlinewidth": 0,
              "ticks": ""
             }
            },
            "type": "scatter3d"
           }
          ],
          "scattercarpet": [
           {
            "marker": {
             "colorbar": {
              "outlinewidth": 0,
              "ticks": ""
             }
            },
            "type": "scattercarpet"
           }
          ],
          "scattergeo": [
           {
            "marker": {
             "colorbar": {
              "outlinewidth": 0,
              "ticks": ""
             }
            },
            "type": "scattergeo"
           }
          ],
          "scattergl": [
           {
            "marker": {
             "colorbar": {
              "outlinewidth": 0,
              "ticks": ""
             }
            },
            "type": "scattergl"
           }
          ],
          "scattermap": [
           {
            "marker": {
             "colorbar": {
              "outlinewidth": 0,
              "ticks": ""
             }
            },
            "type": "scattermap"
           }
          ],
          "scattermapbox": [
           {
            "marker": {
             "colorbar": {
              "outlinewidth": 0,
              "ticks": ""
             }
            },
            "type": "scattermapbox"
           }
          ],
          "scatterpolar": [
           {
            "marker": {
             "colorbar": {
              "outlinewidth": 0,
              "ticks": ""
             }
            },
            "type": "scatterpolar"
           }
          ],
          "scatterpolargl": [
           {
            "marker": {
             "colorbar": {
              "outlinewidth": 0,
              "ticks": ""
             }
            },
            "type": "scatterpolargl"
           }
          ],
          "scatterternary": [
           {
            "marker": {
             "colorbar": {
              "outlinewidth": 0,
              "ticks": ""
             }
            },
            "type": "scatterternary"
           }
          ],
          "surface": [
           {
            "colorbar": {
             "outlinewidth": 0,
             "ticks": ""
            },
            "colorscale": [
             [
              0,
              "#0d0887"
             ],
             [
              0.1111111111111111,
              "#46039f"
             ],
             [
              0.2222222222222222,
              "#7201a8"
             ],
             [
              0.3333333333333333,
              "#9c179e"
             ],
             [
              0.4444444444444444,
              "#bd3786"
             ],
             [
              0.5555555555555556,
              "#d8576b"
             ],
             [
              0.6666666666666666,
              "#ed7953"
             ],
             [
              0.7777777777777778,
              "#fb9f3a"
             ],
             [
              0.8888888888888888,
              "#fdca26"
             ],
             [
              1,
              "#f0f921"
             ]
            ],
            "type": "surface"
           }
          ],
          "table": [
           {
            "cells": {
             "fill": {
              "color": "#EBF0F8"
             },
             "line": {
              "color": "white"
             }
            },
            "header": {
             "fill": {
              "color": "#C8D4E3"
             },
             "line": {
              "color": "white"
             }
            },
            "type": "table"
           }
          ]
         },
         "layout": {
          "annotationdefaults": {
           "arrowcolor": "#2a3f5f",
           "arrowhead": 0,
           "arrowwidth": 1
          },
          "autotypenumbers": "strict",
          "coloraxis": {
           "colorbar": {
            "outlinewidth": 0,
            "ticks": ""
           }
          },
          "colorscale": {
           "diverging": [
            [
             0,
             "#8e0152"
            ],
            [
             0.1,
             "#c51b7d"
            ],
            [
             0.2,
             "#de77ae"
            ],
            [
             0.3,
             "#f1b6da"
            ],
            [
             0.4,
             "#fde0ef"
            ],
            [
             0.5,
             "#f7f7f7"
            ],
            [
             0.6,
             "#e6f5d0"
            ],
            [
             0.7,
             "#b8e186"
            ],
            [
             0.8,
             "#7fbc41"
            ],
            [
             0.9,
             "#4d9221"
            ],
            [
             1,
             "#276419"
            ]
           ],
           "sequential": [
            [
             0,
             "#0d0887"
            ],
            [
             0.1111111111111111,
             "#46039f"
            ],
            [
             0.2222222222222222,
             "#7201a8"
            ],
            [
             0.3333333333333333,
             "#9c179e"
            ],
            [
             0.4444444444444444,
             "#bd3786"
            ],
            [
             0.5555555555555556,
             "#d8576b"
            ],
            [
             0.6666666666666666,
             "#ed7953"
            ],
            [
             0.7777777777777778,
             "#fb9f3a"
            ],
            [
             0.8888888888888888,
             "#fdca26"
            ],
            [
             1,
             "#f0f921"
            ]
           ],
           "sequentialminus": [
            [
             0,
             "#0d0887"
            ],
            [
             0.1111111111111111,
             "#46039f"
            ],
            [
             0.2222222222222222,
             "#7201a8"
            ],
            [
             0.3333333333333333,
             "#9c179e"
            ],
            [
             0.4444444444444444,
             "#bd3786"
            ],
            [
             0.5555555555555556,
             "#d8576b"
            ],
            [
             0.6666666666666666,
             "#ed7953"
            ],
            [
             0.7777777777777778,
             "#fb9f3a"
            ],
            [
             0.8888888888888888,
             "#fdca26"
            ],
            [
             1,
             "#f0f921"
            ]
           ]
          },
          "colorway": [
           "#636efa",
           "#EF553B",
           "#00cc96",
           "#ab63fa",
           "#FFA15A",
           "#19d3f3",
           "#FF6692",
           "#B6E880",
           "#FF97FF",
           "#FECB52"
          ],
          "font": {
           "color": "#2a3f5f"
          },
          "geo": {
           "bgcolor": "white",
           "lakecolor": "white",
           "landcolor": "#E5ECF6",
           "showlakes": true,
           "showland": true,
           "subunitcolor": "white"
          },
          "hoverlabel": {
           "align": "left"
          },
          "hovermode": "closest",
          "mapbox": {
           "style": "light"
          },
          "paper_bgcolor": "white",
          "plot_bgcolor": "#E5ECF6",
          "polar": {
           "angularaxis": {
            "gridcolor": "white",
            "linecolor": "white",
            "ticks": ""
           },
           "bgcolor": "#E5ECF6",
           "radialaxis": {
            "gridcolor": "white",
            "linecolor": "white",
            "ticks": ""
           }
          },
          "scene": {
           "xaxis": {
            "backgroundcolor": "#E5ECF6",
            "gridcolor": "white",
            "gridwidth": 2,
            "linecolor": "white",
            "showbackground": true,
            "ticks": "",
            "zerolinecolor": "white"
           },
           "yaxis": {
            "backgroundcolor": "#E5ECF6",
            "gridcolor": "white",
            "gridwidth": 2,
            "linecolor": "white",
            "showbackground": true,
            "ticks": "",
            "zerolinecolor": "white"
           },
           "zaxis": {
            "backgroundcolor": "#E5ECF6",
            "gridcolor": "white",
            "gridwidth": 2,
            "linecolor": "white",
            "showbackground": true,
            "ticks": "",
            "zerolinecolor": "white"
           }
          },
          "shapedefaults": {
           "line": {
            "color": "#2a3f5f"
           }
          },
          "ternary": {
           "aaxis": {
            "gridcolor": "white",
            "linecolor": "white",
            "ticks": ""
           },
           "baxis": {
            "gridcolor": "white",
            "linecolor": "white",
            "ticks": ""
           },
           "bgcolor": "#E5ECF6",
           "caxis": {
            "gridcolor": "white",
            "linecolor": "white",
            "ticks": ""
           }
          },
          "title": {
           "x": 0.05
          },
          "xaxis": {
           "automargin": true,
           "gridcolor": "white",
           "linecolor": "white",
           "ticks": "",
           "title": {
            "standoff": 15
           },
           "zerolinecolor": "white",
           "zerolinewidth": 2
          },
          "yaxis": {
           "automargin": true,
           "gridcolor": "white",
           "linecolor": "white",
           "ticks": "",
           "title": {
            "standoff": 15
           },
           "zerolinecolor": "white",
           "zerolinewidth": 2
          }
         }
        },
        "title": {
         "text": "Hyperparameter Importances"
        },
        "xaxis": {
         "title": {
          "text": "Hyperparameter Importance"
         }
        },
        "yaxis": {
         "title": {
          "text": "Hyperparameter"
         }
        }
       }
      }
     },
     "metadata": {},
     "output_type": "display_data"
    }
   ],
   "source": [
    "target = lambda t: (t.user_attrs[\"test_OTD overall_mean\"])\n",
    "target_name = \"target\"\n",
    "fig = optuna.visualization.plot_param_importances(study, target=target, target_name=target_name)\n",
    "print(fig._data[0][\"x\"][::-1])\n",
    "print(fig._data[0][\"y\"][::-1])\n",
    "take = 7\n",
    "params = fig._data[0][\"y\"][-take:]\n",
    "not_imp = list(set([col.replace(\"params_\", \"\") for col in col_params]) - set(params) - {\"duration\", \"value\", \"system_attrs_fixed_params\"})\n",
    "fig"
   ]
  },
  {
   "cell_type": "code",
   "execution_count": 52,
   "metadata": {},
   "outputs": [
    {
     "data": {
      "text/plain": [
       "['optimizer.params.lr',\n",
       " 'model.params.k_factor',\n",
       " 'model.latent_encoder.params.num_layers',\n",
       " 'model.autoencoder.params.cat_emb_dim',\n",
       " 'model.autoencoder.params.num_emb_dim',\n",
       " 'loss.params.matching_weights._presence',\n",
       " 'model.latent_encoder.params.hidden_size']"
      ]
     },
     "execution_count": 52,
     "metadata": {},
     "output_type": "execute_result"
    }
   ],
   "source": [
    "params"
   ]
  },
  {
   "cell_type": "code",
   "execution_count": 78,
   "metadata": {},
   "outputs": [
    {
     "data": {
      "application/vnd.plotly.v1+json": {
       "config": {
        "plotlyServerURL": "https://plot.ly"
       },
       "data": [
        {
         "marker": {
          "color": [
           0,
           1,
           2,
           3,
           4,
           5,
           6,
           7,
           8,
           9,
           10,
           11,
           12,
           13,
           14,
           15,
           16,
           17,
           18,
           19,
           20,
           21,
           22,
           23,
           24,
           25,
           26,
           27,
           28,
           29,
           30,
           31,
           32,
           33,
           34,
           35,
           36,
           37,
           38,
           39,
           40,
           41,
           42,
           43,
           44,
           45,
           46,
           47,
           48,
           49,
           50,
           51,
           52,
           53,
           54,
           55,
           56,
           57,
           58,
           59,
           60,
           61,
           62,
           63,
           64,
           65,
           66,
           67,
           68,
           69,
           70,
           71,
           72,
           73,
           74,
           75,
           76,
           77,
           78,
           79,
           80,
           81,
           82,
           83,
           84,
           85,
           86,
           87,
           88,
           89,
           90,
           91,
           92,
           93,
           94,
           95,
           96,
           97,
           98,
           99,
           100,
           101,
           102,
           103,
           104,
           105,
           106,
           107,
           108,
           109,
           110,
           111,
           112,
           113,
           114,
           115,
           116,
           117,
           118,
           119,
           120,
           121,
           122,
           123,
           124
          ],
          "colorbar": {
           "title": {
            "text": "Trial"
           },
           "x": 1,
           "xpad": 40
          },
          "colorscale": [
           [
            0,
            "rgb(247,251,255)"
           ],
           [
            0.125,
            "rgb(222,235,247)"
           ],
           [
            0.25,
            "rgb(198,219,239)"
           ],
           [
            0.375,
            "rgb(158,202,225)"
           ],
           [
            0.5,
            "rgb(107,174,214)"
           ],
           [
            0.625,
            "rgb(66,146,198)"
           ],
           [
            0.75,
            "rgb(33,113,181)"
           ],
           [
            0.875,
            "rgb(8,81,156)"
           ],
           [
            1,
            "rgb(8,48,107)"
           ]
          ],
          "line": {
           "color": "Grey",
           "width": 0.5
          },
          "showscale": true
         },
         "mode": "markers",
         "name": "Feasible Trial",
         "showlegend": false,
         "type": "scatter",
         "x": [
          2.043034598748995,
          0.5189436859928875,
          1.4721885341152063,
          0.9184660743373703,
          3.9974381370520176,
          0.6665201141162459,
          1.6608660875207981,
          0.08848514299642063,
          2.9132186455873006,
          0.8350018897713312,
          2.384409568068821,
          0.7266319541062398,
          0.20779470851127224,
          0.7664084340906263,
          5.500098575308251,
          1.1215322759277644,
          2.2211174033760255,
          2.537658169128974,
          0,
          5.049656053588835,
          1.223717810191503,
          3.0590931934492183,
          8.814276409505663,
          1.1743602680535814,
          2.7344927869478384,
          0.9738260206358115,
          8.03751682099263,
          1.8007386023584273,
          0.5591108376350078,
          1.9189703698338403,
          2.9168033267857973,
          1.958877883314154,
          3.469257100729857,
          1.094111203303278,
          1.4076308371361144,
          0.1125478693608406,
          1.3036090297912635,
          7.736358539716166,
          2.7729754881802546,
          1.8612759052214871,
          1.9289638146272325,
          3.064045629169465,
          1.620466646026503,
          2.1686866612334477,
          2.8708530946040414,
          2.74711416335155,
          2.722893430378749,
          0.21891767690013694,
          2.0521952265651504,
          1.6325800604208238,
          2.5944304512611067,
          2.3124036697474177,
          1.678522343156493,
          2.708119073396547,
          2.2988669213790107,
          2.9750078492586995,
          2.368430758456223,
          0.9317538504657552,
          1.706167086319799,
          0.7467129165481079,
          0.8408182110171829,
          3.232774610784329,
          2.5851223952976836,
          2.131594296145398,
          1.5186287486124013,
          2.3530037567107973,
          0.6272595787923678,
          2.7934362729731275,
          1.4250392574655901,
          0.1496344833941542,
          0.6839172854389275,
          0.08660352818313444,
          0.3673918174833588,
          0.9395572921291542,
          0.08804663788266204,
          0.939731606092128,
          0.6286254404608426,
          0.4712825676638115,
          1.0350846299493162,
          1.03427318736808,
          0.41525009836350085,
          0.5809729309860817,
          0.0503555074793014,
          0.29107531463480735,
          0.03982618607260113,
          0.04481764163739832,
          0.5520028035221987,
          0.8222831306806326,
          1.021313835963079,
          0.30789212596691684,
          0.9805725579951259,
          0.15014726987181232,
          0.053129069155176345,
          0.8570553486015384,
          1.3776926408379064,
          1.2914235513725902,
          0.2764620807628291,
          0.2242757530897732,
          0.496679505571483,
          0.425905409249784,
          0.5871974711171248,
          0.4893812697032046,
          1.174166789853464,
          0.2651896222211354,
          1.2727972661839988,
          1.2775315959747353,
          0.5321415986484317,
          0.8171246410037114,
          1.1113317044660105,
          0.31541072441519546,
          0.6989580548422127,
          0.48545835304152735,
          0.8167396949665741,
          0.6032612940431843,
          0.5764478542814521,
          0.9936038282195516,
          1.250597346085339,
          0.3152137665066457,
          0.7177696169155442,
          0.756613585917444,
          0.4154700938514053,
          0.6240104717797395,
          1.0235372166277856,
          1.2296677311065105,
          0.6480480628923748
         ],
         "xaxis": "x",
         "y": [
          -0.12790654017022204,
          0.20426061384174363,
          0.23625718586003583,
          0.21120208784267783,
          0.15476732132081492,
          0.18835203298148798,
          0.20836204395749944,
          0.16964560614346283,
          0.2069340135638036,
          0.23965637423116123,
          0.19103507888088103,
          0.2222645673282756,
          0.2076568591859329,
          0.1881009370253537,
          0.23101260275889268,
          0.3649202698273724,
          0.497373395847618,
          0.5703682940102538,
          -0.1450654825862006,
          0.5918247372294271,
          0.6084392812147225,
          0.6545768993726675,
          0.6493076127676107,
          0.6463878430988614,
          0.6515593395956097,
          0.4266871357541248,
          0.5936572517970143,
          0.6688493594628707,
          0.654337871355921,
          0.6756570247872521,
          0.672059496814479,
          -0.11841130150699038,
          0.49667934128812036,
          0.6633707202138259,
          -0.4364487175691331,
          0.6747820542701971,
          0.638711186895338,
          0.625417413624334,
          0.6634743895361849,
          0.6279190123041113,
          0.3487808929839009,
          0.4397585956693881,
          0.6835601274055243,
          0.6798817696481009,
          0.6798097876853486,
          0.6839988389718933,
          0.6740551451778601,
          0.661560246932107,
          0.6807122181980386,
          0.6859143285925269,
          0.3398869833061091,
          0.6851059441137389,
          0.6885093387214095,
          0.6866962057592212,
          0.6862616170938641,
          0.6849431747885116,
          0.687484196871404,
          0.6743084678041781,
          0.6845639454714197,
          -0.4275255969249568,
          -1.6558056212926993,
          0.686123454799752,
          0.6855802988393039,
          0.6898312727857613,
          0.562553069027968,
          0.6889536880634416,
          0.6737098047780578,
          0.6897447275854321,
          0.6808641160383672,
          0.6522742813721113,
          0.3344964072925333,
          0.6728207859124952,
          0.30003330601780515,
          0.4853030043574664,
          -0.024742239926973903,
          0.6804963558181774,
          0.6829243230642419,
          0.6626223131005086,
          0.6660432836442608,
          0.6832980469016671,
          0.6829206249511895,
          0.6833373562394659,
          0.6783524136809369,
          0.6789503188784872,
          0.6754780513237217,
          0.6676278643468067,
          0.6618083769162196,
          0.6801395164435043,
          0.687140989156342,
          0.4730621199203073,
          0.6804678147366875,
          0.236570982344956,
          0.6843458151379891,
          0.6884001964841536,
          0.6853891421260281,
          0.6906281134814227,
          0.6777495883903124,
          0.676013619255405,
          0.6844172812047349,
          0.6796466537122043,
          0.6808616407635634,
          0.6483974550100009,
          0.6896497342574529,
          0.6835557121364757,
          0.6894356418764288,
          0.30549265759681027,
          0.38233868330369375,
          0.6804933091893411,
          0.6930092353589993,
          0.6827034657221785,
          0.6923952120648607,
          0.5395657620401767,
          0.6880172368177372,
          -0.17762255925952056,
          0.6885448321978903,
          0.6896408163964982,
          0.6856601500099604,
          0.683955896028264,
          0.6903260359464679,
          0.68682505582985,
          0.6891203068441257,
          0.6903333712075955,
          0.6931720638961695,
          0.6932352939012617,
          0.6912515793310147
         ],
         "yaxis": "y"
        },
        {
         "marker": {
          "color": [
           0,
           1,
           2,
           3,
           4,
           5,
           6,
           7,
           8,
           9,
           10,
           11,
           12,
           13,
           14,
           15,
           16,
           17,
           18,
           19,
           20,
           21,
           22,
           23,
           24,
           25,
           26,
           27,
           28,
           29,
           30,
           31,
           32,
           33,
           34,
           35,
           36,
           37,
           38,
           39,
           40,
           41,
           42,
           43,
           44,
           45,
           46,
           47,
           48,
           49,
           50,
           51,
           52,
           53,
           54,
           55,
           56,
           57,
           58,
           59,
           60,
           61,
           62,
           63,
           64,
           65,
           66,
           67,
           68,
           69,
           70,
           71,
           72,
           73,
           74,
           75,
           76,
           77,
           78,
           79,
           80,
           81,
           82,
           83,
           84,
           85,
           86,
           87,
           88,
           89,
           90,
           91,
           92,
           93,
           94,
           95,
           96,
           97,
           98,
           99,
           100,
           101,
           102,
           103,
           104,
           105,
           106,
           107,
           108,
           109,
           110,
           111,
           112,
           113,
           114,
           115,
           116,
           117,
           118,
           119,
           120,
           121,
           122,
           123,
           124
          ],
          "colorbar": {
           "title": {
            "text": "Trial"
           },
           "x": 1,
           "xpad": 40
          },
          "colorscale": [
           [
            0,
            "rgb(247,251,255)"
           ],
           [
            0.125,
            "rgb(222,235,247)"
           ],
           [
            0.25,
            "rgb(198,219,239)"
           ],
           [
            0.375,
            "rgb(158,202,225)"
           ],
           [
            0.5,
            "rgb(107,174,214)"
           ],
           [
            0.625,
            "rgb(66,146,198)"
           ],
           [
            0.75,
            "rgb(33,113,181)"
           ],
           [
            0.875,
            "rgb(8,81,156)"
           ],
           [
            1,
            "rgb(8,48,107)"
           ]
          ],
          "line": {
           "color": "Grey",
           "width": 0.5
          },
          "showscale": false
         },
         "mode": "markers",
         "name": "Feasible Trial",
         "showlegend": false,
         "type": "scatter",
         "x": [
          14,
          13,
          25,
          58,
          114,
          8,
          10,
          52,
          91,
          44,
          6,
          36,
          48,
          29,
          73,
          91,
          18,
          13,
          2,
          33,
          56,
          1,
          34,
          23,
          1,
          27,
          47,
          29,
          1,
          15,
          18,
          23,
          8,
          16,
          18,
          15,
          18,
          88,
          37,
          15,
          39,
          72,
          28,
          46,
          3,
          38,
          24,
          22,
          39,
          3,
          20,
          36,
          26,
          5,
          9,
          74,
          16,
          12,
          25,
          18,
          14,
          25,
          6,
          22,
          24,
          51,
          42,
          32,
          11,
          58,
          26,
          66,
          7,
          34,
          6,
          28,
          2,
          4,
          76,
          26,
          1,
          9,
          18,
          20,
          2,
          51,
          70,
          11,
          46,
          6,
          18,
          47,
          43,
          30,
          14,
          10,
          35,
          20,
          25,
          2,
          18,
          13,
          76,
          57,
          26,
          34,
          29,
          15,
          32,
          12,
          26,
          18,
          23,
          29,
          36,
          65,
          6,
          3,
          23,
          8,
          25,
          5,
          16,
          14,
          37
         ],
         "xaxis": "x2",
         "y": [
          -0.12790654017022204,
          0.20426061384174363,
          0.23625718586003583,
          0.21120208784267783,
          0.15476732132081492,
          0.18835203298148798,
          0.20836204395749944,
          0.16964560614346283,
          0.2069340135638036,
          0.23965637423116123,
          0.19103507888088103,
          0.2222645673282756,
          0.2076568591859329,
          0.1881009370253537,
          0.23101260275889268,
          0.3649202698273724,
          0.497373395847618,
          0.5703682940102538,
          -0.1450654825862006,
          0.5918247372294271,
          0.6084392812147225,
          0.6545768993726675,
          0.6493076127676107,
          0.6463878430988614,
          0.6515593395956097,
          0.4266871357541248,
          0.5936572517970143,
          0.6688493594628707,
          0.654337871355921,
          0.6756570247872521,
          0.672059496814479,
          -0.11841130150699038,
          0.49667934128812036,
          0.6633707202138259,
          -0.4364487175691331,
          0.6747820542701971,
          0.638711186895338,
          0.625417413624334,
          0.6634743895361849,
          0.6279190123041113,
          0.3487808929839009,
          0.4397585956693881,
          0.6835601274055243,
          0.6798817696481009,
          0.6798097876853486,
          0.6839988389718933,
          0.6740551451778601,
          0.661560246932107,
          0.6807122181980386,
          0.6859143285925269,
          0.3398869833061091,
          0.6851059441137389,
          0.6885093387214095,
          0.6866962057592212,
          0.6862616170938641,
          0.6849431747885116,
          0.687484196871404,
          0.6743084678041781,
          0.6845639454714197,
          -0.4275255969249568,
          -1.6558056212926993,
          0.686123454799752,
          0.6855802988393039,
          0.6898312727857613,
          0.562553069027968,
          0.6889536880634416,
          0.6737098047780578,
          0.6897447275854321,
          0.6808641160383672,
          0.6522742813721113,
          0.3344964072925333,
          0.6728207859124952,
          0.30003330601780515,
          0.4853030043574664,
          -0.024742239926973903,
          0.6804963558181774,
          0.6829243230642419,
          0.6626223131005086,
          0.6660432836442608,
          0.6832980469016671,
          0.6829206249511895,
          0.6833373562394659,
          0.6783524136809369,
          0.6789503188784872,
          0.6754780513237217,
          0.6676278643468067,
          0.6618083769162196,
          0.6801395164435043,
          0.687140989156342,
          0.4730621199203073,
          0.6804678147366875,
          0.236570982344956,
          0.6843458151379891,
          0.6884001964841536,
          0.6853891421260281,
          0.6906281134814227,
          0.6777495883903124,
          0.676013619255405,
          0.6844172812047349,
          0.6796466537122043,
          0.6808616407635634,
          0.6483974550100009,
          0.6896497342574529,
          0.6835557121364757,
          0.6894356418764288,
          0.30549265759681027,
          0.38233868330369375,
          0.6804933091893411,
          0.6930092353589993,
          0.6827034657221785,
          0.6923952120648607,
          0.5395657620401767,
          0.6880172368177372,
          -0.17762255925952056,
          0.6885448321978903,
          0.6896408163964982,
          0.6856601500099604,
          0.683955896028264,
          0.6903260359464679,
          0.68682505582985,
          0.6891203068441257,
          0.6903333712075955,
          0.6931720638961695,
          0.6932352939012617,
          0.6912515793310147
         ],
         "yaxis": "y2"
        },
        {
         "marker": {
          "color": [
           0,
           1,
           2,
           3,
           4,
           5,
           6,
           7,
           8,
           9,
           10,
           11,
           12,
           13,
           14,
           15,
           16,
           17,
           18,
           19,
           20,
           21,
           22,
           23,
           24,
           25,
           26,
           27,
           28,
           29,
           30,
           31,
           32,
           33,
           34,
           35,
           36,
           37,
           38,
           39,
           40,
           41,
           42,
           43,
           44,
           45,
           46,
           47,
           48,
           49,
           50,
           51,
           52,
           53,
           54,
           55,
           56,
           57,
           58,
           59,
           60,
           61,
           62,
           63,
           64,
           65,
           66,
           67,
           68,
           69,
           70,
           71,
           72,
           73,
           74,
           75,
           76,
           77,
           78,
           79,
           80,
           81,
           82,
           83,
           84,
           85,
           86,
           87,
           88,
           89,
           90,
           91,
           92,
           93,
           94,
           95,
           96,
           97,
           98,
           99,
           100,
           101,
           102,
           103,
           104,
           105,
           106,
           107,
           108,
           109,
           110,
           111,
           112,
           113,
           114,
           115,
           116,
           117,
           118,
           119,
           120,
           121,
           122,
           123,
           124
          ],
          "colorbar": {
           "title": {
            "text": "Trial"
           },
           "x": 1,
           "xpad": 40
          },
          "colorscale": [
           [
            0,
            "rgb(247,251,255)"
           ],
           [
            0.125,
            "rgb(222,235,247)"
           ],
           [
            0.25,
            "rgb(198,219,239)"
           ],
           [
            0.375,
            "rgb(158,202,225)"
           ],
           [
            0.5,
            "rgb(107,174,214)"
           ],
           [
            0.625,
            "rgb(66,146,198)"
           ],
           [
            0.75,
            "rgb(33,113,181)"
           ],
           [
            0.875,
            "rgb(8,81,156)"
           ],
           [
            1,
            "rgb(8,48,107)"
           ]
          ],
          "line": {
           "color": "Grey",
           "width": 0.5
          },
          "showscale": false
         },
         "mode": "markers",
         "name": "Feasible Trial",
         "showlegend": false,
         "type": "scatter",
         "x": [
          116,
          88,
          55,
          62,
          59,
          122,
          60,
          85,
          113,
          126,
          75,
          75,
          91,
          52,
          128,
          86,
          50,
          103,
          54,
          6,
          18,
          26,
          50,
          19,
          124,
          108,
          30,
          128,
          114,
          80,
          113,
          66,
          29,
          57,
          120,
          31,
          118,
          124,
          92,
          120,
          45,
          9,
          95,
          82,
          107,
          37,
          71,
          97,
          91,
          119,
          33,
          103,
          90,
          92,
          56,
          92,
          93,
          66,
          128,
          31,
          128,
          92,
          99,
          118,
          76,
          113,
          79,
          83,
          57,
          71,
          52,
          39,
          23,
          56,
          58,
          81,
          99,
          51,
          94,
          72,
          125,
          96,
          82,
          74,
          127,
          55,
          116,
          69,
          99,
          50,
          67,
          71,
          83,
          99,
          94,
          125,
          92,
          121,
          89,
          80,
          115,
          95,
          74,
          93,
          53,
          13,
          62,
          88,
          105,
          91,
          87,
          46,
          108,
          74,
          74,
          98,
          124,
          105,
          82,
          120,
          98,
          105,
          111,
          127,
          82
         ],
         "xaxis": "x3",
         "y": [
          -0.12790654017022204,
          0.20426061384174363,
          0.23625718586003583,
          0.21120208784267783,
          0.15476732132081492,
          0.18835203298148798,
          0.20836204395749944,
          0.16964560614346283,
          0.2069340135638036,
          0.23965637423116123,
          0.19103507888088103,
          0.2222645673282756,
          0.2076568591859329,
          0.1881009370253537,
          0.23101260275889268,
          0.3649202698273724,
          0.497373395847618,
          0.5703682940102538,
          -0.1450654825862006,
          0.5918247372294271,
          0.6084392812147225,
          0.6545768993726675,
          0.6493076127676107,
          0.6463878430988614,
          0.6515593395956097,
          0.4266871357541248,
          0.5936572517970143,
          0.6688493594628707,
          0.654337871355921,
          0.6756570247872521,
          0.672059496814479,
          -0.11841130150699038,
          0.49667934128812036,
          0.6633707202138259,
          -0.4364487175691331,
          0.6747820542701971,
          0.638711186895338,
          0.625417413624334,
          0.6634743895361849,
          0.6279190123041113,
          0.3487808929839009,
          0.4397585956693881,
          0.6835601274055243,
          0.6798817696481009,
          0.6798097876853486,
          0.6839988389718933,
          0.6740551451778601,
          0.661560246932107,
          0.6807122181980386,
          0.6859143285925269,
          0.3398869833061091,
          0.6851059441137389,
          0.6885093387214095,
          0.6866962057592212,
          0.6862616170938641,
          0.6849431747885116,
          0.687484196871404,
          0.6743084678041781,
          0.6845639454714197,
          -0.4275255969249568,
          -1.6558056212926993,
          0.686123454799752,
          0.6855802988393039,
          0.6898312727857613,
          0.562553069027968,
          0.6889536880634416,
          0.6737098047780578,
          0.6897447275854321,
          0.6808641160383672,
          0.6522742813721113,
          0.3344964072925333,
          0.6728207859124952,
          0.30003330601780515,
          0.4853030043574664,
          -0.024742239926973903,
          0.6804963558181774,
          0.6829243230642419,
          0.6626223131005086,
          0.6660432836442608,
          0.6832980469016671,
          0.6829206249511895,
          0.6833373562394659,
          0.6783524136809369,
          0.6789503188784872,
          0.6754780513237217,
          0.6676278643468067,
          0.6618083769162196,
          0.6801395164435043,
          0.687140989156342,
          0.4730621199203073,
          0.6804678147366875,
          0.236570982344956,
          0.6843458151379891,
          0.6884001964841536,
          0.6853891421260281,
          0.6906281134814227,
          0.6777495883903124,
          0.676013619255405,
          0.6844172812047349,
          0.6796466537122043,
          0.6808616407635634,
          0.6483974550100009,
          0.6896497342574529,
          0.6835557121364757,
          0.6894356418764288,
          0.30549265759681027,
          0.38233868330369375,
          0.6804933091893411,
          0.6930092353589993,
          0.6827034657221785,
          0.6923952120648607,
          0.5395657620401767,
          0.6880172368177372,
          -0.17762255925952056,
          0.6885448321978903,
          0.6896408163964982,
          0.6856601500099604,
          0.683955896028264,
          0.6903260359464679,
          0.68682505582985,
          0.6891203068441257,
          0.6903333712075955,
          0.6931720638961695,
          0.6932352939012617,
          0.6912515793310147
         ],
         "yaxis": "y3"
        },
        {
         "marker": {
          "color": [
           0,
           1,
           2,
           3,
           4,
           5,
           6,
           7,
           8,
           9,
           10,
           11,
           12,
           13,
           14,
           15,
           16,
           17,
           18,
           19,
           20,
           21,
           22,
           23,
           24,
           25,
           26,
           27,
           28,
           29,
           30,
           31,
           32,
           33,
           34,
           35,
           36,
           37,
           38,
           39,
           40,
           41,
           42,
           43,
           44,
           45,
           46,
           47,
           48,
           49,
           50,
           51,
           52,
           53,
           54,
           55,
           56,
           57,
           58,
           59,
           60,
           61,
           62,
           63,
           64,
           65,
           66,
           67,
           68,
           69,
           70,
           71,
           72,
           73,
           74,
           75,
           76,
           77,
           78,
           79,
           80,
           81,
           82,
           83,
           84,
           85,
           86,
           87,
           88,
           89,
           90,
           91,
           92,
           93,
           94,
           95,
           96,
           97,
           98,
           99,
           100,
           101,
           102,
           103,
           104,
           105,
           106,
           107,
           108,
           109,
           110,
           111,
           112,
           113,
           114,
           115,
           116,
           117,
           118,
           119,
           120,
           121,
           122,
           123,
           124
          ],
          "colorbar": {
           "title": {
            "text": "Trial"
           },
           "x": 1,
           "xpad": 40
          },
          "colorscale": [
           [
            0,
            "rgb(247,251,255)"
           ],
           [
            0.125,
            "rgb(222,235,247)"
           ],
           [
            0.25,
            "rgb(198,219,239)"
           ],
           [
            0.375,
            "rgb(158,202,225)"
           ],
           [
            0.5,
            "rgb(107,174,214)"
           ],
           [
            0.625,
            "rgb(66,146,198)"
           ],
           [
            0.75,
            "rgb(33,113,181)"
           ],
           [
            0.875,
            "rgb(8,81,156)"
           ],
           [
            1,
            "rgb(8,48,107)"
           ]
          ],
          "line": {
           "color": "Grey",
           "width": 0.5
          },
          "showscale": false
         },
         "mode": "markers",
         "name": "Feasible Trial",
         "showlegend": false,
         "type": "scatter",
         "x": [
          true,
          true,
          true,
          true,
          false,
          false,
          true,
          true,
          true,
          true,
          true,
          true,
          true,
          false,
          true,
          false,
          false,
          true,
          false,
          true,
          false,
          false,
          false,
          true,
          true,
          true,
          false,
          false,
          false,
          true,
          true,
          true,
          false,
          false,
          true,
          false,
          true,
          false,
          true,
          true,
          false,
          false,
          false,
          true,
          false,
          true,
          false,
          true,
          true,
          true,
          true,
          false,
          false,
          true,
          true,
          false,
          true,
          true,
          true,
          false,
          true,
          true,
          true,
          false,
          true,
          true,
          false,
          true,
          false,
          true,
          true,
          true,
          false,
          true,
          true,
          true,
          false,
          true,
          false,
          false,
          true,
          false,
          false,
          true,
          true,
          true,
          true,
          true,
          true,
          true,
          false,
          true,
          false,
          true,
          false,
          true,
          true,
          false,
          false,
          true,
          true,
          true,
          true,
          true,
          false,
          true,
          true,
          true,
          true,
          true,
          false,
          true,
          true,
          true,
          true,
          true,
          true,
          true,
          true,
          true,
          true,
          true,
          true,
          true,
          true
         ],
         "xaxis": "x4",
         "y": [
          -0.12790654017022204,
          0.20426061384174363,
          0.23625718586003583,
          0.21120208784267783,
          0.15476732132081492,
          0.18835203298148798,
          0.20836204395749944,
          0.16964560614346283,
          0.2069340135638036,
          0.23965637423116123,
          0.19103507888088103,
          0.2222645673282756,
          0.2076568591859329,
          0.1881009370253537,
          0.23101260275889268,
          0.3649202698273724,
          0.497373395847618,
          0.5703682940102538,
          -0.1450654825862006,
          0.5918247372294271,
          0.6084392812147225,
          0.6545768993726675,
          0.6493076127676107,
          0.6463878430988614,
          0.6515593395956097,
          0.4266871357541248,
          0.5936572517970143,
          0.6688493594628707,
          0.654337871355921,
          0.6756570247872521,
          0.672059496814479,
          -0.11841130150699038,
          0.49667934128812036,
          0.6633707202138259,
          -0.4364487175691331,
          0.6747820542701971,
          0.638711186895338,
          0.625417413624334,
          0.6634743895361849,
          0.6279190123041113,
          0.3487808929839009,
          0.4397585956693881,
          0.6835601274055243,
          0.6798817696481009,
          0.6798097876853486,
          0.6839988389718933,
          0.6740551451778601,
          0.661560246932107,
          0.6807122181980386,
          0.6859143285925269,
          0.3398869833061091,
          0.6851059441137389,
          0.6885093387214095,
          0.6866962057592212,
          0.6862616170938641,
          0.6849431747885116,
          0.687484196871404,
          0.6743084678041781,
          0.6845639454714197,
          -0.4275255969249568,
          -1.6558056212926993,
          0.686123454799752,
          0.6855802988393039,
          0.6898312727857613,
          0.562553069027968,
          0.6889536880634416,
          0.6737098047780578,
          0.6897447275854321,
          0.6808641160383672,
          0.6522742813721113,
          0.3344964072925333,
          0.6728207859124952,
          0.30003330601780515,
          0.4853030043574664,
          -0.024742239926973903,
          0.6804963558181774,
          0.6829243230642419,
          0.6626223131005086,
          0.6660432836442608,
          0.6832980469016671,
          0.6829206249511895,
          0.6833373562394659,
          0.6783524136809369,
          0.6789503188784872,
          0.6754780513237217,
          0.6676278643468067,
          0.6618083769162196,
          0.6801395164435043,
          0.687140989156342,
          0.4730621199203073,
          0.6804678147366875,
          0.236570982344956,
          0.6843458151379891,
          0.6884001964841536,
          0.6853891421260281,
          0.6906281134814227,
          0.6777495883903124,
          0.676013619255405,
          0.6844172812047349,
          0.6796466537122043,
          0.6808616407635634,
          0.6483974550100009,
          0.6896497342574529,
          0.6835557121364757,
          0.6894356418764288,
          0.30549265759681027,
          0.38233868330369375,
          0.6804933091893411,
          0.6930092353589993,
          0.6827034657221785,
          0.6923952120648607,
          0.5395657620401767,
          0.6880172368177372,
          -0.17762255925952056,
          0.6885448321978903,
          0.6896408163964982,
          0.6856601500099604,
          0.683955896028264,
          0.6903260359464679,
          0.68682505582985,
          0.6891203068441257,
          0.6903333712075955,
          0.6931720638961695,
          0.6932352939012617,
          0.6912515793310147
         ],
         "yaxis": "y4"
        },
        {
         "marker": {
          "color": [
           0,
           1,
           2,
           3,
           4,
           5,
           6,
           7,
           8,
           9,
           10,
           11,
           12,
           13,
           14,
           15,
           16,
           17,
           18,
           19,
           20,
           21,
           22,
           23,
           24,
           25,
           26,
           27,
           28,
           29,
           30,
           31,
           32,
           33,
           34,
           35,
           36,
           37,
           38,
           39,
           40,
           41,
           42,
           43,
           44,
           45,
           46,
           47,
           48,
           49,
           50,
           51,
           52,
           53,
           54,
           55,
           56,
           57,
           58,
           59,
           60,
           61,
           62,
           63,
           64,
           65,
           66,
           67,
           68,
           69,
           70,
           71,
           72,
           73,
           74,
           75,
           76,
           77,
           78,
           79,
           80,
           81,
           82,
           83,
           84,
           85,
           86,
           87,
           88,
           89,
           90,
           91,
           92,
           93,
           94,
           95,
           96,
           97,
           98,
           99,
           100,
           101,
           102,
           103,
           104,
           105,
           106,
           107,
           108,
           109,
           110,
           111,
           112,
           113,
           114,
           115,
           116,
           117,
           118,
           119,
           120,
           121,
           122,
           123,
           124
          ],
          "colorbar": {
           "title": {
            "text": "Trial"
           },
           "x": 1,
           "xpad": 40
          },
          "colorscale": [
           [
            0,
            "rgb(247,251,255)"
           ],
           [
            0.125,
            "rgb(222,235,247)"
           ],
           [
            0.25,
            "rgb(198,219,239)"
           ],
           [
            0.375,
            "rgb(158,202,225)"
           ],
           [
            0.5,
            "rgb(107,174,214)"
           ],
           [
            0.625,
            "rgb(66,146,198)"
           ],
           [
            0.75,
            "rgb(33,113,181)"
           ],
           [
            0.875,
            "rgb(8,81,156)"
           ],
           [
            1,
            "rgb(8,48,107)"
           ]
          ],
          "line": {
           "color": "Grey",
           "width": 0.5
          },
          "showscale": false
         },
         "mode": "markers",
         "name": "Feasible Trial",
         "showlegend": false,
         "type": "scatter",
         "x": [
          0.00036596146142628064,
          3.111562636509978e-8,
          0.0025576426394497654,
          0.00004392458660332171,
          2.2996010721440695e-8,
          0.00005238903886615845,
          3.405931025738779e-7,
          0.0000026850085307236304,
          0.00000528479326510206,
          5.4386039799052757e-8,
          4.329338870686664e-10,
          7.649112329783795e-9,
          4.833948768732601e-10,
          0.015723877330981004,
          0.000035525560433365686,
          1.378413511305631e-7,
          3.188211031931809e-7,
          0.0006688709749156838,
          0.005155037042244837,
          0.00001438020929748459,
          0.000001291942494577629,
          0.00004340240211110281,
          0.000003193690505181887,
          9.29448961942049e-10,
          7.764978120115169e-8,
          2.415337563088624e-7,
          0.000039621197888130814,
          0.017382517059018728,
          0.0000245466662097519,
          4.3954676324847655e-10,
          0.001801351370848808,
          0.0022088114647377645,
          0.000030731314176362004,
          0.004638501104046057,
          0.01291641363192849,
          5.7994167621274985e-9,
          0.0004587141341404275,
          8.569742434636319e-8,
          0.000005504547318429381,
          0.000001916297677161289,
          3.6235486086211916e-8,
          0.0007201649294249446,
          2.1607405997533983e-8,
          8.607500389468107e-10,
          5.365989980930259e-7,
          0.0002882909736408212,
          0.000032080315229606135,
          0.000012632742499824373,
          0.08127660894869178,
          2.5430944476202733e-9,
          0.0000021648221995559613,
          0.0471846543063841,
          0.00018028039675270686,
          0.006241806219630926,
          0.0000023941618334781897,
          0.00005815455932617637,
          2.7606687001213024e-7,
          3.473345604598117e-7,
          0.00000976565874504513,
          0.00001569452437865278,
          8.439032298701896e-9,
          0.000005937450668315224,
          0.0000024041273562174818,
          1.6850723117522375e-8,
          4.3918981605973e-9,
          7.0806410056602625e-9,
          0.0000012874870077837405,
          0.0000023307752466595278,
          0.004110033826495312,
          0.000011718819527972953,
          0.007143543697170481,
          0.0006374848345709352,
          0.00010137179049097506,
          0.00002476315320622544,
          5.547315266611079e-7,
          0.0012062825559081554,
          3.45234559661562e-7,
          4.2523971786755756e-7,
          0.00003006824753677029,
          0.021774135633347246,
          7.548831416037967e-8,
          0.0006301006067636158,
          0.001073233151235916,
          0.0000010914886085397584,
          0.0000016664581063556777,
          0.000013657251872516521,
          0.00001821091130890719,
          6.927897887804194e-8,
          4.429376116482447e-8,
          6.6150436027275626e-9,
          0.0010603496608359985,
          0.08095935357864135,
          0.0002639297896527356,
          0.00004069283245735759,
          1.5541698683800504e-8,
          7.546929911920839e-7,
          1.0267459014509292e-8,
          6.274221966695013e-7,
          0.00018895459675763674,
          4.8567501762704536e-8,
          0.000002985381762510369,
          0.00034760625151601866,
          0.0000011134365786419541,
          0.00000143547775554494,
          3.030253341701468e-8,
          0.00003200755905541051,
          0.000014658341875379425,
          2.1270373367008838e-7,
          4.81492626939137e-7,
          4.2619928495690184e-7,
          0.000006156057736007828,
          0.0000030715848396770115,
          2.1991696672498167e-8,
          0.0011664623917291088,
          0.00003737739139628567,
          6.659630436858362e-7,
          0.0000026480597936147713,
          0.000020810636551474406,
          0.000022291175122386262,
          0.00000531633630147358,
          0.0000013551489077107517,
          4.299628183818914e-7,
          0.00010532607225017183,
          1.4375558487487628e-7,
          0.000003289808387305126
         ],
         "xaxis": "x5",
         "y": [
          -0.12790654017022204,
          0.20426061384174363,
          0.23625718586003583,
          0.21120208784267783,
          0.15476732132081492,
          0.18835203298148798,
          0.20836204395749944,
          0.16964560614346283,
          0.2069340135638036,
          0.23965637423116123,
          0.19103507888088103,
          0.2222645673282756,
          0.2076568591859329,
          0.1881009370253537,
          0.23101260275889268,
          0.3649202698273724,
          0.497373395847618,
          0.5703682940102538,
          -0.1450654825862006,
          0.5918247372294271,
          0.6084392812147225,
          0.6545768993726675,
          0.6493076127676107,
          0.6463878430988614,
          0.6515593395956097,
          0.4266871357541248,
          0.5936572517970143,
          0.6688493594628707,
          0.654337871355921,
          0.6756570247872521,
          0.672059496814479,
          -0.11841130150699038,
          0.49667934128812036,
          0.6633707202138259,
          -0.4364487175691331,
          0.6747820542701971,
          0.638711186895338,
          0.625417413624334,
          0.6634743895361849,
          0.6279190123041113,
          0.3487808929839009,
          0.4397585956693881,
          0.6835601274055243,
          0.6798817696481009,
          0.6798097876853486,
          0.6839988389718933,
          0.6740551451778601,
          0.661560246932107,
          0.6807122181980386,
          0.6859143285925269,
          0.3398869833061091,
          0.6851059441137389,
          0.6885093387214095,
          0.6866962057592212,
          0.6862616170938641,
          0.6849431747885116,
          0.687484196871404,
          0.6743084678041781,
          0.6845639454714197,
          -0.4275255969249568,
          -1.6558056212926993,
          0.686123454799752,
          0.6855802988393039,
          0.6898312727857613,
          0.562553069027968,
          0.6889536880634416,
          0.6737098047780578,
          0.6897447275854321,
          0.6808641160383672,
          0.6522742813721113,
          0.3344964072925333,
          0.6728207859124952,
          0.30003330601780515,
          0.4853030043574664,
          -0.024742239926973903,
          0.6804963558181774,
          0.6829243230642419,
          0.6626223131005086,
          0.6660432836442608,
          0.6832980469016671,
          0.6829206249511895,
          0.6833373562394659,
          0.6783524136809369,
          0.6789503188784872,
          0.6754780513237217,
          0.6676278643468067,
          0.6618083769162196,
          0.6801395164435043,
          0.687140989156342,
          0.4730621199203073,
          0.6804678147366875,
          0.236570982344956,
          0.6843458151379891,
          0.6884001964841536,
          0.6853891421260281,
          0.6906281134814227,
          0.6777495883903124,
          0.676013619255405,
          0.6844172812047349,
          0.6796466537122043,
          0.6808616407635634,
          0.6483974550100009,
          0.6896497342574529,
          0.6835557121364757,
          0.6894356418764288,
          0.30549265759681027,
          0.38233868330369375,
          0.6804933091893411,
          0.6930092353589993,
          0.6827034657221785,
          0.6923952120648607,
          0.5395657620401767,
          0.6880172368177372,
          -0.17762255925952056,
          0.6885448321978903,
          0.6896408163964982,
          0.6856601500099604,
          0.683955896028264,
          0.6903260359464679,
          0.68682505582985,
          0.6891203068441257,
          0.6903333712075955,
          0.6931720638961695,
          0.6932352939012617,
          0.6912515793310147
         ],
         "yaxis": "y5"
        },
        {
         "marker": {
          "color": [
           0,
           1,
           2,
           3,
           4,
           5,
           6,
           7,
           8,
           9,
           10,
           11,
           12,
           13,
           14,
           15,
           16,
           17,
           18,
           19,
           20,
           21,
           22,
           23,
           24,
           25,
           26,
           27,
           28,
           29,
           30,
           31,
           32,
           33,
           34,
           35,
           36,
           37,
           38,
           39,
           40,
           41,
           42,
           43,
           44,
           45,
           46,
           47,
           48,
           49,
           50,
           51,
           52,
           53,
           54,
           55,
           56,
           57,
           58,
           59,
           60,
           61,
           62,
           63,
           64,
           65,
           66,
           67,
           68,
           69,
           70,
           71,
           72,
           73,
           74,
           75,
           76,
           77,
           78,
           79,
           80,
           81,
           82,
           83,
           84,
           85,
           86,
           87,
           88,
           89,
           90,
           91,
           92,
           93,
           94,
           95,
           96,
           97,
           98,
           99,
           100,
           101,
           102,
           103,
           104,
           105,
           106,
           107,
           108,
           109,
           110,
           111,
           112,
           113,
           114,
           115,
           116,
           117,
           118,
           119,
           120,
           121,
           122,
           123,
           124
          ],
          "colorbar": {
           "title": {
            "text": "Trial"
           },
           "x": 1,
           "xpad": 40
          },
          "colorscale": [
           [
            0,
            "rgb(247,251,255)"
           ],
           [
            0.125,
            "rgb(222,235,247)"
           ],
           [
            0.25,
            "rgb(198,219,239)"
           ],
           [
            0.375,
            "rgb(158,202,225)"
           ],
           [
            0.5,
            "rgb(107,174,214)"
           ],
           [
            0.625,
            "rgb(66,146,198)"
           ],
           [
            0.75,
            "rgb(33,113,181)"
           ],
           [
            0.875,
            "rgb(8,81,156)"
           ],
           [
            1,
            "rgb(8,48,107)"
           ]
          ],
          "line": {
           "color": "Grey",
           "width": 0.5
          },
          "showscale": false
         },
         "mode": "markers",
         "name": "Feasible Trial",
         "showlegend": false,
         "type": "scatter",
         "x": [
          697,
          78,
          172,
          20,
          299,
          50,
          323,
          998,
          517,
          760,
          38,
          15,
          27,
          11,
          18,
          1058,
          13,
          80,
          49,
          17,
          260,
          17,
          126,
          42,
          57,
          11,
          10,
          22,
          61,
          458,
          63,
          57,
          830,
          490,
          190,
          861,
          235,
          24,
          233,
          84,
          292,
          661,
          83,
          32,
          107,
          456,
          1154,
          62,
          37,
          197,
          73,
          446,
          62,
          110,
          64,
          85,
          170,
          26,
          351,
          442,
          75,
          246,
          568,
          366,
          450,
          464,
          364,
          1004,
          44,
          37,
          15,
          829,
          23,
          16,
          141,
          213,
          347,
          953,
          688,
          425,
          101,
          62,
          88,
          370,
          68,
          680,
          978,
          24,
          458,
          28,
          29,
          115,
          287,
          583,
          38,
          334,
          271,
          415,
          85,
          199,
          29,
          1114,
          590,
          135,
          292,
          39,
          40,
          448,
          663,
          299,
          198,
          41,
          55,
          97,
          814,
          965,
          111,
          304,
          136,
          128,
          217,
          129,
          184,
          160,
          853
         ],
         "xaxis": "x6",
         "y": [
          -0.12790654017022204,
          0.20426061384174363,
          0.23625718586003583,
          0.21120208784267783,
          0.15476732132081492,
          0.18835203298148798,
          0.20836204395749944,
          0.16964560614346283,
          0.2069340135638036,
          0.23965637423116123,
          0.19103507888088103,
          0.2222645673282756,
          0.2076568591859329,
          0.1881009370253537,
          0.23101260275889268,
          0.3649202698273724,
          0.497373395847618,
          0.5703682940102538,
          -0.1450654825862006,
          0.5918247372294271,
          0.6084392812147225,
          0.6545768993726675,
          0.6493076127676107,
          0.6463878430988614,
          0.6515593395956097,
          0.4266871357541248,
          0.5936572517970143,
          0.6688493594628707,
          0.654337871355921,
          0.6756570247872521,
          0.672059496814479,
          -0.11841130150699038,
          0.49667934128812036,
          0.6633707202138259,
          -0.4364487175691331,
          0.6747820542701971,
          0.638711186895338,
          0.625417413624334,
          0.6634743895361849,
          0.6279190123041113,
          0.3487808929839009,
          0.4397585956693881,
          0.6835601274055243,
          0.6798817696481009,
          0.6798097876853486,
          0.6839988389718933,
          0.6740551451778601,
          0.661560246932107,
          0.6807122181980386,
          0.6859143285925269,
          0.3398869833061091,
          0.6851059441137389,
          0.6885093387214095,
          0.6866962057592212,
          0.6862616170938641,
          0.6849431747885116,
          0.687484196871404,
          0.6743084678041781,
          0.6845639454714197,
          -0.4275255969249568,
          -1.6558056212926993,
          0.686123454799752,
          0.6855802988393039,
          0.6898312727857613,
          0.562553069027968,
          0.6889536880634416,
          0.6737098047780578,
          0.6897447275854321,
          0.6808641160383672,
          0.6522742813721113,
          0.3344964072925333,
          0.6728207859124952,
          0.30003330601780515,
          0.4853030043574664,
          -0.024742239926973903,
          0.6804963558181774,
          0.6829243230642419,
          0.6626223131005086,
          0.6660432836442608,
          0.6832980469016671,
          0.6829206249511895,
          0.6833373562394659,
          0.6783524136809369,
          0.6789503188784872,
          0.6754780513237217,
          0.6676278643468067,
          0.6618083769162196,
          0.6801395164435043,
          0.687140989156342,
          0.4730621199203073,
          0.6804678147366875,
          0.236570982344956,
          0.6843458151379891,
          0.6884001964841536,
          0.6853891421260281,
          0.6906281134814227,
          0.6777495883903124,
          0.676013619255405,
          0.6844172812047349,
          0.6796466537122043,
          0.6808616407635634,
          0.6483974550100009,
          0.6896497342574529,
          0.6835557121364757,
          0.6894356418764288,
          0.30549265759681027,
          0.38233868330369375,
          0.6804933091893411,
          0.6930092353589993,
          0.6827034657221785,
          0.6923952120648607,
          0.5395657620401767,
          0.6880172368177372,
          -0.17762255925952056,
          0.6885448321978903,
          0.6896408163964982,
          0.6856601500099604,
          0.683955896028264,
          0.6903260359464679,
          0.68682505582985,
          0.6891203068441257,
          0.6903333712075955,
          0.6931720638961695,
          0.6932352939012617,
          0.6912515793310147
         ],
         "yaxis": "y6"
        },
        {
         "marker": {
          "color": [
           0,
           1,
           2,
           3,
           4,
           5,
           6,
           7,
           8,
           9,
           10,
           11,
           12,
           13,
           14,
           15,
           16,
           17,
           18,
           19,
           20,
           21,
           22,
           23,
           24,
           25,
           26,
           27,
           28,
           29,
           30,
           31,
           32,
           33,
           34,
           35,
           36,
           37,
           38,
           39,
           40,
           41,
           42,
           43,
           44,
           45,
           46,
           47,
           48,
           49,
           50,
           51,
           52,
           53,
           54,
           55,
           56,
           57,
           58,
           59,
           60,
           61,
           62,
           63,
           64,
           65,
           66,
           67,
           68,
           69,
           70,
           71,
           72,
           73,
           74,
           75,
           76,
           77,
           78,
           79,
           80,
           81,
           82,
           83,
           84,
           85,
           86,
           87,
           88,
           89,
           90,
           91,
           92,
           93,
           94,
           95,
           96,
           97,
           98,
           99,
           100,
           101,
           102,
           103,
           104,
           105,
           106,
           107,
           108,
           109,
           110,
           111,
           112,
           113,
           114,
           115,
           116,
           117,
           118,
           119,
           120,
           121,
           122,
           123,
           124
          ],
          "colorbar": {
           "title": {
            "text": "Trial"
           },
           "x": 1,
           "xpad": 40
          },
          "colorscale": [
           [
            0,
            "rgb(247,251,255)"
           ],
           [
            0.125,
            "rgb(222,235,247)"
           ],
           [
            0.25,
            "rgb(198,219,239)"
           ],
           [
            0.375,
            "rgb(158,202,225)"
           ],
           [
            0.5,
            "rgb(107,174,214)"
           ],
           [
            0.625,
            "rgb(66,146,198)"
           ],
           [
            0.75,
            "rgb(33,113,181)"
           ],
           [
            0.875,
            "rgb(8,81,156)"
           ],
           [
            1,
            "rgb(8,48,107)"
           ]
          ],
          "line": {
           "color": "Grey",
           "width": 0.5
          },
          "showscale": false
         },
         "mode": "markers",
         "name": "Feasible Trial",
         "showlegend": false,
         "type": "scatter",
         "x": [
          2,
          3,
          6,
          6,
          4,
          3,
          1,
          3,
          2,
          6,
          1,
          2,
          2,
          3,
          9,
          1,
          4,
          8,
          3,
          10,
          5,
          1,
          5,
          7,
          4,
          4,
          2,
          1,
          6,
          1,
          5,
          6,
          7,
          1,
          2,
          3,
          8,
          1,
          1,
          5,
          4,
          2,
          1,
          2,
          6,
          3,
          1,
          1,
          2,
          1,
          5,
          1,
          2,
          1,
          3,
          1,
          1,
          1,
          2,
          6,
          1,
          1,
          4,
          1,
          2,
          3,
          1,
          3,
          2,
          1,
          3,
          1,
          6,
          1,
          7,
          4,
          1,
          3,
          1,
          1,
          6,
          3,
          1,
          2,
          7,
          1,
          2,
          1,
          1,
          6,
          1,
          5,
          3,
          1,
          1,
          1,
          3,
          4,
          1,
          1,
          2,
          1,
          4,
          2,
          2,
          6,
          2,
          3,
          1,
          1,
          1,
          5,
          1,
          6,
          1,
          2,
          5,
          2,
          1,
          5,
          1,
          1,
          1,
          1,
          2
         ],
         "xaxis": "x7",
         "y": [
          -0.12790654017022204,
          0.20426061384174363,
          0.23625718586003583,
          0.21120208784267783,
          0.15476732132081492,
          0.18835203298148798,
          0.20836204395749944,
          0.16964560614346283,
          0.2069340135638036,
          0.23965637423116123,
          0.19103507888088103,
          0.2222645673282756,
          0.2076568591859329,
          0.1881009370253537,
          0.23101260275889268,
          0.3649202698273724,
          0.497373395847618,
          0.5703682940102538,
          -0.1450654825862006,
          0.5918247372294271,
          0.6084392812147225,
          0.6545768993726675,
          0.6493076127676107,
          0.6463878430988614,
          0.6515593395956097,
          0.4266871357541248,
          0.5936572517970143,
          0.6688493594628707,
          0.654337871355921,
          0.6756570247872521,
          0.672059496814479,
          -0.11841130150699038,
          0.49667934128812036,
          0.6633707202138259,
          -0.4364487175691331,
          0.6747820542701971,
          0.638711186895338,
          0.625417413624334,
          0.6634743895361849,
          0.6279190123041113,
          0.3487808929839009,
          0.4397585956693881,
          0.6835601274055243,
          0.6798817696481009,
          0.6798097876853486,
          0.6839988389718933,
          0.6740551451778601,
          0.661560246932107,
          0.6807122181980386,
          0.6859143285925269,
          0.3398869833061091,
          0.6851059441137389,
          0.6885093387214095,
          0.6866962057592212,
          0.6862616170938641,
          0.6849431747885116,
          0.687484196871404,
          0.6743084678041781,
          0.6845639454714197,
          -0.4275255969249568,
          -1.6558056212926993,
          0.686123454799752,
          0.6855802988393039,
          0.6898312727857613,
          0.562553069027968,
          0.6889536880634416,
          0.6737098047780578,
          0.6897447275854321,
          0.6808641160383672,
          0.6522742813721113,
          0.3344964072925333,
          0.6728207859124952,
          0.30003330601780515,
          0.4853030043574664,
          -0.024742239926973903,
          0.6804963558181774,
          0.6829243230642419,
          0.6626223131005086,
          0.6660432836442608,
          0.6832980469016671,
          0.6829206249511895,
          0.6833373562394659,
          0.6783524136809369,
          0.6789503188784872,
          0.6754780513237217,
          0.6676278643468067,
          0.6618083769162196,
          0.6801395164435043,
          0.687140989156342,
          0.4730621199203073,
          0.6804678147366875,
          0.236570982344956,
          0.6843458151379891,
          0.6884001964841536,
          0.6853891421260281,
          0.6906281134814227,
          0.6777495883903124,
          0.676013619255405,
          0.6844172812047349,
          0.6796466537122043,
          0.6808616407635634,
          0.6483974550100009,
          0.6896497342574529,
          0.6835557121364757,
          0.6894356418764288,
          0.30549265759681027,
          0.38233868330369375,
          0.6804933091893411,
          0.6930092353589993,
          0.6827034657221785,
          0.6923952120648607,
          0.5395657620401767,
          0.6880172368177372,
          -0.17762255925952056,
          0.6885448321978903,
          0.6896408163964982,
          0.6856601500099604,
          0.683955896028264,
          0.6903260359464679,
          0.68682505582985,
          0.6891203068441257,
          0.6903333712075955,
          0.6931720638961695,
          0.6932352939012617,
          0.6912515793310147
         ],
         "yaxis": "y7"
        },
        {
         "marker": {
          "color": [
           0,
           1,
           2,
           3,
           4,
           5,
           6,
           7,
           8,
           9,
           10,
           11,
           12,
           13,
           14,
           15,
           16,
           17,
           18,
           19,
           20,
           21,
           22,
           23,
           24,
           25,
           26,
           27,
           28,
           29,
           30,
           31,
           32,
           33,
           34,
           35,
           36,
           37,
           38,
           39,
           40,
           41,
           42,
           43,
           44,
           45,
           46,
           47,
           48,
           49,
           50,
           51,
           52,
           53,
           54,
           55,
           56,
           57,
           58,
           59,
           60,
           61,
           62,
           63,
           64,
           65,
           66,
           67,
           68,
           69,
           70,
           71,
           72,
           73,
           74,
           75,
           76,
           77,
           78,
           79,
           80,
           81,
           82,
           83,
           84,
           85,
           86,
           87,
           88,
           89,
           90,
           91,
           92,
           93,
           94,
           95,
           96,
           97,
           98,
           99,
           100,
           101,
           102,
           103,
           104,
           105,
           106,
           107,
           108,
           109,
           110,
           111,
           112,
           113,
           114,
           115,
           116,
           117,
           118,
           119,
           120,
           121,
           122,
           123,
           124
          ],
          "colorbar": {
           "title": {
            "text": "Trial"
           },
           "x": 1,
           "xpad": 40
          },
          "colorscale": [
           [
            0,
            "rgb(247,251,255)"
           ],
           [
            0.125,
            "rgb(222,235,247)"
           ],
           [
            0.25,
            "rgb(198,219,239)"
           ],
           [
            0.375,
            "rgb(158,202,225)"
           ],
           [
            0.5,
            "rgb(107,174,214)"
           ],
           [
            0.625,
            "rgb(66,146,198)"
           ],
           [
            0.75,
            "rgb(33,113,181)"
           ],
           [
            0.875,
            "rgb(8,81,156)"
           ],
           [
            1,
            "rgb(8,48,107)"
           ]
          ],
          "line": {
           "color": "Grey",
           "width": 0.5
          },
          "showscale": false
         },
         "mode": "markers",
         "name": "Feasible Trial",
         "showlegend": false,
         "type": "scatter",
         "x": [
          2.6487489027578874,
          2.8729656202403486,
          2.82632142958334,
          2.7406100796141493,
          2.2156449567791716,
          2.3007177006990616,
          2.2193531397437467,
          2.1689410441161407,
          1.8747546272584052,
          1.5906750081431513,
          1.3245197450341901,
          1.1940631511768918,
          2.1885384643104144,
          1.996779512674441,
          1.9275356693569958,
          1.7551493055832126,
          2.7056149697060063,
          2.6844428383632115,
          1.6865292686381685,
          2.1030826149086916,
          2.0732934932015046,
          2.394663339488694,
          1.858208782465833,
          1,
          2.835866202499566,
          1.506551482586882,
          2.9353122650165675,
          2.372933153695452,
          1.2265789556113262,
          2.8982805340448223,
          2.690724859470195,
          2.7827073907643083,
          1.3774804090296962,
          2.7653873761783734,
          2.746133067979471,
          1.1475336262633467,
          2.805323227278592,
          1.342375527570844,
          2.341300758875945,
          2.873102398648245,
          2.56076247972528,
          1.6802859342225647,
          1.9029451193972307,
          1.4856557189449413,
          1.5393357954844369,
          2.424588453008872,
          1.7102876388086927,
          2.8340600017459368,
          2.0906554629861875,
          2.586546735901981,
          2.896076374388849,
          2.607171541861168,
          1.6886235274673052,
          2.5188634965598866,
          1.819252143346258,
          2.0324318955804515,
          2.974988560643653,
          1.2354569599171956,
          1.4586660586822104,
          1.497341413930401,
          2.867352319617788,
          2.7261929189215723,
          2.907261492963522,
          2.7031568940615838,
          2.957288575281412,
          1.9546446907050825,
          1.2151904591460667,
          2.0504195049824236,
          1.947162440705593,
          2.5072503448846226,
          2.2931562388732676,
          2.4265092600408127,
          2.6057834191602947,
          2.3858536117428453,
          2.4844014887618133,
          1.7958414755833787,
          1.9584788436476903,
          2.208072004604543,
          2.115597576824754,
          2.739120168969596,
          2.783371255496508,
          1.645031624569955,
          2.399431587400935,
          2.6188381911717156,
          2.395888110000856,
          2.564449952175738,
          2.0203328115799812,
          2.3450373008284457,
          1.8088146649546637,
          2.850062841094254,
          2.244551195940945,
          2.497435443787192,
          2.2414149652580706,
          2.7027223503432403,
          2.7333721082079734,
          2.1703882150843965,
          2.766919706408109,
          2.5353768500569207,
          1.9148306865589324,
          2.7345794869885984,
          2.4913522074772296,
          2.885254053818077,
          2.2375403554937563,
          2.2413602903724903,
          2.4035131714920643,
          2.89683625746336,
          2.557932554113172,
          2.8229004663838593,
          1.9089167845963217,
          2.8031351262683484,
          1.9880601780691256,
          2.9608226230642494,
          2.3510494335717342,
          2.955104767126993,
          2.5423957118465927,
          2.2816818715468803,
          2.9117140169957003,
          2.901818452606211,
          2.3801141179578815,
          2.902887939439306,
          2.9648343251755906,
          2.9701436342566296,
          2.799862020644089,
          2.948107981534784,
          2.517706733233991
         ],
         "xaxis": "x8",
         "y": [
          -0.12790654017022204,
          0.20426061384174363,
          0.23625718586003583,
          0.21120208784267783,
          0.15476732132081492,
          0.18835203298148798,
          0.20836204395749944,
          0.16964560614346283,
          0.2069340135638036,
          0.23965637423116123,
          0.19103507888088103,
          0.2222645673282756,
          0.2076568591859329,
          0.1881009370253537,
          0.23101260275889268,
          0.3649202698273724,
          0.497373395847618,
          0.5703682940102538,
          -0.1450654825862006,
          0.5918247372294271,
          0.6084392812147225,
          0.6545768993726675,
          0.6493076127676107,
          0.6463878430988614,
          0.6515593395956097,
          0.4266871357541248,
          0.5936572517970143,
          0.6688493594628707,
          0.654337871355921,
          0.6756570247872521,
          0.672059496814479,
          -0.11841130150699038,
          0.49667934128812036,
          0.6633707202138259,
          -0.4364487175691331,
          0.6747820542701971,
          0.638711186895338,
          0.625417413624334,
          0.6634743895361849,
          0.6279190123041113,
          0.3487808929839009,
          0.4397585956693881,
          0.6835601274055243,
          0.6798817696481009,
          0.6798097876853486,
          0.6839988389718933,
          0.6740551451778601,
          0.661560246932107,
          0.6807122181980386,
          0.6859143285925269,
          0.3398869833061091,
          0.6851059441137389,
          0.6885093387214095,
          0.6866962057592212,
          0.6862616170938641,
          0.6849431747885116,
          0.687484196871404,
          0.6743084678041781,
          0.6845639454714197,
          -0.4275255969249568,
          -1.6558056212926993,
          0.686123454799752,
          0.6855802988393039,
          0.6898312727857613,
          0.562553069027968,
          0.6889536880634416,
          0.6737098047780578,
          0.6897447275854321,
          0.6808641160383672,
          0.6522742813721113,
          0.3344964072925333,
          0.6728207859124952,
          0.30003330601780515,
          0.4853030043574664,
          -0.024742239926973903,
          0.6804963558181774,
          0.6829243230642419,
          0.6626223131005086,
          0.6660432836442608,
          0.6832980469016671,
          0.6829206249511895,
          0.6833373562394659,
          0.6783524136809369,
          0.6789503188784872,
          0.6754780513237217,
          0.6676278643468067,
          0.6618083769162196,
          0.6801395164435043,
          0.687140989156342,
          0.4730621199203073,
          0.6804678147366875,
          0.236570982344956,
          0.6843458151379891,
          0.6884001964841536,
          0.6853891421260281,
          0.6906281134814227,
          0.6777495883903124,
          0.676013619255405,
          0.6844172812047349,
          0.6796466537122043,
          0.6808616407635634,
          0.6483974550100009,
          0.6896497342574529,
          0.6835557121364757,
          0.6894356418764288,
          0.30549265759681027,
          0.38233868330369375,
          0.6804933091893411,
          0.6930092353589993,
          0.6827034657221785,
          0.6923952120648607,
          0.5395657620401767,
          0.6880172368177372,
          -0.17762255925952056,
          0.6885448321978903,
          0.6896408163964982,
          0.6856601500099604,
          0.683955896028264,
          0.6903260359464679,
          0.68682505582985,
          0.6891203068441257,
          0.6903333712075955,
          0.6931720638961695,
          0.6932352939012617,
          0.6912515793310147
         ],
         "yaxis": "y8"
        },
        {
         "marker": {
          "color": [
           0,
           1,
           2,
           3,
           4,
           5,
           6,
           7,
           8,
           9,
           10,
           11,
           12,
           13,
           14,
           15,
           16,
           17,
           18,
           19,
           20,
           21,
           22,
           23,
           24,
           25,
           26,
           27,
           28,
           29,
           30,
           31,
           32,
           33,
           34,
           35,
           36,
           37,
           38,
           39,
           40,
           41,
           42,
           43,
           44,
           45,
           46,
           47,
           48,
           49,
           50,
           51,
           52,
           53,
           54,
           55,
           56,
           57,
           58,
           59,
           60,
           61,
           62,
           63,
           64,
           65,
           66,
           67,
           68,
           69,
           70,
           71,
           72,
           73,
           74,
           75,
           76,
           77,
           78,
           79,
           80,
           81,
           82,
           83,
           84,
           85,
           86,
           87,
           88,
           89,
           90,
           91,
           92,
           93,
           94,
           95,
           96,
           97,
           98,
           99,
           100,
           101,
           102,
           103,
           104,
           105,
           106,
           107,
           108,
           109,
           110,
           111,
           112,
           113,
           114,
           115,
           116,
           117,
           118,
           119,
           120,
           121,
           122,
           123,
           124
          ],
          "colorbar": {
           "title": {
            "text": "Trial"
           },
           "x": 1,
           "xpad": 40
          },
          "colorscale": [
           [
            0,
            "rgb(247,251,255)"
           ],
           [
            0.125,
            "rgb(222,235,247)"
           ],
           [
            0.25,
            "rgb(198,219,239)"
           ],
           [
            0.375,
            "rgb(158,202,225)"
           ],
           [
            0.5,
            "rgb(107,174,214)"
           ],
           [
            0.625,
            "rgb(66,146,198)"
           ],
           [
            0.75,
            "rgb(33,113,181)"
           ],
           [
            0.875,
            "rgb(8,81,156)"
           ],
           [
            1,
            "rgb(8,48,107)"
           ]
          ],
          "line": {
           "color": "Grey",
           "width": 0.5
          },
          "showscale": false
         },
         "mode": "markers",
         "name": "Feasible Trial",
         "showlegend": false,
         "type": "scatter",
         "x": [
          0.03572471898883824,
          0.02018093407720865,
          0.01264612230766013,
          0.05288607516222384,
          0.06693043993472542,
          0.022432711832517098,
          0.031889517296636645,
          0.01707427320785178,
          0.03515170017380742,
          0.01730074506560076,
          0.07102452733057033,
          0.02580779957774459,
          0.020733338938713958,
          0.07871514390260674,
          0.04896856452676469,
          0.005684026044201022,
          0.024842491545817486,
          0.000024191056076088125,
          0.00003121802574456233,
          0.00012477196107970668,
          0.000013163634219570966,
          0.001506801105662372,
          0.000034717235922103074,
          0.0001522798340489034,
          0.00023207552334829747,
          0.00009631767486041967,
          0.0037569264521234136,
          0.000054316533155570074,
          0.0003922448115446973,
          0.000035949176031982025,
          0.00020059787984462376,
          0.0003163850874167884,
          0.0003839562518188155,
          0.000021755556972006796,
          0.00007636713540507013,
          0.00007441510093803164,
          0.003935718032406429,
          0.001605404361626806,
          0.004594597520161682,
          0.00040553888776032076,
          0.00017747655493764584,
          0.0005388455646220546,
          0.00020881478514678142,
          0.0047420595292555654,
          0.0012520741794093096,
          0.00018727220023751802,
          0.0010792740786123645,
          0.000036354864732050394,
          0.003235874400117121,
          0.0006487118244617281,
          0.002313689651168404,
          0.0001496248350700859,
          0.003861526761456979,
          0.0016170190594850815,
          0.002718097824244032,
          0.0020063581145623103,
          0.0006560115015655523,
          0.0029119144735401396,
          0.003613892840215168,
          0.00013938754653124895,
          0.00003839428419050582,
          0.0028750400142076036,
          0.0010496419834861558,
          0.0016369394416196367,
          0.004062131448391045,
          0.0007451523579329057,
          0.000786333465195035,
          0.002581076827861564,
          0.0012748489910724425,
          0.008207491259251732,
          0.002838548502156061,
          0.000030823964296885126,
          0.0026826252976030296,
          0.003039922779667694,
          0.001240690877201942,
          0.00024292864499859406,
          0.0005900583343031618,
          0.000563294379118009,
          0.00342125896542138,
          0.00006306853958281097,
          0.0009324113372699859,
          0.0034500771745941306,
          0.00027208157646897734,
          0.00011983262014799405,
          0.001504026589721116,
          0.0030087561260173576,
          0.0005765542826384634,
          0.0034693257044096297,
          0.00024108618640897,
          0.0027753907724298887,
          0.0070296190724466225,
          0.0003654471612580217,
          0.0017193323743885287,
          0.00011099554751202387,
          0.0021275587372877073,
          0.0006866207048698898,
          0.0005669056231704443,
          0.0011448652238312035,
          0.0037109712362172263,
          0.0010493340568145165,
          0.002939686269782811,
          0.0011813441021076094,
          0.00026776787498093837,
          0.0009276709929500857,
          0.0006554785335274884,
          0.0017979930771052617,
          0.001557047204459384,
          0.0009000284475816127,
          0.0029564332165564334,
          0.0005378951398560066,
          0.0021679677971091797,
          0.0030886830248818982,
          0.003608990217955433,
          0.0005636466313271253,
          0.0004001698574866307,
          0.0026037521515427215,
          0.0009365545789112203,
          0.004350593020236683,
          0.0028973853792341854,
          0.001528877345246916,
          0.0005320485786799744,
          0.0007553278822165123,
          0.00034663341833168846,
          0.0005975931559213973,
          0.0017366701707446025
         ],
         "xaxis": "x9",
         "y": [
          -0.12790654017022204,
          0.20426061384174363,
          0.23625718586003583,
          0.21120208784267783,
          0.15476732132081492,
          0.18835203298148798,
          0.20836204395749944,
          0.16964560614346283,
          0.2069340135638036,
          0.23965637423116123,
          0.19103507888088103,
          0.2222645673282756,
          0.2076568591859329,
          0.1881009370253537,
          0.23101260275889268,
          0.3649202698273724,
          0.497373395847618,
          0.5703682940102538,
          -0.1450654825862006,
          0.5918247372294271,
          0.6084392812147225,
          0.6545768993726675,
          0.6493076127676107,
          0.6463878430988614,
          0.6515593395956097,
          0.4266871357541248,
          0.5936572517970143,
          0.6688493594628707,
          0.654337871355921,
          0.6756570247872521,
          0.672059496814479,
          -0.11841130150699038,
          0.49667934128812036,
          0.6633707202138259,
          -0.4364487175691331,
          0.6747820542701971,
          0.638711186895338,
          0.625417413624334,
          0.6634743895361849,
          0.6279190123041113,
          0.3487808929839009,
          0.4397585956693881,
          0.6835601274055243,
          0.6798817696481009,
          0.6798097876853486,
          0.6839988389718933,
          0.6740551451778601,
          0.661560246932107,
          0.6807122181980386,
          0.6859143285925269,
          0.3398869833061091,
          0.6851059441137389,
          0.6885093387214095,
          0.6866962057592212,
          0.6862616170938641,
          0.6849431747885116,
          0.687484196871404,
          0.6743084678041781,
          0.6845639454714197,
          -0.4275255969249568,
          -1.6558056212926993,
          0.686123454799752,
          0.6855802988393039,
          0.6898312727857613,
          0.562553069027968,
          0.6889536880634416,
          0.6737098047780578,
          0.6897447275854321,
          0.6808641160383672,
          0.6522742813721113,
          0.3344964072925333,
          0.6728207859124952,
          0.30003330601780515,
          0.4853030043574664,
          -0.024742239926973903,
          0.6804963558181774,
          0.6829243230642419,
          0.6626223131005086,
          0.6660432836442608,
          0.6832980469016671,
          0.6829206249511895,
          0.6833373562394659,
          0.6783524136809369,
          0.6789503188784872,
          0.6754780513237217,
          0.6676278643468067,
          0.6618083769162196,
          0.6801395164435043,
          0.687140989156342,
          0.4730621199203073,
          0.6804678147366875,
          0.236570982344956,
          0.6843458151379891,
          0.6884001964841536,
          0.6853891421260281,
          0.6906281134814227,
          0.6777495883903124,
          0.676013619255405,
          0.6844172812047349,
          0.6796466537122043,
          0.6808616407635634,
          0.6483974550100009,
          0.6896497342574529,
          0.6835557121364757,
          0.6894356418764288,
          0.30549265759681027,
          0.38233868330369375,
          0.6804933091893411,
          0.6930092353589993,
          0.6827034657221785,
          0.6923952120648607,
          0.5395657620401767,
          0.6880172368177372,
          -0.17762255925952056,
          0.6885448321978903,
          0.6896408163964982,
          0.6856601500099604,
          0.683955896028264,
          0.6903260359464679,
          0.68682505582985,
          0.6891203068441257,
          0.6903333712075955,
          0.6931720638961695,
          0.6932352939012617,
          0.6912515793310147
         ],
         "yaxis": "y9"
        },
        {
         "marker": {
          "color": [
           0,
           1,
           2,
           3,
           4,
           5,
           6,
           7,
           8,
           9,
           10,
           11,
           12,
           13,
           14,
           15,
           16,
           17,
           18,
           19,
           20,
           21,
           22,
           23,
           24,
           25,
           26,
           27,
           28,
           29,
           30,
           31,
           32,
           33,
           34,
           35,
           36,
           37,
           38,
           39,
           40,
           41,
           42,
           43,
           44,
           45,
           46,
           47,
           48,
           49,
           50,
           51,
           52,
           53,
           54,
           55,
           56,
           57,
           58,
           59,
           60,
           61,
           62,
           63,
           64,
           65,
           66,
           67,
           68,
           69,
           70,
           71,
           72,
           73,
           74,
           75,
           76,
           77,
           78,
           79,
           80,
           81,
           82,
           83,
           84,
           85,
           86,
           87,
           88,
           89,
           90,
           91,
           92,
           93,
           94,
           95,
           96,
           97,
           98,
           99,
           100,
           101,
           102,
           103,
           104,
           105,
           106,
           107,
           108,
           109,
           110,
           111,
           112,
           113,
           114,
           115,
           116,
           117,
           118,
           119,
           120,
           121,
           122,
           123,
           124
          ],
          "colorbar": {
           "title": {
            "text": "Trial"
           },
           "x": 1,
           "xpad": 40
          },
          "colorscale": [
           [
            0,
            "rgb(247,251,255)"
           ],
           [
            0.125,
            "rgb(222,235,247)"
           ],
           [
            0.25,
            "rgb(198,219,239)"
           ],
           [
            0.375,
            "rgb(158,202,225)"
           ],
           [
            0.5,
            "rgb(107,174,214)"
           ],
           [
            0.625,
            "rgb(66,146,198)"
           ],
           [
            0.75,
            "rgb(33,113,181)"
           ],
           [
            0.875,
            "rgb(8,81,156)"
           ],
           [
            1,
            "rgb(8,48,107)"
           ]
          ],
          "line": {
           "color": "Grey",
           "width": 0.5
          },
          "showscale": false
         },
         "mode": "markers",
         "name": "Feasible Trial",
         "showlegend": false,
         "type": "scatter",
         "x": [
          0.005426133813429804,
          0.0011422444281560628,
          2.981517752108811e-11,
          1.8484551431650316e-13,
          1.3630034866839355e-9,
          5.2938558137085665e-11,
          9.312222293081671e-7,
          0.0003155628990868918,
          0.0009609477254112005,
          0.000007130026670189153,
          2.8334116067686173e-8,
          9.042152065141357e-7,
          0.0021426307218656137,
          2.3240207018653674e-9,
          1.408157447967238e-9,
          7.13267536883246e-8,
          2.6803092202400126e-15,
          5.280567577196962e-11,
          1.9355897799159484e-14,
          2.1628588946282023e-8,
          1.5100643575838883e-12,
          1.3442074391146905e-8,
          0.0000154873453451568,
          0.004523340611442341,
          0.000013993357753767021,
          2.169987614510992e-11,
          2.2460567178785266e-12,
          0.0010146511384656958,
          0.00029858220267664465,
          0.000008443581975426108,
          0.000023033622703444477,
          1.0080306868530368e-12,
          9.041825499655919e-15,
          0.0007132043406273125,
          6.351825382696388e-11,
          4.1418830245862107e-8,
          5.428043927315996e-7,
          2.82289621715309e-11,
          1.2170373051608403e-7,
          8.87935093630902e-11,
          4.147303050017621e-11,
          7.7287810453141e-11,
          0.003939975083376871,
          0.000009167466323192741,
          0.006643689197559405,
          0.003908873972108976,
          0.0006419682842822232,
          0.0079505407085886,
          4.424704965754959e-9,
          8.903530453341656e-8,
          2.0279065021897442e-14,
          0.000010914153058951204,
          0.005945961949256008,
          0.00003168437263352122,
          0.0013966086443508554,
          2.8384312809594956e-7,
          0.000555074263324682,
          2.1773759057822505e-8,
          0.000374531342057191,
          1.2423464540022639e-11,
          3.3224833093661105e-10,
          0.0002851997213172273,
          0.002213642293171991,
          0.0008939844971173577,
          2.4112110774661088e-11,
          0.00248934900924189,
          0.00044819135287589346,
          0.002376430344917684,
          9.288560935714603e-7,
          0.00011953449448689079,
          1.258301340323368e-14,
          0.000006196794562651111,
          1.0637967147725312e-13,
          1.7870104491211807e-15,
          2.18338029192705e-14,
          0.000026867629377885802,
          7.936354117817913e-7,
          0.000014635209719292388,
          0.000010138422760155242,
          0.0000011531033239568166,
          1.595032367370015e-9,
          0.000590079307191005,
          0.00000882053882713296,
          4.2289733612190025e-7,
          0.0000035608850011668945,
          0.00003831742159075689,
          0.00012114413416972491,
          1.0461474777849252e-9,
          0.000019580871217609064,
          3.431616723210184e-13,
          6.488278411046057e-9,
          2.826738385124281e-11,
          0.007962229237435227,
          0.006827944810789904,
          0.00021403820454458675,
          0.000047200777808841906,
          6.785712176599365e-8,
          0.00038162993028103393,
          0.000008276555599025119,
          6.593401430380728e-8,
          0.0000017997326001578488,
          4.072169086901601e-9,
          0.006366912554478901,
          0.00010924888120463623,
          0.0017631909212337004,
          2.164485743955165e-15,
          2.746339709399058e-12,
          0.000020294185136467764,
          0.0007613804383215984,
          0.00000718712926144013,
          0.0013411338581584644,
          2.3129813948882195e-14,
          0.000009040732640209205,
          1.6700115870714806e-12,
          0.0026719387538460876,
          0.0004082970380501202,
          7.923886138273953e-9,
          0.00024872441480882105,
          0.0000012546011034674096,
          6.17021360984489e-7,
          7.88429479613665e-7,
          0.00029151180318390306,
          4.584752433652177e-8,
          0.00000459895037249526,
          0.0017301007963632577
         ],
         "xaxis": "x10",
         "y": [
          -0.12790654017022204,
          0.20426061384174363,
          0.23625718586003583,
          0.21120208784267783,
          0.15476732132081492,
          0.18835203298148798,
          0.20836204395749944,
          0.16964560614346283,
          0.2069340135638036,
          0.23965637423116123,
          0.19103507888088103,
          0.2222645673282756,
          0.2076568591859329,
          0.1881009370253537,
          0.23101260275889268,
          0.3649202698273724,
          0.497373395847618,
          0.5703682940102538,
          -0.1450654825862006,
          0.5918247372294271,
          0.6084392812147225,
          0.6545768993726675,
          0.6493076127676107,
          0.6463878430988614,
          0.6515593395956097,
          0.4266871357541248,
          0.5936572517970143,
          0.6688493594628707,
          0.654337871355921,
          0.6756570247872521,
          0.672059496814479,
          -0.11841130150699038,
          0.49667934128812036,
          0.6633707202138259,
          -0.4364487175691331,
          0.6747820542701971,
          0.638711186895338,
          0.625417413624334,
          0.6634743895361849,
          0.6279190123041113,
          0.3487808929839009,
          0.4397585956693881,
          0.6835601274055243,
          0.6798817696481009,
          0.6798097876853486,
          0.6839988389718933,
          0.6740551451778601,
          0.661560246932107,
          0.6807122181980386,
          0.6859143285925269,
          0.3398869833061091,
          0.6851059441137389,
          0.6885093387214095,
          0.6866962057592212,
          0.6862616170938641,
          0.6849431747885116,
          0.687484196871404,
          0.6743084678041781,
          0.6845639454714197,
          -0.4275255969249568,
          -1.6558056212926993,
          0.686123454799752,
          0.6855802988393039,
          0.6898312727857613,
          0.562553069027968,
          0.6889536880634416,
          0.6737098047780578,
          0.6897447275854321,
          0.6808641160383672,
          0.6522742813721113,
          0.3344964072925333,
          0.6728207859124952,
          0.30003330601780515,
          0.4853030043574664,
          -0.024742239926973903,
          0.6804963558181774,
          0.6829243230642419,
          0.6626223131005086,
          0.6660432836442608,
          0.6832980469016671,
          0.6829206249511895,
          0.6833373562394659,
          0.6783524136809369,
          0.6789503188784872,
          0.6754780513237217,
          0.6676278643468067,
          0.6618083769162196,
          0.6801395164435043,
          0.687140989156342,
          0.4730621199203073,
          0.6804678147366875,
          0.236570982344956,
          0.6843458151379891,
          0.6884001964841536,
          0.6853891421260281,
          0.6906281134814227,
          0.6777495883903124,
          0.676013619255405,
          0.6844172812047349,
          0.6796466537122043,
          0.6808616407635634,
          0.6483974550100009,
          0.6896497342574529,
          0.6835557121364757,
          0.6894356418764288,
          0.30549265759681027,
          0.38233868330369375,
          0.6804933091893411,
          0.6930092353589993,
          0.6827034657221785,
          0.6923952120648607,
          0.5395657620401767,
          0.6880172368177372,
          -0.17762255925952056,
          0.6885448321978903,
          0.6896408163964982,
          0.6856601500099604,
          0.683955896028264,
          0.6903260359464679,
          0.68682505582985,
          0.6891203068441257,
          0.6903333712075955,
          0.6931720638961695,
          0.6932352939012617,
          0.6912515793310147
         ],
         "yaxis": "y10"
        }
       ],
       "layout": {
        "template": {
         "data": {
          "bar": [
           {
            "error_x": {
             "color": "#2a3f5f"
            },
            "error_y": {
             "color": "#2a3f5f"
            },
            "marker": {
             "line": {
              "color": "#E5ECF6",
              "width": 0.5
             },
             "pattern": {
              "fillmode": "overlay",
              "size": 10,
              "solidity": 0.2
             }
            },
            "type": "bar"
           }
          ],
          "barpolar": [
           {
            "marker": {
             "line": {
              "color": "#E5ECF6",
              "width": 0.5
             },
             "pattern": {
              "fillmode": "overlay",
              "size": 10,
              "solidity": 0.2
             }
            },
            "type": "barpolar"
           }
          ],
          "carpet": [
           {
            "aaxis": {
             "endlinecolor": "#2a3f5f",
             "gridcolor": "white",
             "linecolor": "white",
             "minorgridcolor": "white",
             "startlinecolor": "#2a3f5f"
            },
            "baxis": {
             "endlinecolor": "#2a3f5f",
             "gridcolor": "white",
             "linecolor": "white",
             "minorgridcolor": "white",
             "startlinecolor": "#2a3f5f"
            },
            "type": "carpet"
           }
          ],
          "choropleth": [
           {
            "colorbar": {
             "outlinewidth": 0,
             "ticks": ""
            },
            "type": "choropleth"
           }
          ],
          "contour": [
           {
            "colorbar": {
             "outlinewidth": 0,
             "ticks": ""
            },
            "colorscale": [
             [
              0,
              "#0d0887"
             ],
             [
              0.1111111111111111,
              "#46039f"
             ],
             [
              0.2222222222222222,
              "#7201a8"
             ],
             [
              0.3333333333333333,
              "#9c179e"
             ],
             [
              0.4444444444444444,
              "#bd3786"
             ],
             [
              0.5555555555555556,
              "#d8576b"
             ],
             [
              0.6666666666666666,
              "#ed7953"
             ],
             [
              0.7777777777777778,
              "#fb9f3a"
             ],
             [
              0.8888888888888888,
              "#fdca26"
             ],
             [
              1,
              "#f0f921"
             ]
            ],
            "type": "contour"
           }
          ],
          "contourcarpet": [
           {
            "colorbar": {
             "outlinewidth": 0,
             "ticks": ""
            },
            "type": "contourcarpet"
           }
          ],
          "heatmap": [
           {
            "colorbar": {
             "outlinewidth": 0,
             "ticks": ""
            },
            "colorscale": [
             [
              0,
              "#0d0887"
             ],
             [
              0.1111111111111111,
              "#46039f"
             ],
             [
              0.2222222222222222,
              "#7201a8"
             ],
             [
              0.3333333333333333,
              "#9c179e"
             ],
             [
              0.4444444444444444,
              "#bd3786"
             ],
             [
              0.5555555555555556,
              "#d8576b"
             ],
             [
              0.6666666666666666,
              "#ed7953"
             ],
             [
              0.7777777777777778,
              "#fb9f3a"
             ],
             [
              0.8888888888888888,
              "#fdca26"
             ],
             [
              1,
              "#f0f921"
             ]
            ],
            "type": "heatmap"
           }
          ],
          "histogram": [
           {
            "marker": {
             "pattern": {
              "fillmode": "overlay",
              "size": 10,
              "solidity": 0.2
             }
            },
            "type": "histogram"
           }
          ],
          "histogram2d": [
           {
            "colorbar": {
             "outlinewidth": 0,
             "ticks": ""
            },
            "colorscale": [
             [
              0,
              "#0d0887"
             ],
             [
              0.1111111111111111,
              "#46039f"
             ],
             [
              0.2222222222222222,
              "#7201a8"
             ],
             [
              0.3333333333333333,
              "#9c179e"
             ],
             [
              0.4444444444444444,
              "#bd3786"
             ],
             [
              0.5555555555555556,
              "#d8576b"
             ],
             [
              0.6666666666666666,
              "#ed7953"
             ],
             [
              0.7777777777777778,
              "#fb9f3a"
             ],
             [
              0.8888888888888888,
              "#fdca26"
             ],
             [
              1,
              "#f0f921"
             ]
            ],
            "type": "histogram2d"
           }
          ],
          "histogram2dcontour": [
           {
            "colorbar": {
             "outlinewidth": 0,
             "ticks": ""
            },
            "colorscale": [
             [
              0,
              "#0d0887"
             ],
             [
              0.1111111111111111,
              "#46039f"
             ],
             [
              0.2222222222222222,
              "#7201a8"
             ],
             [
              0.3333333333333333,
              "#9c179e"
             ],
             [
              0.4444444444444444,
              "#bd3786"
             ],
             [
              0.5555555555555556,
              "#d8576b"
             ],
             [
              0.6666666666666666,
              "#ed7953"
             ],
             [
              0.7777777777777778,
              "#fb9f3a"
             ],
             [
              0.8888888888888888,
              "#fdca26"
             ],
             [
              1,
              "#f0f921"
             ]
            ],
            "type": "histogram2dcontour"
           }
          ],
          "mesh3d": [
           {
            "colorbar": {
             "outlinewidth": 0,
             "ticks": ""
            },
            "type": "mesh3d"
           }
          ],
          "parcoords": [
           {
            "line": {
             "colorbar": {
              "outlinewidth": 0,
              "ticks": ""
             }
            },
            "type": "parcoords"
           }
          ],
          "pie": [
           {
            "automargin": true,
            "type": "pie"
           }
          ],
          "scatter": [
           {
            "fillpattern": {
             "fillmode": "overlay",
             "size": 10,
             "solidity": 0.2
            },
            "type": "scatter"
           }
          ],
          "scatter3d": [
           {
            "line": {
             "colorbar": {
              "outlinewidth": 0,
              "ticks": ""
             }
            },
            "marker": {
             "colorbar": {
              "outlinewidth": 0,
              "ticks": ""
             }
            },
            "type": "scatter3d"
           }
          ],
          "scattercarpet": [
           {
            "marker": {
             "colorbar": {
              "outlinewidth": 0,
              "ticks": ""
             }
            },
            "type": "scattercarpet"
           }
          ],
          "scattergeo": [
           {
            "marker": {
             "colorbar": {
              "outlinewidth": 0,
              "ticks": ""
             }
            },
            "type": "scattergeo"
           }
          ],
          "scattergl": [
           {
            "marker": {
             "colorbar": {
              "outlinewidth": 0,
              "ticks": ""
             }
            },
            "type": "scattergl"
           }
          ],
          "scattermap": [
           {
            "marker": {
             "colorbar": {
              "outlinewidth": 0,
              "ticks": ""
             }
            },
            "type": "scattermap"
           }
          ],
          "scattermapbox": [
           {
            "marker": {
             "colorbar": {
              "outlinewidth": 0,
              "ticks": ""
             }
            },
            "type": "scattermapbox"
           }
          ],
          "scatterpolar": [
           {
            "marker": {
             "colorbar": {
              "outlinewidth": 0,
              "ticks": ""
             }
            },
            "type": "scatterpolar"
           }
          ],
          "scatterpolargl": [
           {
            "marker": {
             "colorbar": {
              "outlinewidth": 0,
              "ticks": ""
             }
            },
            "type": "scatterpolargl"
           }
          ],
          "scatterternary": [
           {
            "marker": {
             "colorbar": {
              "outlinewidth": 0,
              "ticks": ""
             }
            },
            "type": "scatterternary"
           }
          ],
          "surface": [
           {
            "colorbar": {
             "outlinewidth": 0,
             "ticks": ""
            },
            "colorscale": [
             [
              0,
              "#0d0887"
             ],
             [
              0.1111111111111111,
              "#46039f"
             ],
             [
              0.2222222222222222,
              "#7201a8"
             ],
             [
              0.3333333333333333,
              "#9c179e"
             ],
             [
              0.4444444444444444,
              "#bd3786"
             ],
             [
              0.5555555555555556,
              "#d8576b"
             ],
             [
              0.6666666666666666,
              "#ed7953"
             ],
             [
              0.7777777777777778,
              "#fb9f3a"
             ],
             [
              0.8888888888888888,
              "#fdca26"
             ],
             [
              1,
              "#f0f921"
             ]
            ],
            "type": "surface"
           }
          ],
          "table": [
           {
            "cells": {
             "fill": {
              "color": "#EBF0F8"
             },
             "line": {
              "color": "white"
             }
            },
            "header": {
             "fill": {
              "color": "#C8D4E3"
             },
             "line": {
              "color": "white"
             }
            },
            "type": "table"
           }
          ]
         },
         "layout": {
          "annotationdefaults": {
           "arrowcolor": "#2a3f5f",
           "arrowhead": 0,
           "arrowwidth": 1
          },
          "autotypenumbers": "strict",
          "coloraxis": {
           "colorbar": {
            "outlinewidth": 0,
            "ticks": ""
           }
          },
          "colorscale": {
           "diverging": [
            [
             0,
             "#8e0152"
            ],
            [
             0.1,
             "#c51b7d"
            ],
            [
             0.2,
             "#de77ae"
            ],
            [
             0.3,
             "#f1b6da"
            ],
            [
             0.4,
             "#fde0ef"
            ],
            [
             0.5,
             "#f7f7f7"
            ],
            [
             0.6,
             "#e6f5d0"
            ],
            [
             0.7,
             "#b8e186"
            ],
            [
             0.8,
             "#7fbc41"
            ],
            [
             0.9,
             "#4d9221"
            ],
            [
             1,
             "#276419"
            ]
           ],
           "sequential": [
            [
             0,
             "#0d0887"
            ],
            [
             0.1111111111111111,
             "#46039f"
            ],
            [
             0.2222222222222222,
             "#7201a8"
            ],
            [
             0.3333333333333333,
             "#9c179e"
            ],
            [
             0.4444444444444444,
             "#bd3786"
            ],
            [
             0.5555555555555556,
             "#d8576b"
            ],
            [
             0.6666666666666666,
             "#ed7953"
            ],
            [
             0.7777777777777778,
             "#fb9f3a"
            ],
            [
             0.8888888888888888,
             "#fdca26"
            ],
            [
             1,
             "#f0f921"
            ]
           ],
           "sequentialminus": [
            [
             0,
             "#0d0887"
            ],
            [
             0.1111111111111111,
             "#46039f"
            ],
            [
             0.2222222222222222,
             "#7201a8"
            ],
            [
             0.3333333333333333,
             "#9c179e"
            ],
            [
             0.4444444444444444,
             "#bd3786"
            ],
            [
             0.5555555555555556,
             "#d8576b"
            ],
            [
             0.6666666666666666,
             "#ed7953"
            ],
            [
             0.7777777777777778,
             "#fb9f3a"
            ],
            [
             0.8888888888888888,
             "#fdca26"
            ],
            [
             1,
             "#f0f921"
            ]
           ]
          },
          "colorway": [
           "#636efa",
           "#EF553B",
           "#00cc96",
           "#ab63fa",
           "#FFA15A",
           "#19d3f3",
           "#FF6692",
           "#B6E880",
           "#FF97FF",
           "#FECB52"
          ],
          "font": {
           "color": "#2a3f5f"
          },
          "geo": {
           "bgcolor": "white",
           "lakecolor": "white",
           "landcolor": "#E5ECF6",
           "showlakes": true,
           "showland": true,
           "subunitcolor": "white"
          },
          "hoverlabel": {
           "align": "left"
          },
          "hovermode": "closest",
          "mapbox": {
           "style": "light"
          },
          "paper_bgcolor": "white",
          "plot_bgcolor": "#E5ECF6",
          "polar": {
           "angularaxis": {
            "gridcolor": "white",
            "linecolor": "white",
            "ticks": ""
           },
           "bgcolor": "#E5ECF6",
           "radialaxis": {
            "gridcolor": "white",
            "linecolor": "white",
            "ticks": ""
           }
          },
          "scene": {
           "xaxis": {
            "backgroundcolor": "#E5ECF6",
            "gridcolor": "white",
            "gridwidth": 2,
            "linecolor": "white",
            "showbackground": true,
            "ticks": "",
            "zerolinecolor": "white"
           },
           "yaxis": {
            "backgroundcolor": "#E5ECF6",
            "gridcolor": "white",
            "gridwidth": 2,
            "linecolor": "white",
            "showbackground": true,
            "ticks": "",
            "zerolinecolor": "white"
           },
           "zaxis": {
            "backgroundcolor": "#E5ECF6",
            "gridcolor": "white",
            "gridwidth": 2,
            "linecolor": "white",
            "showbackground": true,
            "ticks": "",
            "zerolinecolor": "white"
           }
          },
          "shapedefaults": {
           "line": {
            "color": "#2a3f5f"
           }
          },
          "ternary": {
           "aaxis": {
            "gridcolor": "white",
            "linecolor": "white",
            "ticks": ""
           },
           "baxis": {
            "gridcolor": "white",
            "linecolor": "white",
            "ticks": ""
           },
           "bgcolor": "#E5ECF6",
           "caxis": {
            "gridcolor": "white",
            "linecolor": "white",
            "ticks": ""
           }
          },
          "title": {
           "x": 0.05
          },
          "xaxis": {
           "automargin": true,
           "gridcolor": "white",
           "linecolor": "white",
           "ticks": "",
           "title": {
            "standoff": 15
           },
           "zerolinecolor": "white",
           "zerolinewidth": 2
          },
          "yaxis": {
           "automargin": true,
           "gridcolor": "white",
           "linecolor": "white",
           "ticks": "",
           "title": {
            "standoff": 15
           },
           "zerolinecolor": "white",
           "zerolinewidth": 2
          }
         }
        },
        "title": {
         "text": "Slice Plot"
        },
        "width": 3000,
        "xaxis": {
         "anchor": "y",
         "domain": [
          0,
          0.082
         ],
         "title": {
          "text": "loss.params.matching_weights._presence"
         }
        },
        "xaxis10": {
         "anchor": "y10",
         "domain": [
          0.9179999999999999,
          0.9999999999999999
         ],
         "title": {
          "text": "optimizer.params.weight_decay"
         },
         "type": "log"
        },
        "xaxis2": {
         "anchor": "y2",
         "domain": [
          0.10200000000000001,
          0.184
         ],
         "title": {
          "text": "model.autoencoder.params.cat_emb_dim"
         }
        },
        "xaxis3": {
         "anchor": "y3",
         "domain": [
          0.20400000000000001,
          0.28600000000000003
         ],
         "title": {
          "text": "model.autoencoder.params.num_emb_dim"
         }
        },
        "xaxis4": {
         "anchor": "y4",
         "categoryarray": [
          true,
          false
         ],
         "categoryorder": "array",
         "domain": [
          0.306,
          0.388
         ],
         "title": {
          "text": "model.autoencoder.params.num_norm"
         },
         "type": "category"
        },
        "xaxis5": {
         "anchor": "y5",
         "domain": [
          0.40800000000000003,
          0.49000000000000005
         ],
         "title": {
          "text": "model.latent_encoder.params.dropout"
         },
         "type": "log"
        },
        "xaxis6": {
         "anchor": "y6",
         "domain": [
          0.51,
          0.592
         ],
         "title": {
          "text": "model.latent_encoder.params.hidden_size"
         },
         "type": "log"
        },
        "xaxis7": {
         "anchor": "y7",
         "domain": [
          0.6120000000000001,
          0.6940000000000001
         ],
         "title": {
          "text": "model.latent_encoder.params.num_layers"
         }
        },
        "xaxis8": {
         "anchor": "y8",
         "domain": [
          0.7140000000000001,
          0.796
         ],
         "title": {
          "text": "model.params.k_factor"
         }
        },
        "xaxis9": {
         "anchor": "y9",
         "domain": [
          0.8160000000000001,
          0.898
         ],
         "title": {
          "text": "optimizer.params.lr"
         },
         "type": "log"
        },
        "yaxis": {
         "anchor": "x",
         "domain": [
          0,
          1
         ],
         "title": {
          "text": "target"
         }
        },
        "yaxis10": {
         "anchor": "x10",
         "domain": [
          0,
          1
         ],
         "matches": "y",
         "showticklabels": false
        },
        "yaxis2": {
         "anchor": "x2",
         "domain": [
          0,
          1
         ],
         "matches": "y",
         "showticklabels": false
        },
        "yaxis3": {
         "anchor": "x3",
         "domain": [
          0,
          1
         ],
         "matches": "y",
         "showticklabels": false
        },
        "yaxis4": {
         "anchor": "x4",
         "domain": [
          0,
          1
         ],
         "matches": "y",
         "showticklabels": false
        },
        "yaxis5": {
         "anchor": "x5",
         "domain": [
          0,
          1
         ],
         "matches": "y",
         "showticklabels": false
        },
        "yaxis6": {
         "anchor": "x6",
         "domain": [
          0,
          1
         ],
         "matches": "y",
         "showticklabels": false
        },
        "yaxis7": {
         "anchor": "x7",
         "domain": [
          0,
          1
         ],
         "matches": "y",
         "showticklabels": false
        },
        "yaxis8": {
         "anchor": "x8",
         "domain": [
          0,
          1
         ],
         "matches": "y",
         "showticklabels": false
        },
        "yaxis9": {
         "anchor": "x9",
         "domain": [
          0,
          1
         ],
         "matches": "y",
         "showticklabels": false
        }
       }
      }
     },
     "metadata": {},
     "output_type": "display_data"
    }
   ],
   "source": [
    "# fig = optuna.visualization.plot_parallel_coordinate(plotted_study, target=target, target_name=target_name, params=['model.encoder.params.pooling', 'pretrain_model.encoder.params.pooling',])\n",
    "# fig = optuna.visualization.plot_contour(study, target=target, target_name=target_name, params=params+not_imp)\n",
    "fig = optuna.visualization.plot_slice(study, target=target, target_name=target_name)#, params=[\"model.encoder.params.num_layers\"] )\n",
    "# fig = optuna.visualization.plot_optimization_history(study, target=target, target_name=target_name, error_bar=False)\n",
    "# targets = lambda t: (t.params[\"schedulers.beta.BetaScheduler.factor\"], t.user_attrs[\"test_Reconstruction overall_mean\"])\n",
    "# target_names = [\"memory_after_mean\", \"test_Reconstruction overall_mean\"]\n",
    "# fig = optuna.visualization.plot_pareto_front(study, targets=targets, target_names=target_names)\n",
    "fig"
   ]
  },
  {
   "cell_type": "code",
   "execution_count": 48,
   "metadata": {},
   "outputs": [
    {
     "data": {
      "application/vnd.plotly.v1+json": {
       "config": {
        "plotlyServerURL": "https://plot.ly"
       },
       "data": [
        {
         "hovertemplate": "%{text}<extra>Trial</extra>",
         "marker": {
          "color": [
           1,
           2,
           3,
           4,
           5,
           6,
           7,
           8,
           9,
           10,
           11,
           12,
           13,
           14,
           15,
           16,
           17,
           18,
           19,
           20,
           21,
           22,
           23,
           24,
           25,
           26,
           27,
           28,
           29,
           30,
           31,
           32
          ],
          "colorbar": {
           "title": {
            "text": "Trial"
           }
          },
          "colorscale": [
           [
            0,
            "rgb(247,251,255)"
           ],
           [
            0.125,
            "rgb(222,235,247)"
           ],
           [
            0.25,
            "rgb(198,219,239)"
           ],
           [
            0.375,
            "rgb(158,202,225)"
           ],
           [
            0.5,
            "rgb(107,174,214)"
           ],
           [
            0.625,
            "rgb(66,146,198)"
           ],
           [
            0.75,
            "rgb(33,113,181)"
           ],
           [
            0.875,
            "rgb(8,81,156)"
           ],
           [
            1,
            "rgb(8,48,107)"
           ]
          ],
          "line": {
           "color": "Grey",
           "width": 0.5
          }
         },
         "mode": "markers",
         "showlegend": false,
         "text": [
          "{<br>  \"number\": 1,<br>  \"values\": [<br>    -4.683615318934122<br>  ],<br>  \"params\": {<br>    \"optimizer.params.weight_decay\": 1.207326459311756e-08,<br>    \"optimizer.params.lr\": 3.766445103018004e-05,<br>    \"model.autoencoder.params.d_token\": 80,<br>    \"model.autoencoder.params.num_layers\": 1,<br>    \"model.autoencoder.params.n_head\": 1,<br>    \"model.autoencoder.params.factor\": 36,<br>    \"data_conf.train_transforms.1.TimeToDiff.disable\": false,<br>    \"schedulers.step.StepLR.step_size\": 40,<br>    \"schedulers.beta.BetaScheduler.init_beta\": 0.6608276859310325,<br>    \"schedulers.beta.BetaScheduler.factor\": 0.2,<br>    \"schedulers.beta.BetaScheduler.patience\": 5<br>  },<br>  \"user_attrs\": {<br>    \"train_Reconstruction overall_mean\": -57.86401088007587,<br>    \"train_Reconstruction overall_std\": 0.0,<br>    \"train_Reconstruction trans_date_mean\": -234.30228575245383,<br>    \"train_Reconstruction trans_date_std\": 0.0,<br>    \"train_Reconstruction age_mean\": 0.9999214566714021,<br>    \"train_Reconstruction age_std\": 0.0,<br>    \"train_Reconstruction small_group_mean\": 0.9499166757731395,<br>    \"train_Reconstruction small_group_std\": 0.0,<br>    \"train_Reconstruction amount_rur_mean\": 0.8964040997057904,<br>    \"train_Reconstruction amount_rur_std\": 0.0,<br>    \"loss_mean\": -4.683615318934122,<br>    \"loss_std\": 0.0,<br>    \"kl_loss_mean\": -0.814684247970581,<br>    \"kl_loss_std\": 0.0,<br>    \"Reconstruction overall_mean\": -58.478641012756,<br>    \"Reconstruction overall_std\": 0.0,<br>    \"Reconstruction trans_date_mean\": -236.76355350914076,<br>    \"Reconstruction trans_date_std\": 0.0,<br>    \"Reconstruction age_mean\": 0.9999331244267808,<br>    \"Reconstruction age_std\": 0.0,<br>    \"Reconstruction small_group_mean\": 0.9497859981656985,<br>    \"Reconstruction small_group_std\": 0.0,<br>    \"Reconstruction amount_rur_mean\": 0.8992703355242639,<br>    \"Reconstruction amount_rur_std\": 0.0,<br>    \"test_loss_mean\": -4.692121545473735,<br>    \"test_loss_std\": 0.0,<br>    \"test_kl_loss_mean\": -0.8146026904384295,<br>    \"test_kl_loss_std\": 0.0,<br>    \"test_Reconstruction overall_mean\": -58.244929877432895,<br>    \"test_Reconstruction overall_std\": 0.0,<br>    \"test_Reconstruction trans_date_mean\": -235.83183623035185,<br>    \"test_Reconstruction trans_date_std\": 0.0,<br>    \"test_Reconstruction age_mean\": 0.9999432849364791,<br>    \"test_Reconstruction age_std\": 0.0,<br>    \"test_Reconstruction small_group_mean\": 0.9509981851179673,<br>    \"test_Reconstruction small_group_std\": 0.0,<br>    \"test_Reconstruction amount_rur_mean\": 0.9011752505658368,<br>    \"test_Reconstruction amount_rur_std\": 0.0,<br>    \"memory_after_mean\": 80290.0,<br>    \"memory_after_std\": 0.0<br>  }<br>}",
          "{<br>  \"number\": 2,<br>  \"values\": [<br>    -1.8335959752400717<br>  ],<br>  \"params\": {<br>    \"optimizer.params.weight_decay\": 9.74664592449653e-11,<br>    \"optimizer.params.lr\": 0.00032031768650725597,<br>    \"model.autoencoder.params.d_token\": 40,<br>    \"model.autoencoder.params.num_layers\": 7,<br>    \"model.autoencoder.params.n_head\": 4,<br>    \"model.autoencoder.params.factor\": 15,<br>    \"data_conf.train_transforms.1.TimeToDiff.disable\": false,<br>    \"schedulers.step.StepLR.step_size\": 50,<br>    \"schedulers.beta.BetaScheduler.init_beta\": 0.8953839645755994,<br>    \"schedulers.beta.BetaScheduler.factor\": 0.30000000000000004,<br>    \"schedulers.beta.BetaScheduler.patience\": 3<br>  },<br>  \"user_attrs\": {<br>    \"train_Reconstruction overall_mean\": -10.459576591250485,<br>    \"train_Reconstruction overall_std\": 0.0,<br>    \"train_Reconstruction trans_date_mean\": -44.81436625376378,<br>    \"train_Reconstruction trans_date_std\": 0.0,<br>    \"train_Reconstruction age_mean\": 1.0,<br>    \"train_Reconstruction age_std\": 0.0,<br>    \"train_Reconstruction small_group_mean\": 0.9982637944169342,<br>    \"train_Reconstruction small_group_std\": 0.0,<br>    \"train_Reconstruction amount_rur_mean\": 0.9777960943449037,<br>    \"train_Reconstruction amount_rur_std\": 0.0,<br>    \"loss_mean\": -1.8335959752400717,<br>    \"loss_std\": 0.0,<br>    \"kl_loss_mean\": -1.1384709199269614,<br>    \"kl_loss_std\": 0.0,<br>    \"Reconstruction overall_mean\": -10.500533927515708,<br>    \"Reconstruction overall_std\": 0.0,<br>    \"Reconstruction trans_date_mean\": -44.97972138860238,<br>    \"Reconstruction trans_date_std\": 0.0,<br>    \"Reconstruction age_mean\": 1.0,<br>    \"Reconstruction age_std\": 0.0,<br>    \"Reconstruction small_group_mean\": 0.99832811066952,<br>    \"Reconstruction small_group_std\": 0.0,<br>    \"Reconstruction amount_rur_mean\": 0.9792575678700318,<br>    \"Reconstruction amount_rur_std\": 0.0,<br>    \"test_loss_mean\": -1.8320843155185382,<br>    \"test_loss_std\": 0.0,<br>    \"test_kl_loss_mean\": -1.1387963468829791,<br>    \"test_kl_loss_std\": 0.0,<br>    \"test_Reconstruction overall_mean\": -10.492874605750734,<br>    \"test_Reconstruction overall_std\": 0.0,<br>    \"test_Reconstruction trans_date_mean\": -44.94908944777505,<br>    \"test_Reconstruction trans_date_std\": 0.0,<br>    \"test_Reconstruction age_mean\": 1.0,<br>    \"test_Reconstruction age_std\": 0.0,<br>    \"test_Reconstruction small_group_mean\": 0.9982758620689656,<br>    \"test_Reconstruction small_group_std\": 0.0,<br>    \"test_Reconstruction amount_rur_mean\": 0.9793151627031537,<br>    \"test_Reconstruction amount_rur_std\": 0.0,<br>    \"memory_after_mean\": 80240.0,<br>    \"memory_after_std\": 0.0<br>  }<br>}",
          "{<br>  \"number\": 3,<br>  \"values\": [<br>    -1.6930687348047893<br>  ],<br>  \"params\": {<br>    \"optimizer.params.weight_decay\": 0.0006791946477098604,<br>    \"optimizer.params.lr\": 0.0012986346264017936,<br>    \"model.autoencoder.params.d_token\": 32,<br>    \"model.autoencoder.params.num_layers\": 5,<br>    \"model.autoencoder.params.n_head\": 1,<br>    \"model.autoencoder.params.factor\": 4,<br>    \"data_conf.train_transforms.1.TimeToDiff.disable\": false,<br>    \"schedulers.step.StepLR.step_size\": 40,<br>    \"schedulers.beta.BetaScheduler.init_beta\": 0.026407249342723035,<br>    \"schedulers.beta.BetaScheduler.factor\": 0.30000000000000004,<br>    \"schedulers.beta.BetaScheduler.patience\": 9<br>  },<br>  \"user_attrs\": {<br>    \"train_Reconstruction overall_mean\": -7.3110503934407385,<br>    \"train_Reconstruction overall_std\": 0.0,<br>    \"train_Reconstruction trans_date_mean\": -32.209258772929054,<br>    \"train_Reconstruction trans_date_std\": 0.0,<br>    \"train_Reconstruction age_mean\": 1.0,<br>    \"train_Reconstruction age_std\": 0.0,<br>    \"train_Reconstruction small_group_mean\": 0.9862412577860343,<br>    \"train_Reconstruction small_group_std\": 0.0,<br>    \"train_Reconstruction amount_rur_mean\": 0.9788159413800649,<br>    \"train_Reconstruction amount_rur_std\": 0.0,<br>    \"loss_mean\": -1.6930687348047893,<br>    \"loss_std\": 0.0,<br>    \"kl_loss_mean\": -3.2799881140391034,<br>    \"kl_loss_std\": 0.0,<br>    \"Reconstruction overall_mean\": -7.220477696454521,<br>    \"Reconstruction overall_std\": 0.0,<br>    \"Reconstruction trans_date_mean\": -31.84793724182258,<br>    \"Reconstruction trans_date_std\": 0.0,<br>    \"Reconstruction age_mean\": 1.0,<br>    \"Reconstruction age_std\": 0.0,<br>    \"Reconstruction small_group_mean\": 0.9864433659431366,<br>    \"Reconstruction small_group_std\": 0.0,<br>    \"Reconstruction amount_rur_mean\": 0.9795830900613612,<br>    \"Reconstruction amount_rur_std\": 0.0,<br>    \"test_loss_mean\": -1.6994108060995738,<br>    \"test_loss_std\": 0.0,<br>    \"test_kl_loss_mean\": -3.2809866120417914,<br>    \"test_kl_loss_std\": 0.0,<br>    \"test_Reconstruction overall_mean\": -7.245120054796774,<br>    \"test_Reconstruction overall_std\": 0.0,<br>    \"test_Reconstruction trans_date_mean\": -31.947327784083473,<br>    \"test_Reconstruction trans_date_std\": 0.0,<br>    \"test_Reconstruction age_mean\": 1.0,<br>    \"test_Reconstruction age_std\": 0.0,<br>    \"test_Reconstruction small_group_mean\": 0.9865301724137931,<br>    \"test_Reconstruction small_group_std\": 0.0,<br>    \"test_Reconstruction amount_rur_mean\": 0.9803173924825834,<br>    \"test_Reconstruction amount_rur_std\": 0.0,<br>    \"memory_after_mean\": 22652.0,<br>    \"memory_after_std\": 0.0<br>  }<br>}",
          "{<br>  \"number\": 4,<br>  \"values\": [<br>    -1.379983139038086<br>  ],<br>  \"params\": {<br>    \"optimizer.params.weight_decay\": 2.9230003996230584e-11,<br>    \"optimizer.params.lr\": 0.000947347952957327,<br>    \"model.autoencoder.params.d_token\": 96,<br>    \"model.autoencoder.params.num_layers\": 4,<br>    \"model.autoencoder.params.n_head\": 8,<br>    \"model.autoencoder.params.factor\": 2,<br>    \"data_conf.train_transforms.1.TimeToDiff.disable\": false,<br>    \"schedulers.step.StepLR.step_size\": 40,<br>    \"schedulers.beta.BetaScheduler.init_beta\": 0.0026724325015791356,<br>    \"schedulers.beta.BetaScheduler.factor\": 0.1,<br>    \"schedulers.beta.BetaScheduler.patience\": 4<br>  },<br>  \"user_attrs\": {<br>    \"train_Reconstruction overall_mean\": -4.761040469597075,<br>    \"train_Reconstruction overall_std\": 0.0,<br>    \"train_Reconstruction trans_date_mean\": -22.01409282119739,<br>    \"train_Reconstruction trans_date_std\": 0.0,<br>    \"train_Reconstruction age_mean\": 1.0,<br>    \"train_Reconstruction age_std\": 0.0,<br>    \"train_Reconstruction small_group_mean\": 0.9975537260990358,<br>    \"train_Reconstruction small_group_std\": 0.0,<br>    \"train_Reconstruction amount_rur_mean\": 0.9723772167100524,<br>    \"train_Reconstruction amount_rur_std\": 0.0,<br>    \"loss_mean\": -1.379983139038086,<br>    \"loss_std\": 0.0,<br>    \"kl_loss_mean\": -4.187312507629395,<br>    \"kl_loss_std\": 0.0,<br>    \"Reconstruction overall_mean\": -4.6331037259787085,<br>    \"Reconstruction overall_std\": 0.0,<br>    \"Reconstruction trans_date_mean\": -21.503779471661016,<br>    \"Reconstruction trans_date_std\": 0.0,<br>    \"Reconstruction age_mean\": 1.0,<br>    \"Reconstruction age_std\": 0.0,<br>    \"Reconstruction small_group_mean\": 0.9975829257107918,<br>    \"Reconstruction small_group_std\": 0.0,<br>    \"Reconstruction amount_rur_mean\": 0.9737816420353911,<br>    \"Reconstruction amount_rur_std\": 0.0,<br>    \"test_loss_mean\": -1.402532622218132,<br>    \"test_loss_std\": 0.0,<br>    \"test_kl_loss_mean\": -4.1875352164109545,<br>    \"test_kl_loss_std\": 0.0,<br>    \"test_Reconstruction overall_mean\": -5.019330582296672,<br>    \"test_Reconstruction overall_std\": 0.0,<br>    \"test_Reconstruction trans_date_mean\": -23.049537088994377,<br>    \"test_Reconstruction trans_date_std\": 0.0,<br>    \"test_Reconstruction age_mean\": 1.0,<br>    \"test_Reconstruction age_std\": 0.0,<br>    \"test_Reconstruction small_group_mean\": 0.9975158802177858,<br>    \"test_Reconstruction small_group_std\": 0.0,<br>    \"test_Reconstruction amount_rur_mean\": 0.9746988795899022,<br>    \"test_Reconstruction amount_rur_std\": 0.0,<br>    \"memory_after_mean\": 69838.0,<br>    \"memory_after_std\": 0.0<br>  }<br>}",
          "{<br>  \"number\": 5,<br>  \"values\": [<br>    -1.1189143498738607<br>  ],<br>  \"params\": {<br>    \"optimizer.params.weight_decay\": 6.154864815204099e-15,<br>    \"optimizer.params.lr\": 0.006521072166522167,<br>    \"model.autoencoder.params.d_token\": 8,<br>    \"model.autoencoder.params.num_layers\": 10,<br>    \"model.autoencoder.params.n_head\": 4,<br>    \"model.autoencoder.params.factor\": 3,<br>    \"data_conf.train_transforms.1.TimeToDiff.disable\": false,<br>    \"schedulers.step.StepLR.step_size\": 40,<br>    \"schedulers.beta.BetaScheduler.init_beta\": 0.4081948233015203,<br>    \"schedulers.beta.BetaScheduler.factor\": 0.7000000000000001,<br>    \"schedulers.beta.BetaScheduler.patience\": 5<br>  },<br>  \"user_attrs\": {<br>    \"train_Reconstruction overall_mean\": 0.5466152680140662,<br>    \"train_Reconstruction overall_std\": 0.0,<br>    \"train_Reconstruction trans_date_mean\": -0.6507076254698287,<br>    \"train_Reconstruction trans_date_std\": 0.0,<br>    \"train_Reconstruction age_mean\": 0.9975433781869688,<br>    \"train_Reconstruction age_std\": 0.0,<br>    \"train_Reconstruction small_group_mean\": 0.9247333977990848,<br>    \"train_Reconstruction small_group_std\": 0.0,<br>    \"train_Reconstruction amount_rur_mean\": 0.9148919215400402,<br>    \"train_Reconstruction amount_rur_std\": 0.0,<br>    \"loss_mean\": -1.1189143498738607,<br>    \"loss_std\": 0.0,<br>    \"kl_loss_mean\": -0.9361980656782786,<br>    \"kl_loss_std\": 0.0,<br>    \"Reconstruction overall_mean\": 0.5465194331634747,<br>    \"Reconstruction overall_std\": 0.0,<br>    \"Reconstruction trans_date_mean\": -0.6503507669565468,<br>    \"Reconstruction trans_date_std\": 0.0,<br>    \"Reconstruction age_mean\": 0.9975447110975237,<br>    \"Reconstruction age_std\": 0.0,<br>    \"Reconstruction small_group_mean\": 0.9242777438092327,<br>    \"Reconstruction small_group_std\": 0.0,<br>    \"Reconstruction amount_rur_mean\": 0.9146060447036892,<br>    \"Reconstruction amount_rur_std\": 0.0,<br>    \"test_loss_mean\": -1.1168753678599994,<br>    \"test_loss_std\": 0.0,<br>    \"test_kl_loss_mean\": -0.9364377545813719,<br>    \"test_kl_loss_std\": 0.0,<br>    \"test_Reconstruction overall_mean\": 0.5515665402821888,<br>    \"test_Reconstruction overall_std\": 0.0,<br>    \"test_Reconstruction trans_date_mean\": -0.6332787425581577,<br>    \"test_Reconstruction trans_date_std\": 0.0,<br>    \"test_Reconstruction age_mean\": 0.9975725952813067,<br>    \"test_Reconstruction age_std\": 0.0,<br>    \"test_Reconstruction small_group_mean\": 0.9248014972776769,<br>    \"test_Reconstruction small_group_std\": 0.0,<br>    \"test_Reconstruction amount_rur_mean\": 0.9171708111279293,<br>    \"test_Reconstruction amount_rur_std\": 0.0,<br>    \"memory_after_mean\": 9190.0,<br>    \"memory_after_std\": 0.0<br>  }<br>}",
          "{<br>  \"number\": 6,<br>  \"values\": [<br>    -0.42676708300908406<br>  ],<br>  \"params\": {<br>    \"optimizer.params.weight_decay\": 3.592449324479094e-06,<br>    \"optimizer.params.lr\": 0.001906803631049143,<br>    \"model.autoencoder.params.d_token\": 56,<br>    \"model.autoencoder.params.num_layers\": 5,<br>    \"model.autoencoder.params.n_head\": 1,<br>    \"model.autoencoder.params.factor\": 1,<br>    \"data_conf.train_transforms.1.TimeToDiff.disable\": false,<br>    \"schedulers.step.StepLR.step_size\": 10,<br>    \"schedulers.beta.BetaScheduler.init_beta\": 0.006414690584970744,<br>    \"schedulers.beta.BetaScheduler.factor\": 0.2,<br>    \"schedulers.beta.BetaScheduler.patience\": 10<br>  },<br>  \"user_attrs\": {<br>    \"train_Reconstruction overall_mean\": 0.7926521801104871,<br>    \"train_Reconstruction overall_std\": 0.0,<br>    \"train_Reconstruction trans_date_mean\": 0.19091078815839482,<br>    \"train_Reconstruction trans_date_std\": 0.0,<br>    \"train_Reconstruction age_mean\": 1.0,<br>    \"train_Reconstruction age_std\": 0.0,<br>    \"train_Reconstruction small_group_mean\": 0.9980625443431752,<br>    \"train_Reconstruction small_group_std\": 0.0,<br>    \"train_Reconstruction amount_rur_mean\": 0.9816353879403782,<br>    \"train_Reconstruction amount_rur_std\": 0.0,<br>    \"loss_mean\": -0.42676708300908406,<br>    \"loss_std\": 0.0,<br>    \"kl_loss_mean\": -5.420760011672973,<br>    \"kl_loss_std\": 0.0,<br>    \"Reconstruction overall_mean\": 0.7913897327817196,<br>    \"Reconstruction overall_std\": 0.0,<br>    \"Reconstruction trans_date_mean\": 0.18556250383233583,<br>    \"Reconstruction trans_date_std\": 0.0,<br>    \"Reconstruction age_mean\": 1.0,<br>    \"Reconstruction age_std\": 0.0,<br>    \"Reconstruction small_group_mean\": 0.9980415010700092,<br>    \"Reconstruction small_group_std\": 0.0,<br>    \"Reconstruction amount_rur_mean\": 0.9819549262245335,<br>    \"Reconstruction amount_rur_std\": 0.0,<br>    \"test_loss_mean\": -0.425386106595397,<br>    \"test_loss_std\": 0.0,<br>    \"test_kl_loss_mean\": -5.420861780643463,<br>    \"test_kl_loss_std\": 0.0,<br>    \"test_Reconstruction overall_mean\": 0.7917895030814128,<br>    \"test_Reconstruction overall_std\": 0.0,<br>    \"test_Reconstruction trans_date_mean\": 0.18631607864916877,<br>    \"test_Reconstruction trans_date_std\": 0.0,<br>    \"test_Reconstruction age_mean\": 1.0,<br>    \"test_Reconstruction age_std\": 0.0,<br>    \"test_Reconstruction small_group_mean\": 0.9981624319419238,<br>    \"test_Reconstruction small_group_std\": 0.0,<br>    \"test_Reconstruction amount_rur_mean\": 0.9826795017345591,<br>    \"test_Reconstruction amount_rur_std\": 0.0,<br>    \"memory_after_mean\": 37730.0,<br>    \"memory_after_std\": 0.0<br>  }<br>}",
          "{<br>  \"number\": 7,<br>  \"values\": [<br>    -0.3765417605638504<br>  ],<br>  \"params\": {<br>    \"optimizer.params.weight_decay\": 5.2097128217746265e-14,<br>    \"optimizer.params.lr\": 0.0009427015667169288,<br>    \"model.autoencoder.params.d_token\": 112,<br>    \"model.autoencoder.params.num_layers\": 7,<br>    \"model.autoencoder.params.n_head\": 4,<br>    \"model.autoencoder.params.factor\": 4,<br>    \"data_conf.train_transforms.1.TimeToDiff.disable\": false,<br>    \"schedulers.step.StepLR.step_size\": 20,<br>    \"schedulers.beta.BetaScheduler.init_beta\": 0.00321370338925672,<br>    \"schedulers.beta.BetaScheduler.factor\": 0.2,<br>    \"schedulers.beta.BetaScheduler.patience\": 5<br>  },<br>  \"user_attrs\": {<br>    \"train_Reconstruction overall_mean\": 0.7825384707981867,<br>    \"train_Reconstruction overall_std\": 0.0,<br>    \"train_Reconstruction trans_date_mean\": 0.13249303977777843,<br>    \"train_Reconstruction trans_date_std\": 0.0,<br>    \"train_Reconstruction age_mean\": 1.0,<br>    \"train_Reconstruction age_std\": 0.0,<br>    \"train_Reconstruction small_group_mean\": 0.9996719650821277,<br>    \"train_Reconstruction small_group_std\": 0.0,<br>    \"train_Reconstruction amount_rur_mean\": 0.9979888783328411,<br>    \"train_Reconstruction amount_rur_std\": 0.0,<br>    \"loss_mean\": -0.3765417605638504,<br>    \"loss_std\": 0.0,<br>    \"kl_loss_mean\": -6.652329730987549,<br>    \"kl_loss_std\": 0.0,<br>    \"Reconstruction overall_mean\": 0.7872573074257591,<br>    \"Reconstruction overall_std\": 0.0,<br>    \"Reconstruction trans_date_mean\": 0.15069009635550185,<br>    \"Reconstruction trans_date_std\": 0.0,<br>    \"Reconstruction age_mean\": 1.0,<br>    \"Reconstruction age_std\": 0.0,<br>    \"Reconstruction small_group_mean\": 0.999675175787221,<br>    \"Reconstruction small_group_std\": 0.0,<br>    \"Reconstruction amount_rur_mean\": 0.9986639575603132,<br>    \"Reconstruction amount_rur_std\": 0.0,<br>    \"test_loss_mean\": -0.37498739672203857,<br>    \"test_loss_std\": 0.0,<br>    \"test_kl_loss_mean\": -6.652277499437332,<br>    \"test_kl_loss_std\": 0.0,<br>    \"test_Reconstruction overall_mean\": 0.7873966830646467,<br>    \"test_Reconstruction overall_std\": 0.0,<br>    \"test_Reconstruction trans_date_mean\": 0.1512139695350098,<br>    \"test_Reconstruction trans_date_std\": 0.0,<br>    \"test_Reconstruction age_mean\": 1.0,<br>    \"test_Reconstruction age_std\": 0.0,<br>    \"test_Reconstruction small_group_mean\": 0.9996370235934664,<br>    \"test_Reconstruction small_group_std\": 0.0,<br>    \"test_Reconstruction amount_rur_mean\": 0.9987357391301104,<br>    \"test_Reconstruction amount_rur_std\": 0.0,<br>    \"memory_after_mean\": 80362.0,<br>    \"memory_after_std\": 0.0<br>  }<br>}",
          "{<br>  \"number\": 8,<br>  \"values\": [<br>    -0.21779900441567104<br>  ],<br>  \"params\": {<br>    \"optimizer.params.weight_decay\": 7.330282336529876e-10,<br>    \"optimizer.params.lr\": 0.016406496791829785,<br>    \"model.autoencoder.params.d_token\": 40,<br>    \"model.autoencoder.params.num_layers\": 9,<br>    \"model.autoencoder.params.n_head\": 4,<br>    \"model.autoencoder.params.factor\": 1,<br>    \"data_conf.train_transforms.1.TimeToDiff.disable\": true,<br>    \"schedulers.step.StepLR.step_size\": 50,<br>    \"schedulers.beta.BetaScheduler.init_beta\": 0.09856323074579026,<br>    \"schedulers.beta.BetaScheduler.factor\": 0.6,<br>    \"schedulers.beta.BetaScheduler.patience\": 7<br>  },<br>  \"user_attrs\": {<br>    \"train_Reconstruction overall_mean\": -6.2641162589823,<br>    \"train_Reconstruction overall_std\": 0.0,<br>    \"train_Reconstruction trans_date_mean\": -28.01246137730412,<br>    \"train_Reconstruction trans_date_std\": 0.0,<br>    \"train_Reconstruction age_mean\": 0.9997419039339274,<br>    \"train_Reconstruction age_std\": 0.0,<br>    \"train_Reconstruction small_group_mean\": 0.9982595495544447,<br>    \"train_Reconstruction small_group_std\": 0.0,<br>    \"train_Reconstruction amount_rur_mean\": 0.9579948878865493,<br>    \"train_Reconstruction amount_rur_std\": 0.0,<br>    \"loss_mean\": -0.21779900441567104,<br>    \"loss_std\": 0.0,<br>    \"kl_loss_mean\": -0.6363109131654103,<br>    \"kl_loss_std\": 0.0,<br>    \"Reconstruction overall_mean\": -6.350437498730613,<br>    \"Reconstruction overall_std\": 0.0,<br>    \"Reconstruction trans_date_mean\": -28.356982440159825,<br>    \"Reconstruction trans_date_std\": 0.0,<br>    \"Reconstruction age_mean\": 0.9996847294405381,<br>    \"Reconstruction age_std\": 0.0,<br>    \"Reconstruction small_group_mean\": 0.9982230204830327,<br>    \"Reconstruction small_group_std\": 0.0,<br>    \"Reconstruction amount_rur_mean\": 0.9573246953138048,<br>    \"Reconstruction amount_rur_std\": 0.0,<br>    \"test_loss_mean\": -0.21772471287598213,<br>    \"test_loss_std\": 0.0,<br>    \"test_kl_loss_mean\": -0.6361203491687775,<br>    \"test_kl_loss_std\": 0.0,<br>    \"test_Reconstruction overall_mean\": -6.4099951700163285,<br>    \"test_Reconstruction overall_std\": 0.0,<br>    \"test_Reconstruction trans_date_mean\": -28.5955437453057,<br>    \"test_Reconstruction trans_date_std\": 0.0,<br>    \"test_Reconstruction age_mean\": 0.9998071687840291,<br>    \"test_Reconstruction age_std\": 0.0,<br>    \"test_Reconstruction small_group_mean\": 0.9982304900181488,<br>    \"test_Reconstruction small_group_std\": 0.0,<br>    \"test_Reconstruction amount_rur_mean\": 0.957525406438211,<br>    \"test_Reconstruction amount_rur_std\": 0.0,<br>    \"memory_after_mean\": 37144.0,<br>    \"memory_after_std\": 0.0<br>  }<br>}",
          "{<br>  \"number\": 9,<br>  \"values\": [<br>    -0.1459896147251129<br>  ],<br>  \"params\": {<br>    \"optimizer.params.weight_decay\": 2.6864420387699916e-10,<br>    \"optimizer.params.lr\": 0.0012143370894600921,<br>    \"model.autoencoder.params.d_token\": 32,<br>    \"model.autoencoder.params.num_layers\": 8,<br>    \"model.autoencoder.params.n_head\": 8,<br>    \"model.autoencoder.params.factor\": 19,<br>    \"data_conf.train_transforms.1.TimeToDiff.disable\": true,<br>    \"schedulers.step.StepLR.step_size\": 40,<br>    \"schedulers.beta.BetaScheduler.init_beta\": 0.6334668968853402,<br>    \"schedulers.beta.BetaScheduler.factor\": 0.9,<br>    \"schedulers.beta.BetaScheduler.patience\": 4<br>  },<br>  \"user_attrs\": {<br>    \"train_Reconstruction overall_mean\": 0.17534087857804365,<br>    \"train_Reconstruction overall_std\": 0.0,<br>    \"train_Reconstruction trans_date_mean\": -2.281233229442304,<br>    \"train_Reconstruction trans_date_std\": 0.0,<br>    \"train_Reconstruction age_mean\": 0.9995875374965912,<br>    \"train_Reconstruction age_std\": 0.0,<br>    \"train_Reconstruction small_group_mean\": 0.9990387237523861,<br>    \"train_Reconstruction small_group_std\": 0.0,<br>    \"train_Reconstruction amount_rur_mean\": 0.9839704825055013,<br>    \"train_Reconstruction amount_rur_std\": 0.0,<br>    \"loss_mean\": -0.1459896147251129,<br>    \"loss_std\": 0.0,<br>    \"kl_loss_mean\": -0.13893869072198867,<br>    \"kl_loss_std\": 0.0,<br>    \"Reconstruction overall_mean\": 0.1529896886201129,<br>    \"Reconstruction overall_std\": 0.0,<br>    \"Reconstruction trans_date_mean\": -2.3713555863252322,<br>    \"Reconstruction trans_date_std\": 0.0,<br>    \"Reconstruction age_mean\": 0.9994363344542954,<br>    \"Reconstruction age_std\": 0.0,<br>    \"Reconstruction small_group_mean\": 0.9988726689085906,<br>    \"Reconstruction small_group_std\": 0.0,<br>    \"Reconstruction amount_rur_mean\": 0.9850053374427978,<br>    \"Reconstruction amount_rur_std\": 0.0,<br>    \"test_loss_mean\": -0.14585393418868384,<br>    \"test_loss_std\": 0.0,<br>    \"test_kl_loss_mean\": -0.1389590296894312,<br>    \"test_kl_loss_std\": 0.0,<br>    \"test_Reconstruction overall_mean\": 0.16063818891589438,<br>    \"test_Reconstruction overall_std\": 0.0,<br>    \"test_Reconstruction trans_date_mean\": -2.3412802587850052,<br>    \"test_Reconstruction trans_date_std\": 0.0,<br>    \"test_Reconstruction age_mean\": 0.9995803085299455,<br>    \"test_Reconstruction age_std\": 0.0,<br>    \"test_Reconstruction small_group_mean\": 0.9990642014519057,<br>    \"test_Reconstruction small_group_std\": 0.0,<br>    \"test_Reconstruction amount_rur_mean\": 0.9851885044667316,<br>    \"test_Reconstruction amount_rur_std\": 0.0,<br>    \"memory_after_mean\": 80180.0,<br>    \"memory_after_std\": 0.0<br>  }<br>}",
          "{<br>  \"number\": 10,<br>  \"values\": [<br>    -0.10810587083299955<br>  ],<br>  \"params\": {<br>    \"optimizer.params.weight_decay\": 5.294077320914892e-10,<br>    \"optimizer.params.lr\": 0.011234739958862316,<br>    \"model.autoencoder.params.d_token\": 40,<br>    \"model.autoencoder.params.num_layers\": 10,<br>    \"model.autoencoder.params.n_head\": 1,<br>    \"model.autoencoder.params.factor\": 1,<br>    \"data_conf.train_transforms.1.TimeToDiff.disable\": true,<br>    \"schedulers.step.StepLR.step_size\": 50,<br>    \"schedulers.beta.BetaScheduler.init_beta\": 0.4177783790789359,<br>    \"schedulers.beta.BetaScheduler.factor\": 0.8,<br>    \"schedulers.beta.BetaScheduler.patience\": 3<br>  },<br>  \"user_attrs\": {<br>    \"train_Reconstruction overall_mean\": 0.4889587228205629,<br>    \"train_Reconstruction overall_std\": 0.0,<br>    \"train_Reconstruction trans_date_mean\": -1.0377819220495184,<br>    \"train_Reconstruction trans_date_std\": 0.0,<br>    \"train_Reconstruction age_mean\": 0.9996481506663041,<br>    \"train_Reconstruction age_std\": 0.0,<br>    \"train_Reconstruction small_group_mean\": 0.999226611367963,<br>    \"train_Reconstruction small_group_std\": 0.0,<br>    \"train_Reconstruction amount_rur_mean\": 0.9947420512975029,<br>    \"train_Reconstruction amount_rur_std\": 0.0,<br>    \"loss_mean\": -0.10810587083299955,<br>    \"loss_std\": 0.0,<br>    \"kl_loss_mean\": -0.19349942853053412,<br>    \"kl_loss_std\": 0.0,<br>    \"Reconstruction overall_mean\": 0.48312654865546956,<br>    \"Reconstruction overall_std\": 0.0,<br>    \"Reconstruction trans_date_mean\": -1.061241015501248,<br>    \"Reconstruction trans_date_std\": 0.0,<br>    \"Reconstruction age_mean\": 0.9995414246407827,<br>    \"Reconstruction age_std\": 0.0,<br>    \"Reconstruction small_group_mean\": 0.9993121369611739,<br>    \"Reconstruction small_group_std\": 0.0,<br>    \"Reconstruction amount_rur_mean\": 0.9948936485211696,<br>    \"Reconstruction amount_rur_std\": 0.0,<br>    \"test_loss_mean\": -0.10799399359772603,<br>    \"test_loss_std\": 0.0,<br>    \"test_kl_loss_mean\": -0.19342642494787773,<br>    \"test_kl_loss_std\": 0.0,<br>    \"test_Reconstruction overall_mean\": 0.4813222872214623,<br>    \"test_Reconstruction overall_std\": 0.0,<br>    \"test_Reconstruction trans_date_mean\": -1.068217206093687,<br>    \"test_Reconstruction trans_date_std\": 0.0,<br>    \"test_Reconstruction age_mean\": 0.9995916515426497,<br>    \"test_Reconstruction age_std\": 0.0,<br>    \"test_Reconstruction small_group_mean\": 0.9991719600725952,<br>    \"test_Reconstruction small_group_std\": 0.0,<br>    \"test_Reconstruction amount_rur_mean\": 0.9947427433642911,<br>    \"test_Reconstruction amount_rur_std\": 0.0,<br>    \"memory_after_mean\": 36120.0,<br>    \"memory_after_std\": 0.0<br>  }<br>}",
          "{<br>  \"number\": 11,<br>  \"values\": [<br>    -0.08202892368038496<br>  ],<br>  \"params\": {<br>    \"optimizer.params.weight_decay\": 3.3237627541679164e-09,<br>    \"optimizer.params.lr\": 0.005163079180234768,<br>    \"model.autoencoder.params.d_token\": 8,<br>    \"model.autoencoder.params.num_layers\": 8,<br>    \"model.autoencoder.params.n_head\": 4,<br>    \"model.autoencoder.params.factor\": 134,<br>    \"data_conf.train_transforms.1.TimeToDiff.disable\": true,<br>    \"schedulers.step.StepLR.step_size\": 50,<br>    \"schedulers.beta.BetaScheduler.init_beta\": 0.1178031599054938,<br>    \"schedulers.beta.BetaScheduler.factor\": 0.8,<br>    \"schedulers.beta.BetaScheduler.patience\": 2<br>  },<br>  \"user_attrs\": {<br>    \"train_Reconstruction overall_mean\": 0.4667957338405696,<br>    \"train_Reconstruction overall_std\": 0.0,<br>    \"train_Reconstruction trans_date_mean\": -1.1276277577989842,<br>    \"train_Reconstruction trans_date_std\": 0.0,<br>    \"train_Reconstruction age_mean\": 0.9999591725639629,<br>    \"train_Reconstruction age_std\": 0.0,<br>    \"train_Reconstruction small_group_mean\": 0.9994403238976592,<br>    \"train_Reconstruction small_group_std\": 0.0,<br>    \"train_Reconstruction amount_rur_mean\": 0.9954111966996404,<br>    \"train_Reconstruction amount_rur_std\": 0.0,<br>    \"loss_mean\": -0.08202892368038496,<br>    \"loss_std\": 0.0,<br>    \"kl_loss_mean\": -1.2957906007766724,<br>    \"kl_loss_std\": 0.0,<br>    \"Reconstruction overall_mean\": 0.4593987794962946,<br>    \"Reconstruction overall_std\": 0.0,<br>    \"Reconstruction trans_date_mean\": -1.157208257114761,<br>    \"Reconstruction trans_date_std\": 0.0,<br>    \"Reconstruction age_mean\": 0.9999235707734637,<br>    \"Reconstruction age_std\": 0.0,<br>    \"Reconstruction small_group_mean\": 0.9993885661877102,<br>    \"Reconstruction small_group_std\": 0.0,<br>    \"Reconstruction amount_rur_mean\": 0.9954912381387656,<br>    \"Reconstruction amount_rur_std\": 0.0,<br>    \"test_loss_mean\": -0.08196426539992292,<br>    \"test_loss_std\": 0.0,<br>    \"test_kl_loss_mean\": -1.2956504399577777,<br>    \"test_kl_loss_std\": 0.0,<br>    \"test_Reconstruction overall_mean\": 0.4782388267938851,<br>    \"test_Reconstruction overall_std\": 0.0,<br>    \"test_Reconstruction trans_date_mean\": -1.0820640846790746,<br>    \"test_Reconstruction trans_date_std\": 0.0,<br>    \"test_Reconstruction age_mean\": 0.9999489564428312,<br>    \"test_Reconstruction age_std\": 0.0,<br>    \"test_Reconstruction small_group_mean\": 0.9995009074410164,<br>    \"test_Reconstruction small_group_std\": 0.0,<br>    \"test_Reconstruction amount_rur_mean\": 0.9955695279707673,<br>    \"test_Reconstruction amount_rur_std\": 0.0,<br>    \"memory_after_mean\": 80410.0,<br>    \"memory_after_std\": 0.0<br>  }<br>}",
          "{<br>  \"number\": 12,<br>  \"values\": [<br>    -0.07753418510158856<br>  ],<br>  \"params\": {<br>    \"optimizer.params.weight_decay\": 0.0042690239083442785,<br>    \"optimizer.params.lr\": 0.01467340983199514,<br>    \"model.autoencoder.params.d_token\": 8,<br>    \"model.autoencoder.params.num_layers\": 9,<br>    \"model.autoencoder.params.n_head\": 1,<br>    \"model.autoencoder.params.factor\": 75,<br>    \"data_conf.train_transforms.1.TimeToDiff.disable\": true,<br>    \"schedulers.step.StepLR.step_size\": 30,<br>    \"schedulers.beta.BetaScheduler.init_beta\": 0.02917224825229141,<br>    \"schedulers.beta.BetaScheduler.factor\": 0.2,<br>    \"schedulers.beta.BetaScheduler.patience\": 2<br>  },<br>  \"user_attrs\": {<br>    \"train_Reconstruction overall_mean\": 0.8724994734313737,<br>    \"train_Reconstruction overall_std\": 0.0,<br>    \"train_Reconstruction trans_date_mean\": 0.5114005346408033,<br>    \"train_Reconstruction trans_date_std\": 0.0,<br>    \"train_Reconstruction age_mean\": 1.0,<br>    \"train_Reconstruction age_std\": 0.0,<br>    \"train_Reconstruction small_group_mean\": 0.9851265132511724,<br>    \"train_Reconstruction small_group_std\": 0.0,<br>    \"train_Reconstruction amount_rur_mean\": 0.993470845833519,<br>    \"train_Reconstruction amount_rur_std\": 0.0,<br>    \"loss_mean\": -0.07753418510158856,<br>    \"loss_std\": 0.0,<br>    \"kl_loss_mean\": -9.171310806274414,<br>    \"kl_loss_std\": 0.0,<br>    \"Reconstruction overall_mean\": 0.8770990624618968,<br>    \"Reconstruction overall_std\": 0.0,<br>    \"Reconstruction trans_date_mean\": 0.5290232057165668,<br>    \"Reconstruction trans_date_std\": 0.0,<br>    \"Reconstruction age_mean\": 1.0,<br>    \"Reconstruction age_std\": 0.0,<br>    \"Reconstruction small_group_mean\": 0.9850867471721186,<br>    \"Reconstruction small_group_std\": 0.0,<br>    \"Reconstruction amount_rur_mean\": 0.9942862969589016,<br>    \"Reconstruction amount_rur_std\": 0.0,<br>    \"test_loss_mean\": -0.0776071526731054,<br>    \"test_loss_std\": 0.0,<br>    \"test_kl_loss_mean\": -9.172147313753763,<br>    \"test_kl_loss_std\": 0.0,<br>    \"test_Reconstruction overall_mean\": 0.8869618046348714,<br>    \"test_Reconstruction overall_std\": 0.0,<br>    \"test_Reconstruction trans_date_mean\": 0.5679134127171684,<br>    \"test_Reconstruction trans_date_std\": 0.0,<br>    \"test_Reconstruction age_mean\": 1.0,<br>    \"test_Reconstruction age_std\": 0.0,<br>    \"test_Reconstruction small_group_mean\": 0.9855149727767695,<br>    \"test_Reconstruction small_group_std\": 0.0,<br>    \"test_Reconstruction amount_rur_mean\": 0.9944188330455478,<br>    \"test_Reconstruction amount_rur_std\": 0.0,<br>    \"memory_after_mean\": 80444.0,<br>    \"memory_after_std\": 0.0<br>  }<br>}",
          "{<br>  \"number\": 13,<br>  \"values\": [<br>    -0.062223582590619726<br>  ],<br>  \"params\": {<br>    \"optimizer.params.weight_decay\": 2.402955511475108e-10,<br>    \"optimizer.params.lr\": 0.013086538637667726,<br>    \"model.autoencoder.params.d_token\": 96,<br>    \"model.autoencoder.params.num_layers\": 3,<br>    \"model.autoencoder.params.n_head\": 1,<br>    \"model.autoencoder.params.factor\": 1,<br>    \"data_conf.train_transforms.1.TimeToDiff.disable\": true,<br>    \"schedulers.step.StepLR.step_size\": 30,<br>    \"schedulers.beta.BetaScheduler.init_beta\": 0.02071961304775833,<br>    \"schedulers.beta.BetaScheduler.factor\": 0.1,<br>    \"schedulers.beta.BetaScheduler.patience\": 3<br>  },<br>  \"user_attrs\": {<br>    \"train_Reconstruction overall_mean\": 0.4894876801956487,<br>    \"train_Reconstruction overall_std\": 0.0,<br>    \"train_Reconstruction trans_date_mean\": -1.0368396731087985,<br>    \"train_Reconstruction trans_date_std\": 0.0,<br>    \"train_Reconstruction age_mean\": 0.9999948929563655,<br>    \"train_Reconstruction age_std\": 0.0,<br>    \"train_Reconstruction small_group_mean\": 0.9999863812169745,<br>    \"train_Reconstruction small_group_std\": 0.0,<br>    \"train_Reconstruction amount_rur_mean\": 0.9948091197180533,<br>    \"train_Reconstruction amount_rur_std\": 0.0,<br>    \"loss_mean\": -0.062223582590619726,<br>    \"loss_std\": 0.0,<br>    \"kl_loss_mean\": -0.9399004677931467,<br>    \"kl_loss_std\": 0.0,<br>    \"Reconstruction overall_mean\": 0.4618040644540199,<br>    \"Reconstruction overall_std\": 0.0,<br>    \"Reconstruction trans_date_mean\": -1.1479348262006492,<br>    \"Reconstruction trans_date_std\": 0.0,<br>    \"Reconstruction age_mean\": 1.0,<br>    \"Reconstruction age_std\": 0.0,<br>    \"Reconstruction small_group_mean\": 0.999990446346683,<br>    \"Reconstruction small_group_std\": 0.0,<br>    \"Reconstruction amount_rur_mean\": 0.9951606376700457,<br>    \"Reconstruction amount_rur_std\": 0.0,<br>    \"test_loss_mean\": -0.0621745934865127,<br>    \"test_loss_std\": 0.0,<br>    \"test_kl_loss_mean\": -0.9403978350261847,<br>    \"test_kl_loss_std\": 0.0,<br>    \"test_Reconstruction overall_mean\": 0.45605561547518225,<br>    \"test_Reconstruction overall_std\": 0.0,<br>    \"test_Reconstruction trans_date_mean\": -1.1710977827032754,<br>    \"test_Reconstruction trans_date_std\": 0.0,<br>    \"test_Reconstruction age_mean\": 1.0,<br>    \"test_Reconstruction age_std\": 0.0,<br>    \"test_Reconstruction small_group_mean\": 0.9999943284936479,<br>    \"test_Reconstruction small_group_std\": 0.0,<br>    \"test_Reconstruction amount_rur_mean\": 0.9953259161103565,<br>    \"test_Reconstruction amount_rur_std\": 0.0,<br>    \"memory_after_mean\": 52236.0,<br>    \"memory_after_std\": 0.0<br>  }<br>}",
          "{<br>  \"number\": 14,<br>  \"values\": [<br>    -0.04999334129194419<br>  ],<br>  \"params\": {<br>    \"optimizer.params.weight_decay\": 1.1191020093778738e-10,<br>    \"optimizer.params.lr\": 8.129606640938831e-05,<br>    \"model.autoencoder.params.d_token\": 120,<br>    \"model.autoencoder.params.num_layers\": 4,<br>    \"model.autoencoder.params.n_head\": 4,<br>    \"model.autoencoder.params.factor\": 1,<br>    \"data_conf.train_transforms.1.TimeToDiff.disable\": true,<br>    \"schedulers.step.StepLR.step_size\": 30,<br>    \"schedulers.beta.BetaScheduler.init_beta\": 0.006157868150461144,<br>    \"schedulers.beta.BetaScheduler.factor\": 0.4,<br>    \"schedulers.beta.BetaScheduler.patience\": 8<br>  },<br>  \"user_attrs\": {<br>    \"train_Reconstruction overall_mean\": 0.7606592560157106,<br>    \"train_Reconstruction overall_std\": 0.0,<br>    \"train_Reconstruction trans_date_mean\": 0.04708999098625109,<br>    \"train_Reconstruction trans_date_std\": 0.0,<br>    \"train_Reconstruction age_mean\": 1.0,<br>    \"train_Reconstruction age_std\": 0.0,<br>    \"train_Reconstruction small_group_mean\": 0.9995782564747022,<br>    \"train_Reconstruction small_group_std\": 0.0,<br>    \"train_Reconstruction amount_rur_mean\": 0.9959687766018888,<br>    \"train_Reconstruction amount_rur_std\": 0.0,<br>    \"loss_mean\": -0.04999334129194419,<br>    \"loss_std\": 0.0,<br>    \"kl_loss_mean\": -3.5080101410547893,<br>    \"kl_loss_std\": 0.0,<br>    \"Reconstruction overall_mean\": 0.7533435266995812,<br>    \"Reconstruction overall_std\": 0.0,<br>    \"Reconstruction trans_date_mean\": 0.01731177706148917,<br>    \"Reconstruction trans_date_std\": 0.0,<br>    \"Reconstruction age_mean\": 1.0,<br>    \"Reconstruction age_std\": 0.0,<br>    \"Reconstruction small_group_mean\": 0.9994841027208805,<br>    \"Reconstruction small_group_std\": 0.0,<br>    \"Reconstruction amount_rur_mean\": 0.9965782270159551,<br>    \"Reconstruction amount_rur_std\": 0.0,<br>    \"test_loss_mean\": -0.04997960229714712,<br>    \"test_loss_std\": 0.0,<br>    \"test_kl_loss_mean\": -3.5072989016771317,<br>    \"test_kl_loss_std\": 0.0,<br>    \"test_Reconstruction overall_mean\": 0.7610937108294066,<br>    \"test_Reconstruction overall_std\": 0.0,<br>    \"test_Reconstruction trans_date_mean\": 0.04828507959965243,<br>    \"test_Reconstruction trans_date_std\": 0.0,<br>    \"test_Reconstruction age_mean\": 1.0,<br>    \"test_Reconstruction age_std\": 0.0,<br>    \"test_Reconstruction small_group_mean\": 0.9995746370235935,<br>    \"test_Reconstruction small_group_std\": 0.0,<br>    \"test_Reconstruction amount_rur_mean\": 0.9965151266943805,<br>    \"test_Reconstruction amount_rur_std\": 0.0,<br>    \"memory_after_mean\": 80330.0,<br>    \"memory_after_std\": 0.0<br>  }<br>}",
          "{<br>  \"number\": 15,<br>  \"values\": [<br>    -0.049411883329351744<br>  ],<br>  \"params\": {<br>    \"optimizer.params.weight_decay\": 8.112102500820373e-15,<br>    \"optimizer.params.lr\": 0.01085990519630607,<br>    \"model.autoencoder.params.d_token\": 32,<br>    \"model.autoencoder.params.num_layers\": 5,<br>    \"model.autoencoder.params.n_head\": 4,<br>    \"model.autoencoder.params.factor\": 1,<br>    \"data_conf.train_transforms.1.TimeToDiff.disable\": true,<br>    \"schedulers.step.StepLR.step_size\": 50,<br>    \"schedulers.beta.BetaScheduler.init_beta\": 0.32172958805298807,<br>    \"schedulers.beta.BetaScheduler.factor\": 0.7000000000000001,<br>    \"schedulers.beta.BetaScheduler.patience\": 2<br>  },<br>  \"user_attrs\": {<br>    \"train_Reconstruction overall_mean\": 0.835668508116847,<br>    \"train_Reconstruction overall_std\": 0.0,<br>    \"train_Reconstruction trans_date_mean\": 0.3507373259696193,<br>    \"train_Reconstruction trans_date_std\": 0.0,<br>    \"train_Reconstruction age_mean\": 0.999959101319664,<br>    \"train_Reconstruction age_std\": 0.0,<br>    \"train_Reconstruction small_group_mean\": 0.9999079779692442,<br>    \"train_Reconstruction small_group_std\": 0.0,<br>    \"train_Reconstruction amount_rur_mean\": 0.9920696272088603,<br>    \"train_Reconstruction amount_rur_std\": 0.0,<br>    \"loss_mean\": -0.049411883329351744,<br>    \"loss_std\": 0.0,<br>    \"kl_loss_mean\": -0.18290829708178838,<br>    \"kl_loss_std\": 0.0,<br>    \"Reconstruction overall_mean\": 0.834459742643818,<br>    \"Reconstruction overall_std\": 0.0,<br>    \"Reconstruction trans_date_mean\": 0.34559539416743285,<br>    \"Reconstruction trans_date_std\": 0.0,<br>    \"Reconstruction age_mean\": 0.999980892693366,<br>    \"Reconstruction age_std\": 0.0,<br>    \"Reconstruction small_group_mean\": 0.9998853561601957,<br>    \"Reconstruction small_group_std\": 0.0,<br>    \"Reconstruction amount_rur_mean\": 0.9923773275542773,<br>    \"Reconstruction amount_rur_std\": 0.0,<br>    \"test_loss_mean\": -0.04937574174255133,<br>    \"test_loss_std\": 0.0,<br>    \"test_kl_loss_mean\": -0.18297369126230478,<br>    \"test_kl_loss_std\": 0.0,<br>    \"test_Reconstruction overall_mean\": 0.8360994424592267,<br>    \"test_Reconstruction overall_std\": 0.0,<br>    \"test_Reconstruction trans_date_mean\": 0.3522114513379316,<br>    \"test_Reconstruction trans_date_std\": 0.0,<br>    \"test_Reconstruction age_mean\": 0.9999546279491833,<br>    \"test_Reconstruction age_std\": 0.0,<br>    \"test_Reconstruction small_group_mean\": 0.9998808983666062,<br>    \"test_Reconstruction small_group_std\": 0.0,<br>    \"test_Reconstruction amount_rur_mean\": 0.9923507921831857,<br>    \"test_Reconstruction amount_rur_std\": 0.0,<br>    \"memory_after_mean\": 17446.0,<br>    \"memory_after_std\": 0.0<br>  }<br>}",
          "{<br>  \"number\": 16,<br>  \"values\": [<br>    -0.04521091369291146<br>  ],<br>  \"params\": {<br>    \"optimizer.params.weight_decay\": 2.6215143163234607e-08,<br>    \"optimizer.params.lr\": 4.1464668244582134e-05,<br>    \"model.autoencoder.params.d_token\": 48,<br>    \"model.autoencoder.params.num_layers\": 2,<br>    \"model.autoencoder.params.n_head\": 8,<br>    \"model.autoencoder.params.factor\": 68,<br>    \"data_conf.train_transforms.1.TimeToDiff.disable\": true,<br>    \"schedulers.step.StepLR.step_size\": 10,<br>    \"schedulers.beta.BetaScheduler.init_beta\": 0.004509838040387679,<br>    \"schedulers.beta.BetaScheduler.factor\": 0.4,<br>    \"schedulers.beta.BetaScheduler.patience\": 5<br>  },<br>  \"user_attrs\": {<br>    \"train_Reconstruction overall_mean\": 0.8755158156666651,<br>    \"train_Reconstruction overall_std\": 0.0,<br>    \"train_Reconstruction trans_date_mean\": 0.5104857569463889,<br>    \"train_Reconstruction trans_date_std\": 0.0,<br>    \"train_Reconstruction age_mean\": 1.0,<br>    \"train_Reconstruction age_std\": 0.0,<br>    \"train_Reconstruction small_group_mean\": 0.9952244443236781,<br>    \"train_Reconstruction small_group_std\": 0.0,<br>    \"train_Reconstruction amount_rur_mean\": 0.9963530613965939,<br>    \"train_Reconstruction amount_rur_std\": 0.0,<br>    \"loss_mean\": -0.04521091369291146,<br>    \"loss_std\": 0.0,<br>    \"kl_loss_mean\": -4.1715903600056965,<br>    \"kl_loss_std\": 0.0,<br>    \"Reconstruction overall_mean\": 0.8740287435423628,<br>    \"Reconstruction overall_std\": 0.0,<br>    \"Reconstruction trans_date_mean\": 0.5040874333573889,<br>    \"Reconstruction trans_date_std\": 0.0,<br>    \"Reconstruction age_mean\": 1.0,<br>    \"Reconstruction age_std\": 0.0,<br>    \"Reconstruction small_group_mean\": 0.9950703148884134,<br>    \"Reconstruction small_group_std\": 0.0,<br>    \"Reconstruction amount_rur_mean\": 0.9969572259236491,<br>    \"Reconstruction amount_rur_std\": 0.0,<br>    \"test_loss_mean\": -0.045095406317462526,<br>    \"test_loss_std\": 0.0,<br>    \"test_kl_loss_mean\": -4.172200560569763,<br>    \"test_kl_loss_std\": 0.0,<br>    \"test_Reconstruction overall_mean\": 0.8779022526491942,<br>    \"test_Reconstruction overall_std\": 0.0,<br>    \"test_Reconstruction trans_date_mean\": 0.5191082112779887,<br>    \"test_Reconstruction trans_date_std\": 0.0,<br>    \"test_Reconstruction age_mean\": 1.0,<br>    \"test_Reconstruction age_std\": 0.0,<br>    \"test_Reconstruction small_group_mean\": 0.9953720508166969,<br>    \"test_Reconstruction small_group_std\": 0.0,<br>    \"test_Reconstruction amount_rur_mean\": 0.9971287485020915,<br>    \"test_Reconstruction amount_rur_std\": 0.0,<br>    \"memory_after_mean\": 80400.0,<br>    \"memory_after_std\": 0.0<br>  }<br>}",
          "{<br>  \"number\": 17,<br>  \"values\": [<br>    -0.037754097332557045<br>  ],<br>  \"params\": {<br>    \"optimizer.params.weight_decay\": 5.191152258423174e-10,<br>    \"optimizer.params.lr\": 9.659095741912771e-05,<br>    \"model.autoencoder.params.d_token\": 40,<br>    \"model.autoencoder.params.num_layers\": 10,<br>    \"model.autoencoder.params.n_head\": 4,<br>    \"model.autoencoder.params.factor\": 1,<br>    \"data_conf.train_transforms.1.TimeToDiff.disable\": true,<br>    \"schedulers.step.StepLR.step_size\": 40,<br>    \"schedulers.beta.BetaScheduler.init_beta\": 0.5605917715361701,<br>    \"schedulers.beta.BetaScheduler.factor\": 0.8,<br>    \"schedulers.beta.BetaScheduler.patience\": 4<br>  },<br>  \"user_attrs\": {<br>    \"train_Reconstruction overall_mean\": 0.6917673930566577,<br>    \"train_Reconstruction overall_std\": 0.0,<br>    \"train_Reconstruction trans_date_mean\": -0.22984318011024146,<br>    \"train_Reconstruction trans_date_std\": 0.0,<br>    \"train_Reconstruction age_mean\": 0.9998806926643032,<br>    \"train_Reconstruction age_std\": 0.0,<br>    \"train_Reconstruction small_group_mean\": 0.9996267384783202,<br>    \"train_Reconstruction small_group_std\": 0.0,<br>    \"train_Reconstruction amount_rur_mean\": 0.9974053211942489,<br>    \"train_Reconstruction amount_rur_std\": 0.0,<br>    \"loss_mean\": -0.037754097332557045,<br>    \"loss_std\": 0.0,<br>    \"kl_loss_mean\": -0.21831878026326498,<br>    \"kl_loss_std\": 0.0,<br>    \"Reconstruction overall_mean\": 0.6939641789490044,<br>    \"Reconstruction overall_std\": 0.0,<br>    \"Reconstruction trans_date_mean\": -0.22141250796875214,<br>    \"Reconstruction trans_date_std\": 0.0,<br>    \"Reconstruction age_mean\": 0.9999140171201467,<br>    \"Reconstruction age_std\": 0.0,<br>    \"Reconstruction small_group_mean\": 0.999675175787221,<br>    \"Reconstruction small_group_std\": 0.0,<br>    \"Reconstruction amount_rur_mean\": 0.997680030857402,<br>    \"Reconstruction amount_rur_std\": 0.0,<br>    \"test_loss_mean\": -0.03768655960448086,<br>    \"test_loss_std\": 0.0,<br>    \"test_kl_loss_mean\": -0.2183303295945128,<br>    \"test_kl_loss_std\": 0.0,<br>    \"test_Reconstruction overall_mean\": 0.6926647381006205,<br>    \"test_Reconstruction overall_std\": 0.0,<br>    \"test_Reconstruction trans_date_mean\": -0.22672202312796905,<br>    \"test_Reconstruction trans_date_std\": 0.0,<br>    \"test_Reconstruction age_mean\": 0.9998808983666062,<br>    \"test_Reconstruction age_std\": 0.0,<br>    \"test_Reconstruction small_group_mean\": 0.9996483666061706,<br>    \"test_Reconstruction small_group_std\": 0.0,<br>    \"test_Reconstruction amount_rur_mean\": 0.9978517105576742,<br>    \"test_Reconstruction amount_rur_std\": 0.0,<br>    \"memory_after_mean\": 41062.0,<br>    \"memory_after_std\": 0.0<br>  }<br>}",
          "{<br>  \"number\": 18,<br>  \"values\": [<br>    -0.03376190488537153<br>  ],<br>  \"params\": {<br>    \"optimizer.params.weight_decay\": 7.137711529432247e-12,<br>    \"optimizer.params.lr\": 0.0002476242635078297,<br>    \"model.autoencoder.params.d_token\": 104,<br>    \"model.autoencoder.params.num_layers\": 2,<br>    \"model.autoencoder.params.n_head\": 4,<br>    \"model.autoencoder.params.factor\": 1,<br>    \"data_conf.train_transforms.1.TimeToDiff.disable\": true,<br>    \"schedulers.step.StepLR.step_size\": 20,<br>    \"schedulers.beta.BetaScheduler.init_beta\": 0.0011191073089781892,<br>    \"schedulers.beta.BetaScheduler.factor\": 0.1,<br>    \"schedulers.beta.BetaScheduler.patience\": 5<br>  },<br>  \"user_attrs\": {<br>    \"train_Reconstruction overall_mean\": 0.7069907821589138,<br>    \"train_Reconstruction overall_std\": 0.0,<br>    \"train_Reconstruction trans_date_mean\": -0.16536313233444583,<br>    \"train_Reconstruction trans_date_std\": 0.0,<br>    \"train_Reconstruction age_mean\": 1.0,<br>    \"train_Reconstruction age_std\": 0.0,<br>    \"train_Reconstruction small_group_mean\": 0.9996714289605578,<br>    \"train_Reconstruction small_group_std\": 0.0,<br>    \"train_Reconstruction amount_rur_mean\": 0.9936548320095429,<br>    \"train_Reconstruction amount_rur_std\": 0.0,<br>    \"loss_mean\": -0.03376190488537153,<br>    \"loss_std\": 0.0,<br>    \"kl_loss_mean\": -3.9486335436503093,<br>    \"kl_loss_std\": 0.0,<br>    \"Reconstruction overall_mean\": 0.7084148384221112,<br>    \"Reconstruction overall_std\": 0.0,<br>    \"Reconstruction trans_date_mean\": -0.16061300345261748,<br>    \"Reconstruction trans_date_std\": 0.0,<br>    \"Reconstruction age_mean\": 1.0,<br>    \"Reconstruction age_std\": 0.0,<br>    \"Reconstruction small_group_mean\": 0.9996942830938551,<br>    \"Reconstruction small_group_std\": 0.0,<br>    \"Reconstruction amount_rur_mean\": 0.9945780740472072,<br>    \"Reconstruction amount_rur_std\": 0.0,<br>    \"test_loss_mean\": -0.033759497261295714,<br>    \"test_loss_std\": 0.0,<br>    \"test_kl_loss_mean\": -3.9489066501458487,<br>    \"test_kl_loss_std\": 0.0,<br>    \"test_Reconstruction overall_mean\": 0.7094034686759734,<br>    \"test_Reconstruction overall_std\": 0.0,<br>    \"test_Reconstruction trans_date_mean\": -0.15667956287699844,<br>    \"test_Reconstruction trans_date_std\": 0.0,<br>    \"test_Reconstruction age_mean\": 1.0,<br>    \"test_Reconstruction age_std\": 0.0,<br>    \"test_Reconstruction small_group_mean\": 0.9997220961887477,<br>    \"test_Reconstruction small_group_std\": 0.0,<br>    \"test_Reconstruction amount_rur_mean\": 0.9945713413921444,<br>    \"test_Reconstruction amount_rur_std\": 0.0,<br>    \"memory_after_mean\": 34250.0,<br>    \"memory_after_std\": 0.0<br>  }<br>}",
          "{<br>  \"number\": 19,<br>  \"values\": [<br>    -0.029026292512814203<br>  ],<br>  \"params\": {<br>    \"optimizer.params.weight_decay\": 2.044738111556754e-13,<br>    \"optimizer.params.lr\": 0.00020744583588129422,<br>    \"model.autoencoder.params.d_token\": 88,<br>    \"model.autoencoder.params.num_layers\": 5,<br>    \"model.autoencoder.params.n_head\": 1,<br>    \"model.autoencoder.params.factor\": 3,<br>    \"data_conf.train_transforms.1.TimeToDiff.disable\": true,<br>    \"schedulers.step.StepLR.step_size\": 50,<br>    \"schedulers.beta.BetaScheduler.init_beta\": 0.01968897032812572,<br>    \"schedulers.beta.BetaScheduler.factor\": 0.1,<br>    \"schedulers.beta.BetaScheduler.patience\": 2<br>  },<br>  \"user_attrs\": {<br>    \"train_Reconstruction overall_mean\": 0.6004721794814143,<br>    \"train_Reconstruction overall_std\": 0.0,<br>    \"train_Reconstruction trans_date_mean\": -0.5955672366546588,<br>    \"train_Reconstruction trans_date_std\": 0.0,<br>    \"train_Reconstruction age_mean\": 1.0,<br>    \"train_Reconstruction age_std\": 0.0,<br>    \"train_Reconstruction small_group_mean\": 0.9999863559460787,<br>    \"train_Reconstruction small_group_std\": 0.0,<br>    \"train_Reconstruction amount_rur_mean\": 0.9974695986342372,<br>    \"train_Reconstruction amount_rur_std\": 0.0,<br>    \"loss_mean\": -0.029026292512814203,<br>    \"loss_std\": 0.0,<br>    \"kl_loss_mean\": -6.0198032061258955,<br>    \"kl_loss_std\": 0.0,<br>    \"Reconstruction overall_mean\": 0.5912299070187498,<br>    \"Reconstruction overall_std\": 0.0,<br>    \"Reconstruction trans_date_mean\": -0.6329756515279719,<br>    \"Reconstruction trans_date_std\": 0.0,<br>    \"Reconstruction age_mean\": 1.0,<br>    \"Reconstruction age_std\": 0.0,<br>    \"Reconstruction small_group_mean\": 1.0,<br>    \"Reconstruction small_group_std\": 0.0,<br>    \"Reconstruction amount_rur_mean\": 0.9978952796029709,<br>    \"Reconstruction amount_rur_std\": 0.0,<br>    \"test_loss_mean\": -0.029077848691182833,<br>    \"test_loss_std\": 0.0,<br>    \"test_kl_loss_mean\": -6.020543992519379,<br>    \"test_kl_loss_std\": 0.0,<br>    \"test_Reconstruction overall_mean\": 0.5945152075454392,<br>    \"test_Reconstruction overall_std\": 0.0,<br>    \"test_Reconstruction trans_date_mean\": -0.6198693808592775,<br>    \"test_Reconstruction trans_date_std\": 0.0,<br>    \"test_Reconstruction age_mean\": 0.9999943284936479,<br>    \"test_Reconstruction age_std\": 0.0,<br>    \"test_Reconstruction small_group_mean\": 0.9999943284936479,<br>    \"test_Reconstruction small_group_std\": 0.0,<br>    \"test_Reconstruction amount_rur_mean\": 0.9979415540537383,<br>    \"test_Reconstruction amount_rur_std\": 0.0,<br>    \"memory_after_mean\": 71148.0,<br>    \"memory_after_std\": 0.0<br>  }<br>}",
          "{<br>  \"number\": 20,<br>  \"values\": [<br>    -0.02341703816006581<br>  ],<br>  \"params\": {<br>    \"optimizer.params.weight_decay\": 1.3888834792375396e-08,<br>    \"optimizer.params.lr\": 0.010291686188292216,<br>    \"model.autoencoder.params.d_token\": 40,<br>    \"model.autoencoder.params.num_layers\": 4,<br>    \"model.autoencoder.params.n_head\": 1,<br>    \"model.autoencoder.params.factor\": 5,<br>    \"data_conf.train_transforms.1.TimeToDiff.disable\": false,<br>    \"schedulers.step.StepLR.step_size\": 30,<br>    \"schedulers.beta.BetaScheduler.init_beta\": 0.8679596887726543,<br>    \"schedulers.beta.BetaScheduler.factor\": 0.2,<br>    \"schedulers.beta.BetaScheduler.patience\": 8<br>  },<br>  \"user_attrs\": {<br>    \"train_Reconstruction overall_mean\": 0.9993575560832212,<br>    \"train_Reconstruction overall_std\": 0.0,<br>    \"train_Reconstruction trans_date_mean\": 0.9998384217140195,<br>    \"train_Reconstruction trans_date_std\": 0.0,<br>    \"train_Reconstruction age_mean\": 0.9998177792915531,<br>    \"train_Reconstruction age_std\": 0.0,<br>    \"train_Reconstruction small_group_mean\": 0.9993051771117166,<br>    \"train_Reconstruction small_group_std\": 0.0,<br>    \"train_Reconstruction amount_rur_mean\": 0.9984688462155957,<br>    \"train_Reconstruction amount_rur_std\": 0.0,<br>    \"loss_mean\": -0.02341703816006581,<br>    \"loss_std\": 0.0,<br>    \"kl_loss_mean\": -0.1684020350376765,<br>    \"kl_loss_std\": 0.0,<br>    \"Reconstruction overall_mean\": 0.999357364882521,<br>    \"Reconstruction overall_std\": 0.0,<br>    \"Reconstruction trans_date_mean\": 0.9998916138931954,<br>    \"Reconstruction trans_date_std\": 0.0,<br>    \"Reconstruction age_mean\": 0.9998280342402935,<br>    \"Reconstruction age_std\": 0.0,<br>    \"Reconstruction small_group_mean\": 0.9990828492815653,<br>    \"Reconstruction small_group_std\": 0.0,<br>    \"Reconstruction amount_rur_mean\": 0.9986269621150297,<br>    \"Reconstruction amount_rur_std\": 0.0,<br>    \"test_loss_mean\": -0.023424994627324242,<br>    \"test_loss_std\": 0.0,<br>    \"test_kl_loss_mean\": -0.16828033421188593,<br>    \"test_kl_loss_std\": 0.0,<br>    \"test_Reconstruction overall_mean\": 0.9994016475637196,<br>    \"test_Reconstruction overall_std\": 0.0,<br>    \"test_Reconstruction trans_date_mean\": 0.9998521976995183,<br>    \"test_Reconstruction trans_date_std\": 0.0,<br>    \"test_Reconstruction age_mean\": 0.9998582123411979,<br>    \"test_Reconstruction age_std\": 0.0,<br>    \"test_Reconstruction small_group_mean\": 0.9993080762250454,<br>    \"test_Reconstruction small_group_std\": 0.0,<br>    \"test_Reconstruction amount_rur_mean\": 0.998588103989117,<br>    \"test_Reconstruction amount_rur_std\": 0.0,<br>    \"memory_after_mean\": 36692.0,<br>    \"memory_after_std\": 0.0<br>  }<br>}",
          "{<br>  \"number\": 21,<br>  \"values\": [<br>    -0.023330500535666942<br>  ],<br>  \"params\": {<br>    \"optimizer.params.weight_decay\": 2.8536416663577164e-15,<br>    \"optimizer.params.lr\": 0.004963930379241404,<br>    \"model.autoencoder.params.d_token\": 72,<br>    \"model.autoencoder.params.num_layers\": 6,<br>    \"model.autoencoder.params.n_head\": 4,<br>    \"model.autoencoder.params.factor\": 1,<br>    \"data_conf.train_transforms.1.TimeToDiff.disable\": true,<br>    \"schedulers.step.StepLR.step_size\": 40,<br>    \"schedulers.beta.BetaScheduler.init_beta\": 0.005036860195496617,<br>    \"schedulers.beta.BetaScheduler.factor\": 0.2,<br>    \"schedulers.beta.BetaScheduler.patience\": 3<br>  },<br>  \"user_attrs\": {<br>    \"train_Reconstruction overall_mean\": 0.9212382778663699,<br>    \"train_Reconstruction overall_std\": 0.0,<br>    \"train_Reconstruction trans_date_mean\": 0.687980578866067,<br>    \"train_Reconstruction trans_date_std\": 0.0,<br>    \"train_Reconstruction age_mean\": 1.0,<br>    \"train_Reconstruction age_std\": 0.0,<br>    \"train_Reconstruction small_group_mean\": 0.9999982933755666,<br>    \"train_Reconstruction small_group_std\": 0.0,<br>    \"train_Reconstruction amount_rur_mean\": 0.9969742392238458,<br>    \"train_Reconstruction amount_rur_std\": 0.0,<br>    \"loss_mean\": -0.023330500535666942,<br>    \"loss_std\": 0.0,<br>    \"kl_loss_mean\": -3.9040053844451905,<br>    \"kl_loss_std\": 0.0,<br>    \"Reconstruction overall_mean\": 0.9204930450530387,<br>    \"Reconstruction overall_std\": 0.0,<br>    \"Reconstruction trans_date_mean\": 0.6850557928703711,<br>    \"Reconstruction trans_date_std\": 0.0,<br>    \"Reconstruction age_mean\": 1.0,<br>    \"Reconstruction age_std\": 0.0,<br>    \"Reconstruction small_group_mean\": 1.0,<br>    \"Reconstruction small_group_std\": 0.0,<br>    \"Reconstruction amount_rur_mean\": 0.9969163873417837,<br>    \"Reconstruction amount_rur_std\": 0.0,<br>    \"test_loss_mean\": -0.023296083711708587,<br>    \"test_loss_std\": 0.0,<br>    \"test_kl_loss_mean\": -3.9024758338928223,<br>    \"test_kl_loss_std\": 0.0,<br>    \"test_Reconstruction overall_mean\": 0.9218241830763114,<br>    \"test_Reconstruction overall_std\": 0.0,<br>    \"test_Reconstruction trans_date_mean\": 0.6903241489701892,<br>    \"test_Reconstruction trans_date_std\": 0.0,<br>    \"test_Reconstruction age_mean\": 1.0,<br>    \"test_Reconstruction age_std\": 0.0,<br>    \"test_Reconstruction small_group_mean\": 1.0,<br>    \"test_Reconstruction small_group_std\": 0.0,<br>    \"test_Reconstruction amount_rur_mean\": 0.9969725833350562,<br>    \"test_Reconstruction amount_rur_std\": 0.0,<br>    \"memory_after_mean\": 65154.0,<br>    \"memory_after_std\": 0.0<br>  }<br>}",
          "{<br>  \"number\": 22,<br>  \"values\": [<br>    -0.02259613654265801<br>  ],<br>  \"params\": {<br>    \"optimizer.params.weight_decay\": 7.442828520574864e-14,<br>    \"optimizer.params.lr\": 0.004357895909074483,<br>    \"model.autoencoder.params.d_token\": 72,<br>    \"model.autoencoder.params.num_layers\": 4,<br>    \"model.autoencoder.params.n_head\": 8,<br>    \"model.autoencoder.params.factor\": 1,<br>    \"data_conf.train_transforms.1.TimeToDiff.disable\": true,<br>    \"schedulers.step.StepLR.step_size\": 50,<br>    \"schedulers.beta.BetaScheduler.init_beta\": 0.015040067300177953,<br>    \"schedulers.beta.BetaScheduler.factor\": 0.4,<br>    \"schedulers.beta.BetaScheduler.patience\": 6<br>  },<br>  \"user_attrs\": {<br>    \"train_Reconstruction overall_mean\": 0.9233487814942791,<br>    \"train_Reconstruction overall_std\": 0.0,<br>    \"train_Reconstruction trans_date_mean\": 0.6940356590447901,<br>    \"train_Reconstruction trans_date_std\": 0.0,<br>    \"train_Reconstruction age_mean\": 0.9999983000598379,<br>    \"train_Reconstruction age_std\": 0.0,<br>    \"train_Reconstruction small_group_mean\": 0.9999949001795136,<br>    \"train_Reconstruction small_group_std\": 0.0,<br>    \"train_Reconstruction amount_rur_mean\": 0.9993662666929743,<br>    \"train_Reconstruction amount_rur_std\": 0.0,<br>    \"loss_mean\": -0.02259613654265801,<br>    \"loss_std\": 0.0,<br>    \"kl_loss_mean\": -0.6501382152239482,<br>    \"kl_loss_std\": 0.0,<br>    \"Reconstruction overall_mean\": 0.9235772947638287,<br>    \"Reconstruction overall_std\": 0.0,<br>    \"Reconstruction trans_date_mean\": 0.6949518409075999,<br>    \"Reconstruction trans_date_std\": 0.0,<br>    \"Reconstruction age_mean\": 1.0,<br>    \"Reconstruction age_std\": 0.0,<br>    \"Reconstruction small_group_mean\": 1.0,<br>    \"Reconstruction small_group_std\": 0.0,<br>    \"Reconstruction amount_rur_mean\": 0.9993573381477145,<br>    \"Reconstruction amount_rur_std\": 0.0,<br>    \"test_loss_mean\": -0.022600955640276272,<br>    \"test_loss_std\": 0.0,<br>    \"test_kl_loss_mean\": -0.6501554201046625,<br>    \"test_kl_loss_std\": 0.0,<br>    \"test_Reconstruction overall_mean\": 0.9250560266366092,<br>    \"test_Reconstruction overall_std\": 0.0,<br>    \"test_Reconstruction trans_date_mean\": 0.7008570260555567,<br>    \"test_Reconstruction trans_date_std\": 0.0,<br>    \"test_Reconstruction age_mean\": 1.0,<br>    \"test_Reconstruction age_std\": 0.0,<br>    \"test_Reconstruction small_group_mean\": 0.9999943284936479,<br>    \"test_Reconstruction small_group_std\": 0.0,<br>    \"test_Reconstruction amount_rur_mean\": 0.9993727519972324,<br>    \"test_Reconstruction amount_rur_std\": 0.0,<br>    \"memory_after_mean\": 44606.0,<br>    \"memory_after_std\": 0.0<br>  }<br>}",
          "{<br>  \"number\": 23,<br>  \"values\": [<br>    -0.01976742036640644<br>  ],<br>  \"params\": {<br>    \"optimizer.params.weight_decay\": 2.5018811032969796e-10,<br>    \"optimizer.params.lr\": 0.0026371693993216734,<br>    \"model.autoencoder.params.d_token\": 64,<br>    \"model.autoencoder.params.num_layers\": 8,<br>    \"model.autoencoder.params.n_head\": 1,<br>    \"model.autoencoder.params.factor\": 1,<br>    \"data_conf.train_transforms.1.TimeToDiff.disable\": true,<br>    \"schedulers.step.StepLR.step_size\": 50,<br>    \"schedulers.beta.BetaScheduler.init_beta\": 0.0012981258450870876,<br>    \"schedulers.beta.BetaScheduler.factor\": 0.2,<br>    \"schedulers.beta.BetaScheduler.patience\": 3<br>  },<br>  \"user_attrs\": {<br>    \"train_Reconstruction overall_mean\": 0.9452372026504542,<br>    \"train_Reconstruction overall_std\": 0.0,<br>    \"train_Reconstruction trans_date_mean\": 0.7852346372088999,<br>    \"train_Reconstruction trans_date_std\": 0.0,<br>    \"train_Reconstruction age_mean\": 1.0,<br>    \"train_Reconstruction age_std\": 0.0,<br>    \"train_Reconstruction small_group_mean\": 0.9999982933755666,<br>    \"train_Reconstruction small_group_std\": 0.0,<br>    \"train_Reconstruction amount_rur_mean\": 0.9957158800173503,<br>    \"train_Reconstruction amount_rur_std\": 0.0,<br>    \"loss_mean\": -0.01976742036640644,<br>    \"loss_std\": 0.0,<br>    \"kl_loss_mean\": -6.375482829411824,<br>    \"kl_loss_std\": 0.0,<br>    \"Reconstruction overall_mean\": 0.9447162123246593,<br>    \"Reconstruction overall_std\": 0.0,<br>    \"Reconstruction trans_date_mean\": 0.783098277335327,<br>    \"Reconstruction trans_date_std\": 0.0,<br>    \"Reconstruction age_mean\": 1.0,<br>    \"Reconstruction age_std\": 0.0,<br>    \"Reconstruction small_group_mean\": 1.0,<br>    \"Reconstruction small_group_std\": 0.0,<br>    \"Reconstruction amount_rur_mean\": 0.9957665719633104,<br>    \"Reconstruction amount_rur_std\": 0.0,<br>    \"test_loss_mean\": -0.019685492501594126,<br>    \"test_loss_std\": 0.0,<br>    \"test_kl_loss_mean\": -6.372525175412496,<br>    \"test_kl_loss_std\": 0.0,<br>    \"test_Reconstruction overall_mean\": 0.9440900831008221,<br>    \"test_Reconstruction overall_std\": 0.0,<br>    \"test_Reconstruction trans_date_mean\": 0.7805777152957248,<br>    \"test_Reconstruction trans_date_std\": 0.0,<br>    \"test_Reconstruction age_mean\": 1.0,<br>    \"test_Reconstruction age_std\": 0.0,<br>    \"test_Reconstruction small_group_mean\": 1.0,<br>    \"test_Reconstruction small_group_std\": 0.0,<br>    \"test_Reconstruction amount_rur_mean\": 0.9957826171075636,<br>    \"test_Reconstruction amount_rur_std\": 0.0,<br>    \"memory_after_mean\": 67636.0,<br>    \"memory_after_std\": 0.0<br>  }<br>}",
          "{<br>  \"number\": 24,<br>  \"values\": [<br>    -0.015141473710536956<br>  ],<br>  \"params\": {<br>    \"optimizer.params.weight_decay\": 7.482234408473642e-12,<br>    \"optimizer.params.lr\": 0.0003948573455632436,<br>    \"model.autoencoder.params.d_token\": 24,<br>    \"model.autoencoder.params.num_layers\": 9,<br>    \"model.autoencoder.params.n_head\": 4,<br>    \"model.autoencoder.params.factor\": 20,<br>    \"data_conf.train_transforms.1.TimeToDiff.disable\": true,<br>    \"schedulers.step.StepLR.step_size\": 30,<br>    \"schedulers.beta.BetaScheduler.init_beta\": 0.3658385037573659,<br>    \"schedulers.beta.BetaScheduler.factor\": 0.30000000000000004,<br>    \"schedulers.beta.BetaScheduler.patience\": 5<br>  },<br>  \"user_attrs\": {<br>    \"train_Reconstruction overall_mean\": 0.9377623441420624,<br>    \"train_Reconstruction overall_std\": 0.0,<br>    \"train_Reconstruction trans_date_mean\": 0.752127938999114,<br>    \"train_Reconstruction trans_date_std\": 0.0,<br>    \"train_Reconstruction age_mean\": 0.9999778477561481,<br>    \"train_Reconstruction age_std\": 0.0,<br>    \"train_Reconstruction small_group_mean\": 0.9998534543868259,<br>    \"train_Reconstruction small_group_std\": 0.0,<br>    \"train_Reconstruction amount_rur_mean\": 0.9990901354261615,<br>    \"train_Reconstruction amount_rur_std\": 0.0,<br>    \"loss_mean\": -0.015141473710536956,<br>    \"loss_std\": 0.0,<br>    \"kl_loss_mean\": -0.2719753255446752,<br>    \"kl_loss_std\": 0.0,<br>    \"Reconstruction overall_mean\": 0.9371100544025495,<br>    \"Reconstruction overall_std\": 0.0,<br>    \"Reconstruction trans_date_mean\": 0.7493544342100248,<br>    \"Reconstruction trans_date_std\": 0.0,<br>    \"Reconstruction age_mean\": 0.999980892693366,<br>    \"Reconstruction age_std\": 0.0,<br>    \"Reconstruction small_group_mean\": 0.9998853561601957,<br>    \"Reconstruction small_group_std\": 0.0,<br>    \"Reconstruction amount_rur_mean\": 0.9992195345466115,<br>    \"Reconstruction amount_rur_std\": 0.0,<br>    \"test_loss_mean\": -0.015101479870888094,<br>    \"test_loss_std\": 0.0,<br>    \"test_kl_loss_mean\": -0.27213029935956,<br>    \"test_kl_loss_std\": 0.0,<br>    \"test_Reconstruction overall_mean\": 0.9379066826901827,<br>    \"test_Reconstruction overall_std\": 0.0,<br>    \"test_Reconstruction trans_date_mean\": 0.7525152755233981,<br>    \"test_Reconstruction trans_date_std\": 0.0,<br>    \"test_Reconstruction age_mean\": 0.9999886569872958,<br>    \"test_Reconstruction age_std\": 0.0,<br>    \"test_Reconstruction small_group_mean\": 0.999869555353902,<br>    \"test_Reconstruction small_group_std\": 0.0,<br>    \"test_Reconstruction amount_rur_mean\": 0.9992532428961352,<br>    \"test_Reconstruction amount_rur_std\": 0.0,<br>    \"memory_after_mean\": 79956.0,<br>    \"memory_after_std\": 0.0<br>  }<br>}",
          "{<br>  \"number\": 25,<br>  \"values\": [<br>    -0.0101166443588833<br>  ],<br>  \"params\": {<br>    \"optimizer.params.weight_decay\": 8.000347810423562e-14,<br>    \"optimizer.params.lr\": 0.0002866501245532863,<br>    \"model.autoencoder.params.d_token\": 32,<br>    \"model.autoencoder.params.num_layers\": 1,<br>    \"model.autoencoder.params.n_head\": 4,<br>    \"model.autoencoder.params.factor\": 3,<br>    \"data_conf.train_transforms.1.TimeToDiff.disable\": true,<br>    \"schedulers.step.StepLR.step_size\": 20,<br>    \"schedulers.beta.BetaScheduler.init_beta\": 0.00503970441296391,<br>    \"schedulers.beta.BetaScheduler.factor\": 0.1,<br>    \"schedulers.beta.BetaScheduler.patience\": 8<br>  },<br>  \"user_attrs\": {<br>    \"train_Reconstruction overall_mean\": 0.9767681439959698,<br>    \"train_Reconstruction overall_std\": 0.0,<br>    \"train_Reconstruction trans_date_mean\": 0.90879728792025,<br>    \"train_Reconstruction trans_date_std\": 0.0,<br>    \"train_Reconstruction age_mean\": 1.0,<br>    \"train_Reconstruction age_std\": 0.0,<br>    \"train_Reconstruction small_group_mean\": 0.99928260810295,<br>    \"train_Reconstruction small_group_std\": 0.0,<br>    \"train_Reconstruction amount_rur_mean\": 0.9989926799606789,<br>    \"train_Reconstruction amount_rur_std\": 0.0,<br>    \"loss_mean\": -0.0101166443588833,<br>    \"loss_std\": 0.0,<br>    \"kl_loss_mean\": -4.512954298655192,<br>    \"kl_loss_std\": 0.0,<br>    \"Reconstruction overall_mean\": 0.9794306200071528,<br>    \"Reconstruction overall_std\": 0.0,<br>    \"Reconstruction trans_date_mean\": 0.9192928728475684,<br>    \"Reconstruction trans_date_std\": 0.0,<br>    \"Reconstruction age_mean\": 1.0,<br>    \"Reconstruction age_std\": 0.0,<br>    \"Reconstruction small_group_mean\": 0.9991688321614185,<br>    \"Reconstruction small_group_std\": 0.0,<br>    \"Reconstruction amount_rur_mean\": 0.9992607750196243,<br>    \"Reconstruction amount_rur_std\": 0.0,<br>    \"test_loss_mean\": -0.010094977488430837,<br>    \"test_loss_std\": 0.0,<br>    \"test_kl_loss_mean\": -4.5134470363457995,<br>    \"test_kl_loss_std\": 0.0,<br>    \"test_Reconstruction overall_mean\": 0.9812591383356887,<br>    \"test_Reconstruction overall_std\": 0.0,<br>    \"test_Reconstruction trans_date_mean\": 0.9264098766747946,<br>    \"test_Reconstruction trans_date_std\": 0.0,<br>    \"test_Reconstruction age_mean\": 1.0,<br>    \"test_Reconstruction age_std\": 0.0,<br>    \"test_Reconstruction small_group_mean\": 0.9992400181488204,<br>    \"test_Reconstruction small_group_std\": 0.0,<br>    \"test_Reconstruction amount_rur_mean\": 0.9993866585191395,<br>    \"test_Reconstruction amount_rur_std\": 0.0,<br>    \"memory_after_mean\": 6792.0,<br>    \"memory_after_std\": 0.0<br>  }<br>}",
          "{<br>  \"number\": 26,<br>  \"values\": [<br>    -0.009548212339480718<br>  ],<br>  \"params\": {<br>    \"optimizer.params.weight_decay\": 3.3412512224920427e-10,<br>    \"optimizer.params.lr\": 0.0009167572639460084,<br>    \"model.autoencoder.params.d_token\": 56,<br>    \"model.autoencoder.params.num_layers\": 1,<br>    \"model.autoencoder.params.n_head\": 1,<br>    \"model.autoencoder.params.factor\": 3,<br>    \"data_conf.train_transforms.1.TimeToDiff.disable\": true,<br>    \"schedulers.step.StepLR.step_size\": 50,<br>    \"schedulers.beta.BetaScheduler.init_beta\": 0.001248572147919998,<br>    \"schedulers.beta.BetaScheduler.factor\": 0.2,<br>    \"schedulers.beta.BetaScheduler.patience\": 3<br>  },<br>  \"user_attrs\": {<br>    \"train_Reconstruction overall_mean\": 0.971554843449915,<br>    \"train_Reconstruction overall_std\": 0.0,<br>    \"train_Reconstruction trans_date_mean\": 0.8865592033294193,<br>    \"train_Reconstruction trans_date_std\": 0.0,<br>    \"train_Reconstruction age_mean\": 1.0,<br>    \"train_Reconstruction age_std\": 0.0,<br>    \"train_Reconstruction small_group_mean\": 1.0,<br>    \"train_Reconstruction small_group_std\": 0.0,<br>    \"train_Reconstruction amount_rur_mean\": 0.9996601704702408,<br>    \"train_Reconstruction amount_rur_std\": 0.0,<br>    \"loss_mean\": -0.009548212339480718,<br>    \"loss_std\": 0.0,<br>    \"kl_loss_mean\": -6.1638922691345215,<br>    \"kl_loss_std\": 0.0,<br>    \"Reconstruction overall_mean\": 0.9717778827759109,<br>    \"Reconstruction overall_std\": 0.0,<br>    \"Reconstruction trans_date_mean\": 0.8874062240264526,<br>    \"Reconstruction trans_date_std\": 0.0,<br>    \"Reconstruction age_mean\": 1.0,<br>    \"Reconstruction age_std\": 0.0,<br>    \"Reconstruction small_group_mean\": 1.0,<br>    \"Reconstruction small_group_std\": 0.0,<br>    \"Reconstruction amount_rur_mean\": 0.9997053070771909,<br>    \"Reconstruction amount_rur_std\": 0.0,<br>    \"test_loss_mean\": -0.009539588451540718,<br>    \"test_loss_std\": 0.0,<br>    \"test_kl_loss_mean\": -6.1650994916756945,<br>    \"test_kl_loss_std\": 0.0,<br>    \"test_Reconstruction overall_mean\": 0.9718968471329696,<br>    \"test_Reconstruction overall_std\": 0.0,<br>    \"test_Reconstruction trans_date_mean\": 0.8878830681973074,<br>    \"test_Reconstruction trans_date_std\": 0.0,<br>    \"test_Reconstruction age_mean\": 1.0,<br>    \"test_Reconstruction age_std\": 0.0,<br>    \"test_Reconstruction small_group_mean\": 0.9999943284936479,<br>    \"test_Reconstruction small_group_std\": 0.0,<br>    \"test_Reconstruction amount_rur_mean\": 0.9997099918409232,<br>    \"test_Reconstruction amount_rur_std\": 0.0,<br>    \"memory_after_mean\": 12264.0,<br>    \"memory_after_std\": 0.0<br>  }<br>}",
          "{<br>  \"number\": 27,<br>  \"values\": [<br>    -0.007310594835629066<br>  ],<br>  \"params\": {<br>    \"optimizer.params.weight_decay\": 1.6746820665876929e-15,<br>    \"optimizer.params.lr\": 0.0003887905280875614,<br>    \"model.autoencoder.params.d_token\": 96,<br>    \"model.autoencoder.params.num_layers\": 6,<br>    \"model.autoencoder.params.n_head\": 2,<br>    \"model.autoencoder.params.factor\": 1,<br>    \"data_conf.train_transforms.1.TimeToDiff.disable\": true,<br>    \"schedulers.step.StepLR.step_size\": 10,<br>    \"schedulers.beta.BetaScheduler.init_beta\": 0.001248910842809436,<br>    \"schedulers.beta.BetaScheduler.factor\": 0.1,<br>    \"schedulers.beta.BetaScheduler.patience\": 7<br>  },<br>  \"user_attrs\": {<br>    \"train_Reconstruction overall_mean\": 0.9675408988914853,<br>    \"train_Reconstruction overall_std\": 0.0,<br>    \"train_Reconstruction trans_date_mean\": 0.8714996371787531,<br>    \"train_Reconstruction trans_date_std\": 0.0,<br>    \"train_Reconstruction age_mean\": 1.0,<br>    \"train_Reconstruction age_std\": 0.0,<br>    \"train_Reconstruction small_group_mean\": 0.9999337995654536,<br>    \"train_Reconstruction small_group_std\": 0.0,<br>    \"train_Reconstruction amount_rur_mean\": 0.9987301588217348,<br>    \"train_Reconstruction amount_rur_std\": 0.0,<br>    \"loss_mean\": -0.007310594835629066,<br>    \"loss_std\": 0.0,<br>    \"kl_loss_mean\": -5.24824374516805,<br>    \"kl_loss_std\": 0.0,<br>    \"Reconstruction overall_mean\": 0.968912383479873,<br>    \"Reconstruction overall_std\": 0.0,<br>    \"Reconstruction trans_date_mean\": 0.876756024737505,<br>    \"Reconstruction trans_date_std\": 0.0,<br>    \"Reconstruction age_mean\": 1.0,<br>    \"Reconstruction age_std\": 0.0,<br>    \"Reconstruction small_group_mean\": 0.9998184805869764,<br>    \"Reconstruction small_group_std\": 0.0,<br>    \"Reconstruction amount_rur_mean\": 0.9990750285950101,<br>    \"Reconstruction amount_rur_std\": 0.0,<br>    \"test_loss_mean\": -0.007295051434387763,<br>    \"test_loss_std\": 0.0,<br>    \"test_kl_loss_mean\": -5.248738249142964,<br>    \"test_kl_loss_std\": 0.0,<br>    \"test_Reconstruction overall_mean\": 0.969855185232115,<br>    \"test_Reconstruction overall_std\": 0.0,<br>    \"test_Reconstruction trans_date_mean\": 0.8803953322052595,<br>    \"test_Reconstruction trans_date_std\": 0.0,<br>    \"test_Reconstruction age_mean\": 1.0,<br>    \"test_Reconstruction age_std\": 0.0,<br>    \"test_Reconstruction small_group_mean\": 0.9998979128856624,<br>    \"test_Reconstruction small_group_std\": 0.0,<br>    \"test_Reconstruction amount_rur_mean\": 0.9991274958375381,<br>    \"test_Reconstruction amount_rur_std\": 0.0,<br>    \"memory_after_mean\": 80494.0,<br>    \"memory_after_std\": 0.0<br>  }<br>}",
          "{<br>  \"number\": 28,<br>  \"values\": [<br>    -0.007070646528154612<br>  ],<br>  \"params\": {<br>    \"optimizer.params.weight_decay\": 7.196604203802534e-14,<br>    \"optimizer.params.lr\": 0.0007805247406158915,<br>    \"model.autoencoder.params.d_token\": 72,<br>    \"model.autoencoder.params.num_layers\": 9,<br>    \"model.autoencoder.params.n_head\": 4,<br>    \"model.autoencoder.params.factor\": 1,<br>    \"data_conf.train_transforms.1.TimeToDiff.disable\": true,<br>    \"schedulers.step.StepLR.step_size\": 20,<br>    \"schedulers.beta.BetaScheduler.init_beta\": 0.009460007093095059,<br>    \"schedulers.beta.BetaScheduler.factor\": 0.4,<br>    \"schedulers.beta.BetaScheduler.patience\": 9<br>  },<br>  \"user_attrs\": {<br>    \"train_Reconstruction overall_mean\": 0.984111316879796,<br>    \"train_Reconstruction overall_std\": 0.0,<br>    \"train_Reconstruction trans_date_mean\": 0.9367469798035316,<br>    \"train_Reconstruction trans_date_std\": 0.0,<br>    \"train_Reconstruction age_mean\": 0.9999982976521218,<br>    \"train_Reconstruction age_std\": 0.0,<br>    \"train_Reconstruction small_group_mean\": 0.9999897859127308,<br>    \"train_Reconstruction small_group_std\": 0.0,<br>    \"train_Reconstruction amount_rur_mean\": 0.9997102041508,<br>    \"train_Reconstruction amount_rur_std\": 0.0,<br>    \"loss_mean\": -0.007070646528154612,<br>    \"loss_std\": 0.0,<br>    \"kl_loss_mean\": -2.038015381495158,<br>    \"kl_loss_std\": 0.0,<br>    \"Reconstruction overall_mean\": 0.983827290713412,<br>    \"Reconstruction overall_std\": 0.0,<br>    \"Reconstruction trans_date_mean\": 0.9355294051301736,<br>    \"Reconstruction trans_date_std\": 0.0,<br>    \"Reconstruction age_mean\": 1.0,<br>    \"Reconstruction age_std\": 0.0,<br>    \"Reconstruction small_group_mean\": 0.999990446346683,<br>    \"Reconstruction small_group_std\": 0.0,<br>    \"Reconstruction amount_rur_mean\": 0.9997893113767914,<br>    \"Reconstruction amount_rur_std\": 0.0,<br>    \"test_loss_mean\": -0.0070447604909228785,<br>    \"test_loss_std\": 0.0,<br>    \"test_kl_loss_mean\": -2.0375547409057617,<br>    \"test_kl_loss_std\": 0.0,<br>    \"test_Reconstruction overall_mean\": 0.9840821802931148,<br>    \"test_Reconstruction overall_std\": 0.0,<br>    \"test_Reconstruction trans_date_mean\": 0.9364916069873298,<br>    \"test_Reconstruction trans_date_std\": 0.0,<br>    \"test_Reconstruction age_mean\": 0.9999943284936479,<br>    \"test_Reconstruction age_std\": 0.0,<br>    \"test_Reconstruction small_group_mean\": 1.0,<br>    \"test_Reconstruction small_group_std\": 0.0,<br>    \"test_Reconstruction amount_rur_mean\": 0.9998427856914814,<br>    \"test_Reconstruction amount_rur_std\": 0.0,<br>    \"memory_after_mean\": 80448.0,<br>    \"memory_after_std\": 0.0<br>  }<br>}",
          "{<br>  \"number\": 29,<br>  \"values\": [<br>    -0.0033502683664361635<br>  ],<br>  \"params\": {<br>    \"optimizer.params.weight_decay\": 5.191596419828728e-12,<br>    \"optimizer.params.lr\": 0.004699533798792114,<br>    \"model.autoencoder.params.d_token\": 8,<br>    \"model.autoencoder.params.num_layers\": 9,<br>    \"model.autoencoder.params.n_head\": 4,<br>    \"model.autoencoder.params.factor\": 3,<br>    \"data_conf.train_transforms.1.TimeToDiff.disable\": true,<br>    \"schedulers.step.StepLR.step_size\": 50,<br>    \"schedulers.beta.BetaScheduler.init_beta\": 0.3421247036410567,<br>    \"schedulers.beta.BetaScheduler.factor\": 0.7000000000000001,<br>    \"schedulers.beta.BetaScheduler.patience\": 3<br>  },<br>  \"user_attrs\": {<br>    \"train_Reconstruction overall_mean\": 0.9963316430203729,<br>    \"train_Reconstruction overall_std\": 0.0,<br>    \"train_Reconstruction trans_date_mean\": 0.9854840096171624,<br>    \"train_Reconstruction trans_date_std\": 0.0,<br>    \"train_Reconstruction age_mean\": 1.0,<br>    \"train_Reconstruction age_std\": 0.0,<br>    \"train_Reconstruction small_group_mean\": 0.9999334271043863,<br>    \"train_Reconstruction small_group_std\": 0.0,<br>    \"train_Reconstruction amount_rur_mean\": 0.9999091353599429,<br>    \"train_Reconstruction amount_rur_std\": 0.0,<br>    \"loss_mean\": -0.0033502683664361635,<br>    \"loss_std\": 0.0,<br>    \"kl_loss_mean\": -0.8050596614678701,<br>    \"kl_loss_std\": 0.0,<br>    \"Reconstruction overall_mean\": 0.9963806277237278,<br>    \"Reconstruction overall_std\": 0.0,<br>    \"Reconstruction trans_date_mean\": 0.9856761220910455,<br>    \"Reconstruction trans_date_std\": 0.0,<br>    \"Reconstruction age_mean\": 1.0,<br>    \"Reconstruction age_std\": 0.0,<br>    \"Reconstruction small_group_mean\": 0.9998949098135127,<br>    \"Reconstruction small_group_std\": 0.0,<br>    \"Reconstruction amount_rur_mean\": 0.999951478990353,<br>    \"Reconstruction amount_rur_std\": 0.0,<br>    \"test_loss_mean\": -0.0033396501385141164,<br>    \"test_loss_std\": 0.0,<br>    \"test_kl_loss_mean\": -0.8051579756041368,<br>    \"test_kl_loss_std\": 0.0,<br>    \"test_Reconstruction overall_mean\": 0.9963698079788584,<br>    \"test_Reconstruction overall_std\": 0.0,<br>    \"test_Reconstruction trans_date_mean\": 0.9855859828884256,<br>    \"test_Reconstruction trans_date_std\": 0.0,<br>    \"test_Reconstruction age_mean\": 1.0,<br>    \"test_Reconstruction age_std\": 0.0,<br>    \"test_Reconstruction small_group_mean\": 0.999937613430127,<br>    \"test_Reconstruction small_group_std\": 0.0,<br>    \"test_Reconstruction amount_rur_mean\": 0.9999556355968814,<br>    \"test_Reconstruction amount_rur_std\": 0.0,<br>    \"memory_after_mean\": 8336.0,<br>    \"memory_after_std\": 0.0<br>  }<br>}",
          "{<br>  \"number\": 30,<br>  \"values\": [<br>    -0.0030262875991563004<br>  ],<br>  \"params\": {<br>    \"optimizer.params.weight_decay\": 2.0488504005310827e-14,<br>    \"optimizer.params.lr\": 0.0005760030178044513,<br>    \"model.autoencoder.params.d_token\": 88,<br>    \"model.autoencoder.params.num_layers\": 5,<br>    \"model.autoencoder.params.n_head\": 4,<br>    \"model.autoencoder.params.factor\": 1,<br>    \"data_conf.train_transforms.1.TimeToDiff.disable\": true,<br>    \"schedulers.step.StepLR.step_size\": 20,<br>    \"schedulers.beta.BetaScheduler.init_beta\": 0.0013933678381815875,<br>    \"schedulers.beta.BetaScheduler.factor\": 0.1,<br>    \"schedulers.beta.BetaScheduler.patience\": 7<br>  },<br>  \"user_attrs\": {<br>    \"train_Reconstruction overall_mean\": 0.994286475583254,<br>    \"train_Reconstruction overall_std\": 0.0,<br>    \"train_Reconstruction trans_date_mean\": 0.9773523873321402,<br>    \"train_Reconstruction trans_date_std\": 0.0,<br>    \"train_Reconstruction age_mean\": 1.0,<br>    \"train_Reconstruction age_std\": 0.0,<br>    \"train_Reconstruction small_group_mean\": 0.9999948879437265,<br>    \"train_Reconstruction small_group_std\": 0.0,<br>    \"train_Reconstruction amount_rur_mean\": 0.9997986270571491,<br>    \"train_Reconstruction amount_rur_std\": 0.0,<br>    \"loss_mean\": -0.0030262875991563004,<br>    \"loss_std\": 0.0,<br>    \"kl_loss_mean\": -7.440055322647095,<br>    \"kl_loss_std\": 0.0,<br>    \"Reconstruction overall_mean\": 0.9943519092158166,<br>    \"Reconstruction overall_std\": 0.0,<br>    \"Reconstruction trans_date_mean\": 0.9775051057826634,<br>    \"Reconstruction trans_date_std\": 0.0,<br>    \"Reconstruction age_mean\": 1.0,<br>    \"Reconstruction age_std\": 0.0,<br>    \"Reconstruction small_group_mean\": 1.0,<br>    \"Reconstruction small_group_std\": 0.0,<br>    \"Reconstruction amount_rur_mean\": 0.999902531080603,<br>    \"Reconstruction amount_rur_std\": 0.0,<br>    \"test_loss_mean\": -0.003025907305224488,<br>    \"test_loss_std\": 0.0,<br>    \"test_kl_loss_mean\": -7.4407108426094055,<br>    \"test_kl_loss_std\": 0.0,<br>    \"test_Reconstruction overall_mean\": 0.9942354627539066,<br>    \"test_Reconstruction overall_std\": 0.0,<br>    \"test_Reconstruction trans_date_mean\": 0.9770197075800823,<br>    \"test_Reconstruction trans_date_std\": 0.0,<br>    \"test_Reconstruction age_mean\": 1.0,<br>    \"test_Reconstruction age_std\": 0.0,<br>    \"test_Reconstruction small_group_mean\": 1.0,<br>    \"test_Reconstruction small_group_std\": 0.0,<br>    \"test_Reconstruction amount_rur_mean\": 0.999922143435544,<br>    \"test_Reconstruction amount_rur_std\": 0.0,<br>    \"memory_after_mean\": 80508.0,<br>    \"memory_after_std\": 0.0<br>  }<br>}",
          "{<br>  \"number\": 31,<br>  \"values\": [<br>    -0.002586140118849774<br>  ],<br>  \"params\": {<br>    \"optimizer.params.weight_decay\": 1.4306712684706629e-12,<br>    \"optimizer.params.lr\": 0.0035025246062168596,<br>    \"model.autoencoder.params.d_token\": 80,<br>    \"model.autoencoder.params.num_layers\": 5,<br>    \"model.autoencoder.params.n_head\": 1,<br>    \"model.autoencoder.params.factor\": 1,<br>    \"data_conf.train_transforms.1.TimeToDiff.disable\": true,<br>    \"schedulers.step.StepLR.step_size\": 40,<br>    \"schedulers.beta.BetaScheduler.init_beta\": 0.0035241267723292763,<br>    \"schedulers.beta.BetaScheduler.factor\": 0.1,<br>    \"schedulers.beta.BetaScheduler.patience\": 3<br>  },<br>  \"user_attrs\": {<br>    \"train_Reconstruction overall_mean\": 0.9977194016558932,<br>    \"train_Reconstruction overall_std\": 0.0,<br>    \"train_Reconstruction trans_date_mean\": 0.9909340507133172,<br>    \"train_Reconstruction trans_date_std\": 0.0,<br>    \"train_Reconstruction age_mean\": 1.0,<br>    \"train_Reconstruction age_std\": 0.0,<br>    \"train_Reconstruction small_group_mean\": 1.0,<br>    \"train_Reconstruction small_group_std\": 0.0,<br>    \"train_Reconstruction amount_rur_mean\": 0.9999435559102557,<br>    \"train_Reconstruction amount_rur_std\": 0.0,<br>    \"loss_mean\": -0.002586140118849774,<br>    \"loss_std\": 0.0,<br>    \"kl_loss_mean\": -6.5209619998931885,<br>    \"kl_loss_std\": 0.0,<br>    \"Reconstruction overall_mean\": 0.9977647750941484,<br>    \"Reconstruction overall_std\": 0.0,<br>    \"Reconstruction trans_date_mean\": 0.991096289177319,<br>    \"Reconstruction trans_date_std\": 0.0,<br>    \"Reconstruction age_mean\": 1.0,<br>    \"Reconstruction age_std\": 0.0,<br>    \"Reconstruction small_group_mean\": 1.0,<br>    \"Reconstruction small_group_std\": 0.0,<br>    \"Reconstruction amount_rur_mean\": 0.9999628111992745,<br>    \"Reconstruction amount_rur_std\": 0.0,<br>    \"test_loss_mean\": -0.0025860697157137715,<br>    \"test_loss_std\": 0.0,<br>    \"test_kl_loss_mean\": -6.523468146721522,<br>    \"test_kl_loss_std\": 0.0,<br>    \"test_Reconstruction overall_mean\": 0.997752236663218,<br>    \"test_Reconstruction overall_std\": 0.0,<br>    \"test_Reconstruction trans_date_mean\": 0.9910433246345164,<br>    \"test_Reconstruction trans_date_std\": 0.0,<br>    \"test_Reconstruction age_mean\": 1.0,<br>    \"test_Reconstruction age_std\": 0.0,<br>    \"test_Reconstruction small_group_mean\": 1.0,<br>    \"test_Reconstruction small_group_std\": 0.0,<br>    \"test_Reconstruction amount_rur_mean\": 0.9999656220183556,<br>    \"test_Reconstruction amount_rur_std\": 0.0,<br>    \"memory_after_mean\": 53982.0,<br>    \"memory_after_std\": 0.0<br>  }<br>}",
          "{<br>  \"number\": 32,<br>  \"values\": [<br>    -0.0020423500332981347<br>  ],<br>  \"params\": {<br>    \"optimizer.params.weight_decay\": 4.064923524024686e-12,<br>    \"optimizer.params.lr\": 0.0042136867096942785,<br>    \"model.autoencoder.params.d_token\": 8,<br>    \"model.autoencoder.params.num_layers\": 10,<br>    \"model.autoencoder.params.n_head\": 4,<br>    \"model.autoencoder.params.factor\": 28,<br>    \"data_conf.train_transforms.1.TimeToDiff.disable\": true,<br>    \"schedulers.step.StepLR.step_size\": 50,<br>    \"schedulers.beta.BetaScheduler.init_beta\": 0.4589620775364838,<br>    \"schedulers.beta.BetaScheduler.factor\": 0.6,<br>    \"schedulers.beta.BetaScheduler.patience\": 3<br>  },<br>  \"user_attrs\": {<br>    \"train_Reconstruction overall_mean\": 0.9985581850913359,<br>    \"train_Reconstruction overall_std\": 0.0,<br>    \"train_Reconstruction trans_date_mean\": 0.9942731537806923,<br>    \"train_Reconstruction trans_date_std\": 0.0,<br>    \"train_Reconstruction age_mean\": 1.0,<br>    \"train_Reconstruction age_std\": 0.0,<br>    \"train_Reconstruction small_group_mean\": 0.9999846997062344,<br>    \"train_Reconstruction small_group_std\": 0.0,<br>    \"train_Reconstruction amount_rur_mean\": 0.9999748868784167,<br>    \"train_Reconstruction amount_rur_std\": 0.0,<br>    \"loss_mean\": -0.0020423500332981347,<br>    \"loss_std\": 0.0,<br>    \"kl_loss_mean\": -1.0860989967981973,<br>    \"kl_loss_std\": 0.0,<br>    \"Reconstruction overall_mean\": 0.9987016532649666,<br>    \"Reconstruction overall_std\": 0.0,<br>    \"Reconstruction trans_date_mean\": 0.9948442204362911,<br>    \"Reconstruction trans_date_std\": 0.0,<br>    \"Reconstruction age_mean\": 1.0,<br>    \"Reconstruction age_std\": 0.0,<br>    \"Reconstruction small_group_mean\": 0.999980892693366,<br>    \"Reconstruction small_group_std\": 0.0,<br>    \"Reconstruction amount_rur_mean\": 0.9999814999302091,<br>    \"Reconstruction amount_rur_std\": 0.0,<br>    \"test_loss_mean\": -0.002026392612606287,<br>    \"test_loss_std\": 0.0,<br>    \"test_kl_loss_mean\": -1.0862609893083572,<br>    \"test_kl_loss_std\": 0.0,<br>    \"test_Reconstruction overall_mean\": 0.9987467616589825,<br>    \"test_Reconstruction overall_std\": 0.0,<br>    \"test_Reconstruction trans_date_mean\": 0.9950137227235902,<br>    \"test_Reconstruction trans_date_std\": 0.0,<br>    \"test_Reconstruction age_mean\": 1.0,<br>    \"test_Reconstruction age_std\": 0.0,<br>    \"test_Reconstruction small_group_mean\": 0.9999943284936479,<br>    \"test_Reconstruction small_group_std\": 0.0,<br>    \"test_Reconstruction amount_rur_mean\": 0.999978995418692,<br>    \"test_Reconstruction amount_rur_std\": 0.0,<br>    \"memory_after_mean\": 80160.0,<br>    \"memory_after_std\": 0.0<br>  }<br>}"
         ],
         "type": "scatter",
         "x": [
          -4.692121545473735,
          -1.8320843155185382,
          -1.6994108060995738,
          -1.402532622218132,
          -1.1168753678599994,
          -0.425386106595397,
          -0.37498739672203857,
          -0.21772471287598213,
          -0.14585393418868384,
          -0.10799399359772603,
          -0.08196426539992292,
          -0.0776071526731054,
          -0.0621745934865127,
          -0.04997960229714712,
          -0.04937574174255133,
          -0.045095406317462526,
          -0.03768655960448086,
          -0.033759497261295714,
          -0.029077848691182833,
          -0.023424994627324242,
          -0.023296083711708587,
          -0.022600955640276272,
          -0.019685492501594126,
          -0.015101479870888094,
          -0.010094977488430837,
          -0.009539588451540718,
          -0.007295051434387763,
          -0.0070447604909228785,
          -0.0033396501385141164,
          -0.003025907305224488,
          -0.0025860697157137715,
          -0.002026392612606287
         ],
         "y": [
          -0.8146026904384295,
          -1.1387963468829791,
          -3.2809866120417914,
          -4.1875352164109545,
          -0.9364377545813719,
          -5.420861780643463,
          -6.652277499437332,
          -0.6361203491687775,
          -0.1389590296894312,
          -0.19342642494787773,
          -1.2956504399577777,
          -9.172147313753763,
          -0.9403978350261847,
          -3.5072989016771317,
          -0.18297369126230478,
          -4.172200560569763,
          -0.2183303295945128,
          -3.9489066501458487,
          -6.020543992519379,
          -0.16828033421188593,
          -3.9024758338928223,
          -0.6501554201046625,
          -6.372525175412496,
          -0.27213029935956,
          -4.5134470363457995,
          -6.1650994916756945,
          -5.248738249142964,
          -2.0375547409057617,
          -0.8051579756041368,
          -7.4407108426094055,
          -6.523468146721522,
          -1.0862609893083572
         ]
        },
        {
         "hovertemplate": "%{text}<extra>Best Trial</extra>",
         "marker": {
          "color": [
           0
          ],
          "colorbar": {
           "title": {
            "text": "Best Trial"
           },
           "x": 1.1,
           "xpad": 40
          },
          "colorscale": [
           [
            0,
            "rgb(255,245,240)"
           ],
           [
            0.125,
            "rgb(254,224,210)"
           ],
           [
            0.25,
            "rgb(252,187,161)"
           ],
           [
            0.375,
            "rgb(252,146,114)"
           ],
           [
            0.5,
            "rgb(251,106,74)"
           ],
           [
            0.625,
            "rgb(239,59,44)"
           ],
           [
            0.75,
            "rgb(203,24,29)"
           ],
           [
            0.875,
            "rgb(165,15,21)"
           ],
           [
            1,
            "rgb(103,0,13)"
           ]
          ],
          "line": {
           "color": "Grey",
           "width": 0.5
          }
         },
         "mode": "markers",
         "showlegend": false,
         "text": [
          "{<br>  \"number\": 0,<br>  \"values\": [<br>    -8.063817087809245<br>  ],<br>  \"params\": {<br>    \"optimizer.params.weight_decay\": 2.3680323486893216e-14,<br>    \"optimizer.params.lr\": 0.005111210283306547,<br>    \"model.autoencoder.params.d_token\": 72,<br>    \"model.autoencoder.params.num_layers\": 4,<br>    \"model.autoencoder.params.n_head\": 4,<br>    \"model.autoencoder.params.factor\": 24,<br>    \"data_conf.train_transforms.1.TimeToDiff.disable\": false,<br>    \"schedulers.step.StepLR.step_size\": 20,<br>    \"schedulers.beta.BetaScheduler.init_beta\": 0.002576691079681277,<br>    \"schedulers.beta.BetaScheduler.factor\": 0.6,<br>    \"schedulers.beta.BetaScheduler.patience\": 8<br>  },<br>  \"user_attrs\": {<br>    \"train_Reconstruction overall_mean\": -155.3465044220968,<br>    \"train_Reconstruction overall_std\": 0.0,<br>    \"train_Reconstruction trans_date_mean\": -622.970579543212,<br>    \"train_Reconstruction trans_date_std\": 0.0,<br>    \"train_Reconstruction age_mean\": 0.4910736117148446,<br>    \"train_Reconstruction age_std\": 0.0,<br>    \"train_Reconstruction small_group_mean\": 0.3191833297109324,<br>    \"train_Reconstruction small_group_std\": 0.0,<br>    \"train_Reconstruction amount_rur_mean\": 0.7743049133990559,<br>    \"train_Reconstruction amount_rur_std\": 0.0,<br>    \"loss_mean\": -8.063817087809245,<br>    \"loss_std\": 0.0,<br>    \"kl_loss_mean\": -9.888531748453776,<br>    \"kl_loss_std\": 0.0,<br>    \"Reconstruction overall_mean\": -157.38296286107246,<br>    \"Reconstruction overall_std\": 0.0,<br>    \"Reconstruction trans_date_mean\": -631.1266228486361,<br>    \"Reconstruction trans_date_std\": 0.0,<br>    \"Reconstruction age_mean\": 0.5024743962091104,<br>    \"Reconstruction age_std\": 0.0,<br>    \"Reconstruction small_group_mean\": 0.3184137114032406,<br>    \"Reconstruction small_group_std\": 0.0,<br>    \"Reconstruction amount_rur_mean\": 0.7738832967339839,<br>    \"Reconstruction amount_rur_std\": 0.0,<br>    \"test_loss_mean\": -8.08248296380043,<br>    \"test_loss_std\": 0.0,<br>    \"test_kl_loss_mean\": -9.888338764508566,<br>    \"test_kl_loss_std\": 0.0,<br>    \"test_Reconstruction overall_mean\": -157.73039740897977,<br>    \"test_Reconstruction overall_std\": 0.0,<br>    \"test_Reconstruction trans_date_mean\": -632.5064965070127,<br>    \"test_Reconstruction trans_date_std\": 0.0,<br>    \"test_Reconstruction age_mean\": 0.49090857531760435,<br>    \"test_Reconstruction age_std\": 0.0,<br>    \"test_Reconstruction small_group_mean\": 0.3191356624319419,<br>    \"test_Reconstruction small_group_std\": 0.0,<br>    \"test_Reconstruction amount_rur_mean\": 0.7748626333440853,<br>    \"test_Reconstruction amount_rur_std\": 0.0,<br>    \"memory_after_mean\": 79210.0,<br>    \"memory_after_std\": 0.0<br>  }<br>}"
         ],
         "type": "scatter",
         "x": [
          -8.08248296380043
         ],
         "y": [
          -9.888338764508566
         ]
        }
       ],
       "layout": {
        "template": {
         "data": {
          "bar": [
           {
            "error_x": {
             "color": "#2a3f5f"
            },
            "error_y": {
             "color": "#2a3f5f"
            },
            "marker": {
             "line": {
              "color": "#E5ECF6",
              "width": 0.5
             },
             "pattern": {
              "fillmode": "overlay",
              "size": 10,
              "solidity": 0.2
             }
            },
            "type": "bar"
           }
          ],
          "barpolar": [
           {
            "marker": {
             "line": {
              "color": "#E5ECF6",
              "width": 0.5
             },
             "pattern": {
              "fillmode": "overlay",
              "size": 10,
              "solidity": 0.2
             }
            },
            "type": "barpolar"
           }
          ],
          "carpet": [
           {
            "aaxis": {
             "endlinecolor": "#2a3f5f",
             "gridcolor": "white",
             "linecolor": "white",
             "minorgridcolor": "white",
             "startlinecolor": "#2a3f5f"
            },
            "baxis": {
             "endlinecolor": "#2a3f5f",
             "gridcolor": "white",
             "linecolor": "white",
             "minorgridcolor": "white",
             "startlinecolor": "#2a3f5f"
            },
            "type": "carpet"
           }
          ],
          "choropleth": [
           {
            "colorbar": {
             "outlinewidth": 0,
             "ticks": ""
            },
            "type": "choropleth"
           }
          ],
          "contour": [
           {
            "colorbar": {
             "outlinewidth": 0,
             "ticks": ""
            },
            "colorscale": [
             [
              0,
              "#0d0887"
             ],
             [
              0.1111111111111111,
              "#46039f"
             ],
             [
              0.2222222222222222,
              "#7201a8"
             ],
             [
              0.3333333333333333,
              "#9c179e"
             ],
             [
              0.4444444444444444,
              "#bd3786"
             ],
             [
              0.5555555555555556,
              "#d8576b"
             ],
             [
              0.6666666666666666,
              "#ed7953"
             ],
             [
              0.7777777777777778,
              "#fb9f3a"
             ],
             [
              0.8888888888888888,
              "#fdca26"
             ],
             [
              1,
              "#f0f921"
             ]
            ],
            "type": "contour"
           }
          ],
          "contourcarpet": [
           {
            "colorbar": {
             "outlinewidth": 0,
             "ticks": ""
            },
            "type": "contourcarpet"
           }
          ],
          "heatmap": [
           {
            "colorbar": {
             "outlinewidth": 0,
             "ticks": ""
            },
            "colorscale": [
             [
              0,
              "#0d0887"
             ],
             [
              0.1111111111111111,
              "#46039f"
             ],
             [
              0.2222222222222222,
              "#7201a8"
             ],
             [
              0.3333333333333333,
              "#9c179e"
             ],
             [
              0.4444444444444444,
              "#bd3786"
             ],
             [
              0.5555555555555556,
              "#d8576b"
             ],
             [
              0.6666666666666666,
              "#ed7953"
             ],
             [
              0.7777777777777778,
              "#fb9f3a"
             ],
             [
              0.8888888888888888,
              "#fdca26"
             ],
             [
              1,
              "#f0f921"
             ]
            ],
            "type": "heatmap"
           }
          ],
          "histogram": [
           {
            "marker": {
             "pattern": {
              "fillmode": "overlay",
              "size": 10,
              "solidity": 0.2
             }
            },
            "type": "histogram"
           }
          ],
          "histogram2d": [
           {
            "colorbar": {
             "outlinewidth": 0,
             "ticks": ""
            },
            "colorscale": [
             [
              0,
              "#0d0887"
             ],
             [
              0.1111111111111111,
              "#46039f"
             ],
             [
              0.2222222222222222,
              "#7201a8"
             ],
             [
              0.3333333333333333,
              "#9c179e"
             ],
             [
              0.4444444444444444,
              "#bd3786"
             ],
             [
              0.5555555555555556,
              "#d8576b"
             ],
             [
              0.6666666666666666,
              "#ed7953"
             ],
             [
              0.7777777777777778,
              "#fb9f3a"
             ],
             [
              0.8888888888888888,
              "#fdca26"
             ],
             [
              1,
              "#f0f921"
             ]
            ],
            "type": "histogram2d"
           }
          ],
          "histogram2dcontour": [
           {
            "colorbar": {
             "outlinewidth": 0,
             "ticks": ""
            },
            "colorscale": [
             [
              0,
              "#0d0887"
             ],
             [
              0.1111111111111111,
              "#46039f"
             ],
             [
              0.2222222222222222,
              "#7201a8"
             ],
             [
              0.3333333333333333,
              "#9c179e"
             ],
             [
              0.4444444444444444,
              "#bd3786"
             ],
             [
              0.5555555555555556,
              "#d8576b"
             ],
             [
              0.6666666666666666,
              "#ed7953"
             ],
             [
              0.7777777777777778,
              "#fb9f3a"
             ],
             [
              0.8888888888888888,
              "#fdca26"
             ],
             [
              1,
              "#f0f921"
             ]
            ],
            "type": "histogram2dcontour"
           }
          ],
          "mesh3d": [
           {
            "colorbar": {
             "outlinewidth": 0,
             "ticks": ""
            },
            "type": "mesh3d"
           }
          ],
          "parcoords": [
           {
            "line": {
             "colorbar": {
              "outlinewidth": 0,
              "ticks": ""
             }
            },
            "type": "parcoords"
           }
          ],
          "pie": [
           {
            "automargin": true,
            "type": "pie"
           }
          ],
          "scatter": [
           {
            "fillpattern": {
             "fillmode": "overlay",
             "size": 10,
             "solidity": 0.2
            },
            "type": "scatter"
           }
          ],
          "scatter3d": [
           {
            "line": {
             "colorbar": {
              "outlinewidth": 0,
              "ticks": ""
             }
            },
            "marker": {
             "colorbar": {
              "outlinewidth": 0,
              "ticks": ""
             }
            },
            "type": "scatter3d"
           }
          ],
          "scattercarpet": [
           {
            "marker": {
             "colorbar": {
              "outlinewidth": 0,
              "ticks": ""
             }
            },
            "type": "scattercarpet"
           }
          ],
          "scattergeo": [
           {
            "marker": {
             "colorbar": {
              "outlinewidth": 0,
              "ticks": ""
             }
            },
            "type": "scattergeo"
           }
          ],
          "scattergl": [
           {
            "marker": {
             "colorbar": {
              "outlinewidth": 0,
              "ticks": ""
             }
            },
            "type": "scattergl"
           }
          ],
          "scattermap": [
           {
            "marker": {
             "colorbar": {
              "outlinewidth": 0,
              "ticks": ""
             }
            },
            "type": "scattermap"
           }
          ],
          "scattermapbox": [
           {
            "marker": {
             "colorbar": {
              "outlinewidth": 0,
              "ticks": ""
             }
            },
            "type": "scattermapbox"
           }
          ],
          "scatterpolar": [
           {
            "marker": {
             "colorbar": {
              "outlinewidth": 0,
              "ticks": ""
             }
            },
            "type": "scatterpolar"
           }
          ],
          "scatterpolargl": [
           {
            "marker": {
             "colorbar": {
              "outlinewidth": 0,
              "ticks": ""
             }
            },
            "type": "scatterpolargl"
           }
          ],
          "scatterternary": [
           {
            "marker": {
             "colorbar": {
              "outlinewidth": 0,
              "ticks": ""
             }
            },
            "type": "scatterternary"
           }
          ],
          "surface": [
           {
            "colorbar": {
             "outlinewidth": 0,
             "ticks": ""
            },
            "colorscale": [
             [
              0,
              "#0d0887"
             ],
             [
              0.1111111111111111,
              "#46039f"
             ],
             [
              0.2222222222222222,
              "#7201a8"
             ],
             [
              0.3333333333333333,
              "#9c179e"
             ],
             [
              0.4444444444444444,
              "#bd3786"
             ],
             [
              0.5555555555555556,
              "#d8576b"
             ],
             [
              0.6666666666666666,
              "#ed7953"
             ],
             [
              0.7777777777777778,
              "#fb9f3a"
             ],
             [
              0.8888888888888888,
              "#fdca26"
             ],
             [
              1,
              "#f0f921"
             ]
            ],
            "type": "surface"
           }
          ],
          "table": [
           {
            "cells": {
             "fill": {
              "color": "#EBF0F8"
             },
             "line": {
              "color": "white"
             }
            },
            "header": {
             "fill": {
              "color": "#C8D4E3"
             },
             "line": {
              "color": "white"
             }
            },
            "type": "table"
           }
          ]
         },
         "layout": {
          "annotationdefaults": {
           "arrowcolor": "#2a3f5f",
           "arrowhead": 0,
           "arrowwidth": 1
          },
          "autotypenumbers": "strict",
          "coloraxis": {
           "colorbar": {
            "outlinewidth": 0,
            "ticks": ""
           }
          },
          "colorscale": {
           "diverging": [
            [
             0,
             "#8e0152"
            ],
            [
             0.1,
             "#c51b7d"
            ],
            [
             0.2,
             "#de77ae"
            ],
            [
             0.3,
             "#f1b6da"
            ],
            [
             0.4,
             "#fde0ef"
            ],
            [
             0.5,
             "#f7f7f7"
            ],
            [
             0.6,
             "#e6f5d0"
            ],
            [
             0.7,
             "#b8e186"
            ],
            [
             0.8,
             "#7fbc41"
            ],
            [
             0.9,
             "#4d9221"
            ],
            [
             1,
             "#276419"
            ]
           ],
           "sequential": [
            [
             0,
             "#0d0887"
            ],
            [
             0.1111111111111111,
             "#46039f"
            ],
            [
             0.2222222222222222,
             "#7201a8"
            ],
            [
             0.3333333333333333,
             "#9c179e"
            ],
            [
             0.4444444444444444,
             "#bd3786"
            ],
            [
             0.5555555555555556,
             "#d8576b"
            ],
            [
             0.6666666666666666,
             "#ed7953"
            ],
            [
             0.7777777777777778,
             "#fb9f3a"
            ],
            [
             0.8888888888888888,
             "#fdca26"
            ],
            [
             1,
             "#f0f921"
            ]
           ],
           "sequentialminus": [
            [
             0,
             "#0d0887"
            ],
            [
             0.1111111111111111,
             "#46039f"
            ],
            [
             0.2222222222222222,
             "#7201a8"
            ],
            [
             0.3333333333333333,
             "#9c179e"
            ],
            [
             0.4444444444444444,
             "#bd3786"
            ],
            [
             0.5555555555555556,
             "#d8576b"
            ],
            [
             0.6666666666666666,
             "#ed7953"
            ],
            [
             0.7777777777777778,
             "#fb9f3a"
            ],
            [
             0.8888888888888888,
             "#fdca26"
            ],
            [
             1,
             "#f0f921"
            ]
           ]
          },
          "colorway": [
           "#636efa",
           "#EF553B",
           "#00cc96",
           "#ab63fa",
           "#FFA15A",
           "#19d3f3",
           "#FF6692",
           "#B6E880",
           "#FF97FF",
           "#FECB52"
          ],
          "font": {
           "color": "#2a3f5f"
          },
          "geo": {
           "bgcolor": "white",
           "lakecolor": "white",
           "landcolor": "#E5ECF6",
           "showlakes": true,
           "showland": true,
           "subunitcolor": "white"
          },
          "hoverlabel": {
           "align": "left"
          },
          "hovermode": "closest",
          "mapbox": {
           "style": "light"
          },
          "paper_bgcolor": "white",
          "plot_bgcolor": "#E5ECF6",
          "polar": {
           "angularaxis": {
            "gridcolor": "white",
            "linecolor": "white",
            "ticks": ""
           },
           "bgcolor": "#E5ECF6",
           "radialaxis": {
            "gridcolor": "white",
            "linecolor": "white",
            "ticks": ""
           }
          },
          "scene": {
           "xaxis": {
            "backgroundcolor": "#E5ECF6",
            "gridcolor": "white",
            "gridwidth": 2,
            "linecolor": "white",
            "showbackground": true,
            "ticks": "",
            "zerolinecolor": "white"
           },
           "yaxis": {
            "backgroundcolor": "#E5ECF6",
            "gridcolor": "white",
            "gridwidth": 2,
            "linecolor": "white",
            "showbackground": true,
            "ticks": "",
            "zerolinecolor": "white"
           },
           "zaxis": {
            "backgroundcolor": "#E5ECF6",
            "gridcolor": "white",
            "gridwidth": 2,
            "linecolor": "white",
            "showbackground": true,
            "ticks": "",
            "zerolinecolor": "white"
           }
          },
          "shapedefaults": {
           "line": {
            "color": "#2a3f5f"
           }
          },
          "ternary": {
           "aaxis": {
            "gridcolor": "white",
            "linecolor": "white",
            "ticks": ""
           },
           "baxis": {
            "gridcolor": "white",
            "linecolor": "white",
            "ticks": ""
           },
           "bgcolor": "#E5ECF6",
           "caxis": {
            "gridcolor": "white",
            "linecolor": "white",
            "ticks": ""
           }
          },
          "title": {
           "x": 0.05
          },
          "xaxis": {
           "automargin": true,
           "gridcolor": "white",
           "linecolor": "white",
           "ticks": "",
           "title": {
            "standoff": 15
           },
           "zerolinecolor": "white",
           "zerolinewidth": 2
          },
          "yaxis": {
           "automargin": true,
           "gridcolor": "white",
           "linecolor": "white",
           "ticks": "",
           "title": {
            "standoff": 15
           },
           "zerolinecolor": "white",
           "zerolinewidth": 2
          }
         }
        },
        "title": {
         "text": "Pareto-front Plot"
        },
        "xaxis": {
         "title": {
          "text": "loss"
         }
        },
        "yaxis": {
         "title": {
          "text": "kl_loss"
         }
        }
       }
      }
     },
     "metadata": {},
     "output_type": "display_data"
    }
   ],
   "source": [
    "pareto_targets = lambda t: (t.user_attrs[\"test_loss_mean\"], t.user_attrs[\"test_kl_loss_mean\"])\n",
    "optuna.visualization.plot_pareto_front(study, targets=pareto_targets, target_names=[\"loss\", \"kl_loss\"])\n"
   ]
  },
  {
   "cell_type": "code",
   "execution_count": 21,
   "metadata": {},
   "outputs": [
    {
     "data": {
      "text/plain": [
       "<matplotlib.collections.PathCollection at 0x7f38ec34bd00>"
      ]
     },
     "execution_count": 21,
     "metadata": {},
     "output_type": "execute_result"
    },
    {
     "data": {
      "image/png": "[encoded data removed]",
      "text/plain": [
       "<Figure size 640x480 with 1 Axes>"
      ]
     },
     "metadata": {},
     "output_type": "display_data"
    }
   ],
   "source": [
    "df[col_user]\n",
    "# user_attrs_Reconstruction overall_mean\n",
    "# user_attrs_test_Reconstruction overall_mean  \n",
    "corr = df.loc[:, [\"user_attrs_Reconstruction overall_mean\", \"user_attrs_test_Reconstruction overall_mean\"]].values\n",
    "corr = corr[corr[:, 1] > 0.]\n",
    "corr = corr.T\n",
    "plt.scatter(corr[0], corr[1])"
   ]
  },
  {
   "cell_type": "code",
   "execution_count": 14,
   "metadata": {},
   "outputs": [
    {
     "data": {
      "text/plain": [
       "array([ 2.24765981e-01,  5.58193365e-01,  5.79441426e-01, -2.52478756e+01,\n",
       "       -1.83249119e+00,  5.93541510e-01, -6.89742099e+01,  6.20540413e-01,\n",
       "        5.51473175e-01,  5.75338017e-01,  5.87397511e-01,  5.06810327e-01,\n",
       "        4.14948080e-01,  6.56091304e-01, -2.29449604e+02,  6.59978799e-01,\n",
       "        5.95479827e-01,  6.08065133e-01,  6.28701189e-01,  3.19842927e-01,\n",
       "        6.48585040e-01,  5.70997809e-01,  4.16447689e-01, -2.43559946e+01,\n",
       "       -1.92204170e-01,  4.85782606e-01,  1.76263074e-01,  2.43228096e-01,\n",
       "        4.86158230e-01,  5.44850264e-01,  5.08651126e-01,  6.44586897e-01,\n",
       "        6.46302449e-01,  5.16191953e-01,  5.87891203e-01,  4.15233483e-01,\n",
       "        5.76327024e-01,  5.09958578e-01])"
      ]
     },
     "execution_count": 14,
     "metadata": {},
     "output_type": "execute_result"
    }
   ],
   "source": [
    "corr[1]"
   ]
  },
  {
   "cell_type": "code",
   "execution_count": 20,
   "metadata": {},
   "outputs": [
    {
     "data": {
      "text/plain": [
       "Index(['value', 'datetime_start', 'datetime_complete', 'duration',\n",
       "       'params_model.encoder.params.dropout',\n",
       "       'params_model.encoder.params.hidden_size',\n",
       "       'params_model.encoder.params.num_layers',\n",
       "       'params_model.preprocessor.batch_transforms.0.TimeToFeatures.process_type',\n",
       "       'params_model.preprocessor.cat_emb_dim',\n",
       "       'params_model.preprocessor.num_emb_dim',\n",
       "       'params_model.preprocessor.num_norm', 'params_optimizer.params.lr',\n",
       "       'params_optimizer.params.weight_decay',\n",
       "       'user_attrs_Reconstruction amount_mean',\n",
       "       'user_attrs_Reconstruction amount_std',\n",
       "       'user_attrs_Reconstruction currency_mean',\n",
       "       'user_attrs_Reconstruction currency_std',\n",
       "       'user_attrs_Reconstruction days_since_first_tx_mean',\n",
       "       'user_attrs_Reconstruction days_since_first_tx_std',\n",
       "       'user_attrs_Reconstruction dst_type11_mean',\n",
       "       'user_attrs_Reconstruction dst_type11_std',\n",
       "       'user_attrs_Reconstruction dst_type12_mean',\n",
       "       'user_attrs_Reconstruction dst_type12_std',\n",
       "       'user_attrs_Reconstruction event_subtype_mean',\n",
       "       'user_attrs_Reconstruction event_subtype_std',\n",
       "       'user_attrs_Reconstruction event_type_mean',\n",
       "       'user_attrs_Reconstruction event_type_std',\n",
       "       'user_attrs_Reconstruction overall_mean',\n",
       "       'user_attrs_Reconstruction overall_std',\n",
       "       'user_attrs_Reconstruction src_type11_mean',\n",
       "       'user_attrs_Reconstruction src_type11_std',\n",
       "       'user_attrs_Reconstruction src_type12_mean',\n",
       "       'user_attrs_Reconstruction src_type12_std',\n",
       "       'user_attrs_Reconstruction src_type22_mean',\n",
       "       'user_attrs_Reconstruction src_type22_std',\n",
       "       'user_attrs_Reconstruction src_type32_mean',\n",
       "       'user_attrs_Reconstruction src_type32_std',\n",
       "       'user_attrs_memory_after_mean', 'user_attrs_memory_after_std',\n",
       "       'user_attrs_test_Reconstruction amount_mean',\n",
       "       'user_attrs_test_Reconstruction amount_std',\n",
       "       'user_attrs_test_Reconstruction currency_mean',\n",
       "       'user_attrs_test_Reconstruction currency_std',\n",
       "       'user_attrs_test_Reconstruction days_since_first_tx_mean',\n",
       "       'user_attrs_test_Reconstruction days_since_first_tx_std',\n",
       "       'user_attrs_test_Reconstruction dst_type11_mean',\n",
       "       'user_attrs_test_Reconstruction dst_type11_std',\n",
       "       'user_attrs_test_Reconstruction dst_type12_mean',\n",
       "       'user_attrs_test_Reconstruction dst_type12_std',\n",
       "       'user_attrs_test_Reconstruction event_subtype_mean',\n",
       "       'user_attrs_test_Reconstruction event_subtype_std',\n",
       "       'user_attrs_test_Reconstruction event_type_mean',\n",
       "       'user_attrs_test_Reconstruction event_type_std',\n",
       "       'user_attrs_test_Reconstruction overall_mean',\n",
       "       'user_attrs_test_Reconstruction overall_std',\n",
       "       'user_attrs_test_Reconstruction src_type11_mean',\n",
       "       'user_attrs_test_Reconstruction src_type11_std',\n",
       "       'user_attrs_test_Reconstruction src_type12_mean',\n",
       "       'user_attrs_test_Reconstruction src_type12_std',\n",
       "       'user_attrs_test_Reconstruction src_type22_mean',\n",
       "       'user_attrs_test_Reconstruction src_type22_std',\n",
       "       'user_attrs_test_Reconstruction src_type32_mean',\n",
       "       'user_attrs_test_Reconstruction src_type32_std',\n",
       "       'user_attrs_train_Reconstruction amount_mean',\n",
       "       'user_attrs_train_Reconstruction amount_std',\n",
       "       'user_attrs_train_Reconstruction currency_mean',\n",
       "       'user_attrs_train_Reconstruction currency_std',\n",
       "       'user_attrs_train_Reconstruction days_since_first_tx_mean',\n",
       "       'user_attrs_train_Reconstruction days_since_first_tx_std',\n",
       "       'user_attrs_train_Reconstruction dst_type11_mean',\n",
       "       'user_attrs_train_Reconstruction dst_type11_std',\n",
       "       'user_attrs_train_Reconstruction dst_type12_mean',\n",
       "       'user_attrs_train_Reconstruction dst_type12_std',\n",
       "       'user_attrs_train_Reconstruction event_subtype_mean',\n",
       "       'user_attrs_train_Reconstruction event_subtype_std',\n",
       "       'user_attrs_train_Reconstruction event_type_mean',\n",
       "       'user_attrs_train_Reconstruction event_type_std',\n",
       "       'user_attrs_train_Reconstruction overall_mean',\n",
       "       'user_attrs_train_Reconstruction overall_std',\n",
       "       'user_attrs_train_Reconstruction src_type11_mean',\n",
       "       'user_attrs_train_Reconstruction src_type11_std',\n",
       "       'user_attrs_train_Reconstruction src_type12_mean',\n",
       "       'user_attrs_train_Reconstruction src_type12_std',\n",
       "       'user_attrs_train_Reconstruction src_type22_mean',\n",
       "       'user_attrs_train_Reconstruction src_type22_std',\n",
       "       'user_attrs_train_Reconstruction src_type32_mean',\n",
       "       'user_attrs_train_Reconstruction src_type32_std',\n",
       "       'system_attrs_fixed_params', 'state'],\n",
       "      dtype='object')"
      ]
     },
     "execution_count": 20,
     "metadata": {},
     "output_type": "execute_result"
    }
   ],
   "source": [
    "df.columns"
   ]
  }
 ],
 "metadata": {
  "kernelspec": {
   "display_name": "Python 3",
   "language": "python",
   "name": "python3"
  },
  "language_info": {
   "codemirror_mode": {
    "name": "ipython",
    "version": 3
   },
   "file_extension": ".py",
   "mimetype": "text/x-python",
   "name": "python",
   "nbconvert_exporter": "python",
   "pygments_lexer": "ipython3",
   "version": "3.10.12"
  }
 },
 "nbformat": 4,
 "nbformat_minor": 2
}
