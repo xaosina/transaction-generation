{
 "cells": [
  {
   "cell_type": "code",
   "execution_count": 1,
   "metadata": {},
   "outputs": [
    {
     "name": "stderr",
     "output_type": "stream",
     "text": [
      "/usr/local/lib/python3.10/dist-packages/IPython/core/magics/osm.py:417: UserWarning: using dhist requires you to install the `pickleshare` library.\n",
      "  self.shell.db['dhist'] = compress_dhist(dhist)[-100:]\n"
     ]
    },
    {
     "name": "stdout",
     "output_type": "stream",
     "text": [
      "/home/transaction-generation\n"
     ]
    },
    {
     "name": "stderr",
     "output_type": "stream",
     "text": [
      "/usr/local/lib/python3.10/dist-packages/tqdm/auto.py:21: TqdmWarning: IProgress not found. Please update jupyter and ipywidgets. See https://ipywidgets.readthedocs.io/en/stable/user_install.html\n",
      "  from .autonotebook import tqdm as notebook_tqdm\n"
     ]
    }
   ],
   "source": [
    "%cd /home/transaction-generation\n",
    "\n",
    "import pandas as pd\n",
    "import matplotlib.pyplot as plt\n",
    "import numpy as np\n",
    "from tqdm import tqdm\n",
    "from pathlib import Path\n",
    "from ebes.pipeline.utils import optuna_df\n",
    "from optuna.trial import TrialState\n",
    "from glob import glob\n",
    "from itertools import product\n",
    "import warnings\n",
    "import optuna\n",
    "from optuna.exceptions import ExperimentalWarning \n",
    "\n",
    "warnings.filterwarnings(\"ignore\", category=ExperimentalWarning)"
   ]
  },
  {
   "cell_type": "code",
   "execution_count": 2,
   "metadata": {},
   "outputs": [],
   "source": [
    "def get_run(path, number, dataset, method, token_mode=False, rewrite=False):\n",
    "    path = Path(f\"log/generation/{path}/{number}\")\n",
    "    save_path = Path(f\"configs/best_params/{dataset}\")\n",
    "    if token_mode:\n",
    "        save_path /= \"1to1\"\n",
    "    save_path.mkdir(parents=True, exist_ok=True)\n",
    "    save_path = save_path / f\"{method}.yaml\"\n",
    "    if not rewrite:\n",
    "        if save_path.exists():\n",
    "            print(\"Cant rewrite\")\n",
    "            return\n",
    "    m_d = {\n",
    "        \"gru\": \"gru, 1to1\",\n",
    "        \"gpt\": \"gpt, 1to1\",\n",
    "        \"gru_dist\": \"oneshot/gru, methods/oneshot/dist, allto1\",\n",
    "        \"gru_target\": \"oneshot/gru, methods/oneshot/target, allto1\",\n",
    "        \"gru_matched\": \"oneshot/gru, methods/oneshot/matched, allto1\",\n",
    "        \"vae\": \"vae\",\n",
    "    }\n",
    "    config = (path / \"params.txt\").read_text()\n",
    "    print_best_res(path)\n",
    "    method_part = m_d.get(method, method)\n",
    "    factory = f\"config_factory: [start, metrics/default, datasets/{dataset}/{dataset}, methods/{method_part}]\\n\\n\"\n",
    "    config = factory + config\n",
    "    save_path.write_text(config)\n",
    "\n",
    "def print_best_res(path):\n",
    "    df = pd.read_csv(path / \"results.csv\", index_col=0)[\"mean\"]\n",
    "    index = [id for id in df.index if \"test\" in id]\n",
    "    df = df.loc[index]\n",
    "    df.index = [id.replace(\"test_\", \"\") for id in df.index]\n",
    "    df.astype(str).replace('\\\\.', ',', regex=True).to_csv('res', sep='\\t')\n",
    "\n",
    "\n",
    "def prepare_data(path):\n",
    "    path = Path(f\"log/generation/{path}\")\n",
    "    df, study = optuna_df(path)\n",
    "    col_to_drop = [\n",
    "        \"datetime_start\",\n",
    "        \"datetime_complete\",\n",
    "        \"system_attrs_fixed_params\",\n",
    "        \"state\",\n",
    "        \"value\",\n",
    "    ]\n",
    "    col_params = [\"value\", \"duration\"] + [col for col in df if \"params_\" in col]\n",
    "    col_user = [\"value\", \"duration\"] + [col for col in df if \"user\" in col]\n",
    "    # df[\"duration\"] = df[\"duration\"].dt.total_seconds()\n",
    "    return df, study, col_user, col_params\n",
    "\n",
    "\n",
    "k = -1"
   ]
  },
  {
   "cell_type": "code",
   "execution_count": 9,
   "metadata": {},
   "outputs": [
    {
     "name": "stdout",
     "output_type": "stream",
     "text": [
      "age/optuna/detpp\n",
      "(600, 76) (39, 76)\n"
     ]
    },
    {
     "data": {
      "text/html": [
       "<div>\n",
       "<style scoped>\n",
       "    .dataframe tbody tr th:only-of-type {\n",
       "        vertical-align: middle;\n",
       "    }\n",
       "\n",
       "    .dataframe tbody tr th {\n",
       "        vertical-align: top;\n",
       "    }\n",
       "\n",
       "    .dataframe thead th {\n",
       "        text-align: right;\n",
       "    }\n",
       "</style>\n",
       "<table border=\"1\" class=\"dataframe\">\n",
       "  <thead>\n",
       "    <tr style=\"text-align: right;\">\n",
       "      <th></th>\n",
       "      <th>value</th>\n",
       "      <th>user_attrs_test_Cardinality on small_group gen_mean</th>\n",
       "      <th>user_attrs_test_Cardinality on small_group orig_mean</th>\n",
       "      <th>user_attrs_test_F1_macro on small_group_mean</th>\n",
       "      <th>user_attrs_test_F1_micro on small_group_mean</th>\n",
       "      <th>user_attrs_test_OTD age_mean</th>\n",
       "      <th>user_attrs_test_OTD amount_rur_mean</th>\n",
       "      <th>user_attrs_test_OTD overall_mean</th>\n",
       "      <th>user_attrs_test_OTD small_group_mean</th>\n",
       "      <th>user_attrs_test_OTD trans_date_mean</th>\n",
       "      <th>user_attrs_test_loss_mean</th>\n",
       "    </tr>\n",
       "  </thead>\n",
       "  <tbody>\n",
       "    <tr>\n",
       "      <th>323</th>\n",
       "      <td>-53.801930</td>\n",
       "      <td>8.407623</td>\n",
       "      <td>10.690744</td>\n",
       "      <td>0.406684</td>\n",
       "      <td>0.709420</td>\n",
       "      <td>1.000000</td>\n",
       "      <td>0.492247</td>\n",
       "      <td>0.744860</td>\n",
       "      <td>0.674824</td>\n",
       "      <td>0.812369</td>\n",
       "      <td>-53.824256</td>\n",
       "    </tr>\n",
       "    <tr>\n",
       "      <th>521</th>\n",
       "      <td>-53.698955</td>\n",
       "      <td>8.311434</td>\n",
       "      <td>10.690744</td>\n",
       "      <td>0.401617</td>\n",
       "      <td>0.704395</td>\n",
       "      <td>1.000000</td>\n",
       "      <td>0.490385</td>\n",
       "      <td>0.461559</td>\n",
       "      <td>0.665404</td>\n",
       "      <td>-0.309553</td>\n",
       "      <td>-53.682820</td>\n",
       "    </tr>\n",
       "    <tr>\n",
       "      <th>303</th>\n",
       "      <td>-53.578084</td>\n",
       "      <td>8.597641</td>\n",
       "      <td>10.690744</td>\n",
       "      <td>0.407043</td>\n",
       "      <td>0.706392</td>\n",
       "      <td>1.000000</td>\n",
       "      <td>0.481126</td>\n",
       "      <td>0.117820</td>\n",
       "      <td>0.671614</td>\n",
       "      <td>-1.681458</td>\n",
       "      <td>-53.588864</td>\n",
       "    </tr>\n",
       "    <tr>\n",
       "      <th>424</th>\n",
       "      <td>-53.486892</td>\n",
       "      <td>8.310889</td>\n",
       "      <td>10.690744</td>\n",
       "      <td>0.406239</td>\n",
       "      <td>0.705223</td>\n",
       "      <td>1.000000</td>\n",
       "      <td>0.485713</td>\n",
       "      <td>-0.729117</td>\n",
       "      <td>0.672663</td>\n",
       "      <td>-5.074844</td>\n",
       "      <td>-53.504483</td>\n",
       "    </tr>\n",
       "    <tr>\n",
       "      <th>305</th>\n",
       "      <td>-53.364592</td>\n",
       "      <td>8.392377</td>\n",
       "      <td>10.690744</td>\n",
       "      <td>0.405764</td>\n",
       "      <td>0.707696</td>\n",
       "      <td>1.000000</td>\n",
       "      <td>0.484996</td>\n",
       "      <td>0.630991</td>\n",
       "      <td>0.670208</td>\n",
       "      <td>0.368762</td>\n",
       "      <td>-53.400021</td>\n",
       "    </tr>\n",
       "    <tr>\n",
       "      <th>243</th>\n",
       "      <td>-53.298817</td>\n",
       "      <td>8.048276</td>\n",
       "      <td>10.690744</td>\n",
       "      <td>0.399616</td>\n",
       "      <td>0.702711</td>\n",
       "      <td>0.999983</td>\n",
       "      <td>0.484576</td>\n",
       "      <td>0.177320</td>\n",
       "      <td>0.666946</td>\n",
       "      <td>-1.442225</td>\n",
       "      <td>-53.308555</td>\n",
       "    </tr>\n",
       "    <tr>\n",
       "      <th>199</th>\n",
       "      <td>-53.010165</td>\n",
       "      <td>8.415971</td>\n",
       "      <td>10.690744</td>\n",
       "      <td>0.406165</td>\n",
       "      <td>0.707475</td>\n",
       "      <td>1.000000</td>\n",
       "      <td>0.494215</td>\n",
       "      <td>0.210566</td>\n",
       "      <td>0.672465</td>\n",
       "      <td>-1.324415</td>\n",
       "      <td>-52.983262</td>\n",
       "    </tr>\n",
       "    <tr>\n",
       "      <th>215</th>\n",
       "      <td>-52.730473</td>\n",
       "      <td>8.462069</td>\n",
       "      <td>10.690744</td>\n",
       "      <td>0.412511</td>\n",
       "      <td>0.711451</td>\n",
       "      <td>1.000000</td>\n",
       "      <td>0.492488</td>\n",
       "      <td>0.344957</td>\n",
       "      <td>0.674467</td>\n",
       "      <td>-0.787126</td>\n",
       "      <td>-52.751526</td>\n",
       "    </tr>\n",
       "    <tr>\n",
       "      <th>536</th>\n",
       "      <td>-52.546022</td>\n",
       "      <td>8.453721</td>\n",
       "      <td>10.690744</td>\n",
       "      <td>0.412231</td>\n",
       "      <td>0.711927</td>\n",
       "      <td>1.000000</td>\n",
       "      <td>0.493737</td>\n",
       "      <td>0.212641</td>\n",
       "      <td>0.675386</td>\n",
       "      <td>-1.318558</td>\n",
       "      <td>-52.566565</td>\n",
       "    </tr>\n",
       "    <tr>\n",
       "      <th>282</th>\n",
       "      <td>-52.479327</td>\n",
       "      <td>8.415971</td>\n",
       "      <td>10.690744</td>\n",
       "      <td>0.409260</td>\n",
       "      <td>0.710158</td>\n",
       "      <td>1.000000</td>\n",
       "      <td>0.492007</td>\n",
       "      <td>-0.551265</td>\n",
       "      <td>0.674943</td>\n",
       "      <td>-4.372010</td>\n",
       "      <td>-52.496105</td>\n",
       "    </tr>\n",
       "  </tbody>\n",
       "</table>\n",
       "</div>"
      ],
      "text/plain": [
       "         value  user_attrs_test_Cardinality on small_group gen_mean  \\\n",
       "323 -53.801930                                           8.407623     \n",
       "521 -53.698955                                           8.311434     \n",
       "303 -53.578084                                           8.597641     \n",
       "424 -53.486892                                           8.310889     \n",
       "305 -53.364592                                           8.392377     \n",
       "243 -53.298817                                           8.048276     \n",
       "199 -53.010165                                           8.415971     \n",
       "215 -52.730473                                           8.462069     \n",
       "536 -52.546022                                           8.453721     \n",
       "282 -52.479327                                           8.415971     \n",
       "\n",
       "     user_attrs_test_Cardinality on small_group orig_mean  \\\n",
       "323                                          10.690744      \n",
       "521                                          10.690744      \n",
       "303                                          10.690744      \n",
       "424                                          10.690744      \n",
       "305                                          10.690744      \n",
       "243                                          10.690744      \n",
       "199                                          10.690744      \n",
       "215                                          10.690744      \n",
       "536                                          10.690744      \n",
       "282                                          10.690744      \n",
       "\n",
       "     user_attrs_test_F1_macro on small_group_mean  \\\n",
       "323                                      0.406684   \n",
       "521                                      0.401617   \n",
       "303                                      0.407043   \n",
       "424                                      0.406239   \n",
       "305                                      0.405764   \n",
       "243                                      0.399616   \n",
       "199                                      0.406165   \n",
       "215                                      0.412511   \n",
       "536                                      0.412231   \n",
       "282                                      0.409260   \n",
       "\n",
       "     user_attrs_test_F1_micro on small_group_mean  \\\n",
       "323                                      0.709420   \n",
       "521                                      0.704395   \n",
       "303                                      0.706392   \n",
       "424                                      0.705223   \n",
       "305                                      0.707696   \n",
       "243                                      0.702711   \n",
       "199                                      0.707475   \n",
       "215                                      0.711451   \n",
       "536                                      0.711927   \n",
       "282                                      0.710158   \n",
       "\n",
       "     user_attrs_test_OTD age_mean  user_attrs_test_OTD amount_rur_mean  \\\n",
       "323                      1.000000                             0.492247   \n",
       "521                      1.000000                             0.490385   \n",
       "303                      1.000000                             0.481126   \n",
       "424                      1.000000                             0.485713   \n",
       "305                      1.000000                             0.484996   \n",
       "243                      0.999983                             0.484576   \n",
       "199                      1.000000                             0.494215   \n",
       "215                      1.000000                             0.492488   \n",
       "536                      1.000000                             0.493737   \n",
       "282                      1.000000                             0.492007   \n",
       "\n",
       "     user_attrs_test_OTD overall_mean  user_attrs_test_OTD small_group_mean  \\\n",
       "323                          0.744860                              0.674824   \n",
       "521                          0.461559                              0.665404   \n",
       "303                          0.117820                              0.671614   \n",
       "424                         -0.729117                              0.672663   \n",
       "305                          0.630991                              0.670208   \n",
       "243                          0.177320                              0.666946   \n",
       "199                          0.210566                              0.672465   \n",
       "215                          0.344957                              0.674467   \n",
       "536                          0.212641                              0.675386   \n",
       "282                         -0.551265                              0.674943   \n",
       "\n",
       "     user_attrs_test_OTD trans_date_mean  user_attrs_test_loss_mean  \n",
       "323                             0.812369                 -53.824256  \n",
       "521                            -0.309553                 -53.682820  \n",
       "303                            -1.681458                 -53.588864  \n",
       "424                            -5.074844                 -53.504483  \n",
       "305                             0.368762                 -53.400021  \n",
       "243                            -1.442225                 -53.308555  \n",
       "199                            -1.324415                 -52.983262  \n",
       "215                            -0.787126                 -52.751526  \n",
       "536                            -1.318558                 -52.566565  \n",
       "282                            -4.372010                 -52.496105  "
      ]
     },
     "execution_count": 9,
     "metadata": {},
     "output_type": "execute_result"
    }
   ],
   "source": [
    "datasets = [\"alphabattle_small\", \"age\"]\n",
    "methods = [\"vae\", \"detpp\"]\n",
    "token_modes = [False, True]\n",
    "k += 1\n",
    "full_product = list(product(datasets, methods, token_modes))\n",
    "dataset, method, token_mode = full_product[k % len(full_product)]\n",
    "\n",
    "path = f\"{dataset}/{'1to1/optuna' if token_mode else 'optuna'}/{method}\"\n",
    "print(path)\n",
    "df, study, col_user, col_params = prepare_data(path)\n",
    "\n",
    "print(df.shape, df[~df[\"value\"].isna()].shape)\n",
    "test_cols = [col for col in col_user if (\"mean\" in col) and (\"test\" in col)]\n",
    "# test_cols = [col for col in test_cols if (\"F1\" in col) or (\"Cardinality\" in col)]\n",
    "# par = [col for col in col_user + col_params if \"BetaScheduler\" in col]\n",
    "# test_loss = \"user_attrs_test_loss_mean\"\n",
    "sorted_df = df[~df[\"value\"].isna()].sort_values(\"value\")\n",
    "best_run = sorted_df.iloc[-1].name\n",
    "get_run(path, best_run, dataset, method, token_mode, True)\n",
    "sorted_df[[\"value\"] + test_cols][-10:]"
   ]
  },
  {
   "cell_type": "code",
   "execution_count": null,
   "metadata": {},
   "outputs": [],
   "source": [
    "109\n",
    "282"
   ]
  },
  {
   "cell_type": "code",
   "execution_count": 43,
   "metadata": {},
   "outputs": [
    {
     "name": "stdout",
     "output_type": "stream",
     "text": [
      "Index([ 0,  1,  2,  3,  4,  5,  6,  9, 10, 11, 12, 13, 17, 18, 19, 20, 23, 26,\n",
      "       27, 31, 32, 40, 43, 44, 48, 50, 52, 54, 56, 57, 58, 59, 60, 61, 67],\n",
      "      dtype='int64')\n",
      "0 torch.cuda.OutOfMemoryError: CUDA out of memory. Tried to allocate 7.10 GiB. GPU \n",
      "1 torch.cuda.OutOfMemoryError: CUDA out of memory. Tried to allocate 8.31 GiB. GPU \n",
      "2 torch.cuda.OutOfMemoryError: CUDA out of memory. Tried to allocate 11.37 GiB. GPU \n",
      "3 torch.cuda.OutOfMemoryError: CUDA out of memory. Tried to allocate 15.55 GiB. GPU \n",
      "4 torch.cuda.OutOfMemoryError: CUDA out of memory. Tried to allocate 43.30 GiB. GPU \n",
      "5 ValueError: None detected in loss. Terminating training.\n",
      "6 ValueError: None detected in loss. Terminating training.\n",
      "9 torch.cuda.OutOfMemoryError: CUDA out of memory. Tried to allocate 16.11 GiB. GPU \n",
      "10 torch.cuda.OutOfMemoryError: CUDA out of memory. Tried to allocate 5.54 GiB. GPU \n",
      "11 torch.cuda.OutOfMemoryError: CUDA out of memory. Tried to allocate 15.23 GiB. GPU \n",
      "12 torch.cuda.OutOfMemoryError: CUDA out of memory. Tried to allocate 76.26 GiB. GPU \n",
      "13 torch.cuda.OutOfMemoryError: CUDA out of memory. Tried to allocate 11.72 GiB. GPU \n",
      "17 torch.cuda.OutOfMemoryError: CUDA out of memory. Tried to allocate 13.58 GiB. GPU \n",
      "18 torch.cuda.OutOfMemoryError: CUDA out of memory. Tried to allocate 25.19 GiB. GPU \n",
      "19 torch.cuda.OutOfMemoryError: CUDA out of memory. Tried to allocate 25.92 GiB. GPU \n",
      "20 torch.cuda.OutOfMemoryError: CUDA out of memory. Tried to allocate 22.58 GiB. GPU \n",
      "23 torch.cuda.OutOfMemoryError: CUDA out of memory. Tried to allocate 8.52 GiB. GPU \n",
      "26 ValueError: None detected in loss. Terminating training.\n",
      "27 torch.cuda.OutOfMemoryError: CUDA out of memory. Tried to allocate 26.44 GiB. GPU \n",
      "31 torch.cuda.OutOfMemoryError: CUDA out of memory. Tried to allocate 3.71 GiB. GPU \n",
      "32 ValueError: None detected in loss. Terminating training.\n",
      "40 ValueError: None detected in loss. Terminating training.\n",
      "43 ValueError: None detected in loss. Terminating training.\n",
      "44 ValueError: None detected in loss. Terminating training.\n",
      "48 torch.cuda.OutOfMemoryError: CUDA out of memory. Tried to allocate 3.84 GiB. GPU \n",
      "50 torch.cuda.OutOfMemoryError: CUDA out of memory. Tried to allocate 5.17 GiB. GPU \n",
      "52 torch.cuda.OutOfMemoryError: CUDA out of memory. Tried to allocate 3.70 GiB. GPU \n",
      "54 torch.cuda.OutOfMemoryError: CUDA out of memory. Tried to allocate 5.87 GiB. GPU \n",
      "56 torch.cuda.OutOfMemoryError: CUDA out of memory. Tried to allocate 2.94 GiB. GPU \n",
      "57 ValueError: None detected in loss. Terminating training.\n",
      "58 ValueError: None detected in loss. Terminating training.\n",
      "59 torch.cuda.OutOfMemoryError: CUDA out of memory. Tried to allocate 14.91 GiB. GPU \n",
      "60 ValueError: None detected in loss. Terminating training.\n",
      "61 torch.cuda.OutOfMemoryError: CUDA out of memory. Tried to allocate 3.20 GiB. GPU \n",
      "67 value                                                                            NaN\n",
      "datetime_start                                            2025-09-03 11:21:19.037478\n",
      "datetime_complete                                                                NaT\n",
      "duration                                                                         NaT\n",
      "params_data_conf.train_transforms.1.TimeToDiff.disable                          True\n",
      "params_model.autoencoder.params.d_token                                           24\n",
      "params_model.autoencoder.params.factor                                            18\n",
      "params_model.autoencoder.params.n_head                                             4\n",
      "params_model.autoencoder.params.num_layers                                        10\n",
      "params_optimizer.params.lr                                                  0.002784\n",
      "params_optimizer.params.weight_decay                                             0.0\n",
      "params_schedulers.beta.BetaScheduler.factor                                      0.6\n",
      "params_schedulers.beta.BetaScheduler.init_beta                              0.794047\n",
      "params_schedulers.beta.BetaScheduler.patience                                      4\n",
      "params_schedulers.step.StepLR.step_size                                           50\n",
      "user_attrs_Reconstruction age_mean                                               NaN\n",
      "user_attrs_Reconstruction age_std                                                NaN\n",
      "user_attrs_Reconstruction amount_rur_mean                                        NaN\n",
      "user_attrs_Reconstruction amount_rur_std                                         NaN\n",
      "user_attrs_Reconstruction overall_mean                                           NaN\n",
      "user_attrs_Reconstruction overall_std                                            NaN\n",
      "user_attrs_Reconstruction small_group_mean                                       NaN\n",
      "user_attrs_Reconstruction small_group_std                                        NaN\n",
      "user_attrs_Reconstruction trans_date_mean                                        NaN\n",
      "user_attrs_Reconstruction trans_date_std                                         NaN\n",
      "user_attrs_kl_loss_mean                                                          NaN\n",
      "user_attrs_kl_loss_std                                                           NaN\n",
      "user_attrs_loss_mean                                                             NaN\n",
      "user_attrs_loss_std                                                              NaN\n",
      "user_attrs_memory_after_mean                                                     NaN\n",
      "user_attrs_memory_after_std                                                      NaN\n",
      "user_attrs_test_Reconstruction age_mean                                          NaN\n",
      "user_attrs_test_Reconstruction age_std                                           NaN\n",
      "user_attrs_test_Reconstruction amount_rur_mean                                   NaN\n",
      "user_attrs_test_Reconstruction amount_rur_std                                    NaN\n",
      "user_attrs_test_Reconstruction overall_mean                                      NaN\n",
      "user_attrs_test_Reconstruction overall_std                                       NaN\n",
      "user_attrs_test_Reconstruction small_group_mean                                  NaN\n",
      "user_attrs_test_Reconstruction small_group_std                                   NaN\n",
      "user_attrs_test_Reconstruction trans_date_mean                                   NaN\n",
      "user_attrs_test_Reconstruction trans_date_std                                    NaN\n",
      "user_attrs_test_kl_loss_mean                                                     NaN\n",
      "user_attrs_test_kl_loss_std                                                      NaN\n",
      "user_attrs_test_loss_mean                                                        NaN\n",
      "user_attrs_test_loss_std                                                         NaN\n",
      "user_attrs_train_Reconstruction age_mean                                         NaN\n",
      "user_attrs_train_Reconstruction age_std                                          NaN\n",
      "user_attrs_train_Reconstruction amount_rur_mean                                  NaN\n",
      "user_attrs_train_Reconstruction amount_rur_std                                   NaN\n",
      "user_attrs_train_Reconstruction overall_mean                                     NaN\n",
      "user_attrs_train_Reconstruction overall_std                                      NaN\n",
      "user_attrs_train_Reconstruction small_group_mean                                 NaN\n",
      "user_attrs_train_Reconstruction small_group_std                                  NaN\n",
      "user_attrs_train_Reconstruction trans_date_mean                                  NaN\n",
      "user_attrs_train_Reconstruction trans_date_std                                   NaN\n",
      "state                                                                        RUNNING\n",
      "Name: 67, dtype: object\n"
     ]
    }
   ],
   "source": [
    "failed = df[(df[\"state\"] != \"COMPLETE\") | (df[col_user].isna().any(axis=1))][col_user].index\n",
    "print(failed)\n",
    "for fail in df[(df[\"state\"] != \"COMPLETE\") | (df[col_user].isna().any(axis=1))][col_user].index:\n",
    "    error_path = Path(f\"log/generation/{path}/{fail}/ERROR.txt\")\n",
    "    if error_path.exists():\n",
    "        error = error_path.read_text()\n",
    "        print(fail, error.split(\"\\n\")[-2])\n",
    "    else:\n",
    "        print(fail, df.loc[fail])"
   ]
  },
  {
   "cell_type": "code",
   "execution_count": 44,
   "metadata": {},
   "outputs": [],
   "source": [
    "# optuna.visualization.plot_optimization_history(study)"
   ]
  },
  {
   "cell_type": "markdown",
   "metadata": {},
   "source": [
    "### Params influence"
   ]
  },
  {
   "cell_type": "code",
   "execution_count": 45,
   "metadata": {},
   "outputs": [
    {
     "name": "stderr",
     "output_type": "stream",
     "text": [
      "[I 2025-09-04 12:28:46,393] A new study created in memory with name: no-name-bd95ddf5-91f1-429b-b340-a5ecc5737bf4\n"
     ]
    }
   ],
   "source": [
    "trials = study.trials\n",
    "trials = [trial for trial in trials if (trial.state == TrialState.COMPLETE) and (trial.value >= -1e4)]\n",
    "plotted_trials = sorted(trials, key=lambda t: t.value)\n",
    "study = optuna.create_study()\n",
    "\n",
    "for trial in plotted_trials:\n",
    "    study.add_trial(trial)"
   ]
  },
  {
   "cell_type": "code",
   "execution_count": 46,
   "metadata": {},
   "outputs": [
    {
     "name": "stdout",
     "output_type": "stream",
     "text": [
      "[0.5092100212549523, 0.11824217066079121, 0.08742343421916134, 0.06063546510052492, 0.05386556220713082, 0.049028390043820085, 0.02842741194260258, 0.02553279025235239, 0.025461602669520127, 0.024563897583124623, 0.017609254066019684]\n",
      "['data_conf.train_transforms.1.TimeToDiff.disable', 'schedulers.beta.BetaScheduler.init_beta', 'schedulers.step.StepLR.step_size', 'model.autoencoder.params.factor', 'model.autoencoder.params.num_layers', 'model.autoencoder.params.d_token', 'optimizer.params.weight_decay', 'schedulers.beta.BetaScheduler.factor', 'schedulers.beta.BetaScheduler.patience', 'optimizer.params.lr', 'model.autoencoder.params.n_head']\n"
     ]
    },
    {
     "data": {
      "application/vnd.plotly.v1+json": {
       "config": {
        "plotlyServerURL": "https://plot.ly"
       },
       "data": [
        {
         "cliponaxis": false,
         "hovertemplate": [
          "model.autoencoder.params.n_head (CategoricalDistribution): 0.017609254066019684<extra></extra>",
          "optimizer.params.lr (FloatDistribution): 0.024563897583124623<extra></extra>",
          "schedulers.beta.BetaScheduler.patience (IntDistribution): 0.025461602669520127<extra></extra>",
          "schedulers.beta.BetaScheduler.factor (FloatDistribution): 0.02553279025235239<extra></extra>",
          "optimizer.params.weight_decay (FloatDistribution): 0.02842741194260258<extra></extra>",
          "model.autoencoder.params.d_token (IntDistribution): 0.049028390043820085<extra></extra>",
          "model.autoencoder.params.num_layers (IntDistribution): 0.05386556220713082<extra></extra>",
          "model.autoencoder.params.factor (IntDistribution): 0.06063546510052492<extra></extra>",
          "schedulers.step.StepLR.step_size (IntDistribution): 0.08742343421916134<extra></extra>",
          "schedulers.beta.BetaScheduler.init_beta (FloatDistribution): 0.11824217066079121<extra></extra>",
          "data_conf.train_transforms.1.TimeToDiff.disable (CategoricalDistribution): 0.5092100212549523<extra></extra>"
         ],
         "name": "target",
         "orientation": "h",
         "text": [
          "0.02",
          "0.02",
          "0.03",
          "0.03",
          "0.03",
          "0.05",
          "0.05",
          "0.06",
          "0.09",
          "0.12",
          "0.51"
         ],
         "textposition": "outside",
         "type": "bar",
         "x": [
          0.017609254066019684,
          0.024563897583124623,
          0.025461602669520127,
          0.02553279025235239,
          0.02842741194260258,
          0.049028390043820085,
          0.05386556220713082,
          0.06063546510052492,
          0.08742343421916134,
          0.11824217066079121,
          0.5092100212549523
         ],
         "y": [
          "model.autoencoder.params.n_head",
          "optimizer.params.lr",
          "schedulers.beta.BetaScheduler.patience",
          "schedulers.beta.BetaScheduler.factor",
          "optimizer.params.weight_decay",
          "model.autoencoder.params.d_token",
          "model.autoencoder.params.num_layers",
          "model.autoencoder.params.factor",
          "schedulers.step.StepLR.step_size",
          "schedulers.beta.BetaScheduler.init_beta",
          "data_conf.train_transforms.1.TimeToDiff.disable"
         ]
        }
       ],
       "layout": {
        "template": {
         "data": {
          "bar": [
           {
            "error_x": {
             "color": "#2a3f5f"
            },
            "error_y": {
             "color": "#2a3f5f"
            },
            "marker": {
             "line": {
              "color": "#E5ECF6",
              "width": 0.5
             },
             "pattern": {
              "fillmode": "overlay",
              "size": 10,
              "solidity": 0.2
             }
            },
            "type": "bar"
           }
          ],
          "barpolar": [
           {
            "marker": {
             "line": {
              "color": "#E5ECF6",
              "width": 0.5
             },
             "pattern": {
              "fillmode": "overlay",
              "size": 10,
              "solidity": 0.2
             }
            },
            "type": "barpolar"
           }
          ],
          "carpet": [
           {
            "aaxis": {
             "endlinecolor": "#2a3f5f",
             "gridcolor": "white",
             "linecolor": "white",
             "minorgridcolor": "white",
             "startlinecolor": "#2a3f5f"
            },
            "baxis": {
             "endlinecolor": "#2a3f5f",
             "gridcolor": "white",
             "linecolor": "white",
             "minorgridcolor": "white",
             "startlinecolor": "#2a3f5f"
            },
            "type": "carpet"
           }
          ],
          "choropleth": [
           {
            "colorbar": {
             "outlinewidth": 0,
             "ticks": ""
            },
            "type": "choropleth"
           }
          ],
          "contour": [
           {
            "colorbar": {
             "outlinewidth": 0,
             "ticks": ""
            },
            "colorscale": [
             [
              0,
              "#0d0887"
             ],
             [
              0.1111111111111111,
              "#46039f"
             ],
             [
              0.2222222222222222,
              "#7201a8"
             ],
             [
              0.3333333333333333,
              "#9c179e"
             ],
             [
              0.4444444444444444,
              "#bd3786"
             ],
             [
              0.5555555555555556,
              "#d8576b"
             ],
             [
              0.6666666666666666,
              "#ed7953"
             ],
             [
              0.7777777777777778,
              "#fb9f3a"
             ],
             [
              0.8888888888888888,
              "#fdca26"
             ],
             [
              1,
              "#f0f921"
             ]
            ],
            "type": "contour"
           }
          ],
          "contourcarpet": [
           {
            "colorbar": {
             "outlinewidth": 0,
             "ticks": ""
            },
            "type": "contourcarpet"
           }
          ],
          "heatmap": [
           {
            "colorbar": {
             "outlinewidth": 0,
             "ticks": ""
            },
            "colorscale": [
             [
              0,
              "#0d0887"
             ],
             [
              0.1111111111111111,
              "#46039f"
             ],
             [
              0.2222222222222222,
              "#7201a8"
             ],
             [
              0.3333333333333333,
              "#9c179e"
             ],
             [
              0.4444444444444444,
              "#bd3786"
             ],
             [
              0.5555555555555556,
              "#d8576b"
             ],
             [
              0.6666666666666666,
              "#ed7953"
             ],
             [
              0.7777777777777778,
              "#fb9f3a"
             ],
             [
              0.8888888888888888,
              "#fdca26"
             ],
             [
              1,
              "#f0f921"
             ]
            ],
            "type": "heatmap"
           }
          ],
          "histogram": [
           {
            "marker": {
             "pattern": {
              "fillmode": "overlay",
              "size": 10,
              "solidity": 0.2
             }
            },
            "type": "histogram"
           }
          ],
          "histogram2d": [
           {
            "colorbar": {
             "outlinewidth": 0,
             "ticks": ""
            },
            "colorscale": [
             [
              0,
              "#0d0887"
             ],
             [
              0.1111111111111111,
              "#46039f"
             ],
             [
              0.2222222222222222,
              "#7201a8"
             ],
             [
              0.3333333333333333,
              "#9c179e"
             ],
             [
              0.4444444444444444,
              "#bd3786"
             ],
             [
              0.5555555555555556,
              "#d8576b"
             ],
             [
              0.6666666666666666,
              "#ed7953"
             ],
             [
              0.7777777777777778,
              "#fb9f3a"
             ],
             [
              0.8888888888888888,
              "#fdca26"
             ],
             [
              1,
              "#f0f921"
             ]
            ],
            "type": "histogram2d"
           }
          ],
          "histogram2dcontour": [
           {
            "colorbar": {
             "outlinewidth": 0,
             "ticks": ""
            },
            "colorscale": [
             [
              0,
              "#0d0887"
             ],
             [
              0.1111111111111111,
              "#46039f"
             ],
             [
              0.2222222222222222,
              "#7201a8"
             ],
             [
              0.3333333333333333,
              "#9c179e"
             ],
             [
              0.4444444444444444,
              "#bd3786"
             ],
             [
              0.5555555555555556,
              "#d8576b"
             ],
             [
              0.6666666666666666,
              "#ed7953"
             ],
             [
              0.7777777777777778,
              "#fb9f3a"
             ],
             [
              0.8888888888888888,
              "#fdca26"
             ],
             [
              1,
              "#f0f921"
             ]
            ],
            "type": "histogram2dcontour"
           }
          ],
          "mesh3d": [
           {
            "colorbar": {
             "outlinewidth": 0,
             "ticks": ""
            },
            "type": "mesh3d"
           }
          ],
          "parcoords": [
           {
            "line": {
             "colorbar": {
              "outlinewidth": 0,
              "ticks": ""
             }
            },
            "type": "parcoords"
           }
          ],
          "pie": [
           {
            "automargin": true,
            "type": "pie"
           }
          ],
          "scatter": [
           {
            "fillpattern": {
             "fillmode": "overlay",
             "size": 10,
             "solidity": 0.2
            },
            "type": "scatter"
           }
          ],
          "scatter3d": [
           {
            "line": {
             "colorbar": {
              "outlinewidth": 0,
              "ticks": ""
             }
            },
            "marker": {
             "colorbar": {
              "outlinewidth": 0,
              "ticks": ""
             }
            },
            "type": "scatter3d"
           }
          ],
          "scattercarpet": [
           {
            "marker": {
             "colorbar": {
              "outlinewidth": 0,
              "ticks": ""
             }
            },
            "type": "scattercarpet"
           }
          ],
          "scattergeo": [
           {
            "marker": {
             "colorbar": {
              "outlinewidth": 0,
              "ticks": ""
             }
            },
            "type": "scattergeo"
           }
          ],
          "scattergl": [
           {
            "marker": {
             "colorbar": {
              "outlinewidth": 0,
              "ticks": ""
             }
            },
            "type": "scattergl"
           }
          ],
          "scattermap": [
           {
            "marker": {
             "colorbar": {
              "outlinewidth": 0,
              "ticks": ""
             }
            },
            "type": "scattermap"
           }
          ],
          "scattermapbox": [
           {
            "marker": {
             "colorbar": {
              "outlinewidth": 0,
              "ticks": ""
             }
            },
            "type": "scattermapbox"
           }
          ],
          "scatterpolar": [
           {
            "marker": {
             "colorbar": {
              "outlinewidth": 0,
              "ticks": ""
             }
            },
            "type": "scatterpolar"
           }
          ],
          "scatterpolargl": [
           {
            "marker": {
             "colorbar": {
              "outlinewidth": 0,
              "ticks": ""
             }
            },
            "type": "scatterpolargl"
           }
          ],
          "scatterternary": [
           {
            "marker": {
             "colorbar": {
              "outlinewidth": 0,
              "ticks": ""
             }
            },
            "type": "scatterternary"
           }
          ],
          "surface": [
           {
            "colorbar": {
             "outlinewidth": 0,
             "ticks": ""
            },
            "colorscale": [
             [
              0,
              "#0d0887"
             ],
             [
              0.1111111111111111,
              "#46039f"
             ],
             [
              0.2222222222222222,
              "#7201a8"
             ],
             [
              0.3333333333333333,
              "#9c179e"
             ],
             [
              0.4444444444444444,
              "#bd3786"
             ],
             [
              0.5555555555555556,
              "#d8576b"
             ],
             [
              0.6666666666666666,
              "#ed7953"
             ],
             [
              0.7777777777777778,
              "#fb9f3a"
             ],
             [
              0.8888888888888888,
              "#fdca26"
             ],
             [
              1,
              "#f0f921"
             ]
            ],
            "type": "surface"
           }
          ],
          "table": [
           {
            "cells": {
             "fill": {
              "color": "#EBF0F8"
             },
             "line": {
              "color": "white"
             }
            },
            "header": {
             "fill": {
              "color": "#C8D4E3"
             },
             "line": {
              "color": "white"
             }
            },
            "type": "table"
           }
          ]
         },
         "layout": {
          "annotationdefaults": {
           "arrowcolor": "#2a3f5f",
           "arrowhead": 0,
           "arrowwidth": 1
          },
          "autotypenumbers": "strict",
          "coloraxis": {
           "colorbar": {
            "outlinewidth": 0,
            "ticks": ""
           }
          },
          "colorscale": {
           "diverging": [
            [
             0,
             "#8e0152"
            ],
            [
             0.1,
             "#c51b7d"
            ],
            [
             0.2,
             "#de77ae"
            ],
            [
             0.3,
             "#f1b6da"
            ],
            [
             0.4,
             "#fde0ef"
            ],
            [
             0.5,
             "#f7f7f7"
            ],
            [
             0.6,
             "#e6f5d0"
            ],
            [
             0.7,
             "#b8e186"
            ],
            [
             0.8,
             "#7fbc41"
            ],
            [
             0.9,
             "#4d9221"
            ],
            [
             1,
             "#276419"
            ]
           ],
           "sequential": [
            [
             0,
             "#0d0887"
            ],
            [
             0.1111111111111111,
             "#46039f"
            ],
            [
             0.2222222222222222,
             "#7201a8"
            ],
            [
             0.3333333333333333,
             "#9c179e"
            ],
            [
             0.4444444444444444,
             "#bd3786"
            ],
            [
             0.5555555555555556,
             "#d8576b"
            ],
            [
             0.6666666666666666,
             "#ed7953"
            ],
            [
             0.7777777777777778,
             "#fb9f3a"
            ],
            [
             0.8888888888888888,
             "#fdca26"
            ],
            [
             1,
             "#f0f921"
            ]
           ],
           "sequentialminus": [
            [
             0,
             "#0d0887"
            ],
            [
             0.1111111111111111,
             "#46039f"
            ],
            [
             0.2222222222222222,
             "#7201a8"
            ],
            [
             0.3333333333333333,
             "#9c179e"
            ],
            [
             0.4444444444444444,
             "#bd3786"
            ],
            [
             0.5555555555555556,
             "#d8576b"
            ],
            [
             0.6666666666666666,
             "#ed7953"
            ],
            [
             0.7777777777777778,
             "#fb9f3a"
            ],
            [
             0.8888888888888888,
             "#fdca26"
            ],
            [
             1,
             "#f0f921"
            ]
           ]
          },
          "colorway": [
           "#636efa",
           "#EF553B",
           "#00cc96",
           "#ab63fa",
           "#FFA15A",
           "#19d3f3",
           "#FF6692",
           "#B6E880",
           "#FF97FF",
           "#FECB52"
          ],
          "font": {
           "color": "#2a3f5f"
          },
          "geo": {
           "bgcolor": "white",
           "lakecolor": "white",
           "landcolor": "#E5ECF6",
           "showlakes": true,
           "showland": true,
           "subunitcolor": "white"
          },
          "hoverlabel": {
           "align": "left"
          },
          "hovermode": "closest",
          "mapbox": {
           "style": "light"
          },
          "paper_bgcolor": "white",
          "plot_bgcolor": "#E5ECF6",
          "polar": {
           "angularaxis": {
            "gridcolor": "white",
            "linecolor": "white",
            "ticks": ""
           },
           "bgcolor": "#E5ECF6",
           "radialaxis": {
            "gridcolor": "white",
            "linecolor": "white",
            "ticks": ""
           }
          },
          "scene": {
           "xaxis": {
            "backgroundcolor": "#E5ECF6",
            "gridcolor": "white",
            "gridwidth": 2,
            "linecolor": "white",
            "showbackground": true,
            "ticks": "",
            "zerolinecolor": "white"
           },
           "yaxis": {
            "backgroundcolor": "#E5ECF6",
            "gridcolor": "white",
            "gridwidth": 2,
            "linecolor": "white",
            "showbackground": true,
            "ticks": "",
            "zerolinecolor": "white"
           },
           "zaxis": {
            "backgroundcolor": "#E5ECF6",
            "gridcolor": "white",
            "gridwidth": 2,
            "linecolor": "white",
            "showbackground": true,
            "ticks": "",
            "zerolinecolor": "white"
           }
          },
          "shapedefaults": {
           "line": {
            "color": "#2a3f5f"
           }
          },
          "ternary": {
           "aaxis": {
            "gridcolor": "white",
            "linecolor": "white",
            "ticks": ""
           },
           "baxis": {
            "gridcolor": "white",
            "linecolor": "white",
            "ticks": ""
           },
           "bgcolor": "#E5ECF6",
           "caxis": {
            "gridcolor": "white",
            "linecolor": "white",
            "ticks": ""
           }
          },
          "title": {
           "x": 0.05
          },
          "xaxis": {
           "automargin": true,
           "gridcolor": "white",
           "linecolor": "white",
           "ticks": "",
           "title": {
            "standoff": 15
           },
           "zerolinecolor": "white",
           "zerolinewidth": 2
          },
          "yaxis": {
           "automargin": true,
           "gridcolor": "white",
           "linecolor": "white",
           "ticks": "",
           "title": {
            "standoff": 15
           },
           "zerolinecolor": "white",
           "zerolinewidth": 2
          }
         }
        },
        "title": {
         "text": "Hyperparameter Importances"
        },
        "xaxis": {
         "title": {
          "text": "Hyperparameter Importance"
         }
        },
        "yaxis": {
         "title": {
          "text": "Hyperparameter"
         }
        }
       }
      }
     },
     "metadata": {},
     "output_type": "display_data"
    }
   ],
   "source": [
    "target = lambda t: (t.user_attrs[\"test_loss_mean\"])\n",
    "target_name = \"target\"\n",
    "fig = optuna.visualization.plot_param_importances(study, target=target, target_name=target_name)\n",
    "print(fig._data[0][\"x\"][::-1])\n",
    "print(fig._data[0][\"y\"][::-1])\n",
    "take = 7\n",
    "params = fig._data[0][\"y\"][-take:]\n",
    "not_imp = list(set([col.replace(\"params_\", \"\") for col in col_params]) - set(params) - {\"duration\", \"value\", \"system_attrs_fixed_params\"})\n",
    "fig"
   ]
  },
  {
   "cell_type": "code",
   "execution_count": 47,
   "metadata": {},
   "outputs": [
    {
     "data": {
      "text/plain": [
       "['optimizer.params.weight_decay',\n",
       " 'model.autoencoder.params.d_token',\n",
       " 'model.autoencoder.params.num_layers',\n",
       " 'model.autoencoder.params.factor',\n",
       " 'schedulers.step.StepLR.step_size',\n",
       " 'schedulers.beta.BetaScheduler.init_beta',\n",
       " 'data_conf.train_transforms.1.TimeToDiff.disable']"
      ]
     },
     "execution_count": 47,
     "metadata": {},
     "output_type": "execute_result"
    }
   ],
   "source": [
    "params"
   ]
  },
  {
   "cell_type": "code",
   "execution_count": 30,
   "metadata": {},
   "outputs": [
    {
     "data": {
      "application/vnd.plotly.v1+json": {
       "config": {
        "plotlyServerURL": "https://plot.ly"
       },
       "data": [
        {
         "marker": {
          "color": [
           0,
           1,
           2,
           3,
           4,
           5,
           6,
           7,
           8,
           9,
           10,
           11,
           12,
           13,
           14,
           15,
           16,
           17,
           18,
           19
          ],
          "colorbar": {
           "title": {
            "text": "Trial"
           },
           "x": 1,
           "xpad": 40
          },
          "colorscale": [
           [
            0,
            "rgb(247,251,255)"
           ],
           [
            0.125,
            "rgb(222,235,247)"
           ],
           [
            0.25,
            "rgb(198,219,239)"
           ],
           [
            0.375,
            "rgb(158,202,225)"
           ],
           [
            0.5,
            "rgb(107,174,214)"
           ],
           [
            0.625,
            "rgb(66,146,198)"
           ],
           [
            0.75,
            "rgb(33,113,181)"
           ],
           [
            0.875,
            "rgb(8,81,156)"
           ],
           [
            1,
            "rgb(8,48,107)"
           ]
          ],
          "line": {
           "color": "Grey",
           "width": 0.5
          },
          "showscale": true
         },
         "mode": "markers",
         "name": "Feasible Trial",
         "showlegend": false,
         "type": "scatter",
         "x": [
          false,
          true,
          true,
          true,
          true,
          true,
          true,
          true,
          true,
          true,
          true,
          false,
          true,
          true,
          true,
          true,
          true,
          true,
          true,
          true
         ],
         "xaxis": "x",
         "y": [
          -0.9404133762799057,
          -0.3742540475784564,
          -0.1453266583529173,
          -0.15146924277731016,
          -0.13955720703975827,
          -0.10757626594939068,
          -0.12024899137516816,
          -0.16380648000859746,
          -0.08091736321940142,
          -0.0861791070623725,
          -0.22255163197862168,
          -0.08316067876476868,
          -0.07082726695008722,
          -0.1003233931922153,
          -0.0719606095888451,
          -0.05365806773268417,
          -0.0657486140581907,
          -0.07186271910391309,
          -0.06444010231415649,
          -0.10818562976098345
         ],
         "yaxis": "y"
        },
        {
         "marker": {
          "color": [
           0,
           1,
           2,
           3,
           4,
           5,
           6,
           7,
           8,
           9,
           10,
           11,
           12,
           13,
           14,
           15,
           16,
           17,
           18,
           19
          ],
          "colorbar": {
           "title": {
            "text": "Trial"
           },
           "x": 1,
           "xpad": 40
          },
          "colorscale": [
           [
            0,
            "rgb(247,251,255)"
           ],
           [
            0.125,
            "rgb(222,235,247)"
           ],
           [
            0.25,
            "rgb(198,219,239)"
           ],
           [
            0.375,
            "rgb(158,202,225)"
           ],
           [
            0.5,
            "rgb(107,174,214)"
           ],
           [
            0.625,
            "rgb(66,146,198)"
           ],
           [
            0.75,
            "rgb(33,113,181)"
           ],
           [
            0.875,
            "rgb(8,81,156)"
           ],
           [
            1,
            "rgb(8,48,107)"
           ]
          ],
          "line": {
           "color": "Grey",
           "width": 0.5
          },
          "showscale": false
         },
         "mode": "markers",
         "name": "Feasible Trial",
         "showlegend": false,
         "type": "scatter",
         "x": [
          64,
          120,
          80,
          88,
          32,
          32,
          48,
          96,
          80,
          112,
          16,
          72,
          64,
          72,
          96,
          104,
          56,
          48,
          72,
          64
         ],
         "xaxis": "x2",
         "y": [
          -0.9404133762799057,
          -0.3742540475784564,
          -0.1453266583529173,
          -0.15146924277731016,
          -0.13955720703975827,
          -0.10757626594939068,
          -0.12024899137516816,
          -0.16380648000859746,
          -0.08091736321940142,
          -0.0861791070623725,
          -0.22255163197862168,
          -0.08316067876476868,
          -0.07082726695008722,
          -0.1003233931922153,
          -0.0719606095888451,
          -0.05365806773268417,
          -0.0657486140581907,
          -0.07186271910391309,
          -0.06444010231415649,
          -0.10818562976098345
         ],
         "yaxis": "y2"
        },
        {
         "marker": {
          "color": [
           0,
           1,
           2,
           3,
           4,
           5,
           6,
           7,
           8,
           9,
           10,
           11,
           12,
           13,
           14,
           15,
           16,
           17,
           18,
           19
          ],
          "colorbar": {
           "title": {
            "text": "Trial"
           },
           "x": 1,
           "xpad": 40
          },
          "colorscale": [
           [
            0,
            "rgb(247,251,255)"
           ],
           [
            0.125,
            "rgb(222,235,247)"
           ],
           [
            0.25,
            "rgb(198,219,239)"
           ],
           [
            0.375,
            "rgb(158,202,225)"
           ],
           [
            0.5,
            "rgb(107,174,214)"
           ],
           [
            0.625,
            "rgb(66,146,198)"
           ],
           [
            0.75,
            "rgb(33,113,181)"
           ],
           [
            0.875,
            "rgb(8,81,156)"
           ],
           [
            1,
            "rgb(8,48,107)"
           ]
          ],
          "line": {
           "color": "Grey",
           "width": 0.5
          },
          "showscale": false
         },
         "mode": "markers",
         "name": "Feasible Trial",
         "showlegend": false,
         "type": "scatter",
         "x": [
          2,
          5,
          10,
          4,
          2,
          2,
          35,
          27,
          1,
          31,
          6,
          3,
          7,
          4,
          5,
          18,
          1,
          3,
          4,
          10
         ],
         "xaxis": "x3",
         "y": [
          -0.9404133762799057,
          -0.3742540475784564,
          -0.1453266583529173,
          -0.15146924277731016,
          -0.13955720703975827,
          -0.10757626594939068,
          -0.12024899137516816,
          -0.16380648000859746,
          -0.08091736321940142,
          -0.0861791070623725,
          -0.22255163197862168,
          -0.08316067876476868,
          -0.07082726695008722,
          -0.1003233931922153,
          -0.0719606095888451,
          -0.05365806773268417,
          -0.0657486140581907,
          -0.07186271910391309,
          -0.06444010231415649,
          -0.10818562976098345
         ],
         "yaxis": "y3"
        },
        {
         "marker": {
          "color": [
           0,
           1,
           2,
           3,
           4,
           5,
           6,
           7,
           8,
           9,
           10,
           11,
           12,
           13,
           14,
           15,
           16,
           17,
           18,
           19
          ],
          "colorbar": {
           "title": {
            "text": "Trial"
           },
           "x": 1,
           "xpad": 40
          },
          "colorscale": [
           [
            0,
            "rgb(247,251,255)"
           ],
           [
            0.125,
            "rgb(222,235,247)"
           ],
           [
            0.25,
            "rgb(198,219,239)"
           ],
           [
            0.375,
            "rgb(158,202,225)"
           ],
           [
            0.5,
            "rgb(107,174,214)"
           ],
           [
            0.625,
            "rgb(66,146,198)"
           ],
           [
            0.75,
            "rgb(33,113,181)"
           ],
           [
            0.875,
            "rgb(8,81,156)"
           ],
           [
            1,
            "rgb(8,48,107)"
           ]
          ],
          "line": {
           "color": "Grey",
           "width": 0.5
          },
          "showscale": false
         },
         "mode": "markers",
         "name": "Feasible Trial",
         "showlegend": false,
         "type": "scatter",
         "x": [
          1,
          2,
          8,
          4,
          8,
          4,
          4,
          1,
          1,
          1,
          4,
          1,
          4,
          2,
          8,
          1,
          4,
          4,
          1,
          4
         ],
         "xaxis": "x4",
         "y": [
          -0.9404133762799057,
          -0.3742540475784564,
          -0.1453266583529173,
          -0.15146924277731016,
          -0.13955720703975827,
          -0.10757626594939068,
          -0.12024899137516816,
          -0.16380648000859746,
          -0.08091736321940142,
          -0.0861791070623725,
          -0.22255163197862168,
          -0.08316067876476868,
          -0.07082726695008722,
          -0.1003233931922153,
          -0.0719606095888451,
          -0.05365806773268417,
          -0.0657486140581907,
          -0.07186271910391309,
          -0.06444010231415649,
          -0.10818562976098345
         ],
         "yaxis": "y4"
        },
        {
         "marker": {
          "color": [
           0,
           1,
           2,
           3,
           4,
           5,
           6,
           7,
           8,
           9,
           10,
           11,
           12,
           13,
           14,
           15,
           16,
           17,
           18,
           19
          ],
          "colorbar": {
           "title": {
            "text": "Trial"
           },
           "x": 1,
           "xpad": 40
          },
          "colorscale": [
           [
            0,
            "rgb(247,251,255)"
           ],
           [
            0.125,
            "rgb(222,235,247)"
           ],
           [
            0.25,
            "rgb(198,219,239)"
           ],
           [
            0.375,
            "rgb(158,202,225)"
           ],
           [
            0.5,
            "rgb(107,174,214)"
           ],
           [
            0.625,
            "rgb(66,146,198)"
           ],
           [
            0.75,
            "rgb(33,113,181)"
           ],
           [
            0.875,
            "rgb(8,81,156)"
           ],
           [
            1,
            "rgb(8,48,107)"
           ]
          ],
          "line": {
           "color": "Grey",
           "width": 0.5
          },
          "showscale": false
         },
         "mode": "markers",
         "name": "Feasible Trial",
         "showlegend": false,
         "type": "scatter",
         "x": [
          9,
          6,
          4,
          6,
          7,
          9,
          8,
          3,
          3,
          1,
          8,
          2,
          6,
          3,
          4,
          2,
          3,
          2,
          1,
          8
         ],
         "xaxis": "x5",
         "y": [
          -0.9404133762799057,
          -0.3742540475784564,
          -0.1453266583529173,
          -0.15146924277731016,
          -0.13955720703975827,
          -0.10757626594939068,
          -0.12024899137516816,
          -0.16380648000859746,
          -0.08091736321940142,
          -0.0861791070623725,
          -0.22255163197862168,
          -0.08316067876476868,
          -0.07082726695008722,
          -0.1003233931922153,
          -0.0719606095888451,
          -0.05365806773268417,
          -0.0657486140581907,
          -0.07186271910391309,
          -0.06444010231415649,
          -0.10818562976098345
         ],
         "yaxis": "y5"
        },
        {
         "marker": {
          "color": [
           0,
           1,
           2,
           3,
           4,
           5,
           6,
           7,
           8,
           9,
           10,
           11,
           12,
           13,
           14,
           15,
           16,
           17,
           18,
           19
          ],
          "colorbar": {
           "title": {
            "text": "Trial"
           },
           "x": 1,
           "xpad": 40
          },
          "colorscale": [
           [
            0,
            "rgb(247,251,255)"
           ],
           [
            0.125,
            "rgb(222,235,247)"
           ],
           [
            0.25,
            "rgb(198,219,239)"
           ],
           [
            0.375,
            "rgb(158,202,225)"
           ],
           [
            0.5,
            "rgb(107,174,214)"
           ],
           [
            0.625,
            "rgb(66,146,198)"
           ],
           [
            0.75,
            "rgb(33,113,181)"
           ],
           [
            0.875,
            "rgb(8,81,156)"
           ],
           [
            1,
            "rgb(8,48,107)"
           ]
          ],
          "line": {
           "color": "Grey",
           "width": 0.5
          },
          "showscale": false
         },
         "mode": "markers",
         "name": "Feasible Trial",
         "showlegend": false,
         "type": "scatter",
         "x": [
          0.00003410610385929583,
          0.007074112826575541,
          0.000011173442395209063,
          0.00027127515819849106,
          0.00009718367710936175,
          0.005128042190602505,
          0.0007525329423059886,
          0.00021711510520732322,
          0.00006294019924995545,
          0.00290461912197503,
          0.003982118257742854,
          0.005081739308188706,
          0.00003651261393957871,
          0.00003804739468254776,
          0.00007050219831194881,
          0.0003562638946421054,
          0.00025117565408250644,
          0.00008044952611041198,
          0.0011903696539363319,
          0.0012753976600284236
         ],
         "xaxis": "x6",
         "y": [
          -0.9404133762799057,
          -0.3742540475784564,
          -0.1453266583529173,
          -0.15146924277731016,
          -0.13955720703975827,
          -0.10757626594939068,
          -0.12024899137516816,
          -0.16380648000859746,
          -0.08091736321940142,
          -0.0861791070623725,
          -0.22255163197862168,
          -0.08316067876476868,
          -0.07082726695008722,
          -0.1003233931922153,
          -0.0719606095888451,
          -0.05365806773268417,
          -0.0657486140581907,
          -0.07186271910391309,
          -0.06444010231415649,
          -0.10818562976098345
         ],
         "yaxis": "y6"
        },
        {
         "marker": {
          "color": [
           0,
           1,
           2,
           3,
           4,
           5,
           6,
           7,
           8,
           9,
           10,
           11,
           12,
           13,
           14,
           15,
           16,
           17,
           18,
           19
          ],
          "colorbar": {
           "title": {
            "text": "Trial"
           },
           "x": 1,
           "xpad": 40
          },
          "colorscale": [
           [
            0,
            "rgb(247,251,255)"
           ],
           [
            0.125,
            "rgb(222,235,247)"
           ],
           [
            0.25,
            "rgb(198,219,239)"
           ],
           [
            0.375,
            "rgb(158,202,225)"
           ],
           [
            0.5,
            "rgb(107,174,214)"
           ],
           [
            0.625,
            "rgb(66,146,198)"
           ],
           [
            0.75,
            "rgb(33,113,181)"
           ],
           [
            0.875,
            "rgb(8,81,156)"
           ],
           [
            1,
            "rgb(8,48,107)"
           ]
          ],
          "line": {
           "color": "Grey",
           "width": 0.5
          },
          "showscale": false
         },
         "mode": "markers",
         "name": "Feasible Trial",
         "showlegend": false,
         "type": "scatter",
         "x": [
          2.63804322094916e-14,
          4.4377631459179385e-9,
          2.0128632905432207e-11,
          4.87567481596198e-15,
          0.004892609075719895,
          3.793117483732299e-13,
          1.260485885854298e-15,
          1.5706237265850723e-9,
          0.0036981146039367853,
          0.000013637268633835473,
          1.0123332982600118e-8,
          0.0018705049518172746,
          0.000016387155966395832,
          1.5841382398336732e-10,
          7.2957746527059664e-9,
          0.002709449910563415,
          2.530944635963777e-7,
          0.000005061513358425177,
          0.00001532374928167956,
          7.072885716351395e-15
         ],
         "xaxis": "x7",
         "y": [
          -0.9404133762799057,
          -0.3742540475784564,
          -0.1453266583529173,
          -0.15146924277731016,
          -0.13955720703975827,
          -0.10757626594939068,
          -0.12024899137516816,
          -0.16380648000859746,
          -0.08091736321940142,
          -0.0861791070623725,
          -0.22255163197862168,
          -0.08316067876476868,
          -0.07082726695008722,
          -0.1003233931922153,
          -0.0719606095888451,
          -0.05365806773268417,
          -0.0657486140581907,
          -0.07186271910391309,
          -0.06444010231415649,
          -0.10818562976098345
         ],
         "yaxis": "y7"
        },
        {
         "marker": {
          "color": [
           0,
           1,
           2,
           3,
           4,
           5,
           6,
           7,
           8,
           9,
           10,
           11,
           12,
           13,
           14,
           15,
           16,
           17,
           18,
           19
          ],
          "colorbar": {
           "title": {
            "text": "Trial"
           },
           "x": 1,
           "xpad": 40
          },
          "colorscale": [
           [
            0,
            "rgb(247,251,255)"
           ],
           [
            0.125,
            "rgb(222,235,247)"
           ],
           [
            0.25,
            "rgb(198,219,239)"
           ],
           [
            0.375,
            "rgb(158,202,225)"
           ],
           [
            0.5,
            "rgb(107,174,214)"
           ],
           [
            0.625,
            "rgb(66,146,198)"
           ],
           [
            0.75,
            "rgb(33,113,181)"
           ],
           [
            0.875,
            "rgb(8,81,156)"
           ],
           [
            1,
            "rgb(8,48,107)"
           ]
          ],
          "line": {
           "color": "Grey",
           "width": 0.5
          },
          "showscale": false
         },
         "mode": "markers",
         "name": "Feasible Trial",
         "showlegend": false,
         "type": "scatter",
         "x": [
          0.9,
          0.6,
          0.1,
          0.8,
          0.30000000000000004,
          0.5,
          0.8,
          0.4,
          0.6,
          0.9,
          0.8,
          0.5,
          0.30000000000000004,
          0.5,
          0.4,
          0.2,
          0.1,
          0.2,
          0.4,
          0.7000000000000001
         ],
         "xaxis": "x8",
         "y": [
          -0.9404133762799057,
          -0.3742540475784564,
          -0.1453266583529173,
          -0.15146924277731016,
          -0.13955720703975827,
          -0.10757626594939068,
          -0.12024899137516816,
          -0.16380648000859746,
          -0.08091736321940142,
          -0.0861791070623725,
          -0.22255163197862168,
          -0.08316067876476868,
          -0.07082726695008722,
          -0.1003233931922153,
          -0.0719606095888451,
          -0.05365806773268417,
          -0.0657486140581907,
          -0.07186271910391309,
          -0.06444010231415649,
          -0.10818562976098345
         ],
         "yaxis": "y8"
        },
        {
         "marker": {
          "color": [
           0,
           1,
           2,
           3,
           4,
           5,
           6,
           7,
           8,
           9,
           10,
           11,
           12,
           13,
           14,
           15,
           16,
           17,
           18,
           19
          ],
          "colorbar": {
           "title": {
            "text": "Trial"
           },
           "x": 1,
           "xpad": 40
          },
          "colorscale": [
           [
            0,
            "rgb(247,251,255)"
           ],
           [
            0.125,
            "rgb(222,235,247)"
           ],
           [
            0.25,
            "rgb(198,219,239)"
           ],
           [
            0.375,
            "rgb(158,202,225)"
           ],
           [
            0.5,
            "rgb(107,174,214)"
           ],
           [
            0.625,
            "rgb(66,146,198)"
           ],
           [
            0.75,
            "rgb(33,113,181)"
           ],
           [
            0.875,
            "rgb(8,81,156)"
           ],
           [
            1,
            "rgb(8,48,107)"
           ]
          ],
          "line": {
           "color": "Grey",
           "width": 0.5
          },
          "showscale": false
         },
         "mode": "markers",
         "name": "Feasible Trial",
         "showlegend": false,
         "type": "scatter",
         "x": [
          0.25834920338256806,
          0.6016817427476869,
          0.3100532275478384,
          0.013142524615462243,
          0.12300645792158946,
          0.001360698828845239,
          0.0038708069020625684,
          0.789881040103366,
          0.07834622291282228,
          0.11514667875679982,
          0.16358705095705836,
          0.13511738551311722,
          0.06674888079039482,
          0.001860329104286534,
          0.0013126672049250086,
          0.3483932565914656,
          0.45362794705606085,
          0.20173353793194693,
          0.1554347028815371,
          0.003161808097708105
         ],
         "xaxis": "x9",
         "y": [
          -0.9404133762799057,
          -0.3742540475784564,
          -0.1453266583529173,
          -0.15146924277731016,
          -0.13955720703975827,
          -0.10757626594939068,
          -0.12024899137516816,
          -0.16380648000859746,
          -0.08091736321940142,
          -0.0861791070623725,
          -0.22255163197862168,
          -0.08316067876476868,
          -0.07082726695008722,
          -0.1003233931922153,
          -0.0719606095888451,
          -0.05365806773268417,
          -0.0657486140581907,
          -0.07186271910391309,
          -0.06444010231415649,
          -0.10818562976098345
         ],
         "yaxis": "y9"
        },
        {
         "marker": {
          "color": [
           0,
           1,
           2,
           3,
           4,
           5,
           6,
           7,
           8,
           9,
           10,
           11,
           12,
           13,
           14,
           15,
           16,
           17,
           18,
           19
          ],
          "colorbar": {
           "title": {
            "text": "Trial"
           },
           "x": 1,
           "xpad": 40
          },
          "colorscale": [
           [
            0,
            "rgb(247,251,255)"
           ],
           [
            0.125,
            "rgb(222,235,247)"
           ],
           [
            0.25,
            "rgb(198,219,239)"
           ],
           [
            0.375,
            "rgb(158,202,225)"
           ],
           [
            0.5,
            "rgb(107,174,214)"
           ],
           [
            0.625,
            "rgb(66,146,198)"
           ],
           [
            0.75,
            "rgb(33,113,181)"
           ],
           [
            0.875,
            "rgb(8,81,156)"
           ],
           [
            1,
            "rgb(8,48,107)"
           ]
          ],
          "line": {
           "color": "Grey",
           "width": 0.5
          },
          "showscale": false
         },
         "mode": "markers",
         "name": "Feasible Trial",
         "showlegend": false,
         "type": "scatter",
         "x": [
          2,
          7,
          2,
          10,
          4,
          6,
          3,
          10,
          10,
          4,
          2,
          10,
          10,
          4,
          8,
          5,
          8,
          10,
          10,
          5
         ],
         "xaxis": "x10",
         "y": [
          -0.9404133762799057,
          -0.3742540475784564,
          -0.1453266583529173,
          -0.15146924277731016,
          -0.13955720703975827,
          -0.10757626594939068,
          -0.12024899137516816,
          -0.16380648000859746,
          -0.08091736321940142,
          -0.0861791070623725,
          -0.22255163197862168,
          -0.08316067876476868,
          -0.07082726695008722,
          -0.1003233931922153,
          -0.0719606095888451,
          -0.05365806773268417,
          -0.0657486140581907,
          -0.07186271910391309,
          -0.06444010231415649,
          -0.10818562976098345
         ],
         "yaxis": "y10"
        },
        {
         "marker": {
          "color": [
           0,
           1,
           2,
           3,
           4,
           5,
           6,
           7,
           8,
           9,
           10,
           11,
           12,
           13,
           14,
           15,
           16,
           17,
           18,
           19
          ],
          "colorbar": {
           "title": {
            "text": "Trial"
           },
           "x": 1,
           "xpad": 40
          },
          "colorscale": [
           [
            0,
            "rgb(247,251,255)"
           ],
           [
            0.125,
            "rgb(222,235,247)"
           ],
           [
            0.25,
            "rgb(198,219,239)"
           ],
           [
            0.375,
            "rgb(158,202,225)"
           ],
           [
            0.5,
            "rgb(107,174,214)"
           ],
           [
            0.625,
            "rgb(66,146,198)"
           ],
           [
            0.75,
            "rgb(33,113,181)"
           ],
           [
            0.875,
            "rgb(8,81,156)"
           ],
           [
            1,
            "rgb(8,48,107)"
           ]
          ],
          "line": {
           "color": "Grey",
           "width": 0.5
          },
          "showscale": false
         },
         "mode": "markers",
         "name": "Feasible Trial",
         "showlegend": false,
         "type": "scatter",
         "x": [
          20,
          10,
          10,
          50,
          30,
          30,
          50,
          50,
          30,
          40,
          50,
          50,
          40,
          50,
          10,
          30,
          20,
          40,
          40,
          50
         ],
         "xaxis": "x11",
         "y": [
          -0.9404133762799057,
          -0.3742540475784564,
          -0.1453266583529173,
          -0.15146924277731016,
          -0.13955720703975827,
          -0.10757626594939068,
          -0.12024899137516816,
          -0.16380648000859746,
          -0.08091736321940142,
          -0.0861791070623725,
          -0.22255163197862168,
          -0.08316067876476868,
          -0.07082726695008722,
          -0.1003233931922153,
          -0.0719606095888451,
          -0.05365806773268417,
          -0.0657486140581907,
          -0.07186271910391309,
          -0.06444010231415649,
          -0.10818562976098345
         ],
         "yaxis": "y11"
        }
       ],
       "layout": {
        "template": {
         "data": {
          "bar": [
           {
            "error_x": {
             "color": "#2a3f5f"
            },
            "error_y": {
             "color": "#2a3f5f"
            },
            "marker": {
             "line": {
              "color": "#E5ECF6",
              "width": 0.5
             },
             "pattern": {
              "fillmode": "overlay",
              "size": 10,
              "solidity": 0.2
             }
            },
            "type": "bar"
           }
          ],
          "barpolar": [
           {
            "marker": {
             "line": {
              "color": "#E5ECF6",
              "width": 0.5
             },
             "pattern": {
              "fillmode": "overlay",
              "size": 10,
              "solidity": 0.2
             }
            },
            "type": "barpolar"
           }
          ],
          "carpet": [
           {
            "aaxis": {
             "endlinecolor": "#2a3f5f",
             "gridcolor": "white",
             "linecolor": "white",
             "minorgridcolor": "white",
             "startlinecolor": "#2a3f5f"
            },
            "baxis": {
             "endlinecolor": "#2a3f5f",
             "gridcolor": "white",
             "linecolor": "white",
             "minorgridcolor": "white",
             "startlinecolor": "#2a3f5f"
            },
            "type": "carpet"
           }
          ],
          "choropleth": [
           {
            "colorbar": {
             "outlinewidth": 0,
             "ticks": ""
            },
            "type": "choropleth"
           }
          ],
          "contour": [
           {
            "colorbar": {
             "outlinewidth": 0,
             "ticks": ""
            },
            "colorscale": [
             [
              0,
              "#0d0887"
             ],
             [
              0.1111111111111111,
              "#46039f"
             ],
             [
              0.2222222222222222,
              "#7201a8"
             ],
             [
              0.3333333333333333,
              "#9c179e"
             ],
             [
              0.4444444444444444,
              "#bd3786"
             ],
             [
              0.5555555555555556,
              "#d8576b"
             ],
             [
              0.6666666666666666,
              "#ed7953"
             ],
             [
              0.7777777777777778,
              "#fb9f3a"
             ],
             [
              0.8888888888888888,
              "#fdca26"
             ],
             [
              1,
              "#f0f921"
             ]
            ],
            "type": "contour"
           }
          ],
          "contourcarpet": [
           {
            "colorbar": {
             "outlinewidth": 0,
             "ticks": ""
            },
            "type": "contourcarpet"
           }
          ],
          "heatmap": [
           {
            "colorbar": {
             "outlinewidth": 0,
             "ticks": ""
            },
            "colorscale": [
             [
              0,
              "#0d0887"
             ],
             [
              0.1111111111111111,
              "#46039f"
             ],
             [
              0.2222222222222222,
              "#7201a8"
             ],
             [
              0.3333333333333333,
              "#9c179e"
             ],
             [
              0.4444444444444444,
              "#bd3786"
             ],
             [
              0.5555555555555556,
              "#d8576b"
             ],
             [
              0.6666666666666666,
              "#ed7953"
             ],
             [
              0.7777777777777778,
              "#fb9f3a"
             ],
             [
              0.8888888888888888,
              "#fdca26"
             ],
             [
              1,
              "#f0f921"
             ]
            ],
            "type": "heatmap"
           }
          ],
          "histogram": [
           {
            "marker": {
             "pattern": {
              "fillmode": "overlay",
              "size": 10,
              "solidity": 0.2
             }
            },
            "type": "histogram"
           }
          ],
          "histogram2d": [
           {
            "colorbar": {
             "outlinewidth": 0,
             "ticks": ""
            },
            "colorscale": [
             [
              0,
              "#0d0887"
             ],
             [
              0.1111111111111111,
              "#46039f"
             ],
             [
              0.2222222222222222,
              "#7201a8"
             ],
             [
              0.3333333333333333,
              "#9c179e"
             ],
             [
              0.4444444444444444,
              "#bd3786"
             ],
             [
              0.5555555555555556,
              "#d8576b"
             ],
             [
              0.6666666666666666,
              "#ed7953"
             ],
             [
              0.7777777777777778,
              "#fb9f3a"
             ],
             [
              0.8888888888888888,
              "#fdca26"
             ],
             [
              1,
              "#f0f921"
             ]
            ],
            "type": "histogram2d"
           }
          ],
          "histogram2dcontour": [
           {
            "colorbar": {
             "outlinewidth": 0,
             "ticks": ""
            },
            "colorscale": [
             [
              0,
              "#0d0887"
             ],
             [
              0.1111111111111111,
              "#46039f"
             ],
             [
              0.2222222222222222,
              "#7201a8"
             ],
             [
              0.3333333333333333,
              "#9c179e"
             ],
             [
              0.4444444444444444,
              "#bd3786"
             ],
             [
              0.5555555555555556,
              "#d8576b"
             ],
             [
              0.6666666666666666,
              "#ed7953"
             ],
             [
              0.7777777777777778,
              "#fb9f3a"
             ],
             [
              0.8888888888888888,
              "#fdca26"
             ],
             [
              1,
              "#f0f921"
             ]
            ],
            "type": "histogram2dcontour"
           }
          ],
          "mesh3d": [
           {
            "colorbar": {
             "outlinewidth": 0,
             "ticks": ""
            },
            "type": "mesh3d"
           }
          ],
          "parcoords": [
           {
            "line": {
             "colorbar": {
              "outlinewidth": 0,
              "ticks": ""
             }
            },
            "type": "parcoords"
           }
          ],
          "pie": [
           {
            "automargin": true,
            "type": "pie"
           }
          ],
          "scatter": [
           {
            "fillpattern": {
             "fillmode": "overlay",
             "size": 10,
             "solidity": 0.2
            },
            "type": "scatter"
           }
          ],
          "scatter3d": [
           {
            "line": {
             "colorbar": {
              "outlinewidth": 0,
              "ticks": ""
             }
            },
            "marker": {
             "colorbar": {
              "outlinewidth": 0,
              "ticks": ""
             }
            },
            "type": "scatter3d"
           }
          ],
          "scattercarpet": [
           {
            "marker": {
             "colorbar": {
              "outlinewidth": 0,
              "ticks": ""
             }
            },
            "type": "scattercarpet"
           }
          ],
          "scattergeo": [
           {
            "marker": {
             "colorbar": {
              "outlinewidth": 0,
              "ticks": ""
             }
            },
            "type": "scattergeo"
           }
          ],
          "scattergl": [
           {
            "marker": {
             "colorbar": {
              "outlinewidth": 0,
              "ticks": ""
             }
            },
            "type": "scattergl"
           }
          ],
          "scattermap": [
           {
            "marker": {
             "colorbar": {
              "outlinewidth": 0,
              "ticks": ""
             }
            },
            "type": "scattermap"
           }
          ],
          "scattermapbox": [
           {
            "marker": {
             "colorbar": {
              "outlinewidth": 0,
              "ticks": ""
             }
            },
            "type": "scattermapbox"
           }
          ],
          "scatterpolar": [
           {
            "marker": {
             "colorbar": {
              "outlinewidth": 0,
              "ticks": ""
             }
            },
            "type": "scatterpolar"
           }
          ],
          "scatterpolargl": [
           {
            "marker": {
             "colorbar": {
              "outlinewidth": 0,
              "ticks": ""
             }
            },
            "type": "scatterpolargl"
           }
          ],
          "scatterternary": [
           {
            "marker": {
             "colorbar": {
              "outlinewidth": 0,
              "ticks": ""
             }
            },
            "type": "scatterternary"
           }
          ],
          "surface": [
           {
            "colorbar": {
             "outlinewidth": 0,
             "ticks": ""
            },
            "colorscale": [
             [
              0,
              "#0d0887"
             ],
             [
              0.1111111111111111,
              "#46039f"
             ],
             [
              0.2222222222222222,
              "#7201a8"
             ],
             [
              0.3333333333333333,
              "#9c179e"
             ],
             [
              0.4444444444444444,
              "#bd3786"
             ],
             [
              0.5555555555555556,
              "#d8576b"
             ],
             [
              0.6666666666666666,
              "#ed7953"
             ],
             [
              0.7777777777777778,
              "#fb9f3a"
             ],
             [
              0.8888888888888888,
              "#fdca26"
             ],
             [
              1,
              "#f0f921"
             ]
            ],
            "type": "surface"
           }
          ],
          "table": [
           {
            "cells": {
             "fill": {
              "color": "#EBF0F8"
             },
             "line": {
              "color": "white"
             }
            },
            "header": {
             "fill": {
              "color": "#C8D4E3"
             },
             "line": {
              "color": "white"
             }
            },
            "type": "table"
           }
          ]
         },
         "layout": {
          "annotationdefaults": {
           "arrowcolor": "#2a3f5f",
           "arrowhead": 0,
           "arrowwidth": 1
          },
          "autotypenumbers": "strict",
          "coloraxis": {
           "colorbar": {
            "outlinewidth": 0,
            "ticks": ""
           }
          },
          "colorscale": {
           "diverging": [
            [
             0,
             "#8e0152"
            ],
            [
             0.1,
             "#c51b7d"
            ],
            [
             0.2,
             "#de77ae"
            ],
            [
             0.3,
             "#f1b6da"
            ],
            [
             0.4,
             "#fde0ef"
            ],
            [
             0.5,
             "#f7f7f7"
            ],
            [
             0.6,
             "#e6f5d0"
            ],
            [
             0.7,
             "#b8e186"
            ],
            [
             0.8,
             "#7fbc41"
            ],
            [
             0.9,
             "#4d9221"
            ],
            [
             1,
             "#276419"
            ]
           ],
           "sequential": [
            [
             0,
             "#0d0887"
            ],
            [
             0.1111111111111111,
             "#46039f"
            ],
            [
             0.2222222222222222,
             "#7201a8"
            ],
            [
             0.3333333333333333,
             "#9c179e"
            ],
            [
             0.4444444444444444,
             "#bd3786"
            ],
            [
             0.5555555555555556,
             "#d8576b"
            ],
            [
             0.6666666666666666,
             "#ed7953"
            ],
            [
             0.7777777777777778,
             "#fb9f3a"
            ],
            [
             0.8888888888888888,
             "#fdca26"
            ],
            [
             1,
             "#f0f921"
            ]
           ],
           "sequentialminus": [
            [
             0,
             "#0d0887"
            ],
            [
             0.1111111111111111,
             "#46039f"
            ],
            [
             0.2222222222222222,
             "#7201a8"
            ],
            [
             0.3333333333333333,
             "#9c179e"
            ],
            [
             0.4444444444444444,
             "#bd3786"
            ],
            [
             0.5555555555555556,
             "#d8576b"
            ],
            [
             0.6666666666666666,
             "#ed7953"
            ],
            [
             0.7777777777777778,
             "#fb9f3a"
            ],
            [
             0.8888888888888888,
             "#fdca26"
            ],
            [
             1,
             "#f0f921"
            ]
           ]
          },
          "colorway": [
           "#636efa",
           "#EF553B",
           "#00cc96",
           "#ab63fa",
           "#FFA15A",
           "#19d3f3",
           "#FF6692",
           "#B6E880",
           "#FF97FF",
           "#FECB52"
          ],
          "font": {
           "color": "#2a3f5f"
          },
          "geo": {
           "bgcolor": "white",
           "lakecolor": "white",
           "landcolor": "#E5ECF6",
           "showlakes": true,
           "showland": true,
           "subunitcolor": "white"
          },
          "hoverlabel": {
           "align": "left"
          },
          "hovermode": "closest",
          "mapbox": {
           "style": "light"
          },
          "paper_bgcolor": "white",
          "plot_bgcolor": "#E5ECF6",
          "polar": {
           "angularaxis": {
            "gridcolor": "white",
            "linecolor": "white",
            "ticks": ""
           },
           "bgcolor": "#E5ECF6",
           "radialaxis": {
            "gridcolor": "white",
            "linecolor": "white",
            "ticks": ""
           }
          },
          "scene": {
           "xaxis": {
            "backgroundcolor": "#E5ECF6",
            "gridcolor": "white",
            "gridwidth": 2,
            "linecolor": "white",
            "showbackground": true,
            "ticks": "",
            "zerolinecolor": "white"
           },
           "yaxis": {
            "backgroundcolor": "#E5ECF6",
            "gridcolor": "white",
            "gridwidth": 2,
            "linecolor": "white",
            "showbackground": true,
            "ticks": "",
            "zerolinecolor": "white"
           },
           "zaxis": {
            "backgroundcolor": "#E5ECF6",
            "gridcolor": "white",
            "gridwidth": 2,
            "linecolor": "white",
            "showbackground": true,
            "ticks": "",
            "zerolinecolor": "white"
           }
          },
          "shapedefaults": {
           "line": {
            "color": "#2a3f5f"
           }
          },
          "ternary": {
           "aaxis": {
            "gridcolor": "white",
            "linecolor": "white",
            "ticks": ""
           },
           "baxis": {
            "gridcolor": "white",
            "linecolor": "white",
            "ticks": ""
           },
           "bgcolor": "#E5ECF6",
           "caxis": {
            "gridcolor": "white",
            "linecolor": "white",
            "ticks": ""
           }
          },
          "title": {
           "x": 0.05
          },
          "xaxis": {
           "automargin": true,
           "gridcolor": "white",
           "linecolor": "white",
           "ticks": "",
           "title": {
            "standoff": 15
           },
           "zerolinecolor": "white",
           "zerolinewidth": 2
          },
          "yaxis": {
           "automargin": true,
           "gridcolor": "white",
           "linecolor": "white",
           "ticks": "",
           "title": {
            "standoff": 15
           },
           "zerolinecolor": "white",
           "zerolinewidth": 2
          }
         }
        },
        "title": {
         "text": "Slice Plot"
        },
        "width": 3300,
        "xaxis": {
         "anchor": "y",
         "categoryarray": [
          true,
          false
         ],
         "categoryorder": "array",
         "domain": [
          0,
          0.07438016528925619
         ],
         "title": {
          "text": "data_conf.train_transforms.1.TimeToDiff.disable"
         },
         "type": "category"
        },
        "xaxis10": {
         "anchor": "y10",
         "domain": [
          0.8330578512396694,
          0.9074380165289255
         ],
         "title": {
          "text": "schedulers.beta.BetaScheduler.patience"
         }
        },
        "xaxis11": {
         "anchor": "y11",
         "domain": [
          0.9256198347107437,
          0.9999999999999999
         ],
         "title": {
          "text": "schedulers.step.StepLR.step_size"
         }
        },
        "xaxis2": {
         "anchor": "y2",
         "domain": [
          0.09256198347107437,
          0.16694214876033056
         ],
         "title": {
          "text": "model.autoencoder.params.d_token"
         }
        },
        "xaxis3": {
         "anchor": "y3",
         "domain": [
          0.18512396694214875,
          0.25950413223140495
         ],
         "title": {
          "text": "model.autoencoder.params.factor"
         },
         "type": "log"
        },
        "xaxis4": {
         "anchor": "y4",
         "categoryarray": [
          1,
          2,
          4,
          8
         ],
         "categoryorder": "array",
         "domain": [
          0.27768595041322314,
          0.3520661157024793
         ],
         "title": {
          "text": "model.autoencoder.params.n_head"
         },
         "type": "category"
        },
        "xaxis5": {
         "anchor": "y5",
         "domain": [
          0.3702479338842975,
          0.44462809917355367
         ],
         "title": {
          "text": "model.autoencoder.params.num_layers"
         }
        },
        "xaxis6": {
         "anchor": "y6",
         "domain": [
          0.46280991735537186,
          0.5371900826446281
         ],
         "title": {
          "text": "optimizer.params.lr"
         },
         "type": "log"
        },
        "xaxis7": {
         "anchor": "y7",
         "domain": [
          0.5553719008264462,
          0.6297520661157023
         ],
         "title": {
          "text": "optimizer.params.weight_decay"
         },
         "type": "log"
        },
        "xaxis8": {
         "anchor": "y8",
         "domain": [
          0.6479338842975206,
          0.7223140495867768
         ],
         "title": {
          "text": "schedulers.beta.BetaScheduler.factor"
         }
        },
        "xaxis9": {
         "anchor": "y9",
         "domain": [
          0.740495867768595,
          0.8148760330578512
         ],
         "title": {
          "text": "schedulers.beta.BetaScheduler.init_beta"
         },
         "type": "log"
        },
        "yaxis": {
         "anchor": "x",
         "domain": [
          0,
          1
         ],
         "title": {
          "text": "target"
         }
        },
        "yaxis10": {
         "anchor": "x10",
         "domain": [
          0,
          1
         ],
         "matches": "y",
         "showticklabels": false
        },
        "yaxis11": {
         "anchor": "x11",
         "domain": [
          0,
          1
         ],
         "matches": "y",
         "showticklabels": false
        },
        "yaxis2": {
         "anchor": "x2",
         "domain": [
          0,
          1
         ],
         "matches": "y",
         "showticklabels": false
        },
        "yaxis3": {
         "anchor": "x3",
         "domain": [
          0,
          1
         ],
         "matches": "y",
         "showticklabels": false
        },
        "yaxis4": {
         "anchor": "x4",
         "domain": [
          0,
          1
         ],
         "matches": "y",
         "showticklabels": false
        },
        "yaxis5": {
         "anchor": "x5",
         "domain": [
          0,
          1
         ],
         "matches": "y",
         "showticklabels": false
        },
        "yaxis6": {
         "anchor": "x6",
         "domain": [
          0,
          1
         ],
         "matches": "y",
         "showticklabels": false
        },
        "yaxis7": {
         "anchor": "x7",
         "domain": [
          0,
          1
         ],
         "matches": "y",
         "showticklabels": false
        },
        "yaxis8": {
         "anchor": "x8",
         "domain": [
          0,
          1
         ],
         "matches": "y",
         "showticklabels": false
        },
        "yaxis9": {
         "anchor": "x9",
         "domain": [
          0,
          1
         ],
         "matches": "y",
         "showticklabels": false
        }
       }
      }
     },
     "metadata": {},
     "output_type": "display_data"
    }
   ],
   "source": [
    "# fig = optuna.visualization.plot_parallel_coordinate(plotted_study, target=target, target_name=target_name, params=['model.encoder.params.pooling', 'pretrain_model.encoder.params.pooling',])\n",
    "# fig = optuna.visualization.plot_contour(study, target=target, target_name=target_name, params=params+not_imp)\n",
    "fig = optuna.visualization.plot_slice(study, target=target, target_name=target_name)#, params=[\"model.encoder.params.num_layers\"] )\n",
    "# fig = optuna.visualization.plot_optimization_history(study, target=target, target_name=target_name, error_bar=False)\n",
    "# targets = lambda t: (t.params[\"schedulers.beta.BetaScheduler.factor\"], t.user_attrs[\"test_Reconstruction overall_mean\"])\n",
    "# target_names = [\"memory_after_mean\", \"test_Reconstruction overall_mean\"]\n",
    "# fig = optuna.visualization.plot_pareto_front(study, targets=targets, target_names=target_names)\n",
    "fig"
   ]
  },
  {
   "cell_type": "code",
   "execution_count": 48,
   "metadata": {},
   "outputs": [
    {
     "data": {
      "application/vnd.plotly.v1+json": {
       "config": {
        "plotlyServerURL": "https://plot.ly"
       },
       "data": [
        {
         "hovertemplate": "%{text}<extra>Trial</extra>",
         "marker": {
          "color": [
           1,
           2,
           3,
           4,
           5,
           6,
           7,
           8,
           9,
           10,
           11,
           12,
           13,
           14,
           15,
           16,
           17,
           18,
           19,
           20,
           21,
           22,
           23,
           24,
           25,
           26,
           27,
           28,
           29,
           30,
           31,
           32
          ],
          "colorbar": {
           "title": {
            "text": "Trial"
           }
          },
          "colorscale": [
           [
            0,
            "rgb(247,251,255)"
           ],
           [
            0.125,
            "rgb(222,235,247)"
           ],
           [
            0.25,
            "rgb(198,219,239)"
           ],
           [
            0.375,
            "rgb(158,202,225)"
           ],
           [
            0.5,
            "rgb(107,174,214)"
           ],
           [
            0.625,
            "rgb(66,146,198)"
           ],
           [
            0.75,
            "rgb(33,113,181)"
           ],
           [
            0.875,
            "rgb(8,81,156)"
           ],
           [
            1,
            "rgb(8,48,107)"
           ]
          ],
          "line": {
           "color": "Grey",
           "width": 0.5
          }
         },
         "mode": "markers",
         "showlegend": false,
         "text": [
          "{<br>  \"number\": 1,<br>  \"values\": [<br>    -4.683615318934122<br>  ],<br>  \"params\": {<br>    \"optimizer.params.weight_decay\": 1.207326459311756e-08,<br>    \"optimizer.params.lr\": 3.766445103018004e-05,<br>    \"model.autoencoder.params.d_token\": 80,<br>    \"model.autoencoder.params.num_layers\": 1,<br>    \"model.autoencoder.params.n_head\": 1,<br>    \"model.autoencoder.params.factor\": 36,<br>    \"data_conf.train_transforms.1.TimeToDiff.disable\": false,<br>    \"schedulers.step.StepLR.step_size\": 40,<br>    \"schedulers.beta.BetaScheduler.init_beta\": 0.6608276859310325,<br>    \"schedulers.beta.BetaScheduler.factor\": 0.2,<br>    \"schedulers.beta.BetaScheduler.patience\": 5<br>  },<br>  \"user_attrs\": {<br>    \"train_Reconstruction overall_mean\": -57.86401088007587,<br>    \"train_Reconstruction overall_std\": 0.0,<br>    \"train_Reconstruction trans_date_mean\": -234.30228575245383,<br>    \"train_Reconstruction trans_date_std\": 0.0,<br>    \"train_Reconstruction age_mean\": 0.9999214566714021,<br>    \"train_Reconstruction age_std\": 0.0,<br>    \"train_Reconstruction small_group_mean\": 0.9499166757731395,<br>    \"train_Reconstruction small_group_std\": 0.0,<br>    \"train_Reconstruction amount_rur_mean\": 0.8964040997057904,<br>    \"train_Reconstruction amount_rur_std\": 0.0,<br>    \"loss_mean\": -4.683615318934122,<br>    \"loss_std\": 0.0,<br>    \"kl_loss_mean\": -0.814684247970581,<br>    \"kl_loss_std\": 0.0,<br>    \"Reconstruction overall_mean\": -58.478641012756,<br>    \"Reconstruction overall_std\": 0.0,<br>    \"Reconstruction trans_date_mean\": -236.76355350914076,<br>    \"Reconstruction trans_date_std\": 0.0,<br>    \"Reconstruction age_mean\": 0.9999331244267808,<br>    \"Reconstruction age_std\": 0.0,<br>    \"Reconstruction small_group_mean\": 0.9497859981656985,<br>    \"Reconstruction small_group_std\": 0.0,<br>    \"Reconstruction amount_rur_mean\": 0.8992703355242639,<br>    \"Reconstruction amount_rur_std\": 0.0,<br>    \"test_loss_mean\": -4.692121545473735,<br>    \"test_loss_std\": 0.0,<br>    \"test_kl_loss_mean\": -0.8146026904384295,<br>    \"test_kl_loss_std\": 0.0,<br>    \"test_Reconstruction overall_mean\": -58.244929877432895,<br>    \"test_Reconstruction overall_std\": 0.0,<br>    \"test_Reconstruction trans_date_mean\": -235.83183623035185,<br>    \"test_Reconstruction trans_date_std\": 0.0,<br>    \"test_Reconstruction age_mean\": 0.9999432849364791,<br>    \"test_Reconstruction age_std\": 0.0,<br>    \"test_Reconstruction small_group_mean\": 0.9509981851179673,<br>    \"test_Reconstruction small_group_std\": 0.0,<br>    \"test_Reconstruction amount_rur_mean\": 0.9011752505658368,<br>    \"test_Reconstruction amount_rur_std\": 0.0,<br>    \"memory_after_mean\": 80290.0,<br>    \"memory_after_std\": 0.0<br>  }<br>}",
          "{<br>  \"number\": 2,<br>  \"values\": [<br>    -1.8335959752400717<br>  ],<br>  \"params\": {<br>    \"optimizer.params.weight_decay\": 9.74664592449653e-11,<br>    \"optimizer.params.lr\": 0.00032031768650725597,<br>    \"model.autoencoder.params.d_token\": 40,<br>    \"model.autoencoder.params.num_layers\": 7,<br>    \"model.autoencoder.params.n_head\": 4,<br>    \"model.autoencoder.params.factor\": 15,<br>    \"data_conf.train_transforms.1.TimeToDiff.disable\": false,<br>    \"schedulers.step.StepLR.step_size\": 50,<br>    \"schedulers.beta.BetaScheduler.init_beta\": 0.8953839645755994,<br>    \"schedulers.beta.BetaScheduler.factor\": 0.30000000000000004,<br>    \"schedulers.beta.BetaScheduler.patience\": 3<br>  },<br>  \"user_attrs\": {<br>    \"train_Reconstruction overall_mean\": -10.459576591250485,<br>    \"train_Reconstruction overall_std\": 0.0,<br>    \"train_Reconstruction trans_date_mean\": -44.81436625376378,<br>    \"train_Reconstruction trans_date_std\": 0.0,<br>    \"train_Reconstruction age_mean\": 1.0,<br>    \"train_Reconstruction age_std\": 0.0,<br>    \"train_Reconstruction small_group_mean\": 0.9982637944169342,<br>    \"train_Reconstruction small_group_std\": 0.0,<br>    \"train_Reconstruction amount_rur_mean\": 0.9777960943449037,<br>    \"train_Reconstruction amount_rur_std\": 0.0,<br>    \"loss_mean\": -1.8335959752400717,<br>    \"loss_std\": 0.0,<br>    \"kl_loss_mean\": -1.1384709199269614,<br>    \"kl_loss_std\": 0.0,<br>    \"Reconstruction overall_mean\": -10.500533927515708,<br>    \"Reconstruction overall_std\": 0.0,<br>    \"Reconstruction trans_date_mean\": -44.97972138860238,<br>    \"Reconstruction trans_date_std\": 0.0,<br>    \"Reconstruction age_mean\": 1.0,<br>    \"Reconstruction age_std\": 0.0,<br>    \"Reconstruction small_group_mean\": 0.99832811066952,<br>    \"Reconstruction small_group_std\": 0.0,<br>    \"Reconstruction amount_rur_mean\": 0.9792575678700318,<br>    \"Reconstruction amount_rur_std\": 0.0,<br>    \"test_loss_mean\": -1.8320843155185382,<br>    \"test_loss_std\": 0.0,<br>    \"test_kl_loss_mean\": -1.1387963468829791,<br>    \"test_kl_loss_std\": 0.0,<br>    \"test_Reconstruction overall_mean\": -10.492874605750734,<br>    \"test_Reconstruction overall_std\": 0.0,<br>    \"test_Reconstruction trans_date_mean\": -44.94908944777505,<br>    \"test_Reconstruction trans_date_std\": 0.0,<br>    \"test_Reconstruction age_mean\": 1.0,<br>    \"test_Reconstruction age_std\": 0.0,<br>    \"test_Reconstruction small_group_mean\": 0.9982758620689656,<br>    \"test_Reconstruction small_group_std\": 0.0,<br>    \"test_Reconstruction amount_rur_mean\": 0.9793151627031537,<br>    \"test_Reconstruction amount_rur_std\": 0.0,<br>    \"memory_after_mean\": 80240.0,<br>    \"memory_after_std\": 0.0<br>  }<br>}",
          "{<br>  \"number\": 3,<br>  \"values\": [<br>    -1.6930687348047893<br>  ],<br>  \"params\": {<br>    \"optimizer.params.weight_decay\": 0.0006791946477098604,<br>    \"optimizer.params.lr\": 0.0012986346264017936,<br>    \"model.autoencoder.params.d_token\": 32,<br>    \"model.autoencoder.params.num_layers\": 5,<br>    \"model.autoencoder.params.n_head\": 1,<br>    \"model.autoencoder.params.factor\": 4,<br>    \"data_conf.train_transforms.1.TimeToDiff.disable\": false,<br>    \"schedulers.step.StepLR.step_size\": 40,<br>    \"schedulers.beta.BetaScheduler.init_beta\": 0.026407249342723035,<br>    \"schedulers.beta.BetaScheduler.factor\": 0.30000000000000004,<br>    \"schedulers.beta.BetaScheduler.patience\": 9<br>  },<br>  \"user_attrs\": {<br>    \"train_Reconstruction overall_mean\": -7.3110503934407385,<br>    \"train_Reconstruction overall_std\": 0.0,<br>    \"train_Reconstruction trans_date_mean\": -32.209258772929054,<br>    \"train_Reconstruction trans_date_std\": 0.0,<br>    \"train_Reconstruction age_mean\": 1.0,<br>    \"train_Reconstruction age_std\": 0.0,<br>    \"train_Reconstruction small_group_mean\": 0.9862412577860343,<br>    \"train_Reconstruction small_group_std\": 0.0,<br>    \"train_Reconstruction amount_rur_mean\": 0.9788159413800649,<br>    \"train_Reconstruction amount_rur_std\": 0.0,<br>    \"loss_mean\": -1.6930687348047893,<br>    \"loss_std\": 0.0,<br>    \"kl_loss_mean\": -3.2799881140391034,<br>    \"kl_loss_std\": 0.0,<br>    \"Reconstruction overall_mean\": -7.220477696454521,<br>    \"Reconstruction overall_std\": 0.0,<br>    \"Reconstruction trans_date_mean\": -31.84793724182258,<br>    \"Reconstruction trans_date_std\": 0.0,<br>    \"Reconstruction age_mean\": 1.0,<br>    \"Reconstruction age_std\": 0.0,<br>    \"Reconstruction small_group_mean\": 0.9864433659431366,<br>    \"Reconstruction small_group_std\": 0.0,<br>    \"Reconstruction amount_rur_mean\": 0.9795830900613612,<br>    \"Reconstruction amount_rur_std\": 0.0,<br>    \"test_loss_mean\": -1.6994108060995738,<br>    \"test_loss_std\": 0.0,<br>    \"test_kl_loss_mean\": -3.2809866120417914,<br>    \"test_kl_loss_std\": 0.0,<br>    \"test_Reconstruction overall_mean\": -7.245120054796774,<br>    \"test_Reconstruction overall_std\": 0.0,<br>    \"test_Reconstruction trans_date_mean\": -31.947327784083473,<br>    \"test_Reconstruction trans_date_std\": 0.0,<br>    \"test_Reconstruction age_mean\": 1.0,<br>    \"test_Reconstruction age_std\": 0.0,<br>    \"test_Reconstruction small_group_mean\": 0.9865301724137931,<br>    \"test_Reconstruction small_group_std\": 0.0,<br>    \"test_Reconstruction amount_rur_mean\": 0.9803173924825834,<br>    \"test_Reconstruction amount_rur_std\": 0.0,<br>    \"memory_after_mean\": 22652.0,<br>    \"memory_after_std\": 0.0<br>  }<br>}",
          "{<br>  \"number\": 4,<br>  \"values\": [<br>    -1.379983139038086<br>  ],<br>  \"params\": {<br>    \"optimizer.params.weight_decay\": 2.9230003996230584e-11,<br>    \"optimizer.params.lr\": 0.000947347952957327,<br>    \"model.autoencoder.params.d_token\": 96,<br>    \"model.autoencoder.params.num_layers\": 4,<br>    \"model.autoencoder.params.n_head\": 8,<br>    \"model.autoencoder.params.factor\": 2,<br>    \"data_conf.train_transforms.1.TimeToDiff.disable\": false,<br>    \"schedulers.step.StepLR.step_size\": 40,<br>    \"schedulers.beta.BetaScheduler.init_beta\": 0.0026724325015791356,<br>    \"schedulers.beta.BetaScheduler.factor\": 0.1,<br>    \"schedulers.beta.BetaScheduler.patience\": 4<br>  },<br>  \"user_attrs\": {<br>    \"train_Reconstruction overall_mean\": -4.761040469597075,<br>    \"train_Reconstruction overall_std\": 0.0,<br>    \"train_Reconstruction trans_date_mean\": -22.01409282119739,<br>    \"train_Reconstruction trans_date_std\": 0.0,<br>    \"train_Reconstruction age_mean\": 1.0,<br>    \"train_Reconstruction age_std\": 0.0,<br>    \"train_Reconstruction small_group_mean\": 0.9975537260990358,<br>    \"train_Reconstruction small_group_std\": 0.0,<br>    \"train_Reconstruction amount_rur_mean\": 0.9723772167100524,<br>    \"train_Reconstruction amount_rur_std\": 0.0,<br>    \"loss_mean\": -1.379983139038086,<br>    \"loss_std\": 0.0,<br>    \"kl_loss_mean\": -4.187312507629395,<br>    \"kl_loss_std\": 0.0,<br>    \"Reconstruction overall_mean\": -4.6331037259787085,<br>    \"Reconstruction overall_std\": 0.0,<br>    \"Reconstruction trans_date_mean\": -21.503779471661016,<br>    \"Reconstruction trans_date_std\": 0.0,<br>    \"Reconstruction age_mean\": 1.0,<br>    \"Reconstruction age_std\": 0.0,<br>    \"Reconstruction small_group_mean\": 0.9975829257107918,<br>    \"Reconstruction small_group_std\": 0.0,<br>    \"Reconstruction amount_rur_mean\": 0.9737816420353911,<br>    \"Reconstruction amount_rur_std\": 0.0,<br>    \"test_loss_mean\": -1.402532622218132,<br>    \"test_loss_std\": 0.0,<br>    \"test_kl_loss_mean\": -4.1875352164109545,<br>    \"test_kl_loss_std\": 0.0,<br>    \"test_Reconstruction overall_mean\": -5.019330582296672,<br>    \"test_Reconstruction overall_std\": 0.0,<br>    \"test_Reconstruction trans_date_mean\": -23.049537088994377,<br>    \"test_Reconstruction trans_date_std\": 0.0,<br>    \"test_Reconstruction age_mean\": 1.0,<br>    \"test_Reconstruction age_std\": 0.0,<br>    \"test_Reconstruction small_group_mean\": 0.9975158802177858,<br>    \"test_Reconstruction small_group_std\": 0.0,<br>    \"test_Reconstruction amount_rur_mean\": 0.9746988795899022,<br>    \"test_Reconstruction amount_rur_std\": 0.0,<br>    \"memory_after_mean\": 69838.0,<br>    \"memory_after_std\": 0.0<br>  }<br>}",
          "{<br>  \"number\": 5,<br>  \"values\": [<br>    -1.1189143498738607<br>  ],<br>  \"params\": {<br>    \"optimizer.params.weight_decay\": 6.154864815204099e-15,<br>    \"optimizer.params.lr\": 0.006521072166522167,<br>    \"model.autoencoder.params.d_token\": 8,<br>    \"model.autoencoder.params.num_layers\": 10,<br>    \"model.autoencoder.params.n_head\": 4,<br>    \"model.autoencoder.params.factor\": 3,<br>    \"data_conf.train_transforms.1.TimeToDiff.disable\": false,<br>    \"schedulers.step.StepLR.step_size\": 40,<br>    \"schedulers.beta.BetaScheduler.init_beta\": 0.4081948233015203,<br>    \"schedulers.beta.BetaScheduler.factor\": 0.7000000000000001,<br>    \"schedulers.beta.BetaScheduler.patience\": 5<br>  },<br>  \"user_attrs\": {<br>    \"train_Reconstruction overall_mean\": 0.5466152680140662,<br>    \"train_Reconstruction overall_std\": 0.0,<br>    \"train_Reconstruction trans_date_mean\": -0.6507076254698287,<br>    \"train_Reconstruction trans_date_std\": 0.0,<br>    \"train_Reconstruction age_mean\": 0.9975433781869688,<br>    \"train_Reconstruction age_std\": 0.0,<br>    \"train_Reconstruction small_group_mean\": 0.9247333977990848,<br>    \"train_Reconstruction small_group_std\": 0.0,<br>    \"train_Reconstruction amount_rur_mean\": 0.9148919215400402,<br>    \"train_Reconstruction amount_rur_std\": 0.0,<br>    \"loss_mean\": -1.1189143498738607,<br>    \"loss_std\": 0.0,<br>    \"kl_loss_mean\": -0.9361980656782786,<br>    \"kl_loss_std\": 0.0,<br>    \"Reconstruction overall_mean\": 0.5465194331634747,<br>    \"Reconstruction overall_std\": 0.0,<br>    \"Reconstruction trans_date_mean\": -0.6503507669565468,<br>    \"Reconstruction trans_date_std\": 0.0,<br>    \"Reconstruction age_mean\": 0.9975447110975237,<br>    \"Reconstruction age_std\": 0.0,<br>    \"Reconstruction small_group_mean\": 0.9242777438092327,<br>    \"Reconstruction small_group_std\": 0.0,<br>    \"Reconstruction amount_rur_mean\": 0.9146060447036892,<br>    \"Reconstruction amount_rur_std\": 0.0,<br>    \"test_loss_mean\": -1.1168753678599994,<br>    \"test_loss_std\": 0.0,<br>    \"test_kl_loss_mean\": -0.9364377545813719,<br>    \"test_kl_loss_std\": 0.0,<br>    \"test_Reconstruction overall_mean\": 0.5515665402821888,<br>    \"test_Reconstruction overall_std\": 0.0,<br>    \"test_Reconstruction trans_date_mean\": -0.6332787425581577,<br>    \"test_Reconstruction trans_date_std\": 0.0,<br>    \"test_Reconstruction age_mean\": 0.9975725952813067,<br>    \"test_Reconstruction age_std\": 0.0,<br>    \"test_Reconstruction small_group_mean\": 0.9248014972776769,<br>    \"test_Reconstruction small_group_std\": 0.0,<br>    \"test_Reconstruction amount_rur_mean\": 0.9171708111279293,<br>    \"test_Reconstruction amount_rur_std\": 0.0,<br>    \"memory_after_mean\": 9190.0,<br>    \"memory_after_std\": 0.0<br>  }<br>}",
          "{<br>  \"number\": 6,<br>  \"values\": [<br>    -0.42676708300908406<br>  ],<br>  \"params\": {<br>    \"optimizer.params.weight_decay\": 3.592449324479094e-06,<br>    \"optimizer.params.lr\": 0.001906803631049143,<br>    \"model.autoencoder.params.d_token\": 56,<br>    \"model.autoencoder.params.num_layers\": 5,<br>    \"model.autoencoder.params.n_head\": 1,<br>    \"model.autoencoder.params.factor\": 1,<br>    \"data_conf.train_transforms.1.TimeToDiff.disable\": false,<br>    \"schedulers.step.StepLR.step_size\": 10,<br>    \"schedulers.beta.BetaScheduler.init_beta\": 0.006414690584970744,<br>    \"schedulers.beta.BetaScheduler.factor\": 0.2,<br>    \"schedulers.beta.BetaScheduler.patience\": 10<br>  },<br>  \"user_attrs\": {<br>    \"train_Reconstruction overall_mean\": 0.7926521801104871,<br>    \"train_Reconstruction overall_std\": 0.0,<br>    \"train_Reconstruction trans_date_mean\": 0.19091078815839482,<br>    \"train_Reconstruction trans_date_std\": 0.0,<br>    \"train_Reconstruction age_mean\": 1.0,<br>    \"train_Reconstruction age_std\": 0.0,<br>    \"train_Reconstruction small_group_mean\": 0.9980625443431752,<br>    \"train_Reconstruction small_group_std\": 0.0,<br>    \"train_Reconstruction amount_rur_mean\": 0.9816353879403782,<br>    \"train_Reconstruction amount_rur_std\": 0.0,<br>    \"loss_mean\": -0.42676708300908406,<br>    \"loss_std\": 0.0,<br>    \"kl_loss_mean\": -5.420760011672973,<br>    \"kl_loss_std\": 0.0,<br>    \"Reconstruction overall_mean\": 0.7913897327817196,<br>    \"Reconstruction overall_std\": 0.0,<br>    \"Reconstruction trans_date_mean\": 0.18556250383233583,<br>    \"Reconstruction trans_date_std\": 0.0,<br>    \"Reconstruction age_mean\": 1.0,<br>    \"Reconstruction age_std\": 0.0,<br>    \"Reconstruction small_group_mean\": 0.9980415010700092,<br>    \"Reconstruction small_group_std\": 0.0,<br>    \"Reconstruction amount_rur_mean\": 0.9819549262245335,<br>    \"Reconstruction amount_rur_std\": 0.0,<br>    \"test_loss_mean\": -0.425386106595397,<br>    \"test_loss_std\": 0.0,<br>    \"test_kl_loss_mean\": -5.420861780643463,<br>    \"test_kl_loss_std\": 0.0,<br>    \"test_Reconstruction overall_mean\": 0.7917895030814128,<br>    \"test_Reconstruction overall_std\": 0.0,<br>    \"test_Reconstruction trans_date_mean\": 0.18631607864916877,<br>    \"test_Reconstruction trans_date_std\": 0.0,<br>    \"test_Reconstruction age_mean\": 1.0,<br>    \"test_Reconstruction age_std\": 0.0,<br>    \"test_Reconstruction small_group_mean\": 0.9981624319419238,<br>    \"test_Reconstruction small_group_std\": 0.0,<br>    \"test_Reconstruction amount_rur_mean\": 0.9826795017345591,<br>    \"test_Reconstruction amount_rur_std\": 0.0,<br>    \"memory_after_mean\": 37730.0,<br>    \"memory_after_std\": 0.0<br>  }<br>}",
          "{<br>  \"number\": 7,<br>  \"values\": [<br>    -0.3765417605638504<br>  ],<br>  \"params\": {<br>    \"optimizer.params.weight_decay\": 5.2097128217746265e-14,<br>    \"optimizer.params.lr\": 0.0009427015667169288,<br>    \"model.autoencoder.params.d_token\": 112,<br>    \"model.autoencoder.params.num_layers\": 7,<br>    \"model.autoencoder.params.n_head\": 4,<br>    \"model.autoencoder.params.factor\": 4,<br>    \"data_conf.train_transforms.1.TimeToDiff.disable\": false,<br>    \"schedulers.step.StepLR.step_size\": 20,<br>    \"schedulers.beta.BetaScheduler.init_beta\": 0.00321370338925672,<br>    \"schedulers.beta.BetaScheduler.factor\": 0.2,<br>    \"schedulers.beta.BetaScheduler.patience\": 5<br>  },<br>  \"user_attrs\": {<br>    \"train_Reconstruction overall_mean\": 0.7825384707981867,<br>    \"train_Reconstruction overall_std\": 0.0,<br>    \"train_Reconstruction trans_date_mean\": 0.13249303977777843,<br>    \"train_Reconstruction trans_date_std\": 0.0,<br>    \"train_Reconstruction age_mean\": 1.0,<br>    \"train_Reconstruction age_std\": 0.0,<br>    \"train_Reconstruction small_group_mean\": 0.9996719650821277,<br>    \"train_Reconstruction small_group_std\": 0.0,<br>    \"train_Reconstruction amount_rur_mean\": 0.9979888783328411,<br>    \"train_Reconstruction amount_rur_std\": 0.0,<br>    \"loss_mean\": -0.3765417605638504,<br>    \"loss_std\": 0.0,<br>    \"kl_loss_mean\": -6.652329730987549,<br>    \"kl_loss_std\": 0.0,<br>    \"Reconstruction overall_mean\": 0.7872573074257591,<br>    \"Reconstruction overall_std\": 0.0,<br>    \"Reconstruction trans_date_mean\": 0.15069009635550185,<br>    \"Reconstruction trans_date_std\": 0.0,<br>    \"Reconstruction age_mean\": 1.0,<br>    \"Reconstruction age_std\": 0.0,<br>    \"Reconstruction small_group_mean\": 0.999675175787221,<br>    \"Reconstruction small_group_std\": 0.0,<br>    \"Reconstruction amount_rur_mean\": 0.9986639575603132,<br>    \"Reconstruction amount_rur_std\": 0.0,<br>    \"test_loss_mean\": -0.37498739672203857,<br>    \"test_loss_std\": 0.0,<br>    \"test_kl_loss_mean\": -6.652277499437332,<br>    \"test_kl_loss_std\": 0.0,<br>    \"test_Reconstruction overall_mean\": 0.7873966830646467,<br>    \"test_Reconstruction overall_std\": 0.0,<br>    \"test_Reconstruction trans_date_mean\": 0.1512139695350098,<br>    \"test_Reconstruction trans_date_std\": 0.0,<br>    \"test_Reconstruction age_mean\": 1.0,<br>    \"test_Reconstruction age_std\": 0.0,<br>    \"test_Reconstruction small_group_mean\": 0.9996370235934664,<br>    \"test_Reconstruction small_group_std\": 0.0,<br>    \"test_Reconstruction amount_rur_mean\": 0.9987357391301104,<br>    \"test_Reconstruction amount_rur_std\": 0.0,<br>    \"memory_after_mean\": 80362.0,<br>    \"memory_after_std\": 0.0<br>  }<br>}",
          "{<br>  \"number\": 8,<br>  \"values\": [<br>    -0.21779900441567104<br>  ],<br>  \"params\": {<br>    \"optimizer.params.weight_decay\": 7.330282336529876e-10,<br>    \"optimizer.params.lr\": 0.016406496791829785,<br>    \"model.autoencoder.params.d_token\": 40,<br>    \"model.autoencoder.params.num_layers\": 9,<br>    \"model.autoencoder.params.n_head\": 4,<br>    \"model.autoencoder.params.factor\": 1,<br>    \"data_conf.train_transforms.1.TimeToDiff.disable\": true,<br>    \"schedulers.step.StepLR.step_size\": 50,<br>    \"schedulers.beta.BetaScheduler.init_beta\": 0.09856323074579026,<br>    \"schedulers.beta.BetaScheduler.factor\": 0.6,<br>    \"schedulers.beta.BetaScheduler.patience\": 7<br>  },<br>  \"user_attrs\": {<br>    \"train_Reconstruction overall_mean\": -6.2641162589823,<br>    \"train_Reconstruction overall_std\": 0.0,<br>    \"train_Reconstruction trans_date_mean\": -28.01246137730412,<br>    \"train_Reconstruction trans_date_std\": 0.0,<br>    \"train_Reconstruction age_mean\": 0.9997419039339274,<br>    \"train_Reconstruction age_std\": 0.0,<br>    \"train_Reconstruction small_group_mean\": 0.9982595495544447,<br>    \"train_Reconstruction small_group_std\": 0.0,<br>    \"train_Reconstruction amount_rur_mean\": 0.9579948878865493,<br>    \"train_Reconstruction amount_rur_std\": 0.0,<br>    \"loss_mean\": -0.21779900441567104,<br>    \"loss_std\": 0.0,<br>    \"kl_loss_mean\": -0.6363109131654103,<br>    \"kl_loss_std\": 0.0,<br>    \"Reconstruction overall_mean\": -6.350437498730613,<br>    \"Reconstruction overall_std\": 0.0,<br>    \"Reconstruction trans_date_mean\": -28.356982440159825,<br>    \"Reconstruction trans_date_std\": 0.0,<br>    \"Reconstruction age_mean\": 0.9996847294405381,<br>    \"Reconstruction age_std\": 0.0,<br>    \"Reconstruction small_group_mean\": 0.9982230204830327,<br>    \"Reconstruction small_group_std\": 0.0,<br>    \"Reconstruction amount_rur_mean\": 0.9573246953138048,<br>    \"Reconstruction amount_rur_std\": 0.0,<br>    \"test_loss_mean\": -0.21772471287598213,<br>    \"test_loss_std\": 0.0,<br>    \"test_kl_loss_mean\": -0.6361203491687775,<br>    \"test_kl_loss_std\": 0.0,<br>    \"test_Reconstruction overall_mean\": -6.4099951700163285,<br>    \"test_Reconstruction overall_std\": 0.0,<br>    \"test_Reconstruction trans_date_mean\": -28.5955437453057,<br>    \"test_Reconstruction trans_date_std\": 0.0,<br>    \"test_Reconstruction age_mean\": 0.9998071687840291,<br>    \"test_Reconstruction age_std\": 0.0,<br>    \"test_Reconstruction small_group_mean\": 0.9982304900181488,<br>    \"test_Reconstruction small_group_std\": 0.0,<br>    \"test_Reconstruction amount_rur_mean\": 0.957525406438211,<br>    \"test_Reconstruction amount_rur_std\": 0.0,<br>    \"memory_after_mean\": 37144.0,<br>    \"memory_after_std\": 0.0<br>  }<br>}",
          "{<br>  \"number\": 9,<br>  \"values\": [<br>    -0.1459896147251129<br>  ],<br>  \"params\": {<br>    \"optimizer.params.weight_decay\": 2.6864420387699916e-10,<br>    \"optimizer.params.lr\": 0.0012143370894600921,<br>    \"model.autoencoder.params.d_token\": 32,<br>    \"model.autoencoder.params.num_layers\": 8,<br>    \"model.autoencoder.params.n_head\": 8,<br>    \"model.autoencoder.params.factor\": 19,<br>    \"data_conf.train_transforms.1.TimeToDiff.disable\": true,<br>    \"schedulers.step.StepLR.step_size\": 40,<br>    \"schedulers.beta.BetaScheduler.init_beta\": 0.6334668968853402,<br>    \"schedulers.beta.BetaScheduler.factor\": 0.9,<br>    \"schedulers.beta.BetaScheduler.patience\": 4<br>  },<br>  \"user_attrs\": {<br>    \"train_Reconstruction overall_mean\": 0.17534087857804365,<br>    \"train_Reconstruction overall_std\": 0.0,<br>    \"train_Reconstruction trans_date_mean\": -2.281233229442304,<br>    \"train_Reconstruction trans_date_std\": 0.0,<br>    \"train_Reconstruction age_mean\": 0.9995875374965912,<br>    \"train_Reconstruction age_std\": 0.0,<br>    \"train_Reconstruction small_group_mean\": 0.9990387237523861,<br>    \"train_Reconstruction small_group_std\": 0.0,<br>    \"train_Reconstruction amount_rur_mean\": 0.9839704825055013,<br>    \"train_Reconstruction amount_rur_std\": 0.0,<br>    \"loss_mean\": -0.1459896147251129,<br>    \"loss_std\": 0.0,<br>    \"kl_loss_mean\": -0.13893869072198867,<br>    \"kl_loss_std\": 0.0,<br>    \"Reconstruction overall_mean\": 0.1529896886201129,<br>    \"Reconstruction overall_std\": 0.0,<br>    \"Reconstruction trans_date_mean\": -2.3713555863252322,<br>    \"Reconstruction trans_date_std\": 0.0,<br>    \"Reconstruction age_mean\": 0.9994363344542954,<br>    \"Reconstruction age_std\": 0.0,<br>    \"Reconstruction small_group_mean\": 0.9988726689085906,<br>    \"Reconstruction small_group_std\": 0.0,<br>    \"Reconstruction amount_rur_mean\": 0.9850053374427978,<br>    \"Reconstruction amount_rur_std\": 0.0,<br>    \"test_loss_mean\": -0.14585393418868384,<br>    \"test_loss_std\": 0.0,<br>    \"test_kl_loss_mean\": -0.1389590296894312,<br>    \"test_kl_loss_std\": 0.0,<br>    \"test_Reconstruction overall_mean\": 0.16063818891589438,<br>    \"test_Reconstruction overall_std\": 0.0,<br>    \"test_Reconstruction trans_date_mean\": -2.3412802587850052,<br>    \"test_Reconstruction trans_date_std\": 0.0,<br>    \"test_Reconstruction age_mean\": 0.9995803085299455,<br>    \"test_Reconstruction age_std\": 0.0,<br>    \"test_Reconstruction small_group_mean\": 0.9990642014519057,<br>    \"test_Reconstruction small_group_std\": 0.0,<br>    \"test_Reconstruction amount_rur_mean\": 0.9851885044667316,<br>    \"test_Reconstruction amount_rur_std\": 0.0,<br>    \"memory_after_mean\": 80180.0,<br>    \"memory_after_std\": 0.0<br>  }<br>}",
          "{<br>  \"number\": 10,<br>  \"values\": [<br>    -0.10810587083299955<br>  ],<br>  \"params\": {<br>    \"optimizer.params.weight_decay\": 5.294077320914892e-10,<br>    \"optimizer.params.lr\": 0.011234739958862316,<br>    \"model.autoencoder.params.d_token\": 40,<br>    \"model.autoencoder.params.num_layers\": 10,<br>    \"model.autoencoder.params.n_head\": 1,<br>    \"model.autoencoder.params.factor\": 1,<br>    \"data_conf.train_transforms.1.TimeToDiff.disable\": true,<br>    \"schedulers.step.StepLR.step_size\": 50,<br>    \"schedulers.beta.BetaScheduler.init_beta\": 0.4177783790789359,<br>    \"schedulers.beta.BetaScheduler.factor\": 0.8,<br>    \"schedulers.beta.BetaScheduler.patience\": 3<br>  },<br>  \"user_attrs\": {<br>    \"train_Reconstruction overall_mean\": 0.4889587228205629,<br>    \"train_Reconstruction overall_std\": 0.0,<br>    \"train_Reconstruction trans_date_mean\": -1.0377819220495184,<br>    \"train_Reconstruction trans_date_std\": 0.0,<br>    \"train_Reconstruction age_mean\": 0.9996481506663041,<br>    \"train_Reconstruction age_std\": 0.0,<br>    \"train_Reconstruction small_group_mean\": 0.999226611367963,<br>    \"train_Reconstruction small_group_std\": 0.0,<br>    \"train_Reconstruction amount_rur_mean\": 0.9947420512975029,<br>    \"train_Reconstruction amount_rur_std\": 0.0,<br>    \"loss_mean\": -0.10810587083299955,<br>    \"loss_std\": 0.0,<br>    \"kl_loss_mean\": -0.19349942853053412,<br>    \"kl_loss_std\": 0.0,<br>    \"Reconstruction overall_mean\": 0.48312654865546956,<br>    \"Reconstruction overall_std\": 0.0,<br>    \"Reconstruction trans_date_mean\": -1.061241015501248,<br>    \"Reconstruction trans_date_std\": 0.0,<br>    \"Reconstruction age_mean\": 0.9995414246407827,<br>    \"Reconstruction age_std\": 0.0,<br>    \"Reconstruction small_group_mean\": 0.9993121369611739,<br>    \"Reconstruction small_group_std\": 0.0,<br>    \"Reconstruction amount_rur_mean\": 0.9948936485211696,<br>    \"Reconstruction amount_rur_std\": 0.0,<br>    \"test_loss_mean\": -0.10799399359772603,<br>    \"test_loss_std\": 0.0,<br>    \"test_kl_loss_mean\": -0.19342642494787773,<br>    \"test_kl_loss_std\": 0.0,<br>    \"test_Reconstruction overall_mean\": 0.4813222872214623,<br>    \"test_Reconstruction overall_std\": 0.0,<br>    \"test_Reconstruction trans_date_mean\": -1.068217206093687,<br>    \"test_Reconstruction trans_date_std\": 0.0,<br>    \"test_Reconstruction age_mean\": 0.9995916515426497,<br>    \"test_Reconstruction age_std\": 0.0,<br>    \"test_Reconstruction small_group_mean\": 0.9991719600725952,<br>    \"test_Reconstruction small_group_std\": 0.0,<br>    \"test_Reconstruction amount_rur_mean\": 0.9947427433642911,<br>    \"test_Reconstruction amount_rur_std\": 0.0,<br>    \"memory_after_mean\": 36120.0,<br>    \"memory_after_std\": 0.0<br>  }<br>}",
          "{<br>  \"number\": 11,<br>  \"values\": [<br>    -0.08202892368038496<br>  ],<br>  \"params\": {<br>    \"optimizer.params.weight_decay\": 3.3237627541679164e-09,<br>    \"optimizer.params.lr\": 0.005163079180234768,<br>    \"model.autoencoder.params.d_token\": 8,<br>    \"model.autoencoder.params.num_layers\": 8,<br>    \"model.autoencoder.params.n_head\": 4,<br>    \"model.autoencoder.params.factor\": 134,<br>    \"data_conf.train_transforms.1.TimeToDiff.disable\": true,<br>    \"schedulers.step.StepLR.step_size\": 50,<br>    \"schedulers.beta.BetaScheduler.init_beta\": 0.1178031599054938,<br>    \"schedulers.beta.BetaScheduler.factor\": 0.8,<br>    \"schedulers.beta.BetaScheduler.patience\": 2<br>  },<br>  \"user_attrs\": {<br>    \"train_Reconstruction overall_mean\": 0.4667957338405696,<br>    \"train_Reconstruction overall_std\": 0.0,<br>    \"train_Reconstruction trans_date_mean\": -1.1276277577989842,<br>    \"train_Reconstruction trans_date_std\": 0.0,<br>    \"train_Reconstruction age_mean\": 0.9999591725639629,<br>    \"train_Reconstruction age_std\": 0.0,<br>    \"train_Reconstruction small_group_mean\": 0.9994403238976592,<br>    \"train_Reconstruction small_group_std\": 0.0,<br>    \"train_Reconstruction amount_rur_mean\": 0.9954111966996404,<br>    \"train_Reconstruction amount_rur_std\": 0.0,<br>    \"loss_mean\": -0.08202892368038496,<br>    \"loss_std\": 0.0,<br>    \"kl_loss_mean\": -1.2957906007766724,<br>    \"kl_loss_std\": 0.0,<br>    \"Reconstruction overall_mean\": 0.4593987794962946,<br>    \"Reconstruction overall_std\": 0.0,<br>    \"Reconstruction trans_date_mean\": -1.157208257114761,<br>    \"Reconstruction trans_date_std\": 0.0,<br>    \"Reconstruction age_mean\": 0.9999235707734637,<br>    \"Reconstruction age_std\": 0.0,<br>    \"Reconstruction small_group_mean\": 0.9993885661877102,<br>    \"Reconstruction small_group_std\": 0.0,<br>    \"Reconstruction amount_rur_mean\": 0.9954912381387656,<br>    \"Reconstruction amount_rur_std\": 0.0,<br>    \"test_loss_mean\": -0.08196426539992292,<br>    \"test_loss_std\": 0.0,<br>    \"test_kl_loss_mean\": -1.2956504399577777,<br>    \"test_kl_loss_std\": 0.0,<br>    \"test_Reconstruction overall_mean\": 0.4782388267938851,<br>    \"test_Reconstruction overall_std\": 0.0,<br>    \"test_Reconstruction trans_date_mean\": -1.0820640846790746,<br>    \"test_Reconstruction trans_date_std\": 0.0,<br>    \"test_Reconstruction age_mean\": 0.9999489564428312,<br>    \"test_Reconstruction age_std\": 0.0,<br>    \"test_Reconstruction small_group_mean\": 0.9995009074410164,<br>    \"test_Reconstruction small_group_std\": 0.0,<br>    \"test_Reconstruction amount_rur_mean\": 0.9955695279707673,<br>    \"test_Reconstruction amount_rur_std\": 0.0,<br>    \"memory_after_mean\": 80410.0,<br>    \"memory_after_std\": 0.0<br>  }<br>}",
          "{<br>  \"number\": 12,<br>  \"values\": [<br>    -0.07753418510158856<br>  ],<br>  \"params\": {<br>    \"optimizer.params.weight_decay\": 0.0042690239083442785,<br>    \"optimizer.params.lr\": 0.01467340983199514,<br>    \"model.autoencoder.params.d_token\": 8,<br>    \"model.autoencoder.params.num_layers\": 9,<br>    \"model.autoencoder.params.n_head\": 1,<br>    \"model.autoencoder.params.factor\": 75,<br>    \"data_conf.train_transforms.1.TimeToDiff.disable\": true,<br>    \"schedulers.step.StepLR.step_size\": 30,<br>    \"schedulers.beta.BetaScheduler.init_beta\": 0.02917224825229141,<br>    \"schedulers.beta.BetaScheduler.factor\": 0.2,<br>    \"schedulers.beta.BetaScheduler.patience\": 2<br>  },<br>  \"user_attrs\": {<br>    \"train_Reconstruction overall_mean\": 0.8724994734313737,<br>    \"train_Reconstruction overall_std\": 0.0,<br>    \"train_Reconstruction trans_date_mean\": 0.5114005346408033,<br>    \"train_Reconstruction trans_date_std\": 0.0,<br>    \"train_Reconstruction age_mean\": 1.0,<br>    \"train_Reconstruction age_std\": 0.0,<br>    \"train_Reconstruction small_group_mean\": 0.9851265132511724,<br>    \"train_Reconstruction small_group_std\": 0.0,<br>    \"train_Reconstruction amount_rur_mean\": 0.993470845833519,<br>    \"train_Reconstruction amount_rur_std\": 0.0,<br>    \"loss_mean\": -0.07753418510158856,<br>    \"loss_std\": 0.0,<br>    \"kl_loss_mean\": -9.171310806274414,<br>    \"kl_loss_std\": 0.0,<br>    \"Reconstruction overall_mean\": 0.8770990624618968,<br>    \"Reconstruction overall_std\": 0.0,<br>    \"Reconstruction trans_date_mean\": 0.5290232057165668,<br>    \"Reconstruction trans_date_std\": 0.0,<br>    \"Reconstruction age_mean\": 1.0,<br>    \"Reconstruction age_std\": 0.0,<br>    \"Reconstruction small_group_mean\": 0.9850867471721186,<br>    \"Reconstruction small_group_std\": 0.0,<br>    \"Reconstruction amount_rur_mean\": 0.9942862969589016,<br>    \"Reconstruction amount_rur_std\": 0.0,<br>    \"test_loss_mean\": -0.0776071526731054,<br>    \"test_loss_std\": 0.0,<br>    \"test_kl_loss_mean\": -9.172147313753763,<br>    \"test_kl_loss_std\": 0.0,<br>    \"test_Reconstruction overall_mean\": 0.8869618046348714,<br>    \"test_Reconstruction overall_std\": 0.0,<br>    \"test_Reconstruction trans_date_mean\": 0.5679134127171684,<br>    \"test_Reconstruction trans_date_std\": 0.0,<br>    \"test_Reconstruction age_mean\": 1.0,<br>    \"test_Reconstruction age_std\": 0.0,<br>    \"test_Reconstruction small_group_mean\": 0.9855149727767695,<br>    \"test_Reconstruction small_group_std\": 0.0,<br>    \"test_Reconstruction amount_rur_mean\": 0.9944188330455478,<br>    \"test_Reconstruction amount_rur_std\": 0.0,<br>    \"memory_after_mean\": 80444.0,<br>    \"memory_after_std\": 0.0<br>  }<br>}",
          "{<br>  \"number\": 13,<br>  \"values\": [<br>    -0.062223582590619726<br>  ],<br>  \"params\": {<br>    \"optimizer.params.weight_decay\": 2.402955511475108e-10,<br>    \"optimizer.params.lr\": 0.013086538637667726,<br>    \"model.autoencoder.params.d_token\": 96,<br>    \"model.autoencoder.params.num_layers\": 3,<br>    \"model.autoencoder.params.n_head\": 1,<br>    \"model.autoencoder.params.factor\": 1,<br>    \"data_conf.train_transforms.1.TimeToDiff.disable\": true,<br>    \"schedulers.step.StepLR.step_size\": 30,<br>    \"schedulers.beta.BetaScheduler.init_beta\": 0.02071961304775833,<br>    \"schedulers.beta.BetaScheduler.factor\": 0.1,<br>    \"schedulers.beta.BetaScheduler.patience\": 3<br>  },<br>  \"user_attrs\": {<br>    \"train_Reconstruction overall_mean\": 0.4894876801956487,<br>    \"train_Reconstruction overall_std\": 0.0,<br>    \"train_Reconstruction trans_date_mean\": -1.0368396731087985,<br>    \"train_Reconstruction trans_date_std\": 0.0,<br>    \"train_Reconstruction age_mean\": 0.9999948929563655,<br>    \"train_Reconstruction age_std\": 0.0,<br>    \"train_Reconstruction small_group_mean\": 0.9999863812169745,<br>    \"train_Reconstruction small_group_std\": 0.0,<br>    \"train_Reconstruction amount_rur_mean\": 0.9948091197180533,<br>    \"train_Reconstruction amount_rur_std\": 0.0,<br>    \"loss_mean\": -0.062223582590619726,<br>    \"loss_std\": 0.0,<br>    \"kl_loss_mean\": -0.9399004677931467,<br>    \"kl_loss_std\": 0.0,<br>    \"Reconstruction overall_mean\": 0.4618040644540199,<br>    \"Reconstruction overall_std\": 0.0,<br>    \"Reconstruction trans_date_mean\": -1.1479348262006492,<br>    \"Reconstruction trans_date_std\": 0.0,<br>    \"Reconstruction age_mean\": 1.0,<br>    \"Reconstruction age_std\": 0.0,<br>    \"Reconstruction small_group_mean\": 0.999990446346683,<br>    \"Reconstruction small_group_std\": 0.0,<br>    \"Reconstruction amount_rur_mean\": 0.9951606376700457,<br>    \"Reconstruction amount_rur_std\": 0.0,<br>    \"test_loss_mean\": -0.0621745934865127,<br>    \"test_loss_std\": 0.0,<br>    \"test_kl_loss_mean\": -0.9403978350261847,<br>    \"test_kl_loss_std\": 0.0,<br>    \"test_Reconstruction overall_mean\": 0.45605561547518225,<br>    \"test_Reconstruction overall_std\": 0.0,<br>    \"test_Reconstruction trans_date_mean\": -1.1710977827032754,<br>    \"test_Reconstruction trans_date_std\": 0.0,<br>    \"test_Reconstruction age_mean\": 1.0,<br>    \"test_Reconstruction age_std\": 0.0,<br>    \"test_Reconstruction small_group_mean\": 0.9999943284936479,<br>    \"test_Reconstruction small_group_std\": 0.0,<br>    \"test_Reconstruction amount_rur_mean\": 0.9953259161103565,<br>    \"test_Reconstruction amount_rur_std\": 0.0,<br>    \"memory_after_mean\": 52236.0,<br>    \"memory_after_std\": 0.0<br>  }<br>}",
          "{<br>  \"number\": 14,<br>  \"values\": [<br>    -0.04999334129194419<br>  ],<br>  \"params\": {<br>    \"optimizer.params.weight_decay\": 1.1191020093778738e-10,<br>    \"optimizer.params.lr\": 8.129606640938831e-05,<br>    \"model.autoencoder.params.d_token\": 120,<br>    \"model.autoencoder.params.num_layers\": 4,<br>    \"model.autoencoder.params.n_head\": 4,<br>    \"model.autoencoder.params.factor\": 1,<br>    \"data_conf.train_transforms.1.TimeToDiff.disable\": true,<br>    \"schedulers.step.StepLR.step_size\": 30,<br>    \"schedulers.beta.BetaScheduler.init_beta\": 0.006157868150461144,<br>    \"schedulers.beta.BetaScheduler.factor\": 0.4,<br>    \"schedulers.beta.BetaScheduler.patience\": 8<br>  },<br>  \"user_attrs\": {<br>    \"train_Reconstruction overall_mean\": 0.7606592560157106,<br>    \"train_Reconstruction overall_std\": 0.0,<br>    \"train_Reconstruction trans_date_mean\": 0.04708999098625109,<br>    \"train_Reconstruction trans_date_std\": 0.0,<br>    \"train_Reconstruction age_mean\": 1.0,<br>    \"train_Reconstruction age_std\": 0.0,<br>    \"train_Reconstruction small_group_mean\": 0.9995782564747022,<br>    \"train_Reconstruction small_group_std\": 0.0,<br>    \"train_Reconstruction amount_rur_mean\": 0.9959687766018888,<br>    \"train_Reconstruction amount_rur_std\": 0.0,<br>    \"loss_mean\": -0.04999334129194419,<br>    \"loss_std\": 0.0,<br>    \"kl_loss_mean\": -3.5080101410547893,<br>    \"kl_loss_std\": 0.0,<br>    \"Reconstruction overall_mean\": 0.7533435266995812,<br>    \"Reconstruction overall_std\": 0.0,<br>    \"Reconstruction trans_date_mean\": 0.01731177706148917,<br>    \"Reconstruction trans_date_std\": 0.0,<br>    \"Reconstruction age_mean\": 1.0,<br>    \"Reconstruction age_std\": 0.0,<br>    \"Reconstruction small_group_mean\": 0.9994841027208805,<br>    \"Reconstruction small_group_std\": 0.0,<br>    \"Reconstruction amount_rur_mean\": 0.9965782270159551,<br>    \"Reconstruction amount_rur_std\": 0.0,<br>    \"test_loss_mean\": -0.04997960229714712,<br>    \"test_loss_std\": 0.0,<br>    \"test_kl_loss_mean\": -3.5072989016771317,<br>    \"test_kl_loss_std\": 0.0,<br>    \"test_Reconstruction overall_mean\": 0.7610937108294066,<br>    \"test_Reconstruction overall_std\": 0.0,<br>    \"test_Reconstruction trans_date_mean\": 0.04828507959965243,<br>    \"test_Reconstruction trans_date_std\": 0.0,<br>    \"test_Reconstruction age_mean\": 1.0,<br>    \"test_Reconstruction age_std\": 0.0,<br>    \"test_Reconstruction small_group_mean\": 0.9995746370235935,<br>    \"test_Reconstruction small_group_std\": 0.0,<br>    \"test_Reconstruction amount_rur_mean\": 0.9965151266943805,<br>    \"test_Reconstruction amount_rur_std\": 0.0,<br>    \"memory_after_mean\": 80330.0,<br>    \"memory_after_std\": 0.0<br>  }<br>}",
          "{<br>  \"number\": 15,<br>  \"values\": [<br>    -0.049411883329351744<br>  ],<br>  \"params\": {<br>    \"optimizer.params.weight_decay\": 8.112102500820373e-15,<br>    \"optimizer.params.lr\": 0.01085990519630607,<br>    \"model.autoencoder.params.d_token\": 32,<br>    \"model.autoencoder.params.num_layers\": 5,<br>    \"model.autoencoder.params.n_head\": 4,<br>    \"model.autoencoder.params.factor\": 1,<br>    \"data_conf.train_transforms.1.TimeToDiff.disable\": true,<br>    \"schedulers.step.StepLR.step_size\": 50,<br>    \"schedulers.beta.BetaScheduler.init_beta\": 0.32172958805298807,<br>    \"schedulers.beta.BetaScheduler.factor\": 0.7000000000000001,<br>    \"schedulers.beta.BetaScheduler.patience\": 2<br>  },<br>  \"user_attrs\": {<br>    \"train_Reconstruction overall_mean\": 0.835668508116847,<br>    \"train_Reconstruction overall_std\": 0.0,<br>    \"train_Reconstruction trans_date_mean\": 0.3507373259696193,<br>    \"train_Reconstruction trans_date_std\": 0.0,<br>    \"train_Reconstruction age_mean\": 0.999959101319664,<br>    \"train_Reconstruction age_std\": 0.0,<br>    \"train_Reconstruction small_group_mean\": 0.9999079779692442,<br>    \"train_Reconstruction small_group_std\": 0.0,<br>    \"train_Reconstruction amount_rur_mean\": 0.9920696272088603,<br>    \"train_Reconstruction amount_rur_std\": 0.0,<br>    \"loss_mean\": -0.049411883329351744,<br>    \"loss_std\": 0.0,<br>    \"kl_loss_mean\": -0.18290829708178838,<br>    \"kl_loss_std\": 0.0,<br>    \"Reconstruction overall_mean\": 0.834459742643818,<br>    \"Reconstruction overall_std\": 0.0,<br>    \"Reconstruction trans_date_mean\": 0.34559539416743285,<br>    \"Reconstruction trans_date_std\": 0.0,<br>    \"Reconstruction age_mean\": 0.999980892693366,<br>    \"Reconstruction age_std\": 0.0,<br>    \"Reconstruction small_group_mean\": 0.9998853561601957,<br>    \"Reconstruction small_group_std\": 0.0,<br>    \"Reconstruction amount_rur_mean\": 0.9923773275542773,<br>    \"Reconstruction amount_rur_std\": 0.0,<br>    \"test_loss_mean\": -0.04937574174255133,<br>    \"test_loss_std\": 0.0,<br>    \"test_kl_loss_mean\": -0.18297369126230478,<br>    \"test_kl_loss_std\": 0.0,<br>    \"test_Reconstruction overall_mean\": 0.8360994424592267,<br>    \"test_Reconstruction overall_std\": 0.0,<br>    \"test_Reconstruction trans_date_mean\": 0.3522114513379316,<br>    \"test_Reconstruction trans_date_std\": 0.0,<br>    \"test_Reconstruction age_mean\": 0.9999546279491833,<br>    \"test_Reconstruction age_std\": 0.0,<br>    \"test_Reconstruction small_group_mean\": 0.9998808983666062,<br>    \"test_Reconstruction small_group_std\": 0.0,<br>    \"test_Reconstruction amount_rur_mean\": 0.9923507921831857,<br>    \"test_Reconstruction amount_rur_std\": 0.0,<br>    \"memory_after_mean\": 17446.0,<br>    \"memory_after_std\": 0.0<br>  }<br>}",
          "{<br>  \"number\": 16,<br>  \"values\": [<br>    -0.04521091369291146<br>  ],<br>  \"params\": {<br>    \"optimizer.params.weight_decay\": 2.6215143163234607e-08,<br>    \"optimizer.params.lr\": 4.1464668244582134e-05,<br>    \"model.autoencoder.params.d_token\": 48,<br>    \"model.autoencoder.params.num_layers\": 2,<br>    \"model.autoencoder.params.n_head\": 8,<br>    \"model.autoencoder.params.factor\": 68,<br>    \"data_conf.train_transforms.1.TimeToDiff.disable\": true,<br>    \"schedulers.step.StepLR.step_size\": 10,<br>    \"schedulers.beta.BetaScheduler.init_beta\": 0.004509838040387679,<br>    \"schedulers.beta.BetaScheduler.factor\": 0.4,<br>    \"schedulers.beta.BetaScheduler.patience\": 5<br>  },<br>  \"user_attrs\": {<br>    \"train_Reconstruction overall_mean\": 0.8755158156666651,<br>    \"train_Reconstruction overall_std\": 0.0,<br>    \"train_Reconstruction trans_date_mean\": 0.5104857569463889,<br>    \"train_Reconstruction trans_date_std\": 0.0,<br>    \"train_Reconstruction age_mean\": 1.0,<br>    \"train_Reconstruction age_std\": 0.0,<br>    \"train_Reconstruction small_group_mean\": 0.9952244443236781,<br>    \"train_Reconstruction small_group_std\": 0.0,<br>    \"train_Reconstruction amount_rur_mean\": 0.9963530613965939,<br>    \"train_Reconstruction amount_rur_std\": 0.0,<br>    \"loss_mean\": -0.04521091369291146,<br>    \"loss_std\": 0.0,<br>    \"kl_loss_mean\": -4.1715903600056965,<br>    \"kl_loss_std\": 0.0,<br>    \"Reconstruction overall_mean\": 0.8740287435423628,<br>    \"Reconstruction overall_std\": 0.0,<br>    \"Reconstruction trans_date_mean\": 0.5040874333573889,<br>    \"Reconstruction trans_date_std\": 0.0,<br>    \"Reconstruction age_mean\": 1.0,<br>    \"Reconstruction age_std\": 0.0,<br>    \"Reconstruction small_group_mean\": 0.9950703148884134,<br>    \"Reconstruction small_group_std\": 0.0,<br>    \"Reconstruction amount_rur_mean\": 0.9969572259236491,<br>    \"Reconstruction amount_rur_std\": 0.0,<br>    \"test_loss_mean\": -0.045095406317462526,<br>    \"test_loss_std\": 0.0,<br>    \"test_kl_loss_mean\": -4.172200560569763,<br>    \"test_kl_loss_std\": 0.0,<br>    \"test_Reconstruction overall_mean\": 0.8779022526491942,<br>    \"test_Reconstruction overall_std\": 0.0,<br>    \"test_Reconstruction trans_date_mean\": 0.5191082112779887,<br>    \"test_Reconstruction trans_date_std\": 0.0,<br>    \"test_Reconstruction age_mean\": 1.0,<br>    \"test_Reconstruction age_std\": 0.0,<br>    \"test_Reconstruction small_group_mean\": 0.9953720508166969,<br>    \"test_Reconstruction small_group_std\": 0.0,<br>    \"test_Reconstruction amount_rur_mean\": 0.9971287485020915,<br>    \"test_Reconstruction amount_rur_std\": 0.0,<br>    \"memory_after_mean\": 80400.0,<br>    \"memory_after_std\": 0.0<br>  }<br>}",
          "{<br>  \"number\": 17,<br>  \"values\": [<br>    -0.037754097332557045<br>  ],<br>  \"params\": {<br>    \"optimizer.params.weight_decay\": 5.191152258423174e-10,<br>    \"optimizer.params.lr\": 9.659095741912771e-05,<br>    \"model.autoencoder.params.d_token\": 40,<br>    \"model.autoencoder.params.num_layers\": 10,<br>    \"model.autoencoder.params.n_head\": 4,<br>    \"model.autoencoder.params.factor\": 1,<br>    \"data_conf.train_transforms.1.TimeToDiff.disable\": true,<br>    \"schedulers.step.StepLR.step_size\": 40,<br>    \"schedulers.beta.BetaScheduler.init_beta\": 0.5605917715361701,<br>    \"schedulers.beta.BetaScheduler.factor\": 0.8,<br>    \"schedulers.beta.BetaScheduler.patience\": 4<br>  },<br>  \"user_attrs\": {<br>    \"train_Reconstruction overall_mean\": 0.6917673930566577,<br>    \"train_Reconstruction overall_std\": 0.0,<br>    \"train_Reconstruction trans_date_mean\": -0.22984318011024146,<br>    \"train_Reconstruction trans_date_std\": 0.0,<br>    \"train_Reconstruction age_mean\": 0.9998806926643032,<br>    \"train_Reconstruction age_std\": 0.0,<br>    \"train_Reconstruction small_group_mean\": 0.9996267384783202,<br>    \"train_Reconstruction small_group_std\": 0.0,<br>    \"train_Reconstruction amount_rur_mean\": 0.9974053211942489,<br>    \"train_Reconstruction amount_rur_std\": 0.0,<br>    \"loss_mean\": -0.037754097332557045,<br>    \"loss_std\": 0.0,<br>    \"kl_loss_mean\": -0.21831878026326498,<br>    \"kl_loss_std\": 0.0,<br>    \"Reconstruction overall_mean\": 0.6939641789490044,<br>    \"Reconstruction overall_std\": 0.0,<br>    \"Reconstruction trans_date_mean\": -0.22141250796875214,<br>    \"Reconstruction trans_date_std\": 0.0,<br>    \"Reconstruction age_mean\": 0.9999140171201467,<br>    \"Reconstruction age_std\": 0.0,<br>    \"Reconstruction small_group_mean\": 0.999675175787221,<br>    \"Reconstruction small_group_std\": 0.0,<br>    \"Reconstruction amount_rur_mean\": 0.997680030857402,<br>    \"Reconstruction amount_rur_std\": 0.0,<br>    \"test_loss_mean\": -0.03768655960448086,<br>    \"test_loss_std\": 0.0,<br>    \"test_kl_loss_mean\": -0.2183303295945128,<br>    \"test_kl_loss_std\": 0.0,<br>    \"test_Reconstruction overall_mean\": 0.6926647381006205,<br>    \"test_Reconstruction overall_std\": 0.0,<br>    \"test_Reconstruction trans_date_mean\": -0.22672202312796905,<br>    \"test_Reconstruction trans_date_std\": 0.0,<br>    \"test_Reconstruction age_mean\": 0.9998808983666062,<br>    \"test_Reconstruction age_std\": 0.0,<br>    \"test_Reconstruction small_group_mean\": 0.9996483666061706,<br>    \"test_Reconstruction small_group_std\": 0.0,<br>    \"test_Reconstruction amount_rur_mean\": 0.9978517105576742,<br>    \"test_Reconstruction amount_rur_std\": 0.0,<br>    \"memory_after_mean\": 41062.0,<br>    \"memory_after_std\": 0.0<br>  }<br>}",
          "{<br>  \"number\": 18,<br>  \"values\": [<br>    -0.03376190488537153<br>  ],<br>  \"params\": {<br>    \"optimizer.params.weight_decay\": 7.137711529432247e-12,<br>    \"optimizer.params.lr\": 0.0002476242635078297,<br>    \"model.autoencoder.params.d_token\": 104,<br>    \"model.autoencoder.params.num_layers\": 2,<br>    \"model.autoencoder.params.n_head\": 4,<br>    \"model.autoencoder.params.factor\": 1,<br>    \"data_conf.train_transforms.1.TimeToDiff.disable\": true,<br>    \"schedulers.step.StepLR.step_size\": 20,<br>    \"schedulers.beta.BetaScheduler.init_beta\": 0.0011191073089781892,<br>    \"schedulers.beta.BetaScheduler.factor\": 0.1,<br>    \"schedulers.beta.BetaScheduler.patience\": 5<br>  },<br>  \"user_attrs\": {<br>    \"train_Reconstruction overall_mean\": 0.7069907821589138,<br>    \"train_Reconstruction overall_std\": 0.0,<br>    \"train_Reconstruction trans_date_mean\": -0.16536313233444583,<br>    \"train_Reconstruction trans_date_std\": 0.0,<br>    \"train_Reconstruction age_mean\": 1.0,<br>    \"train_Reconstruction age_std\": 0.0,<br>    \"train_Reconstruction small_group_mean\": 0.9996714289605578,<br>    \"train_Reconstruction small_group_std\": 0.0,<br>    \"train_Reconstruction amount_rur_mean\": 0.9936548320095429,<br>    \"train_Reconstruction amount_rur_std\": 0.0,<br>    \"loss_mean\": -0.03376190488537153,<br>    \"loss_std\": 0.0,<br>    \"kl_loss_mean\": -3.9486335436503093,<br>    \"kl_loss_std\": 0.0,<br>    \"Reconstruction overall_mean\": 0.7084148384221112,<br>    \"Reconstruction overall_std\": 0.0,<br>    \"Reconstruction trans_date_mean\": -0.16061300345261748,<br>    \"Reconstruction trans_date_std\": 0.0,<br>    \"Reconstruction age_mean\": 1.0,<br>    \"Reconstruction age_std\": 0.0,<br>    \"Reconstruction small_group_mean\": 0.9996942830938551,<br>    \"Reconstruction small_group_std\": 0.0,<br>    \"Reconstruction amount_rur_mean\": 0.9945780740472072,<br>    \"Reconstruction amount_rur_std\": 0.0,<br>    \"test_loss_mean\": -0.033759497261295714,<br>    \"test_loss_std\": 0.0,<br>    \"test_kl_loss_mean\": -3.9489066501458487,<br>    \"test_kl_loss_std\": 0.0,<br>    \"test_Reconstruction overall_mean\": 0.7094034686759734,<br>    \"test_Reconstruction overall_std\": 0.0,<br>    \"test_Reconstruction trans_date_mean\": -0.15667956287699844,<br>    \"test_Reconstruction trans_date_std\": 0.0,<br>    \"test_Reconstruction age_mean\": 1.0,<br>    \"test_Reconstruction age_std\": 0.0,<br>    \"test_Reconstruction small_group_mean\": 0.9997220961887477,<br>    \"test_Reconstruction small_group_std\": 0.0,<br>    \"test_Reconstruction amount_rur_mean\": 0.9945713413921444,<br>    \"test_Reconstruction amount_rur_std\": 0.0,<br>    \"memory_after_mean\": 34250.0,<br>    \"memory_after_std\": 0.0<br>  }<br>}",
          "{<br>  \"number\": 19,<br>  \"values\": [<br>    -0.029026292512814203<br>  ],<br>  \"params\": {<br>    \"optimizer.params.weight_decay\": 2.044738111556754e-13,<br>    \"optimizer.params.lr\": 0.00020744583588129422,<br>    \"model.autoencoder.params.d_token\": 88,<br>    \"model.autoencoder.params.num_layers\": 5,<br>    \"model.autoencoder.params.n_head\": 1,<br>    \"model.autoencoder.params.factor\": 3,<br>    \"data_conf.train_transforms.1.TimeToDiff.disable\": true,<br>    \"schedulers.step.StepLR.step_size\": 50,<br>    \"schedulers.beta.BetaScheduler.init_beta\": 0.01968897032812572,<br>    \"schedulers.beta.BetaScheduler.factor\": 0.1,<br>    \"schedulers.beta.BetaScheduler.patience\": 2<br>  },<br>  \"user_attrs\": {<br>    \"train_Reconstruction overall_mean\": 0.6004721794814143,<br>    \"train_Reconstruction overall_std\": 0.0,<br>    \"train_Reconstruction trans_date_mean\": -0.5955672366546588,<br>    \"train_Reconstruction trans_date_std\": 0.0,<br>    \"train_Reconstruction age_mean\": 1.0,<br>    \"train_Reconstruction age_std\": 0.0,<br>    \"train_Reconstruction small_group_mean\": 0.9999863559460787,<br>    \"train_Reconstruction small_group_std\": 0.0,<br>    \"train_Reconstruction amount_rur_mean\": 0.9974695986342372,<br>    \"train_Reconstruction amount_rur_std\": 0.0,<br>    \"loss_mean\": -0.029026292512814203,<br>    \"loss_std\": 0.0,<br>    \"kl_loss_mean\": -6.0198032061258955,<br>    \"kl_loss_std\": 0.0,<br>    \"Reconstruction overall_mean\": 0.5912299070187498,<br>    \"Reconstruction overall_std\": 0.0,<br>    \"Reconstruction trans_date_mean\": -0.6329756515279719,<br>    \"Reconstruction trans_date_std\": 0.0,<br>    \"Reconstruction age_mean\": 1.0,<br>    \"Reconstruction age_std\": 0.0,<br>    \"Reconstruction small_group_mean\": 1.0,<br>    \"Reconstruction small_group_std\": 0.0,<br>    \"Reconstruction amount_rur_mean\": 0.9978952796029709,<br>    \"Reconstruction amount_rur_std\": 0.0,<br>    \"test_loss_mean\": -0.029077848691182833,<br>    \"test_loss_std\": 0.0,<br>    \"test_kl_loss_mean\": -6.020543992519379,<br>    \"test_kl_loss_std\": 0.0,<br>    \"test_Reconstruction overall_mean\": 0.5945152075454392,<br>    \"test_Reconstruction overall_std\": 0.0,<br>    \"test_Reconstruction trans_date_mean\": -0.6198693808592775,<br>    \"test_Reconstruction trans_date_std\": 0.0,<br>    \"test_Reconstruction age_mean\": 0.9999943284936479,<br>    \"test_Reconstruction age_std\": 0.0,<br>    \"test_Reconstruction small_group_mean\": 0.9999943284936479,<br>    \"test_Reconstruction small_group_std\": 0.0,<br>    \"test_Reconstruction amount_rur_mean\": 0.9979415540537383,<br>    \"test_Reconstruction amount_rur_std\": 0.0,<br>    \"memory_after_mean\": 71148.0,<br>    \"memory_after_std\": 0.0<br>  }<br>}",
          "{<br>  \"number\": 20,<br>  \"values\": [<br>    -0.02341703816006581<br>  ],<br>  \"params\": {<br>    \"optimizer.params.weight_decay\": 1.3888834792375396e-08,<br>    \"optimizer.params.lr\": 0.010291686188292216,<br>    \"model.autoencoder.params.d_token\": 40,<br>    \"model.autoencoder.params.num_layers\": 4,<br>    \"model.autoencoder.params.n_head\": 1,<br>    \"model.autoencoder.params.factor\": 5,<br>    \"data_conf.train_transforms.1.TimeToDiff.disable\": false,<br>    \"schedulers.step.StepLR.step_size\": 30,<br>    \"schedulers.beta.BetaScheduler.init_beta\": 0.8679596887726543,<br>    \"schedulers.beta.BetaScheduler.factor\": 0.2,<br>    \"schedulers.beta.BetaScheduler.patience\": 8<br>  },<br>  \"user_attrs\": {<br>    \"train_Reconstruction overall_mean\": 0.9993575560832212,<br>    \"train_Reconstruction overall_std\": 0.0,<br>    \"train_Reconstruction trans_date_mean\": 0.9998384217140195,<br>    \"train_Reconstruction trans_date_std\": 0.0,<br>    \"train_Reconstruction age_mean\": 0.9998177792915531,<br>    \"train_Reconstruction age_std\": 0.0,<br>    \"train_Reconstruction small_group_mean\": 0.9993051771117166,<br>    \"train_Reconstruction small_group_std\": 0.0,<br>    \"train_Reconstruction amount_rur_mean\": 0.9984688462155957,<br>    \"train_Reconstruction amount_rur_std\": 0.0,<br>    \"loss_mean\": -0.02341703816006581,<br>    \"loss_std\": 0.0,<br>    \"kl_loss_mean\": -0.1684020350376765,<br>    \"kl_loss_std\": 0.0,<br>    \"Reconstruction overall_mean\": 0.999357364882521,<br>    \"Reconstruction overall_std\": 0.0,<br>    \"Reconstruction trans_date_mean\": 0.9998916138931954,<br>    \"Reconstruction trans_date_std\": 0.0,<br>    \"Reconstruction age_mean\": 0.9998280342402935,<br>    \"Reconstruction age_std\": 0.0,<br>    \"Reconstruction small_group_mean\": 0.9990828492815653,<br>    \"Reconstruction small_group_std\": 0.0,<br>    \"Reconstruction amount_rur_mean\": 0.9986269621150297,<br>    \"Reconstruction amount_rur_std\": 0.0,<br>    \"test_loss_mean\": -0.023424994627324242,<br>    \"test_loss_std\": 0.0,<br>    \"test_kl_loss_mean\": -0.16828033421188593,<br>    \"test_kl_loss_std\": 0.0,<br>    \"test_Reconstruction overall_mean\": 0.9994016475637196,<br>    \"test_Reconstruction overall_std\": 0.0,<br>    \"test_Reconstruction trans_date_mean\": 0.9998521976995183,<br>    \"test_Reconstruction trans_date_std\": 0.0,<br>    \"test_Reconstruction age_mean\": 0.9998582123411979,<br>    \"test_Reconstruction age_std\": 0.0,<br>    \"test_Reconstruction small_group_mean\": 0.9993080762250454,<br>    \"test_Reconstruction small_group_std\": 0.0,<br>    \"test_Reconstruction amount_rur_mean\": 0.998588103989117,<br>    \"test_Reconstruction amount_rur_std\": 0.0,<br>    \"memory_after_mean\": 36692.0,<br>    \"memory_after_std\": 0.0<br>  }<br>}",
          "{<br>  \"number\": 21,<br>  \"values\": [<br>    -0.023330500535666942<br>  ],<br>  \"params\": {<br>    \"optimizer.params.weight_decay\": 2.8536416663577164e-15,<br>    \"optimizer.params.lr\": 0.004963930379241404,<br>    \"model.autoencoder.params.d_token\": 72,<br>    \"model.autoencoder.params.num_layers\": 6,<br>    \"model.autoencoder.params.n_head\": 4,<br>    \"model.autoencoder.params.factor\": 1,<br>    \"data_conf.train_transforms.1.TimeToDiff.disable\": true,<br>    \"schedulers.step.StepLR.step_size\": 40,<br>    \"schedulers.beta.BetaScheduler.init_beta\": 0.005036860195496617,<br>    \"schedulers.beta.BetaScheduler.factor\": 0.2,<br>    \"schedulers.beta.BetaScheduler.patience\": 3<br>  },<br>  \"user_attrs\": {<br>    \"train_Reconstruction overall_mean\": 0.9212382778663699,<br>    \"train_Reconstruction overall_std\": 0.0,<br>    \"train_Reconstruction trans_date_mean\": 0.687980578866067,<br>    \"train_Reconstruction trans_date_std\": 0.0,<br>    \"train_Reconstruction age_mean\": 1.0,<br>    \"train_Reconstruction age_std\": 0.0,<br>    \"train_Reconstruction small_group_mean\": 0.9999982933755666,<br>    \"train_Reconstruction small_group_std\": 0.0,<br>    \"train_Reconstruction amount_rur_mean\": 0.9969742392238458,<br>    \"train_Reconstruction amount_rur_std\": 0.0,<br>    \"loss_mean\": -0.023330500535666942,<br>    \"loss_std\": 0.0,<br>    \"kl_loss_mean\": -3.9040053844451905,<br>    \"kl_loss_std\": 0.0,<br>    \"Reconstruction overall_mean\": 0.9204930450530387,<br>    \"Reconstruction overall_std\": 0.0,<br>    \"Reconstruction trans_date_mean\": 0.6850557928703711,<br>    \"Reconstruction trans_date_std\": 0.0,<br>    \"Reconstruction age_mean\": 1.0,<br>    \"Reconstruction age_std\": 0.0,<br>    \"Reconstruction small_group_mean\": 1.0,<br>    \"Reconstruction small_group_std\": 0.0,<br>    \"Reconstruction amount_rur_mean\": 0.9969163873417837,<br>    \"Reconstruction amount_rur_std\": 0.0,<br>    \"test_loss_mean\": -0.023296083711708587,<br>    \"test_loss_std\": 0.0,<br>    \"test_kl_loss_mean\": -3.9024758338928223,<br>    \"test_kl_loss_std\": 0.0,<br>    \"test_Reconstruction overall_mean\": 0.9218241830763114,<br>    \"test_Reconstruction overall_std\": 0.0,<br>    \"test_Reconstruction trans_date_mean\": 0.6903241489701892,<br>    \"test_Reconstruction trans_date_std\": 0.0,<br>    \"test_Reconstruction age_mean\": 1.0,<br>    \"test_Reconstruction age_std\": 0.0,<br>    \"test_Reconstruction small_group_mean\": 1.0,<br>    \"test_Reconstruction small_group_std\": 0.0,<br>    \"test_Reconstruction amount_rur_mean\": 0.9969725833350562,<br>    \"test_Reconstruction amount_rur_std\": 0.0,<br>    \"memory_after_mean\": 65154.0,<br>    \"memory_after_std\": 0.0<br>  }<br>}",
          "{<br>  \"number\": 22,<br>  \"values\": [<br>    -0.02259613654265801<br>  ],<br>  \"params\": {<br>    \"optimizer.params.weight_decay\": 7.442828520574864e-14,<br>    \"optimizer.params.lr\": 0.004357895909074483,<br>    \"model.autoencoder.params.d_token\": 72,<br>    \"model.autoencoder.params.num_layers\": 4,<br>    \"model.autoencoder.params.n_head\": 8,<br>    \"model.autoencoder.params.factor\": 1,<br>    \"data_conf.train_transforms.1.TimeToDiff.disable\": true,<br>    \"schedulers.step.StepLR.step_size\": 50,<br>    \"schedulers.beta.BetaScheduler.init_beta\": 0.015040067300177953,<br>    \"schedulers.beta.BetaScheduler.factor\": 0.4,<br>    \"schedulers.beta.BetaScheduler.patience\": 6<br>  },<br>  \"user_attrs\": {<br>    \"train_Reconstruction overall_mean\": 0.9233487814942791,<br>    \"train_Reconstruction overall_std\": 0.0,<br>    \"train_Reconstruction trans_date_mean\": 0.6940356590447901,<br>    \"train_Reconstruction trans_date_std\": 0.0,<br>    \"train_Reconstruction age_mean\": 0.9999983000598379,<br>    \"train_Reconstruction age_std\": 0.0,<br>    \"train_Reconstruction small_group_mean\": 0.9999949001795136,<br>    \"train_Reconstruction small_group_std\": 0.0,<br>    \"train_Reconstruction amount_rur_mean\": 0.9993662666929743,<br>    \"train_Reconstruction amount_rur_std\": 0.0,<br>    \"loss_mean\": -0.02259613654265801,<br>    \"loss_std\": 0.0,<br>    \"kl_loss_mean\": -0.6501382152239482,<br>    \"kl_loss_std\": 0.0,<br>    \"Reconstruction overall_mean\": 0.9235772947638287,<br>    \"Reconstruction overall_std\": 0.0,<br>    \"Reconstruction trans_date_mean\": 0.6949518409075999,<br>    \"Reconstruction trans_date_std\": 0.0,<br>    \"Reconstruction age_mean\": 1.0,<br>    \"Reconstruction age_std\": 0.0,<br>    \"Reconstruction small_group_mean\": 1.0,<br>    \"Reconstruction small_group_std\": 0.0,<br>    \"Reconstruction amount_rur_mean\": 0.9993573381477145,<br>    \"Reconstruction amount_rur_std\": 0.0,<br>    \"test_loss_mean\": -0.022600955640276272,<br>    \"test_loss_std\": 0.0,<br>    \"test_kl_loss_mean\": -0.6501554201046625,<br>    \"test_kl_loss_std\": 0.0,<br>    \"test_Reconstruction overall_mean\": 0.9250560266366092,<br>    \"test_Reconstruction overall_std\": 0.0,<br>    \"test_Reconstruction trans_date_mean\": 0.7008570260555567,<br>    \"test_Reconstruction trans_date_std\": 0.0,<br>    \"test_Reconstruction age_mean\": 1.0,<br>    \"test_Reconstruction age_std\": 0.0,<br>    \"test_Reconstruction small_group_mean\": 0.9999943284936479,<br>    \"test_Reconstruction small_group_std\": 0.0,<br>    \"test_Reconstruction amount_rur_mean\": 0.9993727519972324,<br>    \"test_Reconstruction amount_rur_std\": 0.0,<br>    \"memory_after_mean\": 44606.0,<br>    \"memory_after_std\": 0.0<br>  }<br>}",
          "{<br>  \"number\": 23,<br>  \"values\": [<br>    -0.01976742036640644<br>  ],<br>  \"params\": {<br>    \"optimizer.params.weight_decay\": 2.5018811032969796e-10,<br>    \"optimizer.params.lr\": 0.0026371693993216734,<br>    \"model.autoencoder.params.d_token\": 64,<br>    \"model.autoencoder.params.num_layers\": 8,<br>    \"model.autoencoder.params.n_head\": 1,<br>    \"model.autoencoder.params.factor\": 1,<br>    \"data_conf.train_transforms.1.TimeToDiff.disable\": true,<br>    \"schedulers.step.StepLR.step_size\": 50,<br>    \"schedulers.beta.BetaScheduler.init_beta\": 0.0012981258450870876,<br>    \"schedulers.beta.BetaScheduler.factor\": 0.2,<br>    \"schedulers.beta.BetaScheduler.patience\": 3<br>  },<br>  \"user_attrs\": {<br>    \"train_Reconstruction overall_mean\": 0.9452372026504542,<br>    \"train_Reconstruction overall_std\": 0.0,<br>    \"train_Reconstruction trans_date_mean\": 0.7852346372088999,<br>    \"train_Reconstruction trans_date_std\": 0.0,<br>    \"train_Reconstruction age_mean\": 1.0,<br>    \"train_Reconstruction age_std\": 0.0,<br>    \"train_Reconstruction small_group_mean\": 0.9999982933755666,<br>    \"train_Reconstruction small_group_std\": 0.0,<br>    \"train_Reconstruction amount_rur_mean\": 0.9957158800173503,<br>    \"train_Reconstruction amount_rur_std\": 0.0,<br>    \"loss_mean\": -0.01976742036640644,<br>    \"loss_std\": 0.0,<br>    \"kl_loss_mean\": -6.375482829411824,<br>    \"kl_loss_std\": 0.0,<br>    \"Reconstruction overall_mean\": 0.9447162123246593,<br>    \"Reconstruction overall_std\": 0.0,<br>    \"Reconstruction trans_date_mean\": 0.783098277335327,<br>    \"Reconstruction trans_date_std\": 0.0,<br>    \"Reconstruction age_mean\": 1.0,<br>    \"Reconstruction age_std\": 0.0,<br>    \"Reconstruction small_group_mean\": 1.0,<br>    \"Reconstruction small_group_std\": 0.0,<br>    \"Reconstruction amount_rur_mean\": 0.9957665719633104,<br>    \"Reconstruction amount_rur_std\": 0.0,<br>    \"test_loss_mean\": -0.019685492501594126,<br>    \"test_loss_std\": 0.0,<br>    \"test_kl_loss_mean\": -6.372525175412496,<br>    \"test_kl_loss_std\": 0.0,<br>    \"test_Reconstruction overall_mean\": 0.9440900831008221,<br>    \"test_Reconstruction overall_std\": 0.0,<br>    \"test_Reconstruction trans_date_mean\": 0.7805777152957248,<br>    \"test_Reconstruction trans_date_std\": 0.0,<br>    \"test_Reconstruction age_mean\": 1.0,<br>    \"test_Reconstruction age_std\": 0.0,<br>    \"test_Reconstruction small_group_mean\": 1.0,<br>    \"test_Reconstruction small_group_std\": 0.0,<br>    \"test_Reconstruction amount_rur_mean\": 0.9957826171075636,<br>    \"test_Reconstruction amount_rur_std\": 0.0,<br>    \"memory_after_mean\": 67636.0,<br>    \"memory_after_std\": 0.0<br>  }<br>}",
          "{<br>  \"number\": 24,<br>  \"values\": [<br>    -0.015141473710536956<br>  ],<br>  \"params\": {<br>    \"optimizer.params.weight_decay\": 7.482234408473642e-12,<br>    \"optimizer.params.lr\": 0.0003948573455632436,<br>    \"model.autoencoder.params.d_token\": 24,<br>    \"model.autoencoder.params.num_layers\": 9,<br>    \"model.autoencoder.params.n_head\": 4,<br>    \"model.autoencoder.params.factor\": 20,<br>    \"data_conf.train_transforms.1.TimeToDiff.disable\": true,<br>    \"schedulers.step.StepLR.step_size\": 30,<br>    \"schedulers.beta.BetaScheduler.init_beta\": 0.3658385037573659,<br>    \"schedulers.beta.BetaScheduler.factor\": 0.30000000000000004,<br>    \"schedulers.beta.BetaScheduler.patience\": 5<br>  },<br>  \"user_attrs\": {<br>    \"train_Reconstruction overall_mean\": 0.9377623441420624,<br>    \"train_Reconstruction overall_std\": 0.0,<br>    \"train_Reconstruction trans_date_mean\": 0.752127938999114,<br>    \"train_Reconstruction trans_date_std\": 0.0,<br>    \"train_Reconstruction age_mean\": 0.9999778477561481,<br>    \"train_Reconstruction age_std\": 0.0,<br>    \"train_Reconstruction small_group_mean\": 0.9998534543868259,<br>    \"train_Reconstruction small_group_std\": 0.0,<br>    \"train_Reconstruction amount_rur_mean\": 0.9990901354261615,<br>    \"train_Reconstruction amount_rur_std\": 0.0,<br>    \"loss_mean\": -0.015141473710536956,<br>    \"loss_std\": 0.0,<br>    \"kl_loss_mean\": -0.2719753255446752,<br>    \"kl_loss_std\": 0.0,<br>    \"Reconstruction overall_mean\": 0.9371100544025495,<br>    \"Reconstruction overall_std\": 0.0,<br>    \"Reconstruction trans_date_mean\": 0.7493544342100248,<br>    \"Reconstruction trans_date_std\": 0.0,<br>    \"Reconstruction age_mean\": 0.999980892693366,<br>    \"Reconstruction age_std\": 0.0,<br>    \"Reconstruction small_group_mean\": 0.9998853561601957,<br>    \"Reconstruction small_group_std\": 0.0,<br>    \"Reconstruction amount_rur_mean\": 0.9992195345466115,<br>    \"Reconstruction amount_rur_std\": 0.0,<br>    \"test_loss_mean\": -0.015101479870888094,<br>    \"test_loss_std\": 0.0,<br>    \"test_kl_loss_mean\": -0.27213029935956,<br>    \"test_kl_loss_std\": 0.0,<br>    \"test_Reconstruction overall_mean\": 0.9379066826901827,<br>    \"test_Reconstruction overall_std\": 0.0,<br>    \"test_Reconstruction trans_date_mean\": 0.7525152755233981,<br>    \"test_Reconstruction trans_date_std\": 0.0,<br>    \"test_Reconstruction age_mean\": 0.9999886569872958,<br>    \"test_Reconstruction age_std\": 0.0,<br>    \"test_Reconstruction small_group_mean\": 0.999869555353902,<br>    \"test_Reconstruction small_group_std\": 0.0,<br>    \"test_Reconstruction amount_rur_mean\": 0.9992532428961352,<br>    \"test_Reconstruction amount_rur_std\": 0.0,<br>    \"memory_after_mean\": 79956.0,<br>    \"memory_after_std\": 0.0<br>  }<br>}",
          "{<br>  \"number\": 25,<br>  \"values\": [<br>    -0.0101166443588833<br>  ],<br>  \"params\": {<br>    \"optimizer.params.weight_decay\": 8.000347810423562e-14,<br>    \"optimizer.params.lr\": 0.0002866501245532863,<br>    \"model.autoencoder.params.d_token\": 32,<br>    \"model.autoencoder.params.num_layers\": 1,<br>    \"model.autoencoder.params.n_head\": 4,<br>    \"model.autoencoder.params.factor\": 3,<br>    \"data_conf.train_transforms.1.TimeToDiff.disable\": true,<br>    \"schedulers.step.StepLR.step_size\": 20,<br>    \"schedulers.beta.BetaScheduler.init_beta\": 0.00503970441296391,<br>    \"schedulers.beta.BetaScheduler.factor\": 0.1,<br>    \"schedulers.beta.BetaScheduler.patience\": 8<br>  },<br>  \"user_attrs\": {<br>    \"train_Reconstruction overall_mean\": 0.9767681439959698,<br>    \"train_Reconstruction overall_std\": 0.0,<br>    \"train_Reconstruction trans_date_mean\": 0.90879728792025,<br>    \"train_Reconstruction trans_date_std\": 0.0,<br>    \"train_Reconstruction age_mean\": 1.0,<br>    \"train_Reconstruction age_std\": 0.0,<br>    \"train_Reconstruction small_group_mean\": 0.99928260810295,<br>    \"train_Reconstruction small_group_std\": 0.0,<br>    \"train_Reconstruction amount_rur_mean\": 0.9989926799606789,<br>    \"train_Reconstruction amount_rur_std\": 0.0,<br>    \"loss_mean\": -0.0101166443588833,<br>    \"loss_std\": 0.0,<br>    \"kl_loss_mean\": -4.512954298655192,<br>    \"kl_loss_std\": 0.0,<br>    \"Reconstruction overall_mean\": 0.9794306200071528,<br>    \"Reconstruction overall_std\": 0.0,<br>    \"Reconstruction trans_date_mean\": 0.9192928728475684,<br>    \"Reconstruction trans_date_std\": 0.0,<br>    \"Reconstruction age_mean\": 1.0,<br>    \"Reconstruction age_std\": 0.0,<br>    \"Reconstruction small_group_mean\": 0.9991688321614185,<br>    \"Reconstruction small_group_std\": 0.0,<br>    \"Reconstruction amount_rur_mean\": 0.9992607750196243,<br>    \"Reconstruction amount_rur_std\": 0.0,<br>    \"test_loss_mean\": -0.010094977488430837,<br>    \"test_loss_std\": 0.0,<br>    \"test_kl_loss_mean\": -4.5134470363457995,<br>    \"test_kl_loss_std\": 0.0,<br>    \"test_Reconstruction overall_mean\": 0.9812591383356887,<br>    \"test_Reconstruction overall_std\": 0.0,<br>    \"test_Reconstruction trans_date_mean\": 0.9264098766747946,<br>    \"test_Reconstruction trans_date_std\": 0.0,<br>    \"test_Reconstruction age_mean\": 1.0,<br>    \"test_Reconstruction age_std\": 0.0,<br>    \"test_Reconstruction small_group_mean\": 0.9992400181488204,<br>    \"test_Reconstruction small_group_std\": 0.0,<br>    \"test_Reconstruction amount_rur_mean\": 0.9993866585191395,<br>    \"test_Reconstruction amount_rur_std\": 0.0,<br>    \"memory_after_mean\": 6792.0,<br>    \"memory_after_std\": 0.0<br>  }<br>}",
          "{<br>  \"number\": 26,<br>  \"values\": [<br>    -0.009548212339480718<br>  ],<br>  \"params\": {<br>    \"optimizer.params.weight_decay\": 3.3412512224920427e-10,<br>    \"optimizer.params.lr\": 0.0009167572639460084,<br>    \"model.autoencoder.params.d_token\": 56,<br>    \"model.autoencoder.params.num_layers\": 1,<br>    \"model.autoencoder.params.n_head\": 1,<br>    \"model.autoencoder.params.factor\": 3,<br>    \"data_conf.train_transforms.1.TimeToDiff.disable\": true,<br>    \"schedulers.step.StepLR.step_size\": 50,<br>    \"schedulers.beta.BetaScheduler.init_beta\": 0.001248572147919998,<br>    \"schedulers.beta.BetaScheduler.factor\": 0.2,<br>    \"schedulers.beta.BetaScheduler.patience\": 3<br>  },<br>  \"user_attrs\": {<br>    \"train_Reconstruction overall_mean\": 0.971554843449915,<br>    \"train_Reconstruction overall_std\": 0.0,<br>    \"train_Reconstruction trans_date_mean\": 0.8865592033294193,<br>    \"train_Reconstruction trans_date_std\": 0.0,<br>    \"train_Reconstruction age_mean\": 1.0,<br>    \"train_Reconstruction age_std\": 0.0,<br>    \"train_Reconstruction small_group_mean\": 1.0,<br>    \"train_Reconstruction small_group_std\": 0.0,<br>    \"train_Reconstruction amount_rur_mean\": 0.9996601704702408,<br>    \"train_Reconstruction amount_rur_std\": 0.0,<br>    \"loss_mean\": -0.009548212339480718,<br>    \"loss_std\": 0.0,<br>    \"kl_loss_mean\": -6.1638922691345215,<br>    \"kl_loss_std\": 0.0,<br>    \"Reconstruction overall_mean\": 0.9717778827759109,<br>    \"Reconstruction overall_std\": 0.0,<br>    \"Reconstruction trans_date_mean\": 0.8874062240264526,<br>    \"Reconstruction trans_date_std\": 0.0,<br>    \"Reconstruction age_mean\": 1.0,<br>    \"Reconstruction age_std\": 0.0,<br>    \"Reconstruction small_group_mean\": 1.0,<br>    \"Reconstruction small_group_std\": 0.0,<br>    \"Reconstruction amount_rur_mean\": 0.9997053070771909,<br>    \"Reconstruction amount_rur_std\": 0.0,<br>    \"test_loss_mean\": -0.009539588451540718,<br>    \"test_loss_std\": 0.0,<br>    \"test_kl_loss_mean\": -6.1650994916756945,<br>    \"test_kl_loss_std\": 0.0,<br>    \"test_Reconstruction overall_mean\": 0.9718968471329696,<br>    \"test_Reconstruction overall_std\": 0.0,<br>    \"test_Reconstruction trans_date_mean\": 0.8878830681973074,<br>    \"test_Reconstruction trans_date_std\": 0.0,<br>    \"test_Reconstruction age_mean\": 1.0,<br>    \"test_Reconstruction age_std\": 0.0,<br>    \"test_Reconstruction small_group_mean\": 0.9999943284936479,<br>    \"test_Reconstruction small_group_std\": 0.0,<br>    \"test_Reconstruction amount_rur_mean\": 0.9997099918409232,<br>    \"test_Reconstruction amount_rur_std\": 0.0,<br>    \"memory_after_mean\": 12264.0,<br>    \"memory_after_std\": 0.0<br>  }<br>}",
          "{<br>  \"number\": 27,<br>  \"values\": [<br>    -0.007310594835629066<br>  ],<br>  \"params\": {<br>    \"optimizer.params.weight_decay\": 1.6746820665876929e-15,<br>    \"optimizer.params.lr\": 0.0003887905280875614,<br>    \"model.autoencoder.params.d_token\": 96,<br>    \"model.autoencoder.params.num_layers\": 6,<br>    \"model.autoencoder.params.n_head\": 2,<br>    \"model.autoencoder.params.factor\": 1,<br>    \"data_conf.train_transforms.1.TimeToDiff.disable\": true,<br>    \"schedulers.step.StepLR.step_size\": 10,<br>    \"schedulers.beta.BetaScheduler.init_beta\": 0.001248910842809436,<br>    \"schedulers.beta.BetaScheduler.factor\": 0.1,<br>    \"schedulers.beta.BetaScheduler.patience\": 7<br>  },<br>  \"user_attrs\": {<br>    \"train_Reconstruction overall_mean\": 0.9675408988914853,<br>    \"train_Reconstruction overall_std\": 0.0,<br>    \"train_Reconstruction trans_date_mean\": 0.8714996371787531,<br>    \"train_Reconstruction trans_date_std\": 0.0,<br>    \"train_Reconstruction age_mean\": 1.0,<br>    \"train_Reconstruction age_std\": 0.0,<br>    \"train_Reconstruction small_group_mean\": 0.9999337995654536,<br>    \"train_Reconstruction small_group_std\": 0.0,<br>    \"train_Reconstruction amount_rur_mean\": 0.9987301588217348,<br>    \"train_Reconstruction amount_rur_std\": 0.0,<br>    \"loss_mean\": -0.007310594835629066,<br>    \"loss_std\": 0.0,<br>    \"kl_loss_mean\": -5.24824374516805,<br>    \"kl_loss_std\": 0.0,<br>    \"Reconstruction overall_mean\": 0.968912383479873,<br>    \"Reconstruction overall_std\": 0.0,<br>    \"Reconstruction trans_date_mean\": 0.876756024737505,<br>    \"Reconstruction trans_date_std\": 0.0,<br>    \"Reconstruction age_mean\": 1.0,<br>    \"Reconstruction age_std\": 0.0,<br>    \"Reconstruction small_group_mean\": 0.9998184805869764,<br>    \"Reconstruction small_group_std\": 0.0,<br>    \"Reconstruction amount_rur_mean\": 0.9990750285950101,<br>    \"Reconstruction amount_rur_std\": 0.0,<br>    \"test_loss_mean\": -0.007295051434387763,<br>    \"test_loss_std\": 0.0,<br>    \"test_kl_loss_mean\": -5.248738249142964,<br>    \"test_kl_loss_std\": 0.0,<br>    \"test_Reconstruction overall_mean\": 0.969855185232115,<br>    \"test_Reconstruction overall_std\": 0.0,<br>    \"test_Reconstruction trans_date_mean\": 0.8803953322052595,<br>    \"test_Reconstruction trans_date_std\": 0.0,<br>    \"test_Reconstruction age_mean\": 1.0,<br>    \"test_Reconstruction age_std\": 0.0,<br>    \"test_Reconstruction small_group_mean\": 0.9998979128856624,<br>    \"test_Reconstruction small_group_std\": 0.0,<br>    \"test_Reconstruction amount_rur_mean\": 0.9991274958375381,<br>    \"test_Reconstruction amount_rur_std\": 0.0,<br>    \"memory_after_mean\": 80494.0,<br>    \"memory_after_std\": 0.0<br>  }<br>}",
          "{<br>  \"number\": 28,<br>  \"values\": [<br>    -0.007070646528154612<br>  ],<br>  \"params\": {<br>    \"optimizer.params.weight_decay\": 7.196604203802534e-14,<br>    \"optimizer.params.lr\": 0.0007805247406158915,<br>    \"model.autoencoder.params.d_token\": 72,<br>    \"model.autoencoder.params.num_layers\": 9,<br>    \"model.autoencoder.params.n_head\": 4,<br>    \"model.autoencoder.params.factor\": 1,<br>    \"data_conf.train_transforms.1.TimeToDiff.disable\": true,<br>    \"schedulers.step.StepLR.step_size\": 20,<br>    \"schedulers.beta.BetaScheduler.init_beta\": 0.009460007093095059,<br>    \"schedulers.beta.BetaScheduler.factor\": 0.4,<br>    \"schedulers.beta.BetaScheduler.patience\": 9<br>  },<br>  \"user_attrs\": {<br>    \"train_Reconstruction overall_mean\": 0.984111316879796,<br>    \"train_Reconstruction overall_std\": 0.0,<br>    \"train_Reconstruction trans_date_mean\": 0.9367469798035316,<br>    \"train_Reconstruction trans_date_std\": 0.0,<br>    \"train_Reconstruction age_mean\": 0.9999982976521218,<br>    \"train_Reconstruction age_std\": 0.0,<br>    \"train_Reconstruction small_group_mean\": 0.9999897859127308,<br>    \"train_Reconstruction small_group_std\": 0.0,<br>    \"train_Reconstruction amount_rur_mean\": 0.9997102041508,<br>    \"train_Reconstruction amount_rur_std\": 0.0,<br>    \"loss_mean\": -0.007070646528154612,<br>    \"loss_std\": 0.0,<br>    \"kl_loss_mean\": -2.038015381495158,<br>    \"kl_loss_std\": 0.0,<br>    \"Reconstruction overall_mean\": 0.983827290713412,<br>    \"Reconstruction overall_std\": 0.0,<br>    \"Reconstruction trans_date_mean\": 0.9355294051301736,<br>    \"Reconstruction trans_date_std\": 0.0,<br>    \"Reconstruction age_mean\": 1.0,<br>    \"Reconstruction age_std\": 0.0,<br>    \"Reconstruction small_group_mean\": 0.999990446346683,<br>    \"Reconstruction small_group_std\": 0.0,<br>    \"Reconstruction amount_rur_mean\": 0.9997893113767914,<br>    \"Reconstruction amount_rur_std\": 0.0,<br>    \"test_loss_mean\": -0.0070447604909228785,<br>    \"test_loss_std\": 0.0,<br>    \"test_kl_loss_mean\": -2.0375547409057617,<br>    \"test_kl_loss_std\": 0.0,<br>    \"test_Reconstruction overall_mean\": 0.9840821802931148,<br>    \"test_Reconstruction overall_std\": 0.0,<br>    \"test_Reconstruction trans_date_mean\": 0.9364916069873298,<br>    \"test_Reconstruction trans_date_std\": 0.0,<br>    \"test_Reconstruction age_mean\": 0.9999943284936479,<br>    \"test_Reconstruction age_std\": 0.0,<br>    \"test_Reconstruction small_group_mean\": 1.0,<br>    \"test_Reconstruction small_group_std\": 0.0,<br>    \"test_Reconstruction amount_rur_mean\": 0.9998427856914814,<br>    \"test_Reconstruction amount_rur_std\": 0.0,<br>    \"memory_after_mean\": 80448.0,<br>    \"memory_after_std\": 0.0<br>  }<br>}",
          "{<br>  \"number\": 29,<br>  \"values\": [<br>    -0.0033502683664361635<br>  ],<br>  \"params\": {<br>    \"optimizer.params.weight_decay\": 5.191596419828728e-12,<br>    \"optimizer.params.lr\": 0.004699533798792114,<br>    \"model.autoencoder.params.d_token\": 8,<br>    \"model.autoencoder.params.num_layers\": 9,<br>    \"model.autoencoder.params.n_head\": 4,<br>    \"model.autoencoder.params.factor\": 3,<br>    \"data_conf.train_transforms.1.TimeToDiff.disable\": true,<br>    \"schedulers.step.StepLR.step_size\": 50,<br>    \"schedulers.beta.BetaScheduler.init_beta\": 0.3421247036410567,<br>    \"schedulers.beta.BetaScheduler.factor\": 0.7000000000000001,<br>    \"schedulers.beta.BetaScheduler.patience\": 3<br>  },<br>  \"user_attrs\": {<br>    \"train_Reconstruction overall_mean\": 0.9963316430203729,<br>    \"train_Reconstruction overall_std\": 0.0,<br>    \"train_Reconstruction trans_date_mean\": 0.9854840096171624,<br>    \"train_Reconstruction trans_date_std\": 0.0,<br>    \"train_Reconstruction age_mean\": 1.0,<br>    \"train_Reconstruction age_std\": 0.0,<br>    \"train_Reconstruction small_group_mean\": 0.9999334271043863,<br>    \"train_Reconstruction small_group_std\": 0.0,<br>    \"train_Reconstruction amount_rur_mean\": 0.9999091353599429,<br>    \"train_Reconstruction amount_rur_std\": 0.0,<br>    \"loss_mean\": -0.0033502683664361635,<br>    \"loss_std\": 0.0,<br>    \"kl_loss_mean\": -0.8050596614678701,<br>    \"kl_loss_std\": 0.0,<br>    \"Reconstruction overall_mean\": 0.9963806277237278,<br>    \"Reconstruction overall_std\": 0.0,<br>    \"Reconstruction trans_date_mean\": 0.9856761220910455,<br>    \"Reconstruction trans_date_std\": 0.0,<br>    \"Reconstruction age_mean\": 1.0,<br>    \"Reconstruction age_std\": 0.0,<br>    \"Reconstruction small_group_mean\": 0.9998949098135127,<br>    \"Reconstruction small_group_std\": 0.0,<br>    \"Reconstruction amount_rur_mean\": 0.999951478990353,<br>    \"Reconstruction amount_rur_std\": 0.0,<br>    \"test_loss_mean\": -0.0033396501385141164,<br>    \"test_loss_std\": 0.0,<br>    \"test_kl_loss_mean\": -0.8051579756041368,<br>    \"test_kl_loss_std\": 0.0,<br>    \"test_Reconstruction overall_mean\": 0.9963698079788584,<br>    \"test_Reconstruction overall_std\": 0.0,<br>    \"test_Reconstruction trans_date_mean\": 0.9855859828884256,<br>    \"test_Reconstruction trans_date_std\": 0.0,<br>    \"test_Reconstruction age_mean\": 1.0,<br>    \"test_Reconstruction age_std\": 0.0,<br>    \"test_Reconstruction small_group_mean\": 0.999937613430127,<br>    \"test_Reconstruction small_group_std\": 0.0,<br>    \"test_Reconstruction amount_rur_mean\": 0.9999556355968814,<br>    \"test_Reconstruction amount_rur_std\": 0.0,<br>    \"memory_after_mean\": 8336.0,<br>    \"memory_after_std\": 0.0<br>  }<br>}",
          "{<br>  \"number\": 30,<br>  \"values\": [<br>    -0.0030262875991563004<br>  ],<br>  \"params\": {<br>    \"optimizer.params.weight_decay\": 2.0488504005310827e-14,<br>    \"optimizer.params.lr\": 0.0005760030178044513,<br>    \"model.autoencoder.params.d_token\": 88,<br>    \"model.autoencoder.params.num_layers\": 5,<br>    \"model.autoencoder.params.n_head\": 4,<br>    \"model.autoencoder.params.factor\": 1,<br>    \"data_conf.train_transforms.1.TimeToDiff.disable\": true,<br>    \"schedulers.step.StepLR.step_size\": 20,<br>    \"schedulers.beta.BetaScheduler.init_beta\": 0.0013933678381815875,<br>    \"schedulers.beta.BetaScheduler.factor\": 0.1,<br>    \"schedulers.beta.BetaScheduler.patience\": 7<br>  },<br>  \"user_attrs\": {<br>    \"train_Reconstruction overall_mean\": 0.994286475583254,<br>    \"train_Reconstruction overall_std\": 0.0,<br>    \"train_Reconstruction trans_date_mean\": 0.9773523873321402,<br>    \"train_Reconstruction trans_date_std\": 0.0,<br>    \"train_Reconstruction age_mean\": 1.0,<br>    \"train_Reconstruction age_std\": 0.0,<br>    \"train_Reconstruction small_group_mean\": 0.9999948879437265,<br>    \"train_Reconstruction small_group_std\": 0.0,<br>    \"train_Reconstruction amount_rur_mean\": 0.9997986270571491,<br>    \"train_Reconstruction amount_rur_std\": 0.0,<br>    \"loss_mean\": -0.0030262875991563004,<br>    \"loss_std\": 0.0,<br>    \"kl_loss_mean\": -7.440055322647095,<br>    \"kl_loss_std\": 0.0,<br>    \"Reconstruction overall_mean\": 0.9943519092158166,<br>    \"Reconstruction overall_std\": 0.0,<br>    \"Reconstruction trans_date_mean\": 0.9775051057826634,<br>    \"Reconstruction trans_date_std\": 0.0,<br>    \"Reconstruction age_mean\": 1.0,<br>    \"Reconstruction age_std\": 0.0,<br>    \"Reconstruction small_group_mean\": 1.0,<br>    \"Reconstruction small_group_std\": 0.0,<br>    \"Reconstruction amount_rur_mean\": 0.999902531080603,<br>    \"Reconstruction amount_rur_std\": 0.0,<br>    \"test_loss_mean\": -0.003025907305224488,<br>    \"test_loss_std\": 0.0,<br>    \"test_kl_loss_mean\": -7.4407108426094055,<br>    \"test_kl_loss_std\": 0.0,<br>    \"test_Reconstruction overall_mean\": 0.9942354627539066,<br>    \"test_Reconstruction overall_std\": 0.0,<br>    \"test_Reconstruction trans_date_mean\": 0.9770197075800823,<br>    \"test_Reconstruction trans_date_std\": 0.0,<br>    \"test_Reconstruction age_mean\": 1.0,<br>    \"test_Reconstruction age_std\": 0.0,<br>    \"test_Reconstruction small_group_mean\": 1.0,<br>    \"test_Reconstruction small_group_std\": 0.0,<br>    \"test_Reconstruction amount_rur_mean\": 0.999922143435544,<br>    \"test_Reconstruction amount_rur_std\": 0.0,<br>    \"memory_after_mean\": 80508.0,<br>    \"memory_after_std\": 0.0<br>  }<br>}",
          "{<br>  \"number\": 31,<br>  \"values\": [<br>    -0.002586140118849774<br>  ],<br>  \"params\": {<br>    \"optimizer.params.weight_decay\": 1.4306712684706629e-12,<br>    \"optimizer.params.lr\": 0.0035025246062168596,<br>    \"model.autoencoder.params.d_token\": 80,<br>    \"model.autoencoder.params.num_layers\": 5,<br>    \"model.autoencoder.params.n_head\": 1,<br>    \"model.autoencoder.params.factor\": 1,<br>    \"data_conf.train_transforms.1.TimeToDiff.disable\": true,<br>    \"schedulers.step.StepLR.step_size\": 40,<br>    \"schedulers.beta.BetaScheduler.init_beta\": 0.0035241267723292763,<br>    \"schedulers.beta.BetaScheduler.factor\": 0.1,<br>    \"schedulers.beta.BetaScheduler.patience\": 3<br>  },<br>  \"user_attrs\": {<br>    \"train_Reconstruction overall_mean\": 0.9977194016558932,<br>    \"train_Reconstruction overall_std\": 0.0,<br>    \"train_Reconstruction trans_date_mean\": 0.9909340507133172,<br>    \"train_Reconstruction trans_date_std\": 0.0,<br>    \"train_Reconstruction age_mean\": 1.0,<br>    \"train_Reconstruction age_std\": 0.0,<br>    \"train_Reconstruction small_group_mean\": 1.0,<br>    \"train_Reconstruction small_group_std\": 0.0,<br>    \"train_Reconstruction amount_rur_mean\": 0.9999435559102557,<br>    \"train_Reconstruction amount_rur_std\": 0.0,<br>    \"loss_mean\": -0.002586140118849774,<br>    \"loss_std\": 0.0,<br>    \"kl_loss_mean\": -6.5209619998931885,<br>    \"kl_loss_std\": 0.0,<br>    \"Reconstruction overall_mean\": 0.9977647750941484,<br>    \"Reconstruction overall_std\": 0.0,<br>    \"Reconstruction trans_date_mean\": 0.991096289177319,<br>    \"Reconstruction trans_date_std\": 0.0,<br>    \"Reconstruction age_mean\": 1.0,<br>    \"Reconstruction age_std\": 0.0,<br>    \"Reconstruction small_group_mean\": 1.0,<br>    \"Reconstruction small_group_std\": 0.0,<br>    \"Reconstruction amount_rur_mean\": 0.9999628111992745,<br>    \"Reconstruction amount_rur_std\": 0.0,<br>    \"test_loss_mean\": -0.0025860697157137715,<br>    \"test_loss_std\": 0.0,<br>    \"test_kl_loss_mean\": -6.523468146721522,<br>    \"test_kl_loss_std\": 0.0,<br>    \"test_Reconstruction overall_mean\": 0.997752236663218,<br>    \"test_Reconstruction overall_std\": 0.0,<br>    \"test_Reconstruction trans_date_mean\": 0.9910433246345164,<br>    \"test_Reconstruction trans_date_std\": 0.0,<br>    \"test_Reconstruction age_mean\": 1.0,<br>    \"test_Reconstruction age_std\": 0.0,<br>    \"test_Reconstruction small_group_mean\": 1.0,<br>    \"test_Reconstruction small_group_std\": 0.0,<br>    \"test_Reconstruction amount_rur_mean\": 0.9999656220183556,<br>    \"test_Reconstruction amount_rur_std\": 0.0,<br>    \"memory_after_mean\": 53982.0,<br>    \"memory_after_std\": 0.0<br>  }<br>}",
          "{<br>  \"number\": 32,<br>  \"values\": [<br>    -0.0020423500332981347<br>  ],<br>  \"params\": {<br>    \"optimizer.params.weight_decay\": 4.064923524024686e-12,<br>    \"optimizer.params.lr\": 0.0042136867096942785,<br>    \"model.autoencoder.params.d_token\": 8,<br>    \"model.autoencoder.params.num_layers\": 10,<br>    \"model.autoencoder.params.n_head\": 4,<br>    \"model.autoencoder.params.factor\": 28,<br>    \"data_conf.train_transforms.1.TimeToDiff.disable\": true,<br>    \"schedulers.step.StepLR.step_size\": 50,<br>    \"schedulers.beta.BetaScheduler.init_beta\": 0.4589620775364838,<br>    \"schedulers.beta.BetaScheduler.factor\": 0.6,<br>    \"schedulers.beta.BetaScheduler.patience\": 3<br>  },<br>  \"user_attrs\": {<br>    \"train_Reconstruction overall_mean\": 0.9985581850913359,<br>    \"train_Reconstruction overall_std\": 0.0,<br>    \"train_Reconstruction trans_date_mean\": 0.9942731537806923,<br>    \"train_Reconstruction trans_date_std\": 0.0,<br>    \"train_Reconstruction age_mean\": 1.0,<br>    \"train_Reconstruction age_std\": 0.0,<br>    \"train_Reconstruction small_group_mean\": 0.9999846997062344,<br>    \"train_Reconstruction small_group_std\": 0.0,<br>    \"train_Reconstruction amount_rur_mean\": 0.9999748868784167,<br>    \"train_Reconstruction amount_rur_std\": 0.0,<br>    \"loss_mean\": -0.0020423500332981347,<br>    \"loss_std\": 0.0,<br>    \"kl_loss_mean\": -1.0860989967981973,<br>    \"kl_loss_std\": 0.0,<br>    \"Reconstruction overall_mean\": 0.9987016532649666,<br>    \"Reconstruction overall_std\": 0.0,<br>    \"Reconstruction trans_date_mean\": 0.9948442204362911,<br>    \"Reconstruction trans_date_std\": 0.0,<br>    \"Reconstruction age_mean\": 1.0,<br>    \"Reconstruction age_std\": 0.0,<br>    \"Reconstruction small_group_mean\": 0.999980892693366,<br>    \"Reconstruction small_group_std\": 0.0,<br>    \"Reconstruction amount_rur_mean\": 0.9999814999302091,<br>    \"Reconstruction amount_rur_std\": 0.0,<br>    \"test_loss_mean\": -0.002026392612606287,<br>    \"test_loss_std\": 0.0,<br>    \"test_kl_loss_mean\": -1.0862609893083572,<br>    \"test_kl_loss_std\": 0.0,<br>    \"test_Reconstruction overall_mean\": 0.9987467616589825,<br>    \"test_Reconstruction overall_std\": 0.0,<br>    \"test_Reconstruction trans_date_mean\": 0.9950137227235902,<br>    \"test_Reconstruction trans_date_std\": 0.0,<br>    \"test_Reconstruction age_mean\": 1.0,<br>    \"test_Reconstruction age_std\": 0.0,<br>    \"test_Reconstruction small_group_mean\": 0.9999943284936479,<br>    \"test_Reconstruction small_group_std\": 0.0,<br>    \"test_Reconstruction amount_rur_mean\": 0.999978995418692,<br>    \"test_Reconstruction amount_rur_std\": 0.0,<br>    \"memory_after_mean\": 80160.0,<br>    \"memory_after_std\": 0.0<br>  }<br>}"
         ],
         "type": "scatter",
         "x": [
          -4.692121545473735,
          -1.8320843155185382,
          -1.6994108060995738,
          -1.402532622218132,
          -1.1168753678599994,
          -0.425386106595397,
          -0.37498739672203857,
          -0.21772471287598213,
          -0.14585393418868384,
          -0.10799399359772603,
          -0.08196426539992292,
          -0.0776071526731054,
          -0.0621745934865127,
          -0.04997960229714712,
          -0.04937574174255133,
          -0.045095406317462526,
          -0.03768655960448086,
          -0.033759497261295714,
          -0.029077848691182833,
          -0.023424994627324242,
          -0.023296083711708587,
          -0.022600955640276272,
          -0.019685492501594126,
          -0.015101479870888094,
          -0.010094977488430837,
          -0.009539588451540718,
          -0.007295051434387763,
          -0.0070447604909228785,
          -0.0033396501385141164,
          -0.003025907305224488,
          -0.0025860697157137715,
          -0.002026392612606287
         ],
         "y": [
          -0.8146026904384295,
          -1.1387963468829791,
          -3.2809866120417914,
          -4.1875352164109545,
          -0.9364377545813719,
          -5.420861780643463,
          -6.652277499437332,
          -0.6361203491687775,
          -0.1389590296894312,
          -0.19342642494787773,
          -1.2956504399577777,
          -9.172147313753763,
          -0.9403978350261847,
          -3.5072989016771317,
          -0.18297369126230478,
          -4.172200560569763,
          -0.2183303295945128,
          -3.9489066501458487,
          -6.020543992519379,
          -0.16828033421188593,
          -3.9024758338928223,
          -0.6501554201046625,
          -6.372525175412496,
          -0.27213029935956,
          -4.5134470363457995,
          -6.1650994916756945,
          -5.248738249142964,
          -2.0375547409057617,
          -0.8051579756041368,
          -7.4407108426094055,
          -6.523468146721522,
          -1.0862609893083572
         ]
        },
        {
         "hovertemplate": "%{text}<extra>Best Trial</extra>",
         "marker": {
          "color": [
           0
          ],
          "colorbar": {
           "title": {
            "text": "Best Trial"
           },
           "x": 1.1,
           "xpad": 40
          },
          "colorscale": [
           [
            0,
            "rgb(255,245,240)"
           ],
           [
            0.125,
            "rgb(254,224,210)"
           ],
           [
            0.25,
            "rgb(252,187,161)"
           ],
           [
            0.375,
            "rgb(252,146,114)"
           ],
           [
            0.5,
            "rgb(251,106,74)"
           ],
           [
            0.625,
            "rgb(239,59,44)"
           ],
           [
            0.75,
            "rgb(203,24,29)"
           ],
           [
            0.875,
            "rgb(165,15,21)"
           ],
           [
            1,
            "rgb(103,0,13)"
           ]
          ],
          "line": {
           "color": "Grey",
           "width": 0.5
          }
         },
         "mode": "markers",
         "showlegend": false,
         "text": [
          "{<br>  \"number\": 0,<br>  \"values\": [<br>    -8.063817087809245<br>  ],<br>  \"params\": {<br>    \"optimizer.params.weight_decay\": 2.3680323486893216e-14,<br>    \"optimizer.params.lr\": 0.005111210283306547,<br>    \"model.autoencoder.params.d_token\": 72,<br>    \"model.autoencoder.params.num_layers\": 4,<br>    \"model.autoencoder.params.n_head\": 4,<br>    \"model.autoencoder.params.factor\": 24,<br>    \"data_conf.train_transforms.1.TimeToDiff.disable\": false,<br>    \"schedulers.step.StepLR.step_size\": 20,<br>    \"schedulers.beta.BetaScheduler.init_beta\": 0.002576691079681277,<br>    \"schedulers.beta.BetaScheduler.factor\": 0.6,<br>    \"schedulers.beta.BetaScheduler.patience\": 8<br>  },<br>  \"user_attrs\": {<br>    \"train_Reconstruction overall_mean\": -155.3465044220968,<br>    \"train_Reconstruction overall_std\": 0.0,<br>    \"train_Reconstruction trans_date_mean\": -622.970579543212,<br>    \"train_Reconstruction trans_date_std\": 0.0,<br>    \"train_Reconstruction age_mean\": 0.4910736117148446,<br>    \"train_Reconstruction age_std\": 0.0,<br>    \"train_Reconstruction small_group_mean\": 0.3191833297109324,<br>    \"train_Reconstruction small_group_std\": 0.0,<br>    \"train_Reconstruction amount_rur_mean\": 0.7743049133990559,<br>    \"train_Reconstruction amount_rur_std\": 0.0,<br>    \"loss_mean\": -8.063817087809245,<br>    \"loss_std\": 0.0,<br>    \"kl_loss_mean\": -9.888531748453776,<br>    \"kl_loss_std\": 0.0,<br>    \"Reconstruction overall_mean\": -157.38296286107246,<br>    \"Reconstruction overall_std\": 0.0,<br>    \"Reconstruction trans_date_mean\": -631.1266228486361,<br>    \"Reconstruction trans_date_std\": 0.0,<br>    \"Reconstruction age_mean\": 0.5024743962091104,<br>    \"Reconstruction age_std\": 0.0,<br>    \"Reconstruction small_group_mean\": 0.3184137114032406,<br>    \"Reconstruction small_group_std\": 0.0,<br>    \"Reconstruction amount_rur_mean\": 0.7738832967339839,<br>    \"Reconstruction amount_rur_std\": 0.0,<br>    \"test_loss_mean\": -8.08248296380043,<br>    \"test_loss_std\": 0.0,<br>    \"test_kl_loss_mean\": -9.888338764508566,<br>    \"test_kl_loss_std\": 0.0,<br>    \"test_Reconstruction overall_mean\": -157.73039740897977,<br>    \"test_Reconstruction overall_std\": 0.0,<br>    \"test_Reconstruction trans_date_mean\": -632.5064965070127,<br>    \"test_Reconstruction trans_date_std\": 0.0,<br>    \"test_Reconstruction age_mean\": 0.49090857531760435,<br>    \"test_Reconstruction age_std\": 0.0,<br>    \"test_Reconstruction small_group_mean\": 0.3191356624319419,<br>    \"test_Reconstruction small_group_std\": 0.0,<br>    \"test_Reconstruction amount_rur_mean\": 0.7748626333440853,<br>    \"test_Reconstruction amount_rur_std\": 0.0,<br>    \"memory_after_mean\": 79210.0,<br>    \"memory_after_std\": 0.0<br>  }<br>}"
         ],
         "type": "scatter",
         "x": [
          -8.08248296380043
         ],
         "y": [
          -9.888338764508566
         ]
        }
       ],
       "layout": {
        "template": {
         "data": {
          "bar": [
           {
            "error_x": {
             "color": "#2a3f5f"
            },
            "error_y": {
             "color": "#2a3f5f"
            },
            "marker": {
             "line": {
              "color": "#E5ECF6",
              "width": 0.5
             },
             "pattern": {
              "fillmode": "overlay",
              "size": 10,
              "solidity": 0.2
             }
            },
            "type": "bar"
           }
          ],
          "barpolar": [
           {
            "marker": {
             "line": {
              "color": "#E5ECF6",
              "width": 0.5
             },
             "pattern": {
              "fillmode": "overlay",
              "size": 10,
              "solidity": 0.2
             }
            },
            "type": "barpolar"
           }
          ],
          "carpet": [
           {
            "aaxis": {
             "endlinecolor": "#2a3f5f",
             "gridcolor": "white",
             "linecolor": "white",
             "minorgridcolor": "white",
             "startlinecolor": "#2a3f5f"
            },
            "baxis": {
             "endlinecolor": "#2a3f5f",
             "gridcolor": "white",
             "linecolor": "white",
             "minorgridcolor": "white",
             "startlinecolor": "#2a3f5f"
            },
            "type": "carpet"
           }
          ],
          "choropleth": [
           {
            "colorbar": {
             "outlinewidth": 0,
             "ticks": ""
            },
            "type": "choropleth"
           }
          ],
          "contour": [
           {
            "colorbar": {
             "outlinewidth": 0,
             "ticks": ""
            },
            "colorscale": [
             [
              0,
              "#0d0887"
             ],
             [
              0.1111111111111111,
              "#46039f"
             ],
             [
              0.2222222222222222,
              "#7201a8"
             ],
             [
              0.3333333333333333,
              "#9c179e"
             ],
             [
              0.4444444444444444,
              "#bd3786"
             ],
             [
              0.5555555555555556,
              "#d8576b"
             ],
             [
              0.6666666666666666,
              "#ed7953"
             ],
             [
              0.7777777777777778,
              "#fb9f3a"
             ],
             [
              0.8888888888888888,
              "#fdca26"
             ],
             [
              1,
              "#f0f921"
             ]
            ],
            "type": "contour"
           }
          ],
          "contourcarpet": [
           {
            "colorbar": {
             "outlinewidth": 0,
             "ticks": ""
            },
            "type": "contourcarpet"
           }
          ],
          "heatmap": [
           {
            "colorbar": {
             "outlinewidth": 0,
             "ticks": ""
            },
            "colorscale": [
             [
              0,
              "#0d0887"
             ],
             [
              0.1111111111111111,
              "#46039f"
             ],
             [
              0.2222222222222222,
              "#7201a8"
             ],
             [
              0.3333333333333333,
              "#9c179e"
             ],
             [
              0.4444444444444444,
              "#bd3786"
             ],
             [
              0.5555555555555556,
              "#d8576b"
             ],
             [
              0.6666666666666666,
              "#ed7953"
             ],
             [
              0.7777777777777778,
              "#fb9f3a"
             ],
             [
              0.8888888888888888,
              "#fdca26"
             ],
             [
              1,
              "#f0f921"
             ]
            ],
            "type": "heatmap"
           }
          ],
          "histogram": [
           {
            "marker": {
             "pattern": {
              "fillmode": "overlay",
              "size": 10,
              "solidity": 0.2
             }
            },
            "type": "histogram"
           }
          ],
          "histogram2d": [
           {
            "colorbar": {
             "outlinewidth": 0,
             "ticks": ""
            },
            "colorscale": [
             [
              0,
              "#0d0887"
             ],
             [
              0.1111111111111111,
              "#46039f"
             ],
             [
              0.2222222222222222,
              "#7201a8"
             ],
             [
              0.3333333333333333,
              "#9c179e"
             ],
             [
              0.4444444444444444,
              "#bd3786"
             ],
             [
              0.5555555555555556,
              "#d8576b"
             ],
             [
              0.6666666666666666,
              "#ed7953"
             ],
             [
              0.7777777777777778,
              "#fb9f3a"
             ],
             [
              0.8888888888888888,
              "#fdca26"
             ],
             [
              1,
              "#f0f921"
             ]
            ],
            "type": "histogram2d"
           }
          ],
          "histogram2dcontour": [
           {
            "colorbar": {
             "outlinewidth": 0,
             "ticks": ""
            },
            "colorscale": [
             [
              0,
              "#0d0887"
             ],
             [
              0.1111111111111111,
              "#46039f"
             ],
             [
              0.2222222222222222,
              "#7201a8"
             ],
             [
              0.3333333333333333,
              "#9c179e"
             ],
             [
              0.4444444444444444,
              "#bd3786"
             ],
             [
              0.5555555555555556,
              "#d8576b"
             ],
             [
              0.6666666666666666,
              "#ed7953"
             ],
             [
              0.7777777777777778,
              "#fb9f3a"
             ],
             [
              0.8888888888888888,
              "#fdca26"
             ],
             [
              1,
              "#f0f921"
             ]
            ],
            "type": "histogram2dcontour"
           }
          ],
          "mesh3d": [
           {
            "colorbar": {
             "outlinewidth": 0,
             "ticks": ""
            },
            "type": "mesh3d"
           }
          ],
          "parcoords": [
           {
            "line": {
             "colorbar": {
              "outlinewidth": 0,
              "ticks": ""
             }
            },
            "type": "parcoords"
           }
          ],
          "pie": [
           {
            "automargin": true,
            "type": "pie"
           }
          ],
          "scatter": [
           {
            "fillpattern": {
             "fillmode": "overlay",
             "size": 10,
             "solidity": 0.2
            },
            "type": "scatter"
           }
          ],
          "scatter3d": [
           {
            "line": {
             "colorbar": {
              "outlinewidth": 0,
              "ticks": ""
             }
            },
            "marker": {
             "colorbar": {
              "outlinewidth": 0,
              "ticks": ""
             }
            },
            "type": "scatter3d"
           }
          ],
          "scattercarpet": [
           {
            "marker": {
             "colorbar": {
              "outlinewidth": 0,
              "ticks": ""
             }
            },
            "type": "scattercarpet"
           }
          ],
          "scattergeo": [
           {
            "marker": {
             "colorbar": {
              "outlinewidth": 0,
              "ticks": ""
             }
            },
            "type": "scattergeo"
           }
          ],
          "scattergl": [
           {
            "marker": {
             "colorbar": {
              "outlinewidth": 0,
              "ticks": ""
             }
            },
            "type": "scattergl"
           }
          ],
          "scattermap": [
           {
            "marker": {
             "colorbar": {
              "outlinewidth": 0,
              "ticks": ""
             }
            },
            "type": "scattermap"
           }
          ],
          "scattermapbox": [
           {
            "marker": {
             "colorbar": {
              "outlinewidth": 0,
              "ticks": ""
             }
            },
            "type": "scattermapbox"
           }
          ],
          "scatterpolar": [
           {
            "marker": {
             "colorbar": {
              "outlinewidth": 0,
              "ticks": ""
             }
            },
            "type": "scatterpolar"
           }
          ],
          "scatterpolargl": [
           {
            "marker": {
             "colorbar": {
              "outlinewidth": 0,
              "ticks": ""
             }
            },
            "type": "scatterpolargl"
           }
          ],
          "scatterternary": [
           {
            "marker": {
             "colorbar": {
              "outlinewidth": 0,
              "ticks": ""
             }
            },
            "type": "scatterternary"
           }
          ],
          "surface": [
           {
            "colorbar": {
             "outlinewidth": 0,
             "ticks": ""
            },
            "colorscale": [
             [
              0,
              "#0d0887"
             ],
             [
              0.1111111111111111,
              "#46039f"
             ],
             [
              0.2222222222222222,
              "#7201a8"
             ],
             [
              0.3333333333333333,
              "#9c179e"
             ],
             [
              0.4444444444444444,
              "#bd3786"
             ],
             [
              0.5555555555555556,
              "#d8576b"
             ],
             [
              0.6666666666666666,
              "#ed7953"
             ],
             [
              0.7777777777777778,
              "#fb9f3a"
             ],
             [
              0.8888888888888888,
              "#fdca26"
             ],
             [
              1,
              "#f0f921"
             ]
            ],
            "type": "surface"
           }
          ],
          "table": [
           {
            "cells": {
             "fill": {
              "color": "#EBF0F8"
             },
             "line": {
              "color": "white"
             }
            },
            "header": {
             "fill": {
              "color": "#C8D4E3"
             },
             "line": {
              "color": "white"
             }
            },
            "type": "table"
           }
          ]
         },
         "layout": {
          "annotationdefaults": {
           "arrowcolor": "#2a3f5f",
           "arrowhead": 0,
           "arrowwidth": 1
          },
          "autotypenumbers": "strict",
          "coloraxis": {
           "colorbar": {
            "outlinewidth": 0,
            "ticks": ""
           }
          },
          "colorscale": {
           "diverging": [
            [
             0,
             "#8e0152"
            ],
            [
             0.1,
             "#c51b7d"
            ],
            [
             0.2,
             "#de77ae"
            ],
            [
             0.3,
             "#f1b6da"
            ],
            [
             0.4,
             "#fde0ef"
            ],
            [
             0.5,
             "#f7f7f7"
            ],
            [
             0.6,
             "#e6f5d0"
            ],
            [
             0.7,
             "#b8e186"
            ],
            [
             0.8,
             "#7fbc41"
            ],
            [
             0.9,
             "#4d9221"
            ],
            [
             1,
             "#276419"
            ]
           ],
           "sequential": [
            [
             0,
             "#0d0887"
            ],
            [
             0.1111111111111111,
             "#46039f"
            ],
            [
             0.2222222222222222,
             "#7201a8"
            ],
            [
             0.3333333333333333,
             "#9c179e"
            ],
            [
             0.4444444444444444,
             "#bd3786"
            ],
            [
             0.5555555555555556,
             "#d8576b"
            ],
            [
             0.6666666666666666,
             "#ed7953"
            ],
            [
             0.7777777777777778,
             "#fb9f3a"
            ],
            [
             0.8888888888888888,
             "#fdca26"
            ],
            [
             1,
             "#f0f921"
            ]
           ],
           "sequentialminus": [
            [
             0,
             "#0d0887"
            ],
            [
             0.1111111111111111,
             "#46039f"
            ],
            [
             0.2222222222222222,
             "#7201a8"
            ],
            [
             0.3333333333333333,
             "#9c179e"
            ],
            [
             0.4444444444444444,
             "#bd3786"
            ],
            [
             0.5555555555555556,
             "#d8576b"
            ],
            [
             0.6666666666666666,
             "#ed7953"
            ],
            [
             0.7777777777777778,
             "#fb9f3a"
            ],
            [
             0.8888888888888888,
             "#fdca26"
            ],
            [
             1,
             "#f0f921"
            ]
           ]
          },
          "colorway": [
           "#636efa",
           "#EF553B",
           "#00cc96",
           "#ab63fa",
           "#FFA15A",
           "#19d3f3",
           "#FF6692",
           "#B6E880",
           "#FF97FF",
           "#FECB52"
          ],
          "font": {
           "color": "#2a3f5f"
          },
          "geo": {
           "bgcolor": "white",
           "lakecolor": "white",
           "landcolor": "#E5ECF6",
           "showlakes": true,
           "showland": true,
           "subunitcolor": "white"
          },
          "hoverlabel": {
           "align": "left"
          },
          "hovermode": "closest",
          "mapbox": {
           "style": "light"
          },
          "paper_bgcolor": "white",
          "plot_bgcolor": "#E5ECF6",
          "polar": {
           "angularaxis": {
            "gridcolor": "white",
            "linecolor": "white",
            "ticks": ""
           },
           "bgcolor": "#E5ECF6",
           "radialaxis": {
            "gridcolor": "white",
            "linecolor": "white",
            "ticks": ""
           }
          },
          "scene": {
           "xaxis": {
            "backgroundcolor": "#E5ECF6",
            "gridcolor": "white",
            "gridwidth": 2,
            "linecolor": "white",
            "showbackground": true,
            "ticks": "",
            "zerolinecolor": "white"
           },
           "yaxis": {
            "backgroundcolor": "#E5ECF6",
            "gridcolor": "white",
            "gridwidth": 2,
            "linecolor": "white",
            "showbackground": true,
            "ticks": "",
            "zerolinecolor": "white"
           },
           "zaxis": {
            "backgroundcolor": "#E5ECF6",
            "gridcolor": "white",
            "gridwidth": 2,
            "linecolor": "white",
            "showbackground": true,
            "ticks": "",
            "zerolinecolor": "white"
           }
          },
          "shapedefaults": {
           "line": {
            "color": "#2a3f5f"
           }
          },
          "ternary": {
           "aaxis": {
            "gridcolor": "white",
            "linecolor": "white",
            "ticks": ""
           },
           "baxis": {
            "gridcolor": "white",
            "linecolor": "white",
            "ticks": ""
           },
           "bgcolor": "#E5ECF6",
           "caxis": {
            "gridcolor": "white",
            "linecolor": "white",
            "ticks": ""
           }
          },
          "title": {
           "x": 0.05
          },
          "xaxis": {
           "automargin": true,
           "gridcolor": "white",
           "linecolor": "white",
           "ticks": "",
           "title": {
            "standoff": 15
           },
           "zerolinecolor": "white",
           "zerolinewidth": 2
          },
          "yaxis": {
           "automargin": true,
           "gridcolor": "white",
           "linecolor": "white",
           "ticks": "",
           "title": {
            "standoff": 15
           },
           "zerolinecolor": "white",
           "zerolinewidth": 2
          }
         }
        },
        "title": {
         "text": "Pareto-front Plot"
        },
        "xaxis": {
         "title": {
          "text": "loss"
         }
        },
        "yaxis": {
         "title": {
          "text": "kl_loss"
         }
        }
       }
      }
     },
     "metadata": {},
     "output_type": "display_data"
    }
   ],
   "source": [
    "pareto_targets = lambda t: (t.user_attrs[\"test_loss_mean\"], t.user_attrs[\"test_kl_loss_mean\"])\n",
    "optuna.visualization.plot_pareto_front(study, targets=pareto_targets, target_names=[\"loss\", \"kl_loss\"])\n"
   ]
  },
  {
   "cell_type": "code",
   "execution_count": 21,
   "metadata": {},
   "outputs": [
    {
     "data": {
      "text/plain": [
       "<matplotlib.collections.PathCollection at 0x7f38ec34bd00>"
      ]
     },
     "execution_count": 21,
     "metadata": {},
     "output_type": "execute_result"
    },
    {
     "data": {
      "image/png": "[encoded data removed]",
      "text/plain": [
       "<Figure size 640x480 with 1 Axes>"
      ]
     },
     "metadata": {},
     "output_type": "display_data"
    }
   ],
   "source": [
    "df[col_user]\n",
    "# user_attrs_Reconstruction overall_mean\n",
    "# user_attrs_test_Reconstruction overall_mean  \n",
    "corr = df.loc[:, [\"user_attrs_Reconstruction overall_mean\", \"user_attrs_test_Reconstruction overall_mean\"]].values\n",
    "corr = corr[corr[:, 1] > 0.]\n",
    "corr = corr.T\n",
    "plt.scatter(corr[0], corr[1])"
   ]
  },
  {
   "cell_type": "code",
   "execution_count": 14,
   "metadata": {},
   "outputs": [
    {
     "data": {
      "text/plain": [
       "array([ 2.24765981e-01,  5.58193365e-01,  5.79441426e-01, -2.52478756e+01,\n",
       "       -1.83249119e+00,  5.93541510e-01, -6.89742099e+01,  6.20540413e-01,\n",
       "        5.51473175e-01,  5.75338017e-01,  5.87397511e-01,  5.06810327e-01,\n",
       "        4.14948080e-01,  6.56091304e-01, -2.29449604e+02,  6.59978799e-01,\n",
       "        5.95479827e-01,  6.08065133e-01,  6.28701189e-01,  3.19842927e-01,\n",
       "        6.48585040e-01,  5.70997809e-01,  4.16447689e-01, -2.43559946e+01,\n",
       "       -1.92204170e-01,  4.85782606e-01,  1.76263074e-01,  2.43228096e-01,\n",
       "        4.86158230e-01,  5.44850264e-01,  5.08651126e-01,  6.44586897e-01,\n",
       "        6.46302449e-01,  5.16191953e-01,  5.87891203e-01,  4.15233483e-01,\n",
       "        5.76327024e-01,  5.09958578e-01])"
      ]
     },
     "execution_count": 14,
     "metadata": {},
     "output_type": "execute_result"
    }
   ],
   "source": [
    "corr[1]"
   ]
  },
  {
   "cell_type": "code",
   "execution_count": 20,
   "metadata": {},
   "outputs": [
    {
     "data": {
      "text/plain": [
       "Index(['value', 'datetime_start', 'datetime_complete', 'duration',\n",
       "       'params_model.encoder.params.dropout',\n",
       "       'params_model.encoder.params.hidden_size',\n",
       "       'params_model.encoder.params.num_layers',\n",
       "       'params_model.preprocessor.batch_transforms.0.TimeToFeatures.process_type',\n",
       "       'params_model.preprocessor.cat_emb_dim',\n",
       "       'params_model.preprocessor.num_emb_dim',\n",
       "       'params_model.preprocessor.num_norm', 'params_optimizer.params.lr',\n",
       "       'params_optimizer.params.weight_decay',\n",
       "       'user_attrs_Reconstruction amount_mean',\n",
       "       'user_attrs_Reconstruction amount_std',\n",
       "       'user_attrs_Reconstruction currency_mean',\n",
       "       'user_attrs_Reconstruction currency_std',\n",
       "       'user_attrs_Reconstruction days_since_first_tx_mean',\n",
       "       'user_attrs_Reconstruction days_since_first_tx_std',\n",
       "       'user_attrs_Reconstruction dst_type11_mean',\n",
       "       'user_attrs_Reconstruction dst_type11_std',\n",
       "       'user_attrs_Reconstruction dst_type12_mean',\n",
       "       'user_attrs_Reconstruction dst_type12_std',\n",
       "       'user_attrs_Reconstruction event_subtype_mean',\n",
       "       'user_attrs_Reconstruction event_subtype_std',\n",
       "       'user_attrs_Reconstruction event_type_mean',\n",
       "       'user_attrs_Reconstruction event_type_std',\n",
       "       'user_attrs_Reconstruction overall_mean',\n",
       "       'user_attrs_Reconstruction overall_std',\n",
       "       'user_attrs_Reconstruction src_type11_mean',\n",
       "       'user_attrs_Reconstruction src_type11_std',\n",
       "       'user_attrs_Reconstruction src_type12_mean',\n",
       "       'user_attrs_Reconstruction src_type12_std',\n",
       "       'user_attrs_Reconstruction src_type22_mean',\n",
       "       'user_attrs_Reconstruction src_type22_std',\n",
       "       'user_attrs_Reconstruction src_type32_mean',\n",
       "       'user_attrs_Reconstruction src_type32_std',\n",
       "       'user_attrs_memory_after_mean', 'user_attrs_memory_after_std',\n",
       "       'user_attrs_test_Reconstruction amount_mean',\n",
       "       'user_attrs_test_Reconstruction amount_std',\n",
       "       'user_attrs_test_Reconstruction currency_mean',\n",
       "       'user_attrs_test_Reconstruction currency_std',\n",
       "       'user_attrs_test_Reconstruction days_since_first_tx_mean',\n",
       "       'user_attrs_test_Reconstruction days_since_first_tx_std',\n",
       "       'user_attrs_test_Reconstruction dst_type11_mean',\n",
       "       'user_attrs_test_Reconstruction dst_type11_std',\n",
       "       'user_attrs_test_Reconstruction dst_type12_mean',\n",
       "       'user_attrs_test_Reconstruction dst_type12_std',\n",
       "       'user_attrs_test_Reconstruction event_subtype_mean',\n",
       "       'user_attrs_test_Reconstruction event_subtype_std',\n",
       "       'user_attrs_test_Reconstruction event_type_mean',\n",
       "       'user_attrs_test_Reconstruction event_type_std',\n",
       "       'user_attrs_test_Reconstruction overall_mean',\n",
       "       'user_attrs_test_Reconstruction overall_std',\n",
       "       'user_attrs_test_Reconstruction src_type11_mean',\n",
       "       'user_attrs_test_Reconstruction src_type11_std',\n",
       "       'user_attrs_test_Reconstruction src_type12_mean',\n",
       "       'user_attrs_test_Reconstruction src_type12_std',\n",
       "       'user_attrs_test_Reconstruction src_type22_mean',\n",
       "       'user_attrs_test_Reconstruction src_type22_std',\n",
       "       'user_attrs_test_Reconstruction src_type32_mean',\n",
       "       'user_attrs_test_Reconstruction src_type32_std',\n",
       "       'user_attrs_train_Reconstruction amount_mean',\n",
       "       'user_attrs_train_Reconstruction amount_std',\n",
       "       'user_attrs_train_Reconstruction currency_mean',\n",
       "       'user_attrs_train_Reconstruction currency_std',\n",
       "       'user_attrs_train_Reconstruction days_since_first_tx_mean',\n",
       "       'user_attrs_train_Reconstruction days_since_first_tx_std',\n",
       "       'user_attrs_train_Reconstruction dst_type11_mean',\n",
       "       'user_attrs_train_Reconstruction dst_type11_std',\n",
       "       'user_attrs_train_Reconstruction dst_type12_mean',\n",
       "       'user_attrs_train_Reconstruction dst_type12_std',\n",
       "       'user_attrs_train_Reconstruction event_subtype_mean',\n",
       "       'user_attrs_train_Reconstruction event_subtype_std',\n",
       "       'user_attrs_train_Reconstruction event_type_mean',\n",
       "       'user_attrs_train_Reconstruction event_type_std',\n",
       "       'user_attrs_train_Reconstruction overall_mean',\n",
       "       'user_attrs_train_Reconstruction overall_std',\n",
       "       'user_attrs_train_Reconstruction src_type11_mean',\n",
       "       'user_attrs_train_Reconstruction src_type11_std',\n",
       "       'user_attrs_train_Reconstruction src_type12_mean',\n",
       "       'user_attrs_train_Reconstruction src_type12_std',\n",
       "       'user_attrs_train_Reconstruction src_type22_mean',\n",
       "       'user_attrs_train_Reconstruction src_type22_std',\n",
       "       'user_attrs_train_Reconstruction src_type32_mean',\n",
       "       'user_attrs_train_Reconstruction src_type32_std',\n",
       "       'system_attrs_fixed_params', 'state'],\n",
       "      dtype='object')"
      ]
     },
     "execution_count": 20,
     "metadata": {},
     "output_type": "execute_result"
    }
   ],
   "source": [
    "df.columns"
   ]
  }
 ],
 "metadata": {
  "kernelspec": {
   "display_name": "Python 3",
   "language": "python",
   "name": "python3"
  },
  "language_info": {
   "codemirror_mode": {
    "name": "ipython",
    "version": 3
   },
   "file_extension": ".py",
   "mimetype": "text/x-python",
   "name": "python",
   "nbconvert_exporter": "python",
   "pygments_lexer": "ipython3",
   "version": "3.10.12"
  }
 },
 "nbformat": 4,
 "nbformat_minor": 2
}
