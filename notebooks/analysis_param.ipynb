{
 "cells": [
  {
   "cell_type": "code",
   "execution_count": 186,
   "metadata": {},
   "outputs": [
    {
     "name": "stdout",
     "output_type": "stream",
     "text": [
      "/home/transaction-generation\n"
     ]
    },
    {
     "name": "stderr",
     "output_type": "stream",
     "text": [
      "/usr/local/lib/python3.10/dist-packages/IPython/core/magics/osm.py:417: UserWarning:\n",
      "\n",
      "using dhist requires you to install the `pickleshare` library.\n",
      "\n"
     ]
    }
   ],
   "source": [
    "%cd /home/transaction-generation\n",
    "\n",
    "import pandas as pd\n",
    "import matplotlib.pyplot as plt\n",
    "import numpy as np\n",
    "from tqdm import tqdm\n",
    "from pathlib import Path\n",
    "from ebes.pipeline.utils import optuna_df\n",
    "from optuna.trial import TrialState\n",
    "from glob import glob\n",
    "from itertools import product\n",
    "import warnings\n",
    "import optuna\n",
    "from optuna.exceptions import ExperimentalWarning \n",
    "\n",
    "warnings.filterwarnings(\"ignore\", category=ExperimentalWarning)"
   ]
  },
  {
   "cell_type": "code",
   "execution_count": 187,
   "metadata": {},
   "outputs": [],
   "source": [
    "def get_run(path, number, dataset, method, token_mode=False, rewrite=False):\n",
    "    path = Path(f\"log/generation/{path}/{number}\")\n",
    "    save_path = Path(f\"configs/best_params/{dataset}\")\n",
    "    if token_mode:\n",
    "        save_path /= \"1to1\"\n",
    "    save_path.mkdir(parents=True, exist_ok=True)\n",
    "    save_path = save_path / f\"{method}.yaml\"\n",
    "    if not rewrite:\n",
    "        if save_path.exists():\n",
    "            print(\"Cant rewrite\")\n",
    "            return\n",
    "    m_d = {\n",
    "        \"gru\": \"gru, 1to1\",\n",
    "        \"gpt\": \"gpt, 1to1\",\n",
    "        \"gru_dist\": \"oneshot/gru, methods/oneshot/dist, allto1\",\n",
    "        \"gru_target\": \"oneshot/gru, methods/oneshot/target, allto1\",\n",
    "        \"gru_matched\": \"oneshot/gru, methods/oneshot/matched, allto1\",\n",
    "        \"vae\": \"vae\",\n",
    "    }\n",
    "    config = (path / \"params.txt\").read_text()\n",
    "    print_best_res(path)\n",
    "    method_part = m_d.get(method, method)\n",
    "    factory = f\"config_factory: [start, metrics/default, datasets/{dataset}/{dataset}, methods/{method_part}]\\n\\n\"\n",
    "    config = factory + config\n",
    "    save_path.write_text(config)\n",
    "\n",
    "def print_best_res(path):\n",
    "    df = pd.read_csv(path / \"results.csv\", index_col=0)[\"mean\"]\n",
    "    index = [id for id in df.index if \"test\" in id]\n",
    "    df = df.loc[index]\n",
    "    df.index = [id.replace(\"test_\", \"\") for id in df.index]\n",
    "    df.astype(str).replace('\\\\.', ',', regex=True).to_csv('res', sep='\\t')\n",
    "\n",
    "\n",
    "def prepare_data(path):\n",
    "    path = Path(f\"log/generation/{path}\")\n",
    "    df, study = optuna_df(path)\n",
    "    col_to_drop = [\n",
    "        \"datetime_start\",\n",
    "        \"datetime_complete\",\n",
    "        \"system_attrs_fixed_params\",\n",
    "        \"state\",\n",
    "        \"value\",\n",
    "    ]\n",
    "    col_params = [\"value\", \"duration\"] + [col for col in df if \"params_\" in col]\n",
    "    col_user = [\"value\", \"duration\"] + [col for col in df if \"user\" in col]\n",
    "    # df[\"duration\"] = df[\"duration\"].dt.total_seconds()\n",
    "    return df, study, col_user, col_params\n",
    "\n",
    "\n",
    "k = -1"
   ]
  },
  {
   "cell_type": "code",
   "execution_count": 201,
   "metadata": {},
   "outputs": [
    {
     "name": "stdout",
     "output_type": "stream",
     "text": [
      "age/optuna/detpp\n",
      "(600, 76) (39, 76)\n"
     ]
    },
    {
     "data": {
      "text/html": [
       "<div>\n",
       "<style scoped>\n",
       "    .dataframe tbody tr th:only-of-type {\n",
       "        vertical-align: middle;\n",
       "    }\n",
       "\n",
       "    .dataframe tbody tr th {\n",
       "        vertical-align: top;\n",
       "    }\n",
       "\n",
       "    .dataframe thead th {\n",
       "        text-align: right;\n",
       "    }\n",
       "</style>\n",
       "<table border=\"1\" class=\"dataframe\">\n",
       "  <thead>\n",
       "    <tr style=\"text-align: right;\">\n",
       "      <th></th>\n",
       "      <th>value</th>\n",
       "      <th>user_attrs_test_Cardinality on small_group gen_mean</th>\n",
       "      <th>user_attrs_test_Cardinality on small_group orig_mean</th>\n",
       "      <th>user_attrs_test_F1_macro on small_group_mean</th>\n",
       "      <th>user_attrs_test_F1_micro on small_group_mean</th>\n",
       "      <th>user_attrs_test_OTD age_mean</th>\n",
       "      <th>user_attrs_test_OTD amount_rur_mean</th>\n",
       "      <th>user_attrs_test_OTD overall_mean</th>\n",
       "      <th>user_attrs_test_OTD small_group_mean</th>\n",
       "      <th>user_attrs_test_OTD trans_date_mean</th>\n",
       "      <th>user_attrs_test_loss_mean</th>\n",
       "    </tr>\n",
       "  </thead>\n",
       "  <tbody>\n",
       "    <tr>\n",
       "      <th>323</th>\n",
       "      <td>-53.801930</td>\n",
       "      <td>8.407623</td>\n",
       "      <td>10.690744</td>\n",
       "      <td>0.406684</td>\n",
       "      <td>0.709420</td>\n",
       "      <td>1.000000</td>\n",
       "      <td>0.492247</td>\n",
       "      <td>0.744860</td>\n",
       "      <td>0.674824</td>\n",
       "      <td>0.812369</td>\n",
       "      <td>-53.824256</td>\n",
       "    </tr>\n",
       "    <tr>\n",
       "      <th>521</th>\n",
       "      <td>-53.698955</td>\n",
       "      <td>8.311434</td>\n",
       "      <td>10.690744</td>\n",
       "      <td>0.401617</td>\n",
       "      <td>0.704395</td>\n",
       "      <td>1.000000</td>\n",
       "      <td>0.490385</td>\n",
       "      <td>0.461559</td>\n",
       "      <td>0.665404</td>\n",
       "      <td>-0.309553</td>\n",
       "      <td>-53.682820</td>\n",
       "    </tr>\n",
       "    <tr>\n",
       "      <th>303</th>\n",
       "      <td>-53.578084</td>\n",
       "      <td>8.597641</td>\n",
       "      <td>10.690744</td>\n",
       "      <td>0.407043</td>\n",
       "      <td>0.706392</td>\n",
       "      <td>1.000000</td>\n",
       "      <td>0.481126</td>\n",
       "      <td>0.117820</td>\n",
       "      <td>0.671614</td>\n",
       "      <td>-1.681458</td>\n",
       "      <td>-53.588864</td>\n",
       "    </tr>\n",
       "    <tr>\n",
       "      <th>424</th>\n",
       "      <td>-53.486892</td>\n",
       "      <td>8.310889</td>\n",
       "      <td>10.690744</td>\n",
       "      <td>0.406239</td>\n",
       "      <td>0.705223</td>\n",
       "      <td>1.000000</td>\n",
       "      <td>0.485713</td>\n",
       "      <td>-0.729117</td>\n",
       "      <td>0.672663</td>\n",
       "      <td>-5.074844</td>\n",
       "      <td>-53.504483</td>\n",
       "    </tr>\n",
       "    <tr>\n",
       "      <th>305</th>\n",
       "      <td>-53.364592</td>\n",
       "      <td>8.392377</td>\n",
       "      <td>10.690744</td>\n",
       "      <td>0.405764</td>\n",
       "      <td>0.707696</td>\n",
       "      <td>1.000000</td>\n",
       "      <td>0.484996</td>\n",
       "      <td>0.630991</td>\n",
       "      <td>0.670208</td>\n",
       "      <td>0.368762</td>\n",
       "      <td>-53.400021</td>\n",
       "    </tr>\n",
       "    <tr>\n",
       "      <th>243</th>\n",
       "      <td>-53.298817</td>\n",
       "      <td>8.048276</td>\n",
       "      <td>10.690744</td>\n",
       "      <td>0.399616</td>\n",
       "      <td>0.702711</td>\n",
       "      <td>0.999983</td>\n",
       "      <td>0.484576</td>\n",
       "      <td>0.177320</td>\n",
       "      <td>0.666946</td>\n",
       "      <td>-1.442225</td>\n",
       "      <td>-53.308555</td>\n",
       "    </tr>\n",
       "    <tr>\n",
       "      <th>199</th>\n",
       "      <td>-53.010165</td>\n",
       "      <td>8.415971</td>\n",
       "      <td>10.690744</td>\n",
       "      <td>0.406165</td>\n",
       "      <td>0.707475</td>\n",
       "      <td>1.000000</td>\n",
       "      <td>0.494215</td>\n",
       "      <td>0.210566</td>\n",
       "      <td>0.672465</td>\n",
       "      <td>-1.324415</td>\n",
       "      <td>-52.983262</td>\n",
       "    </tr>\n",
       "    <tr>\n",
       "      <th>215</th>\n",
       "      <td>-52.730473</td>\n",
       "      <td>8.462069</td>\n",
       "      <td>10.690744</td>\n",
       "      <td>0.412511</td>\n",
       "      <td>0.711451</td>\n",
       "      <td>1.000000</td>\n",
       "      <td>0.492488</td>\n",
       "      <td>0.344957</td>\n",
       "      <td>0.674467</td>\n",
       "      <td>-0.787126</td>\n",
       "      <td>-52.751526</td>\n",
       "    </tr>\n",
       "    <tr>\n",
       "      <th>536</th>\n",
       "      <td>-52.546022</td>\n",
       "      <td>8.453721</td>\n",
       "      <td>10.690744</td>\n",
       "      <td>0.412231</td>\n",
       "      <td>0.711927</td>\n",
       "      <td>1.000000</td>\n",
       "      <td>0.493737</td>\n",
       "      <td>0.212641</td>\n",
       "      <td>0.675386</td>\n",
       "      <td>-1.318558</td>\n",
       "      <td>-52.566565</td>\n",
       "    </tr>\n",
       "    <tr>\n",
       "      <th>282</th>\n",
       "      <td>-52.479327</td>\n",
       "      <td>8.415971</td>\n",
       "      <td>10.690744</td>\n",
       "      <td>0.409260</td>\n",
       "      <td>0.710158</td>\n",
       "      <td>1.000000</td>\n",
       "      <td>0.492007</td>\n",
       "      <td>-0.551265</td>\n",
       "      <td>0.674943</td>\n",
       "      <td>-4.372010</td>\n",
       "      <td>-52.496105</td>\n",
       "    </tr>\n",
       "  </tbody>\n",
       "</table>\n",
       "</div>"
      ],
      "text/plain": [
       "         value  user_attrs_test_Cardinality on small_group gen_mean  \\\n",
       "323 -53.801930                                           8.407623     \n",
       "521 -53.698955                                           8.311434     \n",
       "303 -53.578084                                           8.597641     \n",
       "424 -53.486892                                           8.310889     \n",
       "305 -53.364592                                           8.392377     \n",
       "243 -53.298817                                           8.048276     \n",
       "199 -53.010165                                           8.415971     \n",
       "215 -52.730473                                           8.462069     \n",
       "536 -52.546022                                           8.453721     \n",
       "282 -52.479327                                           8.415971     \n",
       "\n",
       "     user_attrs_test_Cardinality on small_group orig_mean  \\\n",
       "323                                          10.690744      \n",
       "521                                          10.690744      \n",
       "303                                          10.690744      \n",
       "424                                          10.690744      \n",
       "305                                          10.690744      \n",
       "243                                          10.690744      \n",
       "199                                          10.690744      \n",
       "215                                          10.690744      \n",
       "536                                          10.690744      \n",
       "282                                          10.690744      \n",
       "\n",
       "     user_attrs_test_F1_macro on small_group_mean  \\\n",
       "323                                      0.406684   \n",
       "521                                      0.401617   \n",
       "303                                      0.407043   \n",
       "424                                      0.406239   \n",
       "305                                      0.405764   \n",
       "243                                      0.399616   \n",
       "199                                      0.406165   \n",
       "215                                      0.412511   \n",
       "536                                      0.412231   \n",
       "282                                      0.409260   \n",
       "\n",
       "     user_attrs_test_F1_micro on small_group_mean  \\\n",
       "323                                      0.709420   \n",
       "521                                      0.704395   \n",
       "303                                      0.706392   \n",
       "424                                      0.705223   \n",
       "305                                      0.707696   \n",
       "243                                      0.702711   \n",
       "199                                      0.707475   \n",
       "215                                      0.711451   \n",
       "536                                      0.711927   \n",
       "282                                      0.710158   \n",
       "\n",
       "     user_attrs_test_OTD age_mean  user_attrs_test_OTD amount_rur_mean  \\\n",
       "323                      1.000000                             0.492247   \n",
       "521                      1.000000                             0.490385   \n",
       "303                      1.000000                             0.481126   \n",
       "424                      1.000000                             0.485713   \n",
       "305                      1.000000                             0.484996   \n",
       "243                      0.999983                             0.484576   \n",
       "199                      1.000000                             0.494215   \n",
       "215                      1.000000                             0.492488   \n",
       "536                      1.000000                             0.493737   \n",
       "282                      1.000000                             0.492007   \n",
       "\n",
       "     user_attrs_test_OTD overall_mean  user_attrs_test_OTD small_group_mean  \\\n",
       "323                          0.744860                              0.674824   \n",
       "521                          0.461559                              0.665404   \n",
       "303                          0.117820                              0.671614   \n",
       "424                         -0.729117                              0.672663   \n",
       "305                          0.630991                              0.670208   \n",
       "243                          0.177320                              0.666946   \n",
       "199                          0.210566                              0.672465   \n",
       "215                          0.344957                              0.674467   \n",
       "536                          0.212641                              0.675386   \n",
       "282                         -0.551265                              0.674943   \n",
       "\n",
       "     user_attrs_test_OTD trans_date_mean  user_attrs_test_loss_mean  \n",
       "323                             0.812369                 -53.824256  \n",
       "521                            -0.309553                 -53.682820  \n",
       "303                            -1.681458                 -53.588864  \n",
       "424                            -5.074844                 -53.504483  \n",
       "305                             0.368762                 -53.400021  \n",
       "243                            -1.442225                 -53.308555  \n",
       "199                            -1.324415                 -52.983262  \n",
       "215                            -0.787126                 -52.751526  \n",
       "536                            -1.318558                 -52.566565  \n",
       "282                            -4.372010                 -52.496105  "
      ]
     },
     "execution_count": 201,
     "metadata": {},
     "output_type": "execute_result"
    }
   ],
   "source": [
    "datasets = [\"alphabattle_small\", \"age\"]\n",
    "methods = [\"vae\", \"detpp\"]\n",
    "token_modes = [False, True]\n",
    "k += 1\n",
    "full_product = list(product(datasets, methods, token_modes))\n",
    "dataset, method, token_mode = full_product[k % len(full_product)]\n",
    "\n",
    "path = f\"{dataset}/{'1to1/optuna' if token_mode else 'optuna'}/{method}\"\n",
    "print(path)\n",
    "df, study, col_user, col_params = prepare_data(path)\n",
    "\n",
    "print(df.shape, df[~df[\"value\"].isna()].shape)\n",
    "test_cols = [col for col in col_user if (\"mean\" in col) and (\"test\" in col)]\n",
    "# test_cols = [col for col in test_cols if (\"F1\" in col) or (\"Cardinality\" in col)]\n",
    "# par = [col for col in col_user + col_params if \"BetaScheduler\" in col]\n",
    "# test_loss = \"user_attrs_test_loss_mean\"\n",
    "sorted_df = df[~df[\"value\"].isna()].sort_values(\"value\")\n",
    "best_run = sorted_df.iloc[-1].name\n",
    "sorted_df[[\"value\"] + test_cols][-10:]"
   ]
  },
  {
   "cell_type": "code",
   "execution_count": 153,
   "metadata": {},
   "outputs": [],
   "source": [
    "get_run(path, 183, dataset, method, token_mode, True)\n"
   ]
  },
  {
   "cell_type": "code",
   "execution_count": 116,
   "metadata": {},
   "outputs": [
    {
     "data": {
      "text/html": [
       "<div>\n",
       "<style scoped>\n",
       "    .dataframe tbody tr th:only-of-type {\n",
       "        vertical-align: middle;\n",
       "    }\n",
       "\n",
       "    .dataframe tbody tr th {\n",
       "        vertical-align: top;\n",
       "    }\n",
       "\n",
       "    .dataframe thead th {\n",
       "        text-align: right;\n",
       "    }\n",
       "</style>\n",
       "<table border=\"1\" class=\"dataframe\">\n",
       "  <thead>\n",
       "    <tr style=\"text-align: right;\">\n",
       "      <th></th>\n",
       "      <th>user_attrs_memory_after_mean</th>\n",
       "      <th>user_attrs_memory_after_std</th>\n",
       "    </tr>\n",
       "  </thead>\n",
       "  <tbody>\n",
       "    <tr>\n",
       "      <th>74</th>\n",
       "      <td>11054.0</td>\n",
       "      <td>0.0</td>\n",
       "    </tr>\n",
       "    <tr>\n",
       "      <th>50</th>\n",
       "      <td>15448.0</td>\n",
       "      <td>0.0</td>\n",
       "    </tr>\n",
       "    <tr>\n",
       "      <th>66</th>\n",
       "      <td>17772.0</td>\n",
       "      <td>0.0</td>\n",
       "    </tr>\n",
       "    <tr>\n",
       "      <th>49</th>\n",
       "      <td>18908.0</td>\n",
       "      <td>0.0</td>\n",
       "    </tr>\n",
       "    <tr>\n",
       "      <th>78</th>\n",
       "      <td>11762.0</td>\n",
       "      <td>0.0</td>\n",
       "    </tr>\n",
       "    <tr>\n",
       "      <th>42</th>\n",
       "      <td>17686.0</td>\n",
       "      <td>0.0</td>\n",
       "    </tr>\n",
       "    <tr>\n",
       "      <th>82</th>\n",
       "      <td>14168.0</td>\n",
       "      <td>0.0</td>\n",
       "    </tr>\n",
       "    <tr>\n",
       "      <th>81</th>\n",
       "      <td>11378.0</td>\n",
       "      <td>0.0</td>\n",
       "    </tr>\n",
       "    <tr>\n",
       "      <th>80</th>\n",
       "      <td>11174.0</td>\n",
       "      <td>0.0</td>\n",
       "    </tr>\n",
       "    <tr>\n",
       "      <th>84</th>\n",
       "      <td>12696.0</td>\n",
       "      <td>0.0</td>\n",
       "    </tr>\n",
       "  </tbody>\n",
       "</table>\n",
       "</div>"
      ],
      "text/plain": [
       "    user_attrs_memory_after_mean  user_attrs_memory_after_std\n",
       "74                       11054.0                          0.0\n",
       "50                       15448.0                          0.0\n",
       "66                       17772.0                          0.0\n",
       "49                       18908.0                          0.0\n",
       "78                       11762.0                          0.0\n",
       "42                       17686.0                          0.0\n",
       "82                       14168.0                          0.0\n",
       "81                       11378.0                          0.0\n",
       "80                       11174.0                          0.0\n",
       "84                       12696.0                          0.0"
      ]
     },
     "execution_count": 116,
     "metadata": {},
     "output_type": "execute_result"
    }
   ],
   "source": [
    "sorted_df[[col for col in col_user if (\"memory\" in col)]][-10:]"
   ]
  },
  {
   "cell_type": "code",
   "execution_count": 202,
   "metadata": {},
   "outputs": [
    {
     "name": "stdout",
     "output_type": "stream",
     "text": [
      "Index([  0,   2,   3,   4,   5,   6,   7,   8,   9,  10,\n",
      "       ...\n",
      "       590, 591, 592, 593, 594, 595, 596, 597, 598, 599],\n",
      "      dtype='int64', length=561)\n",
      "0 torch.cuda.OutOfMemoryError: CUDA out of memory. Tried to allocate 10.74 GiB. GPU \n",
      "2 torch.cuda.OutOfMemoryError: CUDA out of memory. Tried to allocate 23.06 GiB. GPU \n",
      "3 torch.cuda.OutOfMemoryError: CUDA out of memory. Tried to allocate 34.15 GiB. GPU \n",
      "4 torch.cuda.OutOfMemoryError: CUDA out of memory. Tried to allocate 26.54 GiB. GPU \n",
      "5 torch.cuda.OutOfMemoryError: CUDA out of memory. Tried to allocate 23.06 GiB. GPU \n",
      "6 torch.cuda.OutOfMemoryError: CUDA out of memory. Tried to allocate 19.27 GiB. GPU \n",
      "7 torch.cuda.OutOfMemoryError: CUDA out of memory. Tried to allocate 25.91 GiB. GPU \n",
      "8 torch.cuda.OutOfMemoryError: CUDA out of memory. Tried to allocate 17.69 GiB. GPU \n",
      "9 torch.cuda.OutOfMemoryError: CUDA out of memory. Tried to allocate 11.38 GiB. GPU \n",
      "10 torch.cuda.OutOfMemoryError: CUDA out of memory. Tried to allocate 16.43 GiB. GPU \n",
      "12 torch.cuda.OutOfMemoryError: CUDA out of memory. Tried to allocate 29.65 GiB. GPU \n",
      "13 torch.cuda.OutOfMemoryError: CUDA out of memory. Tried to allocate 16.12 GiB. GPU \n",
      "14 torch.cuda.OutOfMemoryError: CUDA out of memory. Tried to allocate 18.64 GiB. GPU \n",
      "15 torch.cuda.OutOfMemoryError: CUDA out of memory. Tried to allocate 26.54 GiB. GPU \n",
      "16 torch.cuda.OutOfMemoryError: CUDA out of memory. Tried to allocate 19.59 GiB. GPU \n",
      "18 torch.cuda.OutOfMemoryError: CUDA out of memory. Tried to allocate 18.33 GiB. GPU \n",
      "19 torch.cuda.OutOfMemoryError: CUDA out of memory. Tried to allocate 25.28 GiB. GPU \n",
      "20 torch.cuda.OutOfMemoryError: CUDA out of memory. Tried to allocate 26.22 GiB. GPU \n",
      "21 torch.cuda.OutOfMemoryError: CUDA out of memory. Tried to allocate 19.59 GiB. GPU \n",
      "22 torch.cuda.OutOfMemoryError: CUDA out of memory. Tried to allocate 12.96 GiB. GPU \n",
      "23 torch.cuda.OutOfMemoryError: CUDA out of memory. Tried to allocate 24.96 GiB. GPU \n",
      "25 torch.cuda.OutOfMemoryError: CUDA out of memory. Tried to allocate 10.43 GiB. GPU \n",
      "26 torch.cuda.OutOfMemoryError: CUDA out of memory. Tried to allocate 19.91 GiB. GPU \n",
      "27 torch.cuda.OutOfMemoryError: CUDA out of memory. Tried to allocate 23.70 GiB. GPU \n",
      "28 torch.cuda.OutOfMemoryError: CUDA out of memory. Tried to allocate 32.16 GiB. GPU \n",
      "29 torch.cuda.OutOfMemoryError: CUDA out of memory. Tried to allocate 14.22 GiB. GPU \n",
      "31 torch.cuda.OutOfMemoryError: CUDA out of memory. Tried to allocate 16.75 GiB. GPU \n",
      "32 torch.cuda.OutOfMemoryError: CUDA out of memory. Tried to allocate 23.06 GiB. GPU \n",
      "33 torch.cuda.OutOfMemoryError: CUDA out of memory. Tried to allocate 32.04 GiB. GPU \n",
      "34 torch.cuda.OutOfMemoryError: CUDA out of memory. Tried to allocate 18.64 GiB. GPU \n",
      "35 torch.cuda.OutOfMemoryError: CUDA out of memory. Tried to allocate 20.22 GiB. GPU \n",
      "36 torch.cuda.OutOfMemoryError: CUDA out of memory. Tried to allocate 12.64 GiB. GPU \n",
      "37 torch.cuda.OutOfMemoryError: CUDA out of memory. Tried to allocate 10.43 GiB. GPU \n",
      "38 torch.cuda.OutOfMemoryError: CUDA out of memory. Tried to allocate 21.80 GiB. GPU \n",
      "39 torch.cuda.OutOfMemoryError: CUDA out of memory. Tried to allocate 7.28 GiB. GPU \n",
      "40 torch.cuda.OutOfMemoryError: CUDA out of memory. Tried to allocate 15.17 GiB. GPU \n",
      "41 torch.cuda.OutOfMemoryError: CUDA out of memory. Tried to allocate 21.80 GiB. GPU \n",
      "42 torch.cuda.OutOfMemoryError: CUDA out of memory. Tried to allocate 33.42 GiB. GPU \n",
      "43 torch.cuda.OutOfMemoryError: CUDA out of memory. Tried to allocate 13.59 GiB. GPU \n",
      "44 torch.cuda.OutOfMemoryError: CUDA out of memory. Tried to allocate 15.17 GiB. GPU \n",
      "45 torch.cuda.OutOfMemoryError: CUDA out of memory. Tried to allocate 18.33 GiB. GPU \n",
      "46 torch.cuda.OutOfMemoryError: CUDA out of memory. Tried to allocate 13.90 GiB. GPU \n",
      "47 torch.cuda.OutOfMemoryError: CUDA out of memory. Tried to allocate 25.91 GiB. GPU \n",
      "48 torch.cuda.OutOfMemoryError: CUDA out of memory. Tried to allocate 9.33 GiB. GPU \n",
      "49 torch.cuda.OutOfMemoryError: CUDA out of memory. Tried to allocate 14.85 GiB. GPU \n",
      "50 torch.cuda.OutOfMemoryError: CUDA out of memory. Tried to allocate 24.01 GiB. GPU \n",
      "51 torch.cuda.OutOfMemoryError: CUDA out of memory. Tried to allocate 5.33 GiB. GPU \n",
      "53 torch.cuda.OutOfMemoryError: CUDA out of memory. Tried to allocate 26.54 GiB. GPU \n",
      "54 torch.cuda.OutOfMemoryError: CUDA out of memory. Tried to allocate 30.02 GiB. GPU \n",
      "55 torch.cuda.OutOfMemoryError: CUDA out of memory. Tried to allocate 27.46 GiB. GPU \n",
      "57 torch.cuda.OutOfMemoryError: CUDA out of memory. Tried to allocate 5.64 GiB. GPU \n",
      "58 torch.cuda.OutOfMemoryError: CUDA out of memory. Tried to allocate 9.43 GiB. GPU \n",
      "59 torch.cuda.OutOfMemoryError: CUDA out of memory. Tried to allocate 15.80 GiB. GPU \n",
      "60 torch.cuda.OutOfMemoryError: CUDA out of memory. Tried to allocate 8.10 GiB. GPU \n",
      "61 torch.cuda.OutOfMemoryError: CUDA out of memory. Tried to allocate 12.01 GiB. GPU \n",
      "62 torch.cuda.OutOfMemoryError: CUDA out of memory. Tried to allocate 9.54 GiB. GPU \n",
      "63 torch.cuda.OutOfMemoryError: CUDA out of memory. Tried to allocate 34.96 GiB. GPU \n",
      "64 torch.cuda.OutOfMemoryError: CUDA out of memory. Tried to allocate 13.27 GiB. GPU \n",
      "65 torch.cuda.OutOfMemoryError: CUDA out of memory. Tried to allocate 20.54 GiB. GPU \n",
      "66 torch.cuda.OutOfMemoryError: CUDA out of memory. Tried to allocate 6.26 GiB. GPU \n",
      "67 torch.cuda.OutOfMemoryError: CUDA out of memory. Tried to allocate 19.91 GiB. GPU \n",
      "68 torch.cuda.OutOfMemoryError: CUDA out of memory. Tried to allocate 22.43 GiB. GPU \n",
      "69 torch.cuda.OutOfMemoryError: CUDA out of memory. Tried to allocate 16.43 GiB. GPU \n",
      "70 torch.cuda.OutOfMemoryError: CUDA out of memory. Tried to allocate 11.38 GiB. GPU \n",
      "71 torch.cuda.OutOfMemoryError: CUDA out of memory. Tried to allocate 30.62 GiB. GPU \n",
      "72 torch.cuda.OutOfMemoryError: CUDA out of memory. Tried to allocate 18.96 GiB. GPU \n",
      "73 torch.cuda.OutOfMemoryError: CUDA out of memory. Tried to allocate 18.33 GiB. GPU \n",
      "74 torch.cuda.OutOfMemoryError: CUDA out of memory. Tried to allocate 7.59 GiB. GPU \n",
      "75 torch.cuda.OutOfMemoryError: CUDA out of memory. Tried to allocate 10.74 GiB. GPU \n",
      "77 torch.cuda.OutOfMemoryError: CUDA out of memory. Tried to allocate 14.54 GiB. GPU \n",
      "78 torch.cuda.OutOfMemoryError: CUDA out of memory. Tried to allocate 542.00 MiB. GPU \n",
      "79 torch.cuda.OutOfMemoryError: CUDA out of memory. Tried to allocate 9.43 GiB. GPU \n",
      "80 torch.cuda.OutOfMemoryError: CUDA out of memory. Tried to allocate 11.69 GiB. GPU \n",
      "82 torch.cuda.OutOfMemoryError: CUDA out of memory. Tried to allocate 15.17 GiB. GPU \n",
      "83 torch.cuda.OutOfMemoryError: CUDA out of memory. Tried to allocate 30.62 GiB. GPU \n",
      "84 torch.cuda.OutOfMemoryError: CUDA out of memory. Tried to allocate 12.01 GiB. GPU \n",
      "85 torch.cuda.OutOfMemoryError: CUDA out of memory. Tried to allocate 20.22 GiB. GPU \n",
      "86 torch.cuda.OutOfMemoryError: CUDA out of memory. Tried to allocate 15.17 GiB. GPU \n",
      "87 torch.cuda.OutOfMemoryError: CUDA out of memory. Tried to allocate 28.44 GiB. GPU \n",
      "88 torch.cuda.OutOfMemoryError: CUDA out of memory. Tried to allocate 30.40 GiB. GPU \n",
      "89 torch.cuda.OutOfMemoryError: CUDA out of memory. Tried to allocate 24.96 GiB. GPU \n",
      "90 torch.cuda.OutOfMemoryError: CUDA out of memory. Tried to allocate 20.54 GiB. GPU \n",
      "91 torch.cuda.OutOfMemoryError: CUDA out of memory. Tried to allocate 18.64 GiB. GPU \n",
      "92 torch.cuda.OutOfMemoryError: CUDA out of memory. Tried to allocate 19.27 GiB. GPU \n",
      "93 torch.cuda.OutOfMemoryError: CUDA out of memory. Tried to allocate 11.38 GiB. GPU \n",
      "94 torch.cuda.OutOfMemoryError: CUDA out of memory. Tried to allocate 27.42 GiB. GPU \n",
      "95 torch.cuda.OutOfMemoryError: CUDA out of memory. Tried to allocate 27.80 GiB. GPU \n",
      "96 torch.cuda.OutOfMemoryError: CUDA out of memory. Tried to allocate 24.96 GiB. GPU \n",
      "97 torch.cuda.OutOfMemoryError: CUDA out of memory. Tried to allocate 12.01 GiB. GPU \n",
      "98 torch.cuda.OutOfMemoryError: CUDA out of memory. Tried to allocate 14.54 GiB. GPU \n",
      "99 torch.cuda.OutOfMemoryError: CUDA out of memory. Tried to allocate 30.23 GiB. GPU \n",
      "100 torch.cuda.OutOfMemoryError: CUDA out of memory. Tried to allocate 12.32 GiB. GPU \n",
      "101 torch.cuda.OutOfMemoryError: CUDA out of memory. Tried to allocate 20.54 GiB. GPU \n",
      "102 torch.cuda.OutOfMemoryError: CUDA out of memory. Tried to allocate 27.17 GiB. GPU \n",
      "103 torch.cuda.OutOfMemoryError: CUDA out of memory. Tried to allocate 27.49 GiB. GPU \n",
      "104 torch.cuda.OutOfMemoryError: CUDA out of memory. Tried to allocate 6.26 GiB. GPU \n",
      "105 torch.cuda.OutOfMemoryError: CUDA out of memory. Tried to allocate 18.01 GiB. GPU \n",
      "106 torch.cuda.OutOfMemoryError: CUDA out of memory. Tried to allocate 13.27 GiB. GPU \n",
      "108 torch.cuda.OutOfMemoryError: CUDA out of memory. Tried to allocate 21.17 GiB. GPU \n",
      "109 torch.cuda.OutOfMemoryError: CUDA out of memory. Tried to allocate 14.22 GiB. GPU \n",
      "110 torch.cuda.OutOfMemoryError: CUDA out of memory. Tried to allocate 29.07 GiB. GPU \n",
      "111 torch.cuda.OutOfMemoryError: CUDA out of memory. Tried to allocate 18.96 GiB. GPU \n",
      "112 torch.cuda.OutOfMemoryError: CUDA out of memory. Tried to allocate 18.33 GiB. GPU \n",
      "113 torch.cuda.OutOfMemoryError: CUDA out of memory. Tried to allocate 23.06 GiB. GPU \n",
      "114 torch.cuda.OutOfMemoryError: CUDA out of memory. Tried to allocate 12.32 GiB. GPU \n",
      "115 torch.cuda.OutOfMemoryError: CUDA out of memory. Tried to allocate 18.33 GiB. GPU \n",
      "116 torch.cuda.OutOfMemoryError: CUDA out of memory. Tried to allocate 16.43 GiB. GPU \n",
      "117 torch.cuda.OutOfMemoryError: CUDA out of memory. Tried to allocate 22.43 GiB. GPU \n",
      "118 torch.cuda.OutOfMemoryError: CUDA out of memory. Tried to allocate 25.62 GiB. GPU \n",
      "119 torch.cuda.OutOfMemoryError: CUDA out of memory. Tried to allocate 26.88 GiB. GPU \n",
      "120 torch.cuda.OutOfMemoryError: CUDA out of memory. Tried to allocate 12.32 GiB. GPU \n",
      "121 torch.cuda.OutOfMemoryError: CUDA out of memory. Tried to allocate 24.01 GiB. GPU \n",
      "122 torch.cuda.OutOfMemoryError: CUDA out of memory. Tried to allocate 18.33 GiB. GPU \n",
      "123 torch.cuda.OutOfMemoryError: CUDA out of memory. Tried to allocate 23.06 GiB. GPU \n",
      "124 torch.cuda.OutOfMemoryError: CUDA out of memory. Tried to allocate 16.75 GiB. GPU \n",
      "125 torch.cuda.OutOfMemoryError: CUDA out of memory. Tried to allocate 27.33 GiB. GPU \n",
      "126 torch.cuda.OutOfMemoryError: CUDA out of memory. Tried to allocate 12.32 GiB. GPU \n",
      "127 torch.cuda.OutOfMemoryError: CUDA out of memory. Tried to allocate 13.27 GiB. GPU \n",
      "128 torch.cuda.OutOfMemoryError: CUDA out of memory. Tried to allocate 20.54 GiB. GPU \n",
      "129 torch.cuda.OutOfMemoryError: CUDA out of memory. Tried to allocate 12.64 GiB. GPU \n",
      "130 torch.cuda.OutOfMemoryError: CUDA out of memory. Tried to allocate 16.75 GiB. GPU \n",
      "131 torch.cuda.OutOfMemoryError: CUDA out of memory. Tried to allocate 18.01 GiB. GPU \n",
      "132 torch.cuda.OutOfMemoryError: CUDA out of memory. Tried to allocate 18.64 GiB. GPU \n",
      "133 torch.cuda.OutOfMemoryError: CUDA out of memory. Tried to allocate 30.21 GiB. GPU \n",
      "134 torch.cuda.OutOfMemoryError: CUDA out of memory. Tried to allocate 23.70 GiB. GPU \n",
      "135 torch.cuda.OutOfMemoryError: CUDA out of memory. Tried to allocate 12.64 GiB. GPU \n",
      "136 torch.cuda.OutOfMemoryError: CUDA out of memory. Tried to allocate 19.59 GiB. GPU \n",
      "137 torch.cuda.OutOfMemoryError: CUDA out of memory. Tried to allocate 16.12 GiB. GPU \n",
      "138 torch.cuda.OutOfMemoryError: CUDA out of memory. Tried to allocate 21.17 GiB. GPU \n",
      "139 torch.cuda.OutOfMemoryError: CUDA out of memory. Tried to allocate 10.11 GiB. GPU \n",
      "140 torch.cuda.OutOfMemoryError: CUDA out of memory. Tried to allocate 14.54 GiB. GPU \n",
      "141 torch.cuda.OutOfMemoryError: CUDA out of memory. Tried to allocate 14.22 GiB. GPU \n",
      "142 torch.cuda.OutOfMemoryError: CUDA out of memory. Tried to allocate 18.64 GiB. GPU \n",
      "143 torch.cuda.OutOfMemoryError: CUDA out of memory. Tried to allocate 760.00 MiB. GPU \n",
      "144 torch.cuda.OutOfMemoryError: CUDA out of memory. Tried to allocate 16.75 GiB. GPU \n",
      "145 torch.cuda.OutOfMemoryError: CUDA out of memory. Tried to allocate 8.10 GiB. GPU \n",
      "146 torch.cuda.OutOfMemoryError: CUDA out of memory. Tried to allocate 26.86 GiB. GPU \n",
      "147 torch.cuda.OutOfMemoryError: CUDA out of memory. Tried to allocate 29.38 GiB. GPU \n",
      "148 torch.cuda.OutOfMemoryError: CUDA out of memory. Tried to allocate 16.75 GiB. GPU \n",
      "149 torch.cuda.OutOfMemoryError: CUDA out of memory. Tried to allocate 12.64 GiB. GPU \n",
      "150 torch.cuda.OutOfMemoryError: CUDA out of memory. Tried to allocate 18.64 GiB. GPU \n",
      "151 torch.cuda.OutOfMemoryError: CUDA out of memory. Tried to allocate 28.51 GiB. GPU \n",
      "152 torch.cuda.OutOfMemoryError: CUDA out of memory. Tried to allocate 24.33 GiB. GPU \n",
      "153 torch.cuda.OutOfMemoryError: CUDA out of memory. Tried to allocate 22.12 GiB. GPU \n",
      "154 torch.cuda.OutOfMemoryError: CUDA out of memory. Tried to allocate 15.80 GiB. GPU \n",
      "155 torch.cuda.OutOfMemoryError: CUDA out of memory. Tried to allocate 15.80 GiB. GPU \n",
      "156 torch.cuda.OutOfMemoryError: CUDA out of memory. Tried to allocate 16.75 GiB. GPU \n",
      "157 torch.cuda.OutOfMemoryError: CUDA out of memory. Tried to allocate 18.64 GiB. GPU \n",
      "158 torch.cuda.OutOfMemoryError: CUDA out of memory. Tried to allocate 37.11 GiB. GPU \n",
      "159 torch.cuda.OutOfMemoryError: CUDA out of memory. Tried to allocate 9.02 GiB. GPU \n",
      "161 torch.cuda.OutOfMemoryError: CUDA out of memory. Tried to allocate 16.75 GiB. GPU \n",
      "162 torch.cuda.OutOfMemoryError: CUDA out of memory. Tried to allocate 14.85 GiB. GPU \n",
      "163 torch.cuda.OutOfMemoryError: CUDA out of memory. Tried to allocate 14.54 GiB. GPU \n",
      "164 torch.cuda.OutOfMemoryError: CUDA out of memory. Tried to allocate 12.64 GiB. GPU \n",
      "165 torch.cuda.OutOfMemoryError: CUDA out of memory. Tried to allocate 10.74 GiB. GPU \n",
      "166 torch.cuda.OutOfMemoryError: CUDA out of memory. Tried to allocate 16.43 GiB. GPU \n",
      "168 torch.cuda.OutOfMemoryError: CUDA out of memory. Tried to allocate 11.69 GiB. GPU \n",
      "170 torch.cuda.OutOfMemoryError: CUDA out of memory. Tried to allocate 10.11 GiB. GPU \n",
      "171 torch.cuda.OutOfMemoryError: CUDA out of memory. Tried to allocate 16.43 GiB. GPU \n",
      "172 torch.cuda.OutOfMemoryError: CUDA out of memory. Tried to allocate 12.64 GiB. GPU \n",
      "173 torch.cuda.OutOfMemoryError: CUDA out of memory. Tried to allocate 11.38 GiB. GPU \n",
      "174 torch.cuda.OutOfMemoryError: CUDA out of memory. Tried to allocate 16.12 GiB. GPU \n",
      "175 torch.cuda.OutOfMemoryError: CUDA out of memory. Tried to allocate 13.59 GiB. GPU \n",
      "176 torch.cuda.OutOfMemoryError: CUDA out of memory. Tried to allocate 13.90 GiB. GPU \n",
      "177 torch.cuda.OutOfMemoryError: CUDA out of memory. Tried to allocate 15.48 GiB. GPU \n",
      "178 torch.cuda.OutOfMemoryError: CUDA out of memory. Tried to allocate 12.32 GiB. GPU \n",
      "180 torch.cuda.OutOfMemoryError: CUDA out of memory. Tried to allocate 11.69 GiB. GPU \n",
      "181 torch.cuda.OutOfMemoryError: CUDA out of memory. Tried to allocate 17.38 GiB. GPU \n",
      "182 torch.cuda.OutOfMemoryError: CUDA out of memory. Tried to allocate 15.80 GiB. GPU \n",
      "185 torch.cuda.OutOfMemoryError: CUDA out of memory. Tried to allocate 10.43 GiB. GPU \n",
      "186 torch.cuda.OutOfMemoryError: CUDA out of memory. Tried to allocate 16.12 GiB. GPU \n",
      "187 torch.cuda.OutOfMemoryError: CUDA out of memory. Tried to allocate 13.90 GiB. GPU \n",
      "188 torch.cuda.OutOfMemoryError: CUDA out of memory. Tried to allocate 15.48 GiB. GPU \n",
      "189 torch.cuda.OutOfMemoryError: CUDA out of memory. Tried to allocate 15.80 GiB. GPU \n",
      "190 torch.cuda.OutOfMemoryError: CUDA out of memory. Tried to allocate 10.43 GiB. GPU \n",
      "191 torch.cuda.OutOfMemoryError: CUDA out of memory. Tried to allocate 20.54 GiB. GPU \n",
      "192 torch.cuda.OutOfMemoryError: CUDA out of memory. Tried to allocate 10.74 GiB. GPU \n",
      "193 torch.cuda.OutOfMemoryError: CUDA out of memory. Tried to allocate 10.43 GiB. GPU \n",
      "194 torch.cuda.OutOfMemoryError: CUDA out of memory. Tried to allocate 10.43 GiB. GPU \n",
      "195 torch.cuda.OutOfMemoryError: CUDA out of memory. Tried to allocate 14.54 GiB. GPU \n",
      "196 torch.cuda.OutOfMemoryError: CUDA out of memory. Tried to allocate 15.80 GiB. GPU \n",
      "197 torch.cuda.OutOfMemoryError: CUDA out of memory. Tried to allocate 10.74 GiB. GPU \n",
      "198 torch.cuda.OutOfMemoryError: CUDA out of memory. Tried to allocate 13.59 GiB. GPU \n",
      "200 torch.cuda.OutOfMemoryError: CUDA out of memory. Tried to allocate 16.43 GiB. GPU \n",
      "201 torch.cuda.OutOfMemoryError: CUDA out of memory. Tried to allocate 12.01 GiB. GPU \n",
      "202 torch.cuda.OutOfMemoryError: CUDA out of memory. Tried to allocate 16.43 GiB. GPU \n",
      "203 torch.cuda.OutOfMemoryError: CUDA out of memory. Tried to allocate 11.69 GiB. GPU \n",
      "204 torch.cuda.OutOfMemoryError: CUDA out of memory. Tried to allocate 16.43 GiB. GPU \n",
      "205 torch.cuda.OutOfMemoryError: CUDA out of memory. Tried to allocate 14.85 GiB. GPU \n",
      "206 torch.cuda.OutOfMemoryError: CUDA out of memory. Tried to allocate 14.22 GiB. GPU \n",
      "207 torch.cuda.OutOfMemoryError: CUDA out of memory. Tried to allocate 13.59 GiB. GPU \n",
      "208 torch.cuda.OutOfMemoryError: CUDA out of memory. Tried to allocate 11.38 GiB. GPU \n",
      "209 torch.cuda.OutOfMemoryError: CUDA out of memory. Tried to allocate 14.22 GiB. GPU \n",
      "210 torch.cuda.OutOfMemoryError: CUDA out of memory. Tried to allocate 13.27 GiB. GPU \n",
      "211 torch.cuda.OutOfMemoryError: CUDA out of memory. Tried to allocate 16.75 GiB. GPU \n",
      "212 torch.cuda.OutOfMemoryError: CUDA out of memory. Tried to allocate 14.54 GiB. GPU \n",
      "214 torch.cuda.OutOfMemoryError: CUDA out of memory. Tried to allocate 11.06 GiB. GPU \n",
      "216 torch.cuda.OutOfMemoryError: CUDA out of memory. Tried to allocate 15.80 GiB. GPU \n",
      "217 torch.cuda.OutOfMemoryError: CUDA out of memory. Tried to allocate 12.64 GiB. GPU \n",
      "218 torch.cuda.OutOfMemoryError: CUDA out of memory. Tried to allocate 14.54 GiB. GPU \n",
      "219 torch.cuda.OutOfMemoryError: CUDA out of memory. Tried to allocate 16.75 GiB. GPU \n",
      "220 torch.cuda.OutOfMemoryError: CUDA out of memory. Tried to allocate 13.90 GiB. GPU \n",
      "221 torch.cuda.OutOfMemoryError: CUDA out of memory. Tried to allocate 10.11 GiB. GPU \n",
      "222 torch.cuda.OutOfMemoryError: CUDA out of memory. Tried to allocate 18.33 GiB. GPU \n",
      "223 torch.cuda.OutOfMemoryError: CUDA out of memory. Tried to allocate 15.48 GiB. GPU \n",
      "224 torch.cuda.OutOfMemoryError: CUDA out of memory. Tried to allocate 17.06 GiB. GPU \n",
      "225 torch.cuda.OutOfMemoryError: CUDA out of memory. Tried to allocate 11.69 GiB. GPU \n",
      "226 torch.cuda.OutOfMemoryError: CUDA out of memory. Tried to allocate 14.22 GiB. GPU \n",
      "227 torch.cuda.OutOfMemoryError: CUDA out of memory. Tried to allocate 11.38 GiB. GPU \n",
      "228 torch.cuda.OutOfMemoryError: CUDA out of memory. Tried to allocate 17.69 GiB. GPU \n",
      "229 torch.cuda.OutOfMemoryError: CUDA out of memory. Tried to allocate 13.59 GiB. GPU \n",
      "230 torch.cuda.OutOfMemoryError: CUDA out of memory. Tried to allocate 13.90 GiB. GPU \n",
      "231 torch.cuda.OutOfMemoryError: CUDA out of memory. Tried to allocate 15.80 GiB. GPU \n",
      "232 torch.cuda.OutOfMemoryError: CUDA out of memory. Tried to allocate 10.11 GiB. GPU \n",
      "233 torch.cuda.OutOfMemoryError: CUDA out of memory. Tried to allocate 13.27 GiB. GPU \n",
      "234 torch.cuda.OutOfMemoryError: CUDA out of memory. Tried to allocate 11.06 GiB. GPU \n",
      "235 torch.cuda.OutOfMemoryError: CUDA out of memory. Tried to allocate 12.96 GiB. GPU \n",
      "236 ValueError: None detected in loss. Terminating training.\n",
      "237 torch.cuda.OutOfMemoryError: CUDA out of memory. Tried to allocate 11.69 GiB. GPU \n",
      "238 torch.cuda.OutOfMemoryError: CUDA out of memory. Tried to allocate 17.38 GiB. GPU \n",
      "239 torch.cuda.OutOfMemoryError: CUDA out of memory. Tried to allocate 14.85 GiB. GPU \n",
      "240 torch.cuda.OutOfMemoryError: CUDA out of memory. Tried to allocate 19.27 GiB. GPU \n",
      "241 torch.cuda.OutOfMemoryError: CUDA out of memory. Tried to allocate 19.27 GiB. GPU \n",
      "242 torch.cuda.OutOfMemoryError: CUDA out of memory. Tried to allocate 12.96 GiB. GPU \n",
      "244 torch.cuda.OutOfMemoryError: CUDA out of memory. Tried to allocate 12.96 GiB. GPU \n",
      "245 torch.cuda.OutOfMemoryError: CUDA out of memory. Tried to allocate 22.12 GiB. GPU \n",
      "246 torch.cuda.OutOfMemoryError: CUDA out of memory. Tried to allocate 23.38 GiB. GPU \n",
      "247 torch.cuda.OutOfMemoryError: CUDA out of memory. Tried to allocate 19.27 GiB. GPU \n",
      "248 torch.cuda.OutOfMemoryError: CUDA out of memory. Tried to allocate 15.17 GiB. GPU \n",
      "249 torch.cuda.OutOfMemoryError: CUDA out of memory. Tried to allocate 14.22 GiB. GPU \n",
      "250 torch.cuda.OutOfMemoryError: CUDA out of memory. Tried to allocate 18.96 GiB. GPU \n",
      "251 torch.cuda.OutOfMemoryError: CUDA out of memory. Tried to allocate 17.38 GiB. GPU \n",
      "252 torch.cuda.OutOfMemoryError: CUDA out of memory. Tried to allocate 18.96 GiB. GPU \n",
      "253 torch.cuda.OutOfMemoryError: CUDA out of memory. Tried to allocate 10.43 GiB. GPU \n",
      "255 torch.cuda.OutOfMemoryError: CUDA out of memory. Tried to allocate 10.43 GiB. GPU \n",
      "256 torch.cuda.OutOfMemoryError: CUDA out of memory. Tried to allocate 11.38 GiB. GPU \n",
      "257 torch.cuda.OutOfMemoryError: CUDA out of memory. Tried to allocate 11.06 GiB. GPU \n",
      "258 torch.cuda.OutOfMemoryError: CUDA out of memory. Tried to allocate 11.69 GiB. GPU \n",
      "259 torch.cuda.OutOfMemoryError: CUDA out of memory. Tried to allocate 11.69 GiB. GPU \n",
      "260 torch.cuda.OutOfMemoryError: CUDA out of memory. Tried to allocate 12.01 GiB. GPU \n",
      "261 torch.cuda.OutOfMemoryError: CUDA out of memory. Tried to allocate 11.06 GiB. GPU \n",
      "262 torch.cuda.OutOfMemoryError: CUDA out of memory. Tried to allocate 11.38 GiB. GPU \n",
      "263 torch.cuda.OutOfMemoryError: CUDA out of memory. Tried to allocate 12.96 GiB. GPU \n",
      "264 torch.cuda.OutOfMemoryError: CUDA out of memory. Tried to allocate 10.74 GiB. GPU \n",
      "265 torch.cuda.OutOfMemoryError: CUDA out of memory. Tried to allocate 15.80 GiB. GPU \n",
      "266 torch.cuda.OutOfMemoryError: CUDA out of memory. Tried to allocate 17.38 GiB. GPU \n",
      "267 torch.cuda.OutOfMemoryError: CUDA out of memory. Tried to allocate 12.01 GiB. GPU \n",
      "268 torch.cuda.OutOfMemoryError: CUDA out of memory. Tried to allocate 10.43 GiB. GPU \n",
      "269 torch.cuda.OutOfMemoryError: CUDA out of memory. Tried to allocate 11.38 GiB. GPU \n",
      "270 torch.cuda.OutOfMemoryError: CUDA out of memory. Tried to allocate 11.38 GiB. GPU \n",
      "271 torch.cuda.OutOfMemoryError: CUDA out of memory. Tried to allocate 11.06 GiB. GPU \n",
      "272 torch.cuda.OutOfMemoryError: CUDA out of memory. Tried to allocate 17.06 GiB. GPU \n",
      "273 torch.cuda.OutOfMemoryError: CUDA out of memory. Tried to allocate 10.43 GiB. GPU \n",
      "274 torch.cuda.OutOfMemoryError: CUDA out of memory. Tried to allocate 15.80 GiB. GPU \n",
      "276 torch.cuda.OutOfMemoryError: CUDA out of memory. Tried to allocate 17.06 GiB. GPU \n",
      "277 torch.cuda.OutOfMemoryError: CUDA out of memory. Tried to allocate 13.27 GiB. GPU \n",
      "278 torch.cuda.OutOfMemoryError: CUDA out of memory. Tried to allocate 16.12 GiB. GPU \n",
      "279 torch.cuda.OutOfMemoryError: CUDA out of memory. Tried to allocate 10.11 GiB. GPU \n",
      "280 torch.cuda.OutOfMemoryError: CUDA out of memory. Tried to allocate 16.43 GiB. GPU \n",
      "281 torch.cuda.OutOfMemoryError: CUDA out of memory. Tried to allocate 15.48 GiB. GPU \n",
      "283 torch.cuda.OutOfMemoryError: CUDA out of memory. Tried to allocate 11.69 GiB. GPU \n",
      "284 torch.cuda.OutOfMemoryError: CUDA out of memory. Tried to allocate 15.48 GiB. GPU \n",
      "285 torch.cuda.OutOfMemoryError: CUDA out of memory. Tried to allocate 12.96 GiB. GPU \n",
      "286 torch.cuda.OutOfMemoryError: CUDA out of memory. Tried to allocate 11.69 GiB. GPU \n",
      "287 torch.cuda.OutOfMemoryError: CUDA out of memory. Tried to allocate 15.80 GiB. GPU \n",
      "288 torch.cuda.OutOfMemoryError: CUDA out of memory. Tried to allocate 14.54 GiB. GPU \n",
      "289 torch.cuda.OutOfMemoryError: CUDA out of memory. Tried to allocate 17.06 GiB. GPU \n",
      "290 torch.cuda.OutOfMemoryError: CUDA out of memory. Tried to allocate 13.27 GiB. GPU \n",
      "291 torch.cuda.OutOfMemoryError: CUDA out of memory. Tried to allocate 13.59 GiB. GPU \n",
      "292 torch.cuda.OutOfMemoryError: CUDA out of memory. Tried to allocate 14.22 GiB. GPU \n",
      "293 torch.cuda.OutOfMemoryError: CUDA out of memory. Tried to allocate 16.75 GiB. GPU \n",
      "294 torch.cuda.OutOfMemoryError: CUDA out of memory. Tried to allocate 12.32 GiB. GPU \n",
      "296 torch.cuda.OutOfMemoryError: CUDA out of memory. Tried to allocate 16.12 GiB. GPU \n",
      "297 torch.cuda.OutOfMemoryError: CUDA out of memory. Tried to allocate 10.74 GiB. GPU \n",
      "298 torch.cuda.OutOfMemoryError: CUDA out of memory. Tried to allocate 20.85 GiB. GPU \n",
      "299 torch.cuda.OutOfMemoryError: CUDA out of memory. Tried to allocate 11.69 GiB. GPU \n",
      "300 torch.cuda.OutOfMemoryError: CUDA out of memory. Tried to allocate 14.54 GiB. GPU \n",
      "301 torch.cuda.OutOfMemoryError: CUDA out of memory. Tried to allocate 15.17 GiB. GPU \n",
      "304 torch.cuda.OutOfMemoryError: CUDA out of memory. Tried to allocate 11.06 GiB. GPU \n",
      "306 torch.cuda.OutOfMemoryError: CUDA out of memory. Tried to allocate 16.75 GiB. GPU \n",
      "308 torch.cuda.OutOfMemoryError: CUDA out of memory. Tried to allocate 16.43 GiB. GPU \n",
      "309 torch.cuda.OutOfMemoryError: CUDA out of memory. Tried to allocate 12.01 GiB. GPU \n",
      "310 torch.cuda.OutOfMemoryError: CUDA out of memory. Tried to allocate 13.59 GiB. GPU \n",
      "311 torch.cuda.OutOfMemoryError: CUDA out of memory. Tried to allocate 14.22 GiB. GPU \n",
      "314 torch.cuda.OutOfMemoryError: CUDA out of memory. Tried to allocate 12.32 GiB. GPU \n",
      "315 torch.cuda.OutOfMemoryError: CUDA out of memory. Tried to allocate 13.59 GiB. GPU \n",
      "316 torch.cuda.OutOfMemoryError: CUDA out of memory. Tried to allocate 18.64 GiB. GPU \n",
      "317 torch.cuda.OutOfMemoryError: CUDA out of memory. Tried to allocate 16.75 GiB. GPU \n",
      "318 torch.cuda.OutOfMemoryError: CUDA out of memory. Tried to allocate 12.32 GiB. GPU \n",
      "319 torch.cuda.OutOfMemoryError: CUDA out of memory. Tried to allocate 18.64 GiB. GPU \n",
      "320 torch.cuda.OutOfMemoryError: CUDA out of memory. Tried to allocate 19.91 GiB. GPU \n",
      "321 torch.cuda.OutOfMemoryError: CUDA out of memory. Tried to allocate 15.80 GiB. GPU \n",
      "322 torch.cuda.OutOfMemoryError: CUDA out of memory. Tried to allocate 18.01 GiB. GPU \n",
      "324 torch.cuda.OutOfMemoryError: CUDA out of memory. Tried to allocate 12.32 GiB. GPU \n",
      "325 torch.cuda.OutOfMemoryError: CUDA out of memory. Tried to allocate 19.27 GiB. GPU \n",
      "326 torch.cuda.OutOfMemoryError: CUDA out of memory. Tried to allocate 17.06 GiB. GPU \n",
      "327 torch.cuda.OutOfMemoryError: CUDA out of memory. Tried to allocate 12.64 GiB. GPU \n",
      "328 torch.cuda.OutOfMemoryError: CUDA out of memory. Tried to allocate 22.12 GiB. GPU \n",
      "329 torch.cuda.OutOfMemoryError: CUDA out of memory. Tried to allocate 12.64 GiB. GPU \n",
      "330 torch.cuda.OutOfMemoryError: CUDA out of memory. Tried to allocate 14.85 GiB. GPU \n",
      "331 torch.cuda.OutOfMemoryError: CUDA out of memory. Tried to allocate 13.59 GiB. GPU \n",
      "332 torch.cuda.OutOfMemoryError: CUDA out of memory. Tried to allocate 18.96 GiB. GPU \n",
      "333 torch.cuda.OutOfMemoryError: CUDA out of memory. Tried to allocate 22.12 GiB. GPU \n",
      "334 torch.cuda.OutOfMemoryError: CUDA out of memory. Tried to allocate 22.75 GiB. GPU \n",
      "335 torch.cuda.OutOfMemoryError: CUDA out of memory. Tried to allocate 11.69 GiB. GPU \n",
      "336 torch.cuda.OutOfMemoryError: CUDA out of memory. Tried to allocate 11.06 GiB. GPU \n",
      "337 torch.cuda.OutOfMemoryError: CUDA out of memory. Tried to allocate 17.69 GiB. GPU \n",
      "338 torch.cuda.OutOfMemoryError: CUDA out of memory. Tried to allocate 12.01 GiB. GPU \n",
      "339 torch.cuda.OutOfMemoryError: CUDA out of memory. Tried to allocate 11.38 GiB. GPU \n",
      "340 torch.cuda.OutOfMemoryError: CUDA out of memory. Tried to allocate 11.06 GiB. GPU \n",
      "341 torch.cuda.OutOfMemoryError: CUDA out of memory. Tried to allocate 13.27 GiB. GPU \n",
      "342 torch.cuda.OutOfMemoryError: CUDA out of memory. Tried to allocate 15.48 GiB. GPU \n",
      "343 torch.cuda.OutOfMemoryError: CUDA out of memory. Tried to allocate 10.74 GiB. GPU \n",
      "344 torch.cuda.OutOfMemoryError: CUDA out of memory. Tried to allocate 11.38 GiB. GPU \n",
      "345 torch.cuda.OutOfMemoryError: CUDA out of memory. Tried to allocate 12.64 GiB. GPU \n",
      "346 torch.cuda.OutOfMemoryError: CUDA out of memory. Tried to allocate 17.06 GiB. GPU \n",
      "347 torch.cuda.OutOfMemoryError: CUDA out of memory. Tried to allocate 10.43 GiB. GPU \n",
      "348 torch.cuda.OutOfMemoryError: CUDA out of memory. Tried to allocate 11.06 GiB. GPU \n",
      "349 torch.cuda.OutOfMemoryError: CUDA out of memory. Tried to allocate 13.27 GiB. GPU \n",
      "350 torch.cuda.OutOfMemoryError: CUDA out of memory. Tried to allocate 15.80 GiB. GPU \n",
      "351 torch.cuda.OutOfMemoryError: CUDA out of memory. Tried to allocate 13.90 GiB. GPU \n",
      "352 torch.cuda.OutOfMemoryError: CUDA out of memory. Tried to allocate 25.91 GiB. GPU \n",
      "353 ValueError: None detected in loss. Terminating training.\n",
      "354 torch.cuda.OutOfMemoryError: CUDA out of memory. Tried to allocate 12.96 GiB. GPU \n",
      "355 torch.cuda.OutOfMemoryError: CUDA out of memory. Tried to allocate 13.90 GiB. GPU \n",
      "356 torch.cuda.OutOfMemoryError: CUDA out of memory. Tried to allocate 17.06 GiB. GPU \n",
      "357 torch.cuda.OutOfMemoryError: CUDA out of memory. Tried to allocate 10.11 GiB. GPU \n",
      "358 torch.cuda.OutOfMemoryError: CUDA out of memory. Tried to allocate 13.27 GiB. GPU \n",
      "359 torch.cuda.OutOfMemoryError: CUDA out of memory. Tried to allocate 15.80 GiB. GPU \n",
      "360 torch.cuda.OutOfMemoryError: CUDA out of memory. Tried to allocate 13.27 GiB. GPU \n",
      "361 torch.cuda.OutOfMemoryError: CUDA out of memory. Tried to allocate 3.28 GiB. GPU \n",
      "362 torch.cuda.OutOfMemoryError: CUDA out of memory. Tried to allocate 11.69 GiB. GPU \n",
      "363 torch.cuda.OutOfMemoryError: CUDA out of memory. Tried to allocate 10.43 GiB. GPU \n",
      "364 torch.cuda.OutOfMemoryError: CUDA out of memory. Tried to allocate 11.06 GiB. GPU \n",
      "365 torch.cuda.OutOfMemoryError: CUDA out of memory. Tried to allocate 11.06 GiB. GPU \n",
      "366 torch.cuda.OutOfMemoryError: CUDA out of memory. Tried to allocate 12.32 GiB. GPU \n",
      "367 torch.cuda.OutOfMemoryError: CUDA out of memory. Tried to allocate 15.80 GiB. GPU \n",
      "368 torch.cuda.OutOfMemoryError: CUDA out of memory. Tried to allocate 11.38 GiB. GPU \n",
      "369 torch.cuda.OutOfMemoryError: CUDA out of memory. Tried to allocate 11.06 GiB. GPU \n",
      "370 torch.cuda.OutOfMemoryError: CUDA out of memory. Tried to allocate 16.12 GiB. GPU \n",
      "371 torch.cuda.OutOfMemoryError: CUDA out of memory. Tried to allocate 11.69 GiB. GPU \n",
      "372 torch.cuda.OutOfMemoryError: CUDA out of memory. Tried to allocate 12.96 GiB. GPU \n",
      "373 torch.cuda.OutOfMemoryError: CUDA out of memory. Tried to allocate 11.69 GiB. GPU \n",
      "374 torch.cuda.OutOfMemoryError: CUDA out of memory. Tried to allocate 11.38 GiB. GPU \n",
      "375 torch.cuda.OutOfMemoryError: CUDA out of memory. Tried to allocate 10.43 GiB. GPU \n",
      "376 torch.cuda.OutOfMemoryError: CUDA out of memory. Tried to allocate 12.32 GiB. GPU \n",
      "377 torch.cuda.OutOfMemoryError: CUDA out of memory. Tried to allocate 12.64 GiB. GPU \n",
      "378 torch.cuda.OutOfMemoryError: CUDA out of memory. Tried to allocate 10.43 GiB. GPU \n",
      "379 torch.cuda.OutOfMemoryError: CUDA out of memory. Tried to allocate 13.90 GiB. GPU \n",
      "380 torch.cuda.OutOfMemoryError: CUDA out of memory. Tried to allocate 10.74 GiB. GPU \n",
      "381 torch.cuda.OutOfMemoryError: CUDA out of memory. Tried to allocate 14.22 GiB. GPU \n",
      "382 torch.cuda.OutOfMemoryError: CUDA out of memory. Tried to allocate 16.43 GiB. GPU \n",
      "383 torch.cuda.OutOfMemoryError: CUDA out of memory. Tried to allocate 13.27 GiB. GPU \n",
      "384 torch.cuda.OutOfMemoryError: CUDA out of memory. Tried to allocate 11.06 GiB. GPU \n",
      "385 torch.cuda.OutOfMemoryError: CUDA out of memory. Tried to allocate 10.11 GiB. GPU \n",
      "386 torch.cuda.OutOfMemoryError: CUDA out of memory. Tried to allocate 10.74 GiB. GPU \n",
      "387 torch.cuda.OutOfMemoryError: CUDA out of memory. Tried to allocate 15.80 GiB. GPU \n",
      "388 torch.cuda.OutOfMemoryError: CUDA out of memory. Tried to allocate 14.54 GiB. GPU \n",
      "389 torch.cuda.OutOfMemoryError: CUDA out of memory. Tried to allocate 20.85 GiB. GPU \n",
      "390 torch.cuda.OutOfMemoryError: CUDA out of memory. Tried to allocate 16.43 GiB. GPU \n",
      "391 torch.cuda.OutOfMemoryError: CUDA out of memory. Tried to allocate 11.06 GiB. GPU \n",
      "392 torch.cuda.OutOfMemoryError: CUDA out of memory. Tried to allocate 12.96 GiB. GPU \n",
      "393 torch.cuda.OutOfMemoryError: CUDA out of memory. Tried to allocate 14.54 GiB. GPU \n",
      "394 torch.cuda.OutOfMemoryError: CUDA out of memory. Tried to allocate 14.22 GiB. GPU \n",
      "395 torch.cuda.OutOfMemoryError: CUDA out of memory. Tried to allocate 14.22 GiB. GPU \n",
      "396 torch.cuda.OutOfMemoryError: CUDA out of memory. Tried to allocate 12.32 GiB. GPU \n",
      "397 torch.cuda.OutOfMemoryError: CUDA out of memory. Tried to allocate 11.38 GiB. GPU \n",
      "398 torch.cuda.OutOfMemoryError: CUDA out of memory. Tried to allocate 13.59 GiB. GPU \n",
      "399 torch.cuda.OutOfMemoryError: CUDA out of memory. Tried to allocate 10.11 GiB. GPU \n",
      "400 torch.cuda.OutOfMemoryError: CUDA out of memory. Tried to allocate 10.11 GiB. GPU \n",
      "401 torch.cuda.OutOfMemoryError: CUDA out of memory. Tried to allocate 10.74 GiB. GPU \n",
      "402 torch.cuda.OutOfMemoryError: CUDA out of memory. Tried to allocate 14.85 GiB. GPU \n",
      "403 torch.cuda.OutOfMemoryError: CUDA out of memory. Tried to allocate 13.90 GiB. GPU \n",
      "404 torch.cuda.OutOfMemoryError: CUDA out of memory. Tried to allocate 12.64 GiB. GPU \n",
      "405 torch.cuda.OutOfMemoryError: CUDA out of memory. Tried to allocate 17.38 GiB. GPU \n",
      "406 torch.cuda.OutOfMemoryError: CUDA out of memory. Tried to allocate 15.48 GiB. GPU \n",
      "408 torch.cuda.OutOfMemoryError: CUDA out of memory. Tried to allocate 11.69 GiB. GPU \n",
      "409 torch.cuda.OutOfMemoryError: CUDA out of memory. Tried to allocate 12.64 GiB. GPU \n",
      "410 torch.cuda.OutOfMemoryError: CUDA out of memory. Tried to allocate 14.54 GiB. GPU \n",
      "411 torch.cuda.OutOfMemoryError: CUDA out of memory. Tried to allocate 11.06 GiB. GPU \n",
      "413 torch.cuda.OutOfMemoryError: CUDA out of memory. Tried to allocate 16.12 GiB. GPU \n",
      "414 torch.cuda.OutOfMemoryError: CUDA out of memory. Tried to allocate 12.64 GiB. GPU \n",
      "415 torch.cuda.OutOfMemoryError: CUDA out of memory. Tried to allocate 12.01 GiB. GPU \n",
      "416 torch.cuda.OutOfMemoryError: CUDA out of memory. Tried to allocate 13.59 GiB. GPU \n",
      "417 torch.cuda.OutOfMemoryError: CUDA out of memory. Tried to allocate 14.85 GiB. GPU \n",
      "418 torch.cuda.OutOfMemoryError: CUDA out of memory. Tried to allocate 11.38 GiB. GPU \n",
      "419 torch.cuda.OutOfMemoryError: CUDA out of memory. Tried to allocate 13.59 GiB. GPU \n",
      "421 torch.cuda.OutOfMemoryError: CUDA out of memory. Tried to allocate 14.85 GiB. GPU \n",
      "422 torch.cuda.OutOfMemoryError: CUDA out of memory. Tried to allocate 14.54 GiB. GPU \n",
      "423 torch.cuda.OutOfMemoryError: CUDA out of memory. Tried to allocate 12.01 GiB. GPU \n",
      "425 torch.cuda.OutOfMemoryError: CUDA out of memory. Tried to allocate 12.32 GiB. GPU \n",
      "427 torch.cuda.OutOfMemoryError: CUDA out of memory. Tried to allocate 11.69 GiB. GPU \n",
      "428 torch.cuda.OutOfMemoryError: CUDA out of memory. Tried to allocate 17.38 GiB. GPU \n",
      "429 torch.cuda.OutOfMemoryError: CUDA out of memory. Tried to allocate 12.01 GiB. GPU \n",
      "430 torch.cuda.OutOfMemoryError: CUDA out of memory. Tried to allocate 9.54 GiB. GPU \n",
      "431 torch.cuda.OutOfMemoryError: CUDA out of memory. Tried to allocate 12.40 GiB. GPU \n",
      "432 torch.cuda.OutOfMemoryError: CUDA out of memory. Tried to allocate 8.67 GiB. GPU \n",
      "433 torch.cuda.OutOfMemoryError: CUDA out of memory. Tried to allocate 9.43 GiB. GPU \n",
      "434 torch.cuda.OutOfMemoryError: CUDA out of memory. Tried to allocate 11.78 GiB. GPU \n",
      "435 torch.cuda.OutOfMemoryError: CUDA out of memory. Tried to allocate 11.74 GiB. GPU \n",
      "436 torch.cuda.OutOfMemoryError: CUDA out of memory. Tried to allocate 8.84 GiB. GPU \n",
      "437 torch.cuda.OutOfMemoryError: CUDA out of memory. Tried to allocate 11.66 GiB. GPU \n",
      "438 torch.cuda.OutOfMemoryError: CUDA out of memory. Tried to allocate 13.74 GiB. GPU \n",
      "439 torch.cuda.OutOfMemoryError: CUDA out of memory. Tried to allocate 15.29 GiB. GPU \n",
      "440 torch.cuda.OutOfMemoryError: CUDA out of memory. Tried to allocate 4.51 GiB. GPU \n",
      "441 torch.cuda.OutOfMemoryError: CUDA out of memory. Tried to allocate 7.93 GiB. GPU \n",
      "442 torch.cuda.OutOfMemoryError: CUDA out of memory. Tried to allocate 7.95 GiB. GPU \n",
      "443 torch.cuda.OutOfMemoryError: CUDA out of memory. Tried to allocate 12.00 GiB. GPU \n",
      "444 torch.cuda.OutOfMemoryError: CUDA out of memory. Tried to allocate 12.98 GiB. GPU \n",
      "445 torch.cuda.OutOfMemoryError: CUDA out of memory. Tried to allocate 14.25 GiB. GPU \n",
      "446 torch.cuda.OutOfMemoryError: CUDA out of memory. Tried to allocate 12.82 GiB. GPU \n",
      "447 torch.cuda.OutOfMemoryError: CUDA out of memory. Tried to allocate 12.22 GiB. GPU \n",
      "448 torch.cuda.OutOfMemoryError: CUDA out of memory. Tried to allocate 7.99 GiB. GPU \n",
      "449 torch.cuda.OutOfMemoryError: CUDA out of memory. Tried to allocate 11.77 GiB. GPU \n",
      "450 torch.cuda.OutOfMemoryError: CUDA out of memory. Tried to allocate 9.50 GiB. GPU \n",
      "451 torch.cuda.OutOfMemoryError: CUDA out of memory. Tried to allocate 10.84 GiB. GPU \n",
      "452 torch.cuda.OutOfMemoryError: CUDA out of memory. Tried to allocate 3.79 GiB. GPU \n",
      "453 torch.cuda.OutOfMemoryError: CUDA out of memory. Tried to allocate 12.92 GiB. GPU \n",
      "454 torch.cuda.OutOfMemoryError: CUDA out of memory. Tried to allocate 15.79 GiB. GPU \n",
      "455 torch.cuda.OutOfMemoryError: CUDA out of memory. Tried to allocate 5.64 GiB. GPU \n",
      "456 torch.cuda.OutOfMemoryError: CUDA out of memory. Tried to allocate 8.02 GiB. GPU \n",
      "457 torch.cuda.OutOfMemoryError: CUDA out of memory. Tried to allocate 3.59 GiB. GPU \n",
      "458 torch.cuda.OutOfMemoryError: CUDA out of memory. Tried to allocate 9.60 GiB. GPU \n",
      "459 torch.cuda.OutOfMemoryError: CUDA out of memory. Tried to allocate 11.69 GiB. GPU \n",
      "460 torch.cuda.OutOfMemoryError: CUDA out of memory. Tried to allocate 9.35 GiB. GPU \n",
      "461 torch.cuda.OutOfMemoryError: CUDA out of memory. Tried to allocate 14.85 GiB. GPU \n",
      "462 torch.cuda.OutOfMemoryError: CUDA out of memory. Tried to allocate 13.90 GiB. GPU \n",
      "463 torch.cuda.OutOfMemoryError: CUDA out of memory. Tried to allocate 13.90 GiB. GPU \n",
      "464 torch.cuda.OutOfMemoryError: CUDA out of memory. Tried to allocate 11.06 GiB. GPU \n",
      "465 torch.cuda.OutOfMemoryError: CUDA out of memory. Tried to allocate 12.96 GiB. GPU \n",
      "466 torch.cuda.OutOfMemoryError: CUDA out of memory. Tried to allocate 10.11 GiB. GPU \n",
      "467 torch.cuda.OutOfMemoryError: CUDA out of memory. Tried to allocate 14.22 GiB. GPU \n",
      "468 torch.cuda.OutOfMemoryError: CUDA out of memory. Tried to allocate 12.96 GiB. GPU \n",
      "469 torch.cuda.OutOfMemoryError: CUDA out of memory. Tried to allocate 12.01 GiB. GPU \n",
      "470 torch.cuda.OutOfMemoryError: CUDA out of memory. Tried to allocate 12.64 GiB. GPU \n",
      "471 torch.cuda.OutOfMemoryError: CUDA out of memory. Tried to allocate 10.74 GiB. GPU \n",
      "472 torch.cuda.OutOfMemoryError: CUDA out of memory. Tried to allocate 12.01 GiB. GPU \n",
      "473 torch.cuda.OutOfMemoryError: CUDA out of memory. Tried to allocate 16.12 GiB. GPU \n",
      "474 torch.cuda.OutOfMemoryError: CUDA out of memory. Tried to allocate 15.48 GiB. GPU \n",
      "475 torch.cuda.OutOfMemoryError: CUDA out of memory. Tried to allocate 18.33 GiB. GPU \n",
      "476 torch.cuda.OutOfMemoryError: CUDA out of memory. Tried to allocate 18.64 GiB. GPU \n",
      "477 torch.cuda.OutOfMemoryError: CUDA out of memory. Tried to allocate 13.27 GiB. GPU \n",
      "478 torch.cuda.OutOfMemoryError: CUDA out of memory. Tried to allocate 11.69 GiB. GPU \n",
      "479 torch.cuda.OutOfMemoryError: CUDA out of memory. Tried to allocate 12.32 GiB. GPU \n",
      "480 torch.cuda.OutOfMemoryError: CUDA out of memory. Tried to allocate 17.06 GiB. GPU \n",
      "481 torch.cuda.OutOfMemoryError: CUDA out of memory. Tried to allocate 10.74 GiB. GPU \n",
      "482 torch.cuda.OutOfMemoryError: CUDA out of memory. Tried to allocate 18.96 GiB. GPU \n",
      "483 torch.cuda.OutOfMemoryError: CUDA out of memory. Tried to allocate 13.27 GiB. GPU \n",
      "484 torch.cuda.OutOfMemoryError: CUDA out of memory. Tried to allocate 10.11 GiB. GPU \n",
      "485 torch.cuda.OutOfMemoryError: CUDA out of memory. Tried to allocate 11.06 GiB. GPU \n",
      "486 torch.cuda.OutOfMemoryError: CUDA out of memory. Tried to allocate 16.43 GiB. GPU \n",
      "487 torch.cuda.OutOfMemoryError: CUDA out of memory. Tried to allocate 12.32 GiB. GPU \n",
      "488 torch.cuda.OutOfMemoryError: CUDA out of memory. Tried to allocate 14.85 GiB. GPU \n",
      "489 torch.cuda.OutOfMemoryError: CUDA out of memory. Tried to allocate 11.06 GiB. GPU \n",
      "490 torch.cuda.OutOfMemoryError: CUDA out of memory. Tried to allocate 11.06 GiB. GPU \n",
      "491 torch.cuda.OutOfMemoryError: CUDA out of memory. Tried to allocate 10.43 GiB. GPU \n",
      "492 torch.cuda.OutOfMemoryError: CUDA out of memory. Tried to allocate 12.01 GiB. GPU \n",
      "493 torch.cuda.OutOfMemoryError: CUDA out of memory. Tried to allocate 17.69 GiB. GPU \n",
      "494 torch.cuda.OutOfMemoryError: CUDA out of memory. Tried to allocate 12.32 GiB. GPU \n",
      "495 torch.cuda.OutOfMemoryError: CUDA out of memory. Tried to allocate 13.27 GiB. GPU \n",
      "496 torch.cuda.OutOfMemoryError: CUDA out of memory. Tried to allocate 12.01 GiB. GPU \n",
      "497 torch.cuda.OutOfMemoryError: CUDA out of memory. Tried to allocate 15.17 GiB. GPU \n",
      "498 torch.cuda.OutOfMemoryError: CUDA out of memory. Tried to allocate 15.17 GiB. GPU \n",
      "499 torch.cuda.OutOfMemoryError: CUDA out of memory. Tried to allocate 16.43 GiB. GPU \n",
      "501 torch.cuda.OutOfMemoryError: CUDA out of memory. Tried to allocate 13.90 GiB. GPU \n",
      "502 torch.cuda.OutOfMemoryError: CUDA out of memory. Tried to allocate 18.96 GiB. GPU \n",
      "503 torch.cuda.OutOfMemoryError: CUDA out of memory. Tried to allocate 12.64 GiB. GPU \n",
      "504 torch.cuda.OutOfMemoryError: CUDA out of memory. Tried to allocate 12.01 GiB. GPU \n",
      "505 torch.cuda.OutOfMemoryError: CUDA out of memory. Tried to allocate 15.48 GiB. GPU \n",
      "506 torch.cuda.OutOfMemoryError: CUDA out of memory. Tried to allocate 19.91 GiB. GPU \n",
      "507 torch.cuda.OutOfMemoryError: CUDA out of memory. Tried to allocate 16.43 GiB. GPU \n",
      "508 torch.cuda.OutOfMemoryError: CUDA out of memory. Tried to allocate 12.64 GiB. GPU \n",
      "509 torch.cuda.OutOfMemoryError: CUDA out of memory. Tried to allocate 19.27 GiB. GPU \n",
      "510 torch.cuda.OutOfMemoryError: CUDA out of memory. Tried to allocate 17.38 GiB. GPU \n",
      "511 torch.cuda.OutOfMemoryError: CUDA out of memory. Tried to allocate 12.01 GiB. GPU \n",
      "512 torch.cuda.OutOfMemoryError: CUDA out of memory. Tried to allocate 21.80 GiB. GPU \n",
      "513 torch.cuda.OutOfMemoryError: CUDA out of memory. Tried to allocate 14.85 GiB. GPU \n",
      "514 torch.cuda.OutOfMemoryError: CUDA out of memory. Tried to allocate 18.01 GiB. GPU \n",
      "515 torch.cuda.OutOfMemoryError: CUDA out of memory. Tried to allocate 12.96 GiB. GPU \n",
      "516 torch.cuda.OutOfMemoryError: CUDA out of memory. Tried to allocate 19.59 GiB. GPU \n",
      "517 torch.cuda.OutOfMemoryError: CUDA out of memory. Tried to allocate 11.38 GiB. GPU \n",
      "518 torch.cuda.OutOfMemoryError: CUDA out of memory. Tried to allocate 9.28 GiB. GPU \n",
      "519 torch.cuda.OutOfMemoryError: CUDA out of memory. Tried to allocate 10.11 GiB. GPU \n",
      "520 torch.cuda.OutOfMemoryError: CUDA out of memory. Tried to allocate 16.43 GiB. GPU \n",
      "522 torch.cuda.OutOfMemoryError: CUDA out of memory. Tried to allocate 18.96 GiB. GPU \n",
      "523 torch.cuda.OutOfMemoryError: CUDA out of memory. Tried to allocate 13.27 GiB. GPU \n",
      "524 torch.cuda.OutOfMemoryError: CUDA out of memory. Tried to allocate 17.06 GiB. GPU \n",
      "525 torch.cuda.OutOfMemoryError: CUDA out of memory. Tried to allocate 19.27 GiB. GPU \n",
      "526 torch.cuda.OutOfMemoryError: CUDA out of memory. Tried to allocate 15.80 GiB. GPU \n",
      "527 torch.cuda.OutOfMemoryError: CUDA out of memory. Tried to allocate 18.64 GiB. GPU \n",
      "528 torch.cuda.OutOfMemoryError: CUDA out of memory. Tried to allocate 21.17 GiB. GPU \n",
      "529 torch.cuda.OutOfMemoryError: CUDA out of memory. Tried to allocate 12.96 GiB. GPU \n",
      "530 torch.cuda.OutOfMemoryError: CUDA out of memory. Tried to allocate 12.64 GiB. GPU \n",
      "531 torch.cuda.OutOfMemoryError: CUDA out of memory. Tried to allocate 10.74 GiB. GPU \n",
      "532 torch.cuda.OutOfMemoryError: CUDA out of memory. Tried to allocate 12.96 GiB. GPU \n",
      "533 torch.cuda.OutOfMemoryError: CUDA out of memory. Tried to allocate 18.01 GiB. GPU \n",
      "534 torch.cuda.OutOfMemoryError: CUDA out of memory. Tried to allocate 14.22 GiB. GPU \n",
      "535 torch.cuda.OutOfMemoryError: CUDA out of memory. Tried to allocate 19.91 GiB. GPU \n",
      "537 torch.cuda.OutOfMemoryError: CUDA out of memory. Tried to allocate 16.12 GiB. GPU \n",
      "538 torch.cuda.OutOfMemoryError: CUDA out of memory. Tried to allocate 19.27 GiB. GPU \n",
      "539 torch.cuda.OutOfMemoryError: CUDA out of memory. Tried to allocate 20.85 GiB. GPU \n",
      "540 torch.cuda.OutOfMemoryError: CUDA out of memory. Tried to allocate 19.91 GiB. GPU \n",
      "541 torch.cuda.OutOfMemoryError: CUDA out of memory. Tried to allocate 12.32 GiB. GPU \n",
      "542 torch.cuda.OutOfMemoryError: CUDA out of memory. Tried to allocate 17.69 GiB. GPU \n",
      "543 torch.cuda.OutOfMemoryError: CUDA out of memory. Tried to allocate 12.01 GiB. GPU \n",
      "544 torch.cuda.OutOfMemoryError: CUDA out of memory. Tried to allocate 15.80 GiB. GPU \n",
      "545 torch.cuda.OutOfMemoryError: CUDA out of memory. Tried to allocate 13.59 GiB. GPU \n",
      "546 torch.cuda.OutOfMemoryError: CUDA out of memory. Tried to allocate 15.48 GiB. GPU \n",
      "547 torch.cuda.OutOfMemoryError: CUDA out of memory. Tried to allocate 18.01 GiB. GPU \n",
      "548 torch.cuda.OutOfMemoryError: CUDA out of memory. Tried to allocate 17.38 GiB. GPU \n",
      "549 torch.cuda.OutOfMemoryError: CUDA out of memory. Tried to allocate 14.22 GiB. GPU \n",
      "550 torch.cuda.OutOfMemoryError: CUDA out of memory. Tried to allocate 16.75 GiB. GPU \n",
      "551 torch.cuda.OutOfMemoryError: CUDA out of memory. Tried to allocate 20.54 GiB. GPU \n",
      "552 torch.cuda.OutOfMemoryError: CUDA out of memory. Tried to allocate 18.64 GiB. GPU \n",
      "553 torch.cuda.OutOfMemoryError: CUDA out of memory. Tried to allocate 11.38 GiB. GPU \n",
      "554 torch.cuda.OutOfMemoryError: CUDA out of memory. Tried to allocate 19.59 GiB. GPU \n",
      "555 torch.cuda.OutOfMemoryError: CUDA out of memory. Tried to allocate 17.38 GiB. GPU \n",
      "556 torch.cuda.OutOfMemoryError: CUDA out of memory. Tried to allocate 13.59 GiB. GPU \n",
      "557 torch.cuda.OutOfMemoryError: CUDA out of memory. Tried to allocate 16.75 GiB. GPU \n",
      "558 torch.cuda.OutOfMemoryError: CUDA out of memory. Tried to allocate 16.12 GiB. GPU \n",
      "559 torch.cuda.OutOfMemoryError: CUDA out of memory. Tried to allocate 15.17 GiB. GPU \n",
      "560 torch.cuda.OutOfMemoryError: CUDA out of memory. Tried to allocate 17.06 GiB. GPU \n",
      "561 torch.cuda.OutOfMemoryError: CUDA out of memory. Tried to allocate 12.32 GiB. GPU \n",
      "562 torch.cuda.OutOfMemoryError: CUDA out of memory. Tried to allocate 10.11 GiB. GPU \n",
      "563 torch.cuda.OutOfMemoryError: CUDA out of memory. Tried to allocate 17.69 GiB. GPU \n",
      "564 torch.cuda.OutOfMemoryError: CUDA out of memory. Tried to allocate 13.90 GiB. GPU \n",
      "565 torch.cuda.OutOfMemoryError: CUDA out of memory. Tried to allocate 16.43 GiB. GPU \n",
      "566 torch.cuda.OutOfMemoryError: CUDA out of memory. Tried to allocate 11.06 GiB. GPU \n",
      "567 torch.cuda.OutOfMemoryError: CUDA out of memory. Tried to allocate 16.43 GiB. GPU \n",
      "568 torch.cuda.OutOfMemoryError: CUDA out of memory. Tried to allocate 17.06 GiB. GPU \n",
      "569 torch.cuda.OutOfMemoryError: CUDA out of memory. Tried to allocate 14.85 GiB. GPU \n",
      "570 torch.cuda.OutOfMemoryError: CUDA out of memory. Tried to allocate 13.27 GiB. GPU \n",
      "571 torch.cuda.OutOfMemoryError: CUDA out of memory. Tried to allocate 14.54 GiB. GPU \n",
      "572 torch.cuda.OutOfMemoryError: CUDA out of memory. Tried to allocate 15.48 GiB. GPU \n",
      "573 torch.cuda.OutOfMemoryError: CUDA out of memory. Tried to allocate 10.74 GiB. GPU \n",
      "574 torch.cuda.OutOfMemoryError: CUDA out of memory. Tried to allocate 11.38 GiB. GPU \n",
      "575 torch.cuda.OutOfMemoryError: CUDA out of memory. Tried to allocate 14.22 GiB. GPU \n",
      "576 torch.cuda.OutOfMemoryError: CUDA out of memory. Tried to allocate 18.64 GiB. GPU \n",
      "577 torch.cuda.OutOfMemoryError: CUDA out of memory. Tried to allocate 17.38 GiB. GPU \n",
      "578 torch.cuda.OutOfMemoryError: CUDA out of memory. Tried to allocate 21.17 GiB. GPU \n",
      "579 torch.cuda.OutOfMemoryError: CUDA out of memory. Tried to allocate 23.70 GiB. GPU \n",
      "580 torch.cuda.OutOfMemoryError: CUDA out of memory. Tried to allocate 18.96 GiB. GPU \n",
      "581 torch.cuda.OutOfMemoryError: CUDA out of memory. Tried to allocate 16.12 GiB. GPU \n",
      "582 torch.cuda.OutOfMemoryError: CUDA out of memory. Tried to allocate 11.69 GiB. GPU \n",
      "583 torch.cuda.OutOfMemoryError: CUDA out of memory. Tried to allocate 21.17 GiB. GPU \n",
      "584 torch.cuda.OutOfMemoryError: CUDA out of memory. Tried to allocate 16.43 GiB. GPU \n",
      "585 torch.cuda.OutOfMemoryError: CUDA out of memory. Tried to allocate 15.48 GiB. GPU \n",
      "586 torch.cuda.OutOfMemoryError: CUDA out of memory. Tried to allocate 17.06 GiB. GPU \n",
      "587 torch.cuda.OutOfMemoryError: CUDA out of memory. Tried to allocate 13.59 GiB. GPU \n",
      "588 torch.cuda.OutOfMemoryError: CUDA out of memory. Tried to allocate 10.43 GiB. GPU \n",
      "589 torch.cuda.OutOfMemoryError: CUDA out of memory. Tried to allocate 13.27 GiB. GPU \n",
      "590 torch.cuda.OutOfMemoryError: CUDA out of memory. Tried to allocate 12.01 GiB. GPU \n",
      "591 torch.cuda.OutOfMemoryError: CUDA out of memory. Tried to allocate 18.64 GiB. GPU \n",
      "592 torch.cuda.OutOfMemoryError: CUDA out of memory. Tried to allocate 14.54 GiB. GPU \n",
      "593 torch.cuda.OutOfMemoryError: CUDA out of memory. Tried to allocate 14.22 GiB. GPU \n",
      "594 torch.cuda.OutOfMemoryError: CUDA out of memory. Tried to allocate 21.49 GiB. GPU \n",
      "595 torch.cuda.OutOfMemoryError: CUDA out of memory. Tried to allocate 21.17 GiB. GPU \n",
      "596 torch.cuda.OutOfMemoryError: CUDA out of memory. Tried to allocate 11.06 GiB. GPU \n",
      "597 torch.cuda.OutOfMemoryError: CUDA out of memory. Tried to allocate 15.48 GiB. GPU \n",
      "598 torch.cuda.OutOfMemoryError: CUDA out of memory. Tried to allocate 16.75 GiB. GPU \n",
      "599 torch.cuda.OutOfMemoryError: CUDA out of memory. Tried to allocate 14.54 GiB. GPU \n"
     ]
    }
   ],
   "source": [
    "failed = df[(df[\"state\"] != \"COMPLETE\") | (df[col_user].isna().any(axis=1))][col_user].index\n",
    "print(failed)\n",
    "for fail in df[(df[\"state\"] != \"COMPLETE\") | (df[col_user].isna().any(axis=1))][col_user].index:\n",
    "    error_path = Path(f\"log/generation/{path}/{fail}/ERROR.txt\")\n",
    "    if error_path.exists():\n",
    "        error = error_path.read_text()\n",
    "        print(fail, error.split(\"\\n\")[-2])\n",
    "    else:\n",
    "        print(fail, df.loc[fail])"
   ]
  },
  {
   "cell_type": "code",
   "execution_count": 203,
   "metadata": {},
   "outputs": [],
   "source": [
    "# optuna.visualization.plot_optimization_history(study)"
   ]
  },
  {
   "cell_type": "markdown",
   "metadata": {},
   "source": [
    "### Params influence"
   ]
  },
  {
   "cell_type": "code",
   "execution_count": 208,
   "metadata": {},
   "outputs": [
    {
     "name": "stderr",
     "output_type": "stream",
     "text": [
      "[I 2025-09-17 16:32:25,349] A new study created in memory with name: no-name-e32c7dc9-77d3-4f89-a81e-fd82a1f1a16d\n"
     ]
    }
   ],
   "source": [
    "trials = study.trials\n",
    "trials = [trial for trial in trials if (trial.state == TrialState.COMPLETE) and (trial.user_attrs[\"test_OTD overall_mean\"] >= 0)]\n",
    "plotted_trials = sorted(trials, key=lambda t: t.value)[-50:]\n",
    "study = optuna.create_study()\n",
    "\n",
    "for trial in plotted_trials:\n",
    "    study.add_trial(trial)"
   ]
  },
  {
   "cell_type": "code",
   "execution_count": 209,
   "metadata": {},
   "outputs": [
    {
     "name": "stdout",
     "output_type": "stream",
     "text": [
      "[0.23141008578310748, 0.16500716421245565, 0.15059980400575643, 0.1390501909275202, 0.10177335445367579, 0.0744818241233398, 0.06174244431668359, 0.04290175182182384, 0.03232785756333466, 0.0007055227923024105]\n",
      "['optimizer.params.weight_decay', 'model.latent_encoder.params.hidden_size', 'optimizer.params.lr', 'loss.params.matching_weights._presence', 'model.autoencoder.params.cat_emb_dim', 'model.latent_encoder.params.num_layers', 'model.params.k_factor', 'model.autoencoder.params.num_norm', 'model.autoencoder.params.num_emb_dim', 'model.latent_encoder.params.dropout']\n"
     ]
    },
    {
     "data": {
      "application/vnd.plotly.v1+json": {
       "config": {
        "plotlyServerURL": "https://plot.ly"
       },
       "data": [
        {
         "cliponaxis": false,
         "hovertemplate": [
          "model.latent_encoder.params.dropout (FloatDistribution): 0.0007055227923024105<extra></extra>",
          "model.autoencoder.params.num_emb_dim (IntDistribution): 0.03232785756333466<extra></extra>",
          "model.autoencoder.params.num_norm (CategoricalDistribution): 0.04290175182182384<extra></extra>",
          "model.params.k_factor (FloatDistribution): 0.06174244431668359<extra></extra>",
          "model.latent_encoder.params.num_layers (IntDistribution): 0.0744818241233398<extra></extra>",
          "model.autoencoder.params.cat_emb_dim (IntDistribution): 0.10177335445367579<extra></extra>",
          "loss.params.matching_weights._presence (FloatDistribution): 0.1390501909275202<extra></extra>",
          "optimizer.params.lr (FloatDistribution): 0.15059980400575643<extra></extra>",
          "model.latent_encoder.params.hidden_size (IntDistribution): 0.16500716421245565<extra></extra>",
          "optimizer.params.weight_decay (FloatDistribution): 0.23141008578310748<extra></extra>"
         ],
         "name": "target",
         "orientation": "h",
         "text": [
          "<0.01",
          "0.03",
          "0.04",
          "0.06",
          "0.07",
          "0.10",
          "0.14",
          "0.15",
          "0.17",
          "0.23"
         ],
         "textposition": "outside",
         "type": "bar",
         "x": [
          0.0007055227923024105,
          0.03232785756333466,
          0.04290175182182384,
          0.06174244431668359,
          0.0744818241233398,
          0.10177335445367579,
          0.1390501909275202,
          0.15059980400575643,
          0.16500716421245565,
          0.23141008578310748
         ],
         "y": [
          "model.latent_encoder.params.dropout",
          "model.autoencoder.params.num_emb_dim",
          "model.autoencoder.params.num_norm",
          "model.params.k_factor",
          "model.latent_encoder.params.num_layers",
          "model.autoencoder.params.cat_emb_dim",
          "loss.params.matching_weights._presence",
          "optimizer.params.lr",
          "model.latent_encoder.params.hidden_size",
          "optimizer.params.weight_decay"
         ]
        }
       ],
       "layout": {
        "template": {
         "data": {
          "bar": [
           {
            "error_x": {
             "color": "#2a3f5f"
            },
            "error_y": {
             "color": "#2a3f5f"
            },
            "marker": {
             "line": {
              "color": "#E5ECF6",
              "width": 0.5
             },
             "pattern": {
              "fillmode": "overlay",
              "size": 10,
              "solidity": 0.2
             }
            },
            "type": "bar"
           }
          ],
          "barpolar": [
           {
            "marker": {
             "line": {
              "color": "#E5ECF6",
              "width": 0.5
             },
             "pattern": {
              "fillmode": "overlay",
              "size": 10,
              "solidity": 0.2
             }
            },
            "type": "barpolar"
           }
          ],
          "carpet": [
           {
            "aaxis": {
             "endlinecolor": "#2a3f5f",
             "gridcolor": "white",
             "linecolor": "white",
             "minorgridcolor": "white",
             "startlinecolor": "#2a3f5f"
            },
            "baxis": {
             "endlinecolor": "#2a3f5f",
             "gridcolor": "white",
             "linecolor": "white",
             "minorgridcolor": "white",
             "startlinecolor": "#2a3f5f"
            },
            "type": "carpet"
           }
          ],
          "choropleth": [
           {
            "colorbar": {
             "outlinewidth": 0,
             "ticks": ""
            },
            "type": "choropleth"
           }
          ],
          "contour": [
           {
            "colorbar": {
             "outlinewidth": 0,
             "ticks": ""
            },
            "colorscale": [
             [
              0,
              "#0d0887"
             ],
             [
              0.1111111111111111,
              "#46039f"
             ],
             [
              0.2222222222222222,
              "#7201a8"
             ],
             [
              0.3333333333333333,
              "#9c179e"
             ],
             [
              0.4444444444444444,
              "#bd3786"
             ],
             [
              0.5555555555555556,
              "#d8576b"
             ],
             [
              0.6666666666666666,
              "#ed7953"
             ],
             [
              0.7777777777777778,
              "#fb9f3a"
             ],
             [
              0.8888888888888888,
              "#fdca26"
             ],
             [
              1,
              "#f0f921"
             ]
            ],
            "type": "contour"
           }
          ],
          "contourcarpet": [
           {
            "colorbar": {
             "outlinewidth": 0,
             "ticks": ""
            },
            "type": "contourcarpet"
           }
          ],
          "heatmap": [
           {
            "colorbar": {
             "outlinewidth": 0,
             "ticks": ""
            },
            "colorscale": [
             [
              0,
              "#0d0887"
             ],
             [
              0.1111111111111111,
              "#46039f"
             ],
             [
              0.2222222222222222,
              "#7201a8"
             ],
             [
              0.3333333333333333,
              "#9c179e"
             ],
             [
              0.4444444444444444,
              "#bd3786"
             ],
             [
              0.5555555555555556,
              "#d8576b"
             ],
             [
              0.6666666666666666,
              "#ed7953"
             ],
             [
              0.7777777777777778,
              "#fb9f3a"
             ],
             [
              0.8888888888888888,
              "#fdca26"
             ],
             [
              1,
              "#f0f921"
             ]
            ],
            "type": "heatmap"
           }
          ],
          "histogram": [
           {
            "marker": {
             "pattern": {
              "fillmode": "overlay",
              "size": 10,
              "solidity": 0.2
             }
            },
            "type": "histogram"
           }
          ],
          "histogram2d": [
           {
            "colorbar": {
             "outlinewidth": 0,
             "ticks": ""
            },
            "colorscale": [
             [
              0,
              "#0d0887"
             ],
             [
              0.1111111111111111,
              "#46039f"
             ],
             [
              0.2222222222222222,
              "#7201a8"
             ],
             [
              0.3333333333333333,
              "#9c179e"
             ],
             [
              0.4444444444444444,
              "#bd3786"
             ],
             [
              0.5555555555555556,
              "#d8576b"
             ],
             [
              0.6666666666666666,
              "#ed7953"
             ],
             [
              0.7777777777777778,
              "#fb9f3a"
             ],
             [
              0.8888888888888888,
              "#fdca26"
             ],
             [
              1,
              "#f0f921"
             ]
            ],
            "type": "histogram2d"
           }
          ],
          "histogram2dcontour": [
           {
            "colorbar": {
             "outlinewidth": 0,
             "ticks": ""
            },
            "colorscale": [
             [
              0,
              "#0d0887"
             ],
             [
              0.1111111111111111,
              "#46039f"
             ],
             [
              0.2222222222222222,
              "#7201a8"
             ],
             [
              0.3333333333333333,
              "#9c179e"
             ],
             [
              0.4444444444444444,
              "#bd3786"
             ],
             [
              0.5555555555555556,
              "#d8576b"
             ],
             [
              0.6666666666666666,
              "#ed7953"
             ],
             [
              0.7777777777777778,
              "#fb9f3a"
             ],
             [
              0.8888888888888888,
              "#fdca26"
             ],
             [
              1,
              "#f0f921"
             ]
            ],
            "type": "histogram2dcontour"
           }
          ],
          "mesh3d": [
           {
            "colorbar": {
             "outlinewidth": 0,
             "ticks": ""
            },
            "type": "mesh3d"
           }
          ],
          "parcoords": [
           {
            "line": {
             "colorbar": {
              "outlinewidth": 0,
              "ticks": ""
             }
            },
            "type": "parcoords"
           }
          ],
          "pie": [
           {
            "automargin": true,
            "type": "pie"
           }
          ],
          "scatter": [
           {
            "fillpattern": {
             "fillmode": "overlay",
             "size": 10,
             "solidity": 0.2
            },
            "type": "scatter"
           }
          ],
          "scatter3d": [
           {
            "line": {
             "colorbar": {
              "outlinewidth": 0,
              "ticks": ""
             }
            },
            "marker": {
             "colorbar": {
              "outlinewidth": 0,
              "ticks": ""
             }
            },
            "type": "scatter3d"
           }
          ],
          "scattercarpet": [
           {
            "marker": {
             "colorbar": {
              "outlinewidth": 0,
              "ticks": ""
             }
            },
            "type": "scattercarpet"
           }
          ],
          "scattergeo": [
           {
            "marker": {
             "colorbar": {
              "outlinewidth": 0,
              "ticks": ""
             }
            },
            "type": "scattergeo"
           }
          ],
          "scattergl": [
           {
            "marker": {
             "colorbar": {
              "outlinewidth": 0,
              "ticks": ""
             }
            },
            "type": "scattergl"
           }
          ],
          "scattermap": [
           {
            "marker": {
             "colorbar": {
              "outlinewidth": 0,
              "ticks": ""
             }
            },
            "type": "scattermap"
           }
          ],
          "scattermapbox": [
           {
            "marker": {
             "colorbar": {
              "outlinewidth": 0,
              "ticks": ""
             }
            },
            "type": "scattermapbox"
           }
          ],
          "scatterpolar": [
           {
            "marker": {
             "colorbar": {
              "outlinewidth": 0,
              "ticks": ""
             }
            },
            "type": "scatterpolar"
           }
          ],
          "scatterpolargl": [
           {
            "marker": {
             "colorbar": {
              "outlinewidth": 0,
              "ticks": ""
             }
            },
            "type": "scatterpolargl"
           }
          ],
          "scatterternary": [
           {
            "marker": {
             "colorbar": {
              "outlinewidth": 0,
              "ticks": ""
             }
            },
            "type": "scatterternary"
           }
          ],
          "surface": [
           {
            "colorbar": {
             "outlinewidth": 0,
             "ticks": ""
            },
            "colorscale": [
             [
              0,
              "#0d0887"
             ],
             [
              0.1111111111111111,
              "#46039f"
             ],
             [
              0.2222222222222222,
              "#7201a8"
             ],
             [
              0.3333333333333333,
              "#9c179e"
             ],
             [
              0.4444444444444444,
              "#bd3786"
             ],
             [
              0.5555555555555556,
              "#d8576b"
             ],
             [
              0.6666666666666666,
              "#ed7953"
             ],
             [
              0.7777777777777778,
              "#fb9f3a"
             ],
             [
              0.8888888888888888,
              "#fdca26"
             ],
             [
              1,
              "#f0f921"
             ]
            ],
            "type": "surface"
           }
          ],
          "table": [
           {
            "cells": {
             "fill": {
              "color": "#EBF0F8"
             },
             "line": {
              "color": "white"
             }
            },
            "header": {
             "fill": {
              "color": "#C8D4E3"
             },
             "line": {
              "color": "white"
             }
            },
            "type": "table"
           }
          ]
         },
         "layout": {
          "annotationdefaults": {
           "arrowcolor": "#2a3f5f",
           "arrowhead": 0,
           "arrowwidth": 1
          },
          "autotypenumbers": "strict",
          "coloraxis": {
           "colorbar": {
            "outlinewidth": 0,
            "ticks": ""
           }
          },
          "colorscale": {
           "diverging": [
            [
             0,
             "#8e0152"
            ],
            [
             0.1,
             "#c51b7d"
            ],
            [
             0.2,
             "#de77ae"
            ],
            [
             0.3,
             "#f1b6da"
            ],
            [
             0.4,
             "#fde0ef"
            ],
            [
             0.5,
             "#f7f7f7"
            ],
            [
             0.6,
             "#e6f5d0"
            ],
            [
             0.7,
             "#b8e186"
            ],
            [
             0.8,
             "#7fbc41"
            ],
            [
             0.9,
             "#4d9221"
            ],
            [
             1,
             "#276419"
            ]
           ],
           "sequential": [
            [
             0,
             "#0d0887"
            ],
            [
             0.1111111111111111,
             "#46039f"
            ],
            [
             0.2222222222222222,
             "#7201a8"
            ],
            [
             0.3333333333333333,
             "#9c179e"
            ],
            [
             0.4444444444444444,
             "#bd3786"
            ],
            [
             0.5555555555555556,
             "#d8576b"
            ],
            [
             0.6666666666666666,
             "#ed7953"
            ],
            [
             0.7777777777777778,
             "#fb9f3a"
            ],
            [
             0.8888888888888888,
             "#fdca26"
            ],
            [
             1,
             "#f0f921"
            ]
           ],
           "sequentialminus": [
            [
             0,
             "#0d0887"
            ],
            [
             0.1111111111111111,
             "#46039f"
            ],
            [
             0.2222222222222222,
             "#7201a8"
            ],
            [
             0.3333333333333333,
             "#9c179e"
            ],
            [
             0.4444444444444444,
             "#bd3786"
            ],
            [
             0.5555555555555556,
             "#d8576b"
            ],
            [
             0.6666666666666666,
             "#ed7953"
            ],
            [
             0.7777777777777778,
             "#fb9f3a"
            ],
            [
             0.8888888888888888,
             "#fdca26"
            ],
            [
             1,
             "#f0f921"
            ]
           ]
          },
          "colorway": [
           "#636efa",
           "#EF553B",
           "#00cc96",
           "#ab63fa",
           "#FFA15A",
           "#19d3f3",
           "#FF6692",
           "#B6E880",
           "#FF97FF",
           "#FECB52"
          ],
          "font": {
           "color": "#2a3f5f"
          },
          "geo": {
           "bgcolor": "white",
           "lakecolor": "white",
           "landcolor": "#E5ECF6",
           "showlakes": true,
           "showland": true,
           "subunitcolor": "white"
          },
          "hoverlabel": {
           "align": "left"
          },
          "hovermode": "closest",
          "mapbox": {
           "style": "light"
          },
          "paper_bgcolor": "white",
          "plot_bgcolor": "#E5ECF6",
          "polar": {
           "angularaxis": {
            "gridcolor": "white",
            "linecolor": "white",
            "ticks": ""
           },
           "bgcolor": "#E5ECF6",
           "radialaxis": {
            "gridcolor": "white",
            "linecolor": "white",
            "ticks": ""
           }
          },
          "scene": {
           "xaxis": {
            "backgroundcolor": "#E5ECF6",
            "gridcolor": "white",
            "gridwidth": 2,
            "linecolor": "white",
            "showbackground": true,
            "ticks": "",
            "zerolinecolor": "white"
           },
           "yaxis": {
            "backgroundcolor": "#E5ECF6",
            "gridcolor": "white",
            "gridwidth": 2,
            "linecolor": "white",
            "showbackground": true,
            "ticks": "",
            "zerolinecolor": "white"
           },
           "zaxis": {
            "backgroundcolor": "#E5ECF6",
            "gridcolor": "white",
            "gridwidth": 2,
            "linecolor": "white",
            "showbackground": true,
            "ticks": "",
            "zerolinecolor": "white"
           }
          },
          "shapedefaults": {
           "line": {
            "color": "#2a3f5f"
           }
          },
          "ternary": {
           "aaxis": {
            "gridcolor": "white",
            "linecolor": "white",
            "ticks": ""
           },
           "baxis": {
            "gridcolor": "white",
            "linecolor": "white",
            "ticks": ""
           },
           "bgcolor": "#E5ECF6",
           "caxis": {
            "gridcolor": "white",
            "linecolor": "white",
            "ticks": ""
           }
          },
          "title": {
           "x": 0.05
          },
          "xaxis": {
           "automargin": true,
           "gridcolor": "white",
           "linecolor": "white",
           "ticks": "",
           "title": {
            "standoff": 15
           },
           "zerolinecolor": "white",
           "zerolinewidth": 2
          },
          "yaxis": {
           "automargin": true,
           "gridcolor": "white",
           "linecolor": "white",
           "ticks": "",
           "title": {
            "standoff": 15
           },
           "zerolinecolor": "white",
           "zerolinewidth": 2
          }
         }
        },
        "title": {
         "text": "Hyperparameter Importances"
        },
        "xaxis": {
         "title": {
          "text": "Hyperparameter Importance"
         }
        },
        "yaxis": {
         "title": {
          "text": "Hyperparameter"
         }
        }
       }
      }
     },
     "metadata": {},
     "output_type": "display_data"
    }
   ],
   "source": [
    "target = lambda t: (t.user_attrs[\"test_OTD overall_mean\"])\n",
    "target_name = \"target\"\n",
    "fig = optuna.visualization.plot_param_importances(study, target=target, target_name=target_name)\n",
    "print(fig._data[0][\"x\"][::-1])\n",
    "print(fig._data[0][\"y\"][::-1])\n",
    "take = 7\n",
    "params = fig._data[0][\"y\"][-take:]\n",
    "not_imp = list(set([col.replace(\"params_\", \"\") for col in col_params]) - set(params) - {\"duration\", \"value\", \"system_attrs_fixed_params\"})\n",
    "fig"
   ]
  },
  {
   "cell_type": "code",
   "execution_count": 210,
   "metadata": {},
   "outputs": [
    {
     "data": {
      "text/plain": [
       "['model.params.k_factor',\n",
       " 'model.latent_encoder.params.num_layers',\n",
       " 'model.autoencoder.params.cat_emb_dim',\n",
       " 'loss.params.matching_weights._presence',\n",
       " 'optimizer.params.lr',\n",
       " 'model.latent_encoder.params.hidden_size',\n",
       " 'optimizer.params.weight_decay']"
      ]
     },
     "execution_count": 210,
     "metadata": {},
     "output_type": "execute_result"
    }
   ],
   "source": [
    "params"
   ]
  },
  {
   "cell_type": "code",
   "execution_count": 211,
   "metadata": {},
   "outputs": [
    {
     "data": {
      "application/vnd.plotly.v1+json": {
       "config": {
        "plotlyServerURL": "https://plot.ly"
       },
       "data": [
        {
         "marker": {
          "color": [
           0,
           1,
           2,
           3,
           4,
           5,
           6,
           7,
           8,
           9,
           10,
           11,
           12,
           13,
           14,
           15,
           16,
           17,
           18,
           19,
           20,
           21,
           22,
           23,
           24,
           25,
           26,
           27,
           28,
           29,
           30,
           31
          ],
          "colorbar": {
           "title": {
            "text": "Trial"
           },
           "x": 1,
           "xpad": 40
          },
          "colorscale": [
           [
            0,
            "rgb(247,251,255)"
           ],
           [
            0.125,
            "rgb(222,235,247)"
           ],
           [
            0.25,
            "rgb(198,219,239)"
           ],
           [
            0.375,
            "rgb(158,202,225)"
           ],
           [
            0.5,
            "rgb(107,174,214)"
           ],
           [
            0.625,
            "rgb(66,146,198)"
           ],
           [
            0.75,
            "rgb(33,113,181)"
           ],
           [
            0.875,
            "rgb(8,81,156)"
           ],
           [
            1,
            "rgb(8,48,107)"
           ]
          ],
          "line": {
           "color": "Grey",
           "width": 0.5
          },
          "showscale": true
         },
         "mode": "markers",
         "name": "Feasible Trial",
         "showlegend": false,
         "type": "scatter",
         "x": [
          5.017690533253637,
          9.794670189851516,
          3.402376299356159,
          8.933288918114817,
          5.343765155669875,
          2.6280510090829248,
          8.70093377313326,
          5.252212532488905,
          3.898326474736324,
          3.7159895382389525,
          0.24363564462404463,
          3.010394674446914,
          2.859261322788451,
          3.9481724050191733,
          8.414679839028098,
          2.586093270058605,
          4.235903046539624,
          2.1117482072578517,
          3.009147904139575,
          0.5834395254602041,
          0.46295781146811366,
          1.6946999500696525,
          1.4936065701193237,
          2.4109350885760548,
          5.09143415730839,
          1.0200898336225679,
          5.525531252037369,
          1.1162505070385644,
          1.076876904967401,
          2.737214914867078,
          1.9847657758482646,
          2.752826225564775
         ],
         "xaxis": "x",
         "y": [
          0.338578356454884,
          0.3345934189085121,
          0.25338878222162087,
          0.33917098099465537,
          0.3396071367387978,
          0.46778354964862745,
          0.5520631891240919,
          0.694625427871646,
          0.6906404700738533,
          0.7144931968051194,
          0.7248575675484086,
          0.4340190820773624,
          0.5192158700723015,
          0.7252949429607154,
          0.7338124659157135,
          0.7356044077504298,
          0.7372572858757259,
          0.4966698533848714,
          0.7433299184001539,
          0.3467101152961825,
          0.5026079930120876,
          0.7143527647665984,
          0.12035291471960369,
          0.7460237242863317,
          0.7448600750624684,
          0.4615587783646974,
          0.11782049231949798,
          0.6309913518815706,
          0.17732007331269084,
          0.21056632635745426,
          0.34495736378479536,
          0.2126412183548172
         ],
         "yaxis": "y"
        },
        {
         "marker": {
          "color": [
           0,
           1,
           2,
           3,
           4,
           5,
           6,
           7,
           8,
           9,
           10,
           11,
           12,
           13,
           14,
           15,
           16,
           17,
           18,
           19,
           20,
           21,
           22,
           23,
           24,
           25,
           26,
           27,
           28,
           29,
           30,
           31
          ],
          "colorbar": {
           "title": {
            "text": "Trial"
           },
           "x": 1,
           "xpad": 40
          },
          "colorscale": [
           [
            0,
            "rgb(247,251,255)"
           ],
           [
            0.125,
            "rgb(222,235,247)"
           ],
           [
            0.25,
            "rgb(198,219,239)"
           ],
           [
            0.375,
            "rgb(158,202,225)"
           ],
           [
            0.5,
            "rgb(107,174,214)"
           ],
           [
            0.625,
            "rgb(66,146,198)"
           ],
           [
            0.75,
            "rgb(33,113,181)"
           ],
           [
            0.875,
            "rgb(8,81,156)"
           ],
           [
            1,
            "rgb(8,48,107)"
           ]
          ],
          "line": {
           "color": "Grey",
           "width": 0.5
          },
          "showscale": false
         },
         "mode": "markers",
         "name": "Feasible Trial",
         "showlegend": false,
         "type": "scatter",
         "x": [
          35,
          86,
          21,
          16,
          67,
          53,
          56,
          29,
          35,
          6,
          85,
          45,
          116,
          31,
          28,
          65,
          57,
          2,
          61,
          70,
          91,
          88,
          60,
          73,
          33,
          119,
          90,
          61,
          82,
          51,
          53,
          90
         ],
         "xaxis": "x2",
         "y": [
          0.338578356454884,
          0.3345934189085121,
          0.25338878222162087,
          0.33917098099465537,
          0.3396071367387978,
          0.46778354964862745,
          0.5520631891240919,
          0.694625427871646,
          0.6906404700738533,
          0.7144931968051194,
          0.7248575675484086,
          0.4340190820773624,
          0.5192158700723015,
          0.7252949429607154,
          0.7338124659157135,
          0.7356044077504298,
          0.7372572858757259,
          0.4966698533848714,
          0.7433299184001539,
          0.3467101152961825,
          0.5026079930120876,
          0.7143527647665984,
          0.12035291471960369,
          0.7460237242863317,
          0.7448600750624684,
          0.4615587783646974,
          0.11782049231949798,
          0.6309913518815706,
          0.17732007331269084,
          0.21056632635745426,
          0.34495736378479536,
          0.2126412183548172
         ],
         "yaxis": "y2"
        },
        {
         "marker": {
          "color": [
           0,
           1,
           2,
           3,
           4,
           5,
           6,
           7,
           8,
           9,
           10,
           11,
           12,
           13,
           14,
           15,
           16,
           17,
           18,
           19,
           20,
           21,
           22,
           23,
           24,
           25,
           26,
           27,
           28,
           29,
           30,
           31
          ],
          "colorbar": {
           "title": {
            "text": "Trial"
           },
           "x": 1,
           "xpad": 40
          },
          "colorscale": [
           [
            0,
            "rgb(247,251,255)"
           ],
           [
            0.125,
            "rgb(222,235,247)"
           ],
           [
            0.25,
            "rgb(198,219,239)"
           ],
           [
            0.375,
            "rgb(158,202,225)"
           ],
           [
            0.5,
            "rgb(107,174,214)"
           ],
           [
            0.625,
            "rgb(66,146,198)"
           ],
           [
            0.75,
            "rgb(33,113,181)"
           ],
           [
            0.875,
            "rgb(8,81,156)"
           ],
           [
            1,
            "rgb(8,48,107)"
           ]
          ],
          "line": {
           "color": "Grey",
           "width": 0.5
          },
          "showscale": false
         },
         "mode": "markers",
         "name": "Feasible Trial",
         "showlegend": false,
         "type": "scatter",
         "x": [
          20,
          42,
          66,
          32,
          26,
          59,
          27,
          20,
          9,
          2,
          7,
          22,
          43,
          6,
          117,
          3,
          50,
          25,
          13,
          46,
          3,
          18,
          6,
          27,
          1,
          26,
          10,
          4,
          40,
          10,
          11,
          15
         ],
         "xaxis": "x3",
         "y": [
          0.338578356454884,
          0.3345934189085121,
          0.25338878222162087,
          0.33917098099465537,
          0.3396071367387978,
          0.46778354964862745,
          0.5520631891240919,
          0.694625427871646,
          0.6906404700738533,
          0.7144931968051194,
          0.7248575675484086,
          0.4340190820773624,
          0.5192158700723015,
          0.7252949429607154,
          0.7338124659157135,
          0.7356044077504298,
          0.7372572858757259,
          0.4966698533848714,
          0.7433299184001539,
          0.3467101152961825,
          0.5026079930120876,
          0.7143527647665984,
          0.12035291471960369,
          0.7460237242863317,
          0.7448600750624684,
          0.4615587783646974,
          0.11782049231949798,
          0.6309913518815706,
          0.17732007331269084,
          0.21056632635745426,
          0.34495736378479536,
          0.2126412183548172
         ],
         "yaxis": "y3"
        },
        {
         "marker": {
          "color": [
           0,
           1,
           2,
           3,
           4,
           5,
           6,
           7,
           8,
           9,
           10,
           11,
           12,
           13,
           14,
           15,
           16,
           17,
           18,
           19,
           20,
           21,
           22,
           23,
           24,
           25,
           26,
           27,
           28,
           29,
           30,
           31
          ],
          "colorbar": {
           "title": {
            "text": "Trial"
           },
           "x": 1,
           "xpad": 40
          },
          "colorscale": [
           [
            0,
            "rgb(247,251,255)"
           ],
           [
            0.125,
            "rgb(222,235,247)"
           ],
           [
            0.25,
            "rgb(198,219,239)"
           ],
           [
            0.375,
            "rgb(158,202,225)"
           ],
           [
            0.5,
            "rgb(107,174,214)"
           ],
           [
            0.625,
            "rgb(66,146,198)"
           ],
           [
            0.75,
            "rgb(33,113,181)"
           ],
           [
            0.875,
            "rgb(8,81,156)"
           ],
           [
            1,
            "rgb(8,48,107)"
           ]
          ],
          "line": {
           "color": "Grey",
           "width": 0.5
          },
          "showscale": false
         },
         "mode": "markers",
         "name": "Feasible Trial",
         "showlegend": false,
         "type": "scatter",
         "x": [
          true,
          true,
          false,
          false,
          true,
          false,
          true,
          true,
          false,
          true,
          true,
          true,
          true,
          false,
          false,
          true,
          false,
          true,
          true,
          false,
          true,
          false,
          true,
          true,
          true,
          false,
          true,
          true,
          false,
          true,
          true,
          true
         ],
         "xaxis": "x4",
         "y": [
          0.338578356454884,
          0.3345934189085121,
          0.25338878222162087,
          0.33917098099465537,
          0.3396071367387978,
          0.46778354964862745,
          0.5520631891240919,
          0.694625427871646,
          0.6906404700738533,
          0.7144931968051194,
          0.7248575675484086,
          0.4340190820773624,
          0.5192158700723015,
          0.7252949429607154,
          0.7338124659157135,
          0.7356044077504298,
          0.7372572858757259,
          0.4966698533848714,
          0.7433299184001539,
          0.3467101152961825,
          0.5026079930120876,
          0.7143527647665984,
          0.12035291471960369,
          0.7460237242863317,
          0.7448600750624684,
          0.4615587783646974,
          0.11782049231949798,
          0.6309913518815706,
          0.17732007331269084,
          0.21056632635745426,
          0.34495736378479536,
          0.2126412183548172
         ],
         "yaxis": "y4"
        },
        {
         "marker": {
          "color": [
           0,
           1,
           2,
           3,
           4,
           5,
           6,
           7,
           8,
           9,
           10,
           11,
           12,
           13,
           14,
           15,
           16,
           17,
           18,
           19,
           20,
           21,
           22,
           23,
           24,
           25,
           26,
           27,
           28,
           29,
           30,
           31
          ],
          "colorbar": {
           "title": {
            "text": "Trial"
           },
           "x": 1,
           "xpad": 40
          },
          "colorscale": [
           [
            0,
            "rgb(247,251,255)"
           ],
           [
            0.125,
            "rgb(222,235,247)"
           ],
           [
            0.25,
            "rgb(198,219,239)"
           ],
           [
            0.375,
            "rgb(158,202,225)"
           ],
           [
            0.5,
            "rgb(107,174,214)"
           ],
           [
            0.625,
            "rgb(66,146,198)"
           ],
           [
            0.75,
            "rgb(33,113,181)"
           ],
           [
            0.875,
            "rgb(8,81,156)"
           ],
           [
            1,
            "rgb(8,48,107)"
           ]
          ],
          "line": {
           "color": "Grey",
           "width": 0.5
          },
          "showscale": false
         },
         "mode": "markers",
         "name": "Feasible Trial",
         "showlegend": false,
         "type": "scatter",
         "x": [
          0.00007274537324199927,
          4.298889071754099e-10,
          4.520076422427104e-10,
          0.0024421469182493724,
          9.908858754378356e-10,
          6.750218389880856e-8,
          0.000009063560145169261,
          0.0000036854895045217297,
          0.00014786372972362,
          0.0007328334350844148,
          0.003141590060821801,
          0.0000014347158774007665,
          1.8026886768248173e-8,
          0.000014976141569572046,
          6.823939056010066e-8,
          0.00019883175180392297,
          0.00275440912430992,
          4.1606389863049627e-7,
          0.0216137912413501,
          0.000004450186349176792,
          3.2256788296278445e-7,
          1.5743745114430283e-10,
          0.000034128525819289723,
          2.922778683915511e-7,
          1.023807275114366e-7,
          0.000056152834165769466,
          0.0000037597389019160367,
          0.00004866851637223011,
          5.1589229739533637e-8,
          0.0000053934398155162505,
          0.00000285041328148676,
          0.0000012961878603819453
         ],
         "xaxis": "x5",
         "y": [
          0.338578356454884,
          0.3345934189085121,
          0.25338878222162087,
          0.33917098099465537,
          0.3396071367387978,
          0.46778354964862745,
          0.5520631891240919,
          0.694625427871646,
          0.6906404700738533,
          0.7144931968051194,
          0.7248575675484086,
          0.4340190820773624,
          0.5192158700723015,
          0.7252949429607154,
          0.7338124659157135,
          0.7356044077504298,
          0.7372572858757259,
          0.4966698533848714,
          0.7433299184001539,
          0.3467101152961825,
          0.5026079930120876,
          0.7143527647665984,
          0.12035291471960369,
          0.7460237242863317,
          0.7448600750624684,
          0.4615587783646974,
          0.11782049231949798,
          0.6309913518815706,
          0.17732007331269084,
          0.21056632635745426,
          0.34495736378479536,
          0.2126412183548172
         ],
         "yaxis": "y5"
        },
        {
         "marker": {
          "color": [
           0,
           1,
           2,
           3,
           4,
           5,
           6,
           7,
           8,
           9,
           10,
           11,
           12,
           13,
           14,
           15,
           16,
           17,
           18,
           19,
           20,
           21,
           22,
           23,
           24,
           25,
           26,
           27,
           28,
           29,
           30,
           31
          ],
          "colorbar": {
           "title": {
            "text": "Trial"
           },
           "x": 1,
           "xpad": 40
          },
          "colorscale": [
           [
            0,
            "rgb(247,251,255)"
           ],
           [
            0.125,
            "rgb(222,235,247)"
           ],
           [
            0.25,
            "rgb(198,219,239)"
           ],
           [
            0.375,
            "rgb(158,202,225)"
           ],
           [
            0.5,
            "rgb(107,174,214)"
           ],
           [
            0.625,
            "rgb(66,146,198)"
           ],
           [
            0.75,
            "rgb(33,113,181)"
           ],
           [
            0.875,
            "rgb(8,81,156)"
           ],
           [
            1,
            "rgb(8,48,107)"
           ]
          ],
          "line": {
           "color": "Grey",
           "width": 0.5
          },
          "showscale": false
         },
         "mode": "markers",
         "name": "Feasible Trial",
         "showlegend": false,
         "type": "scatter",
         "x": [
          229,
          27,
          78,
          28,
          29,
          398,
          20,
          21,
          1001,
          20,
          20,
          172,
          21,
          21,
          114,
          53,
          132,
          736,
          82,
          78,
          1016,
          140,
          347,
          340,
          452,
          445,
          453,
          646,
          342,
          564,
          628,
          888
         ],
         "xaxis": "x6",
         "y": [
          0.338578356454884,
          0.3345934189085121,
          0.25338878222162087,
          0.33917098099465537,
          0.3396071367387978,
          0.46778354964862745,
          0.5520631891240919,
          0.694625427871646,
          0.6906404700738533,
          0.7144931968051194,
          0.7248575675484086,
          0.4340190820773624,
          0.5192158700723015,
          0.7252949429607154,
          0.7338124659157135,
          0.7356044077504298,
          0.7372572858757259,
          0.4966698533848714,
          0.7433299184001539,
          0.3467101152961825,
          0.5026079930120876,
          0.7143527647665984,
          0.12035291471960369,
          0.7460237242863317,
          0.7448600750624684,
          0.4615587783646974,
          0.11782049231949798,
          0.6309913518815706,
          0.17732007331269084,
          0.21056632635745426,
          0.34495736378479536,
          0.2126412183548172
         ],
         "yaxis": "y6"
        },
        {
         "marker": {
          "color": [
           0,
           1,
           2,
           3,
           4,
           5,
           6,
           7,
           8,
           9,
           10,
           11,
           12,
           13,
           14,
           15,
           16,
           17,
           18,
           19,
           20,
           21,
           22,
           23,
           24,
           25,
           26,
           27,
           28,
           29,
           30,
           31
          ],
          "colorbar": {
           "title": {
            "text": "Trial"
           },
           "x": 1,
           "xpad": 40
          },
          "colorscale": [
           [
            0,
            "rgb(247,251,255)"
           ],
           [
            0.125,
            "rgb(222,235,247)"
           ],
           [
            0.25,
            "rgb(198,219,239)"
           ],
           [
            0.375,
            "rgb(158,202,225)"
           ],
           [
            0.5,
            "rgb(107,174,214)"
           ],
           [
            0.625,
            "rgb(66,146,198)"
           ],
           [
            0.75,
            "rgb(33,113,181)"
           ],
           [
            0.875,
            "rgb(8,81,156)"
           ],
           [
            1,
            "rgb(8,48,107)"
           ]
          ],
          "line": {
           "color": "Grey",
           "width": 0.5
          },
          "showscale": false
         },
         "mode": "markers",
         "name": "Feasible Trial",
         "showlegend": false,
         "type": "scatter",
         "x": [
          4,
          10,
          8,
          8,
          9,
          2,
          8,
          8,
          2,
          2,
          3,
          1,
          1,
          10,
          4,
          2,
          2,
          2,
          2,
          3,
          3,
          1,
          1,
          1,
          1,
          1,
          1,
          1,
          1,
          1,
          1,
          1
         ],
         "xaxis": "x7",
         "y": [
          0.338578356454884,
          0.3345934189085121,
          0.25338878222162087,
          0.33917098099465537,
          0.3396071367387978,
          0.46778354964862745,
          0.5520631891240919,
          0.694625427871646,
          0.6906404700738533,
          0.7144931968051194,
          0.7248575675484086,
          0.4340190820773624,
          0.5192158700723015,
          0.7252949429607154,
          0.7338124659157135,
          0.7356044077504298,
          0.7372572858757259,
          0.4966698533848714,
          0.7433299184001539,
          0.3467101152961825,
          0.5026079930120876,
          0.7143527647665984,
          0.12035291471960369,
          0.7460237242863317,
          0.7448600750624684,
          0.4615587783646974,
          0.11782049231949798,
          0.6309913518815706,
          0.17732007331269084,
          0.21056632635745426,
          0.34495736378479536,
          0.2126412183548172
         ],
         "yaxis": "y7"
        },
        {
         "marker": {
          "color": [
           0,
           1,
           2,
           3,
           4,
           5,
           6,
           7,
           8,
           9,
           10,
           11,
           12,
           13,
           14,
           15,
           16,
           17,
           18,
           19,
           20,
           21,
           22,
           23,
           24,
           25,
           26,
           27,
           28,
           29,
           30,
           31
          ],
          "colorbar": {
           "title": {
            "text": "Trial"
           },
           "x": 1,
           "xpad": 40
          },
          "colorscale": [
           [
            0,
            "rgb(247,251,255)"
           ],
           [
            0.125,
            "rgb(222,235,247)"
           ],
           [
            0.25,
            "rgb(198,219,239)"
           ],
           [
            0.375,
            "rgb(158,202,225)"
           ],
           [
            0.5,
            "rgb(107,174,214)"
           ],
           [
            0.625,
            "rgb(66,146,198)"
           ],
           [
            0.75,
            "rgb(33,113,181)"
           ],
           [
            0.875,
            "rgb(8,81,156)"
           ],
           [
            1,
            "rgb(8,48,107)"
           ]
          ],
          "line": {
           "color": "Grey",
           "width": 0.5
          },
          "showscale": false
         },
         "mode": "markers",
         "name": "Feasible Trial",
         "showlegend": false,
         "type": "scatter",
         "x": [
          1.2805656877445164,
          1,
          1.2049219382759293,
          1.432973709159436,
          1.1250529432183767,
          1.0082090599178386,
          1.0320396028451044,
          1.0900058171574591,
          1.0863247363329438,
          1.3930232626171613,
          1.0689511457650185,
          1.046658949721402,
          1.0111706230872939,
          1.226085300344845,
          1.0110882825296033,
          1.1626438962830838,
          1.0557385742826215,
          1.2800321572843902,
          1.2154092735975321,
          1.0026198354894733,
          1.0204006182858045,
          1.1088745502033934,
          1.050183739016566,
          1.0180206440231296,
          1.4356463521292926,
          1.0117941611447405,
          1.0505947090878636,
          1.0671173741791817,
          1.0301434971142762,
          1.313518912300919,
          1.1003099036093293,
          1.1253588457411046
         ],
         "xaxis": "x8",
         "y": [
          0.338578356454884,
          0.3345934189085121,
          0.25338878222162087,
          0.33917098099465537,
          0.3396071367387978,
          0.46778354964862745,
          0.5520631891240919,
          0.694625427871646,
          0.6906404700738533,
          0.7144931968051194,
          0.7248575675484086,
          0.4340190820773624,
          0.5192158700723015,
          0.7252949429607154,
          0.7338124659157135,
          0.7356044077504298,
          0.7372572858757259,
          0.4966698533848714,
          0.7433299184001539,
          0.3467101152961825,
          0.5026079930120876,
          0.7143527647665984,
          0.12035291471960369,
          0.7460237242863317,
          0.7448600750624684,
          0.4615587783646974,
          0.11782049231949798,
          0.6309913518815706,
          0.17732007331269084,
          0.21056632635745426,
          0.34495736378479536,
          0.2126412183548172
         ],
         "yaxis": "y8"
        },
        {
         "marker": {
          "color": [
           0,
           1,
           2,
           3,
           4,
           5,
           6,
           7,
           8,
           9,
           10,
           11,
           12,
           13,
           14,
           15,
           16,
           17,
           18,
           19,
           20,
           21,
           22,
           23,
           24,
           25,
           26,
           27,
           28,
           29,
           30,
           31
          ],
          "colorbar": {
           "title": {
            "text": "Trial"
           },
           "x": 1,
           "xpad": 40
          },
          "colorscale": [
           [
            0,
            "rgb(247,251,255)"
           ],
           [
            0.125,
            "rgb(222,235,247)"
           ],
           [
            0.25,
            "rgb(198,219,239)"
           ],
           [
            0.375,
            "rgb(158,202,225)"
           ],
           [
            0.5,
            "rgb(107,174,214)"
           ],
           [
            0.625,
            "rgb(66,146,198)"
           ],
           [
            0.75,
            "rgb(33,113,181)"
           ],
           [
            0.875,
            "rgb(8,81,156)"
           ],
           [
            1,
            "rgb(8,48,107)"
           ]
          ],
          "line": {
           "color": "Grey",
           "width": 0.5
          },
          "showscale": false
         },
         "mode": "markers",
         "name": "Feasible Trial",
         "showlegend": false,
         "type": "scatter",
         "x": [
          0.029313625844127538,
          0.04903997453799368,
          0.03468129878820944,
          0.05644445599735919,
          0.06041393075405644,
          0.011378037690812302,
          0.02549456924334008,
          0.00003148746730614468,
          0.0072084559335066625,
          0.0002766194638274217,
          0.00010267587969931238,
          0.000024084906917471906,
          0.000016565866819358243,
          0.004268648709022649,
          0.00007769890504429922,
          0.00010964018383703763,
          0.00008919649503261889,
          0.0022570603832122046,
          0.0005757756066372557,
          0.003091923739531406,
          0.0010290039720746002,
          0.009582339586542525,
          0.013899940719252293,
          0.00026965993275364337,
          0.0008546773813094806,
          0.007118143557491047,
          0.005326462033210741,
          0.0035711898514318424,
          0.0057041443678201315,
          0.0016412407689425652,
          0.0009132421515908831,
          0.0004716612709994285
         ],
         "xaxis": "x9",
         "y": [
          0.338578356454884,
          0.3345934189085121,
          0.25338878222162087,
          0.33917098099465537,
          0.3396071367387978,
          0.46778354964862745,
          0.5520631891240919,
          0.694625427871646,
          0.6906404700738533,
          0.7144931968051194,
          0.7248575675484086,
          0.4340190820773624,
          0.5192158700723015,
          0.7252949429607154,
          0.7338124659157135,
          0.7356044077504298,
          0.7372572858757259,
          0.4966698533848714,
          0.7433299184001539,
          0.3467101152961825,
          0.5026079930120876,
          0.7143527647665984,
          0.12035291471960369,
          0.7460237242863317,
          0.7448600750624684,
          0.4615587783646974,
          0.11782049231949798,
          0.6309913518815706,
          0.17732007331269084,
          0.21056632635745426,
          0.34495736378479536,
          0.2126412183548172
         ],
         "yaxis": "y9"
        },
        {
         "marker": {
          "color": [
           0,
           1,
           2,
           3,
           4,
           5,
           6,
           7,
           8,
           9,
           10,
           11,
           12,
           13,
           14,
           15,
           16,
           17,
           18,
           19,
           20,
           21,
           22,
           23,
           24,
           25,
           26,
           27,
           28,
           29,
           30,
           31
          ],
          "colorbar": {
           "title": {
            "text": "Trial"
           },
           "x": 1,
           "xpad": 40
          },
          "colorscale": [
           [
            0,
            "rgb(247,251,255)"
           ],
           [
            0.125,
            "rgb(222,235,247)"
           ],
           [
            0.25,
            "rgb(198,219,239)"
           ],
           [
            0.375,
            "rgb(158,202,225)"
           ],
           [
            0.5,
            "rgb(107,174,214)"
           ],
           [
            0.625,
            "rgb(66,146,198)"
           ],
           [
            0.75,
            "rgb(33,113,181)"
           ],
           [
            0.875,
            "rgb(8,81,156)"
           ],
           [
            1,
            "rgb(8,48,107)"
           ]
          ],
          "line": {
           "color": "Grey",
           "width": 0.5
          },
          "showscale": false
         },
         "mode": "markers",
         "name": "Feasible Trial",
         "showlegend": false,
         "type": "scatter",
         "x": [
          1.836837352626924e-8,
          0.00008892513528261029,
          1.636840025905434e-13,
          4.69804895239436e-14,
          4.345363186423597e-10,
          5.248028855907907e-10,
          1.2716000095218723e-7,
          0.008166213512940099,
          1.0778335058806275e-8,
          0.0000010766497873019334,
          0.00008579172854884936,
          1.6410039583462258e-12,
          7.730615735604171e-8,
          0.00046183881605791244,
          0.00019382719017922384,
          0.00010450243079952844,
          0.006952980045001694,
          6.657140649071146e-13,
          0.004321020830211586,
          1.3010178657380642e-11,
          1.1727499881223811e-12,
          3.6568911056887066e-11,
          1.748662708106258e-13,
          0.0002066580959216131,
          2.005817028224756e-7,
          7.737091110390905e-12,
          1.8477326324767491e-13,
          4.698294833726839e-10,
          3.3034544461790364e-12,
          6.816971602639651e-10,
          5.326678349184937e-11,
          1.4283825393603498e-10
         ],
         "xaxis": "x10",
         "y": [
          0.338578356454884,
          0.3345934189085121,
          0.25338878222162087,
          0.33917098099465537,
          0.3396071367387978,
          0.46778354964862745,
          0.5520631891240919,
          0.694625427871646,
          0.6906404700738533,
          0.7144931968051194,
          0.7248575675484086,
          0.4340190820773624,
          0.5192158700723015,
          0.7252949429607154,
          0.7338124659157135,
          0.7356044077504298,
          0.7372572858757259,
          0.4966698533848714,
          0.7433299184001539,
          0.3467101152961825,
          0.5026079930120876,
          0.7143527647665984,
          0.12035291471960369,
          0.7460237242863317,
          0.7448600750624684,
          0.4615587783646974,
          0.11782049231949798,
          0.6309913518815706,
          0.17732007331269084,
          0.21056632635745426,
          0.34495736378479536,
          0.2126412183548172
         ],
         "yaxis": "y10"
        }
       ],
       "layout": {
        "template": {
         "data": {
          "bar": [
           {
            "error_x": {
             "color": "#2a3f5f"
            },
            "error_y": {
             "color": "#2a3f5f"
            },
            "marker": {
             "line": {
              "color": "#E5ECF6",
              "width": 0.5
             },
             "pattern": {
              "fillmode": "overlay",
              "size": 10,
              "solidity": 0.2
             }
            },
            "type": "bar"
           }
          ],
          "barpolar": [
           {
            "marker": {
             "line": {
              "color": "#E5ECF6",
              "width": 0.5
             },
             "pattern": {
              "fillmode": "overlay",
              "size": 10,
              "solidity": 0.2
             }
            },
            "type": "barpolar"
           }
          ],
          "carpet": [
           {
            "aaxis": {
             "endlinecolor": "#2a3f5f",
             "gridcolor": "white",
             "linecolor": "white",
             "minorgridcolor": "white",
             "startlinecolor": "#2a3f5f"
            },
            "baxis": {
             "endlinecolor": "#2a3f5f",
             "gridcolor": "white",
             "linecolor": "white",
             "minorgridcolor": "white",
             "startlinecolor": "#2a3f5f"
            },
            "type": "carpet"
           }
          ],
          "choropleth": [
           {
            "colorbar": {
             "outlinewidth": 0,
             "ticks": ""
            },
            "type": "choropleth"
           }
          ],
          "contour": [
           {
            "colorbar": {
             "outlinewidth": 0,
             "ticks": ""
            },
            "colorscale": [
             [
              0,
              "#0d0887"
             ],
             [
              0.1111111111111111,
              "#46039f"
             ],
             [
              0.2222222222222222,
              "#7201a8"
             ],
             [
              0.3333333333333333,
              "#9c179e"
             ],
             [
              0.4444444444444444,
              "#bd3786"
             ],
             [
              0.5555555555555556,
              "#d8576b"
             ],
             [
              0.6666666666666666,
              "#ed7953"
             ],
             [
              0.7777777777777778,
              "#fb9f3a"
             ],
             [
              0.8888888888888888,
              "#fdca26"
             ],
             [
              1,
              "#f0f921"
             ]
            ],
            "type": "contour"
           }
          ],
          "contourcarpet": [
           {
            "colorbar": {
             "outlinewidth": 0,
             "ticks": ""
            },
            "type": "contourcarpet"
           }
          ],
          "heatmap": [
           {
            "colorbar": {
             "outlinewidth": 0,
             "ticks": ""
            },
            "colorscale": [
             [
              0,
              "#0d0887"
             ],
             [
              0.1111111111111111,
              "#46039f"
             ],
             [
              0.2222222222222222,
              "#7201a8"
             ],
             [
              0.3333333333333333,
              "#9c179e"
             ],
             [
              0.4444444444444444,
              "#bd3786"
             ],
             [
              0.5555555555555556,
              "#d8576b"
             ],
             [
              0.6666666666666666,
              "#ed7953"
             ],
             [
              0.7777777777777778,
              "#fb9f3a"
             ],
             [
              0.8888888888888888,
              "#fdca26"
             ],
             [
              1,
              "#f0f921"
             ]
            ],
            "type": "heatmap"
           }
          ],
          "histogram": [
           {
            "marker": {
             "pattern": {
              "fillmode": "overlay",
              "size": 10,
              "solidity": 0.2
             }
            },
            "type": "histogram"
           }
          ],
          "histogram2d": [
           {
            "colorbar": {
             "outlinewidth": 0,
             "ticks": ""
            },
            "colorscale": [
             [
              0,
              "#0d0887"
             ],
             [
              0.1111111111111111,
              "#46039f"
             ],
             [
              0.2222222222222222,
              "#7201a8"
             ],
             [
              0.3333333333333333,
              "#9c179e"
             ],
             [
              0.4444444444444444,
              "#bd3786"
             ],
             [
              0.5555555555555556,
              "#d8576b"
             ],
             [
              0.6666666666666666,
              "#ed7953"
             ],
             [
              0.7777777777777778,
              "#fb9f3a"
             ],
             [
              0.8888888888888888,
              "#fdca26"
             ],
             [
              1,
              "#f0f921"
             ]
            ],
            "type": "histogram2d"
           }
          ],
          "histogram2dcontour": [
           {
            "colorbar": {
             "outlinewidth": 0,
             "ticks": ""
            },
            "colorscale": [
             [
              0,
              "#0d0887"
             ],
             [
              0.1111111111111111,
              "#46039f"
             ],
             [
              0.2222222222222222,
              "#7201a8"
             ],
             [
              0.3333333333333333,
              "#9c179e"
             ],
             [
              0.4444444444444444,
              "#bd3786"
             ],
             [
              0.5555555555555556,
              "#d8576b"
             ],
             [
              0.6666666666666666,
              "#ed7953"
             ],
             [
              0.7777777777777778,
              "#fb9f3a"
             ],
             [
              0.8888888888888888,
              "#fdca26"
             ],
             [
              1,
              "#f0f921"
             ]
            ],
            "type": "histogram2dcontour"
           }
          ],
          "mesh3d": [
           {
            "colorbar": {
             "outlinewidth": 0,
             "ticks": ""
            },
            "type": "mesh3d"
           }
          ],
          "parcoords": [
           {
            "line": {
             "colorbar": {
              "outlinewidth": 0,
              "ticks": ""
             }
            },
            "type": "parcoords"
           }
          ],
          "pie": [
           {
            "automargin": true,
            "type": "pie"
           }
          ],
          "scatter": [
           {
            "fillpattern": {
             "fillmode": "overlay",
             "size": 10,
             "solidity": 0.2
            },
            "type": "scatter"
           }
          ],
          "scatter3d": [
           {
            "line": {
             "colorbar": {
              "outlinewidth": 0,
              "ticks": ""
             }
            },
            "marker": {
             "colorbar": {
              "outlinewidth": 0,
              "ticks": ""
             }
            },
            "type": "scatter3d"
           }
          ],
          "scattercarpet": [
           {
            "marker": {
             "colorbar": {
              "outlinewidth": 0,
              "ticks": ""
             }
            },
            "type": "scattercarpet"
           }
          ],
          "scattergeo": [
           {
            "marker": {
             "colorbar": {
              "outlinewidth": 0,
              "ticks": ""
             }
            },
            "type": "scattergeo"
           }
          ],
          "scattergl": [
           {
            "marker": {
             "colorbar": {
              "outlinewidth": 0,
              "ticks": ""
             }
            },
            "type": "scattergl"
           }
          ],
          "scattermap": [
           {
            "marker": {
             "colorbar": {
              "outlinewidth": 0,
              "ticks": ""
             }
            },
            "type": "scattermap"
           }
          ],
          "scattermapbox": [
           {
            "marker": {
             "colorbar": {
              "outlinewidth": 0,
              "ticks": ""
             }
            },
            "type": "scattermapbox"
           }
          ],
          "scatterpolar": [
           {
            "marker": {
             "colorbar": {
              "outlinewidth": 0,
              "ticks": ""
             }
            },
            "type": "scatterpolar"
           }
          ],
          "scatterpolargl": [
           {
            "marker": {
             "colorbar": {
              "outlinewidth": 0,
              "ticks": ""
             }
            },
            "type": "scatterpolargl"
           }
          ],
          "scatterternary": [
           {
            "marker": {
             "colorbar": {
              "outlinewidth": 0,
              "ticks": ""
             }
            },
            "type": "scatterternary"
           }
          ],
          "surface": [
           {
            "colorbar": {
             "outlinewidth": 0,
             "ticks": ""
            },
            "colorscale": [
             [
              0,
              "#0d0887"
             ],
             [
              0.1111111111111111,
              "#46039f"
             ],
             [
              0.2222222222222222,
              "#7201a8"
             ],
             [
              0.3333333333333333,
              "#9c179e"
             ],
             [
              0.4444444444444444,
              "#bd3786"
             ],
             [
              0.5555555555555556,
              "#d8576b"
             ],
             [
              0.6666666666666666,
              "#ed7953"
             ],
             [
              0.7777777777777778,
              "#fb9f3a"
             ],
             [
              0.8888888888888888,
              "#fdca26"
             ],
             [
              1,
              "#f0f921"
             ]
            ],
            "type": "surface"
           }
          ],
          "table": [
           {
            "cells": {
             "fill": {
              "color": "#EBF0F8"
             },
             "line": {
              "color": "white"
             }
            },
            "header": {
             "fill": {
              "color": "#C8D4E3"
             },
             "line": {
              "color": "white"
             }
            },
            "type": "table"
           }
          ]
         },
         "layout": {
          "annotationdefaults": {
           "arrowcolor": "#2a3f5f",
           "arrowhead": 0,
           "arrowwidth": 1
          },
          "autotypenumbers": "strict",
          "coloraxis": {
           "colorbar": {
            "outlinewidth": 0,
            "ticks": ""
           }
          },
          "colorscale": {
           "diverging": [
            [
             0,
             "#8e0152"
            ],
            [
             0.1,
             "#c51b7d"
            ],
            [
             0.2,
             "#de77ae"
            ],
            [
             0.3,
             "#f1b6da"
            ],
            [
             0.4,
             "#fde0ef"
            ],
            [
             0.5,
             "#f7f7f7"
            ],
            [
             0.6,
             "#e6f5d0"
            ],
            [
             0.7,
             "#b8e186"
            ],
            [
             0.8,
             "#7fbc41"
            ],
            [
             0.9,
             "#4d9221"
            ],
            [
             1,
             "#276419"
            ]
           ],
           "sequential": [
            [
             0,
             "#0d0887"
            ],
            [
             0.1111111111111111,
             "#46039f"
            ],
            [
             0.2222222222222222,
             "#7201a8"
            ],
            [
             0.3333333333333333,
             "#9c179e"
            ],
            [
             0.4444444444444444,
             "#bd3786"
            ],
            [
             0.5555555555555556,
             "#d8576b"
            ],
            [
             0.6666666666666666,
             "#ed7953"
            ],
            [
             0.7777777777777778,
             "#fb9f3a"
            ],
            [
             0.8888888888888888,
             "#fdca26"
            ],
            [
             1,
             "#f0f921"
            ]
           ],
           "sequentialminus": [
            [
             0,
             "#0d0887"
            ],
            [
             0.1111111111111111,
             "#46039f"
            ],
            [
             0.2222222222222222,
             "#7201a8"
            ],
            [
             0.3333333333333333,
             "#9c179e"
            ],
            [
             0.4444444444444444,
             "#bd3786"
            ],
            [
             0.5555555555555556,
             "#d8576b"
            ],
            [
             0.6666666666666666,
             "#ed7953"
            ],
            [
             0.7777777777777778,
             "#fb9f3a"
            ],
            [
             0.8888888888888888,
             "#fdca26"
            ],
            [
             1,
             "#f0f921"
            ]
           ]
          },
          "colorway": [
           "#636efa",
           "#EF553B",
           "#00cc96",
           "#ab63fa",
           "#FFA15A",
           "#19d3f3",
           "#FF6692",
           "#B6E880",
           "#FF97FF",
           "#FECB52"
          ],
          "font": {
           "color": "#2a3f5f"
          },
          "geo": {
           "bgcolor": "white",
           "lakecolor": "white",
           "landcolor": "#E5ECF6",
           "showlakes": true,
           "showland": true,
           "subunitcolor": "white"
          },
          "hoverlabel": {
           "align": "left"
          },
          "hovermode": "closest",
          "mapbox": {
           "style": "light"
          },
          "paper_bgcolor": "white",
          "plot_bgcolor": "#E5ECF6",
          "polar": {
           "angularaxis": {
            "gridcolor": "white",
            "linecolor": "white",
            "ticks": ""
           },
           "bgcolor": "#E5ECF6",
           "radialaxis": {
            "gridcolor": "white",
            "linecolor": "white",
            "ticks": ""
           }
          },
          "scene": {
           "xaxis": {
            "backgroundcolor": "#E5ECF6",
            "gridcolor": "white",
            "gridwidth": 2,
            "linecolor": "white",
            "showbackground": true,
            "ticks": "",
            "zerolinecolor": "white"
           },
           "yaxis": {
            "backgroundcolor": "#E5ECF6",
            "gridcolor": "white",
            "gridwidth": 2,
            "linecolor": "white",
            "showbackground": true,
            "ticks": "",
            "zerolinecolor": "white"
           },
           "zaxis": {
            "backgroundcolor": "#E5ECF6",
            "gridcolor": "white",
            "gridwidth": 2,
            "linecolor": "white",
            "showbackground": true,
            "ticks": "",
            "zerolinecolor": "white"
           }
          },
          "shapedefaults": {
           "line": {
            "color": "#2a3f5f"
           }
          },
          "ternary": {
           "aaxis": {
            "gridcolor": "white",
            "linecolor": "white",
            "ticks": ""
           },
           "baxis": {
            "gridcolor": "white",
            "linecolor": "white",
            "ticks": ""
           },
           "bgcolor": "#E5ECF6",
           "caxis": {
            "gridcolor": "white",
            "linecolor": "white",
            "ticks": ""
           }
          },
          "title": {
           "x": 0.05
          },
          "xaxis": {
           "automargin": true,
           "gridcolor": "white",
           "linecolor": "white",
           "ticks": "",
           "title": {
            "standoff": 15
           },
           "zerolinecolor": "white",
           "zerolinewidth": 2
          },
          "yaxis": {
           "automargin": true,
           "gridcolor": "white",
           "linecolor": "white",
           "ticks": "",
           "title": {
            "standoff": 15
           },
           "zerolinecolor": "white",
           "zerolinewidth": 2
          }
         }
        },
        "title": {
         "text": "Slice Plot"
        },
        "width": 3000,
        "xaxis": {
         "anchor": "y",
         "domain": [
          0,
          0.082
         ],
         "title": {
          "text": "loss.params.matching_weights._presence"
         }
        },
        "xaxis10": {
         "anchor": "y10",
         "domain": [
          0.9179999999999999,
          0.9999999999999999
         ],
         "title": {
          "text": "optimizer.params.weight_decay"
         },
         "type": "log"
        },
        "xaxis2": {
         "anchor": "y2",
         "domain": [
          0.10200000000000001,
          0.184
         ],
         "title": {
          "text": "model.autoencoder.params.cat_emb_dim"
         }
        },
        "xaxis3": {
         "anchor": "y3",
         "domain": [
          0.20400000000000001,
          0.28600000000000003
         ],
         "title": {
          "text": "model.autoencoder.params.num_emb_dim"
         }
        },
        "xaxis4": {
         "anchor": "y4",
         "categoryarray": [
          true,
          false
         ],
         "categoryorder": "array",
         "domain": [
          0.306,
          0.388
         ],
         "title": {
          "text": "model.autoencoder.params.num_norm"
         },
         "type": "category"
        },
        "xaxis5": {
         "anchor": "y5",
         "domain": [
          0.40800000000000003,
          0.49000000000000005
         ],
         "title": {
          "text": "model.latent_encoder.params.dropout"
         },
         "type": "log"
        },
        "xaxis6": {
         "anchor": "y6",
         "domain": [
          0.51,
          0.592
         ],
         "title": {
          "text": "model.latent_encoder.params.hidden_size"
         },
         "type": "log"
        },
        "xaxis7": {
         "anchor": "y7",
         "domain": [
          0.6120000000000001,
          0.6940000000000001
         ],
         "title": {
          "text": "model.latent_encoder.params.num_layers"
         }
        },
        "xaxis8": {
         "anchor": "y8",
         "domain": [
          0.7140000000000001,
          0.796
         ],
         "title": {
          "text": "model.params.k_factor"
         }
        },
        "xaxis9": {
         "anchor": "y9",
         "domain": [
          0.8160000000000001,
          0.898
         ],
         "title": {
          "text": "optimizer.params.lr"
         },
         "type": "log"
        },
        "yaxis": {
         "anchor": "x",
         "domain": [
          0,
          1
         ],
         "title": {
          "text": "target"
         }
        },
        "yaxis10": {
         "anchor": "x10",
         "domain": [
          0,
          1
         ],
         "matches": "y",
         "showticklabels": false
        },
        "yaxis2": {
         "anchor": "x2",
         "domain": [
          0,
          1
         ],
         "matches": "y",
         "showticklabels": false
        },
        "yaxis3": {
         "anchor": "x3",
         "domain": [
          0,
          1
         ],
         "matches": "y",
         "showticklabels": false
        },
        "yaxis4": {
         "anchor": "x4",
         "domain": [
          0,
          1
         ],
         "matches": "y",
         "showticklabels": false
        },
        "yaxis5": {
         "anchor": "x5",
         "domain": [
          0,
          1
         ],
         "matches": "y",
         "showticklabels": false
        },
        "yaxis6": {
         "anchor": "x6",
         "domain": [
          0,
          1
         ],
         "matches": "y",
         "showticklabels": false
        },
        "yaxis7": {
         "anchor": "x7",
         "domain": [
          0,
          1
         ],
         "matches": "y",
         "showticklabels": false
        },
        "yaxis8": {
         "anchor": "x8",
         "domain": [
          0,
          1
         ],
         "matches": "y",
         "showticklabels": false
        },
        "yaxis9": {
         "anchor": "x9",
         "domain": [
          0,
          1
         ],
         "matches": "y",
         "showticklabels": false
        }
       }
      }
     },
     "metadata": {},
     "output_type": "display_data"
    }
   ],
   "source": [
    "# fig = optuna.visualization.plot_parallel_coordinate(plotted_study, target=target, target_name=target_name, params=['model.encoder.params.pooling', 'pretrain_model.encoder.params.pooling',])\n",
    "# fig = optuna.visualization.plot_contour(study, target=target, target_name=target_name, params=params+not_imp)\n",
    "fig = optuna.visualization.plot_slice(study, target=target, target_name=target_name)#, params=[\"model.encoder.params.num_layers\"] )\n",
    "# fig = optuna.visualization.plot_optimization_history(study, target=target, target_name=target_name, error_bar=False)\n",
    "# targets = lambda t: (t.params[\"schedulers.beta.BetaScheduler.factor\"], t.user_attrs[\"test_Reconstruction overall_mean\"])\n",
    "# target_names = [\"memory_after_mean\", \"test_Reconstruction overall_mean\"]\n",
    "# fig = optuna.visualization.plot_pareto_front(study, targets=targets, target_names=target_names)\n",
    "fig"
   ]
  },
  {
   "cell_type": "code",
   "execution_count": 197,
   "metadata": {},
   "outputs": [
    {
     "data": {
      "application/vnd.plotly.v1+json": {
       "config": {
        "plotlyServerURL": "https://plot.ly"
       },
       "data": [
        {
         "hovertemplate": "%{text}<extra>Trial</extra>",
         "marker": {
          "color": [
           1,
           2,
           3,
           4,
           5,
           6,
           7,
           8,
           9,
           10,
           11,
           12,
           13,
           14,
           15,
           16,
           17,
           18,
           19,
           20,
           21,
           22,
           23,
           24,
           25,
           26,
           27,
           28,
           29,
           30,
           31,
           32,
           33,
           34,
           35,
           36,
           37,
           38,
           39,
           40,
           41,
           42,
           43,
           44,
           45,
           46,
           47,
           48,
           49
          ],
          "colorbar": {
           "title": {
            "text": "Trial"
           }
          },
          "colorscale": [
           [
            0,
            "rgb(247,251,255)"
           ],
           [
            0.125,
            "rgb(222,235,247)"
           ],
           [
            0.25,
            "rgb(198,219,239)"
           ],
           [
            0.375,
            "rgb(158,202,225)"
           ],
           [
            0.5,
            "rgb(107,174,214)"
           ],
           [
            0.625,
            "rgb(66,146,198)"
           ],
           [
            0.75,
            "rgb(33,113,181)"
           ],
           [
            0.875,
            "rgb(8,81,156)"
           ],
           [
            1,
            "rgb(8,48,107)"
           ]
          ],
          "line": {
           "color": "Grey",
           "width": 0.5
          }
         },
         "mode": "markers",
         "showlegend": false,
         "text": [
          "{<br>  \"number\": 1,<br>  \"values\": [<br>    -96.7645449865432<br>  ],<br>  \"params\": {<br>    \"optimizer.params.weight_decay\": 7.936354117817913e-07,<br>    \"optimizer.params.lr\": 0.0005900583343031618,<br>    \"model.latent_encoder.params.hidden_size\": 347,<br>    \"model.latent_encoder.params.num_layers\": 1,<br>    \"model.latent_encoder.params.dropout\": 3.45234559661562e-07,<br>    \"model.params.k_factor\": 1.9584788436476903,<br>    \"loss.params.matching_weights._presence\": 0.6286254404608426,<br>    \"model.autoencoder.params.num_norm\": false,<br>    \"model.autoencoder.params.cat_emb_dim\": 2,<br>    \"model.autoencoder.params.num_emb_dim\": 99<br>  },<br>  \"user_attrs\": {<br>    \"train_OTD overall_mean\": 0.6862756660586654,<br>    \"train_OTD overall_std\": 0.0,<br>    \"train_OTD hours_since_first_tx_mean\": 0.48105705885076533,<br>    \"train_OTD hours_since_first_tx_std\": 0.0,<br>    \"train_OTD amnt_mean\": 0.5207217796729446,<br>    \"train_OTD amnt_std\": 0.0,<br>    \"train_OTD payment_system_mean\": 0.866785827020202,<br>    \"train_OTD payment_system_std\": 0.0,<br>    \"train_OTD mcc_category_mean\": 0.7147285353535353,<br>    \"train_OTD mcc_category_std\": 0.0,<br>    \"train_OTD card_type_mean\": 0.8849873737373737,<br>    \"train_OTD card_type_std\": 0.0,<br>    \"train_OTD mcc_mean\": 0.6493734217171717,<br>    \"train_OTD mcc_std\": 0.0,<br>    \"train_Cardinality on mcc_category gen_mean\": 6.266565656565657,<br>    \"train_Cardinality on mcc_category gen_std\": 0.0,<br>    \"train_Cardinality on mcc_category orig_mean\": 7.285075757575758,<br>    \"train_Cardinality on mcc_category orig_std\": 0.0,<br>    \"train_F1_macro on mcc_category_mean\": 0.46283946768029105,<br>    \"train_F1_macro on mcc_category_std\": 0.0,<br>    \"train_F1_micro on mcc_category_mean\": 0.7284698547979798,<br>    \"train_F1_micro on mcc_category_std\": 0.0,<br>    \"loss_mean\": -96.7645449865432,<br>    \"loss_std\": 0.0,<br>    \"OTD overall_mean\": 0.6919520940338252,<br>    \"OTD overall_std\": 0.0,<br>    \"OTD hours_since_first_tx_mean\": 0.5721965174877576,<br>    \"OTD hours_since_first_tx_std\": 0.0,<br>    \"OTD amnt_mean\": 0.48571808382974574,<br>    \"OTD amnt_std\": 0.0,<br>    \"OTD payment_system_mean\": 0.8600312194781639,<br>    \"OTD payment_system_std\": 0.0,<br>    \"OTD mcc_category_mean\": 0.7116078903306823,<br>    \"OTD mcc_category_std\": 0.0,<br>    \"OTD card_type_mean\": 0.8761205874145389,<br>    \"OTD card_type_std\": 0.0,<br>    \"OTD mcc_mean\": 0.6460382656620622,<br>    \"OTD mcc_std\": 0.0,<br>    \"Cardinality on mcc_category gen_mean\": 6.242500348820985,<br>    \"Cardinality on mcc_category gen_std\": 0.0,<br>    \"Cardinality on mcc_category orig_mean\": 7.265383005441607,<br>    \"Cardinality on mcc_category orig_std\": 0.0,<br>    \"F1_macro on mcc_category_mean\": 0.46259898921755077,<br>    \"F1_macro on mcc_category_std\": 0.0,<br>    \"F1_micro on mcc_category_mean\": 0.7278280661364588,<br>    \"F1_micro on mcc_category_std\": 0.0,<br>    \"test_loss_mean\": -107.35035600849227,<br>    \"test_loss_std\": 0.0,<br>    \"test_OTD overall_mean\": 0.6829243230642419,<br>    \"test_OTD overall_std\": 0.0,<br>    \"test_OTD hours_since_first_tx_mean\": 0.6075286174412966,<br>    \"test_OTD hours_since_first_tx_std\": 0.0,<br>    \"test_OTD amnt_mean\": 0.44660569564961716,<br>    \"test_OTD amnt_std\": 0.0,<br>    \"test_OTD payment_system_mean\": 0.8441078963230862,<br>    \"test_OTD payment_system_std\": 0.0,<br>    \"test_OTD mcc_category_mean\": 0.7053331689407639,<br>    \"test_OTD mcc_category_std\": 0.0,<br>    \"test_OTD card_type_mean\": 0.8621260069044879,<br>    \"test_OTD card_type_std\": 0.0,<br>    \"test_OTD mcc_mean\": 0.6318445531261987,<br>    \"test_OTD mcc_std\": 0.0,<br>    \"test_Cardinality on mcc_category gen_mean\": 6.318702394651762,<br>    \"test_Cardinality on mcc_category gen_std\": 0.0,<br>    \"test_Cardinality on mcc_category orig_mean\": 7.3954737245876485,<br>    \"test_Cardinality on mcc_category orig_std\": 0.0,<br>    \"test_F1_macro on mcc_category_mean\": 0.45781185362409815,<br>    \"test_F1_macro on mcc_category_std\": 0.0,<br>    \"test_F1_micro on mcc_category_mean\": 0.7207775083566222,<br>    \"test_F1_micro on mcc_category_std\": 0.0,<br>    \"memory_after_mean\": 66024.0,<br>    \"memory_after_std\": 0.0<br>  }<br>}",
          "{<br>  \"number\": 2,<br>  \"values\": [<br>    -96.31643168131511<br>  ],<br>  \"params\": {<br>    \"optimizer.params.weight_decay\": 1.4635209719292388e-05,<br>    \"optimizer.params.lr\": 0.000563294379118009,<br>    \"model.latent_encoder.params.hidden_size\": 953,<br>    \"model.latent_encoder.params.num_layers\": 3,<br>    \"model.latent_encoder.params.dropout\": 4.2523971786755756e-07,<br>    \"model.params.k_factor\": 2.208072004604543,<br>    \"loss.params.matching_weights._presence\": 0.4712825676638115,<br>    \"model.autoencoder.params.num_norm\": true,<br>    \"model.autoencoder.params.cat_emb_dim\": 4,<br>    \"model.autoencoder.params.num_emb_dim\": 51<br>  },<br>  \"user_attrs\": {<br>    \"train_OTD overall_mean\": 0.6830976923490796,<br>    \"train_OTD overall_std\": 0.0,<br>    \"train_OTD hours_since_first_tx_mean\": 0.5620927504730893,<br>    \"train_OTD hours_since_first_tx_std\": 0.0,<br>    \"train_OTD amnt_mean\": 0.4231163267487361,<br>    \"train_OTD amnt_std\": 0.0,<br>    \"train_OTD payment_system_mean\": 0.8638245972316769,<br>    \"train_OTD payment_system_std\": 0.0,<br>    \"train_OTD mcc_category_mean\": 0.7122333787156796,<br>    \"train_OTD mcc_category_std\": 0.0,<br>    \"train_OTD card_type_mean\": 0.8871815356881728,<br>    \"train_OTD card_type_std\": 0.0,<br>    \"train_OTD mcc_mean\": 0.6501375652371227,<br>    \"train_OTD mcc_std\": 0.0,<br>    \"train_Cardinality on mcc_category gen_mean\": 6.063005824067771,<br>    \"train_Cardinality on mcc_category gen_std\": 0.0,<br>    \"train_Cardinality on mcc_category orig_mean\": 7.274134583869097,<br>    \"train_Cardinality on mcc_category orig_std\": 0.0,<br>    \"train_F1_macro on mcc_category_mean\": 0.4586613042450784,<br>    \"train_F1_macro on mcc_category_std\": 0.0,<br>    \"train_F1_micro on mcc_category_mean\": 0.7286135693215339,<br>    \"train_F1_micro on mcc_category_std\": 0.0,<br>    \"loss_mean\": -96.31643168131511,<br>    \"loss_std\": 0.0,<br>    \"OTD overall_mean\": 0.678821978537267,<br>    \"OTD overall_std\": 0.0,<br>    \"OTD hours_since_first_tx_mean\": 0.5721965174877576,<br>    \"OTD hours_since_first_tx_std\": 0.0,<br>    \"OTD amnt_mean\": 0.42546414541995226,<br>    \"OTD amnt_std\": 0.0,<br>    \"OTD payment_system_mean\": 0.8521565857401981,<br>    \"OTD payment_system_std\": 0.0,<br>    \"OTD mcc_category_mean\": 0.705948269847914,<br>    \"OTD mcc_category_std\": 0.0,<br>    \"OTD card_type_mean\": 0.8730814845821124,<br>    \"OTD card_type_std\": 0.0,<br>    \"OTD mcc_mean\": 0.6440848681456677,<br>    \"OTD mcc_std\": 0.0,<br>    \"Cardinality on mcc_category gen_mean\": 6.076182503139389,<br>    \"Cardinality on mcc_category gen_std\": 0.0,<br>    \"Cardinality on mcc_category orig_mean\": 7.265383005441607,<br>    \"Cardinality on mcc_category orig_std\": 0.0,<br>    \"F1_macro on mcc_category_mean\": 0.45534127346187175,<br>    \"F1_macro on mcc_category_std\": 0.0,<br>    \"F1_micro on mcc_category_mean\": 0.7216364936514581,<br>    \"F1_micro on mcc_category_std\": 0.0,<br>    \"test_loss_mean\": -105.15315796347225,<br>    \"test_loss_std\": 0.0,<br>    \"test_OTD overall_mean\": 0.6626223131005086,<br>    \"test_OTD overall_std\": 0.0,<br>    \"test_OTD hours_since_first_tx_mean\": 0.6075286174412966,<br>    \"test_OTD hours_since_first_tx_std\": 0.0,<br>    \"test_OTD amnt_mean\": 0.35128481346599033,<br>    \"test_OTD amnt_std\": 0.0,<br>    \"test_OTD payment_system_mean\": 0.8284632034632035,<br>    \"test_OTD payment_system_std\": 0.0,<br>    \"test_OTD mcc_category_mean\": 0.6996924489013097,<br>    \"test_OTD mcc_category_std\": 0.0,<br>    \"test_OTD card_type_mean\": 0.8588998027289166,<br>    \"test_OTD card_type_std\": 0.0,<br>    \"test_OTD mcc_mean\": 0.6298649926023344,<br>    \"test_OTD mcc_std\": 0.0,<br>    \"test_Cardinality on mcc_category gen_mean\": 6.2243958573072495,<br>    \"test_Cardinality on mcc_category gen_std\": 0.0,<br>    \"test_Cardinality on mcc_category orig_mean\": 7.3954737245876485,<br>    \"test_Cardinality on mcc_category orig_std\": 0.0,<br>    \"test_F1_macro on mcc_category_mean\": 0.4518691366368213,<br>    \"test_F1_macro on mcc_category_std\": 0.0,<br>    \"test_F1_micro on mcc_category_mean\": 0.7143696229930407,<br>    \"test_F1_micro on mcc_category_std\": 0.0,<br>    \"memory_after_mean\": 68910.0,<br>    \"memory_after_std\": 0.0<br>  }<br>}",
          "{<br>  \"number\": 3,<br>  \"values\": [<br>    -95.94983636765252<br>  ],<br>  \"params\": {<br>    \"optimizer.params.weight_decay\": 1.0138422760155242e-05,<br>    \"optimizer.params.lr\": 0.00342125896542138,<br>    \"model.latent_encoder.params.hidden_size\": 688,<br>    \"model.latent_encoder.params.num_layers\": 1,<br>    \"model.latent_encoder.params.dropout\": 3.006824753677029e-05,<br>    \"model.params.k_factor\": 2.115597576824754,<br>    \"loss.params.matching_weights._presence\": 1.0350846299493162,<br>    \"model.autoencoder.params.num_norm\": false,<br>    \"model.autoencoder.params.cat_emb_dim\": 76,<br>    \"model.autoencoder.params.num_emb_dim\": 94<br>  },<br>  \"user_attrs\": {<br>    \"train_OTD overall_mean\": 0.6764351180531408,<br>    \"train_OTD overall_std\": 0.0,<br>    \"train_OTD hours_since_first_tx_mean\": 0.5270689388193008,<br>    \"train_OTD hours_since_first_tx_std\": 0.0,<br>    \"train_OTD amnt_mean\": 0.41052646850670793,<br>    \"train_OTD amnt_std\": 0.0,<br>    \"train_OTD payment_system_mean\": 0.868655743370617,<br>    \"train_OTD payment_system_std\": 0.0,<br>    \"train_OTD mcc_category_mean\": 0.7193406748774663,<br>    \"train_OTD mcc_category_std\": 0.0,<br>    \"train_OTD card_type_mean\": 0.8777491516903355,<br>    \"train_OTD card_type_std\": 0.0,<br>    \"train_OTD mcc_mean\": 0.6552697310544175,<br>    \"train_OTD mcc_std\": 0.0,<br>    \"train_Cardinality on mcc_category gen_mean\": 6.836169410581878,<br>    \"train_Cardinality on mcc_category gen_std\": 0.0,<br>    \"train_Cardinality on mcc_category orig_mean\": 7.26688450421013,<br>    \"train_Cardinality on mcc_category orig_std\": 0.0,<br>    \"train_F1_macro on mcc_category_mean\": 0.4785761074285899,<br>    \"train_F1_macro on mcc_category_std\": 0.0,<br>    \"train_F1_micro on mcc_category_mean\": 0.7354679841648862,<br>    \"train_F1_micro on mcc_category_std\": 0.0,<br>    \"loss_mean\": -95.94983636765252,<br>    \"loss_std\": 0.0,<br>    \"OTD overall_mean\": 0.6766962232078656,<br>    \"OTD overall_std\": 0.0,<br>    \"OTD hours_since_first_tx_mean\": 0.5721965174877576,<br>    \"OTD hours_since_first_tx_std\": 0.0,<br>    \"OTD amnt_mean\": 0.3996549880772818,<br>    \"OTD amnt_std\": 0.0,<br>    \"OTD payment_system_mean\": 0.8589673154736989,<br>    \"OTD payment_system_std\": 0.0,<br>    \"OTD mcc_category_mean\": 0.7127415585321613,<br>    \"OTD mcc_category_std\": 0.0,<br>    \"OTD card_type_mean\": 0.8682459536765732,<br>    \"OTD card_type_std\": 0.0,<br>    \"OTD mcc_mean\": 0.648371005999721,<br>    \"OTD mcc_std\": 0.0,<br>    \"Cardinality on mcc_category gen_mean\": 6.855309055392772,<br>    \"Cardinality on mcc_category gen_std\": 0.0,<br>    \"Cardinality on mcc_category orig_mean\": 7.265383005441607,<br>    \"Cardinality on mcc_category orig_std\": 0.0,<br>    \"F1_macro on mcc_category_mean\": 0.4729140920685959,<br>    \"F1_macro on mcc_category_std\": 0.0,<br>    \"F1_micro on mcc_category_mean\": 0.7296811776196456,<br>    \"F1_micro on mcc_category_std\": 0.0,<br>    \"test_loss_mean\": -103.80840294033874,<br>    \"test_loss_std\": 0.0,<br>    \"test_OTD overall_mean\": 0.6660432836442608,<br>    \"test_OTD overall_std\": 0.0,<br>    \"test_OTD hours_since_first_tx_mean\": 0.6075286174412966,<br>    \"test_OTD hours_since_first_tx_std\": 0.0,<br>    \"test_OTD amnt_mean\": 0.34843778068159714,<br>    \"test_OTD amnt_std\": 0.0,<br>    \"test_OTD payment_system_mean\": 0.8478940626883665,<br>    \"test_OTD payment_system_std\": 0.0,<br>    \"test_OTD mcc_category_mean\": 0.7034255301660365,<br>    \"test_OTD mcc_category_std\": 0.0,<br>    \"test_OTD card_type_mean\": 0.8555725656200339,<br>    \"test_OTD card_type_std\": 0.0,<br>    \"test_OTD mcc_mean\": 0.6334011452682339,<br>    \"test_OTD mcc_std\": 0.0,<br>    \"test_Cardinality on mcc_category gen_mean\": 6.955997588908981,<br>    \"test_Cardinality on mcc_category gen_std\": 0.0,<br>    \"test_Cardinality on mcc_category orig_mean\": 7.3954737245876485,<br>    \"test_Cardinality on mcc_category orig_std\": 0.0,<br>    \"test_F1_macro on mcc_category_mean\": 0.4672734599324651,<br>    \"test_F1_macro on mcc_category_std\": 0.0,<br>    \"test_F1_micro on mcc_category_mean\": 0.7207244232560688,<br>    \"test_F1_micro on mcc_category_std\": 0.0,<br>    \"memory_after_mean\": 77256.0,<br>    \"memory_after_std\": 0.0<br>  }<br>}",
          "{<br>  \"number\": 4,<br>  \"values\": [<br>    -95.88743282499767<br>  ],<br>  \"params\": {<br>    \"optimizer.params.weight_decay\": 1.1531033239568166e-06,<br>    \"optimizer.params.lr\": 6.306853958281097e-05,<br>    \"model.latent_encoder.params.hidden_size\": 425,<br>    \"model.latent_encoder.params.num_layers\": 1,<br>    \"model.latent_encoder.params.dropout\": 0.021774135633347246,<br>    \"model.params.k_factor\": 2.739120168969596,<br>    \"loss.params.matching_weights._presence\": 1.03427318736808,<br>    \"model.autoencoder.params.num_norm\": false,<br>    \"model.autoencoder.params.cat_emb_dim\": 26,<br>    \"model.autoencoder.params.num_emb_dim\": 72<br>  },<br>  \"user_attrs\": {<br>    \"train_OTD overall_mean\": 0.6748734056846639,<br>    \"train_OTD overall_std\": 0.0,<br>    \"train_OTD hours_since_first_tx_mean\": 0.48772706783853853,<br>    \"train_OTD hours_since_first_tx_std\": 0.0,<br>    \"train_OTD amnt_mean\": 0.47591132892441895,<br>    \"train_OTD amnt_std\": 0.0,<br>    \"train_OTD payment_system_mean\": 0.8606869267210967,<br>    \"train_OTD payment_system_std\": 0.0,<br>    \"train_OTD mcc_category_mean\": 0.7107776433827235,<br>    \"train_OTD mcc_category_std\": 0.0,<br>    \"train_OTD card_type_mean\": 0.8743747480092733,<br>    \"train_OTD card_type_std\": 0.0,<br>    \"train_OTD mcc_mean\": 0.6397627192319323,<br>    \"train_OTD mcc_std\": 0.0,<br>    \"train_Cardinality on mcc_category gen_mean\": 6.914675939925411,<br>    \"train_Cardinality on mcc_category gen_std\": 0.0,<br>    \"train_Cardinality on mcc_category orig_mean\": 7.290721701441387,<br>    \"train_Cardinality on mcc_category orig_std\": 0.0,<br>    \"train_F1_macro on mcc_category_mean\": 0.46113792641002815,<br>    \"train_F1_macro on mcc_category_std\": 0.0,<br>    \"train_F1_micro on mcc_category_mean\": 0.7271578280919262,<br>    \"train_F1_micro on mcc_category_std\": 0.0,<br>    \"loss_mean\": -95.88743282499767,<br>    \"loss_std\": 0.0,<br>    \"OTD overall_mean\": 0.6903230943369767,<br>    \"OTD overall_std\": 0.0,<br>    \"OTD hours_since_first_tx_mean\": 0.5721965174877575,<br>    \"OTD hours_since_first_tx_std\": 0.0,<br>    \"OTD amnt_mean\": 0.48570671296831536,<br>    \"OTD amnt_std\": 0.0,<br>    \"OTD payment_system_mean\": 0.8585138481931073,<br>    \"OTD payment_system_std\": 0.0,<br>    \"OTD mcc_category_mean\": 0.7119261894795591,<br>    \"OTD mcc_category_std\": 0.0,<br>    \"OTD card_type_mean\": 0.8729027138272638,<br>    \"OTD card_type_std\": 0.0,<br>    \"OTD mcc_mean\": 0.6406925840658574,<br>    \"OTD mcc_std\": 0.0,<br>    \"Cardinality on mcc_category gen_mean\": 6.909027487093623,<br>    \"Cardinality on mcc_category gen_std\": 0.0,<br>    \"Cardinality on mcc_category orig_mean\": 7.265383005441607,<br>    \"Cardinality on mcc_category orig_std\": 0.0,<br>    \"F1_macro on mcc_category_mean\": 0.46106490761750407,<br>    \"F1_macro on mcc_category_std\": 0.0,<br>    \"F1_micro on mcc_category_mean\": 0.7276710966931771,<br>    \"F1_micro on mcc_category_std\": 0.0,<br>    \"test_loss_mean\": -107.12124570210774,<br>    \"test_loss_std\": 0.0,<br>    \"test_OTD overall_mean\": 0.6832980469016671,<br>    \"test_OTD overall_std\": 0.0,<br>    \"test_OTD hours_since_first_tx_mean\": 0.6075286174412966,<br>    \"test_OTD hours_since_first_tx_std\": 0.0,<br>    \"test_OTD amnt_mean\": 0.44728459684173993,<br>    \"test_OTD amnt_std\": 0.0,<br>    \"test_OTD payment_system_mean\": 0.8506185270425777,<br>    \"test_OTD payment_system_std\": 0.0,<br>    \"test_OTD mcc_category_mean\": 0.705804085155351,<br>    \"test_OTD mcc_category_std\": 0.0,<br>    \"test_OTD card_type_mean\": 0.8615968683215519,<br>    \"test_OTD card_type_std\": 0.0,<br>    \"test_OTD mcc_mean\": 0.6269555866074853,<br>    \"test_OTD mcc_std\": 0.0,<br>    \"test_Cardinality on mcc_category gen_mean\": 6.944928489232287,<br>    \"test_Cardinality on mcc_category gen_std\": 0.0,<br>    \"test_Cardinality on mcc_category orig_mean\": 7.3954737245876485,<br>    \"test_Cardinality on mcc_category orig_std\": 0.0,<br>    \"test_F1_macro on mcc_category_mean\": 0.46247556353153263,<br>    \"test_F1_macro on mcc_category_std\": 0.0,<br>    \"test_F1_micro on mcc_category_mean\": 0.721679955066031,<br>    \"test_F1_micro on mcc_category_std\": 0.0,<br>    \"memory_after_mean\": 80090.0,<br>    \"memory_after_std\": 0.0<br>  }<br>}",
          "{<br>  \"number\": 5,<br>  \"values\": [<br>    -95.60702432904925<br>  ],<br>  \"params\": {<br>    \"optimizer.params.weight_decay\": 1.595032367370015e-09,<br>    \"optimizer.params.lr\": 0.0009324113372699859,<br>    \"model.latent_encoder.params.hidden_size\": 101,<br>    \"model.latent_encoder.params.num_layers\": 6,<br>    \"model.latent_encoder.params.dropout\": 7.548831416037967e-08,<br>    \"model.params.k_factor\": 2.783371255496508,<br>    \"loss.params.matching_weights._presence\": 0.41525009836350085,<br>    \"model.autoencoder.params.num_norm\": true,<br>    \"model.autoencoder.params.cat_emb_dim\": 1,<br>    \"model.autoencoder.params.num_emb_dim\": 125<br>  },<br>  \"user_attrs\": {<br>    \"train_OTD overall_mean\": 0.694263164990652,<br>    \"train_OTD overall_std\": 0.0,<br>    \"train_OTD hours_since_first_tx_mean\": 0.6090561231440886,<br>    \"train_OTD hours_since_first_tx_std\": 0.0,<br>    \"train_OTD amnt_mean\": 0.4717660630939752,<br>    \"train_OTD amnt_std\": 0.0,<br>    \"train_OTD payment_system_mean\": 0.8657495405453035,<br>    \"train_OTD payment_system_std\": 0.0,<br>    \"train_OTD mcc_category_mean\": 0.7023284282873039,<br>    \"train_OTD mcc_category_std\": 0.0,<br>    \"train_OTD card_type_mean\": 0.8741943808061227,<br>    \"train_OTD card_type_std\": 0.0,<br>    \"train_OTD mcc_mean\": 0.6424844540671182,<br>    \"train_OTD mcc_std\": 0.0,<br>    \"train_Cardinality on mcc_category gen_mean\": 5.784647919236676,<br>    \"train_Cardinality on mcc_category gen_std\": 0.0,<br>    \"train_Cardinality on mcc_category orig_mean\": 7.267641801565922,<br>    \"train_Cardinality on mcc_category orig_std\": 0.0,<br>    \"train_F1_macro on mcc_category_mean\": 0.44515152782493794,<br>    \"train_F1_macro on mcc_category_std\": 0.0,<br>    \"train_F1_micro on mcc_category_mean\": 0.7180490168928275,<br>    \"train_F1_micro on mcc_category_std\": 0.0,<br>    \"loss_mean\": -95.60702432904925,<br>    \"loss_std\": 0.0,<br>    \"OTD overall_mean\": 0.6913357695512764,<br>    \"OTD overall_std\": 0.0,<br>    \"OTD hours_since_first_tx_mean\": 0.6083570222970839,<br>    \"OTD hours_since_first_tx_std\": 0.0,<br>    \"OTD amnt_mean\": 0.47490333939455665,<br>    \"OTD amnt_std\": 0.0,<br>    \"OTD payment_system_mean\": 0.8617753244035161,<br>    \"OTD payment_system_std\": 0.0,<br>    \"OTD mcc_category_mean\": 0.7020458350774382,<br>    \"OTD mcc_category_std\": 0.0,<br>    \"OTD card_type_mean\": 0.8592245709501883,<br>    \"OTD card_type_std\": 0.0,<br>    \"OTD mcc_mean\": 0.6417085251848751,<br>    \"OTD mcc_std\": 0.0,<br>    \"Cardinality on mcc_category gen_mean\": 5.771312962187805,<br>    \"Cardinality on mcc_category gen_std\": 0.0,<br>    \"Cardinality on mcc_category orig_mean\": 7.265383005441607,<br>    \"Cardinality on mcc_category orig_std\": 0.0,<br>    \"F1_macro on mcc_category_mean\": 0.44478692755549876,<br>    \"F1_macro on mcc_category_std\": 0.0,<br>    \"F1_micro on mcc_category_mean\": 0.7181788056369471,<br>    \"F1_micro on mcc_category_std\": 0.0,<br>    \"test_loss_mean\": -110.07216887380562,<br>    \"test_loss_std\": 0.0,<br>    \"test_OTD overall_mean\": 0.6829206249511895,<br>    \"test_OTD overall_std\": 0.0,<br>    \"test_OTD hours_since_first_tx_mean\": 0.6449856083586863,<br>    \"test_OTD hours_since_first_tx_std\": 0.0,<br>    \"test_OTD amnt_mean\": 0.4312749899428944,<br>    \"test_OTD amnt_std\": 0.0,<br>    \"test_OTD payment_system_mean\": 0.8485293714724095,<br>    \"test_OTD payment_system_std\": 0.0,<br>    \"test_OTD mcc_category_mean\": 0.6971443640747438,<br>    \"test_OTD mcc_category_std\": 0.0,<br>    \"test_OTD card_type_mean\": 0.848479711217053,<br>    \"test_OTD card_type_std\": 0.0,<br>    \"test_OTD mcc_mean\": 0.6271097046413502,<br>    \"test_OTD mcc_std\": 0.0,<br>    \"test_Cardinality on mcc_category gen_mean\": 5.905474272562881,<br>    \"test_Cardinality on mcc_category gen_std\": 0.0,<br>    \"test_Cardinality on mcc_category orig_mean\": 7.3954737245876485,<br>    \"test_Cardinality on mcc_category orig_std\": 0.0,<br>    \"test_F1_macro on mcc_category_mean\": 0.44318067805291317,<br>    \"test_F1_macro on mcc_category_std\": 0.0,<br>    \"test_F1_micro on mcc_category_mean\": 0.7121434736149926,<br>    \"test_F1_micro on mcc_category_std\": 0.0,<br>    \"memory_after_mean\": 77430.0,<br>    \"memory_after_std\": 0.0<br>  }<br>}",
          "{<br>  \"number\": 6,<br>  \"values\": [<br>    -95.53729883829753<br>  ],<br>  \"params\": {<br>    \"optimizer.params.weight_decay\": 0.000590079307191005,<br>    \"optimizer.params.lr\": 0.0034500771745941306,<br>    \"model.latent_encoder.params.hidden_size\": 62,<br>    \"model.latent_encoder.params.num_layers\": 3,<br>    \"model.latent_encoder.params.dropout\": 0.0006301006067636158,<br>    \"model.params.k_factor\": 1.645031624569955,<br>    \"loss.params.matching_weights._presence\": 0.5809729309860817,<br>    \"model.autoencoder.params.num_norm\": false,<br>    \"model.autoencoder.params.cat_emb_dim\": 9,<br>    \"model.autoencoder.params.num_emb_dim\": 96<br>  },<br>  \"user_attrs\": {<br>    \"train_OTD overall_mean\": 0.6793962487704682,<br>    \"train_OTD overall_std\": 0.0,<br>    \"train_OTD hours_since_first_tx_mean\": 0.48772706783853864,<br>    \"train_OTD hours_since_first_tx_std\": 0.0,<br>    \"train_OTD amnt_mean\": 0.46410479556342565,<br>    \"train_OTD amnt_std\": 0.0,<br>    \"train_OTD payment_system_mean\": 0.8685269882068339,<br>    \"train_OTD payment_system_std\": 0.0,<br>    \"train_OTD mcc_category_mean\": 0.7135960021671203,<br>    \"train_OTD mcc_category_std\": 0.0,<br>    \"train_OTD card_type_mean\": 0.8904202575345227,<br>    \"train_OTD card_type_std\": 0.0,<br>    \"train_OTD mcc_mean\": 0.6520023813123677,<br>    \"train_OTD mcc_std\": 0.0,<br>    \"train_Cardinality on mcc_category gen_mean\": 6.301204515673823,<br>    \"train_Cardinality on mcc_category gen_std\": 0.0,<br>    \"train_Cardinality on mcc_category orig_mean\": 7.290721701441387,<br>    \"train_Cardinality on mcc_category orig_std\": 0.0,<br>    \"train_F1_macro on mcc_category_mean\": 0.46578297334614877,<br>    \"train_F1_macro on mcc_category_std\": 0.0,<br>    \"train_F1_micro on mcc_category_mean\": 0.7289359376574942,<br>    \"train_F1_micro on mcc_category_std\": 0.0,<br>    \"loss_mean\": -95.53729883829753,<br>    \"loss_std\": 0.0,<br>    \"OTD overall_mean\": 0.6934923814891499,<br>    \"OTD overall_std\": 0.0,<br>    \"OTD hours_since_first_tx_mean\": 0.5721965174877576,<br>    \"OTD hours_since_first_tx_std\": 0.0,<br>    \"OTD amnt_mean\": 0.47162368466048116,<br>    \"OTD amnt_std\": 0.0,<br>    \"OTD payment_system_mean\": 0.8667373029161435,<br>    \"OTD payment_system_std\": 0.0,<br>    \"OTD mcc_category_mean\": 0.7142938119157248,<br>    \"OTD mcc_category_std\": 0.0,<br>    \"OTD card_type_mean\": 0.8836333193804939,<br>    \"OTD card_type_std\": 0.0,<br>    \"OTD mcc_mean\": 0.6524696525742989,<br>    \"OTD mcc_std\": 0.0,<br>    \"Cardinality on mcc_category gen_mean\": 6.311427375470909,<br>    \"Cardinality on mcc_category gen_std\": 0.0,<br>    \"Cardinality on mcc_category orig_mean\": 7.265383005441607,<br>    \"Cardinality on mcc_category orig_std\": 0.0,<br>    \"F1_macro on mcc_category_mean\": 0.4669082525880065,<br>    \"F1_macro on mcc_category_std\": 0.0,<br>    \"F1_micro on mcc_category_mean\": 0.7289006906655504,<br>    \"F1_micro on mcc_category_std\": 0.0,<br>    \"test_loss_mean\": -101.31237811668247,<br>    \"test_loss_std\": 0.0,<br>    \"test_OTD overall_mean\": 0.6833373562394659,<br>    \"test_OTD overall_std\": 0.0,<br>    \"test_OTD hours_since_first_tx_mean\": 0.6075286174412965,<br>    \"test_OTD hours_since_first_tx_std\": 0.0,<br>    \"test_OTD amnt_mean\": 0.42760326562539647,<br>    \"test_OTD amnt_std\": 0.0,<br>    \"test_OTD payment_system_mean\": 0.8512401364458326,<br>    \"test_OTD payment_system_std\": 0.0,<br>    \"test_OTD mcc_category_mean\": 0.705800660310154,<br>    \"test_OTD mcc_category_std\": 0.0,<br>    \"test_OTD card_type_mean\": 0.8710854019398323,<br>    \"test_OTD card_type_std\": 0.0,<br>    \"test_OTD mcc_mean\": 0.6367660556742836,<br>    \"test_OTD mcc_std\": 0.0,<br>    \"test_Cardinality on mcc_category gen_mean\": 6.514877527535756,<br>    \"test_Cardinality on mcc_category gen_std\": 0.0,<br>    \"test_Cardinality on mcc_category orig_mean\": 7.3954737245876485,<br>    \"test_Cardinality on mcc_category orig_std\": 0.0,<br>    \"test_F1_macro on mcc_category_mean\": 0.4596075688148539,<br>    \"test_F1_macro on mcc_category_std\": 0.0,<br>    \"test_F1_micro on mcc_category_mean\": 0.7202877554934517,<br>    \"test_F1_micro on mcc_category_std\": 0.0,<br>    \"memory_after_mean\": 53444.0,<br>    \"memory_after_std\": 0.0<br>  }<br>}",
          "{<br>  \"number\": 7,<br>  \"values\": [<br>    -95.4814288729713<br>  ],<br>  \"params\": {<br>    \"optimizer.params.weight_decay\": 8.82053882713296e-06,<br>    \"optimizer.params.lr\": 0.00027208157646897734,<br>    \"model.latent_encoder.params.hidden_size\": 88,<br>    \"model.latent_encoder.params.num_layers\": 1,<br>    \"model.latent_encoder.params.dropout\": 0.001073233151235916,<br>    \"model.params.k_factor\": 2.399431587400935,<br>    \"loss.params.matching_weights._presence\": 0.0503555074793014,<br>    \"model.autoencoder.params.num_norm\": false,<br>    \"model.autoencoder.params.cat_emb_dim\": 18,<br>    \"model.autoencoder.params.num_emb_dim\": 82<br>  },<br>  \"user_attrs\": {<br>    \"train_OTD overall_mean\": 0.6717362250162092,<br>    \"train_OTD overall_std\": 0.0,<br>    \"train_OTD hours_since_first_tx_mean\": 0.48772706783853853,<br>    \"train_OTD hours_since_first_tx_std\": 0.0,<br>    \"train_OTD amnt_mean\": 0.4652558943441918,<br>    \"train_OTD amnt_std\": 0.0,<br>    \"train_OTD payment_system_mean\": 0.8600049768168532,<br>    \"train_OTD payment_system_std\": 0.0,<br>    \"train_OTD mcc_category_mean\": 0.6949801872291099,<br>    \"train_OTD mcc_category_std\": 0.0,<br>    \"train_OTD card_type_mean\": 0.883226709757081,<br>    \"train_OTD card_type_std\": 0.0,<br>    \"train_OTD mcc_mean\": 0.6392225141114807,<br>    \"train_OTD mcc_std\": 0.0,<br>    \"train_Cardinality on mcc_category gen_mean\": 5.414625541780063,<br>    \"train_Cardinality on mcc_category gen_std\": 0.0,<br>    \"train_Cardinality on mcc_category orig_mean\": 7.290721701441387,<br>    \"train_Cardinality on mcc_category orig_std\": 0.0,<br>    \"train_F1_macro on mcc_category_mean\": 0.4320874548191213,<br>    \"train_F1_macro on mcc_category_std\": 0.0,<br>    \"train_F1_micro on mcc_category_mean\": 0.7098043292006854,<br>    \"train_F1_micro on mcc_category_std\": 0.0,<br>    \"loss_mean\": -95.4814288729713,<br>    \"loss_std\": 0.0,<br>    \"OTD overall_mean\": 0.6873281745856747,<br>    \"OTD overall_std\": 0.0,<br>    \"OTD hours_since_first_tx_mean\": 0.5721965174877576,<br>    \"OTD hours_since_first_tx_std\": 0.0,<br>    \"OTD amnt_mean\": 0.47547229980444095,<br>    \"OTD amnt_std\": 0.0,<br>    \"OTD payment_system_mean\": 0.8579164922561742,<br>    \"OTD payment_system_std\": 0.0,<br>    \"OTD mcc_category_mean\": 0.6968047997767546,<br>    \"OTD mcc_category_std\": 0.0,<br>    \"OTD card_type_mean\": 0.8806988628435887,<br>    \"OTD card_type_std\": 0.0,<br>    \"OTD mcc_mean\": 0.6408800753453328,<br>    \"OTD mcc_std\": 0.0,<br>    \"Cardinality on mcc_category gen_mean\": 5.408539137714525,<br>    \"Cardinality on mcc_category gen_std\": 0.0,<br>    \"Cardinality on mcc_category orig_mean\": 7.265383005441607,<br>    \"Cardinality on mcc_category orig_std\": 0.0,<br>    \"F1_macro on mcc_category_mean\": 0.4339479076171935,<br>    \"F1_macro on mcc_category_std\": 0.0,<br>    \"F1_micro on mcc_category_mean\": 0.7115250453467281,<br>    \"F1_micro on mcc_category_std\": 0.0,<br>    \"test_loss_mean\": -102.38279353871064,<br>    \"test_loss_std\": 0.0,<br>    \"test_OTD overall_mean\": 0.6783524136809369,<br>    \"test_OTD overall_std\": 0.0,<br>    \"test_OTD hours_since_first_tx_mean\": 0.6075286174412966,<br>    \"test_OTD hours_since_first_tx_std\": 0.0,<br>    \"test_OTD amnt_mean\": 0.4279795163512679,<br>    \"test_OTD amnt_std\": 0.0,<br>    \"test_OTD payment_system_mean\": 0.850907926461724,<br>    \"test_OTD payment_system_std\": 0.0,<br>    \"test_OTD mcc_category_mean\": 0.6884880678393337,<br>    \"test_OTD mcc_category_std\": 0.0,<br>    \"test_OTD card_type_mean\": 0.869095566880377,<br>    \"test_OTD card_type_std\": 0.0,<br>    \"test_OTD mcc_mean\": 0.6261147871116226,<br>    \"test_OTD mcc_std\": 0.0,<br>    \"test_Cardinality on mcc_category gen_mean\": 5.5210696476519265,<br>    \"test_Cardinality on mcc_category gen_std\": 0.0,<br>    \"test_Cardinality on mcc_category orig_mean\": 7.3954737245876485,<br>    \"test_Cardinality on mcc_category orig_std\": 0.0,<br>    \"test_F1_macro on mcc_category_mean\": 0.42667587302645493,<br>    \"test_F1_macro on mcc_category_std\": 0.0,<br>    \"test_F1_micro on mcc_category_mean\": 0.7022713573346485,<br>    \"test_F1_micro on mcc_category_std\": 0.0,<br>    \"memory_after_mean\": 78058.0,<br>    \"memory_after_std\": 0.0<br>  }<br>}",
          "{<br>  \"number\": 8,<br>  \"values\": [<br>    -95.37290146237328<br>  ],<br>  \"params\": {<br>    \"optimizer.params.weight_decay\": 4.2289733612190025e-07,<br>    \"optimizer.params.lr\": 0.00011983262014799405,<br>    \"model.latent_encoder.params.hidden_size\": 370,<br>    \"model.latent_encoder.params.num_layers\": 2,<br>    \"model.latent_encoder.params.dropout\": 1.0914886085397584e-06,<br>    \"model.params.k_factor\": 2.6188381911717156,<br>    \"loss.params.matching_weights._presence\": 0.29107531463480735,<br>    \"model.autoencoder.params.num_norm\": true,<br>    \"model.autoencoder.params.cat_emb_dim\": 20,<br>    \"model.autoencoder.params.num_emb_dim\": 74<br>  },<br>  \"user_attrs\": {<br>    \"train_OTD overall_mean\": 0.6913863797401527,<br>    \"train_OTD overall_std\": 0.0,<br>    \"train_OTD hours_since_first_tx_mean\": 0.5784852694981484,<br>    \"train_OTD hours_since_first_tx_std\": 0.0,<br>    \"train_OTD amnt_mean\": 0.4843437526299859,<br>    \"train_OTD amnt_std\": 0.0,<br>    \"train_OTD payment_system_mean\": 0.8610417033810831,<br>    \"train_OTD payment_system_std\": 0.0,<br>    \"train_OTD mcc_category_mean\": 0.7011003310591375,<br>    \"train_OTD mcc_category_std\": 0.0,<br>    \"train_OTD card_type_mean\": 0.8843794844037159,<br>    \"train_OTD card_type_std\": 0.0,<br>    \"train_OTD mcc_mean\": 0.6389677374688452,<br>    \"train_OTD mcc_std\": 0.0,<br>    \"train_Cardinality on mcc_category gen_mean\": 5.836912464439465,<br>    \"train_Cardinality on mcc_category gen_std\": 0.0,<br>    \"train_Cardinality on mcc_category orig_mean\": 7.267641801565922,<br>    \"train_Cardinality on mcc_category orig_std\": 0.0,<br>    \"train_F1_macro on mcc_category_mean\": 0.4405938343291318,<br>    \"train_F1_macro on mcc_category_std\": 0.0,<br>    \"train_F1_micro on mcc_category_mean\": 0.7165125185670048,<br>    \"train_F1_micro on mcc_category_std\": 0.0,<br>    \"loss_mean\": -95.37290146237328,<br>    \"loss_std\": 0.0,<br>    \"OTD overall_mean\": 0.6893899273084125,<br>    \"OTD overall_std\": 0.0,<br>    \"OTD hours_since_first_tx_mean\": 0.5721965174877576,<br>    \"OTD hours_since_first_tx_std\": 0.0,<br>    \"OTD amnt_mean\": 0.49001858703524426,<br>    \"OTD amnt_std\": 0.0,<br>    \"OTD payment_system_mean\": 0.8559238523789591,<br>    \"OTD payment_system_std\": 0.0,<br>    \"OTD mcc_category_mean\": 0.7012435468117761,<br>    \"OTD mcc_category_std\": 0.0,<br>    \"OTD card_type_mean\": 0.8791030068368914,<br>    \"OTD card_type_std\": 0.0,<br>    \"OTD mcc_mean\": 0.6378540532998466,<br>    \"OTD mcc_std\": 0.0,<br>    \"Cardinality on mcc_category gen_mean\": 5.844146783870517,<br>    \"Cardinality on mcc_category gen_std\": 0.0,<br>    \"Cardinality on mcc_category orig_mean\": 7.265383005441607,<br>    \"Cardinality on mcc_category orig_std\": 0.0,<br>    \"F1_macro on mcc_category_mean\": 0.4401322557659219,<br>    \"F1_macro on mcc_category_std\": 0.0,<br>    \"F1_micro on mcc_category_mean\": 0.7168794474675596,<br>    \"F1_micro on mcc_category_std\": 0.0,<br>    \"test_loss_mean\": -106.4675573835186,<br>    \"test_loss_std\": 0.0,<br>    \"test_OTD overall_mean\": 0.6789503188784872,<br>    \"test_OTD overall_std\": 0.0,<br>    \"test_OTD hours_since_first_tx_mean\": 0.6075286174412965,<br>    \"test_OTD hours_since_first_tx_std\": 0.0,<br>    \"test_OTD amnt_mean\": 0.4439340635429265,<br>    \"test_OTD amnt_std\": 0.0,<br>    \"test_OTD payment_system_mean\": 0.8391829689298044,<br>    \"test_OTD payment_system_std\": 0.0,<br>    \"test_OTD mcc_category_mean\": 0.6931338703490603,<br>    \"test_OTD mcc_category_std\": 0.0,<br>    \"test_OTD card_type_mean\": 0.8660217683160721,<br>    \"test_OTD card_type_std\": 0.0,<br>    \"test_OTD mcc_mean\": 0.6239006246917639,<br>    \"test_OTD mcc_std\": 0.0,<br>    \"test_Cardinality on mcc_category gen_mean\": 5.880979779713957,<br>    \"test_Cardinality on mcc_category gen_std\": 0.0,<br>    \"test_Cardinality on mcc_category orig_mean\": 7.3954737245876485,<br>    \"test_Cardinality on mcc_category orig_std\": 0.0,<br>    \"test_F1_macro on mcc_category_mean\": 0.43376613200945546,<br>    \"test_F1_macro on mcc_category_std\": 0.0,<br>    \"test_F1_micro on mcc_category_mean\": 0.7079394761356786,<br>    \"test_F1_micro on mcc_category_std\": 0.0,<br>    \"memory_after_mean\": 77818.0,<br>    \"memory_after_std\": 0.0<br>  }<br>}",
          "{<br>  \"number\": 9,<br>  \"values\": [<br>    -95.36381585257394<br>  ],<br>  \"params\": {<br>    \"optimizer.params.weight_decay\": 3.5608850011668945e-06,<br>    \"optimizer.params.lr\": 0.001504026589721116,<br>    \"model.latent_encoder.params.hidden_size\": 68,<br>    \"model.latent_encoder.params.num_layers\": 7,<br>    \"model.latent_encoder.params.dropout\": 1.6664581063556777e-06,<br>    \"model.params.k_factor\": 2.395888110000856,<br>    \"loss.params.matching_weights._presence\": 0.03982618607260113,<br>    \"model.autoencoder.params.num_norm\": true,<br>    \"model.autoencoder.params.cat_emb_dim\": 2,<br>    \"model.autoencoder.params.num_emb_dim\": 127<br>  },<br>  \"user_attrs\": {<br>    \"train_OTD overall_mean\": 0.6708361003558075,<br>    \"train_OTD overall_std\": 0.0,<br>    \"train_OTD hours_since_first_tx_mean\": 0.48772706783853864,<br>    \"train_OTD hours_since_first_tx_std\": 0.0,<br>    \"train_OTD amnt_mean\": 0.44999443425598834,<br>    \"train_OTD amnt_std\": 0.0,<br>    \"train_OTD payment_system_mean\": 0.8605026585021671,<br>    \"train_OTD payment_system_std\": 0.0,<br>    \"train_OTD mcc_category_mean\": 0.6980702235157746,<br>    \"train_OTD mcc_category_std\": 0.0,<br>    \"train_OTD card_type_mean\": 0.887281398044552,<br>    \"train_OTD card_type_std\": 0.0,<br>    \"train_OTD mcc_mean\": 0.6414408199778248,<br>    \"train_OTD mcc_std\": 0.0,<br>    \"train_Cardinality on mcc_category gen_mean\": 5.400942445318012,<br>    \"train_Cardinality on mcc_category gen_std\": 0.0,<br>    \"train_Cardinality on mcc_category orig_mean\": 7.290721701441387,<br>    \"train_Cardinality on mcc_category orig_std\": 0.0,<br>    \"train_F1_macro on mcc_category_mean\": 0.4329257662823471,<br>    \"train_F1_macro on mcc_category_std\": 0.0,<br>    \"train_F1_micro on mcc_category_mean\": 0.7123943213889729,<br>    \"train_F1_micro on mcc_category_std\": 0.0,<br>    \"loss_mean\": -95.36381585257394,<br>    \"loss_std\": 0.0,<br>    \"OTD overall_mean\": 0.6847095873423816,<br>    \"OTD overall_std\": 0.0,<br>    \"OTD hours_since_first_tx_mean\": 0.5721965174877576,<br>    \"OTD hours_since_first_tx_std\": 0.0,<br>    \"OTD amnt_mean\": 0.46098601005474216,<br>    \"OTD amnt_std\": 0.0,<br>    \"OTD payment_system_mean\": 0.858670817636389,<br>    \"OTD payment_system_std\": 0.0,<br>    \"OTD mcc_category_mean\": 0.6981215989953956,<br>    \"OTD mcc_category_std\": 0.0,<br>    \"OTD card_type_mean\": 0.8774330263708665,<br>    \"OTD card_type_std\": 0.0,<br>    \"OTD mcc_mean\": 0.6408495535091391,<br>    \"OTD mcc_std\": 0.0,<br>    \"Cardinality on mcc_category gen_mean\": 5.407562438956328,<br>    \"Cardinality on mcc_category gen_std\": 0.0,<br>    \"Cardinality on mcc_category orig_mean\": 7.265383005441607,<br>    \"Cardinality on mcc_category orig_std\": 0.0,<br>    \"F1_macro on mcc_category_mean\": 0.43349990810209327,<br>    \"F1_macro on mcc_category_std\": 0.0,<br>    \"F1_micro on mcc_category_mean\": 0.7121965257429888,<br>    \"F1_micro on mcc_category_std\": 0.0,<br>    \"test_loss_mean\": -104.51969520718444,<br>    \"test_loss_std\": 0.0,<br>    \"test_OTD overall_mean\": 0.6754780513237217,<br>    \"test_OTD overall_std\": 0.0,<br>    \"test_OTD hours_since_first_tx_mean\": 0.6075286174412966,<br>    \"test_OTD hours_since_first_tx_std\": 0.0,<br>    \"test_OTD amnt_mean\": 0.41608123798308755,<br>    \"test_OTD amnt_std\": 0.0,<br>    \"test_OTD payment_system_mean\": 0.8444007205874294,<br>    \"test_OTD payment_system_std\": 0.0,<br>    \"test_OTD mcc_category_mean\": 0.6932075045207957,<br>    \"test_OTD mcc_category_std\": 0.0,<br>    \"test_OTD card_type_mean\": 0.86442750287687,<br>    \"test_OTD card_type_std\": 0.0,<br>    \"test_OTD mcc_mean\": 0.6272227245328511,<br>    \"test_OTD mcc_std\": 0.0,<br>    \"test_Cardinality on mcc_category gen_mean\": 5.6129102964546,<br>    \"test_Cardinality on mcc_category gen_std\": 0.0,<br>    \"test_Cardinality on mcc_category orig_mean\": 7.3954737245876485,<br>    \"test_Cardinality on mcc_category orig_std\": 0.0,<br>    \"test_F1_macro on mcc_category_mean\": 0.43321923028168063,<br>    \"test_F1_macro on mcc_category_std\": 0.0,<br>    \"test_F1_micro on mcc_category_mean\": 0.7071140884432023,<br>    \"test_F1_micro on mcc_category_std\": 0.0,<br>    \"memory_after_mean\": 80432.0,<br>    \"memory_after_std\": 0.0<br>  }<br>}",
          "{<br>  \"number\": 10,<br>  \"values\": [<br>    -95.05077534630185<br>  ],<br>  \"params\": {<br>    \"optimizer.params.weight_decay\": 3.831742159075689e-05,<br>    \"optimizer.params.lr\": 0.0030087561260173576,<br>    \"model.latent_encoder.params.hidden_size\": 680,<br>    \"model.latent_encoder.params.num_layers\": 1,<br>    \"model.latent_encoder.params.dropout\": 1.3657251872516521e-05,<br>    \"model.params.k_factor\": 2.564449952175738,<br>    \"loss.params.matching_weights._presence\": 0.04481764163739832,<br>    \"model.autoencoder.params.num_norm\": true,<br>    \"model.autoencoder.params.cat_emb_dim\": 51,<br>    \"model.autoencoder.params.num_emb_dim\": 55<br>  },<br>  \"user_attrs\": {<br>    \"train_OTD overall_mean\": 0.6796145582953409,<br>    \"train_OTD overall_std\": 0.0,<br>    \"train_OTD hours_since_first_tx_mean\": 0.5270689388193008,<br>    \"train_OTD hours_since_first_tx_std\": 0.0,<br>    \"train_OTD amnt_mean\": 0.43652233202852747,<br>    \"train_OTD amnt_std\": 0.0,<br>    \"train_OTD payment_system_mean\": 0.8643285786100289,<br>    \"train_OTD payment_system_std\": 0.0,<br>    \"train_OTD mcc_category_mean\": 0.7087454442629132,<br>    \"train_OTD mcc_category_std\": 0.0,<br>    \"train_OTD card_type_mean\": 0.8868779062460727,<br>    \"train_OTD card_type_std\": 0.0,<br>    \"train_OTD mcc_mean\": 0.654144149805203,<br>    \"train_OTD mcc_std\": 0.0,<br>    \"train_Cardinality on mcc_category gen_mean\": 5.574362196807842,<br>    \"train_Cardinality on mcc_category gen_std\": 0.0,<br>    \"train_Cardinality on mcc_category orig_mean\": 7.26688450421013,<br>    \"train_Cardinality on mcc_category orig_std\": 0.0,<br>    \"train_F1_macro on mcc_category_mean\": 0.446702049374761,<br>    \"train_F1_macro on mcc_category_std\": 0.0,<br>    \"train_F1_micro on mcc_category_mean\": 0.7207388148799799,<br>    \"train_F1_micro on mcc_category_std\": 0.0,<br>    \"loss_mean\": -95.05077534630185,<br>    \"loss_std\": 0.0,<br>    \"OTD overall_mean\": 0.6771117815785764,<br>    \"OTD overall_std\": 0.0,<br>    \"OTD hours_since_first_tx_mean\": 0.5721965174877576,<br>    \"OTD hours_since_first_tx_std\": 0.0,<br>    \"OTD amnt_mean\": 0.4097046728906357,<br>    \"OTD amnt_std\": 0.0,<br>    \"OTD payment_system_mean\": 0.8528324263987721,<br>    \"OTD payment_system_std\": 0.0,<br>    \"OTD mcc_category_mean\": 0.7023902958001953,<br>    \"OTD mcc_category_std\": 0.0,<br>    \"OTD card_type_mean\": 0.8778908539137714,<br>    \"OTD card_type_std\": 0.0,<br>    \"OTD mcc_mean\": 0.6476559229803265,<br>    \"OTD mcc_std\": 0.0,<br>    \"Cardinality on mcc_category gen_mean\": 5.587135482070601,<br>    \"Cardinality on mcc_category gen_std\": 0.0,<br>    \"Cardinality on mcc_category orig_mean\": 7.265383005441607,<br>    \"Cardinality on mcc_category orig_std\": 0.0,<br>    \"F1_macro on mcc_category_mean\": 0.4415723017475448,<br>    \"F1_macro on mcc_category_std\": 0.0,<br>    \"F1_micro on mcc_category_mean\": 0.7146164713269151,<br>    \"F1_micro on mcc_category_std\": 0.0,<br>    \"test_loss_mean\": -101.49253826515347,<br>    \"test_loss_std\": 0.0,<br>    \"test_OTD overall_mean\": 0.6676278643468067,<br>    \"test_OTD overall_std\": 0.0,<br>    \"test_OTD hours_since_first_tx_mean\": 0.6075286174412965,<br>    \"test_OTD hours_since_first_tx_std\": 0.0,<br>    \"test_OTD amnt_mean\": 0.37083809464096845,<br>    \"test_OTD amnt_std\": 0.0,<br>    \"test_OTD payment_system_mean\": 0.8393593484574497,<br>    \"test_OTD payment_system_std\": 0.0,<br>    \"test_OTD mcc_category_mean\": 0.6935739629568743,<br>    \"test_OTD mcc_category_std\": 0.0,<br>    \"test_OTD card_type_mean\": 0.8630113293879117,<br>    \"test_OTD card_type_std\": 0.0,<br>    \"test_OTD mcc_mean\": 0.6314558331963396,<br>    \"test_OTD mcc_std\": 0.0,<br>    \"test_Cardinality on mcc_category gen_mean\": 5.800043838018522,<br>    \"test_Cardinality on mcc_category gen_std\": 0.0,<br>    \"test_Cardinality on mcc_category orig_mean\": 7.3954737245876485,<br>    \"test_Cardinality on mcc_category orig_std\": 0.0,<br>    \"test_F1_macro on mcc_category_mean\": 0.4408663205169176,<br>    \"test_F1_macro on mcc_category_std\": 0.0,<br>    \"test_F1_micro on mcc_category_mean\": 0.7069890815935119,<br>    \"test_F1_micro on mcc_category_std\": 0.0,<br>    \"memory_after_mean\": 79072.0,<br>    \"memory_after_std\": 0.0<br>  }<br>}",
          "{<br>  \"number\": 11,<br>  \"values\": [<br>    -94.95979045686268<br>  ],<br>  \"params\": {<br>    \"optimizer.params.weight_decay\": 0.00012114413416972491,<br>    \"optimizer.params.lr\": 0.0005765542826384634,<br>    \"model.latent_encoder.params.hidden_size\": 978,<br>    \"model.latent_encoder.params.num_layers\": 2,<br>    \"model.latent_encoder.params.dropout\": 1.821091130890719e-05,<br>    \"model.params.k_factor\": 2.0203328115799812,<br>    \"loss.params.matching_weights._presence\": 0.5520028035221987,<br>    \"model.autoencoder.params.num_norm\": true,<br>    \"model.autoencoder.params.cat_emb_dim\": 70,<br>    \"model.autoencoder.params.num_emb_dim\": 116<br>  },<br>  \"user_attrs\": {<br>    \"train_OTD overall_mean\": 0.7051347429348637,<br>    \"train_OTD overall_std\": 0.0,<br>    \"train_OTD hours_since_first_tx_mean\": 0.5580882977864209,<br>    \"train_OTD hours_since_first_tx_std\": 0.0,<br>    \"train_OTD amnt_mean\": 0.5314730336037731,<br>    \"train_OTD amnt_std\": 0.0,<br>    \"train_OTD payment_system_mean\": 0.8716746248294679,<br>    \"train_OTD payment_system_std\": 0.0,<br>    \"train_OTD mcc_category_mean\": 0.7203345270577535,<br>    \"train_OTD mcc_category_std\": 0.0,<br>    \"train_OTD card_type_mean\": 0.8886109847910666,<br>    \"train_OTD card_type_std\": 0.0,<br>    \"train_OTD mcc_mean\": 0.6606269895407003,<br>    \"train_OTD mcc_std\": 0.0,<br>    \"train_Cardinality on mcc_category gen_mean\": 6.263857308877773,<br>    \"train_Cardinality on mcc_category gen_std\": 0.0,<br>    \"train_Cardinality on mcc_category orig_mean\": 7.275504016977414,<br>    \"train_Cardinality on mcc_category orig_std\": 0.0,<br>    \"train_F1_macro on mcc_category_mean\": 0.4697214232800293,<br>    \"train_F1_macro on mcc_category_std\": 0.0,<br>    \"train_F1_micro on mcc_category_mean\": 0.732407565307463,<br>    \"train_F1_micro on mcc_category_std\": 0.0,<br>    \"loss_mean\": -94.95979045686268,<br>    \"loss_std\": 0.0,<br>    \"OTD overall_mean\": 0.6774918139308403,<br>    \"OTD overall_std\": 0.0,<br>    \"OTD hours_since_first_tx_mean\": 0.5721965174877576,<br>    \"OTD hours_since_first_tx_std\": 0.0,<br>    \"OTD amnt_mean\": 0.4007048683995026,<br>    \"OTD amnt_std\": 0.0,<br>    \"OTD payment_system_mean\": 0.8604367238733083,<br>    \"OTD payment_system_std\": 0.0,<br>    \"OTD mcc_category_mean\": 0.708512104088182,<br>    \"OTD mcc_category_std\": 0.0,<br>    \"OTD card_type_mean\": 0.875034882098507,<br>    \"OTD card_type_std\": 0.0,<br>    \"OTD mcc_mean\": 0.6480657876377843,<br>    \"OTD mcc_std\": 0.0,<br>    \"Cardinality on mcc_category gen_mean\": 6.311008790288824,<br>    \"Cardinality on mcc_category gen_std\": 0.0,<br>    \"Cardinality on mcc_category orig_mean\": 7.265383005441607,<br>    \"Cardinality on mcc_category orig_std\": 0.0,<br>    \"F1_macro on mcc_category_mean\": 0.4661588360039488,<br>    \"F1_macro on mcc_category_std\": 0.0,<br>    \"F1_micro on mcc_category_mean\": 0.7274051206920609,<br>    \"F1_micro on mcc_category_std\": 0.0,<br>    \"test_loss_mean\": -101.25323673323089,<br>    \"test_loss_std\": 0.0,<br>    \"test_OTD overall_mean\": 0.6618083769162196,<br>    \"test_OTD overall_std\": 0.0,<br>    \"test_OTD hours_since_first_tx_mean\": 0.6075286174412966,<br>    \"test_OTD hours_since_first_tx_std\": 0.0,<br>    \"test_OTD amnt_mean\": 0.31921306276389527,<br>    \"test_OTD amnt_std\": 0.0,<br>    \"test_OTD payment_system_mean\": 0.8468066743383199,<br>    \"test_OTD payment_system_std\": 0.0,<br>    \"test_OTD mcc_category_mean\": 0.7007644254479698,<br>    \"test_OTD mcc_category_std\": 0.0,<br>    \"test_OTD card_type_mean\": 0.8629496821743657,<br>    \"test_OTD card_type_std\": 0.0,<br>    \"test_OTD mcc_mean\": 0.6335877993314702,<br>    \"test_OTD mcc_std\": 0.0,<br>    \"test_Cardinality on mcc_category gen_mean\": 6.362540413173325,<br>    \"test_Cardinality on mcc_category gen_std\": 0.0,<br>    \"test_Cardinality on mcc_category orig_mean\": 7.3954737245876485,<br>    \"test_Cardinality on mcc_category orig_std\": 0.0,<br>    \"test_F1_macro on mcc_category_mean\": 0.4581929198871662,<br>    \"test_F1_macro on mcc_category_std\": 0.0,<br>    \"test_F1_micro on mcc_category_mean\": 0.7178030303030303,<br>    \"test_F1_micro on mcc_category_std\": 0.0,<br>    \"memory_after_mean\": 78034.0,<br>    \"memory_after_std\": 0.0<br>  }<br>}",
          "{<br>  \"number\": 12,<br>  \"values\": [<br>    -94.54970922924224<br>  ],<br>  \"params\": {<br>    \"optimizer.params.weight_decay\": 1.0461474777849252e-09,<br>    \"optimizer.params.lr\": 0.0034693257044096297,<br>    \"model.latent_encoder.params.hidden_size\": 24,<br>    \"model.latent_encoder.params.num_layers\": 1,<br>    \"model.latent_encoder.params.dropout\": 6.927897887804194e-08,<br>    \"model.params.k_factor\": 2.3450373008284457,<br>    \"loss.params.matching_weights._presence\": 0.8222831306806326,<br>    \"model.autoencoder.params.num_norm\": true,<br>    \"model.autoencoder.params.cat_emb_dim\": 11,<br>    \"model.autoencoder.params.num_emb_dim\": 69<br>  },<br>  \"user_attrs\": {<br>    \"train_OTD overall_mean\": 0.6713261061576175,<br>    \"train_OTD overall_std\": 0.0,<br>    \"train_OTD hours_since_first_tx_mean\": 0.5015311966291298,<br>    \"train_OTD hours_since_first_tx_std\": 0.0,<br>    \"train_OTD amnt_mean\": 0.43798771982468854,<br>    \"train_OTD amnt_std\": 0.0,<br>    \"train_OTD payment_system_mean\": 0.8548974397742163,<br>    \"train_OTD payment_system_std\": 0.0,<br>    \"train_OTD mcc_category_mean\": 0.7100783691160165,<br>    \"train_OTD mcc_category_std\": 0.0,<br>    \"train_OTD card_type_mean\": 0.8806359300977724,<br>    \"train_OTD card_type_std\": 0.0,<br>    \"train_OTD mcc_mean\": 0.6428259815038807,<br>    \"train_OTD mcc_std\": 0.0,<br>    \"train_Cardinality on mcc_category gen_mean\": 6.233368612035077,<br>    \"train_Cardinality on mcc_category gen_std\": 0.0,<br>    \"train_Cardinality on mcc_category orig_mean\": 7.290721701441387,<br>    \"train_Cardinality on mcc_category orig_std\": 0.0,<br>    \"train_F1_macro on mcc_category_mean\": 0.4566630462127479,<br>    \"train_F1_macro on mcc_category_std\": 0.0,<br>    \"train_F1_micro on mcc_category_mean\": 0.7251316651547223,<br>    \"train_F1_micro on mcc_category_std\": 0.0,<br>    \"loss_mean\": -94.54970922924224,<br>    \"loss_std\": 0.0,<br>    \"OTD overall_mean\": 0.6853832440183352,<br>    \"OTD overall_std\": 0.0,<br>    \"OTD hours_since_first_tx_mean\": 0.5842727763321008,<br>    \"OTD hours_since_first_tx_std\": 0.0,<br>    \"OTD amnt_mean\": 0.44745776075126054,<br>    \"OTD amnt_std\": 0.0,<br>    \"OTD payment_system_mean\": 0.8521522254778847,<br>    \"OTD payment_system_std\": 0.0,<br>    \"OTD mcc_category_mean\": 0.7110715780661364,<br>    \"OTD mcc_category_std\": 0.0,<br>    \"OTD card_type_mean\": 0.8742631156690387,<br>    \"OTD card_type_std\": 0.0,<br>    \"OTD mcc_mean\": 0.64308200781359,<br>    \"OTD mcc_std\": 0.0,<br>    \"Cardinality on mcc_category gen_mean\": 6.217106181107855,<br>    \"Cardinality on mcc_category gen_std\": 0.0,<br>    \"Cardinality on mcc_category orig_mean\": 7.265383005441607,<br>    \"Cardinality on mcc_category orig_std\": 0.0,<br>    \"F1_macro on mcc_category_mean\": 0.4548955084969656,<br>    \"F1_macro on mcc_category_std\": 0.0,<br>    \"F1_micro on mcc_category_mean\": 0.7250636598297754,<br>    \"F1_micro on mcc_category_std\": 0.0,<br>    \"test_loss_mean\": -105.39569574243882,<br>    \"test_loss_std\": 0.0,<br>    \"test_OTD overall_mean\": 0.6801395164435043,<br>    \"test_OTD overall_std\": 0.0,<br>    \"test_OTD hours_since_first_tx_mean\": 0.6201829406474096,<br>    \"test_OTD hours_since_first_tx_std\": 0.0,<br>    \"test_OTD amnt_mean\": 0.4135522620193146,<br>    \"test_OTD amnt_std\": 0.0,<br>    \"test_OTD payment_system_mean\": 0.8483684037481506,<br>    \"test_OTD payment_system_std\": 0.0,<br>    \"test_OTD mcc_category_mean\": 0.7049769850402762,<br>    \"test_OTD mcc_category_std\": 0.0,<br>    \"test_OTD card_type_mean\": 0.8627561784207354,<br>    \"test_OTD card_type_std\": 0.0,<br>    \"test_OTD mcc_mean\": 0.6310003287851389,<br>    \"test_OTD mcc_std\": 0.0,<br>    \"test_Cardinality on mcc_category gen_mean\": 6.266973532796317,<br>    \"test_Cardinality on mcc_category gen_std\": 0.0,<br>    \"test_Cardinality on mcc_category orig_mean\": 7.3954737245876485,<br>    \"test_Cardinality on mcc_category orig_std\": 0.0,<br>    \"test_F1_macro on mcc_category_mean\": 0.4542597933432898,<br>    \"test_F1_macro on mcc_category_std\": 0.0,<br>    \"test_F1_micro on mcc_category_mean\": 0.7197312181489397,<br>    \"test_F1_micro on mcc_category_std\": 0.0,<br>    \"memory_after_mean\": 74108.0,<br>    \"memory_after_std\": 0.0<br>  }<br>}",
          "{<br>  \"number\": 13,<br>  \"values\": [<br>    -94.54794157119025<br>  ],<br>  \"params\": {<br>    \"optimizer.params.weight_decay\": 1.9580871217609064e-05,<br>    \"optimizer.params.lr\": 0.00024108618640897,<br>    \"model.latent_encoder.params.hidden_size\": 458,<br>    \"model.latent_encoder.params.num_layers\": 1,<br>    \"model.latent_encoder.params.dropout\": 4.429376116482447e-08,<br>    \"model.params.k_factor\": 1.8088146649546637,<br>    \"loss.params.matching_weights._presence\": 1.021313835963079,<br>    \"model.autoencoder.params.num_norm\": true,<br>    \"model.autoencoder.params.cat_emb_dim\": 46,<br>    \"model.autoencoder.params.num_emb_dim\": 99<br>  },<br>  \"user_attrs\": {<br>    \"train_OTD overall_mean\": 0.6936115140432629,<br>    \"train_OTD overall_std\": 0.0,<br>    \"train_OTD hours_since_first_tx_mean\": 0.4810570588507654,<br>    \"train_OTD hours_since_first_tx_std\": 0.0,<br>    \"train_OTD amnt_mean\": 0.5313388246512372,<br>    \"train_OTD amnt_std\": 0.0,<br>    \"train_OTD payment_system_mean\": 0.8729403409090909,<br>    \"train_OTD payment_system_std\": 0.0,<br>    \"train_OTD mcc_category_mean\": 0.7244294507575758,<br>    \"train_OTD mcc_category_std\": 0.0,<br>    \"train_OTD card_type_mean\": 0.8903929924242424,<br>    \"train_OTD card_type_std\": 0.0,<br>    \"train_OTD mcc_mean\": 0.6615104166666667,<br>    \"train_OTD mcc_std\": 0.0,<br>    \"train_Cardinality on mcc_category gen_mean\": 7.028106060606061,<br>    \"train_Cardinality on mcc_category gen_std\": 0.0,<br>    \"train_Cardinality on mcc_category orig_mean\": 7.285075757575758,<br>    \"train_Cardinality on mcc_category orig_std\": 0.0,<br>    \"train_F1_macro on mcc_category_mean\": 0.4827963676433453,<br>    \"train_F1_macro on mcc_category_std\": 0.0,<br>    \"train_F1_micro on mcc_category_mean\": 0.7386213699494949,<br>    \"train_F1_micro on mcc_category_std\": 0.0,<br>    \"loss_mean\": -94.54794157119025,<br>    \"loss_std\": 0.0,<br>    \"OTD overall_mean\": 0.6963162650919604,<br>    \"OTD overall_std\": 0.0,<br>    \"OTD hours_since_first_tx_mean\": 0.5721965174877576,<br>    \"OTD hours_since_first_tx_std\": 0.0,<br>    \"OTD amnt_mean\": 0.49503761555040116,<br>    \"OTD amnt_std\": 0.0,<br>    \"OTD payment_system_mean\": 0.8626822589646993,<br>    \"OTD payment_system_std\": 0.0,<br>    \"OTD mcc_category_mean\": 0.716425980186968,<br>    \"OTD mcc_category_std\": 0.0,<br>    \"OTD card_type_mean\": 0.8774766289940003,<br>    \"OTD card_type_std\": 0.0,<br>    \"OTD mcc_mean\": 0.6540785893679364,<br>    \"OTD mcc_std\": 0.0,<br>    \"Cardinality on mcc_category gen_mean\": 7.042695688572625,<br>    \"Cardinality on mcc_category gen_std\": 0.0,<br>    \"Cardinality on mcc_category orig_mean\": 7.265383005441607,<br>    \"Cardinality on mcc_category orig_std\": 0.0,<br>    \"F1_macro on mcc_category_mean\": 0.4781769459833478,<br>    \"F1_macro on mcc_category_std\": 0.0,<br>    \"F1_micro on mcc_category_mean\": 0.732776963862146,<br>    \"F1_micro on mcc_category_std\": 0.0,<br>    \"test_loss_mean\": -102.55686288721421,<br>    \"test_loss_std\": 0.0,<br>    \"test_OTD overall_mean\": 0.687140989156342,<br>    \"test_OTD overall_std\": 0.0,<br>    \"test_OTD hours_since_first_tx_mean\": 0.6075286174412966,<br>    \"test_OTD hours_since_first_tx_std\": 0.0,<br>    \"test_OTD amnt_mean\": 0.4564510782507696,<br>    \"test_OTD amnt_std\": 0.0,<br>    \"test_OTD payment_system_mean\": 0.8460840320017535,<br>    \"test_OTD payment_system_std\": 0.0,<br>    \"test_OTD mcc_category_mean\": 0.7090576880924983,<br>    \"test_OTD mcc_category_std\": 0.0,<br>    \"test_OTD card_type_mean\": 0.8641055674283522,<br>    \"test_OTD card_type_std\": 0.0,<br>    \"test_OTD mcc_mean\": 0.6396189517233821,<br>    \"test_OTD mcc_std\": 0.0,<br>    \"test_Cardinality on mcc_category gen_mean\": 7.168995561400624,<br>    \"test_Cardinality on mcc_category gen_std\": 0.0,<br>    \"test_Cardinality on mcc_category orig_mean\": 7.3954737245876485,<br>    \"test_Cardinality on mcc_category orig_std\": 0.0,<br>    \"test_F1_macro on mcc_category_mean\": 0.47472143315388377,<br>    \"test_F1_macro on mcc_category_std\": 0.0,<br>    \"test_F1_micro on mcc_category_mean\": 0.7254198860211518,<br>    \"test_F1_micro on mcc_category_std\": 0.0,<br>    \"memory_after_mean\": 77936.0,<br>    \"memory_after_std\": 0.0<br>  }<br>}",
          "{<br>  \"number\": 14,<br>  \"values\": [<br>    -94.5073614574614<br>  ],<br>  \"params\": {<br>    \"optimizer.params.weight_decay\": 3.431616723210184e-13,<br>    \"optimizer.params.lr\": 0.0027753907724298887,<br>    \"model.latent_encoder.params.hidden_size\": 28,<br>    \"model.latent_encoder.params.num_layers\": 6,<br>    \"model.latent_encoder.params.dropout\": 6.6150436027275626e-09,<br>    \"model.params.k_factor\": 2.850062841094254,<br>    \"loss.params.matching_weights._presence\": 0.30789212596691684,<br>    \"model.autoencoder.params.num_norm\": true,<br>    \"model.autoencoder.params.cat_emb_dim\": 6,<br>    \"model.autoencoder.params.num_emb_dim\": 50<br>  },<br>  \"user_attrs\": {<br>    \"train_OTD overall_mean\": 0.3540681135868346,<br>    \"train_OTD overall_std\": 0.0,<br>    \"train_OTD hours_since_first_tx_mean\": -1.3528146550121203,<br>    \"train_OTD hours_since_first_tx_std\": 0.0,<br>    \"train_OTD amnt_mean\": 0.42149952466940416,<br>    \"train_OTD amnt_std\": 0.0,<br>    \"train_OTD payment_system_mean\": 0.8549037395423849,<br>    \"train_OTD payment_system_std\": 0.0,<br>    \"train_OTD mcc_category_mean\": 0.689538762473541,<br>    \"train_OTD mcc_category_std\": 0.0,<br>    \"train_OTD card_type_mean\": 0.8831644995464167,<br>    \"train_OTD card_type_std\": 0.0,<br>    \"train_OTD mcc_mean\": 0.6281168103013809,<br>    \"train_OTD mcc_std\": 0.0,<br>    \"train_Cardinality on mcc_category gen_mean\": 5.6002419110976716,<br>    \"train_Cardinality on mcc_category gen_std\": 0.0,<br>    \"train_Cardinality on mcc_category orig_mean\": 7.290721701441387,<br>    \"train_Cardinality on mcc_category orig_std\": 0.0,<br>    \"train_F1_macro on mcc_category_mean\": 0.4283714480652347,<br>    \"train_F1_macro on mcc_category_std\": 0.0,<br>    \"train_F1_micro on mcc_category_mean\": 0.7084199551456506,<br>    \"train_F1_micro on mcc_category_std\": 0.0,<br>    \"loss_mean\": -94.5073614574614,<br>    \"loss_std\": 0.0,<br>    \"OTD overall_mean\": 0.39617183156554986,<br>    \"OTD overall_std\": 0.0,<br>    \"OTD hours_since_first_tx_mean\": -1.1098560454970279,<br>    \"OTD hours_since_first_tx_std\": 0.0,<br>    \"OTD amnt_mean\": 0.4315858279697186,<br>    \"OTD amnt_std\": 0.0,<br>    \"OTD payment_system_mean\": 0.8549820357192689,<br>    \"OTD payment_system_std\": 0.0,<br>    \"OTD mcc_category_mean\": 0.6917338147062927,<br>    \"OTD mcc_category_std\": 0.0,<br>    \"OTD card_type_mean\": 0.8788675526719687,<br>    \"OTD card_type_std\": 0.0,<br>    \"OTD mcc_mean\": 0.629717803823078,<br>    \"OTD mcc_std\": 0.0,<br>    \"Cardinality on mcc_category gen_mean\": 5.5889493511929675,<br>    \"Cardinality on mcc_category gen_std\": 0.0,<br>    \"Cardinality on mcc_category orig_mean\": 7.265383005441607,<br>    \"Cardinality on mcc_category orig_std\": 0.0,<br>    \"F1_macro on mcc_category_mean\": 0.4295137293752042,<br>    \"F1_macro on mcc_category_std\": 0.0,<br>    \"F1_micro on mcc_category_mean\": 0.7091835844844426,<br>    \"F1_micro on mcc_category_std\": 0.0,<br>    \"test_loss_mean\": -108.44605763753255,<br>    \"test_loss_std\": 0.0,<br>    \"test_OTD overall_mean\": 0.4730621199203073,<br>    \"test_OTD overall_std\": 0.0,<br>    \"test_OTD hours_since_first_tx_mean\": -0.5614377947080437,<br>    \"test_OTD hours_since_first_tx_std\": 0.0,<br>    \"test_OTD amnt_mean\": 0.39467667127958833,<br>    \"test_OTD amnt_std\": 0.0,<br>    \"test_OTD payment_system_mean\": 0.8369653816647488,<br>    \"test_OTD payment_system_std\": 0.0,<br>    \"test_OTD mcc_category_mean\": 0.6860786892432462,<br>    \"test_OTD mcc_category_std\": 0.0,<br>    \"test_OTD card_type_mean\": 0.8645011370486054,<br>    \"test_OTD card_type_std\": 0.0,<br>    \"test_OTD mcc_mean\": 0.6175886349936983,<br>    \"test_OTD mcc_std\": 0.0,<br>    \"test_Cardinality on mcc_category gen_mean\": 5.750835662228067,<br>    \"test_Cardinality on mcc_category gen_std\": 0.0,<br>    \"test_Cardinality on mcc_category orig_mean\": 7.3954737245876485,<br>    \"test_Cardinality on mcc_category orig_std\": 0.0,<br>    \"test_F1_macro on mcc_category_mean\": 0.42861666458820624,<br>    \"test_F1_macro on mcc_category_std\": 0.0,<br>    \"test_F1_micro on mcc_category_mean\": 0.7028347443695545,<br>    \"test_F1_micro on mcc_category_std\": 0.0,<br>    \"memory_after_mean\": 79516.0,<br>    \"memory_after_std\": 0.0<br>  }<br>}",
          "{<br>  \"number\": 15,<br>  \"values\": [<br>    -93.56614258175804<br>  ],<br>  \"params\": {<br>    \"optimizer.params.weight_decay\": 6.488278411046057e-09,<br>    \"optimizer.params.lr\": 0.0070296190724466225,<br>    \"model.latent_encoder.params.hidden_size\": 29,<br>    \"model.latent_encoder.params.num_layers\": 1,<br>    \"model.latent_encoder.params.dropout\": 0.0010603496608359985,<br>    \"model.params.k_factor\": 2.244551195940945,<br>    \"loss.params.matching_weights._presence\": 0.9805725579951259,<br>    \"model.autoencoder.params.num_norm\": false,<br>    \"model.autoencoder.params.cat_emb_dim\": 18,<br>    \"model.autoencoder.params.num_emb_dim\": 67<br>  },<br>  \"user_attrs\": {<br>    \"train_OTD overall_mean\": 0.6727474525392078,<br>    \"train_OTD overall_std\": 0.0,<br>    \"train_OTD hours_since_first_tx_mean\": 0.48772706783853853,<br>    \"train_OTD hours_since_first_tx_std\": 0.0,<br>    \"train_OTD amnt_mean\": 0.4446886271366536,<br>    \"train_OTD amnt_std\": 0.0,<br>    \"train_OTD payment_system_mean\": 0.8613995879951618,<br>    \"train_OTD payment_system_std\": 0.0,<br>    \"train_OTD mcc_category_mean\": 0.7141338448745086,<br>    \"train_OTD mcc_category_std\": 0.0,<br>    \"train_OTD card_type_mean\": 0.882824312065316,<br>    \"train_OTD card_type_std\": 0.0,<br>    \"train_OTD mcc_mean\": 0.645711275325068,<br>    \"train_OTD mcc_std\": 0.0,<br>    \"train_Cardinality on mcc_category gen_mean\": 6.653789940530189,<br>    \"train_Cardinality on mcc_category gen_std\": 0.0,<br>    \"train_Cardinality on mcc_category orig_mean\": 7.290721701441387,<br>    \"train_Cardinality on mcc_category orig_std\": 0.0,<br>    \"train_F1_macro on mcc_category_mean\": 0.46832044650722576,<br>    \"train_F1_macro on mcc_category_std\": 0.0,<br>    \"train_F1_micro on mcc_category_mean\": 0.729822630027215,<br>    \"train_F1_micro on mcc_category_std\": 0.0,<br>    \"loss_mean\": -93.56614258175804,<br>    \"loss_std\": 0.0,<br>    \"OTD overall_mean\": 0.6878059190243891,<br>    \"OTD overall_std\": 0.0,<br>    \"OTD hours_since_first_tx_mean\": 0.5721965174877576,<br>    \"OTD hours_since_first_tx_std\": 0.0,<br>    \"OTD amnt_mean\": 0.456363044377288,<br>    \"OTD amnt_std\": 0.0,<br>    \"OTD payment_system_mean\": 0.8595559508860053,<br>    \"OTD payment_system_std\": 0.0,<br>    \"OTD mcc_category_mean\": 0.7152094670015348,<br>    \"OTD mcc_category_std\": 0.0,<br>    \"OTD card_type_mean\": 0.877576915027208,<br>    \"OTD card_type_std\": 0.0,<br>    \"OTD mcc_mean\": 0.6459336193665411,<br>    \"OTD mcc_std\": 0.0,<br>    \"Cardinality on mcc_category gen_mean\": 6.624668620064183,<br>    \"Cardinality on mcc_category gen_std\": 0.0,<br>    \"Cardinality on mcc_category orig_mean\": 7.265383005441607,<br>    \"Cardinality on mcc_category orig_std\": 0.0,<br>    \"F1_macro on mcc_category_mean\": 0.46811826958232794,<br>    \"F1_macro on mcc_category_std\": 0.0,<br>    \"F1_micro on mcc_category_mean\": 0.7303482977535929,<br>    \"F1_micro on mcc_category_std\": 0.0,<br>    \"test_loss_mean\": -103.6008482540355,<br>    \"test_loss_std\": 0.0,<br>    \"test_OTD overall_mean\": 0.6804678147366875,<br>    \"test_OTD overall_std\": 0.0,<br>    \"test_OTD hours_since_first_tx_mean\": 0.6075286174412966,<br>    \"test_OTD hours_since_first_tx_std\": 0.0,<br>    \"test_OTD amnt_mean\": 0.4159291285600658,<br>    \"test_OTD amnt_std\": 0.0,<br>    \"test_OTD payment_system_mean\": 0.8528498136884213,<br>    \"test_OTD payment_system_std\": 0.0,<br>    \"test_OTD mcc_category_mean\": 0.7086706805852375,<br>    \"test_OTD mcc_category_std\": 0.0,<br>    \"test_OTD card_type_mean\": 0.8652220669625733,<br>    \"test_OTD card_type_std\": 0.0,<br>    \"test_OTD mcc_mean\": 0.6326065811825305,<br>    \"test_OTD mcc_std\": 0.0,<br>    \"test_Cardinality on mcc_category gen_mean\": 6.7302865910460845,<br>    \"test_Cardinality on mcc_category gen_std\": 0.0,<br>    \"test_Cardinality on mcc_category orig_mean\": 7.3954737245876485,<br>    \"test_Cardinality on mcc_category orig_std\": 0.0,<br>    \"test_F1_macro on mcc_category_mean\": 0.465883522715229,<br>    \"test_F1_macro on mcc_category_std\": 0.0,<br>    \"test_F1_micro on mcc_category_mean\": 0.7240242616033755,<br>    \"test_F1_micro on mcc_category_std\": 0.0,<br>    \"memory_after_mean\": 62180.0,<br>    \"memory_after_std\": 0.0<br>  }<br>}",
          "{<br>  \"number\": 16,<br>  \"values\": [<br>    -93.4445618220738<br>  ],<br>  \"params\": {<br>    \"optimizer.params.weight_decay\": 2.826738385124281e-11,<br>    \"optimizer.params.lr\": 0.0003654471612580217,<br>    \"model.latent_encoder.params.hidden_size\": 115,<br>    \"model.latent_encoder.params.num_layers\": 5,<br>    \"model.latent_encoder.params.dropout\": 0.08095935357864135,<br>    \"model.params.k_factor\": 2.497435443787192,<br>    \"loss.params.matching_weights._presence\": 0.15014726987181232,<br>    \"model.autoencoder.params.num_norm\": true,<br>    \"model.autoencoder.params.cat_emb_dim\": 47,<br>    \"model.autoencoder.params.num_emb_dim\": 71<br>  },<br>  \"user_attrs\": {<br>    \"train_OTD overall_mean\": 0.24937736894471638,<br>    \"train_OTD overall_std\": 0.0,<br>    \"train_OTD hours_since_first_tx_mean\": -2.0372335278865563,<br>    \"train_OTD hours_since_first_tx_std\": 0.0,<br>    \"train_OTD amnt_mean\": 0.4482114800892763,<br>    \"train_OTD amnt_std\": 0.0,<br>    \"train_OTD payment_system_mean\": 0.861638979185566,<br>    \"train_OTD payment_system_std\": 0.0,<br>    \"train_OTD mcc_category_mean\": 0.6975741167725028,<br>    \"train_OTD mcc_category_std\": 0.0,<br>    \"train_OTD card_type_mean\": 0.8877570305412761,<br>    \"train_OTD card_type_std\": 0.0,<br>    \"train_OTD mcc_mean\": 0.6383161349662333,<br>    \"train_OTD mcc_std\": 0.0,<br>    \"train_Cardinality on mcc_category gen_mean\": 5.6817609111984675,<br>    \"train_Cardinality on mcc_category gen_std\": 0.0,<br>    \"train_Cardinality on mcc_category orig_mean\": 7.290721701441387,<br>    \"train_Cardinality on mcc_category orig_std\": 0.0,<br>    \"train_F1_macro on mcc_category_mean\": 0.44095696742145374,<br>    \"train_F1_macro on mcc_category_std\": 0.0,<br>    \"train_F1_micro on mcc_category_mean\": 0.7154126978127205,<br>    \"train_F1_micro on mcc_category_std\": 0.0,<br>    \"loss_mean\": -93.4445618220738,<br>    \"loss_std\": 0.0,<br>    \"OTD overall_mean\": 0.3392727088912299,<br>    \"OTD overall_std\": 0.0,<br>    \"OTD hours_since_first_tx_mean\": -1.500982291200668,<br>    \"OTD hours_since_first_tx_std\": 0.0,<br>    \"OTD amnt_mean\": 0.46025727065380984,<br>    \"OTD amnt_std\": 0.0,<br>    \"OTD payment_system_mean\": 0.8589978373098925,<br>    \"OTD payment_system_std\": 0.0,<br>    \"OTD mcc_category_mean\": 0.6980125924375611,<br>    \"OTD mcc_category_std\": 0.0,<br>    \"OTD card_type_mean\": 0.8814444676991768,<br>    \"OTD card_type_std\": 0.0,<br>    \"OTD mcc_mean\": 0.6379063764476071,<br>    \"OTD mcc_std\": 0.0,<br>    \"Cardinality on mcc_category gen_mean\": 5.682014790009767,<br>    \"Cardinality on mcc_category gen_std\": 0.0,<br>    \"Cardinality on mcc_category orig_mean\": 7.265383005441607,<br>    \"Cardinality on mcc_category orig_std\": 0.0,<br>    \"F1_macro on mcc_category_mean\": 0.44050251196430223,<br>    \"F1_macro on mcc_category_std\": 0.0,<br>    \"F1_micro on mcc_category_mean\": 0.71507429886982,<br>    \"F1_micro on mcc_category_std\": 0.0,<br>    \"test_loss_mean\": -105.51587138456456,<br>    \"test_loss_std\": 0.0,<br>    \"test_OTD overall_mean\": 0.236570982344956,<br>    \"test_OTD overall_std\": 0.0,<br>    \"test_OTD hours_since_first_tx_mean\": -2.023354526936724,<br>    \"test_OTD hours_since_first_tx_std\": 0.0,<br>    \"test_OTD amnt_mean\": 0.41463504317753785,<br>    \"test_OTD amnt_std\": 0.0,<br>    \"test_OTD payment_system_mean\": 0.8450548660200559,<br>    \"test_OTD payment_system_std\": 0.0,<br>    \"test_OTD mcc_category_mean\": 0.6904145432626445,<br>    \"test_OTD mcc_category_std\": 0.0,<br>    \"test_OTD card_type_mean\": 0.8691760507425065,<br>    \"test_OTD card_type_std\": 0.0,<br>    \"test_OTD mcc_mean\": 0.6234999178037153,<br>    \"test_OTD mcc_std\": 0.0,<br>    \"test_Cardinality on mcc_category gen_mean\": 5.887007507260672,<br>    \"test_Cardinality on mcc_category gen_std\": 0.0,<br>    \"test_Cardinality on mcc_category orig_mean\": 7.3954737245876485,<br>    \"test_Cardinality on mcc_category orig_std\": 0.0,<br>    \"test_F1_macro on mcc_category_mean\": 0.4361761073422048,<br>    \"test_F1_macro on mcc_category_std\": 0.0,<br>    \"test_F1_micro on mcc_category_mean\": 0.7065798125924708,<br>    \"test_F1_micro on mcc_category_std\": 0.0,<br>    \"memory_after_mean\": 77724.0,<br>    \"memory_after_std\": 0.0<br>  }<br>}",
          "{<br>  \"number\": 17,<br>  \"values\": [<br>    -93.14437593732562<br>  ],<br>  \"params\": {<br>    \"optimizer.params.weight_decay\": 0.007962229237435227,<br>    \"optimizer.params.lr\": 0.0017193323743885287,<br>    \"model.latent_encoder.params.hidden_size\": 287,<br>    \"model.latent_encoder.params.num_layers\": 3,<br>    \"model.latent_encoder.params.dropout\": 0.0002639297896527356,<br>    \"model.params.k_factor\": 2.2414149652580706,<br>    \"loss.params.matching_weights._presence\": 0.053129069155176345,<br>    \"model.autoencoder.params.num_norm\": false,<br>    \"model.autoencoder.params.cat_emb_dim\": 43,<br>    \"model.autoencoder.params.num_emb_dim\": 83<br>  },<br>  \"user_attrs\": {<br>    \"train_OTD overall_mean\": 0.6779771135766955,<br>    \"train_OTD overall_std\": 0.0,<br>    \"train_OTD hours_since_first_tx_mean\": 0.48772706783853864,<br>    \"train_OTD hours_since_first_tx_std\": 0.0,<br>    \"train_OTD amnt_mean\": 0.4816537002560466,<br>    \"train_OTD amnt_std\": 0.0,<br>    \"train_OTD payment_system_mean\": 0.8652400841649027,<br>    \"train_OTD payment_system_std\": 0.0,<br>    \"train_OTD mcc_category_mean\": 0.7004641354198166,<br>    \"train_OTD mcc_category_std\": 0.0,<br>    \"train_OTD card_type_mean\": 0.8899351753855458,<br>    \"train_OTD card_type_std\": 0.0,<br>    \"train_OTD mcc_mean\": 0.642842518395323,<br>    \"train_OTD mcc_std\": 0.0,<br>    \"train_Cardinality on mcc_category gen_mean\": 5.4853089406309845,<br>    \"train_Cardinality on mcc_category gen_std\": 0.0,<br>    \"train_Cardinality on mcc_category orig_mean\": 7.290721701441387,<br>    \"train_Cardinality on mcc_category orig_std\": 0.0,<br>    \"train_F1_macro on mcc_category_mean\": 0.43952782416319414,<br>    \"train_F1_macro on mcc_category_std\": 0.0,<br>    \"train_F1_micro on mcc_category_mean\": 0.7154394718274367,<br>    \"train_F1_micro on mcc_category_std\": 0.0,<br>    \"loss_mean\": -93.14437593732562,<br>    \"loss_std\": 0.0,<br>    \"OTD overall_mean\": 0.6931893281636077,<br>    \"OTD overall_std\": 0.0,<br>    \"OTD hours_since_first_tx_mean\": 0.5721965174877576,<br>    \"OTD hours_since_first_tx_std\": 0.0,<br>    \"OTD amnt_mean\": 0.49105292296033126,<br>    \"OTD amnt_std\": 0.0,<br>    \"OTD payment_system_mean\": 0.8646051346449002,<br>    \"OTD payment_system_std\": 0.0,<br>    \"OTD mcc_category_mean\": 0.7007639179573043,<br>    \"OTD mcc_category_std\": 0.0,<br>    \"OTD card_type_mean\": 0.8869950816241106,<br>    \"OTD card_type_std\": 0.0,<br>    \"OTD mcc_mean\": 0.6435223943072416,<br>    \"OTD mcc_std\": 0.0,<br>    \"Cardinality on mcc_category gen_mean\": 5.476210408818194,<br>    \"Cardinality on mcc_category gen_std\": 0.0,<br>    \"Cardinality on mcc_category orig_mean\": 7.265383005441607,<br>    \"Cardinality on mcc_category orig_std\": 0.0,<br>    \"F1_macro on mcc_category_mean\": 0.43939963773996427,<br>    \"F1_macro on mcc_category_std\": 0.0,<br>    \"F1_micro on mcc_category_mean\": 0.7154536416910842,<br>    \"F1_micro on mcc_category_std\": 0.0,<br>    \"test_loss_mean\": -97.94591668072869,<br>    \"test_loss_std\": 0.0,<br>    \"test_OTD overall_mean\": 0.6843458151379891,<br>    \"test_OTD overall_std\": 0.0,<br>    \"test_OTD hours_since_first_tx_mean\": 0.6075286174412966,<br>    \"test_OTD hours_since_first_tx_std\": 0.0,<br>    \"test_OTD amnt_mean\": 0.4488569068460059,<br>    \"test_OTD amnt_std\": 0.0,<br>    \"test_OTD payment_system_mean\": 0.8503274152008329,<br>    \"test_OTD payment_system_std\": 0.0,<br>    \"test_OTD mcc_category_mean\": 0.6941048139624089,<br>    \"test_OTD mcc_category_std\": 0.0,<br>    \"test_OTD card_type_mean\": 0.8754674913693901,<br>    \"test_OTD card_type_std\": 0.0,<br>    \"test_OTD mcc_mean\": 0.6297896460080005,<br>    \"test_OTD mcc_std\": 0.0,<br>    \"test_Cardinality on mcc_category gen_mean\": 5.568414707655214,<br>    \"test_Cardinality on mcc_category gen_std\": 0.0,<br>    \"test_Cardinality on mcc_category orig_mean\": 7.3954737245876485,<br>    \"test_Cardinality on mcc_category orig_std\": 0.0,<br>    \"test_F1_macro on mcc_category_mean\": 0.4350638603249143,<br>    \"test_F1_macro on mcc_category_std\": 0.0,<br>    \"test_F1_micro on mcc_category_mean\": 0.7080696202531646,<br>    \"test_F1_micro on mcc_category_std\": 0.0,<br>    \"memory_after_mean\": 70888.0,<br>    \"memory_after_std\": 0.0<br>  }<br>}",
          "{<br>  \"number\": 18,<br>  \"values\": [<br>    -92.9058766137986<br>  ],<br>  \"params\": {<br>    \"optimizer.params.weight_decay\": 0.006827944810789904,<br>    \"optimizer.params.lr\": 0.00011099554751202387,<br>    \"model.latent_encoder.params.hidden_size\": 583,<br>    \"model.latent_encoder.params.num_layers\": 1,<br>    \"model.latent_encoder.params.dropout\": 4.069283245735759e-05,<br>    \"model.params.k_factor\": 2.7027223503432403,<br>    \"loss.params.matching_weights._presence\": 0.8570553486015384,<br>    \"model.autoencoder.params.num_norm\": true,<br>    \"model.autoencoder.params.cat_emb_dim\": 30,<br>    \"model.autoencoder.params.num_emb_dim\": 99<br>  },<br>  \"user_attrs\": {<br>    \"train_OTD overall_mean\": 0.6813725086606807,<br>    \"train_OTD overall_std\": 0.0,<br>    \"train_OTD hours_since_first_tx_mean\": 0.4877270678385387,<br>    \"train_OTD hours_since_first_tx_std\": 0.0,<br>    \"train_OTD amnt_mean\": 0.49692955831161517,<br>    \"train_OTD amnt_std\": 0.0,<br>    \"train_OTD payment_system_mean\": 0.8653700168833787,<br>    \"train_OTD payment_system_std\": 0.0,<br>    \"train_OTD mcc_category_mean\": 0.7128093186170749,<br>    \"train_OTD mcc_category_std\": 0.0,<br>    \"train_OTD card_type_mean\": 0.8787271003427074,<br>    \"train_OTD card_type_std\": 0.0,<br>    \"train_OTD mcc_mean\": 0.646671989970769,<br>    \"train_OTD mcc_std\": 0.0,<br>    \"train_Cardinality on mcc_category gen_mean\": 6.4227396431811306,<br>    \"train_Cardinality on mcc_category gen_std\": 0.0,<br>    \"train_Cardinality on mcc_category orig_mean\": 7.290721701441387,<br>    \"train_Cardinality on mcc_category orig_std\": 0.0,<br>    \"train_F1_macro on mcc_category_mean\": 0.4622320600598155,<br>    \"train_F1_macro on mcc_category_std\": 0.0,<br>    \"train_F1_micro on mcc_category_mean\": 0.7284689673420018,<br>    \"train_F1_micro on mcc_category_std\": 0.0,<br>    \"loss_mean\": -92.9058766137986,<br>    \"loss_std\": 0.0,<br>    \"OTD overall_mean\": 0.6961281127983435,<br>    \"OTD overall_std\": 0.0,<br>    \"OTD hours_since_first_tx_mean\": 0.5721965174877576,<br>    \"OTD hours_since_first_tx_std\": 0.0,<br>    \"OTD amnt_mean\": 0.5037672548792536,<br>    \"OTD amnt_std\": 0.0,<br>    \"OTD payment_system_mean\": 0.8632665341146923,<br>    \"OTD payment_system_std\": 0.0,<br>    \"OTD mcc_category_mean\": 0.7134566415515557,<br>    \"OTD mcc_category_std\": 0.0,<br>    \"OTD card_type_mean\": 0.8765958560066973,<br>    \"OTD card_type_std\": 0.0,<br>    \"OTD mcc_mean\": 0.6474858727501046,<br>    \"OTD mcc_std\": 0.0,<br>    \"Cardinality on mcc_category gen_mean\": 6.410073950048835,<br>    \"Cardinality on mcc_category gen_std\": 0.0,<br>    \"Cardinality on mcc_category orig_mean\": 7.265383005441607,<br>    \"Cardinality on mcc_category orig_std\": 0.0,<br>    \"F1_macro on mcc_category_mean\": 0.4622885111036508,<br>    \"F1_macro on mcc_category_std\": 0.0,<br>    \"F1_micro on mcc_category_mean\": 0.7287262801730152,<br>    \"F1_micro on mcc_category_std\": 0.0,<br>    \"test_loss_mean\": -98.33185248281441,<br>    \"test_loss_std\": 0.0,<br>    \"test_OTD overall_mean\": 0.6884001964841536,<br>    \"test_OTD overall_std\": 0.0,<br>    \"test_OTD hours_since_first_tx_mean\": 0.6075286174412966,<br>    \"test_OTD hours_since_first_tx_std\": 0.0,<br>    \"test_OTD amnt_mean\": 0.4671092319661181,<br>    \"test_OTD amnt_std\": 0.0,<br>    \"test_OTD payment_system_mean\": 0.8508205929092005,<br>    \"test_OTD payment_system_std\": 0.0,<br>    \"test_OTD mcc_category_mean\": 0.7069531207189435,<br>    \"test_OTD mcc_category_std\": 0.0,<br>    \"test_OTD card_type_mean\": 0.8642083127842621,<br>    \"test_OTD card_type_std\": 0.0,<br>    \"test_OTD mcc_mean\": 0.6337813030851005,<br>    \"test_OTD mcc_std\": 0.0,<br>    \"test_Cardinality on mcc_category gen_mean\": 6.515151515151516,<br>    \"test_Cardinality on mcc_category gen_std\": 0.0,<br>    \"test_Cardinality on mcc_category orig_mean\": 7.3954737245876485,<br>    \"test_Cardinality on mcc_category orig_std\": 0.0,<br>    \"test_F1_macro on mcc_category_mean\": 0.46032347101256654,<br>    \"test_F1_macro on mcc_category_std\": 0.0,<br>    \"test_F1_micro on mcc_category_mean\": 0.7216953668694175,<br>    \"test_F1_micro on mcc_category_std\": 0.0,<br>    \"memory_after_mean\": 75312.0,<br>    \"memory_after_std\": 0.0<br>  }<br>}",
          "{<br>  \"number\": 19,<br>  \"values\": [<br>    -92.84316026596795<br>  ],<br>  \"params\": {<br>    \"optimizer.params.weight_decay\": 0.00021403820454458675,<br>    \"optimizer.params.lr\": 0.0021275587372877073,<br>    \"model.latent_encoder.params.hidden_size\": 38,<br>    \"model.latent_encoder.params.num_layers\": 1,<br>    \"model.latent_encoder.params.dropout\": 1.5541698683800504e-08,<br>    \"model.params.k_factor\": 2.7333721082079734,<br>    \"loss.params.matching_weights._presence\": 1.3776926408379064,<br>    \"model.autoencoder.params.num_norm\": false,<br>    \"model.autoencoder.params.cat_emb_dim\": 14,<br>    \"model.autoencoder.params.num_emb_dim\": 94<br>  },<br>  \"user_attrs\": {<br>    \"train_OTD overall_mean\": 0.6883548727889774,<br>    \"train_OTD overall_std\": 0.0,<br>    \"train_OTD hours_since_first_tx_mean\": 0.48560391504562767,<br>    \"train_OTD hours_since_first_tx_std\": 0.0,<br>    \"train_OTD amnt_mean\": 0.5169107139266814,<br>    \"train_OTD amnt_std\": 0.0,<br>    \"train_OTD payment_system_mean\": 0.86547062939708,<br>    \"train_OTD payment_system_std\": 0.0,<br>    \"train_OTD mcc_category_mean\": 0.7237081410595859,<br>    \"train_OTD mcc_category_std\": 0.0,<br>    \"train_OTD card_type_mean\": 0.8845112464382077,<br>    \"train_OTD card_type_std\": 0.0,<br>    \"train_OTD mcc_mean\": 0.6539245908666818,<br>    \"train_OTD mcc_std\": 0.0,<br>    \"train_Cardinality on mcc_category gen_mean\": 7.619663615502938,<br>    \"train_Cardinality on mcc_category gen_std\": 0.0,<br>    \"train_Cardinality on mcc_category orig_mean\": 7.262097485941952,<br>    \"train_Cardinality on mcc_category orig_std\": 0.0,<br>    \"train_F1_macro on mcc_category_mean\": 0.4801228860865513,<br>    \"train_F1_macro on mcc_category_std\": 0.0,<br>    \"train_F1_micro on mcc_category_mean\": 0.7362547910835414,<br>    \"train_F1_micro on mcc_category_std\": 0.0,<br>    \"loss_mean\": -92.84316026596795,<br>    \"loss_std\": 0.0,<br>    \"OTD overall_mean\": 0.6911414186181798,<br>    \"OTD overall_std\": 0.0,<br>    \"OTD hours_since_first_tx_mean\": 0.5721965174877576,<br>    \"OTD hours_since_first_tx_std\": 0.0,<br>    \"OTD amnt_mean\": 0.46608146261814004,<br>    \"OTD amnt_std\": 0.0,<br>    \"OTD payment_system_mean\": 0.861086402958002,<br>    \"OTD payment_system_std\": 0.0,<br>    \"OTD mcc_category_mean\": 0.7188241244593274,<br>    \"OTD mcc_category_std\": 0.0,<br>    \"OTD card_type_mean\": 0.8785274522115251,<br>    \"OTD card_type_std\": 0.0,<br>    \"OTD mcc_mean\": 0.6501325519743267,<br>    \"OTD mcc_std\": 0.0,<br>    \"Cardinality on mcc_category gen_mean\": 7.610576252267337,<br>    \"Cardinality on mcc_category gen_std\": 0.0,<br>    \"Cardinality on mcc_category orig_mean\": 7.265383005441607,<br>    \"Cardinality on mcc_category orig_std\": 0.0,<br>    \"F1_macro on mcc_category_mean\": 0.47847437936553283,<br>    \"F1_macro on mcc_category_std\": 0.0,<br>    \"F1_micro on mcc_category_mean\": 0.7350094181665969,<br>    \"F1_micro on mcc_category_std\": 0.0,<br>    \"test_loss_mean\": -98.11967569238999,<br>    \"test_loss_std\": 0.0,<br>    \"test_OTD overall_mean\": 0.6853891421260281,<br>    \"test_OTD overall_std\": 0.0,<br>    \"test_OTD hours_since_first_tx_mean\": 0.6075286174412966,<br>    \"test_OTD hours_since_first_tx_std\": 0.0,<br>    \"test_OTD amnt_mean\": 0.43001104105765214,<br>    \"test_OTD amnt_std\": 0.0,<br>    \"test_OTD payment_system_mean\": 0.8568620198367034,<br>    \"test_OTD payment_system_std\": 0.0,<br>    \"test_OTD mcc_category_mean\": 0.7138901446654611,<br>    \"test_OTD mcc_category_std\": 0.0,<br>    \"test_OTD card_type_mean\": 0.8655183160721135,<br>    \"test_OTD card_type_std\": 0.0,<br>    \"test_OTD mcc_mean\": 0.6385247136829415,<br>    \"test_OTD mcc_std\": 0.0,<br>    \"test_Cardinality on mcc_category gen_mean\": 7.59997808099074,<br>    \"test_Cardinality on mcc_category gen_std\": 0.0,<br>    \"test_Cardinality on mcc_category orig_mean\": 7.3954737245876485,<br>    \"test_Cardinality on mcc_category orig_std\": 0.0,<br>    \"test_F1_macro on mcc_category_mean\": 0.4779698765113086,<br>    \"test_F1_macro on mcc_category_std\": 0.0,<br>    \"test_F1_micro on mcc_category_mean\": 0.729872184777248,<br>    \"test_F1_micro on mcc_category_std\": 0.0,<br>    \"memory_after_mean\": 79188.0,<br>    \"memory_after_std\": 0.0<br>  }<br>}",
          "{<br>  \"number\": 20,<br>  \"values\": [<br>    -92.78221048627582<br>  ],<br>  \"params\": {<br>    \"optimizer.params.weight_decay\": 4.7200777808841906e-05,<br>    \"optimizer.params.lr\": 0.0006866207048698898,<br>    \"model.latent_encoder.params.hidden_size\": 334,<br>    \"model.latent_encoder.params.num_layers\": 1,<br>    \"model.latent_encoder.params.dropout\": 7.546929911920839e-07,<br>    \"model.params.k_factor\": 2.1703882150843965,<br>    \"loss.params.matching_weights._presence\": 1.2914235513725902,<br>    \"model.autoencoder.params.num_norm\": true,<br>    \"model.autoencoder.params.cat_emb_dim\": 10,<br>    \"model.autoencoder.params.num_emb_dim\": 125<br>  },<br>  \"user_attrs\": {<br>    \"train_OTD overall_mean\": 0.7081322371572244,<br>    \"train_OTD overall_std\": 0.0,<br>    \"train_OTD hours_since_first_tx_mean\": 0.5974624426431592,<br>    \"train_OTD hours_since_first_tx_std\": 0.0,<br>    \"train_OTD amnt_mean\": 0.49806243737849987,<br>    \"train_OTD amnt_std\": 0.0,<br>    \"train_OTD payment_system_mean\": 0.8719855986445784,<br>    \"train_OTD payment_system_std\": 0.0,<br>    \"train_OTD mcc_category_mean\": 0.7269319465361446,<br>    \"train_OTD mcc_category_std\": 0.0,<br>    \"train_OTD card_type_mean\": 0.8909536583835341,<br>    \"train_OTD card_type_std\": 0.0,<br>    \"train_OTD mcc_mean\": 0.6633973393574297,<br>    \"train_OTD mcc_std\": 0.0,<br>    \"train_Cardinality on mcc_category gen_mean\": 7.3310993975903616,<br>    \"train_Cardinality on mcc_category gen_std\": 0.0,<br>    \"train_Cardinality on mcc_category orig_mean\": 7.284111445783132,<br>    \"train_Cardinality on mcc_category orig_std\": 0.0,<br>    \"train_F1_macro on mcc_category_mean\": 0.49182630355009066,<br>    \"train_F1_macro on mcc_category_std\": 0.0,<br>    \"train_F1_micro on mcc_category_mean\": 0.7432024974899598,<br>    \"train_F1_micro on mcc_category_std\": 0.0,<br>    \"loss_mean\": -92.78221048627582,<br>    \"loss_std\": 0.0,<br>    \"OTD overall_mean\": 0.6994903797951005,<br>    \"OTD overall_std\": 0.0,<br>    \"OTD hours_since_first_tx_mean\": 0.5721965174877576,<br>    \"OTD hours_since_first_tx_std\": 0.0,<br>    \"OTD amnt_mean\": 0.5041627070063005,<br>    \"OTD amnt_std\": 0.0,<br>    \"OTD payment_system_mean\": 0.8640208594949073,<br>    \"OTD payment_system_std\": 0.0,<br>    \"OTD mcc_category_mean\": 0.7220768801451095,<br>    \"OTD mcc_category_std\": 0.0,<br>    \"OTD card_type_mean\": 0.8756147969861867,<br>    \"OTD card_type_std\": 0.0,<br>    \"OTD mcc_mean\": 0.6588705176503419,<br>    \"OTD mcc_std\": 0.0,<br>    \"Cardinality on mcc_category gen_mean\": 7.34435607646156,<br>    \"Cardinality on mcc_category gen_std\": 0.0,<br>    \"Cardinality on mcc_category orig_mean\": 7.265383005441607,<br>    \"Cardinality on mcc_category orig_std\": 0.0,<br>    \"F1_macro on mcc_category_mean\": 0.48780437332495047,<br>    \"F1_macro on mcc_category_std\": 0.0,<br>    \"F1_micro on mcc_category_mean\": 0.7384060625087205,<br>    \"F1_micro on mcc_category_std\": 0.0,<br>    \"test_loss_mean\": -100.01682042140587,<br>    \"test_loss_std\": 0.0,<br>    \"test_OTD overall_mean\": 0.6906281134814227,<br>    \"test_OTD overall_std\": 0.0,<br>    \"test_OTD hours_since_first_tx_mean\": 0.6075286174412966,<br>    \"test_OTD hours_since_first_tx_std\": 0.0,<br>    \"test_OTD amnt_mean\": 0.46779110734005575,<br>    \"test_OTD amnt_std\": 0.0,<br>    \"test_OTD payment_system_mean\": 0.8457980574278042,<br>    \"test_OTD payment_system_std\": 0.0,<br>    \"test_OTD mcc_category_mean\": 0.7144946298427312,<br>    \"test_OTD mcc_category_std\": 0.0,<br>    \"test_OTD card_type_mean\": 0.8632801797358759,<br>    \"test_OTD card_type_std\": 0.0,<br>    \"test_OTD mcc_mean\": 0.6448760891007727,<br>    \"test_OTD mcc_std\": 0.0,<br>    \"test_Cardinality on mcc_category gen_mean\": 7.42188613074689,<br>    \"test_Cardinality on mcc_category gen_std\": 0.0,<br>    \"test_Cardinality on mcc_category orig_mean\": 7.3954737245876485,<br>    \"test_Cardinality on mcc_category orig_std\": 0.0,<br>    \"test_F1_macro on mcc_category_mean\": 0.4847444309297228,<br>    \"test_F1_macro on mcc_category_std\": 0.0,<br>    \"test_F1_micro on mcc_category_mean\": 0.7308191544742177,<br>    \"test_F1_micro on mcc_category_std\": 0.0,<br>    \"memory_after_mean\": 62872.0,<br>    \"memory_after_std\": 0.0<br>  }<br>}",
          "{<br>  \"number\": 21,<br>  \"values\": [<br>    -92.49028551010858<br>  ],<br>  \"params\": {<br>    \"optimizer.params.weight_decay\": 6.785712176599365e-08,<br>    \"optimizer.params.lr\": 0.0005669056231704443,<br>    \"model.latent_encoder.params.hidden_size\": 271,<br>    \"model.latent_encoder.params.num_layers\": 3,<br>    \"model.latent_encoder.params.dropout\": 1.0267459014509292e-08,<br>    \"model.params.k_factor\": 2.766919706408109,<br>    \"loss.params.matching_weights._presence\": 0.2764620807628291,<br>    \"model.autoencoder.params.num_norm\": true,<br>    \"model.autoencoder.params.cat_emb_dim\": 35,<br>    \"model.autoencoder.params.num_emb_dim\": 92<br>  },<br>  \"user_attrs\": {<br>    \"train_OTD overall_mean\": 0.6855792490288976,<br>    \"train_OTD overall_std\": 0.0,<br>    \"train_OTD hours_since_first_tx_mean\": 0.5620927504730892,<br>    \"train_OTD hours_since_first_tx_std\": 0.0,<br>    \"train_OTD amnt_mean\": 0.44335069872134825,<br>    \"train_OTD amnt_std\": 0.0,<br>    \"train_OTD payment_system_mean\": 0.8621637294203666,<br>    \"train_OTD payment_system_std\": 0.0,<br>    \"train_OTD mcc_category_mean\": 0.705790818899226,<br>    \"train_OTD mcc_category_std\": 0.0,<br>    \"train_OTD card_type_mean\": 0.8904087247560699,<br>    \"train_OTD card_type_std\": 0.0,<br>    \"train_OTD mcc_mean\": 0.6496687719032852,<br>    \"train_OTD mcc_std\": 0.0,<br>    \"train_Cardinality on mcc_category gen_mean\": 5.608073015152661,<br>    \"train_Cardinality on mcc_category gen_std\": 0.0,<br>    \"train_Cardinality on mcc_category orig_mean\": 7.274134583869097,<br>    \"train_Cardinality on mcc_category orig_std\": 0.0,<br>    \"train_F1_macro on mcc_category_mean\": 0.4448315414454305,<br>    \"train_F1_macro on mcc_category_std\": 0.0,<br>    \"train_F1_micro on mcc_category_mean\": 0.7204400196656834,<br>    \"train_F1_micro on mcc_category_std\": 0.0,<br>    \"loss_mean\": -92.49028551010858,<br>    \"loss_std\": 0.0,<br>    \"OTD overall_mean\": 0.6842825291998884,<br>    \"OTD overall_std\": 0.0,<br>    \"OTD hours_since_first_tx_mean\": 0.5721965174877576,<br>    \"OTD hours_since_first_tx_std\": 0.0,<br>    \"OTD amnt_mean\": 0.45571157804085966,<br>    \"OTD amnt_std\": 0.0,<br>    \"OTD payment_system_mean\": 0.8534428631226455,<br>    \"OTD payment_system_std\": 0.0,<br>    \"OTD mcc_category_mean\": 0.7016839333054277,<br>    \"OTD mcc_category_std\": 0.0,<br>    \"OTD card_type_mean\": 0.877337100599972,<br>    \"OTD card_type_std\": 0.0,<br>    \"OTD mcc_mean\": 0.6453231826426677,<br>    \"OTD mcc_std\": 0.0,<br>    \"Cardinality on mcc_category gen_mean\": 5.592437561043672,<br>    \"Cardinality on mcc_category gen_std\": 0.0,<br>    \"Cardinality on mcc_category orig_mean\": 7.265383005441607,<br>    \"Cardinality on mcc_category orig_std\": 0.0,<br>    \"F1_macro on mcc_category_mean\": 0.44200832335008705,<br>    \"F1_macro on mcc_category_std\": 0.0,<br>    \"F1_micro on mcc_category_mean\": 0.7162733710059997,<br>    \"F1_micro on mcc_category_std\": 0.0,<br>    \"test_loss_mean\": -100.13898901845894,<br>    \"test_loss_std\": 0.0,<br>    \"test_OTD overall_mean\": 0.6777495883903124,<br>    \"test_OTD overall_std\": 0.0,<br>    \"test_OTD hours_since_first_tx_mean\": 0.6075286174412966,<br>    \"test_OTD hours_since_first_tx_std\": 0.0,<br>    \"test_OTD amnt_mean\": 0.4279055669638142,<br>    \"test_OTD amnt_std\": 0.0,<br>    \"test_OTD payment_system_mean\": 0.8359584771768316,<br>    \"test_OTD payment_system_std\": 0.0,<br>    \"test_OTD mcc_category_mean\": 0.6959816291303633,<br>    \"test_OTD mcc_category_std\": 0.0,<br>    \"test_OTD card_type_mean\": 0.8669242150254809,<br>    \"test_OTD card_type_std\": 0.0,<br>    \"test_OTD mcc_mean\": 0.632199024604088,<br>    \"test_OTD mcc_std\": 0.0,<br>    \"test_Cardinality on mcc_category gen_mean\": 5.813414433667599,<br>    \"test_Cardinality on mcc_category gen_std\": 0.0,<br>    \"test_Cardinality on mcc_category orig_mean\": 7.3954737245876485,<br>    \"test_Cardinality on mcc_category orig_std\": 0.0,<br>    \"test_F1_macro on mcc_category_mean\": 0.4406483191109006,<br>    \"test_F1_macro on mcc_category_std\": 0.0,<br>    \"test_F1_micro on mcc_category_mean\": 0.7097991670776481,<br>    \"test_F1_micro on mcc_category_std\": 0.0,<br>    \"memory_after_mean\": 79052.0,<br>    \"memory_after_std\": 0.0<br>  }<br>}",
          "{<br>  \"number\": 22,<br>  \"values\": [<br>    -92.41035497756232<br>  ],<br>  \"params\": {<br>    \"optimizer.params.weight_decay\": 0.00038162993028103393,<br>    \"optimizer.params.lr\": 0.0011448652238312035,<br>    \"model.latent_encoder.params.hidden_size\": 415,<br>    \"model.latent_encoder.params.num_layers\": 4,<br>    \"model.latent_encoder.params.dropout\": 6.274221966695013e-07,<br>    \"model.params.k_factor\": 2.5353768500569207,<br>    \"loss.params.matching_weights._presence\": 0.2242757530897732,<br>    \"model.autoencoder.params.num_norm\": false,<br>    \"model.autoencoder.params.cat_emb_dim\": 20,<br>    \"model.autoencoder.params.num_emb_dim\": 121<br>  },<br>  \"user_attrs\": {<br>    \"train_OTD overall_mean\": 0.6827546087913325,<br>    \"train_OTD overall_std\": 0.0,<br>    \"train_OTD hours_since_first_tx_mean\": 0.5270725503447808,<br>    \"train_OTD hours_since_first_tx_std\": 0.0,<br>    \"train_OTD amnt_mean\": 0.46397172298886175,<br>    \"train_OTD amnt_std\": 0.0,<br>    \"train_OTD payment_system_mean\": 0.8588561958024381,<br>    \"train_OTD payment_system_std\": 0.0,<br>    \"train_OTD mcc_category_mean\": 0.7072530476310167,<br>    \"train_OTD mcc_category_std\": 0.0,<br>    \"train_OTD card_type_mean\": 0.8879917054166143,<br>    \"train_OTD card_type_std\": 0.0,<br>    \"train_OTD mcc_mean\": 0.651382430564283,<br>    \"train_OTD mcc_std\": 0.0,<br>    \"train_Cardinality on mcc_category gen_mean\": 5.609576473545306,<br>    \"train_Cardinality on mcc_category gen_std\": 0.0,<br>    \"train_Cardinality on mcc_category orig_mean\": 7.26688450421013,<br>    \"train_Cardinality on mcc_category orig_std\": 0.0,<br>    \"train_F1_macro on mcc_category_mean\": 0.44975265748008686,<br>    \"train_F1_macro on mcc_category_std\": 0.0,<br>    \"train_F1_micro on mcc_category_mean\": 0.7202455385195425,<br>    \"train_F1_micro on mcc_category_std\": 0.0,<br>    \"loss_mean\": -92.41035497756232,<br>    \"loss_std\": 0.0,<br>    \"OTD overall_mean\": 0.683355477867185,<br>    \"OTD overall_std\": 0.0,<br>    \"OTD hours_since_first_tx_mean\": 0.5721996518992559,<br>    \"OTD hours_since_first_tx_std\": 0.0,<br>    \"OTD amnt_mean\": 0.44728144329324926,<br>    \"OTD amnt_std\": 0.0,<br>    \"OTD payment_system_mean\": 0.8514153411469234,<br>    \"OTD payment_system_std\": 0.0,<br>    \"OTD mcc_category_mean\": 0.7021504813729594,<br>    \"OTD mcc_category_std\": 0.0,<br>    \"OTD card_type_mean\": 0.8807032231059021,<br>    \"OTD card_type_std\": 0.0,<br>    \"OTD mcc_mean\": 0.6463827263848193,<br>    \"OTD mcc_std\": 0.0,<br>    \"Cardinality on mcc_category gen_mean\": 5.613645876935957,<br>    \"Cardinality on mcc_category gen_std\": 0.0,<br>    \"Cardinality on mcc_category orig_mean\": 7.265383005441607,<br>    \"Cardinality on mcc_category orig_std\": 0.0,<br>    \"F1_macro on mcc_category_mean\": 0.44598172435499517,<br>    \"F1_macro on mcc_category_std\": 0.0,<br>    \"F1_micro on mcc_category_mean\": 0.7159812334310032,<br>    \"F1_micro on mcc_category_std\": 0.0,<br>    \"test_loss_mean\": -98.68056039249196,<br>    \"test_loss_std\": 0.0,<br>    \"test_OTD overall_mean\": 0.676013619255405,<br>    \"test_OTD overall_std\": 0.0,<br>    \"test_OTD hours_since_first_tx_mean\": 0.6075323571255343,<br>    \"test_OTD hours_since_first_tx_std\": 0.0,<br>    \"test_OTD amnt_mean\": 0.4063535531572934,<br>    \"test_OTD amnt_std\": 0.0,<br>    \"test_OTD payment_system_mean\": 0.8435924571209381,<br>    \"test_OTD payment_system_std\": 0.0,<br>    \"test_OTD mcc_category_mean\": 0.6966888596635432,<br>    \"test_OTD mcc_category_std\": 0.0,<br>    \"test_OTD card_type_mean\": 0.8675578113869253,<br>    \"test_OTD card_type_std\": 0.0,<br>    \"test_OTD mcc_mean\": 0.6343566770781961,<br>    \"test_OTD mcc_std\": 0.0,<br>    \"test_Cardinality on mcc_category gen_mean\": 5.71472409447093,<br>    \"test_Cardinality on mcc_category gen_std\": 0.0,<br>    \"test_Cardinality on mcc_category orig_mean\": 7.3954737245876485,<br>    \"test_Cardinality on mcc_category orig_std\": 0.0,<br>    \"test_F1_macro on mcc_category_mean\": 0.4446701919227075,<br>    \"test_F1_macro on mcc_category_std\": 0.0,<br>    \"test_F1_micro on mcc_category_mean\": 0.7100645925804153,<br>    \"test_F1_micro on mcc_category_std\": 0.0,<br>    \"memory_after_mean\": 74796.0,<br>    \"memory_after_std\": 0.0<br>  }<br>}",
          "{<br>  \"number\": 23,<br>  \"values\": [<br>    -92.18591644650414<br>  ],<br>  \"params\": {<br>    \"optimizer.params.weight_decay\": 8.276555599025119e-06,<br>    \"optimizer.params.lr\": 0.0037109712362172263,<br>    \"model.latent_encoder.params.hidden_size\": 85,<br>    \"model.latent_encoder.params.num_layers\": 1,<br>    \"model.latent_encoder.params.dropout\": 0.00018895459675763674,<br>    \"model.params.k_factor\": 1.9148306865589324,<br>    \"loss.params.matching_weights._presence\": 0.496679505571483,<br>    \"model.autoencoder.params.num_norm\": false,<br>    \"model.autoencoder.params.cat_emb_dim\": 25,<br>    \"model.autoencoder.params.num_emb_dim\": 89<br>  },<br>  \"user_attrs\": {<br>    \"train_OTD overall_mean\": 0.693315894065014,<br>    \"train_OTD overall_std\": 0.0,<br>    \"train_OTD hours_since_first_tx_mean\": 0.48560391504562767,<br>    \"train_OTD hours_since_first_tx_std\": 0.0,<br>    \"train_OTD amnt_mean\": 0.5333744926911539,<br>    \"train_OTD amnt_std\": 0.0,<br>    \"train_OTD payment_system_mean\": 0.8689000365635323,<br>    \"train_OTD payment_system_std\": 0.0,<br>    \"train_OTD mcc_category_mean\": 0.7200525758378092,<br>    \"train_OTD mcc_category_std\": 0.0,<br>    \"train_OTD card_type_mean\": 0.8903606235973472,<br>    \"train_OTD card_type_std\": 0.0,<br>    \"train_OTD mcc_mean\": 0.6616037206546133,<br>    \"train_OTD mcc_std\": 0.0,<br>    \"train_Cardinality on mcc_category gen_mean\": 6.170159114406032,<br>    \"train_Cardinality on mcc_category gen_std\": 0.0,<br>    \"train_Cardinality on mcc_category orig_mean\": 7.262097485941952,<br>    \"train_Cardinality on mcc_category orig_std\": 0.0,<br>    \"train_F1_macro on mcc_category_mean\": 0.47044191628273146,<br>    \"train_F1_macro on mcc_category_std\": 0.0,<br>    \"train_F1_micro on mcc_category_mean\": 0.7321382416723403,<br>    \"train_F1_micro on mcc_category_std\": 0.0,<br>    \"loss_mean\": -92.18591644650414,<br>    \"loss_std\": 0.0,<br>    \"OTD overall_mean\": 0.6948447922648336,<br>    \"OTD overall_std\": 0.0,<br>    \"OTD hours_since_first_tx_mean\": 0.5721965174877576,<br>    \"OTD hours_since_first_tx_std\": 0.0,<br>    \"OTD amnt_mean\": 0.47075600894901865,<br>    \"OTD amnt_std\": 0.0,<br>    \"OTD payment_system_mean\": 0.8651894097948932,<br>    \"OTD payment_system_std\": 0.0,<br>    \"OTD mcc_category_mean\": 0.7166701548765174,<br>    \"OTD mcc_category_std\": 0.0,<br>    \"OTD card_type_mean\": 0.8856826426677828,<br>    \"OTD card_type_std\": 0.0,<br>    \"OTD mcc_mean\": 0.658574019813032,<br>    \"OTD mcc_std\": 0.0,<br>    \"Cardinality on mcc_category gen_mean\": 6.166875959257709,<br>    \"Cardinality on mcc_category gen_std\": 0.0,<br>    \"Cardinality on mcc_category orig_mean\": 7.265383005441607,<br>    \"Cardinality on mcc_category orig_std\": 0.0,<br>    \"F1_macro on mcc_category_mean\": 0.47046771968314677,<br>    \"F1_macro on mcc_category_std\": 0.0,<br>    \"F1_micro on mcc_category_mean\": 0.7315996930375331,<br>    \"F1_micro on mcc_category_std\": 0.0,<br>    \"test_loss_mean\": -99.43145400402592,<br>    \"test_loss_std\": 0.0,<br>    \"test_OTD overall_mean\": 0.6844172812047349,<br>    \"test_OTD overall_std\": 0.0,<br>    \"test_OTD hours_since_first_tx_mean\": 0.6075286174412966,<br>    \"test_OTD hours_since_first_tx_std\": 0.0,<br>    \"test_OTD amnt_mean\": 0.41952037363937866,<br>    \"test_OTD amnt_std\": 0.0,<br>    \"test_OTD payment_system_mean\": 0.8557249712313003,<br>    \"test_OTD payment_system_std\": 0.0,<br>    \"test_OTD mcc_category_mean\": 0.7087254781083895,<br>    \"test_OTD mcc_category_std\": 0.0,<br>    \"test_OTD card_type_mean\": 0.870809701901474,<br>    \"test_OTD card_type_std\": 0.0,<br>    \"test_OTD mcc_mean\": 0.6441945449065702,<br>    \"test_OTD mcc_std\": 0.0,<br>    \"test_Cardinality on mcc_category gen_mean\": 6.309879993424297,<br>    \"test_Cardinality on mcc_category gen_std\": 0.0,<br>    \"test_Cardinality on mcc_category orig_mean\": 7.3954737245876485,<br>    \"test_Cardinality on mcc_category orig_std\": 0.0,<br>    \"test_F1_macro on mcc_category_mean\": 0.4641603350367351,<br>    \"test_F1_macro on mcc_category_std\": 0.0,<br>    \"test_F1_micro on mcc_category_mean\": 0.7233752534385446,<br>    \"test_F1_micro on mcc_category_std\": 0.0,<br>    \"memory_after_mean\": 60326.0,<br>    \"memory_after_std\": 0.0<br>  }<br>}",
          "{<br>  \"number\": 24,<br>  \"values\": [<br>    -92.08610698154995<br>  ],<br>  \"params\": {<br>    \"optimizer.params.weight_decay\": 6.593401430380728e-08,<br>    \"optimizer.params.lr\": 0.0010493340568145165,<br>    \"model.latent_encoder.params.hidden_size\": 199,<br>    \"model.latent_encoder.params.num_layers\": 1,<br>    \"model.latent_encoder.params.dropout\": 4.8567501762704536e-08,<br>    \"model.params.k_factor\": 2.7345794869885984,<br>    \"loss.params.matching_weights._presence\": 0.425905409249784,<br>    \"model.autoencoder.params.num_norm\": true,<br>    \"model.autoencoder.params.cat_emb_dim\": 2,<br>    \"model.autoencoder.params.num_emb_dim\": 80<br>  },<br>  \"user_attrs\": {<br>    \"train_OTD overall_mean\": 0.6840175354011874,<br>    \"train_OTD overall_std\": 0.0,<br>    \"train_OTD hours_since_first_tx_mean\": 0.48105705885076533,<br>    \"train_OTD hours_since_first_tx_std\": 0.0,<br>    \"train_OTD amnt_mean\": 0.511082402293733,<br>    \"train_OTD amnt_std\": 0.0,<br>    \"train_OTD payment_system_mean\": 0.8640309343434344,<br>    \"train_OTD payment_system_std\": 0.0,<br>    \"train_OTD mcc_category_mean\": 0.710759154040404,<br>    \"train_OTD mcc_category_std\": 0.0,<br>    \"train_OTD card_type_mean\": 0.8850228851010101,<br>    \"train_OTD card_type_std\": 0.0,<br>    \"train_OTD mcc_mean\": 0.6521527777777778,<br>    \"train_OTD mcc_std\": 0.0,<br>    \"train_Cardinality on mcc_category gen_mean\": 5.885025252525253,<br>    \"train_Cardinality on mcc_category gen_std\": 0.0,<br>    \"train_Cardinality on mcc_category orig_mean\": 7.285075757575758,<br>    \"train_Cardinality on mcc_category orig_std\": 0.0,<br>    \"train_F1_macro on mcc_category_mean\": 0.4525360447541783,<br>    \"train_F1_macro on mcc_category_std\": 0.0,<br>    \"train_F1_micro on mcc_category_mean\": 0.72427398989899,<br>    \"train_F1_micro on mcc_category_std\": 0.0,<br>    \"loss_mean\": -92.08610698154995,<br>    \"loss_std\": 0.0,<br>    \"OTD overall_mean\": 0.6900646099830267,<br>    \"OTD overall_std\": 0.0,<br>    \"OTD hours_since_first_tx_mean\": 0.5721965174877575,<br>    \"OTD hours_since_first_tx_std\": 0.0,<br>    \"OTD amnt_mean\": 0.4742187690324198,<br>    \"OTD amnt_std\": 0.0,<br>    \"OTD payment_system_mean\": 0.8586577368494489,<br>    \"OTD payment_system_std\": 0.0,<br>    \"OTD mcc_category_mean\": 0.7081589228407981,<br>    \"OTD mcc_category_std\": 0.0,<br>    \"OTD card_type_mean\": 0.8781045067671271,<br>    \"OTD card_type_std\": 0.0,<br>    \"OTD mcc_mean\": 0.6490512069206084,<br>    \"OTD mcc_std\": 0.0,<br>    \"Cardinality on mcc_category gen_mean\": 5.8656341565508585,<br>    \"Cardinality on mcc_category gen_std\": 0.0,<br>    \"Cardinality on mcc_category orig_mean\": 7.265383005441607,<br>    \"Cardinality on mcc_category orig_std\": 0.0,<br>    \"F1_macro on mcc_category_mean\": 0.4521337242058591,<br>    \"F1_macro on mcc_category_std\": 0.0,<br>    \"F1_micro on mcc_category_mean\": 0.7235506488070322,<br>    \"F1_micro on mcc_category_std\": 0.0,<br>    \"test_loss_mean\": -103.34978552425609,<br>    \"test_loss_std\": 0.0,<br>    \"test_OTD overall_mean\": 0.6796466537122043,<br>    \"test_OTD overall_std\": 0.0,<br>    \"test_OTD hours_since_first_tx_mean\": 0.6075286174412966,<br>    \"test_OTD hours_since_first_tx_std\": 0.0,<br>    \"test_OTD amnt_mean\": 0.42276136839705636,<br>    \"test_OTD amnt_std\": 0.0,<br>    \"test_OTD payment_system_mean\": 0.8459127897419036,<br>    \"test_OTD payment_system_std\": 0.0,<br>    \"test_OTD mcc_category_mean\": 0.7018175653460463,<br>    \"test_OTD mcc_category_std\": 0.0,<br>    \"test_OTD card_type_mean\": 0.8646192942079018,<br>    \"test_OTD card_type_std\": 0.0,<br>    \"test_OTD mcc_mean\": 0.6352402871390214,<br>    \"test_OTD mcc_std\": 0.0,<br>    \"test_Cardinality on mcc_category gen_mean\": 5.940106307194915,<br>    \"test_Cardinality on mcc_category gen_std\": 0.0,<br>    \"test_Cardinality on mcc_category orig_mean\": 7.3954737245876485,<br>    \"test_Cardinality on mcc_category orig_std\": 0.0,<br>    \"test_F1_macro on mcc_category_mean\": 0.4482392994332241,<br>    \"test_F1_macro on mcc_category_std\": 0.0,<br>    \"test_F1_micro on mcc_category_mean\": 0.7167909885473177,<br>    \"test_F1_micro on mcc_category_std\": 0.0,<br>    \"memory_after_mean\": 66518.0,<br>    \"memory_after_std\": 0.0<br>  }<br>}",
          "{<br>  \"number\": 25,<br>  \"values\": [<br>    -91.91020393371582<br>  ],<br>  \"params\": {<br>    \"optimizer.params.weight_decay\": 1.7997326001578488e-06,<br>    \"optimizer.params.lr\": 0.002939686269782811,<br>    \"model.latent_encoder.params.hidden_size\": 29,<br>    \"model.latent_encoder.params.num_layers\": 2,<br>    \"model.latent_encoder.params.dropout\": 2.985381762510369e-06,<br>    \"model.params.k_factor\": 2.4913522074772296,<br>    \"loss.params.matching_weights._presence\": 0.5871974711171248,<br>    \"model.autoencoder.params.num_norm\": true,<br>    \"model.autoencoder.params.cat_emb_dim\": 18,<br>    \"model.autoencoder.params.num_emb_dim\": 115<br>  },<br>  \"user_attrs\": {<br>    \"train_OTD overall_mean\": 0.6896341418212718,<br>    \"train_OTD overall_std\": 0.0,<br>    \"train_OTD hours_since_first_tx_mean\": 0.5784852694981484,<br>    \"train_OTD hours_since_first_tx_std\": 0.0,<br>    \"train_OTD amnt_mean\": 0.4518087559215643,<br>    \"train_OTD amnt_std\": 0.0,<br>    \"train_OTD payment_system_mean\": 0.8650210216258403,<br>    \"train_OTD payment_system_std\": 0.0,<br>    \"train_OTD mcc_category_mean\": 0.7088103585005413,<br>    \"train_OTD mcc_category_std\": 0.0,<br>    \"train_OTD card_type_mean\": 0.8863990395508673,<br>    \"train_OTD card_type_std\": 0.0,<br>    \"train_OTD mcc_mean\": 0.6472804058306689,<br>    \"train_OTD mcc_std\": 0.0,<br>    \"train_Cardinality on mcc_category gen_mean\": 5.963923365474183,<br>    \"train_Cardinality on mcc_category gen_std\": 0.0,<br>    \"train_Cardinality on mcc_category orig_mean\": 7.267641801565922,<br>    \"train_Cardinality on mcc_category orig_std\": 0.0,<br>    \"train_F1_macro on mcc_category_mean\": 0.4527765616323741,<br>    \"train_F1_macro on mcc_category_std\": 0.0,<br>    \"train_F1_micro on mcc_category_mean\": 0.7239062775358123,<br>    \"train_F1_micro on mcc_category_std\": 0.0,<br>    \"loss_mean\": -91.91020393371582,<br>    \"loss_std\": 0.0,<br>    \"OTD overall_mean\": 0.6876837349340139,<br>    \"OTD overall_std\": 0.0,<br>    \"OTD hours_since_first_tx_mean\": 0.5721965174877576,<br>    \"OTD hours_since_first_tx_std\": 0.0,<br>    \"OTD amnt_mean\": 0.45537704462086065,<br>    \"OTD amnt_std\": 0.0,<br>    \"OTD payment_system_mean\": 0.8612651737128506,<br>    \"OTD payment_system_std\": 0.0,<br>    \"OTD mcc_category_mean\": 0.7094888028463793,<br>    \"OTD mcc_category_std\": 0.0,<br>    \"OTD card_type_mean\": 0.8802366750383703,<br>    \"OTD card_type_std\": 0.0,<br>    \"OTD mcc_mean\": 0.6475381958978652,<br>    \"OTD mcc_std\": 0.0,<br>    \"Cardinality on mcc_category gen_mean\": 5.95925770894377,<br>    \"Cardinality on mcc_category gen_std\": 0.0,<br>    \"Cardinality on mcc_category orig_mean\": 7.265383005441607,<br>    \"Cardinality on mcc_category orig_std\": 0.0,<br>    \"F1_macro on mcc_category_mean\": 0.4522260128786733,<br>    \"F1_macro on mcc_category_std\": 0.0,<br>    \"F1_micro on mcc_category_mean\": 0.7245186270406028,<br>    \"F1_micro on mcc_category_std\": 0.0,<br>    \"test_loss_mean\": -99.55402808095894,<br>    \"test_loss_std\": 0.0,<br>    \"test_OTD overall_mean\": 0.6808616407635634,<br>    \"test_OTD overall_std\": 0.0,<br>    \"test_OTD hours_since_first_tx_mean\": 0.6075286174412966,<br>    \"test_OTD hours_since_first_tx_std\": 0.0,<br>    \"test_OTD amnt_mean\": 0.41855066053369466,<br>    \"test_OTD amnt_std\": 0.0,<br>    \"test_OTD payment_system_mean\": 0.8531272261493781,<br>    \"test_OTD payment_system_std\": 0.0,<br>    \"test_OTD mcc_category_mean\": 0.70391185818401,<br>    \"test_OTD mcc_category_std\": 0.0,<br>    \"test_OTD card_type_mean\": 0.8671057318209217,<br>    \"test_OTD card_type_std\": 0.0,<br>    \"test_OTD mcc_mean\": 0.6349457504520796,<br>    \"test_OTD mcc_std\": 0.0,<br>    \"test_Cardinality on mcc_category gen_mean\": 6.030796208011398,<br>    \"test_Cardinality on mcc_category gen_std\": 0.0,<br>    \"test_Cardinality on mcc_category orig_mean\": 7.3954737245876485,<br>    \"test_Cardinality on mcc_category orig_std\": 0.0,<br>    \"test_F1_macro on mcc_category_mean\": 0.44982267461210806,<br>    \"test_F1_macro on mcc_category_std\": 0.0,<br>    \"test_F1_micro on mcc_category_mean\": 0.7188561702011069,<br>    \"test_F1_micro on mcc_category_std\": 0.0,<br>    \"memory_after_mean\": 76086.0,<br>    \"memory_after_std\": 0.0<br>  }<br>}",
          "{<br>  \"number\": 26,<br>  \"values\": [<br>    -91.77607000441779<br>  ],<br>  \"params\": {<br>    \"optimizer.params.weight_decay\": 4.072169086901601e-09,<br>    \"optimizer.params.lr\": 0.0011813441021076094,<br>    \"model.latent_encoder.params.hidden_size\": 1114,<br>    \"model.latent_encoder.params.num_layers\": 1,<br>    \"model.latent_encoder.params.dropout\": 0.00034760625151601866,<br>    \"model.params.k_factor\": 2.885254053818077,<br>    \"loss.params.matching_weights._presence\": 0.4893812697032046,<br>    \"model.autoencoder.params.num_norm\": true,<br>    \"model.autoencoder.params.cat_emb_dim\": 13,<br>    \"model.autoencoder.params.num_emb_dim\": 95<br>  },<br>  \"user_attrs\": {<br>    \"train_OTD overall_mean\": 0.699557315040988,<br>    \"train_OTD overall_std\": 0.0,<br>    \"train_OTD hours_since_first_tx_mean\": 0.4927997412481895,<br>    \"train_OTD hours_since_first_tx_std\": 0.0,<br>    \"train_OTD amnt_mean\": 0.5720588968629294,<br>    \"train_OTD amnt_std\": 0.0,<br>    \"train_OTD payment_system_mean\": 0.8700379907533727,<br>    \"train_OTD payment_system_std\": 0.0,<br>    \"train_OTD mcc_category_mean\": 0.716057804052347,<br>    \"train_OTD mcc_category_std\": 0.0,<br>    \"train_OTD card_type_mean\": 0.8866088120863018,<br>    \"train_OTD card_type_std\": 0.0,<br>    \"train_OTD mcc_mean\": 0.6597806452427871,<br>    \"train_OTD mcc_std\": 0.0,<br>    \"train_Cardinality on mcc_category gen_mean\": 5.851599211762923,<br>    \"train_Cardinality on mcc_category gen_std\": 0.0,<br>    \"train_Cardinality on mcc_category orig_mean\": 7.275504016977414,<br>    \"train_Cardinality on mcc_category orig_std\": 0.0,<br>    \"train_F1_macro on mcc_category_mean\": 0.4580042759578559,<br>    \"train_F1_macro on mcc_category_std\": 0.0,<br>    \"train_F1_micro on mcc_category_mean\": 0.7277455661664393,<br>    \"train_F1_micro on mcc_category_std\": 0.0,<br>    \"loss_mean\": -91.77607000441779,<br>    \"loss_std\": 0.0,<br>    \"OTD overall_mean\": 0.6765590118559123,<br>    \"OTD overall_std\": 0.0,<br>    \"OTD hours_since_first_tx_mean\": 0.515209206166474,<br>    \"OTD hours_since_first_tx_std\": 0.0,<br>    \"OTD amnt_mean\": 0.4560980880749019,<br>    \"OTD amnt_std\": 0.0,<br>    \"OTD payment_system_mean\": 0.8584048416352728,<br>    \"OTD payment_system_std\": 0.0,<br>    \"OTD mcc_category_mean\": 0.7061575624389563,<br>    \"OTD mcc_category_std\": 0.0,<br>    \"OTD card_type_mean\": 0.8739404562578484,<br>    \"OTD card_type_std\": 0.0,<br>    \"OTD mcc_mean\": 0.6495439165620204,<br>    \"OTD mcc_std\": 0.0,<br>    \"Cardinality on mcc_category gen_mean\": 5.860332077577787,<br>    \"Cardinality on mcc_category gen_std\": 0.0,<br>    \"Cardinality on mcc_category orig_mean\": 7.265383005441607,<br>    \"Cardinality on mcc_category orig_std\": 0.0,<br>    \"F1_macro on mcc_category_mean\": 0.45459375343050723,<br>    \"F1_macro on mcc_category_std\": 0.0,<br>    \"F1_micro on mcc_category_mean\": 0.7238384261197154,<br>    \"F1_micro on mcc_category_std\": 0.0,<br>    \"test_loss_mean\": -98.47103354510139,<br>    \"test_loss_std\": 0.0,<br>    \"test_OTD overall_mean\": 0.6483974550100009,<br>    \"test_OTD overall_std\": 0.0,<br>    \"test_OTD hours_since_first_tx_mean\": 0.43365675674407606,<br>    \"test_OTD hours_since_first_tx_std\": 0.0,<br>    \"test_OTD amnt_mean\": 0.41830463505081866,<br>    \"test_OTD amnt_std\": 0.0,<br>    \"test_OTD payment_system_mean\": 0.8441900926078141,<br>    \"test_OTD payment_system_std\": 0.0,<br>    \"test_OTD mcc_category_mean\": 0.6989526823387583,<br>    \"test_OTD mcc_category_std\": 0.0,<br>    \"test_OTD card_type_mean\": 0.8600454134473122,<br>    \"test_OTD card_type_std\": 0.0,<br>    \"test_OTD mcc_mean\": 0.6352351498712259,<br>    \"test_OTD mcc_std\": 0.0,<br>    \"test_Cardinality on mcc_category gen_mean\": 5.946024439695326,<br>    \"test_Cardinality on mcc_category gen_std\": 0.0,<br>    \"test_Cardinality on mcc_category orig_mean\": 7.3954737245876485,<br>    \"test_Cardinality on mcc_category orig_std\": 0.0,<br>    \"test_F1_macro on mcc_category_mean\": 0.45089857727141547,<br>    \"test_F1_macro on mcc_category_std\": 0.0,<br>    \"test_F1_micro on mcc_category_mean\": 0.7157943585949915,<br>    \"test_F1_micro on mcc_category_std\": 0.0,<br>    \"memory_after_mean\": 77176.0,<br>    \"memory_after_std\": 0.0<br>  }<br>}",
          "{<br>  \"number\": 27,<br>  \"values\": [<br>    -91.47750009809222<br>  ],<br>  \"params\": {<br>    \"optimizer.params.weight_decay\": 0.006366912554478901,<br>    \"optimizer.params.lr\": 0.00026776787498093837,<br>    \"model.latent_encoder.params.hidden_size\": 590,<br>    \"model.latent_encoder.params.num_layers\": 4,<br>    \"model.latent_encoder.params.dropout\": 1.1134365786419541e-06,<br>    \"model.params.k_factor\": 2.2375403554937563,<br>    \"loss.params.matching_weights._presence\": 1.174166789853464,<br>    \"model.autoencoder.params.num_norm\": true,<br>    \"model.autoencoder.params.cat_emb_dim\": 76,<br>    \"model.autoencoder.params.num_emb_dim\": 74<br>  },<br>  \"user_attrs\": {<br>    \"train_OTD overall_mean\": 0.6909860537108488,<br>    \"train_OTD overall_std\": 0.0,<br>    \"train_OTD hours_since_first_tx_mean\": 0.4810570588507655,<br>    \"train_OTD hours_since_first_tx_std\": 0.0,<br>    \"train_OTD amnt_mean\": 0.527980317707256,<br>    \"train_OTD amnt_std\": 0.0,<br>    \"train_OTD payment_system_mean\": 0.8709698547979798,<br>    \"train_OTD payment_system_std\": 0.0,<br>    \"train_OTD mcc_category_mean\": 0.7229869002525252,<br>    \"train_OTD mcc_category_std\": 0.0,<br>    \"train_OTD card_type_mean\": 0.8878677398989899,<br>    \"train_OTD card_type_std\": 0.0,<br>    \"train_OTD mcc_mean\": 0.6550544507575757,<br>    \"train_OTD mcc_std\": 0.0,<br>    \"train_Cardinality on mcc_category gen_mean\": 7.551010101010101,<br>    \"train_Cardinality on mcc_category gen_std\": 0.0,<br>    \"train_Cardinality on mcc_category orig_mean\": 7.285075757575758,<br>    \"train_Cardinality on mcc_category orig_std\": 0.0,<br>    \"train_F1_macro on mcc_category_mean\": 0.48142858762448815,<br>    \"train_F1_macro on mcc_category_std\": 0.0,<br>    \"train_F1_micro on mcc_category_mean\": 0.7374676452020202,<br>    \"train_F1_micro on mcc_category_std\": 0.0,<br>    \"loss_mean\": -91.47750009809222,<br>    \"loss_std\": 0.0,<br>    \"OTD overall_mean\": 0.6976509022937055,<br>    \"OTD overall_std\": 0.0,<br>    \"OTD hours_since_first_tx_mean\": 0.5721965174877576,<br>    \"OTD hours_since_first_tx_std\": 0.0,<br>    \"OTD amnt_mean\": 0.4940763791822469,<br>    \"OTD amnt_std\": 0.0,<br>    \"OTD payment_system_mean\": 0.8669073531463652,<br>    \"OTD payment_system_std\": 0.0,<br>    \"OTD mcc_category_mean\": 0.7195871703641691,<br>    \"OTD mcc_category_std\": 0.0,<br>    \"OTD card_type_mean\": 0.8811959327473141,<br>    \"OTD card_type_std\": 0.0,<br>    \"OTD mcc_mean\": 0.6519420608343798,<br>    \"OTD mcc_std\": 0.0,<br>    \"Cardinality on mcc_category gen_mean\": 7.52420817636389,<br>    \"Cardinality on mcc_category gen_std\": 0.0,<br>    \"Cardinality on mcc_category orig_mean\": 7.265383005441607,<br>    \"Cardinality on mcc_category orig_std\": 0.0,<br>    \"F1_macro on mcc_category_mean\": 0.4796951821539792,<br>    \"F1_macro on mcc_category_std\": 0.0,<br>    \"F1_micro on mcc_category_mean\": 0.7361082042695689,<br>    \"F1_micro on mcc_category_std\": 0.0,<br>    \"test_loss_mean\": -97.66935643962785,<br>    \"test_loss_std\": 0.0,<br>    \"test_OTD overall_mean\": 0.6896497342574529,<br>    \"test_OTD overall_std\": 0.0,<br>    \"test_OTD hours_since_first_tx_mean\": 0.6075286174412966,<br>    \"test_OTD hours_since_first_tx_std\": 0.0,<br>    \"test_OTD amnt_mean\": 0.45466700986899744,<br>    \"test_OTD amnt_std\": 0.0,<br>    \"test_OTD payment_system_mean\": 0.8514113787056825,<br>    \"test_OTD payment_system_std\": 0.0,<br>    \"test_OTD mcc_category_mean\": 0.7143370869636693,<br>    \"test_OTD mcc_category_std\": 0.0,<br>    \"test_OTD card_type_mean\": 0.8706572962902077,<br>    \"test_OTD card_type_std\": 0.0,<br>    \"test_OTD mcc_mean\": 0.6392970162748643,<br>    \"test_OTD mcc_std\": 0.0,<br>    \"test_Cardinality on mcc_category gen_mean\": 7.624308181270207,<br>    \"test_Cardinality on mcc_category gen_std\": 0.0,<br>    \"test_Cardinality on mcc_category orig_mean\": 7.3954737245876485,<br>    \"test_Cardinality on mcc_category orig_std\": 0.0,<br>    \"test_F1_macro on mcc_category_mean\": 0.47821403099808707,<br>    \"test_F1_macro on mcc_category_std\": 0.0,<br>    \"test_F1_micro on mcc_category_mean\": 0.7308294290098087,<br>    \"test_F1_micro on mcc_category_std\": 0.0,<br>    \"memory_after_mean\": 79546.0,<br>    \"memory_after_std\": 0.0<br>  }<br>}",
          "{<br>  \"number\": 28,<br>  \"values\": [<br>    -91.47075371515183<br>  ],<br>  \"params\": {<br>    \"optimizer.params.weight_decay\": 0.00010924888120463623,<br>    \"optimizer.params.lr\": 0.0009276709929500857,<br>    \"model.latent_encoder.params.hidden_size\": 135,<br>    \"model.latent_encoder.params.num_layers\": 2,<br>    \"model.latent_encoder.params.dropout\": 1.43547775554494e-06,<br>    \"model.params.k_factor\": 2.2413602903724903,<br>    \"loss.params.matching_weights._presence\": 0.2651896222211354,<br>    \"model.autoencoder.params.num_norm\": true,<br>    \"model.autoencoder.params.cat_emb_dim\": 57,<br>    \"model.autoencoder.params.num_emb_dim\": 93<br>  },<br>  \"user_attrs\": {<br>    \"train_OTD overall_mean\": 0.6882828474263089,<br>    \"train_OTD overall_std\": 0.0,<br>    \"train_OTD hours_since_first_tx_mean\": 0.4810570588507654,<br>    \"train_OTD hours_since_first_tx_std\": 0.0,<br>    \"train_OTD amnt_mean\": 0.5101638577777952,<br>    \"train_OTD amnt_std\": 0.0,<br>    \"train_OTD payment_system_mean\": 0.8691832386363636,<br>    \"train_OTD payment_system_std\": 0.0,<br>    \"train_OTD mcc_category_mean\": 0.7152801452020202,<br>    \"train_OTD mcc_category_std\": 0.0,<br>    \"train_OTD card_type_mean\": 0.8941153724747475,<br>    \"train_OTD card_type_std\": 0.0,<br>    \"train_OTD mcc_mean\": 0.6598974116161617,<br>    \"train_OTD mcc_std\": 0.0,<br>    \"train_Cardinality on mcc_category gen_mean\": 5.795833333333333,<br>    \"train_Cardinality on mcc_category gen_std\": 0.0,<br>    \"train_Cardinality on mcc_category orig_mean\": 7.285075757575758,<br>    \"train_Cardinality on mcc_category orig_std\": 0.0,<br>    \"train_F1_macro on mcc_category_mean\": 0.4597971159421712,<br>    \"train_F1_macro on mcc_category_std\": 0.0,<br>    \"train_F1_micro on mcc_category_mean\": 0.7277241161616161,<br>    \"train_F1_micro on mcc_category_std\": 0.0,<br>    \"loss_mean\": -91.47075371515183,<br>    \"loss_std\": 0.0,<br>    \"OTD overall_mean\": 0.6926276991294605,<br>    \"OTD overall_std\": 0.0,<br>    \"OTD hours_since_first_tx_mean\": 0.5721965174877576,<br>    \"OTD hours_since_first_tx_std\": 0.0,<br>    \"OTD amnt_mean\": 0.4738480364350918,<br>    \"OTD amnt_std\": 0.0,<br>    \"OTD payment_system_mean\": 0.8608160666945723,<br>    \"OTD payment_system_std\": 0.0,<br>    \"OTD mcc_category_mean\": 0.7119000279056789,<br>    \"OTD mcc_category_std\": 0.0,<br>    \"OTD card_type_mean\": 0.8824734896051346,<br>    \"OTD card_type_std\": 0.0,<br>    \"OTD mcc_mean\": 0.654532056648528,<br>    \"OTD mcc_std\": 0.0,<br>    \"Cardinality on mcc_category gen_mean\": 5.802567322450119,<br>    \"Cardinality on mcc_category gen_std\": 0.0,<br>    \"Cardinality on mcc_category orig_mean\": 7.265383005441607,<br>    \"Cardinality on mcc_category orig_std\": 0.0,<br>    \"F1_macro on mcc_category_mean\": 0.45848228172052835,<br>    \"F1_macro on mcc_category_std\": 0.0,<br>    \"F1_micro on mcc_category_mean\": 0.726262731965955,<br>    \"F1_micro on mcc_category_std\": 0.0,<br>    \"test_loss_mean\": -97.18762008816589,<br>    \"test_loss_std\": 0.0,<br>    \"test_OTD overall_mean\": 0.6835557121364757,<br>    \"test_OTD overall_std\": 0.0,<br>    \"test_OTD hours_since_first_tx_mean\": 0.6075286174412966,<br>    \"test_OTD hours_since_first_tx_std\": 0.0,<br>    \"test_OTD amnt_mean\": 0.4289407997690309,<br>    \"test_OTD amnt_std\": 0.0,<br>    \"test_OTD payment_system_mean\": 0.8475961011562277,<br>    \"test_OTD payment_system_std\": 0.0,<br>    \"test_OTD mcc_category_mean\": 0.7050489067894131,<br>    \"test_OTD mcc_category_std\": 0.0,<br>    \"test_OTD card_type_mean\": 0.8710357416844758,<br>    \"test_OTD card_type_std\": 0.0,<br>    \"test_OTD mcc_mean\": 0.6411841059784098,<br>    \"test_OTD mcc_std\": 0.0,<br>    \"test_Cardinality on mcc_category gen_mean\": 6.018631157871664,<br>    \"test_Cardinality on mcc_category gen_std\": 0.0,<br>    \"test_Cardinality on mcc_category orig_mean\": 7.3954737245876485,<br>    \"test_Cardinality on mcc_category orig_std\": 0.0,<br>    \"test_F1_macro on mcc_category_mean\": 0.4579334943860849,<br>    \"test_F1_macro on mcc_category_std\": 0.0,<br>    \"test_F1_micro on mcc_category_mean\": 0.7190376869965478,<br>    \"test_F1_micro on mcc_category_std\": 0.0,<br>    \"memory_after_mean\": 76448.0,<br>    \"memory_after_std\": 0.0<br>  }<br>}",
          "{<br>  \"number\": 29,<br>  \"values\": [<br>    -91.45932542710077<br>  ],<br>  \"params\": {<br>    \"optimizer.params.weight_decay\": 0.0017631909212337004,<br>    \"optimizer.params.lr\": 0.0006554785335274884,<br>    \"model.latent_encoder.params.hidden_size\": 292,<br>    \"model.latent_encoder.params.num_layers\": 2,<br>    \"model.latent_encoder.params.dropout\": 3.030253341701468e-08,<br>    \"model.params.k_factor\": 2.4035131714920643,<br>    \"loss.params.matching_weights._presence\": 1.2727972661839988,<br>    \"model.autoencoder.params.num_norm\": false,<br>    \"model.autoencoder.params.cat_emb_dim\": 26,<br>    \"model.autoencoder.params.num_emb_dim\": 53<br>  },<br>  \"user_attrs\": {<br>    \"train_OTD overall_mean\": 0.6931000846455166,<br>    \"train_OTD overall_std\": 0.0,<br>    \"train_OTD hours_since_first_tx_mean\": 0.4810570588507654,<br>    \"train_OTD hours_since_first_tx_std\": 0.0,<br>    \"train_OTD amnt_mean\": 0.5297112204869812,<br>    \"train_OTD amnt_std\": 0.0,<br>    \"train_OTD payment_system_mean\": 0.8717195391414141,<br>    \"train_OTD payment_system_std\": 0.0,<br>    \"train_OTD mcc_category_mean\": 0.7264725378787878,<br>    \"train_OTD mcc_category_std\": 0.0,<br>    \"train_OTD card_type_mean\": 0.889101957070707,<br>    \"train_OTD card_type_std\": 0.0,<br>    \"train_OTD mcc_mean\": 0.6605381944444444,<br>    \"train_OTD mcc_std\": 0.0,<br>    \"train_Cardinality on mcc_category gen_mean\": 7.479621212121212,<br>    \"train_Cardinality on mcc_category gen_std\": 0.0,<br>    \"train_Cardinality on mcc_category orig_mean\": 7.285075757575758,<br>    \"train_Cardinality on mcc_category orig_std\": 0.0,<br>    \"train_F1_macro on mcc_category_mean\": 0.487073759913006,<br>    \"train_F1_macro on mcc_category_std\": 0.0,<br>    \"train_F1_micro on mcc_category_mean\": 0.7410535037878788,<br>    \"train_F1_micro on mcc_category_std\": 0.0,<br>    \"loss_mean\": -91.45932542710077,<br>    \"loss_std\": 0.0,<br>    \"OTD overall_mean\": 0.6983056203064139,<br>    \"OTD overall_std\": 0.0,<br>    \"OTD hours_since_first_tx_mean\": 0.5721965174877577,<br>    \"OTD hours_since_first_tx_std\": 0.0,<br>    \"OTD amnt_mean\": 0.49689718063089855,<br>    \"OTD amnt_std\": 0.0,<br>    \"OTD payment_system_mean\": 0.8649713966792242,<br>    \"OTD payment_system_std\": 0.0,<br>    \"OTD mcc_category_mean\": 0.72181962466862,<br>    \"OTD mcc_category_std\": 0.0,<br>    \"OTD card_type_mean\": 0.87805654388168,<br>    \"OTD card_type_std\": 0.0,<br>    \"OTD mcc_mean\": 0.6558924584903028,<br>    \"OTD mcc_std\": 0.0,<br>    \"Cardinality on mcc_category gen_mean\": 7.448165201618529,<br>    \"Cardinality on mcc_category gen_std\": 0.0,<br>    \"Cardinality on mcc_category orig_mean\": 7.265383005441607,<br>    \"Cardinality on mcc_category orig_std\": 0.0,<br>    \"F1_macro on mcc_category_mean\": 0.48372761254156404,<br>    \"F1_macro on mcc_category_std\": 0.0,<br>    \"F1_micro on mcc_category_mean\": 0.7385935537881959,<br>    \"F1_micro on mcc_category_std\": 0.0,<br>    \"test_loss_mean\": -96.98011158961876,<br>    \"test_loss_std\": 0.0,<br>    \"test_OTD overall_mean\": 0.6894356418764288,<br>    \"test_OTD overall_std\": 0.0,<br>    \"test_OTD hours_since_first_tx_mean\": 0.6075286174412966,<br>    \"test_OTD hours_since_first_tx_std\": 0.0,<br>    \"test_OTD amnt_mean\": 0.4563432342556562,<br>    \"test_OTD amnt_std\": 0.0,<br>    \"test_OTD payment_system_mean\": 0.8457021617622883,<br>    \"test_OTD payment_system_std\": 0.0,<br>    \"test_OTD mcc_category_mean\": 0.7155871554605732,<br>    \"test_OTD mcc_category_std\": 0.0,<br>    \"test_OTD card_type_mean\": 0.8684225847991671,<br>    \"test_OTD card_type_std\": 0.0,<br>    \"test_OTD mcc_mean\": 0.6430300975395912,<br>    \"test_OTD mcc_std\": 0.0,<br>    \"test_Cardinality on mcc_category gen_mean\": 7.561510219738068,<br>    \"test_Cardinality on mcc_category gen_std\": 0.0,<br>    \"test_Cardinality on mcc_category orig_mean\": 7.3954737245876485,<br>    \"test_Cardinality on mcc_category orig_std\": 0.0,<br>    \"test_F1_macro on mcc_category_mean\": 0.48298668062949845,<br>    \"test_F1_macro on mcc_category_std\": 0.0,<br>    \"test_F1_micro on mcc_category_mean\": 0.732255877034358,<br>    \"test_F1_micro on mcc_category_std\": 0.0,<br>    \"memory_after_mean\": 76688.0,<br>    \"memory_after_std\": 0.0<br>  }<br>}",
          "{<br>  \"number\": 30,<br>  \"values\": [<br>    -90.786287852696<br>  ],<br>  \"params\": {<br>    \"optimizer.params.weight_decay\": 2.164485743955165e-15,<br>    \"optimizer.params.lr\": 0.0017979930771052617,<br>    \"model.latent_encoder.params.hidden_size\": 39,<br>    \"model.latent_encoder.params.num_layers\": 6,<br>    \"model.latent_encoder.params.dropout\": 3.200755905541051e-05,<br>    \"model.params.k_factor\": 2.89683625746336,<br>    \"loss.params.matching_weights._presence\": 1.2775315959747353,<br>    \"model.autoencoder.params.num_norm\": true,<br>    \"model.autoencoder.params.cat_emb_dim\": 34,<br>    \"model.autoencoder.params.num_emb_dim\": 13<br>  },<br>  \"user_attrs\": {<br>    \"train_OTD overall_mean\": 0.39592958366849346,<br>    \"train_OTD overall_std\": 0.0,<br>    \"train_OTD hours_since_first_tx_mean\": -1.172418779762448,<br>    \"train_OTD hours_since_first_tx_std\": 0.0,<br>    \"train_OTD amnt_mean\": 0.4418932238659395,<br>    \"train_OTD amnt_std\": 0.0,<br>    \"train_OTD payment_system_mean\": 0.8642998437657494,<br>    \"train_OTD payment_system_std\": 0.0,<br>    \"train_OTD mcc_category_mean\": 0.7139999748009274,<br>    \"train_OTD mcc_category_std\": 0.0,<br>    \"train_OTD card_type_mean\": 0.8835314610422337,<br>    \"train_OTD card_type_std\": 0.0,<br>    \"train_OTD mcc_mean\": 0.6442717782985586,<br>    \"train_OTD mcc_std\": 0.0,<br>    \"train_Cardinality on mcc_category gen_mean\": 7.344622517891342,<br>    \"train_Cardinality on mcc_category gen_std\": 0.0,<br>    \"train_Cardinality on mcc_category orig_mean\": 7.290721701441387,<br>    \"train_Cardinality on mcc_category orig_std\": 0.0,<br>    \"train_F1_macro on mcc_category_mean\": 0.4736823402199857,<br>    \"train_F1_macro on mcc_category_std\": 0.0,<br>    \"train_F1_micro on mcc_category_mean\": 0.733521381413164,<br>    \"train_F1_micro on mcc_category_std\": 0.0,<br>    \"loss_mean\": -90.786287852696,<br>    \"loss_std\": 0.0,<br>    \"OTD overall_mean\": 0.4365511979347336,<br>    \"OTD overall_std\": 0.0,<br>    \"OTD hours_since_first_tx_mean\": -0.9332259405683409,<br>    \"OTD hours_since_first_tx_std\": 0.0,<br>    \"OTD amnt_mean\": 0.4525959159540554,<br>    \"OTD amnt_std\": 0.0,<br>    \"OTD payment_system_mean\": 0.8633188572624529,<br>    \"OTD payment_system_std\": 0.0,<br>    \"OTD mcc_category_mean\": 0.714891167852658,<br>    \"OTD mcc_category_std\": 0.0,<br>    \"OTD card_type_mean\": 0.8762862773824474,<br>    \"OTD card_type_std\": 0.0,<br>    \"OTD mcc_mean\": 0.645440909725129,<br>    \"OTD mcc_std\": 0.0,<br>    \"Cardinality on mcc_category gen_mean\": 7.325798800055812,<br>    \"Cardinality on mcc_category gen_std\": 0.0,<br>    \"Cardinality on mcc_category orig_mean\": 7.265383005441607,<br>    \"Cardinality on mcc_category orig_std\": 0.0,<br>    \"F1_macro on mcc_category_mean\": 0.47260277040453075,<br>    \"F1_macro on mcc_category_std\": 0.0,<br>    \"F1_micro on mcc_category_mean\": 0.7331345053718432,<br>    \"F1_micro on mcc_category_std\": 0.0,<br>    \"test_loss_mean\": -104.5298080444336,<br>    \"test_loss_std\": 0.0,<br>    \"test_OTD overall_mean\": 0.30549265759681027,<br>    \"test_OTD overall_std\": 0.0,<br>    \"test_OTD hours_since_first_tx_mean\": -1.6455485200575846,<br>    \"test_OTD hours_since_first_tx_std\": 0.0,<br>    \"test_OTD amnt_mean\": 0.4181449938865696,<br>    \"test_OTD amnt_std\": 0.0,<br>    \"test_OTD payment_system_mean\": 0.8532779193380459,<br>    \"test_OTD payment_system_std\": 0.0,<br>    \"test_OTD mcc_category_mean\": 0.7095560030686613,<br>    \"test_OTD mcc_category_std\": 0.0,<br>    \"test_OTD card_type_mean\": 0.8652785769083238,<br>    \"test_OTD card_type_std\": 0.0,<br>    \"test_OTD mcc_mean\": 0.6322469724368458,<br>    \"test_OTD mcc_std\": 0.0,<br>    \"test_Cardinality on mcc_category gen_mean\": 7.450928818017426,<br>    \"test_Cardinality on mcc_category gen_std\": 0.0,<br>    \"test_Cardinality on mcc_category orig_mean\": 7.3954737245876485,<br>    \"test_Cardinality on mcc_category orig_std\": 0.0,<br>    \"test_F1_macro on mcc_category_mean\": 0.4733495229647151,<br>    \"test_F1_macro on mcc_category_std\": 0.0,<br>    \"test_F1_micro on mcc_category_mean\": 0.7277847416296783,<br>    \"test_F1_micro on mcc_category_std\": 0.0,<br>    \"memory_after_mean\": 69840.0,<br>    \"memory_after_std\": 0.0<br>  }<br>}",
          "{<br>  \"number\": 31,<br>  \"values\": [<br>    -90.6287315913609<br>  ],<br>  \"params\": {<br>    \"optimizer.params.weight_decay\": 2.746339709399058e-12,<br>    \"optimizer.params.lr\": 0.001557047204459384,<br>    \"model.latent_encoder.params.hidden_size\": 40,<br>    \"model.latent_encoder.params.num_layers\": 2,<br>    \"model.latent_encoder.params.dropout\": 1.4658341875379425e-05,<br>    \"model.params.k_factor\": 2.557932554113172,<br>    \"loss.params.matching_weights._presence\": 0.5321415986484317,<br>    \"model.autoencoder.params.num_norm\": true,<br>    \"model.autoencoder.params.cat_emb_dim\": 29,<br>    \"model.autoencoder.params.num_emb_dim\": 62<br>  },<br>  \"user_attrs\": {<br>    \"train_OTD overall_mean\": 0.23284973216686863,<br>    \"train_OTD overall_std\": 0.0,<br>    \"train_OTD hours_since_first_tx_mean\": -2.140493658272307,<br>    \"train_OTD hours_since_first_tx_std\": 0.0,<br>    \"train_OTD amnt_mean\": 0.4421836373031531,<br>    \"train_OTD amnt_std\": 0.0,<br>    \"train_OTD payment_system_mean\": 0.8620295648120149,<br>    \"train_OTD payment_system_std\": 0.0,<br>    \"train_OTD mcc_category_mean\": 0.7031620111379902,<br>    \"train_OTD mcc_category_std\": 0.0,<br>    \"train_OTD card_type_mean\": 0.8867112690252998,<br>    \"train_OTD card_type_std\": 0.0,<br>    \"train_OTD mcc_mean\": 0.643505568995061,<br>    \"train_OTD mcc_std\": 0.0,<br>    \"train_Cardinality on mcc_category gen_mean\": 6.005820985787723,<br>    \"train_Cardinality on mcc_category gen_std\": 0.0,<br>    \"train_Cardinality on mcc_category orig_mean\": 7.290721701441387,<br>    \"train_Cardinality on mcc_category orig_std\": 0.0,<br>    \"train_F1_macro on mcc_category_mean\": 0.45459376739349794,<br>    \"train_F1_macro on mcc_category_std\": 0.0,<br>    \"train_F1_micro on mcc_category_mean\": 0.7245733482007862,<br>    \"train_F1_micro on mcc_category_std\": 0.0,<br>    \"loss_mean\": -90.6287315913609,<br>    \"loss_std\": 0.0,<br>    \"OTD overall_mean\": 0.3004033287891704,<br>    \"OTD overall_std\": 0.0,<br>    \"OTD hours_since_first_tx_mean\": -1.741298063349946,<br>    \"OTD hours_since_first_tx_std\": 0.0,<br>    \"OTD amnt_mean\": 0.45288941183493364,<br>    \"OTD amnt_std\": 0.0,<br>    \"OTD payment_system_mean\": 0.8601533068229384,<br>    \"OTD payment_system_std\": 0.0,<br>    \"OTD mcc_category_mean\": 0.7048930863680759,<br>    \"OTD mcc_category_std\": 0.0,<br>    \"OTD card_type_mean\": 0.8819153760290219,<br>    \"OTD card_type_std\": 0.0,<br>    \"OTD mcc_mean\": 0.6438668550299986,<br>    \"OTD mcc_std\": 0.0,<br>    \"Cardinality on mcc_category gen_mean\": 5.988140086507604,<br>    \"Cardinality on mcc_category gen_std\": 0.0,<br>    \"Cardinality on mcc_category orig_mean\": 7.265383005441607,<br>    \"Cardinality on mcc_category orig_std\": 0.0,<br>    \"F1_macro on mcc_category_mean\": 0.45481321995503327,<br>    \"F1_macro on mcc_category_std\": 0.0,<br>    \"F1_micro on mcc_category_mean\": 0.7242439305148598,<br>    \"F1_micro on mcc_category_std\": 0.0,<br>    \"test_loss_mean\": -103.63594156153061,<br>    \"test_loss_std\": 0.0,<br>    \"test_OTD overall_mean\": 0.38233868330369375,<br>    \"test_OTD overall_std\": 0.0,<br>    \"test_OTD hours_since_first_tx_mean\": -1.1648454921265203,<br>    \"test_OTD hours_since_first_tx_std\": 0.0,<br>    \"test_OTD amnt_mean\": 0.40999820129714054,<br>    \"test_OTD amnt_std\": 0.0,<br>    \"test_OTD payment_system_mean\": 0.8492263274699984,<br>    \"test_OTD payment_system_std\": 0.0,<br>    \"test_OTD mcc_category_mean\": 0.698611910241657,<br>    \"test_OTD mcc_category_std\": 0.0,<br>    \"test_OTD card_type_mean\": 0.8685955394816154,<br>    \"test_OTD card_type_std\": 0.0,<br>    \"test_OTD mcc_mean\": 0.6324456134582717,<br>    \"test_OTD mcc_std\": 0.0,<br>    \"test_Cardinality on mcc_category gen_mean\": 6.104772864266535,<br>    \"test_Cardinality on mcc_category gen_std\": 0.0,<br>    \"test_Cardinality on mcc_category orig_mean\": 7.3954737245876485,<br>    \"test_Cardinality on mcc_category orig_std\": 0.0,<br>    \"test_F1_macro on mcc_category_mean\": 0.450423641652758,<br>    \"test_F1_macro on mcc_category_std\": 0.0,<br>    \"test_F1_micro on mcc_category_mean\": 0.7167601649405447,<br>    \"test_F1_micro on mcc_category_std\": 0.0,<br>    \"memory_after_mean\": 75938.0,<br>    \"memory_after_std\": 0.0<br>  }<br>}",
          "{<br>  \"number\": 32,<br>  \"values\": [<br>    -90.10534132094611<br>  ],<br>  \"params\": {<br>    \"optimizer.params.weight_decay\": 2.0294185136467764e-05,<br>    \"optimizer.params.lr\": 0.0009000284475816127,<br>    \"model.latent_encoder.params.hidden_size\": 448,<br>    \"model.latent_encoder.params.num_layers\": 3,<br>    \"model.latent_encoder.params.dropout\": 2.1270373367008838e-07,<br>    \"model.params.k_factor\": 2.8229004663838593,<br>    \"loss.params.matching_weights._presence\": 0.8171246410037114,<br>    \"model.autoencoder.params.num_norm\": true,<br>    \"model.autoencoder.params.cat_emb_dim\": 15,<br>    \"model.autoencoder.params.num_emb_dim\": 88<br>  },<br>  \"user_attrs\": {<br>    \"train_OTD overall_mean\": 0.6907534012586257,<br>    \"train_OTD overall_std\": 0.0,<br>    \"train_OTD hours_since_first_tx_mean\": 0.5270689388193008,<br>    \"train_OTD hours_since_first_tx_std\": 0.0,<br>    \"train_OTD amnt_mean\": 0.480432963014218,<br>    \"train_OTD amnt_std\": 0.0,<br>    \"train_OTD payment_system_mean\": 0.8684570189770013,<br>    \"train_OTD payment_system_std\": 0.0,<br>    \"train_OTD mcc_category_mean\": 0.7215651313309036,<br>    \"train_OTD mcc_category_std\": 0.0,<br>    \"train_OTD card_type_mean\": 0.8879846361694106,<br>    \"train_OTD card_type_std\": 0.0,<br>    \"train_OTD mcc_mean\": 0.65901171924092,<br>    \"train_OTD mcc_std\": 0.0,<br>    \"train_Cardinality on mcc_category gen_mean\": 6.448108583637049,<br>    \"train_Cardinality on mcc_category gen_std\": 0.0,<br>    \"train_Cardinality on mcc_category orig_mean\": 7.26688450421013,<br>    \"train_Cardinality on mcc_category orig_std\": 0.0,<br>    \"train_F1_macro on mcc_category_mean\": 0.47193227388439407,<br>    \"train_F1_macro on mcc_category_std\": 0.0,<br>    \"train_F1_micro on mcc_category_mean\": 0.7347673432198064,<br>    \"train_F1_micro on mcc_category_std\": 0.0,<br>    \"loss_mean\": -90.10534132094611,<br>    \"loss_std\": 0.0,<br>    \"OTD overall_mean\": 0.6884598681195572,<br>    \"OTD overall_std\": 0.0,<br>    \"OTD hours_since_first_tx_mean\": 0.5721965174877577,<br>    \"OTD hours_since_first_tx_std\": 0.0,<br>    \"OTD amnt_mean\": 0.4649653004105538,<br>    \"OTD amnt_std\": 0.0,<br>    \"OTD payment_system_mean\": 0.8558104855588112,<br>    \"OTD payment_system_std\": 0.0,<br>    \"OTD mcc_category_mean\": 0.7132822310590206,<br>    \"OTD mcc_category_std\": 0.0,<br>    \"OTD card_type_mean\": 0.8736352378959118,<br>    \"OTD card_type_std\": 0.0,<br>    \"OTD mcc_mean\": 0.6508694363052882,<br>    \"OTD mcc_std\": 0.0,<br>    \"Cardinality on mcc_category gen_mean\": 6.479280033486814,<br>    \"Cardinality on mcc_category gen_std\": 0.0,<br>    \"Cardinality on mcc_category orig_mean\": 7.265383005441607,<br>    \"Cardinality on mcc_category orig_std\": 0.0,<br>    \"F1_macro on mcc_category_mean\": 0.46601034855210555,<br>    \"F1_macro on mcc_category_std\": 0.0,<br>    \"F1_micro on mcc_category_mean\": 0.727269952560346,<br>    \"F1_micro on mcc_category_std\": 0.0,<br>    \"test_loss_mean\": -97.572535720526,<br>    \"test_loss_std\": 0.0,<br>    \"test_OTD overall_mean\": 0.6804933091893411,<br>    \"test_OTD overall_std\": 0.0,<br>    \"test_OTD hours_since_first_tx_mean\": 0.6075286174412966,<br>    \"test_OTD hours_since_first_tx_std\": 0.0,<br>    \"test_OTD amnt_mean\": 0.4307027594219686,<br>    \"test_OTD amnt_std\": 0.0,<br>    \"test_OTD payment_system_mean\": 0.8428989259685462,<br>    \"test_OTD payment_system_std\": 0.0,<br>    \"test_OTD mcc_category_mean\": 0.7043485259466272,<br>    \"test_OTD mcc_category_std\": 0.0,<br>    \"test_OTD card_type_mean\": 0.8616139925475369,<br>    \"test_OTD card_type_std\": 0.0,<br>    \"test_OTD mcc_mean\": 0.6358670338100718,<br>    \"test_OTD mcc_std\": 0.0,<br>    \"test_Cardinality on mcc_category gen_mean\": 6.476354868759932,<br>    \"test_Cardinality on mcc_category gen_std\": 0.0,<br>    \"test_Cardinality on mcc_category orig_mean\": 7.3954737245876485,<br>    \"test_Cardinality on mcc_category orig_std\": 0.0,<br>    \"test_F1_macro on mcc_category_mean\": 0.4615236265858874,<br>    \"test_F1_macro on mcc_category_std\": 0.0,<br>    \"test_F1_micro on mcc_category_mean\": 0.7185222477943997,<br>    \"test_F1_micro on mcc_category_std\": 0.0,<br>    \"memory_after_mean\": 77550.0,<br>    \"memory_after_std\": 0.0<br>  }<br>}",
          "{<br>  \"number\": 33,<br>  \"values\": [<br>    -89.95187150864373<br>  ],<br>  \"params\": {<br>    \"optimizer.params.weight_decay\": 0.0007613804383215984,<br>    \"optimizer.params.lr\": 0.0029564332165564334,<br>    \"model.latent_encoder.params.hidden_size\": 663,<br>    \"model.latent_encoder.params.num_layers\": 1,<br>    \"model.latent_encoder.params.dropout\": 4.81492626939137e-07,<br>    \"model.params.k_factor\": 1.9089167845963217,<br>    \"loss.params.matching_weights._presence\": 1.1113317044660105,<br>    \"model.autoencoder.params.num_norm\": true,<br>    \"model.autoencoder.params.cat_emb_dim\": 32,<br>    \"model.autoencoder.params.num_emb_dim\": 105<br>  },<br>  \"user_attrs\": {<br>    \"train_OTD overall_mean\": 0.6951974948316534,<br>    \"train_OTD overall_std\": 0.0,<br>    \"train_OTD hours_since_first_tx_mean\": 0.4810570588507654,<br>    \"train_OTD hours_since_first_tx_std\": 0.0,<br>    \"train_OTD amnt_mean\": 0.5331787308462261,<br>    \"train_OTD amnt_std\": 0.0,<br>    \"train_OTD payment_system_mean\": 0.8720770202020202,<br>    \"train_OTD payment_system_std\": 0.0,<br>    \"train_OTD mcc_category_mean\": 0.727058869949495,<br>    \"train_OTD mcc_category_std\": 0.0,<br>    \"train_OTD card_type_mean\": 0.8910519255050505,<br>    \"train_OTD card_type_std\": 0.0,<br>    \"train_OTD mcc_mean\": 0.6667613636363636,<br>    \"train_OTD mcc_std\": 0.0,<br>    \"train_Cardinality on mcc_category gen_mean\": 7.165227272727273,<br>    \"train_Cardinality on mcc_category gen_std\": 0.0,<br>    \"train_Cardinality on mcc_category orig_mean\": 7.285075757575758,<br>    \"train_Cardinality on mcc_category orig_std\": 0.0,<br>    \"train_F1_macro on mcc_category_mean\": 0.4900349956954608,<br>    \"train_F1_macro on mcc_category_std\": 0.0,<br>    \"train_F1_micro on mcc_category_mean\": 0.7403503787878788,<br>    \"train_F1_micro on mcc_category_std\": 0.0,<br>    \"loss_mean\": -89.95187150864373,<br>    \"loss_std\": 0.0,<br>    \"OTD overall_mean\": 0.7014131588492947,<br>    \"OTD overall_std\": 0.0,<br>    \"OTD hours_since_first_tx_mean\": 0.5721965174877576,<br>    \"OTD hours_since_first_tx_std\": 0.0,<br>    \"OTD amnt_mean\": 0.4981711268316745,<br>    \"OTD amnt_std\": 0.0,<br>    \"OTD payment_system_mean\": 0.8671994907213618,<br>    \"OTD payment_system_std\": 0.0,<br>    \"OTD mcc_category_mean\": 0.7228050439514441,<br>    \"OTD mcc_category_std\": 0.0,<br>    \"OTD card_type_mean\": 0.8858657736849449,<br>    \"OTD card_type_std\": 0.0,<br>    \"OTD mcc_mean\": 0.6622410004185851,<br>    \"OTD mcc_std\": 0.0,<br>    \"Cardinality on mcc_category gen_mean\": 7.16910841356216,<br>    \"Cardinality on mcc_category gen_std\": 0.0,<br>    \"Cardinality on mcc_category orig_mean\": 7.265383005441607,<br>    \"Cardinality on mcc_category orig_std\": 0.0,<br>    \"F1_macro on mcc_category_mean\": 0.48840235646066454,<br>    \"F1_macro on mcc_category_std\": 0.0,<br>    \"F1_micro on mcc_category_mean\": 0.7384322240826008,<br>    \"F1_micro on mcc_category_std\": 0.0,<br>    \"test_loss_mean\": -95.21911090028053,<br>    \"test_loss_std\": 0.0,<br>    \"test_OTD overall_mean\": 0.6930092353589993,<br>    \"test_OTD overall_std\": 0.0,<br>    \"test_OTD hours_since_first_tx_mean\": 0.6075286174412966,<br>    \"test_OTD hours_since_first_tx_std\": 0.0,<br>    \"test_OTD amnt_mean\": 0.4619072128178002,<br>    \"test_OTD amnt_std\": 0.0,<br>    \"test_OTD payment_system_mean\": 0.8508240177543975,<br>    \"test_OTD payment_system_std\": 0.0,<br>    \"test_OTD mcc_category_mean\": 0.71576182256562,<br>    \"test_OTD mcc_category_std\": 0.0,<br>    \"test_OTD card_type_mean\": 0.872609458052496,<br>    \"test_OTD card_type_std\": 0.0,<br>    \"test_OTD mcc_mean\": 0.6494242835223848,<br>    \"test_OTD mcc_std\": 0.0,<br>    \"test_Cardinality on mcc_category gen_mean\": 7.325716477615212,<br>    \"test_Cardinality on mcc_category gen_std\": 0.0,<br>    \"test_Cardinality on mcc_category orig_mean\": 7.3954737245876485,<br>    \"test_Cardinality on mcc_category orig_std\": 0.0,<br>    \"test_F1_macro on mcc_category_mean\": 0.4842467025801333,<br>    \"test_F1_macro on mcc_category_std\": 0.0,<br>    \"test_F1_micro on mcc_category_mean\": 0.7310674557510001,<br>    \"test_F1_micro on mcc_category_std\": 0.0,<br>    \"memory_after_mean\": 59250.0,<br>    \"memory_after_std\": 0.0<br>  }<br>}",
          "{<br>  \"number\": 34,<br>  \"values\": [<br>    -89.73819260370163<br>  ],<br>  \"params\": {<br>    \"optimizer.params.weight_decay\": 7.18712926144013e-06,<br>    \"optimizer.params.lr\": 0.0005378951398560066,<br>    \"model.latent_encoder.params.hidden_size\": 299,<br>    \"model.latent_encoder.params.num_layers\": 1,<br>    \"model.latent_encoder.params.dropout\": 4.2619928495690184e-07,<br>    \"model.params.k_factor\": 2.8031351262683484,<br>    \"loss.params.matching_weights._presence\": 0.31541072441519546,<br>    \"model.autoencoder.params.num_norm\": true,<br>    \"model.autoencoder.params.cat_emb_dim\": 12,<br>    \"model.autoencoder.params.num_emb_dim\": 91<br>  },<br>  \"user_attrs\": {<br>    \"train_OTD overall_mean\": 0.6879196022521076,<br>    \"train_OTD overall_std\": 0.0,<br>    \"train_OTD hours_since_first_tx_mean\": 0.4810570588507654,<br>    \"train_OTD hours_since_first_tx_std\": 0.0,<br>    \"train_OTD amnt_mean\": 0.5183915837022834,<br>    \"train_OTD amnt_std\": 0.0,<br>    \"train_OTD payment_system_mean\": 0.8671077967171718,<br>    \"train_OTD payment_system_std\": 0.0,<br>    \"train_OTD mcc_category_mean\": 0.7124076704545454,<br>    \"train_OTD mcc_category_std\": 0.0,<br>    \"train_OTD card_type_mean\": 0.8911923926767676,<br>    \"train_OTD card_type_std\": 0.0,<br>    \"train_OTD mcc_mean\": 0.6573611111111111,<br>    \"train_OTD mcc_std\": 0.0,<br>    \"train_Cardinality on mcc_category gen_mean\": 5.809873737373738,<br>    \"train_Cardinality on mcc_category gen_std\": 0.0,<br>    \"train_Cardinality on mcc_category orig_mean\": 7.285075757575758,<br>    \"train_Cardinality on mcc_category orig_std\": 0.0,<br>    \"train_F1_macro on mcc_category_mean\": 0.4553604013402635,<br>    \"train_F1_macro on mcc_category_std\": 0.0,<br>    \"train_F1_micro on mcc_category_mean\": 0.7256281565656566,<br>    \"train_F1_micro on mcc_category_std\": 0.0,<br>    \"loss_mean\": -89.73819260370163,<br>    \"loss_std\": 0.0,<br>    \"OTD overall_mean\": 0.6928443353736714,<br>    \"OTD overall_std\": 0.0,<br>    \"OTD hours_since_first_tx_mean\": 0.5721965174877576,<br>    \"OTD hours_since_first_tx_std\": 0.0,<br>    \"OTD amnt_mean\": 0.4824033303898228,<br>    \"OTD amnt_std\": 0.0,<br>    \"OTD payment_system_mean\": 0.8594382238035441,<br>    \"OTD payment_system_std\": 0.0,<br>    \"OTD mcc_category_mean\": 0.7082156062508721,<br>    \"OTD mcc_category_std\": 0.0,<br>    \"OTD card_type_mean\": 0.882294718850286,<br>    \"OTD card_type_std\": 0.0,<br>    \"OTD mcc_mean\": 0.6525176154597461,<br>    \"OTD mcc_std\": 0.0,<br>    \"Cardinality on mcc_category gen_mean\": 5.799497697781499,<br>    \"Cardinality on mcc_category gen_std\": 0.0,<br>    \"Cardinality on mcc_category orig_mean\": 7.265383005441607,<br>    \"Cardinality on mcc_category orig_std\": 0.0,<br>    \"F1_macro on mcc_category_mean\": 0.4540964188080537,<br>    \"F1_macro on mcc_category_std\": 0.0,<br>    \"F1_micro on mcc_category_mean\": 0.7238297055950886,<br>    \"F1_micro on mcc_category_std\": 0.0,<br>    \"test_loss_mean\": -97.20340414608226,<br>    \"test_loss_std\": 0.0,<br>    \"test_OTD overall_mean\": 0.6827034657221785,<br>    \"test_OTD overall_std\": 0.0,<br>    \"test_OTD hours_since_first_tx_mean\": 0.6075286174412966,<br>    \"test_OTD hours_since_first_tx_std\": 0.0,<br>    \"test_OTD amnt_mean\": 0.4335436071071288,<br>    \"test_OTD amnt_std\": 0.0,<br>    \"test_OTD payment_system_mean\": 0.8453305660584142,<br>    \"test_OTD payment_system_std\": 0.0,<br>    \"test_OTD mcc_category_mean\": 0.7016959833415529,<br>    \"test_OTD mcc_category_std\": 0.0,<br>    \"test_OTD card_type_mean\": 0.8688883637459587,<br>    \"test_OTD card_type_std\": 0.0,<br>    \"test_OTD mcc_mean\": 0.6392336566387199,<br>    \"test_OTD mcc_std\": 0.0,<br>    \"test_Cardinality on mcc_category gen_mean\": 5.988602115184394,<br>    \"test_Cardinality on mcc_category gen_std\": 0.0,<br>    \"test_Cardinality on mcc_category orig_mean\": 7.3954737245876485,<br>    \"test_Cardinality on mcc_category orig_std\": 0.0,<br>    \"test_F1_macro on mcc_category_mean\": 0.4510456302634424,<br>    \"test_F1_macro on mcc_category_std\": 0.0,<br>    \"test_F1_micro on mcc_category_mean\": 0.7160734834785468,<br>    \"test_F1_micro on mcc_category_std\": 0.0,<br>    \"memory_after_mean\": 76312.0,<br>    \"memory_after_std\": 0.0<br>  }<br>}",
          "{<br>  \"number\": 35,<br>  \"values\": [<br>    -89.60574604216076<br>  ],<br>  \"params\": {<br>    \"optimizer.params.weight_decay\": 0.0013411338581584644,<br>    \"optimizer.params.lr\": 0.0021679677971091797,<br>    \"model.latent_encoder.params.hidden_size\": 198,<br>    \"model.latent_encoder.params.num_layers\": 1,<br>    \"model.latent_encoder.params.dropout\": 6.156057736007828e-06,<br>    \"model.params.k_factor\": 1.9880601780691256,<br>    \"loss.params.matching_weights._presence\": 0.6989580548422127,<br>    \"model.autoencoder.params.num_norm\": false,<br>    \"model.autoencoder.params.cat_emb_dim\": 26,<br>    \"model.autoencoder.params.num_emb_dim\": 87<br>  },<br>  \"user_attrs\": {<br>    \"train_OTD overall_mean\": 0.6945736683199263,<br>    \"train_OTD overall_std\": 0.0,<br>    \"train_OTD hours_since_first_tx_mean\": 0.48105705885076533,<br>    \"train_OTD hours_since_first_tx_std\": 0.0,<br>    \"train_OTD amnt_mean\": 0.5328125078869752,<br>    \"train_OTD amnt_std\": 0.0,<br>    \"train_OTD payment_system_mean\": 0.8726120580808081,<br>    \"train_OTD payment_system_std\": 0.0,<br>    \"train_OTD mcc_category_mean\": 0.7246811868686869,<br>    \"train_OTD mcc_category_std\": 0.0,<br>    \"train_OTD card_type_mean\": 0.8913683712121212,<br>    \"train_OTD card_type_std\": 0.0,<br>    \"train_OTD mcc_mean\": 0.664910827020202,<br>    \"train_OTD mcc_std\": 0.0,<br>    \"train_Cardinality on mcc_category gen_mean\": 6.594924242424242,<br>    \"train_Cardinality on mcc_category gen_std\": 0.0,<br>    \"train_Cardinality on mcc_category orig_mean\": 7.285075757575758,<br>    \"train_Cardinality on mcc_category orig_std\": 0.0,<br>    \"train_F1_macro on mcc_category_mean\": 0.4822492190510996,<br>    \"train_F1_macro on mcc_category_std\": 0.0,<br>    \"train_F1_micro on mcc_category_mean\": 0.7373074494949495,<br>    \"train_F1_micro on mcc_category_std\": 0.0,<br>    \"loss_mean\": -89.60574604216076,<br>    \"loss_std\": 0.0,<br>    \"OTD overall_mean\": 0.7020051817665663,<br>    \"OTD overall_std\": 0.0,<br>    \"OTD hours_since_first_tx_mean\": 0.5721965174877576,<br>    \"OTD hours_since_first_tx_std\": 0.0,<br>    \"OTD amnt_mean\": 0.4989981003894412,<br>    \"OTD amnt_std\": 0.0,<br>    \"OTD payment_system_mean\": 0.8689043532858937,<br>    \"OTD payment_system_std\": 0.0,<br>    \"OTD mcc_category_mean\": 0.722334135621599,<br>    \"OTD mcc_category_std\": 0.0,<br>    \"OTD card_type_mean\": 0.8866506209013534,<br>    \"OTD card_type_std\": 0.0,<br>    \"OTD mcc_mean\": 0.6629473629133529,<br>    \"OTD mcc_std\": 0.0,<br>    \"Cardinality on mcc_category gen_mean\": 6.595367657318264,<br>    \"Cardinality on mcc_category gen_std\": 0.0,<br>    \"Cardinality on mcc_category orig_mean\": 7.265383005441607,<br>    \"Cardinality on mcc_category orig_std\": 0.0,<br>    \"F1_macro on mcc_category_mean\": 0.481691879032537,<br>    \"F1_macro on mcc_category_std\": 0.0,<br>    \"F1_micro on mcc_category_mean\": 0.7371764685363471,<br>    \"F1_micro on mcc_category_std\": 0.0,<br>    \"test_loss_mean\": -94.2075964235792,<br>    \"test_loss_std\": 0.0,<br>    \"test_OTD overall_mean\": 0.6923952120648607,<br>    \"test_OTD overall_std\": 0.0,<br>    \"test_OTD hours_since_first_tx_mean\": 0.6075286174412966,<br>    \"test_OTD hours_since_first_tx_std\": 0.0,<br>    \"test_OTD amnt_mean\": 0.45399852650247324,<br>    \"test_OTD amnt_std\": 0.0,<br>    \"test_OTD payment_system_mean\": 0.8544543536632144,<br>    \"test_OTD payment_system_std\": 0.0,<br>    \"test_OTD mcc_category_mean\": 0.7147720423036878,<br>    \"test_OTD mcc_category_std\": 0.0,<br>    \"test_OTD card_type_mean\": 0.874422913584306,<br>    \"test_OTD card_type_std\": 0.0,<br>    \"test_OTD mcc_mean\": 0.649194818894186,<br>    \"test_OTD mcc_std\": 0.0,<br>    \"test_Cardinality on mcc_category gen_mean\": 6.678448134144337,<br>    \"test_Cardinality on mcc_category gen_std\": 0.0,<br>    \"test_Cardinality on mcc_category orig_mean\": 7.3954737245876485,<br>    \"test_Cardinality on mcc_category orig_std\": 0.0,<br>    \"test_F1_macro on mcc_category_mean\": 0.4763336753609539,<br>    \"test_F1_macro on mcc_category_std\": 0.0,<br>    \"test_F1_micro on mcc_category_mean\": 0.7290536467751657,<br>    \"test_F1_micro on mcc_category_std\": 0.0,<br>    \"memory_after_mean\": 69936.0,<br>    \"memory_after_std\": 0.0<br>  }<br>}",
          "{<br>  \"number\": 36,<br>  \"values\": [<br>    -89.46120234898159<br>  ],<br>  \"params\": {<br>    \"optimizer.params.weight_decay\": 2.3129813948882195e-14,<br>    \"optimizer.params.lr\": 0.0030886830248818982,<br>    \"model.latent_encoder.params.hidden_size\": 41,<br>    \"model.latent_encoder.params.num_layers\": 5,<br>    \"model.latent_encoder.params.dropout\": 3.0715848396770115e-06,<br>    \"model.params.k_factor\": 2.9608226230642494,<br>    \"loss.params.matching_weights._presence\": 0.48545835304152735,<br>    \"model.autoencoder.params.num_norm\": true,<br>    \"model.autoencoder.params.cat_emb_dim\": 18,<br>    \"model.autoencoder.params.num_emb_dim\": 46<br>  },<br>  \"user_attrs\": {<br>    \"train_OTD overall_mean\": 0.48352341260926335,<br>    \"train_OTD overall_std\": 0.0,<br>    \"train_OTD hours_since_first_tx_mean\": -0.6375941209799212,<br>    \"train_OTD hours_since_first_tx_std\": 0.0,<br>    \"train_OTD amnt_mean\": 0.4392273960004848,<br>    \"train_OTD amnt_std\": 0.0,<br>    \"train_OTD payment_system_mean\": 0.862920194536841,<br>    \"train_OTD payment_system_std\": 0.0,<br>    \"train_OTD mcc_category_mean\": 0.7031612236669691,<br>    \"train_OTD mcc_category_std\": 0.0,<br>    \"train_OTD card_type_mean\": 0.8875617377280516,<br>    \"train_OTD card_type_std\": 0.0,<br>    \"train_OTD mcc_mean\": 0.645864044703155,<br>    \"train_OTD mcc_std\": 0.0,<br>    \"train_Cardinality on mcc_category gen_mean\": 5.836332022981554,<br>    \"train_Cardinality on mcc_category gen_std\": 0.0,<br>    \"train_Cardinality on mcc_category orig_mean\": 7.290721701441387,<br>    \"train_Cardinality on mcc_category orig_std\": 0.0,<br>    \"train_F1_macro on mcc_category_mean\": 0.4508886484173264,<br>    \"train_F1_macro on mcc_category_std\": 0.0,<br>    \"train_F1_micro on mcc_category_mean\": 0.7234590767059772,<br>    \"train_F1_micro on mcc_category_std\": 0.0,<br>    \"loss_mean\": -89.46120234898159,<br>    \"loss_std\": 0.0,<br>    \"OTD overall_mean\": 0.5125826437231064,<br>    \"OTD overall_std\": 0.0,<br>    \"OTD hours_since_first_tx_mean\": -0.46827763158841995,<br>    \"OTD hours_since_first_tx_std\": 0.0,<br>    \"OTD amnt_mean\": 0.4505423651423501,<br>    \"OTD amnt_std\": 0.0,<br>    \"OTD payment_system_mean\": 0.8612956955490443,<br>    \"OTD payment_system_std\": 0.0,<br>    \"OTD mcc_category_mean\": 0.7045486256453188,<br>    \"OTD mcc_category_std\": 0.0,<br>    \"OTD card_type_mean\": 0.8803107994976977,<br>    \"OTD card_type_std\": 0.0,<br>    \"OTD mcc_mean\": 0.6470760080926469,<br>    \"OTD mcc_std\": 0.0,<br>    \"Cardinality on mcc_category gen_mean\": 5.819031672945444,<br>    \"Cardinality on mcc_category gen_std\": 0.0,<br>    \"Cardinality on mcc_category orig_mean\": 7.265383005441607,<br>    \"Cardinality on mcc_category orig_std\": 0.0,<br>    \"F1_macro on mcc_category_mean\": 0.4507380901891869,<br>    \"F1_macro on mcc_category_std\": 0.0,<br>    \"F1_micro on mcc_category_mean\": 0.7232759522812893,<br>    \"F1_micro on mcc_category_std\": 0.0,<br>    \"test_loss_mean\": -103.04486824484432,<br>    \"test_loss_std\": 0.0,<br>    \"test_OTD overall_mean\": 0.5395657620401767,<br>    \"test_OTD overall_std\": 0.0,<br>    \"test_OTD hours_since_first_tx_mean\": -0.2242040783082007,<br>    \"test_OTD hours_since_first_tx_std\": 0.0,<br>    \"test_OTD amnt_mean\": 0.411224314969229,<br>    \"test_OTD amnt_std\": 0.0,<br>    \"test_OTD payment_system_mean\": 0.8472142309167625,<br>    \"test_OTD payment_system_std\": 0.0,<br>    \"test_OTD mcc_category_mean\": 0.6997523836922571,<br>    \"test_OTD mcc_category_std\": 0.0,<br>    \"test_OTD card_type_mean\": 0.8681554468738013,<br>    \"test_OTD card_type_std\": 0.0,<br>    \"test_OTD mcc_mean\": 0.6352522740972109,<br>    \"test_OTD mcc_std\": 0.0,<br>    \"test_Cardinality on mcc_category gen_mean\": 5.960381390761137,<br>    \"test_Cardinality on mcc_category gen_std\": 0.0,<br>    \"test_Cardinality on mcc_category orig_mean\": 7.3954737245876485,<br>    \"test_Cardinality on mcc_category orig_std\": 0.0,<br>    \"test_F1_macro on mcc_category_mean\": 0.4491920218207043,<br>    \"test_F1_macro on mcc_category_std\": 0.0,<br>    \"test_F1_micro on mcc_category_mean\": 0.7171985451257603,<br>    \"test_F1_micro on mcc_category_std\": 0.0,<br>    \"memory_after_mean\": 74318.0,<br>    \"memory_after_std\": 0.0<br>  }<br>}",
          "{<br>  \"number\": 37,<br>  \"values\": [<br>    -89.2978451138451<br>  ],<br>  \"params\": {<br>    \"optimizer.params.weight_decay\": 9.040732640209205e-06,<br>    \"optimizer.params.lr\": 0.003608990217955433,<br>    \"model.latent_encoder.params.hidden_size\": 55,<br>    \"model.latent_encoder.params.num_layers\": 1,<br>    \"model.latent_encoder.params.dropout\": 2.1991696672498167e-08,<br>    \"model.params.k_factor\": 2.3510494335717342,<br>    \"loss.params.matching_weights._presence\": 0.8167396949665741,<br>    \"model.autoencoder.params.num_norm\": true,<br>    \"model.autoencoder.params.cat_emb_dim\": 23,<br>    \"model.autoencoder.params.num_emb_dim\": 108<br>  },<br>  \"user_attrs\": {<br>    \"train_OTD overall_mean\": 0.6928492964503737,<br>    \"train_OTD overall_std\": 0.0,<br>    \"train_OTD hours_since_first_tx_mean\": 0.4856039150456276,<br>    \"train_OTD hours_since_first_tx_std\": 0.0,<br>    \"train_OTD amnt_mean\": 0.5296048701876183,<br>    \"train_OTD amnt_std\": 0.0,<br>    \"train_OTD payment_system_mean\": 0.8692908881155912,<br>    \"train_OTD payment_system_std\": 0.0,<br>    \"train_OTD mcc_category_mean\": 0.72308403938775,<br>    \"train_OTD mcc_category_std\": 0.0,<br>    \"train_OTD card_type_mean\": 0.8884426141664775,<br>    \"train_OTD card_type_std\": 0.0,<br>    \"train_OTD mcc_mean\": 0.661069451799178,<br>    \"train_OTD mcc_std\": 0.0,<br>    \"train_Cardinality on mcc_category gen_mean\": 6.3782434374763595,<br>    \"train_Cardinality on mcc_category gen_std\": 0.0,<br>    \"train_Cardinality on mcc_category orig_mean\": 7.262097485941952,<br>    \"train_Cardinality on mcc_category orig_std\": 0.0,<br>    \"train_F1_macro on mcc_category_mean\": 0.47590267564786326,<br>    \"train_F1_macro on mcc_category_std\": 0.0,<br>    \"train_F1_micro on mcc_category_mean\": 0.735265842095973,<br>    \"train_F1_micro on mcc_category_std\": 0.0,<br>    \"loss_mean\": -89.2978451138451,<br>    \"loss_std\": 0.0,<br>    \"OTD overall_mean\": 0.6944147285386152,<br>    \"OTD overall_std\": 0.0,<br>    \"OTD hours_since_first_tx_mean\": 0.5721965174877576,<br>    \"OTD hours_since_first_tx_std\": 0.0,<br>    \"OTD amnt_mean\": 0.4696929978767646,<br>    \"OTD amnt_std\": 0.0,<br>    \"OTD payment_system_mean\": 0.8654074229105623,<br>    \"OTD payment_system_std\": 0.0,<br>    \"OTD mcc_category_mean\": 0.7182790916701549,<br>    \"OTD mcc_category_std\": 0.0,<br>    \"OTD card_type_mean\": 0.8832888586577369,<br>    \"OTD card_type_std\": 0.0,<br>    \"OTD mcc_mean\": 0.657623482628715,<br>    \"OTD mcc_std\": 0.0,<br>    \"Cardinality on mcc_category gen_mean\": 6.37198269847914,<br>    \"Cardinality on mcc_category gen_std\": 0.0,<br>    \"Cardinality on mcc_category orig_mean\": 7.265383005441607,<br>    \"Cardinality on mcc_category orig_std\": 0.0,<br>    \"F1_macro on mcc_category_mean\": 0.47344918351753285,<br>    \"F1_macro on mcc_category_std\": 0.0,<br>    \"F1_micro on mcc_category_mean\": 0.733487686619227,<br>    \"F1_micro on mcc_category_std\": 0.0,<br>    \"test_loss_mean\": -95.51339261672076,<br>    \"test_loss_std\": 0.0,<br>    \"test_OTD overall_mean\": 0.6880172368177372,<br>    \"test_OTD overall_std\": 0.0,<br>    \"test_OTD hours_since_first_tx_mean\": 0.6075286174412966,<br>    \"test_OTD hours_since_first_tx_std\": 0.0,<br>    \"test_OTD amnt_mean\": 0.4326830011745898,<br>    \"test_OTD amnt_std\": 0.0,<br>    \"test_OTD payment_system_mean\": 0.8595368239355581,<br>    \"test_OTD payment_system_std\": 0.0,<br>    \"test_OTD mcc_category_mean\": 0.7127017233821031,<br>    \"test_OTD mcc_category_std\": 0.0,<br>    \"test_OTD card_type_mean\": 0.870826826127459,<br>    \"test_OTD card_type_std\": 0.0,<br>    \"test_OTD mcc_mean\": 0.6448264288454162,<br>    \"test_OTD mcc_std\": 0.0,<br>    \"test_Cardinality on mcc_category gen_mean\": 6.4852868650337,<br>    \"test_Cardinality on mcc_category gen_std\": 0.0,<br>    \"test_Cardinality on mcc_category orig_mean\": 7.3954737245876485,<br>    \"test_Cardinality on mcc_category orig_std\": 0.0,<br>    \"test_F1_macro on mcc_category_mean\": 0.47095335886329265,<br>    \"test_F1_macro on mcc_category_std\": 0.0,<br>    \"test_F1_micro on mcc_category_mean\": 0.7279234478601567,<br>    \"test_F1_micro on mcc_category_std\": 0.0,<br>    \"memory_after_mean\": 78784.0,<br>    \"memory_after_std\": 0.0<br>  }<br>}",
          "{<br>  \"number\": 38,<br>  \"values\": [<br>    -88.96117510114398<br>  ],<br>  \"params\": {<br>    \"optimizer.params.weight_decay\": 1.6700115870714806e-12,<br>    \"optimizer.params.lr\": 0.0005636466313271253,<br>    \"model.latent_encoder.params.hidden_size\": 97,<br>    \"model.latent_encoder.params.num_layers\": 6,<br>    \"model.latent_encoder.params.dropout\": 0.0011664623917291088,<br>    \"model.params.k_factor\": 2.955104767126993,<br>    \"loss.params.matching_weights._presence\": 0.6032612940431843,<br>    \"model.autoencoder.params.num_norm\": true,<br>    \"model.autoencoder.params.cat_emb_dim\": 29,<br>    \"model.autoencoder.params.num_emb_dim\": 74<br>  },<br>  \"user_attrs\": {<br>    \"train_OTD overall_mean\": 0.1469513230431876,<br>    \"train_OTD overall_std\": 0.0,<br>    \"train_OTD hours_since_first_tx_mean\": -2.676181447504465,<br>    \"train_OTD hours_since_first_tx_std\": 0.0,<br>    \"train_OTD amnt_mean\": 0.4497948136438447,<br>    \"train_OTD amnt_std\": 0.0,<br>    \"train_OTD payment_system_mean\": 0.8635730080133052,<br>    \"train_OTD payment_system_std\": 0.0,<br>    \"train_OTD mcc_category_mean\": 0.708293172311259,<br>    \"train_OTD mcc_category_std\": 0.0,<br>    \"train_OTD card_type_mean\": 0.8880570570003024,<br>    \"train_OTD card_type_std\": 0.0,<br>    \"train_OTD mcc_mean\": 0.6481713347948795,<br>    \"train_OTD mcc_std\": 0.0,<br>    \"train_Cardinality on mcc_category gen_mean\": 5.977623223465376,<br>    \"train_Cardinality on mcc_category gen_std\": 0.0,<br>    \"train_Cardinality on mcc_category orig_mean\": 7.290721701441387,<br>    \"train_Cardinality on mcc_category orig_std\": 0.0,<br>    \"train_F1_macro on mcc_category_mean\": 0.4570176992055575,<br>    \"train_F1_macro on mcc_category_std\": 0.0,<br>    \"train_F1_micro on mcc_category_mean\": 0.7268396897994154,<br>    \"train_F1_micro on mcc_category_std\": 0.0,<br>    \"loss_mean\": -88.96117510114398,<br>    \"loss_std\": 0.0,<br>    \"OTD overall_mean\": 0.23873825274876892,<br>    \"OTD overall_std\": 0.0,<br>    \"OTD hours_since_first_tx_mean\": -2.1265637414221708,<br>    \"OTD hours_since_first_tx_std\": 0.0,<br>    \"OTD amnt_mean\": 0.46175940832639323,<br>    \"OTD amnt_std\": 0.0,<br>    \"OTD payment_system_mean\": 0.8615267894516534,<br>    \"OTD payment_system_std\": 0.0,<br>    \"OTD mcc_category_mean\": 0.7088260429747454,<br>    \"OTD mcc_category_std\": 0.0,<br>    \"OTD card_type_mean\": 0.8785928561462257,<br>    \"OTD card_type_std\": 0.0,<br>    \"OTD mcc_mean\": 0.6482881610157667,<br>    \"OTD mcc_std\": 0.0,<br>    \"Cardinality on mcc_category gen_mean\": 5.974466303892842,<br>    \"Cardinality on mcc_category gen_std\": 0.0,<br>    \"Cardinality on mcc_category orig_mean\": 7.265383005441607,<br>    \"Cardinality on mcc_category orig_std\": 0.0,<br>    \"F1_macro on mcc_category_mean\": 0.45675382728527814,<br>    \"F1_macro on mcc_category_std\": 0.0,<br>    \"F1_micro on mcc_category_mean\": 0.7264545835077438,<br>    \"F1_micro on mcc_category_std\": 0.0,<br>    \"test_loss_mean\": -102.40889092987659,<br>    \"test_loss_std\": 0.0,<br>    \"test_OTD overall_mean\": -0.17762255925952056,<br>    \"test_OTD overall_std\": 0.0,<br>    \"test_OTD hours_since_first_tx_mean\": -4.535555380530819,<br>    \"test_OTD hours_since_first_tx_std\": 0.0,<br>    \"test_OTD amnt_mean\": 0.42116324925995735,<br>    \"test_OTD amnt_std\": 0.0,<br>    \"test_OTD payment_system_mean\": 0.8427139843279083,<br>    \"test_OTD payment_system_std\": 0.0,<br>    \"test_OTD mcc_category_mean\": 0.7019785330703052,<br>    \"test_OTD mcc_category_std\": 0.0,<br>    \"test_OTD card_type_mean\": 0.8687856183900488,<br>    \"test_OTD card_type_std\": 0.0,<br>    \"test_OTD mcc_mean\": 0.6351786399254754,<br>    \"test_OTD mcc_std\": 0.0,<br>    \"test_Cardinality on mcc_category gen_mean\": 6.0635651268562665,<br>    \"test_Cardinality on mcc_category gen_std\": 0.0,<br>    \"test_Cardinality on mcc_category orig_mean\": 7.3954737245876485,<br>    \"test_Cardinality on mcc_category orig_std\": 0.0,<br>    \"test_F1_macro on mcc_category_mean\": 0.4526759087580004,<br>    \"test_F1_macro on mcc_category_std\": 0.0,<br>    \"test_F1_micro on mcc_category_mean\": 0.7188030851005535,<br>    \"test_F1_micro on mcc_category_std\": 0.0,<br>    \"memory_after_mean\": 79994.0,<br>    \"memory_after_std\": 0.0<br>  }<br>}",
          "{<br>  \"number\": 39,<br>  \"values\": [<br>    -88.72752244131905<br>  ],<br>  \"params\": {<br>    \"optimizer.params.weight_decay\": 0.0026719387538460876,<br>    \"optimizer.params.lr\": 0.0004001698574866307,<br>    \"model.latent_encoder.params.hidden_size\": 814,<br>    \"model.latent_encoder.params.num_layers\": 1,<br>    \"model.latent_encoder.params.dropout\": 3.737739139628567e-05,<br>    \"model.params.k_factor\": 2.5423957118465927,<br>    \"loss.params.matching_weights._presence\": 0.5764478542814521,<br>    \"model.autoencoder.params.num_norm\": true,<br>    \"model.autoencoder.params.cat_emb_dim\": 36,<br>    \"model.autoencoder.params.num_emb_dim\": 74<br>  },<br>  \"user_attrs\": {<br>    \"train_OTD overall_mean\": 0.693475863698917,<br>    \"train_OTD overall_std\": 0.0,<br>    \"train_OTD hours_since_first_tx_mean\": 0.4810570588507655,<br>    \"train_OTD hours_since_first_tx_std\": 0.0,<br>    \"train_OTD amnt_mean\": 0.5349677887467762,<br>    \"train_OTD amnt_std\": 0.0,<br>    \"train_OTD payment_system_mean\": 0.8715380366161616,<br>    \"train_OTD payment_system_std\": 0.0,<br>    \"train_OTD mcc_category_mean\": 0.7201736111111111,<br>    \"train_OTD mcc_category_std\": 0.0,<br>    \"train_OTD card_type_mean\": 0.891065340909091,<br>    \"train_OTD card_type_std\": 0.0,<br>    \"train_OTD mcc_mean\": 0.662053345959596,<br>    \"train_OTD mcc_std\": 0.0,<br>    \"train_Cardinality on mcc_category gen_mean\": 6.165025252525252,<br>    \"train_Cardinality on mcc_category gen_std\": 0.0,<br>    \"train_Cardinality on mcc_category orig_mean\": 7.285075757575758,<br>    \"train_Cardinality on mcc_category orig_std\": 0.0,<br>    \"train_F1_macro on mcc_category_mean\": 0.46944389040192763,<br>    \"train_F1_macro on mcc_category_std\": 0.0,<br>    \"train_F1_micro on mcc_category_mean\": 0.7332465277777778,<br>    \"train_F1_micro on mcc_category_std\": 0.0,<br>    \"loss_mean\": -88.72752244131905,<br>    \"loss_std\": 0.0,<br>    \"OTD overall_mean\": 0.6983168533132652,<br>    \"OTD overall_std\": 0.0,<br>    \"OTD hours_since_first_tx_mean\": 0.5721965174877576,<br>    \"OTD hours_since_first_tx_std\": 0.0,<br>    \"OTD amnt_mean\": 0.49700382103282675,<br>    \"OTD amnt_std\": 0.0,<br>    \"OTD payment_system_mean\": 0.8637461629691642,<br>    \"OTD payment_system_std\": 0.0,<br>    \"OTD mcc_category_mean\": 0.7163126133668202,<br>    \"OTD mcc_category_std\": 0.0,<br>    \"OTD card_type_mean\": 0.8829138760987861,<br>    \"OTD card_type_std\": 0.0,<br>    \"OTD mcc_mean\": 0.657728128924236,<br>    \"OTD mcc_std\": 0.0,<br>    \"Cardinality on mcc_category gen_mean\": 6.149434910004186,<br>    \"Cardinality on mcc_category gen_std\": 0.0,<br>    \"Cardinality on mcc_category orig_mean\": 7.265383005441607,<br>    \"Cardinality on mcc_category orig_std\": 0.0,<br>    \"F1_macro on mcc_category_mean\": 0.4682614860940849,<br>    \"F1_macro on mcc_category_std\": 0.0,<br>    \"F1_micro on mcc_category_mean\": 0.7316650969722338,<br>    \"F1_micro on mcc_category_std\": 0.0,<br>    \"test_loss_mean\": -94.18249332203584,<br>    \"test_loss_std\": 0.0,<br>    \"test_OTD overall_mean\": 0.6885448321978903,<br>    \"test_OTD overall_std\": 0.0,<br>    \"test_OTD hours_since_first_tx_mean\": 0.6075286174412966,<br>    \"test_OTD hours_since_first_tx_std\": 0.0,<br>    \"test_OTD amnt_mean\": 0.4564798409222189,<br>    \"test_OTD amnt_std\": 0.0,<br>    \"test_OTD payment_system_mean\": 0.8447843032494932,<br>    \"test_OTD payment_system_std\": 0.0,<br>    \"test_OTD mcc_category_mean\": 0.7087956874349279,<br>    \"test_OTD mcc_category_std\": 0.0,<br>    \"test_OTD card_type_mean\": 0.8701555564688476,<br>    \"test_OTD card_type_std\": 0.0,<br>    \"test_OTD mcc_mean\": 0.6435249876705573,<br>    \"test_OTD mcc_std\": 0.0,<br>    \"test_Cardinality on mcc_category gen_mean\": 6.2492739328182365,<br>    \"test_Cardinality on mcc_category gen_std\": 0.0,<br>    \"test_Cardinality on mcc_category orig_mean\": 7.3954737245876485,<br>    \"test_Cardinality on mcc_category orig_std\": 0.0,<br>    \"test_F1_macro on mcc_category_mean\": 0.4630884241037718,<br>    \"test_F1_macro on mcc_category_std\": 0.0,<br>    \"test_F1_micro on mcc_category_mean\": 0.7234779987944545,<br>    \"test_F1_micro on mcc_category_std\": 0.0,<br>    \"memory_after_mean\": 80396.0,<br>    \"memory_after_std\": 0.0<br>  }<br>}",
          "{<br>  \"number\": 40,<br>  \"values\": [<br>    -88.68202945164272<br>  ],<br>  \"params\": {<br>    \"optimizer.params.weight_decay\": 0.0004082970380501202,<br>    \"optimizer.params.lr\": 0.0026037521515427215,<br>    \"model.latent_encoder.params.hidden_size\": 965,<br>    \"model.latent_encoder.params.num_layers\": 2,<br>    \"model.latent_encoder.params.dropout\": 6.659630436858362e-07,<br>    \"model.params.k_factor\": 2.2816818715468803,<br>    \"loss.params.matching_weights._presence\": 0.9936038282195516,<br>    \"model.autoencoder.params.num_norm\": true,<br>    \"model.autoencoder.params.cat_emb_dim\": 65,<br>    \"model.autoencoder.params.num_emb_dim\": 98<br>  },<br>  \"user_attrs\": {<br>    \"train_OTD overall_mean\": 0.722862073045353,<br>    \"train_OTD overall_std\": 0.0,<br>    \"train_OTD hours_since_first_tx_mean\": 0.47850106351103205,<br>    \"train_OTD hours_since_first_tx_std\": 0.0,<br>    \"train_OTD amnt_mean\": 0.666499324766131,<br>    \"train_OTD amnt_std\": 0.0,<br>    \"train_OTD payment_system_mean\": 0.8790272487639996,<br>    \"train_OTD payment_system_std\": 0.0,<br>    \"train_OTD mcc_category_mean\": 0.7386970600847543,<br>    \"train_OTD mcc_category_std\": 0.0,<br>    \"train_OTD card_type_mean\": 0.8951110193219655,<br>    \"train_OTD card_type_std\": 0.0,<br>    \"train_OTD mcc_mean\": 0.6793367218242357,<br>    \"train_OTD mcc_std\": 0.0,<br>    \"train_Cardinality on mcc_category gen_mean\": 6.750933306427202,<br>    \"train_Cardinality on mcc_category gen_std\": 0.0,<br>    \"train_Cardinality on mcc_category orig_mean\": 7.2742659671072545,<br>    \"train_Cardinality on mcc_category orig_std\": 0.0,<br>    \"train_F1_macro on mcc_category_mean\": 0.49072861423293496,<br>    \"train_F1_macro on mcc_category_std\": 0.0,<br>    \"train_F1_micro on mcc_category_mean\": 0.7461012385228534,<br>    \"train_F1_micro on mcc_category_std\": 0.0,<br>    \"loss_mean\": -88.68202945164272,<br>    \"loss_std\": 0.0,<br>    \"OTD overall_mean\": 0.6980309979368154,<br>    \"OTD overall_std\": 0.0,<br>    \"OTD hours_since_first_tx_mean\": 0.5721965174877576,<br>    \"OTD hours_since_first_tx_std\": 0.0,<br>    \"OTD amnt_mean\": 0.4899909700633709,<br>    \"OTD amnt_std\": 0.0,<br>    \"OTD payment_system_mean\": 0.8619584554206781,<br>    \"OTD payment_system_std\": 0.0,<br>    \"OTD mcc_category_mean\": 0.7203371354820706,<br>    \"OTD mcc_category_std\": 0.0,<br>    \"OTD card_type_mean\": 0.8832147341984093,<br>    \"OTD card_type_std\": 0.0,<br>    \"OTD mcc_mean\": 0.6604881749686061,<br>    \"OTD mcc_std\": 0.0,<br>    \"Cardinality on mcc_category gen_mean\": 6.804520719966513,<br>    \"Cardinality on mcc_category gen_std\": 0.0,<br>    \"Cardinality on mcc_category orig_mean\": 7.265383005441607,<br>    \"Cardinality on mcc_category orig_std\": 0.0,<br>    \"F1_macro on mcc_category_mean\": 0.48395328216109695,<br>    \"F1_macro on mcc_category_std\": 0.0,<br>    \"F1_micro on mcc_category_mean\": 0.7356983396121111,<br>    \"F1_micro on mcc_category_std\": 0.0,<br>    \"test_loss_mean\": -94.23229894451066,<br>    \"test_loss_std\": 0.0,<br>    \"test_OTD overall_mean\": 0.6896408163964982,<br>    \"test_OTD overall_std\": 0.0,<br>    \"test_OTD hours_since_first_tx_mean\": 0.6075286174412966,<br>    \"test_OTD hours_since_first_tx_std\": 0.0,<br>    \"test_OTD amnt_mean\": 0.4539045597474901,<br>    \"test_OTD amnt_std\": 0.0,<br>    \"test_OTD payment_system_mean\": 0.8447637541783112,<br>    \"test_OTD payment_system_std\": 0.0,<br>    \"test_OTD mcc_category_mean\": 0.7133387445887446,<br>    \"test_OTD mcc_category_std\": 0.0,<br>    \"test_OTD card_type_mean\": 0.8707360677297387,<br>    \"test_OTD card_type_std\": 0.0,<br>    \"test_OTD mcc_mean\": 0.6475731546934078,<br>    \"test_OTD mcc_std\": 0.0,<br>    \"test_Cardinality on mcc_category gen_mean\": 6.953312510274536,<br>    \"test_Cardinality on mcc_category gen_std\": 0.0,<br>    \"test_Cardinality on mcc_category orig_mean\": 7.3954737245876485,<br>    \"test_Cardinality on mcc_category orig_std\": 0.0,<br>    \"test_F1_macro on mcc_category_mean\": 0.4804844920748764,<br>    \"test_F1_macro on mcc_category_std\": 0.0,<br>    \"test_F1_micro on mcc_category_mean\": 0.7286238287029426,<br>    \"test_F1_micro on mcc_category_std\": 0.0,<br>    \"memory_after_mean\": 79842.0,<br>    \"memory_after_std\": 0.0<br>  }<br>}",
          "{<br>  \"number\": 41,<br>  \"values\": [<br>    -88.56298346746536<br>  ],<br>  \"params\": {<br>    \"optimizer.params.weight_decay\": 7.923886138273953e-09,<br>    \"optimizer.params.lr\": 0.0009365545789112203,<br>    \"model.latent_encoder.params.hidden_size\": 111,<br>    \"model.latent_encoder.params.num_layers\": 5,<br>    \"model.latent_encoder.params.dropout\": 2.6480597936147713e-06,<br>    \"model.params.k_factor\": 2.9117140169957003,<br>    \"loss.params.matching_weights._presence\": 1.250597346085339,<br>    \"model.autoencoder.params.num_norm\": true,<br>    \"model.autoencoder.params.cat_emb_dim\": 6,<br>    \"model.autoencoder.params.num_emb_dim\": 124<br>  },<br>  \"user_attrs\": {<br>    \"train_OTD overall_mean\": 0.6900186608450137,<br>    \"train_OTD overall_std\": 0.0,<br>    \"train_OTD hours_since_first_tx_mean\": 0.48110802580614376,<br>    \"train_OTD hours_since_first_tx_std\": 0.0,<br>    \"train_OTD amnt_mean\": 0.5123506880013128,<br>    \"train_OTD amnt_std\": 0.0,<br>    \"train_OTD payment_system_mean\": 0.8717763573232323,<br>    \"train_OTD payment_system_std\": 0.0,<br>    \"train_OTD mcc_category_mean\": 0.7257694128787879,<br>    \"train_OTD mcc_category_std\": 0.0,<br>    \"train_OTD card_type_mean\": 0.8897790404040404,<br>    \"train_OTD card_type_std\": 0.0,<br>    \"train_OTD mcc_mean\": 0.6593284406565657,<br>    \"train_OTD mcc_std\": 0.0,<br>    \"train_Cardinality on mcc_category gen_mean\": 7.343232323232323,<br>    \"train_Cardinality on mcc_category gen_std\": 0.0,<br>    \"train_Cardinality on mcc_category orig_mean\": 7.285075757575758,<br>    \"train_Cardinality on mcc_category orig_std\": 0.0,<br>    \"train_F1_macro on mcc_category_mean\": 0.48621485995855407,<br>    \"train_F1_macro on mcc_category_std\": 0.0,<br>    \"train_F1_micro on mcc_category_mean\": 0.7398958333333333,<br>    \"train_F1_micro on mcc_category_std\": 0.0,<br>    \"loss_mean\": -88.56298346746536,<br>    \"loss_std\": 0.0,<br>    \"OTD overall_mean\": 0.6948230495483668,<br>    \"OTD overall_std\": 0.0,<br>    \"OTD hours_since_first_tx_mean\": 0.572239752615024,<br>    \"OTD hours_since_first_tx_std\": 0.0,<br>    \"OTD amnt_mean\": 0.4784787525724842,<br>    \"OTD amnt_std\": 0.0,<br>    \"OTD payment_system_mean\": 0.8635891935258825,<br>    \"OTD payment_system_std\": 0.0,<br>    \"OTD mcc_category_mean\": 0.7209650132551975,<br>    \"OTD mcc_category_std\": 0.0,<br>    \"OTD card_type_mean\": 0.8793733431003209,<br>    \"OTD card_type_std\": 0.0,<br>    \"OTD mcc_mean\": 0.654292242221292,<br>    \"OTD mcc_std\": 0.0,<br>    \"Cardinality on mcc_category gen_mean\": 7.349239570252546,<br>    \"Cardinality on mcc_category gen_std\": 0.0,<br>    \"Cardinality on mcc_category orig_mean\": 7.265383005441607,<br>    \"Cardinality on mcc_category orig_std\": 0.0,<br>    \"F1_macro on mcc_category_mean\": 0.4832576253905697,<br>    \"F1_macro on mcc_category_std\": 0.0,<br>    \"F1_micro on mcc_category_mean\": 0.7374206432258965,<br>    \"F1_micro on mcc_category_std\": 0.0,<br>    \"test_loss_mean\": -99.33585365145814,<br>    \"test_loss_std\": 0.0,<br>    \"test_OTD overall_mean\": 0.6856601500099604,<br>    \"test_OTD overall_std\": 0.0,<br>    \"test_OTD hours_since_first_tx_mean\": 0.6075725756438799,<br>    \"test_OTD hours_since_first_tx_std\": 0.0,<br>    \"test_OTD amnt_mean\": 0.4387664684237728,<br>    \"test_OTD amnt_std\": 0.0,<br>    \"test_OTD payment_system_mean\": 0.8443767466710504,<br>    \"test_OTD payment_system_std\": 0.0,<br>    \"test_OTD mcc_category_mean\": 0.7150751411036221,<br>    \"test_OTD mcc_category_std\": 0.0,<br>    \"test_OTD card_type_mean\": 0.8666176913803496,<br>    \"test_OTD card_type_std\": 0.0,<br>    \"test_OTD mcc_mean\": 0.6415522768370869,<br>    \"test_OTD mcc_std\": 0.0,<br>    \"test_Cardinality on mcc_category gen_mean\": 7.4466546112115735,<br>    \"test_Cardinality on mcc_category gen_std\": 0.0,<br>    \"test_Cardinality on mcc_category orig_mean\": 7.3954737245876485,<br>    \"test_Cardinality on mcc_category orig_std\": 0.0,<br>    \"test_F1_macro on mcc_category_mean\": 0.48244392019315313,<br>    \"test_F1_macro on mcc_category_std\": 0.0,<br>    \"test_F1_micro on mcc_category_mean\": 0.7310503315250151,<br>    \"test_F1_micro on mcc_category_std\": 0.0,<br>    \"memory_after_mean\": 78396.0,<br>    \"memory_after_std\": 0.0<br>  }<br>}",
          "{<br>  \"number\": 42,<br>  \"values\": [<br>    -87.88424818856376<br>  ],<br>  \"params\": {<br>    \"optimizer.params.weight_decay\": 0.00024872441480882105,<br>    \"optimizer.params.lr\": 0.004350593020236683,<br>    \"model.latent_encoder.params.hidden_size\": 304,<br>    \"model.latent_encoder.params.num_layers\": 2,<br>    \"model.latent_encoder.params.dropout\": 2.0810636551474406e-05,<br>    \"model.params.k_factor\": 2.901818452606211,<br>    \"loss.params.matching_weights._presence\": 0.3152137665066457,<br>    \"model.autoencoder.params.num_norm\": true,<br>    \"model.autoencoder.params.cat_emb_dim\": 3,<br>    \"model.autoencoder.params.num_emb_dim\": 105<br>  },<br>  \"user_attrs\": {<br>    \"train_OTD overall_mean\": 0.6894680768110307,<br>    \"train_OTD overall_std\": 0.0,<br>    \"train_OTD hours_since_first_tx_mean\": 0.4810570588507654,<br>    \"train_OTD hours_since_first_tx_std\": 0.0,<br>    \"train_OTD amnt_mean\": 0.5173391545406718,<br>    \"train_OTD amnt_std\": 0.0,<br>    \"train_OTD payment_system_mean\": 0.8671646148989899,<br>    \"train_OTD payment_system_std\": 0.0,<br>    \"train_OTD mcc_category_mean\": 0.716205808080808,<br>    \"train_OTD mcc_category_std\": 0.0,<br>    \"train_OTD card_type_mean\": 0.8925252525252525,<br>    \"train_OTD card_type_std\": 0.0,<br>    \"train_OTD mcc_mean\": 0.6625165719696969,<br>    \"train_OTD mcc_std\": 0.0,<br>    \"train_Cardinality on mcc_category gen_mean\": 5.927146464646465,<br>    \"train_Cardinality on mcc_category gen_std\": 0.0,<br>    \"train_Cardinality on mcc_category orig_mean\": 7.285075757575758,<br>    \"train_Cardinality on mcc_category orig_std\": 0.0,<br>    \"train_F1_macro on mcc_category_mean\": 0.46225517384091513,<br>    \"train_F1_macro on mcc_category_std\": 0.0,<br>    \"train_F1_micro on mcc_category_mean\": 0.7290364583333333,<br>    \"train_F1_micro on mcc_category_std\": 0.0,<br>    \"loss_mean\": -87.88424818856376,<br>    \"loss_std\": 0.0,<br>    \"OTD overall_mean\": 0.693806372051666,<br>    \"OTD overall_std\": 0.0,<br>    \"OTD hours_since_first_tx_mean\": 0.5721965174877576,<br>    \"OTD hours_since_first_tx_std\": 0.0,<br>    \"OTD amnt_mean\": 0.4787094209754405,<br>    \"OTD amnt_std\": 0.0,<br>    \"OTD payment_system_mean\": 0.8597216408539138,<br>    \"OTD payment_system_std\": 0.0,<br>    \"OTD mcc_category_mean\": 0.7111413422631505,<br>    \"OTD mcc_category_std\": 0.0,<br>    \"OTD card_type_mean\": 0.8842829984651877,<br>    \"OTD card_type_std\": 0.0,<br>    \"OTD mcc_mean\": 0.6567863122645459,<br>    \"OTD mcc_std\": 0.0,<br>    \"Cardinality on mcc_category gen_mean\": 5.929677689409795,<br>    \"Cardinality on mcc_category gen_std\": 0.0,<br>    \"Cardinality on mcc_category orig_mean\": 7.265383005441607,<br>    \"Cardinality on mcc_category orig_std\": 0.0,<br>    \"F1_macro on mcc_category_mean\": 0.45863039984377413,<br>    \"F1_macro on mcc_category_std\": 0.0,<br>    \"F1_micro on mcc_category_mean\": 0.7257831031114832,<br>    \"F1_micro on mcc_category_std\": 0.0,<br>    \"test_loss_mean\": -94.75915407666973,<br>    \"test_loss_std\": 0.0,<br>    \"test_OTD overall_mean\": 0.683955896028264,<br>    \"test_OTD overall_std\": 0.0,<br>    \"test_OTD hours_since_first_tx_mean\": 0.6075286174412966,<br>    \"test_OTD hours_since_first_tx_std\": 0.0,<br>    \"test_OTD amnt_mean\": 0.4325645728550884,<br>    \"test_OTD amnt_std\": 0.0,<br>    \"test_OTD payment_system_mean\": 0.8410803331689408,<br>    \"test_OTD payment_system_std\": 0.0,<br>    \"test_OTD mcc_category_mean\": 0.7061431448298537,<br>    \"test_OTD mcc_category_std\": 0.0,<br>    \"test_OTD card_type_mean\": 0.871465559756699,<br>    \"test_OTD card_type_std\": 0.0,<br>    \"test_OTD mcc_mean\": 0.6449531481177051,<br>    \"test_OTD mcc_std\": 0.0,<br>    \"test_Cardinality on mcc_category gen_mean\": 6.135623869801085,<br>    \"test_Cardinality on mcc_category gen_std\": 0.0,<br>    \"test_Cardinality on mcc_category orig_mean\": 7.3954737245876485,<br>    \"test_Cardinality on mcc_category orig_std\": 0.0,<br>    \"test_F1_macro on mcc_category_mean\": 0.4575992782563121,<br>    \"test_F1_macro on mcc_category_std\": 0.0,<br>    \"test_F1_micro on mcc_category_mean\": 0.7201610362211628,<br>    \"test_F1_micro on mcc_category_std\": 0.0,<br>    \"memory_after_mean\": 79582.0,<br>    \"memory_after_std\": 0.0<br>  }<br>}",
          "{<br>  \"number\": 43,<br>  \"values\": [<br>    -87.82468078249977<br>  ],<br>  \"params\": {<br>    \"optimizer.params.weight_decay\": 1.2546011034674096e-06,<br>    \"optimizer.params.lr\": 0.0028973853792341854,<br>    \"model.latent_encoder.params.hidden_size\": 136,<br>    \"model.latent_encoder.params.num_layers\": 1,<br>    \"model.latent_encoder.params.dropout\": 2.2291175122386262e-05,<br>    \"model.params.k_factor\": 2.3801141179578815,<br>    \"loss.params.matching_weights._presence\": 0.7177696169155442,<br>    \"model.autoencoder.params.num_norm\": true,<br>    \"model.autoencoder.params.cat_emb_dim\": 23,<br>    \"model.autoencoder.params.num_emb_dim\": 82<br>  },<br>  \"user_attrs\": {<br>    \"train_OTD overall_mean\": 0.6924452361506938,<br>    \"train_OTD overall_std\": 0.0,<br>    \"train_OTD hours_since_first_tx_mean\": 0.48105705885076533,<br>    \"train_OTD hours_since_first_tx_std\": 0.0,<br>    \"train_OTD amnt_mean\": 0.5196891686594577,<br>    \"train_OTD amnt_std\": 0.0,<br>    \"train_OTD payment_system_mean\": 0.8709343434343434,<br>    \"train_OTD payment_system_std\": 0.0,<br>    \"train_OTD mcc_category_mean\": 0.7242558396464647,<br>    \"train_OTD mcc_category_std\": 0.0,<br>    \"train_OTD card_type_mean\": 0.891958648989899,<br>    \"train_OTD card_type_std\": 0.0,<br>    \"train_OTD mcc_mean\": 0.6667763573232324,<br>    \"train_OTD mcc_std\": 0.0,<br>    \"train_Cardinality on mcc_category gen_mean\": 6.450681818181818,<br>    \"train_Cardinality on mcc_category gen_std\": 0.0,<br>    \"train_Cardinality on mcc_category orig_mean\": 7.285075757575758,<br>    \"train_Cardinality on mcc_category orig_std\": 0.0,<br>    \"train_F1_macro on mcc_category_mean\": 0.4807895962629136,<br>    \"train_F1_macro on mcc_category_std\": 0.0,<br>    \"train_F1_micro on mcc_category_mean\": 0.7376870265151515,<br>    \"train_F1_micro on mcc_category_std\": 0.0,<br>    \"loss_mean\": -87.82468078249977,<br>    \"loss_std\": 0.0,<br>    \"OTD overall_mean\": 0.698345011127045,<br>    \"OTD overall_std\": 0.0,<br>    \"OTD hours_since_first_tx_mean\": 0.5721965174877575,<br>    \"OTD hours_since_first_tx_std\": 0.0,<br>    \"OTD amnt_mean\": 0.48389576917126126,<br>    \"OTD amnt_std\": 0.0,<br>    \"OTD payment_system_mean\": 0.8654510255336961,<br>    \"OTD payment_system_std\": 0.0,<br>    \"OTD mcc_category_mean\": 0.7210827403376587,<br>    \"OTD mcc_category_std\": 0.0,<br>    \"OTD card_type_mean\": 0.8847713478442863,<br>    \"OTD card_type_std\": 0.0,<br>    \"OTD mcc_mean\": 0.6626726663876099,<br>    \"OTD mcc_std\": 0.0,<br>    \"Cardinality on mcc_category gen_mean\": 6.453048695409516,<br>    \"Cardinality on mcc_category gen_std\": 0.0,<br>    \"Cardinality on mcc_category orig_mean\": 7.265383005441607,<br>    \"Cardinality on mcc_category orig_std\": 0.0,<br>    \"F1_macro on mcc_category_mean\": 0.4797387491709881,<br>    \"F1_macro on mcc_category_std\": 0.0,<br>    \"F1_micro on mcc_category_mean\": 0.7365398702385936,<br>    \"F1_micro on mcc_category_std\": 0.0,<br>    \"test_loss_mean\": -95.86211152170219,<br>    \"test_loss_std\": 0.0,<br>    \"test_OTD overall_mean\": 0.6903260359464679,<br>    \"test_OTD overall_std\": 0.0,<br>    \"test_OTD hours_since_first_tx_mean\": 0.6075286174412966,<br>    \"test_OTD hours_since_first_tx_std\": 0.0,<br>    \"test_OTD amnt_mean\": 0.44323595759966755,<br>    \"test_OTD amnt_std\": 0.0,<br>    \"test_OTD payment_system_mean\": 0.854421817633843,<br>    \"test_OTD payment_system_std\": 0.0,<br>    \"test_OTD mcc_category_mean\": 0.7150340429612582,<br>    \"test_OTD mcc_category_std\": 0.0,<br>    \"test_OTD card_type_mean\": 0.8708936106088004,<br>    \"test_OTD card_type_std\": 0.0,<br>    \"test_OTD mcc_mean\": 0.6508421694339416,<br>    \"test_OTD mcc_std\": 0.0,<br>    \"test_Cardinality on mcc_category gen_mean\": 6.567537947284783,<br>    \"test_Cardinality on mcc_category gen_std\": 0.0,<br>    \"test_Cardinality on mcc_category orig_mean\": 7.3954737245876485,<br>    \"test_Cardinality on mcc_category orig_std\": 0.0,<br>    \"test_F1_macro on mcc_category_mean\": 0.47746452253658406,<br>    \"test_F1_macro on mcc_category_std\": 0.0,<br>    \"test_F1_micro on mcc_category_mean\": 0.7298002630281112,<br>    \"test_F1_micro on mcc_category_std\": 0.0,<br>    \"memory_after_mean\": 77394.0,<br>    \"memory_after_std\": 0.0<br>  }<br>}",
          "{<br>  \"number\": 44,<br>  \"values\": [<br>    -87.60161517915272<br>  ],<br>  \"params\": {<br>    \"optimizer.params.weight_decay\": 6.17021360984489e-07,<br>    \"optimizer.params.lr\": 0.001528877345246916,<br>    \"model.latent_encoder.params.hidden_size\": 128,<br>    \"model.latent_encoder.params.num_layers\": 5,<br>    \"model.latent_encoder.params.dropout\": 5.31633630147358e-06,<br>    \"model.params.k_factor\": 2.902887939439306,<br>    \"loss.params.matching_weights._presence\": 0.756613585917444,<br>    \"model.autoencoder.params.num_norm\": true,<br>    \"model.autoencoder.params.cat_emb_dim\": 8,<br>    \"model.autoencoder.params.num_emb_dim\": 120<br>  },<br>  \"user_attrs\": {<br>    \"train_OTD overall_mean\": 0.7031620201101162,<br>    \"train_OTD overall_std\": 0.0,<br>    \"train_OTD hours_since_first_tx_mean\": 0.5974624426431592,<br>    \"train_OTD hours_since_first_tx_std\": 0.0,<br>    \"train_OTD amnt_mean\": 0.4731466948348072,<br>    \"train_OTD amnt_std\": 0.0,<br>    \"train_OTD payment_system_mean\": 0.8711596385542169,<br>    \"train_OTD payment_system_std\": 0.0,<br>    \"train_OTD mcc_category_mean\": 0.7202591616465863,<br>    \"train_OTD mcc_category_std\": 0.0,<br>    \"train_OTD card_type_mean\": 0.8941202309236947,<br>    \"train_OTD card_type_std\": 0.0,<br>    \"train_OTD mcc_mean\": 0.662823952058233,<br>    \"train_OTD mcc_std\": 0.0,<br>    \"train_Cardinality on mcc_category gen_mean\": 6.113830321285141,<br>    \"train_Cardinality on mcc_category gen_std\": 0.0,<br>    \"train_Cardinality on mcc_category orig_mean\": 7.284111445783132,<br>    \"train_Cardinality on mcc_category orig_std\": 0.0,<br>    \"train_F1_macro on mcc_category_mean\": 0.4707958875714391,<br>    \"train_F1_macro on mcc_category_std\": 0.0,<br>    \"train_F1_micro on mcc_category_mean\": 0.7356347264056224,<br>    \"train_F1_micro on mcc_category_std\": 0.0,<br>    \"loss_mean\": -87.60161517915272,<br>    \"loss_std\": 0.0,<br>    \"OTD overall_mean\": 0.6950654366033628,<br>    \"OTD overall_std\": 0.0,<br>    \"OTD hours_since_first_tx_mean\": 0.5721965174877576,<br>    \"OTD hours_since_first_tx_std\": 0.0,<br>    \"OTD amnt_mean\": 0.4814457184293362,<br>    \"OTD amnt_std\": 0.0,<br>    \"OTD payment_system_mean\": 0.8624598855867169,<br>    \"OTD payment_system_std\": 0.0,<br>    \"OTD mcc_category_mean\": 0.716081519464211,<br>    \"OTD mcc_category_std\": 0.0,<br>    \"OTD card_type_mean\": 0.8802453955629971,<br>    \"OTD card_type_std\": 0.0,<br>    \"OTD mcc_mean\": 0.6579635830891587,<br>    \"OTD mcc_std\": 0.0,<br>    \"Cardinality on mcc_category gen_mean\": 6.131993860750662,<br>    \"Cardinality on mcc_category gen_std\": 0.0,<br>    \"Cardinality on mcc_category orig_mean\": 7.265383005441607,<br>    \"Cardinality on mcc_category orig_std\": 0.0,<br>    \"F1_macro on mcc_category_mean\": 0.46667499656104916,<br>    \"F1_macro on mcc_category_std\": 0.0,<br>    \"F1_micro on mcc_category_mean\": 0.7315473698897725,<br>    \"F1_micro on mcc_category_std\": 0.0,<br>    \"test_loss_mean\": -97.55763749515309,<br>    \"test_loss_std\": 0.0,<br>    \"test_OTD overall_mean\": 0.68682505582985,<br>    \"test_OTD overall_std\": 0.0,<br>    \"test_OTD hours_since_first_tx_mean\": 0.6075286174412966,<br>    \"test_OTD hours_since_first_tx_std\": 0.0,<br>    \"test_OTD amnt_mean\": 0.44478953221257994,<br>    \"test_OTD amnt_std\": 0.0,<br>    \"test_OTD payment_system_mean\": 0.8491612554112554,<br>    \"test_OTD payment_system_std\": 0.0,<br>    \"test_OTD mcc_category_mean\": 0.7079788618554441,<br>    \"test_OTD mcc_category_std\": 0.0,<br>    \"test_OTD card_type_mean\": 0.8676588443202368,<br>    \"test_OTD card_type_std\": 0.0,<br>    \"test_OTD mcc_mean\": 0.643833223738287,<br>    \"test_OTD mcc_std\": 0.0,<br>    \"test_Cardinality on mcc_category gen_mean\": 6.241657077100115,<br>    \"test_Cardinality on mcc_category gen_std\": 0.0,<br>    \"test_Cardinality on mcc_category orig_mean\": 7.3954737245876485,<br>    \"test_Cardinality on mcc_category orig_std\": 0.0,<br>    \"test_F1_macro on mcc_category_mean\": 0.4635955199538058,<br>    \"test_F1_macro on mcc_category_std\": 0.0,<br>    \"test_F1_micro on mcc_category_mean\": 0.7232262726724752,<br>    \"test_F1_micro on mcc_category_std\": 0.0,<br>    \"memory_after_mean\": 79208.0,<br>    \"memory_after_std\": 0.0<br>  }<br>}",
          "{<br>  \"number\": 45,<br>  \"values\": [<br>    -87.47095734732491<br>  ],<br>  \"params\": {<br>    \"optimizer.params.weight_decay\": 7.88429479613665e-07,<br>    \"optimizer.params.lr\": 0.0005320485786799744,<br>    \"model.latent_encoder.params.hidden_size\": 217,<br>    \"model.latent_encoder.params.num_layers\": 1,<br>    \"model.latent_encoder.params.dropout\": 1.3551489077107517e-06,<br>    \"model.params.k_factor\": 2.9648343251755906,<br>    \"loss.params.matching_weights._presence\": 0.4154700938514053,<br>    \"model.autoencoder.params.num_norm\": true,<br>    \"model.autoencoder.params.cat_emb_dim\": 25,<br>    \"model.autoencoder.params.num_emb_dim\": 98<br>  },<br>  \"user_attrs\": {<br>    \"train_OTD overall_mean\": 0.691191075226682,<br>    \"train_OTD overall_std\": 0.0,<br>    \"train_OTD hours_since_first_tx_mean\": 0.4810570588507655,<br>    \"train_OTD hours_since_first_tx_std\": 0.0,<br>    \"train_OTD amnt_mean\": 0.5288624354386189,<br>    \"train_OTD amnt_std\": 0.0,<br>    \"train_OTD payment_system_mean\": 0.867589172979798,<br>    \"train_OTD payment_system_std\": 0.0,<br>    \"train_OTD mcc_category_mean\": 0.7160408775252525,<br>    \"train_OTD mcc_category_std\": 0.0,<br>    \"train_OTD card_type_mean\": 0.891707702020202,<br>    \"train_OTD card_type_std\": 0.0,<br>    \"train_OTD mcc_mean\": 0.6618892045454545,<br>    \"train_OTD mcc_std\": 0.0,<br>    \"train_Cardinality on mcc_category gen_mean\": 5.974570707070707,<br>    \"train_Cardinality on mcc_category gen_std\": 0.0,<br>    \"train_Cardinality on mcc_category orig_mean\": 7.285075757575758,<br>    \"train_Cardinality on mcc_category orig_std\": 0.0,<br>    \"train_F1_macro on mcc_category_mean\": 0.4627515942634707,<br>    \"train_F1_macro on mcc_category_std\": 0.0,<br>    \"train_F1_micro on mcc_category_mean\": 0.7289851641414141,<br>    \"train_F1_micro on mcc_category_std\": 0.0,<br>    \"loss_mean\": -87.47095734732491,<br>    \"loss_std\": 0.0,<br>    \"OTD overall_mean\": 0.6972078323852547,<br>    \"OTD overall_std\": 0.0,<br>    \"OTD hours_since_first_tx_mean\": 0.5721965174877576,<br>    \"OTD hours_since_first_tx_std\": 0.0,<br>    \"OTD amnt_mean\": 0.4943088136453141,<br>    \"OTD amnt_std\": 0.0,<br>    \"OTD payment_system_mean\": 0.8611954095158365,<br>    \"OTD payment_system_std\": 0.0,<br>    \"OTD mcc_category_mean\": 0.7131906655504395,<br>    \"OTD mcc_category_std\": 0.0,<br>    \"OTD card_type_mean\": 0.8834022254778847,<br>    \"OTD card_type_std\": 0.0,<br>    \"OTD mcc_mean\": 0.658953362634296,<br>    \"OTD mcc_std\": 0.0,<br>    \"Cardinality on mcc_category gen_mean\": 5.961211106460165,<br>    \"Cardinality on mcc_category gen_std\": 0.0,<br>    \"Cardinality on mcc_category orig_mean\": 7.265383005441607,<br>    \"Cardinality on mcc_category orig_std\": 0.0,<br>    \"F1_macro on mcc_category_mean\": 0.4628673205130641,<br>    \"F1_macro on mcc_category_std\": 0.0,<br>    \"F1_micro on mcc_category_mean\": 0.7282117692200363,<br>    \"F1_micro on mcc_category_std\": 0.0,<br>    \"test_loss_mean\": -95.38877834993251,<br>    \"test_loss_std\": 0.0,<br>    \"test_OTD overall_mean\": 0.6891203068441257,<br>    \"test_OTD overall_std\": 0.0,<br>    \"test_OTD hours_since_first_tx_mean\": 0.6075286174412966,<br>    \"test_OTD hours_since_first_tx_std\": 0.0,<br>    \"test_OTD amnt_mean\": 0.4562749541292389,<br>    \"test_OTD amnt_std\": 0.0,<br>    \"test_OTD payment_system_mean\": 0.84855163296619,<br>    \"test_OTD payment_system_std\": 0.0,<br>    \"test_OTD mcc_category_mean\": 0.7061517069428462,<br>    \"test_OTD mcc_category_std\": 0.0,<br>    \"test_OTD card_type_mean\": 0.871486108827881,<br>    \"test_OTD card_type_std\": 0.0,<br>    \"test_OTD mcc_mean\": 0.6447288207573018,<br>    \"test_OTD mcc_std\": 0.0,<br>    \"test_Cardinality on mcc_category gen_mean\": 6.109978628965971,<br>    \"test_Cardinality on mcc_category gen_std\": 0.0,<br>    \"test_Cardinality on mcc_category orig_mean\": 7.3954737245876485,<br>    \"test_Cardinality on mcc_category orig_std\": 0.0,<br>    \"test_F1_macro on mcc_category_mean\": 0.4582145267199323,<br>    \"test_F1_macro on mcc_category_std\": 0.0,<br>    \"test_F1_micro on mcc_category_mean\": 0.7207826456244177,<br>    \"test_F1_micro on mcc_category_std\": 0.0,<br>    \"memory_after_mean\": 80274.0,<br>    \"memory_after_std\": 0.0<br>  }<br>}",
          "{<br>  \"number\": 46,<br>  \"values\": [<br>    -87.31481043497722<br>  ],<br>  \"params\": {<br>    \"optimizer.params.weight_decay\": 0.00029151180318390306,<br>    \"optimizer.params.lr\": 0.0007553278822165123,<br>    \"model.latent_encoder.params.hidden_size\": 129,<br>    \"model.latent_encoder.params.num_layers\": 1,<br>    \"model.latent_encoder.params.dropout\": 4.299628183818914e-07,<br>    \"model.params.k_factor\": 2.9701436342566296,<br>    \"loss.params.matching_weights._presence\": 0.6240104717797395,<br>    \"model.autoencoder.params.num_norm\": true,<br>    \"model.autoencoder.params.cat_emb_dim\": 5,<br>    \"model.autoencoder.params.num_emb_dim\": 105<br>  },<br>  \"user_attrs\": {<br>    \"train_OTD overall_mean\": 0.684366619711473,<br>    \"train_OTD overall_std\": 0.0,<br>    \"train_OTD hours_since_first_tx_mean\": 0.48772706783853864,<br>    \"train_OTD hours_since_first_tx_std\": 0.0,<br>    \"train_OTD amnt_mean\": 0.49449242540257976,<br>    \"train_OTD amnt_std\": 0.0,<br>    \"train_OTD payment_system_mean\": 0.865931483721399,<br>    \"train_OTD payment_system_std\": 0.0,<br>    \"train_OTD mcc_category_mean\": 0.7141480193528879,<br>    \"train_OTD mcc_category_std\": 0.0,<br>    \"train_OTD card_type_mean\": 0.8875302388872089,<br>    \"train_OTD card_type_std\": 0.0,<br>    \"train_OTD mcc_mean\": 0.6563704830662231,<br>    \"train_OTD mcc_std\": 0.0,<br>    \"train_Cardinality on mcc_category gen_mean\": 6.114580183449249,<br>    \"train_Cardinality on mcc_category gen_std\": 0.0,<br>    \"train_Cardinality on mcc_category orig_mean\": 7.290721701441387,<br>    \"train_Cardinality on mcc_category orig_std\": 0.0,<br>    \"train_F1_macro on mcc_category_mean\": 0.4649625606970384,<br>    \"train_F1_macro on mcc_category_std\": 0.0,<br>    \"train_F1_micro on mcc_category_mean\": 0.7294375566979135,<br>    \"train_F1_micro on mcc_category_std\": 0.0,<br>    \"loss_mean\": -87.31481043497722,<br>    \"loss_std\": 0.0,<br>    \"OTD overall_mean\": 0.698405647240977,<br>    \"OTD overall_std\": 0.0,<br>    \"OTD hours_since_first_tx_mean\": 0.5721965174877576,<br>    \"OTD hours_since_first_tx_std\": 0.0,<br>    \"OTD amnt_mean\": 0.5024200783900842,<br>    \"OTD amnt_std\": 0.0,<br>    \"OTD payment_system_mean\": 0.8644394446769917,<br>    \"OTD payment_system_std\": 0.0,<br>    \"OTD mcc_category_mean\": 0.7148039626063905,<br>    \"OTD mcc_category_std\": 0.0,<br>    \"OTD card_type_mean\": 0.8803762034323985,<br>    \"OTD card_type_std\": 0.0,<br>    \"OTD mcc_mean\": 0.6561976768522394,<br>    \"OTD mcc_std\": 0.0,<br>    \"Cardinality on mcc_category gen_mean\": 6.116227152225478,<br>    \"Cardinality on mcc_category gen_std\": 0.0,<br>    \"Cardinality on mcc_category orig_mean\": 7.265383005441607,<br>    \"Cardinality on mcc_category orig_std\": 0.0,<br>    \"F1_macro on mcc_category_mean\": 0.4636861859413658,<br>    \"F1_macro on mcc_category_std\": 0.0,<br>    \"F1_micro on mcc_category_mean\": 0.7300038370308358,<br>    \"F1_micro on mcc_category_std\": 0.0,<br>    \"test_loss_mean\": -93.27328592188218,<br>    \"test_loss_std\": 0.0,<br>    \"test_OTD overall_mean\": 0.6903333712075955,<br>    \"test_OTD overall_std\": 0.0,<br>    \"test_OTD hours_since_first_tx_mean\": 0.6075286174412966,<br>    \"test_OTD hours_since_first_tx_std\": 0.0,<br>    \"test_OTD amnt_mean\": 0.463924936013931,<br>    \"test_OTD amnt_std\": 0.0,<br>    \"test_OTD payment_system_mean\": 0.8516048824593129,<br>    \"test_OTD payment_system_std\": 0.0,<br>    \"test_OTD mcc_category_mean\": 0.707552468628418,<br>    \"test_OTD mcc_category_std\": 0.0,<br>    \"test_OTD card_type_mean\": 0.8676126089100773,<br>    \"test_OTD card_type_std\": 0.0,<br>    \"test_OTD mcc_mean\": 0.6437767137925365,<br>    \"test_OTD mcc_std\": 0.0,<br>    \"test_Cardinality on mcc_category gen_mean\": 6.187681516795441,<br>    \"test_Cardinality on mcc_category gen_std\": 0.0,<br>    \"test_Cardinality on mcc_category orig_mean\": 7.3954737245876485,<br>    \"test_Cardinality on mcc_category orig_std\": 0.0,<br>    \"test_F1_macro on mcc_category_mean\": 0.45960407441202505,<br>    \"test_F1_macro on mcc_category_std\": 0.0,<br>    \"test_F1_micro on mcc_category_mean\": 0.7218323606772974,<br>    \"test_F1_micro on mcc_category_std\": 0.0,<br>    \"memory_after_mean\": 79832.0,<br>    \"memory_after_std\": 0.0<br>  }<br>}",
          "{<br>  \"number\": 47,<br>  \"values\": [<br>    -87.21941184997559<br>  ],<br>  \"params\": {<br>    \"optimizer.params.weight_decay\": 4.584752433652177e-08,<br>    \"optimizer.params.lr\": 0.00034663341833168846,<br>    \"model.latent_encoder.params.hidden_size\": 184,<br>    \"model.latent_encoder.params.num_layers\": 1,<br>    \"model.latent_encoder.params.dropout\": 0.00010532607225017183,<br>    \"model.params.k_factor\": 2.799862020644089,<br>    \"loss.params.matching_weights._presence\": 1.0235372166277856,<br>    \"model.autoencoder.params.num_norm\": true,<br>    \"model.autoencoder.params.cat_emb_dim\": 16,<br>    \"model.autoencoder.params.num_emb_dim\": 111<br>  },<br>  \"user_attrs\": {<br>    \"train_OTD overall_mean\": 0.6865300343685511,<br>    \"train_OTD overall_std\": 0.0,<br>    \"train_OTD hours_since_first_tx_mean\": 0.48772706783853864,<br>    \"train_OTD hours_since_first_tx_std\": 0.0,<br>    \"train_OTD amnt_mean\": 0.49672472137851376,<br>    \"train_OTD amnt_std\": 0.0,<br>    \"train_OTD payment_system_mean\": 0.8681970378490071,<br>    \"train_OTD payment_system_std\": 0.0,<br>    \"train_OTD mcc_category_mean\": 0.7215809583207338,<br>    \"train_OTD mcc_category_std\": 0.0,<br>    \"train_OTD card_type_mean\": 0.886819152555186,<br>    \"train_OTD card_type_std\": 0.0,<br>    \"train_OTD mcc_mean\": 0.6581312682693277,<br>    \"train_OTD mcc_std\": 0.0,<br>    \"train_Cardinality on mcc_category gen_mean\": 6.791628868057655,<br>    \"train_Cardinality on mcc_category gen_std\": 0.0,<br>    \"train_Cardinality on mcc_category orig_mean\": 7.290721701441387,<br>    \"train_Cardinality on mcc_category orig_std\": 0.0,<br>    \"train_F1_macro on mcc_category_mean\": 0.48286168033620286,<br>    \"train_F1_macro on mcc_category_std\": 0.0,<br>    \"train_F1_micro on mcc_category_mean\": 0.7372421819877029,<br>    \"train_F1_micro on mcc_category_std\": 0.0,<br>    \"loss_mean\": -87.21941184997559,<br>    \"loss_std\": 0.0,<br>    \"OTD overall_mean\": 0.7006602355219117,<br>    \"OTD overall_std\": 0.0,<br>    \"OTD hours_since_first_tx_mean\": 0.5721965174877576,<br>    \"OTD hours_since_first_tx_std\": 0.0,<br>    \"OTD amnt_mean\": 0.506097775509765,<br>    \"OTD amnt_std\": 0.0,<br>    \"OTD payment_system_mean\": 0.8659829775359286,<br>    \"OTD payment_system_std\": 0.0,<br>    \"OTD mcc_category_mean\": 0.721108901911539,<br>    \"OTD mcc_category_std\": 0.0,<br>    \"OTD card_type_mean\": 0.880943037533138,<br>    \"OTD card_type_std\": 0.0,<br>    \"OTD mcc_mean\": 0.6576322031533417,<br>    \"OTD mcc_std\": 0.0,<br>    \"Cardinality on mcc_category gen_mean\": 6.788195897865216,<br>    \"Cardinality on mcc_category gen_std\": 0.0,<br>    \"Cardinality on mcc_category orig_mean\": 7.265383005441607,<br>    \"Cardinality on mcc_category orig_std\": 0.0,<br>    \"F1_macro on mcc_category_mean\": 0.4811993360580298,<br>    \"F1_macro on mcc_category_std\": 0.0,<br>    \"F1_micro on mcc_category_mean\": 0.7363785405329984,<br>    \"F1_micro on mcc_category_std\": 0.0,<br>    \"test_loss_mean\": -96.81012789408366,<br>    \"test_loss_std\": 0.0,<br>    \"test_OTD overall_mean\": 0.6931720638961695,<br>    \"test_OTD overall_std\": 0.0,<br>    \"test_OTD hours_since_first_tx_mean\": 0.6075286174412966,<br>    \"test_OTD hours_since_first_tx_std\": 0.0,<br>    \"test_OTD amnt_mean\": 0.46981264587434696,<br>    \"test_OTD amnt_std\": 0.0,<br>    \"test_OTD payment_system_mean\": 0.8529542714669297,<br>    \"test_OTD payment_system_std\": 0.0,<br>    \"test_OTD mcc_category_mean\": 0.7150819907940161,<br>    \"test_OTD mcc_category_std\": 0.0,<br>    \"test_OTD card_type_mean\": 0.8684499835607431,<br>    \"test_OTD card_type_std\": 0.0,<br>    \"test_OTD mcc_mean\": 0.6452048742396843,<br>    \"test_OTD mcc_std\": 0.0,<br>    \"test_Cardinality on mcc_category gen_mean\": 6.911885582771658,<br>    \"test_Cardinality on mcc_category gen_std\": 0.0,<br>    \"test_Cardinality on mcc_category orig_mean\": 7.3954737245876485,<br>    \"test_Cardinality on mcc_category orig_std\": 0.0,<br>    \"test_F1_macro on mcc_category_mean\": 0.47992976561607914,<br>    \"test_F1_macro on mcc_category_std\": 0.0,<br>    \"test_F1_micro on mcc_category_mean\": 0.7303413885692367,<br>    \"test_F1_micro on mcc_category_std\": 0.0,<br>    \"memory_after_mean\": 78712.0,<br>    \"memory_after_std\": 0.0<br>  }<br>}",
          "{<br>  \"number\": 48,<br>  \"values\": [<br>    -86.69213376726422<br>  ],<br>  \"params\": {<br>    \"optimizer.params.weight_decay\": 4.59895037249526e-06,<br>    \"optimizer.params.lr\": 0.0005975931559213973,<br>    \"model.latent_encoder.params.hidden_size\": 160,<br>    \"model.latent_encoder.params.num_layers\": 1,<br>    \"model.latent_encoder.params.dropout\": 1.4375558487487628e-07,<br>    \"model.params.k_factor\": 2.948107981534784,<br>    \"loss.params.matching_weights._presence\": 1.2296677311065105,<br>    \"model.autoencoder.params.num_norm\": true,<br>    \"model.autoencoder.params.cat_emb_dim\": 14,<br>    \"model.autoencoder.params.num_emb_dim\": 127<br>  },<br>  \"user_attrs\": {<br>    \"train_OTD overall_mean\": 0.694481179490023,<br>    \"train_OTD overall_std\": 0.0,<br>    \"train_OTD hours_since_first_tx_mean\": 0.4810570588507654,<br>    \"train_OTD hours_since_first_tx_std\": 0.0,<br>    \"train_OTD amnt_mean\": 0.5353825749075543,<br>    \"train_OTD amnt_std\": 0.0,<br>    \"train_OTD payment_system_mean\": 0.8707891414141414,<br>    \"train_OTD payment_system_std\": 0.0,<br>    \"train_OTD mcc_category_mean\": 0.7268497474747475,<br>    \"train_OTD mcc_category_std\": 0.0,<br>    \"train_OTD card_type_mean\": 0.8891785037878788,<br>    \"train_OTD card_type_std\": 0.0,<br>    \"train_OTD mcc_mean\": 0.6636300505050505,<br>    \"train_OTD mcc_std\": 0.0,<br>    \"train_Cardinality on mcc_category gen_mean\": 7.405429292929293,<br>    \"train_Cardinality on mcc_category gen_std\": 0.0,<br>    \"train_Cardinality on mcc_category orig_mean\": 7.285075757575758,<br>    \"train_Cardinality on mcc_category orig_std\": 0.0,<br>    \"train_F1_macro on mcc_category_mean\": 0.48888555646754434,<br>    \"train_F1_macro on mcc_category_std\": 0.0,<br>    \"train_F1_micro on mcc_category_mean\": 0.7406486742424242,<br>    \"train_F1_micro on mcc_category_std\": 0.0,<br>    \"loss_mean\": -86.69213376726422,<br>    \"loss_std\": 0.0,<br>    \"OTD overall_mean\": 0.7003116610484327,<br>    \"OTD overall_std\": 0.0,<br>    \"OTD hours_since_first_tx_mean\": 0.5721965174877576,<br>    \"OTD hours_since_first_tx_std\": 0.0,<br>    \"OTD amnt_mean\": 0.4995065379614829,<br>    \"OTD amnt_std\": 0.0,<br>    \"OTD payment_system_mean\": 0.8671384470489745,<br>    \"OTD payment_system_std\": 0.0,<br>    \"OTD mcc_category_mean\": 0.7232018278219617,<br>    \"OTD mcc_category_std\": 0.0,<br>    \"OTD card_type_mean\": 0.8798224501185992,<br>    \"OTD card_type_std\": 0.0,<br>    \"OTD mcc_mean\": 0.6600041858518209,<br>    \"OTD mcc_std\": 0.0,<br>    \"Cardinality on mcc_category gen_mean\": 7.392214315613227,<br>    \"Cardinality on mcc_category gen_std\": 0.0,<br>    \"Cardinality on mcc_category orig_mean\": 7.265383005441607,<br>    \"Cardinality on mcc_category orig_std\": 0.0,<br>    \"F1_macro on mcc_category_mean\": 0.48668618366189903,<br>    \"F1_macro on mcc_category_std\": 0.0,<br>    \"F1_micro on mcc_category_mean\": 0.7392868354960235,<br>    \"F1_micro on mcc_category_std\": 0.0,<br>    \"test_loss_mean\": -93.75536922380036,<br>    \"test_loss_std\": 0.0,<br>    \"test_OTD overall_mean\": 0.6932352939012617,<br>    \"test_OTD overall_std\": 0.0,<br>    \"test_OTD hours_since_first_tx_mean\": 0.6075286174412966,<br>    \"test_OTD hours_since_first_tx_std\": 0.0,<br>    \"test_OTD amnt_mean\": 0.46546060226524916,<br>    \"test_OTD amnt_std\": 0.0,<br>    \"test_OTD payment_system_mean\": 0.851914830949641,<br>    \"test_OTD payment_system_std\": 0.0,<br>    \"test_OTD mcc_category_mean\": 0.7175872650556195,<br>    \"test_OTD mcc_category_std\": 0.0,<br>    \"test_OTD card_type_mean\": 0.8686332127787824,<br>    \"test_OTD card_type_std\": 0.0,<br>    \"test_OTD mcc_mean\": 0.6482872349169817,<br>    \"test_OTD mcc_std\": 0.0,<br>    \"test_Cardinality on mcc_category gen_mean\": 7.502328894733958,<br>    \"test_Cardinality on mcc_category gen_std\": 0.0,<br>    \"test_Cardinality on mcc_category orig_mean\": 7.3954737245876485,<br>    \"test_Cardinality on mcc_category orig_std\": 0.0,<br>    \"test_F1_macro on mcc_category_mean\": 0.48571891886178636,<br>    \"test_F1_macro on mcc_category_std\": 0.0,<br>    \"test_F1_micro on mcc_category_mean\": 0.7334117622883446,<br>    \"test_F1_micro on mcc_category_std\": 0.0,<br>    \"memory_after_mean\": 79188.0,<br>    \"memory_after_std\": 0.0<br>  }<br>}",
          "{<br>  \"number\": 49,<br>  \"values\": [<br>    -85.61153593517486<br>  ],<br>  \"params\": {<br>    \"optimizer.params.weight_decay\": 0.0017301007963632577,<br>    \"optimizer.params.lr\": 0.0017366701707446025,<br>    \"model.latent_encoder.params.hidden_size\": 853,<br>    \"model.latent_encoder.params.num_layers\": 2,<br>    \"model.latent_encoder.params.dropout\": 3.289808387305126e-06,<br>    \"model.params.k_factor\": 2.517706733233991,<br>    \"loss.params.matching_weights._presence\": 0.6480480628923748,<br>    \"model.autoencoder.params.num_norm\": true,<br>    \"model.autoencoder.params.cat_emb_dim\": 37,<br>    \"model.autoencoder.params.num_emb_dim\": 82<br>  },<br>  \"user_attrs\": {<br>    \"train_OTD overall_mean\": 0.6946053823575206,<br>    \"train_OTD overall_std\": 0.0,<br>    \"train_OTD hours_since_first_tx_mean\": 0.48105705885076533,<br>    \"train_OTD hours_since_first_tx_std\": 0.0,<br>    \"train_OTD amnt_mean\": 0.5313574322640554,<br>    \"train_OTD amnt_std\": 0.0,<br>    \"train_OTD payment_system_mean\": 0.8727170138888889,<br>    \"train_OTD payment_system_std\": 0.0,<br>    \"train_OTD mcc_category_mean\": 0.7230666035353536,<br>    \"train_OTD mcc_category_std\": 0.0,<br>    \"train_OTD card_type_mean\": 0.8928345959595959,<br>    \"train_OTD card_type_std\": 0.0,<br>    \"train_OTD mcc_mean\": 0.6665995896464646,<br>    \"train_OTD mcc_std\": 0.0,<br>    \"train_Cardinality on mcc_category gen_mean\": 6.265757575757576,<br>    \"train_Cardinality on mcc_category gen_std\": 0.0,<br>    \"train_Cardinality on mcc_category orig_mean\": 7.285075757575758,<br>    \"train_Cardinality on mcc_category orig_std\": 0.0,<br>    \"train_F1_macro on mcc_category_mean\": 0.47674498262395926,<br>    \"train_F1_macro on mcc_category_std\": 0.0,<br>    \"train_F1_micro on mcc_category_mean\": 0.735943023989899,<br>    \"train_F1_micro on mcc_category_std\": 0.0,<br>    \"loss_mean\": -85.61153593517486,<br>    \"loss_std\": 0.0,<br>    \"OTD overall_mean\": 0.7013411568114045,<br>    \"OTD overall_std\": 0.0,<br>    \"OTD hours_since_first_tx_mean\": 0.5721965174877576,<br>    \"OTD hours_since_first_tx_std\": 0.0,<br>    \"OTD amnt_mean\": 0.49600809046592115,<br>    \"OTD amnt_std\": 0.0,<br>    \"OTD payment_system_mean\": 0.8672082112459886,<br>    \"OTD payment_system_std\": 0.0,<br>    \"OTD mcc_category_mean\": 0.720742639877215,<br>    \"OTD mcc_category_std\": 0.0,<br>    \"OTD card_type_mean\": 0.8883424026789452,<br>    \"OTD card_type_std\": 0.0,<br>    \"OTD mcc_mean\": 0.6635490791125994,<br>    \"OTD mcc_std\": 0.0,<br>    \"Cardinality on mcc_category gen_mean\": 6.262034323984931,<br>    \"Cardinality on mcc_category gen_std\": 0.0,<br>    \"Cardinality on mcc_category orig_mean\": 7.265383005441607,<br>    \"Cardinality on mcc_category orig_std\": 0.0,<br>    \"F1_macro on mcc_category_mean\": 0.476444794556899,<br>    \"F1_macro on mcc_category_std\": 0.0,<br>    \"F1_micro on mcc_category_mean\": 0.7355893330542765,<br>    \"F1_micro on mcc_category_std\": 0.0,<br>    \"test_loss_mean\": -90.69719179938821,<br>    \"test_loss_std\": 0.0,<br>    \"test_OTD overall_mean\": 0.6912515793310147,<br>    \"test_OTD overall_std\": 0.0,<br>    \"test_OTD hours_since_first_tx_mean\": 0.6075286174412966,<br>    \"test_OTD hours_since_first_tx_std\": 0.0,<br>    \"test_OTD amnt_mean\": 0.4524109917027728,<br>    \"test_OTD amnt_std\": 0.0,<br>    \"test_OTD payment_system_mean\": 0.8473101265822784,<br>    \"test_OTD payment_system_std\": 0.0,<br>    \"test_OTD mcc_category_mean\": 0.7136504055016714,<br>    \"test_OTD mcc_category_std\": 0.0,<br>    \"test_OTD card_type_mean\": 0.8758407994958628,<br>    \"test_OTD card_type_std\": 0.0,<br>    \"test_OTD mcc_mean\": 0.6507685352622061,<br>    \"test_OTD mcc_std\": 0.0,<br>    \"test_Cardinality on mcc_category gen_mean\": 6.334977259027892,<br>    \"test_Cardinality on mcc_category gen_std\": 0.0,<br>    \"test_Cardinality on mcc_category orig_mean\": 7.3954737245876485,<br>    \"test_Cardinality on mcc_category orig_std\": 0.0,<br>    \"test_F1_macro on mcc_category_mean\": 0.4723485092015428,<br>    \"test_F1_macro on mcc_category_std\": 0.0,<br>    \"test_F1_micro on mcc_category_mean\": 0.7281289385719766,<br>    \"test_F1_micro on mcc_category_std\": 0.0,<br>    \"memory_after_mean\": 78382.0,<br>    \"memory_after_std\": 0.0<br>  }<br>}"
         ],
         "type": "scatter",
         "x": [
          -107.35035600849227,
          -105.15315796347225,
          -103.80840294033874,
          -107.12124570210774,
          -110.07216887380562,
          -101.31237811668247,
          -102.38279353871064,
          -106.4675573835186,
          -104.51969520718444,
          -101.49253826515347,
          -101.25323673323089,
          -105.39569574243882,
          -102.55686288721421,
          -108.44605763753255,
          -103.6008482540355,
          -105.51587138456456,
          -97.94591668072869,
          -98.33185248281441,
          -98.11967569238999,
          -100.01682042140587,
          -100.13898901845894,
          -98.68056039249196,
          -99.43145400402592,
          -103.34978552425609,
          -99.55402808095894,
          -98.47103354510139,
          -97.66935643962785,
          -97.18762008816589,
          -96.98011158961876,
          -104.5298080444336,
          -103.63594156153061,
          -97.572535720526,
          -95.21911090028053,
          -97.20340414608226,
          -94.2075964235792,
          -103.04486824484432,
          -95.51339261672076,
          -102.40889092987659,
          -94.18249332203584,
          -94.23229894451066,
          -99.33585365145814,
          -94.75915407666973,
          -95.86211152170219,
          -97.55763749515309,
          -95.38877834993251,
          -93.27328592188218,
          -96.81012789408366,
          -93.75536922380036,
          -90.69719179938821
         ],
         "y": [
          0.6829243230642419,
          0.6626223131005086,
          0.6660432836442608,
          0.6832980469016671,
          0.6829206249511895,
          0.6833373562394659,
          0.6783524136809369,
          0.6789503188784872,
          0.6754780513237217,
          0.6676278643468067,
          0.6618083769162196,
          0.6801395164435043,
          0.687140989156342,
          0.4730621199203073,
          0.6804678147366875,
          0.236570982344956,
          0.6843458151379891,
          0.6884001964841536,
          0.6853891421260281,
          0.6906281134814227,
          0.6777495883903124,
          0.676013619255405,
          0.6844172812047349,
          0.6796466537122043,
          0.6808616407635634,
          0.6483974550100009,
          0.6896497342574529,
          0.6835557121364757,
          0.6894356418764288,
          0.30549265759681027,
          0.38233868330369375,
          0.6804933091893411,
          0.6930092353589993,
          0.6827034657221785,
          0.6923952120648607,
          0.5395657620401767,
          0.6880172368177372,
          -0.17762255925952056,
          0.6885448321978903,
          0.6896408163964982,
          0.6856601500099604,
          0.683955896028264,
          0.6903260359464679,
          0.68682505582985,
          0.6891203068441257,
          0.6903333712075955,
          0.6931720638961695,
          0.6932352939012617,
          0.6912515793310147
         ]
        },
        {
         "hovertemplate": "%{text}<extra>Best Trial</extra>",
         "marker": {
          "color": [
           0
          ],
          "colorbar": {
           "title": {
            "text": "Best Trial"
           },
           "x": 1.1,
           "xpad": 40
          },
          "colorscale": [
           [
            0,
            "rgb(255,245,240)"
           ],
           [
            0.125,
            "rgb(254,224,210)"
           ],
           [
            0.25,
            "rgb(252,187,161)"
           ],
           [
            0.375,
            "rgb(252,146,114)"
           ],
           [
            0.5,
            "rgb(251,106,74)"
           ],
           [
            0.625,
            "rgb(239,59,44)"
           ],
           [
            0.75,
            "rgb(203,24,29)"
           ],
           [
            0.875,
            "rgb(165,15,21)"
           ],
           [
            1,
            "rgb(103,0,13)"
           ]
          ],
          "line": {
           "color": "Grey",
           "width": 0.5
          }
         },
         "mode": "markers",
         "showlegend": false,
         "text": [
          "{<br>  \"number\": 0,<br>  \"values\": [<br>    -97.24529066539947<br>  ],<br>  \"params\": {<br>    \"optimizer.params.weight_decay\": 2.6867629377885802e-05,<br>    \"optimizer.params.lr\": 0.00024292864499859406,<br>    \"model.latent_encoder.params.hidden_size\": 213,<br>    \"model.latent_encoder.params.num_layers\": 4,<br>    \"model.latent_encoder.params.dropout\": 0.0012062825559081554,<br>    \"model.params.k_factor\": 1.7958414755833787,<br>    \"loss.params.matching_weights._presence\": 0.939731606092128,<br>    \"model.autoencoder.params.num_norm\": true,<br>    \"model.autoencoder.params.cat_emb_dim\": 28,<br>    \"model.autoencoder.params.num_emb_dim\": 81<br>  },<br>  \"user_attrs\": {<br>    \"train_OTD overall_mean\": 0.6846015750181337,<br>    \"train_OTD overall_std\": 0.0,<br>    \"train_OTD hours_since_first_tx_mean\": 0.4810570588507654,<br>    \"train_OTD hours_since_first_tx_std\": 0.0,<br>    \"train_OTD amnt_mean\": 0.5108950364600564,<br>    \"train_OTD amnt_std\": 0.0,<br>    \"train_OTD payment_system_mean\": 0.8680089962121212,<br>    \"train_OTD payment_system_std\": 0.0,<br>    \"train_OTD mcc_category_mean\": 0.7150520833333334,<br>    \"train_OTD mcc_category_std\": 0.0,<br>    \"train_OTD card_type_mean\": 0.8865001578282828,<br>    \"train_OTD card_type_std\": 0.0,<br>    \"train_OTD mcc_mean\": 0.6460961174242424,<br>    \"train_OTD mcc_std\": 0.0,<br>    \"train_Cardinality on mcc_category gen_mean\": 6.801085858585859,<br>    \"train_Cardinality on mcc_category gen_std\": 0.0,<br>    \"train_Cardinality on mcc_category orig_mean\": 7.285075757575758,<br>    \"train_Cardinality on mcc_category orig_std\": 0.0,<br>    \"train_F1_macro on mcc_category_mean\": 0.4666361997021996,<br>    \"train_F1_macro on mcc_category_std\": 0.0,<br>    \"train_F1_micro on mcc_category_mean\": 0.7295351957070707,<br>    \"train_F1_micro on mcc_category_std\": 0.0,<br>    \"loss_mean\": -97.24529066539947,<br>    \"loss_std\": 0.0,<br>    \"OTD overall_mean\": 0.6896575517747786,<br>    \"OTD overall_std\": 0.0,<br>    \"OTD hours_since_first_tx_mean\": 0.5721965174877575,<br>    \"OTD hours_since_first_tx_std\": 0.0,<br>    \"OTD amnt_mean\": 0.4736120902168641,<br>    \"OTD amnt_std\": 0.0,<br>    \"OTD payment_system_mean\": 0.8625078484721641,<br>    \"OTD payment_system_std\": 0.0,<br>    \"OTD mcc_category_mean\": 0.7105570671131576,<br>    \"OTD mcc_category_std\": 0.0,<br>    \"OTD card_type_mean\": 0.8788631924096554,<br>    \"OTD card_type_std\": 0.0,<br>    \"OTD mcc_mean\": 0.6402085949490721,<br>    \"OTD mcc_std\": 0.0,<br>    \"Cardinality on mcc_category gen_mean\": 6.801172038509836,<br>    \"Cardinality on mcc_category gen_std\": 0.0,<br>    \"Cardinality on mcc_category orig_mean\": 7.265383005441607,<br>    \"Cardinality on mcc_category orig_std\": 0.0,<br>    \"F1_macro on mcc_category_mean\": 0.46420054737093874,<br>    \"F1_macro on mcc_category_std\": 0.0,<br>    \"F1_micro on mcc_category_mean\": 0.7272612320357192,<br>    \"F1_micro on mcc_category_std\": 0.0,<br>    \"test_loss_mean\": -105.82568901660396,<br>    \"test_loss_std\": 0.0,<br>    \"test_OTD overall_mean\": 0.6804963558181774,<br>    \"test_OTD overall_std\": 0.0,<br>    \"test_OTD hours_since_first_tx_mean\": 0.6075286174412966,<br>    \"test_OTD hours_since_first_tx_std\": 0.0,<br>    \"test_OTD amnt_mean\": 0.4334523532395906,<br>    \"test_OTD amnt_std\": 0.0,<br>    \"test_OTD payment_system_mean\": 0.8464385034796427,<br>    \"test_OTD payment_system_std\": 0.0,<br>    \"test_OTD mcc_category_mean\": 0.7032080524960271,<br>    \"test_OTD mcc_category_std\": 0.0,<br>    \"test_OTD card_type_mean\": 0.8670937448627322,<br>    \"test_OTD card_type_std\": 0.0,<br>    \"test_OTD mcc_mean\": 0.6252568633897748,<br>    \"test_OTD mcc_std\": 0.0,<br>    \"test_Cardinality on mcc_category gen_mean\": 6.890678941311853,<br>    \"test_Cardinality on mcc_category gen_std\": 0.0,<br>    \"test_Cardinality on mcc_category orig_mean\": 7.3954737245876485,<br>    \"test_Cardinality on mcc_category orig_std\": 0.0,<br>    \"test_F1_macro on mcc_category_mean\": 0.4611348955908205,<br>    \"test_F1_macro on mcc_category_std\": 0.0,<br>    \"test_F1_micro on mcc_category_mean\": 0.7193664721354595,<br>    \"test_F1_micro on mcc_category_std\": 0.0,<br>    \"memory_after_mean\": 58474.0,<br>    \"memory_after_std\": 0.0<br>  }<br>}"
         ],
         "type": "scatter",
         "x": [
          -105.82568901660396
         ],
         "y": [
          0.6804963558181774
         ]
        }
       ],
       "layout": {
        "template": {
         "data": {
          "bar": [
           {
            "error_x": {
             "color": "#2a3f5f"
            },
            "error_y": {
             "color": "#2a3f5f"
            },
            "marker": {
             "line": {
              "color": "#E5ECF6",
              "width": 0.5
             },
             "pattern": {
              "fillmode": "overlay",
              "size": 10,
              "solidity": 0.2
             }
            },
            "type": "bar"
           }
          ],
          "barpolar": [
           {
            "marker": {
             "line": {
              "color": "#E5ECF6",
              "width": 0.5
             },
             "pattern": {
              "fillmode": "overlay",
              "size": 10,
              "solidity": 0.2
             }
            },
            "type": "barpolar"
           }
          ],
          "carpet": [
           {
            "aaxis": {
             "endlinecolor": "#2a3f5f",
             "gridcolor": "white",
             "linecolor": "white",
             "minorgridcolor": "white",
             "startlinecolor": "#2a3f5f"
            },
            "baxis": {
             "endlinecolor": "#2a3f5f",
             "gridcolor": "white",
             "linecolor": "white",
             "minorgridcolor": "white",
             "startlinecolor": "#2a3f5f"
            },
            "type": "carpet"
           }
          ],
          "choropleth": [
           {
            "colorbar": {
             "outlinewidth": 0,
             "ticks": ""
            },
            "type": "choropleth"
           }
          ],
          "contour": [
           {
            "colorbar": {
             "outlinewidth": 0,
             "ticks": ""
            },
            "colorscale": [
             [
              0,
              "#0d0887"
             ],
             [
              0.1111111111111111,
              "#46039f"
             ],
             [
              0.2222222222222222,
              "#7201a8"
             ],
             [
              0.3333333333333333,
              "#9c179e"
             ],
             [
              0.4444444444444444,
              "#bd3786"
             ],
             [
              0.5555555555555556,
              "#d8576b"
             ],
             [
              0.6666666666666666,
              "#ed7953"
             ],
             [
              0.7777777777777778,
              "#fb9f3a"
             ],
             [
              0.8888888888888888,
              "#fdca26"
             ],
             [
              1,
              "#f0f921"
             ]
            ],
            "type": "contour"
           }
          ],
          "contourcarpet": [
           {
            "colorbar": {
             "outlinewidth": 0,
             "ticks": ""
            },
            "type": "contourcarpet"
           }
          ],
          "heatmap": [
           {
            "colorbar": {
             "outlinewidth": 0,
             "ticks": ""
            },
            "colorscale": [
             [
              0,
              "#0d0887"
             ],
             [
              0.1111111111111111,
              "#46039f"
             ],
             [
              0.2222222222222222,
              "#7201a8"
             ],
             [
              0.3333333333333333,
              "#9c179e"
             ],
             [
              0.4444444444444444,
              "#bd3786"
             ],
             [
              0.5555555555555556,
              "#d8576b"
             ],
             [
              0.6666666666666666,
              "#ed7953"
             ],
             [
              0.7777777777777778,
              "#fb9f3a"
             ],
             [
              0.8888888888888888,
              "#fdca26"
             ],
             [
              1,
              "#f0f921"
             ]
            ],
            "type": "heatmap"
           }
          ],
          "histogram": [
           {
            "marker": {
             "pattern": {
              "fillmode": "overlay",
              "size": 10,
              "solidity": 0.2
             }
            },
            "type": "histogram"
           }
          ],
          "histogram2d": [
           {
            "colorbar": {
             "outlinewidth": 0,
             "ticks": ""
            },
            "colorscale": [
             [
              0,
              "#0d0887"
             ],
             [
              0.1111111111111111,
              "#46039f"
             ],
             [
              0.2222222222222222,
              "#7201a8"
             ],
             [
              0.3333333333333333,
              "#9c179e"
             ],
             [
              0.4444444444444444,
              "#bd3786"
             ],
             [
              0.5555555555555556,
              "#d8576b"
             ],
             [
              0.6666666666666666,
              "#ed7953"
             ],
             [
              0.7777777777777778,
              "#fb9f3a"
             ],
             [
              0.8888888888888888,
              "#fdca26"
             ],
             [
              1,
              "#f0f921"
             ]
            ],
            "type": "histogram2d"
           }
          ],
          "histogram2dcontour": [
           {
            "colorbar": {
             "outlinewidth": 0,
             "ticks": ""
            },
            "colorscale": [
             [
              0,
              "#0d0887"
             ],
             [
              0.1111111111111111,
              "#46039f"
             ],
             [
              0.2222222222222222,
              "#7201a8"
             ],
             [
              0.3333333333333333,
              "#9c179e"
             ],
             [
              0.4444444444444444,
              "#bd3786"
             ],
             [
              0.5555555555555556,
              "#d8576b"
             ],
             [
              0.6666666666666666,
              "#ed7953"
             ],
             [
              0.7777777777777778,
              "#fb9f3a"
             ],
             [
              0.8888888888888888,
              "#fdca26"
             ],
             [
              1,
              "#f0f921"
             ]
            ],
            "type": "histogram2dcontour"
           }
          ],
          "mesh3d": [
           {
            "colorbar": {
             "outlinewidth": 0,
             "ticks": ""
            },
            "type": "mesh3d"
           }
          ],
          "parcoords": [
           {
            "line": {
             "colorbar": {
              "outlinewidth": 0,
              "ticks": ""
             }
            },
            "type": "parcoords"
           }
          ],
          "pie": [
           {
            "automargin": true,
            "type": "pie"
           }
          ],
          "scatter": [
           {
            "fillpattern": {
             "fillmode": "overlay",
             "size": 10,
             "solidity": 0.2
            },
            "type": "scatter"
           }
          ],
          "scatter3d": [
           {
            "line": {
             "colorbar": {
              "outlinewidth": 0,
              "ticks": ""
             }
            },
            "marker": {
             "colorbar": {
              "outlinewidth": 0,
              "ticks": ""
             }
            },
            "type": "scatter3d"
           }
          ],
          "scattercarpet": [
           {
            "marker": {
             "colorbar": {
              "outlinewidth": 0,
              "ticks": ""
             }
            },
            "type": "scattercarpet"
           }
          ],
          "scattergeo": [
           {
            "marker": {
             "colorbar": {
              "outlinewidth": 0,
              "ticks": ""
             }
            },
            "type": "scattergeo"
           }
          ],
          "scattergl": [
           {
            "marker": {
             "colorbar": {
              "outlinewidth": 0,
              "ticks": ""
             }
            },
            "type": "scattergl"
           }
          ],
          "scattermap": [
           {
            "marker": {
             "colorbar": {
              "outlinewidth": 0,
              "ticks": ""
             }
            },
            "type": "scattermap"
           }
          ],
          "scattermapbox": [
           {
            "marker": {
             "colorbar": {
              "outlinewidth": 0,
              "ticks": ""
             }
            },
            "type": "scattermapbox"
           }
          ],
          "scatterpolar": [
           {
            "marker": {
             "colorbar": {
              "outlinewidth": 0,
              "ticks": ""
             }
            },
            "type": "scatterpolar"
           }
          ],
          "scatterpolargl": [
           {
            "marker": {
             "colorbar": {
              "outlinewidth": 0,
              "ticks": ""
             }
            },
            "type": "scatterpolargl"
           }
          ],
          "scatterternary": [
           {
            "marker": {
             "colorbar": {
              "outlinewidth": 0,
              "ticks": ""
             }
            },
            "type": "scatterternary"
           }
          ],
          "surface": [
           {
            "colorbar": {
             "outlinewidth": 0,
             "ticks": ""
            },
            "colorscale": [
             [
              0,
              "#0d0887"
             ],
             [
              0.1111111111111111,
              "#46039f"
             ],
             [
              0.2222222222222222,
              "#7201a8"
             ],
             [
              0.3333333333333333,
              "#9c179e"
             ],
             [
              0.4444444444444444,
              "#bd3786"
             ],
             [
              0.5555555555555556,
              "#d8576b"
             ],
             [
              0.6666666666666666,
              "#ed7953"
             ],
             [
              0.7777777777777778,
              "#fb9f3a"
             ],
             [
              0.8888888888888888,
              "#fdca26"
             ],
             [
              1,
              "#f0f921"
             ]
            ],
            "type": "surface"
           }
          ],
          "table": [
           {
            "cells": {
             "fill": {
              "color": "#EBF0F8"
             },
             "line": {
              "color": "white"
             }
            },
            "header": {
             "fill": {
              "color": "#C8D4E3"
             },
             "line": {
              "color": "white"
             }
            },
            "type": "table"
           }
          ]
         },
         "layout": {
          "annotationdefaults": {
           "arrowcolor": "#2a3f5f",
           "arrowhead": 0,
           "arrowwidth": 1
          },
          "autotypenumbers": "strict",
          "coloraxis": {
           "colorbar": {
            "outlinewidth": 0,
            "ticks": ""
           }
          },
          "colorscale": {
           "diverging": [
            [
             0,
             "#8e0152"
            ],
            [
             0.1,
             "#c51b7d"
            ],
            [
             0.2,
             "#de77ae"
            ],
            [
             0.3,
             "#f1b6da"
            ],
            [
             0.4,
             "#fde0ef"
            ],
            [
             0.5,
             "#f7f7f7"
            ],
            [
             0.6,
             "#e6f5d0"
            ],
            [
             0.7,
             "#b8e186"
            ],
            [
             0.8,
             "#7fbc41"
            ],
            [
             0.9,
             "#4d9221"
            ],
            [
             1,
             "#276419"
            ]
           ],
           "sequential": [
            [
             0,
             "#0d0887"
            ],
            [
             0.1111111111111111,
             "#46039f"
            ],
            [
             0.2222222222222222,
             "#7201a8"
            ],
            [
             0.3333333333333333,
             "#9c179e"
            ],
            [
             0.4444444444444444,
             "#bd3786"
            ],
            [
             0.5555555555555556,
             "#d8576b"
            ],
            [
             0.6666666666666666,
             "#ed7953"
            ],
            [
             0.7777777777777778,
             "#fb9f3a"
            ],
            [
             0.8888888888888888,
             "#fdca26"
            ],
            [
             1,
             "#f0f921"
            ]
           ],
           "sequentialminus": [
            [
             0,
             "#0d0887"
            ],
            [
             0.1111111111111111,
             "#46039f"
            ],
            [
             0.2222222222222222,
             "#7201a8"
            ],
            [
             0.3333333333333333,
             "#9c179e"
            ],
            [
             0.4444444444444444,
             "#bd3786"
            ],
            [
             0.5555555555555556,
             "#d8576b"
            ],
            [
             0.6666666666666666,
             "#ed7953"
            ],
            [
             0.7777777777777778,
             "#fb9f3a"
            ],
            [
             0.8888888888888888,
             "#fdca26"
            ],
            [
             1,
             "#f0f921"
            ]
           ]
          },
          "colorway": [
           "#636efa",
           "#EF553B",
           "#00cc96",
           "#ab63fa",
           "#FFA15A",
           "#19d3f3",
           "#FF6692",
           "#B6E880",
           "#FF97FF",
           "#FECB52"
          ],
          "font": {
           "color": "#2a3f5f"
          },
          "geo": {
           "bgcolor": "white",
           "lakecolor": "white",
           "landcolor": "#E5ECF6",
           "showlakes": true,
           "showland": true,
           "subunitcolor": "white"
          },
          "hoverlabel": {
           "align": "left"
          },
          "hovermode": "closest",
          "mapbox": {
           "style": "light"
          },
          "paper_bgcolor": "white",
          "plot_bgcolor": "#E5ECF6",
          "polar": {
           "angularaxis": {
            "gridcolor": "white",
            "linecolor": "white",
            "ticks": ""
           },
           "bgcolor": "#E5ECF6",
           "radialaxis": {
            "gridcolor": "white",
            "linecolor": "white",
            "ticks": ""
           }
          },
          "scene": {
           "xaxis": {
            "backgroundcolor": "#E5ECF6",
            "gridcolor": "white",
            "gridwidth": 2,
            "linecolor": "white",
            "showbackground": true,
            "ticks": "",
            "zerolinecolor": "white"
           },
           "yaxis": {
            "backgroundcolor": "#E5ECF6",
            "gridcolor": "white",
            "gridwidth": 2,
            "linecolor": "white",
            "showbackground": true,
            "ticks": "",
            "zerolinecolor": "white"
           },
           "zaxis": {
            "backgroundcolor": "#E5ECF6",
            "gridcolor": "white",
            "gridwidth": 2,
            "linecolor": "white",
            "showbackground": true,
            "ticks": "",
            "zerolinecolor": "white"
           }
          },
          "shapedefaults": {
           "line": {
            "color": "#2a3f5f"
           }
          },
          "ternary": {
           "aaxis": {
            "gridcolor": "white",
            "linecolor": "white",
            "ticks": ""
           },
           "baxis": {
            "gridcolor": "white",
            "linecolor": "white",
            "ticks": ""
           },
           "bgcolor": "#E5ECF6",
           "caxis": {
            "gridcolor": "white",
            "linecolor": "white",
            "ticks": ""
           }
          },
          "title": {
           "x": 0.05
          },
          "xaxis": {
           "automargin": true,
           "gridcolor": "white",
           "linecolor": "white",
           "ticks": "",
           "title": {
            "standoff": 15
           },
           "zerolinecolor": "white",
           "zerolinewidth": 2
          },
          "yaxis": {
           "automargin": true,
           "gridcolor": "white",
           "linecolor": "white",
           "ticks": "",
           "title": {
            "standoff": 15
           },
           "zerolinecolor": "white",
           "zerolinewidth": 2
          }
         }
        },
        "title": {
         "text": "Pareto-front Plot"
        },
        "xaxis": {
         "title": {
          "text": "loss"
         }
        },
        "yaxis": {
         "title": {
          "text": "metric"
         }
        }
       }
      }
     },
     "metadata": {},
     "output_type": "display_data"
    }
   ],
   "source": [
    "pareto_targets = lambda t: (t.user_attrs[\"test_loss_mean\"], t.user_attrs[\"test_OTD overall_mean\"])\n",
    "optuna.visualization.plot_pareto_front(study, targets=pareto_targets, target_names=[\"loss\", \"metric\"])\n"
   ]
  },
  {
   "cell_type": "code",
   "execution_count": 21,
   "metadata": {},
   "outputs": [
    {
     "data": {
      "text/plain": [
       "<matplotlib.collections.PathCollection at 0x7f38ec34bd00>"
      ]
     },
     "execution_count": 21,
     "metadata": {},
     "output_type": "execute_result"
    },
    {
     "data": {
      "image/png": "[encoded data removed]",
      "text/plain": [
       "<Figure size 640x480 with 1 Axes>"
      ]
     },
     "metadata": {},
     "output_type": "display_data"
    }
   ],
   "source": [
    "df[col_user]\n",
    "# user_attrs_Reconstruction overall_mean\n",
    "# user_attrs_test_Reconstruction overall_mean  \n",
    "corr = df.loc[:, [\"user_attrs_Reconstruction overall_mean\", \"user_attrs_test_Reconstruction overall_mean\"]].values\n",
    "corr = corr[corr[:, 1] > 0.]\n",
    "corr = corr.T\n",
    "plt.scatter(corr[0], corr[1])"
   ]
  },
  {
   "cell_type": "code",
   "execution_count": 14,
   "metadata": {},
   "outputs": [
    {
     "data": {
      "text/plain": [
       "array([ 2.24765981e-01,  5.58193365e-01,  5.79441426e-01, -2.52478756e+01,\n",
       "       -1.83249119e+00,  5.93541510e-01, -6.89742099e+01,  6.20540413e-01,\n",
       "        5.51473175e-01,  5.75338017e-01,  5.87397511e-01,  5.06810327e-01,\n",
       "        4.14948080e-01,  6.56091304e-01, -2.29449604e+02,  6.59978799e-01,\n",
       "        5.95479827e-01,  6.08065133e-01,  6.28701189e-01,  3.19842927e-01,\n",
       "        6.48585040e-01,  5.70997809e-01,  4.16447689e-01, -2.43559946e+01,\n",
       "       -1.92204170e-01,  4.85782606e-01,  1.76263074e-01,  2.43228096e-01,\n",
       "        4.86158230e-01,  5.44850264e-01,  5.08651126e-01,  6.44586897e-01,\n",
       "        6.46302449e-01,  5.16191953e-01,  5.87891203e-01,  4.15233483e-01,\n",
       "        5.76327024e-01,  5.09958578e-01])"
      ]
     },
     "execution_count": 14,
     "metadata": {},
     "output_type": "execute_result"
    }
   ],
   "source": [
    "corr[1]"
   ]
  },
  {
   "cell_type": "code",
   "execution_count": 20,
   "metadata": {},
   "outputs": [
    {
     "data": {
      "text/plain": [
       "Index(['value', 'datetime_start', 'datetime_complete', 'duration',\n",
       "       'params_model.encoder.params.dropout',\n",
       "       'params_model.encoder.params.hidden_size',\n",
       "       'params_model.encoder.params.num_layers',\n",
       "       'params_model.preprocessor.batch_transforms.0.TimeToFeatures.process_type',\n",
       "       'params_model.preprocessor.cat_emb_dim',\n",
       "       'params_model.preprocessor.num_emb_dim',\n",
       "       'params_model.preprocessor.num_norm', 'params_optimizer.params.lr',\n",
       "       'params_optimizer.params.weight_decay',\n",
       "       'user_attrs_Reconstruction amount_mean',\n",
       "       'user_attrs_Reconstruction amount_std',\n",
       "       'user_attrs_Reconstruction currency_mean',\n",
       "       'user_attrs_Reconstruction currency_std',\n",
       "       'user_attrs_Reconstruction days_since_first_tx_mean',\n",
       "       'user_attrs_Reconstruction days_since_first_tx_std',\n",
       "       'user_attrs_Reconstruction dst_type11_mean',\n",
       "       'user_attrs_Reconstruction dst_type11_std',\n",
       "       'user_attrs_Reconstruction dst_type12_mean',\n",
       "       'user_attrs_Reconstruction dst_type12_std',\n",
       "       'user_attrs_Reconstruction event_subtype_mean',\n",
       "       'user_attrs_Reconstruction event_subtype_std',\n",
       "       'user_attrs_Reconstruction event_type_mean',\n",
       "       'user_attrs_Reconstruction event_type_std',\n",
       "       'user_attrs_Reconstruction overall_mean',\n",
       "       'user_attrs_Reconstruction overall_std',\n",
       "       'user_attrs_Reconstruction src_type11_mean',\n",
       "       'user_attrs_Reconstruction src_type11_std',\n",
       "       'user_attrs_Reconstruction src_type12_mean',\n",
       "       'user_attrs_Reconstruction src_type12_std',\n",
       "       'user_attrs_Reconstruction src_type22_mean',\n",
       "       'user_attrs_Reconstruction src_type22_std',\n",
       "       'user_attrs_Reconstruction src_type32_mean',\n",
       "       'user_attrs_Reconstruction src_type32_std',\n",
       "       'user_attrs_memory_after_mean', 'user_attrs_memory_after_std',\n",
       "       'user_attrs_test_Reconstruction amount_mean',\n",
       "       'user_attrs_test_Reconstruction amount_std',\n",
       "       'user_attrs_test_Reconstruction currency_mean',\n",
       "       'user_attrs_test_Reconstruction currency_std',\n",
       "       'user_attrs_test_Reconstruction days_since_first_tx_mean',\n",
       "       'user_attrs_test_Reconstruction days_since_first_tx_std',\n",
       "       'user_attrs_test_Reconstruction dst_type11_mean',\n",
       "       'user_attrs_test_Reconstruction dst_type11_std',\n",
       "       'user_attrs_test_Reconstruction dst_type12_mean',\n",
       "       'user_attrs_test_Reconstruction dst_type12_std',\n",
       "       'user_attrs_test_Reconstruction event_subtype_mean',\n",
       "       'user_attrs_test_Reconstruction event_subtype_std',\n",
       "       'user_attrs_test_Reconstruction event_type_mean',\n",
       "       'user_attrs_test_Reconstruction event_type_std',\n",
       "       'user_attrs_test_Reconstruction overall_mean',\n",
       "       'user_attrs_test_Reconstruction overall_std',\n",
       "       'user_attrs_test_Reconstruction src_type11_mean',\n",
       "       'user_attrs_test_Reconstruction src_type11_std',\n",
       "       'user_attrs_test_Reconstruction src_type12_mean',\n",
       "       'user_attrs_test_Reconstruction src_type12_std',\n",
       "       'user_attrs_test_Reconstruction src_type22_mean',\n",
       "       'user_attrs_test_Reconstruction src_type22_std',\n",
       "       'user_attrs_test_Reconstruction src_type32_mean',\n",
       "       'user_attrs_test_Reconstruction src_type32_std',\n",
       "       'user_attrs_train_Reconstruction amount_mean',\n",
       "       'user_attrs_train_Reconstruction amount_std',\n",
       "       'user_attrs_train_Reconstruction currency_mean',\n",
       "       'user_attrs_train_Reconstruction currency_std',\n",
       "       'user_attrs_train_Reconstruction days_since_first_tx_mean',\n",
       "       'user_attrs_train_Reconstruction days_since_first_tx_std',\n",
       "       'user_attrs_train_Reconstruction dst_type11_mean',\n",
       "       'user_attrs_train_Reconstruction dst_type11_std',\n",
       "       'user_attrs_train_Reconstruction dst_type12_mean',\n",
       "       'user_attrs_train_Reconstruction dst_type12_std',\n",
       "       'user_attrs_train_Reconstruction event_subtype_mean',\n",
       "       'user_attrs_train_Reconstruction event_subtype_std',\n",
       "       'user_attrs_train_Reconstruction event_type_mean',\n",
       "       'user_attrs_train_Reconstruction event_type_std',\n",
       "       'user_attrs_train_Reconstruction overall_mean',\n",
       "       'user_attrs_train_Reconstruction overall_std',\n",
       "       'user_attrs_train_Reconstruction src_type11_mean',\n",
       "       'user_attrs_train_Reconstruction src_type11_std',\n",
       "       'user_attrs_train_Reconstruction src_type12_mean',\n",
       "       'user_attrs_train_Reconstruction src_type12_std',\n",
       "       'user_attrs_train_Reconstruction src_type22_mean',\n",
       "       'user_attrs_train_Reconstruction src_type22_std',\n",
       "       'user_attrs_train_Reconstruction src_type32_mean',\n",
       "       'user_attrs_train_Reconstruction src_type32_std',\n",
       "       'system_attrs_fixed_params', 'state'],\n",
       "      dtype='object')"
      ]
     },
     "execution_count": 20,
     "metadata": {},
     "output_type": "execute_result"
    }
   ],
   "source": [
    "df.columns"
   ]
  }
 ],
 "metadata": {
  "kernelspec": {
   "display_name": "Python 3",
   "language": "python",
   "name": "python3"
  },
  "language_info": {
   "codemirror_mode": {
    "name": "ipython",
    "version": 3
   },
   "file_extension": ".py",
   "mimetype": "text/x-python",
   "name": "python",
   "nbconvert_exporter": "python",
   "pygments_lexer": "ipython3",
   "version": "3.10.12"
  }
 },
 "nbformat": 4,
 "nbformat_minor": 2
}
