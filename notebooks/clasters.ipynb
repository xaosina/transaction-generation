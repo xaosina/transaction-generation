{
 "cells": [
  {
   "cell_type": "code",
   "execution_count": 1,
   "id": "22057681",
   "metadata": {},
   "outputs": [
    {
     "ename": "ModuleNotFoundError",
     "evalue": "No module named 'hdbscan'",
     "output_type": "error",
     "traceback": [
      "\u001b[0;31m---------------------------------------------------------------------------\u001b[0m",
      "\u001b[0;31mModuleNotFoundError\u001b[0m                       Traceback (most recent call last)",
      "Cell \u001b[0;32mIn[1], line 8\u001b[0m\n\u001b[1;32m      6\u001b[0m \u001b[38;5;28;01mfrom\u001b[39;00m \u001b[38;5;21;01msklearn\u001b[39;00m\u001b[38;5;21;01m.\u001b[39;00m\u001b[38;5;21;01mcluster\u001b[39;00m \u001b[38;5;28;01mimport\u001b[39;00m KMeans, DBSCAN, Birch\n\u001b[1;32m      7\u001b[0m \u001b[38;5;28;01mfrom\u001b[39;00m \u001b[38;5;21;01msklearn\u001b[39;00m\u001b[38;5;21;01m.\u001b[39;00m\u001b[38;5;21;01mmixture\u001b[39;00m \u001b[38;5;28;01mimport\u001b[39;00m GaussianMixture\n\u001b[0;32m----> 8\u001b[0m \u001b[38;5;28;01mfrom\u001b[39;00m \u001b[38;5;21;01mhdbscan\u001b[39;00m \u001b[38;5;28;01mimport\u001b[39;00m HDBSCAN\n\u001b[1;32m      9\u001b[0m \u001b[38;5;28;01mfrom\u001b[39;00m \u001b[38;5;21;01msklearn\u001b[39;00m\u001b[38;5;21;01m.\u001b[39;00m\u001b[38;5;21;01mmetrics\u001b[39;00m \u001b[38;5;28;01mimport\u001b[39;00m silhouette_score, calinski_harabasz_score, davies_bouldin_score\n\u001b[1;32m     10\u001b[0m \u001b[38;5;28;01mfrom\u001b[39;00m \u001b[38;5;21;01msklearn\u001b[39;00m\u001b[38;5;21;01m.\u001b[39;00m\u001b[38;5;21;01mdecomposition\u001b[39;00m \u001b[38;5;28;01mimport\u001b[39;00m PCA\n",
      "\u001b[0;31mModuleNotFoundError\u001b[0m: No module named 'hdbscan'"
     ]
    }
   ],
   "source": [
    "import pandas as pd\n",
    "import numpy as np\n",
    "from sklearn.preprocessing import StandardScaler, OneHotEncoder\n",
    "from sklearn.compose import ColumnTransformer\n",
    "from sklearn.pipeline import Pipeline\n",
    "from sklearn.cluster import KMeans, DBSCAN, Birch\n",
    "from sklearn.mixture import GaussianMixture\n",
    "from hdbscan import HDBSCAN\n",
    "from sklearn.metrics import silhouette_score, calinski_harabasz_score, davies_bouldin_score\n",
    "from sklearn.decomposition import PCA\n",
    "import matplotlib.pyplot as plt"
   ]
  },
  {
   "cell_type": "code",
   "execution_count": null,
   "id": "cdc57416",
   "metadata": {},
   "outputs": [],
   "source": [
    "def evaluate_clustering(X, model, param_grid, metric_func):\n",
    "    best_score = -np.inf\n",
    "    best_model = None\n",
    "    results = []\n",
    "\n",
    "    if isinstance(model, KMeans) or isinstance(model, Birch):\n",
    "        for n_clusters in param_grid['n_clusters']:\n",
    "            m = model.__class__(n_clusters=n_clusters, random_state=42).fit(X)\n",
    "            labels = m.labels_\n",
    "            if len(set(labels)) < 2:\n",
    "                continue  # Skip invalid clusterings\n",
    "            score = metric_func(X, labels)\n",
    "            results.append((n_clusters, score))\n",
    "            if score > best_score:\n",
    "                best_score = score\n",
    "                best_model = m\n",
    "    elif isinstance(model, DBSCAN):\n",
    "        for eps in param_grid['eps']:\n",
    "            for min_samples in param_grid['min_samples']:\n",
    "                m = model.__class__(eps=eps, min_samples=min_samples).fit(X)\n",
    "                labels = m.labels_\n",
    "                if len(set(labels)) < 2:\n",
    "                    continue\n",
    "                score = metric_func(X, labels)\n",
    "                results.append((eps, min_samples, score))\n",
    "                if score > best_score:\n",
    "                    best_score = score\n",
    "                    best_model = m\n",
    "    elif isinstance(model, HDBSCAN):\n",
    "        m = model.fit(X)\n",
    "        labels = m.labels_\n",
    "        if len(set(labels)) < 2:\n",
    "            return None, None, []\n",
    "        score = metric_func(X, labels)\n",
    "        results.append((\"HDBSCAN\", score))\n",
    "        return m, score, results\n",
    "\n",
    "    return best_model, best_score, results"
   ]
  }
 ],
 "metadata": {
  "kernelspec": {
   "display_name": "Python 3",
   "language": "python",
   "name": "python3"
  },
  "language_info": {
   "codemirror_mode": {
    "name": "ipython",
    "version": 3
   },
   "file_extension": ".py",
   "mimetype": "text/x-python",
   "name": "python",
   "nbconvert_exporter": "python",
   "pygments_lexer": "ipython3",
   "version": "3.10.12"
  }
 },
 "nbformat": 4,
 "nbformat_minor": 5
}
