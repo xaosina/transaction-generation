{
 "cells": [
  {
   "cell_type": "code",
   "execution_count": 1,
   "id": "c3eca863",
   "metadata": {},
   "outputs": [],
   "source": [
    "import sys\n",
    "\n",
    "from omegaconf import OmegaConf\n",
    "from pathlib import Path\n",
    "from dataclasses import asdict"
   ]
  },
  {
   "cell_type": "code",
   "execution_count": 2,
   "id": "2eb2bde5",
   "metadata": {},
   "outputs": [],
   "source": [
    "sys.path.append('..') # to import from the root of the transaction-generation repo\n",
    "from generation.metrics.evaluator import SampleEvaluator\n",
    "from generation.runners.utils import PipelineConfig\n",
    "from dacite import from_dict, Config"
   ]
  },
  {
   "cell_type": "code",
   "execution_count": 8,
   "id": "db467b65",
   "metadata": {},
   "outputs": [],
   "source": [
    "repo_path = Path(\"/workspace/transactionsv2/transaction-generation\") #YOUR PATH TO REPO\n",
    "\n",
    "config_relpath = Path(\"./log/generation/age/debug/-(34)/\") # YOUR PATH TO CONFIG (CHANGE METRICS TO NEW ONES!)\n",
    "log_relpath = Path(\"./log/generation/age/evaluation_run\") # seems that this path not actually used\n",
    "samples_relpath = Path(\"./log/generation/age/evaluation_run/temp1.0_topk1\") # YOUR PATH TO GENERATED SAMPLES"
   ]
  },
  {
   "cell_type": "code",
   "execution_count": 9,
   "id": "324d0d9e",
   "metadata": {},
   "outputs": [],
   "source": [
    "config_path = (repo_path / config_relpath) / 'seed_0' / 'config.yaml'\n",
    "log_path = repo_path / log_relpath\n",
    "gen_dir = (repo_path / samples_relpath) / \"seed_0\" / 'evaluation' / 'samples' / 'gen'\n",
    "gt_dir = (repo_path / samples_relpath) / \"seed_0\" / 'evaluation' / 'samples' / 'gt'"
   ]
  },
  {
   "cell_type": "code",
   "execution_count": 10,
   "id": "ec1fe8e8",
   "metadata": {},
   "outputs": [],
   "source": [
    "cfg = OmegaConf.load(config_path)\n",
    "cfg = OmegaConf.to_container(cfg, resolve=True) # to dict\n",
    "cfg = from_dict(PipelineConfig, cfg, Config(strict=True))"
   ]
  },
  {
   "cell_type": "code",
   "execution_count": 11,
   "id": "08263456",
   "metadata": {},
   "outputs": [],
   "source": [
    "sample_evaluator = SampleEvaluator(\n",
    "    log_path,\n",
    "    cfg.data_conf,\n",
    "    cfg.evaluator,\n",
    "    device=cfg.device,\n",
    "    verbose=cfg.trainer.verbose,\n",
    ")"
   ]
  },
  {
   "cell_type": "code",
   "execution_count": 12,
   "id": "d55ae744",
   "metadata": {},
   "outputs": [
    {
     "name": "stdout",
     "output_type": "stream",
     "text": [
      "Temp parquet located in: /tmp/tmp_er8rh0r/detection\n",
      "INFO     - 2025-09-16 14:02:57,606 - reading parquet file, it may take some time\n",
      "INFO     - 2025-09-16 14:02:57,642 - reading parquet file, it may take some time\n",
      "INFO     - 2025-09-16 14:02:57,843 - run detection/gru(1)/seed_0 started\n",
      "INFO     - 2025-09-16 14:02:57,845 - Epoch 0001: train started\n"
     ]
    },
    {
     "data": {
      "application/vnd.jupyter.widget-view+json": {
       "model_id": "ba9bca1e5f734089918eb3791eb63295",
       "version_major": 2,
       "version_minor": 0
      },
      "text/plain": [
       "  0%|          | 0/60 [00:00<?, ?it/s]"
      ]
     },
     "metadata": {},
     "output_type": "display_data"
    },
    {
     "name": "stdout",
     "output_type": "stream",
     "text": [
      "Data Loading took: 0.1384563446044922 seconds\n",
      "INFO     - 2025-09-16 14:02:59,039 - Epoch 0001: avg train loss = 0.6954\n",
      "INFO     - 2025-09-16 14:02:59,040 - Epoch 0001: train finished\n",
      "INFO     - 2025-09-16 14:02:59,041 - Epoch 0001: train metrics: {'MulticlassAccuracy': 0.501953125, 'loss': 0.6954096068938573}\n",
      "INFO     - 2025-09-16 14:02:59,041 - Epoch 0001: validation started\n"
     ]
    },
    {
     "data": {
      "application/vnd.jupyter.widget-view+json": {
       "model_id": "7bb5e836de7f40ada1680ffb839cb538",
       "version_major": 2,
       "version_minor": 0
      },
      "text/plain": [
       "  0%|          | 0/13 [00:00<?, ?it/s]"
      ]
     },
     "metadata": {},
     "output_type": "display_data"
    },
    {
     "name": "stdout",
     "output_type": "stream",
     "text": [
      "INFO     - 2025-09-16 14:02:59,615 - Epoch 0001: validation finished\n",
      "INFO     - 2025-09-16 14:02:59,617 - Epoch 0001: val metrics: {'MulticlassAccuracy': 0.4882032573223114, 'loss': 0.6960582595605117}\n",
      "INFO     - 2025-09-16 14:02:59,625 - Epoch 0002: train started\n"
     ]
    },
    {
     "data": {
      "application/vnd.jupyter.widget-view+json": {
       "model_id": "c6115b6393d14f3fa6d163dcd43d8eff",
       "version_major": 2,
       "version_minor": 0
      },
      "text/plain": [
       "  0%|          | 0/60 [00:00<?, ?it/s]"
      ]
     },
     "metadata": {},
     "output_type": "display_data"
    },
    {
     "name": "stdout",
     "output_type": "stream",
     "text": [
      "Data Loading took: 0.11792159080505371 seconds\n",
      "INFO     - 2025-09-16 14:03:00,510 - Epoch 0002: avg train loss = 0.6946\n",
      "INFO     - 2025-09-16 14:03:00,511 - Epoch 0002: train finished\n",
      "INFO     - 2025-09-16 14:03:00,512 - Epoch 0002: train metrics: {'MulticlassAccuracy': 0.4970051944255829, 'loss': 0.694599469502767}\n",
      "INFO     - 2025-09-16 14:03:00,512 - Epoch 0002: validation started\n"
     ]
    },
    {
     "data": {
      "application/vnd.jupyter.widget-view+json": {
       "model_id": "7b517ba213534a45bd60cb9d741ed775",
       "version_major": 2,
       "version_minor": 0
      },
      "text/plain": [
       "  0%|          | 0/13 [00:00<?, ?it/s]"
      ]
     },
     "metadata": {},
     "output_type": "display_data"
    },
    {
     "name": "stdout",
     "output_type": "stream",
     "text": [
      "INFO     - 2025-09-16 14:03:01,073 - Epoch 0002: validation finished\n",
      "INFO     - 2025-09-16 14:03:01,074 - Epoch 0002: val metrics: {'MulticlassAccuracy': 0.49606776237487793, 'loss': 0.6960426477285532}\n",
      "INFO     - 2025-09-16 14:03:01,082 - Epoch 0003: train started\n"
     ]
    },
    {
     "data": {
      "application/vnd.jupyter.widget-view+json": {
       "model_id": "4a871de30de34c869cf07a0bb192016a",
       "version_major": 2,
       "version_minor": 0
      },
      "text/plain": [
       "  0%|          | 0/60 [00:00<?, ?it/s]"
      ]
     },
     "metadata": {},
     "output_type": "display_data"
    },
    {
     "name": "stdout",
     "output_type": "stream",
     "text": [
      "Data Loading took: 0.12218403816223145 seconds\n",
      "INFO     - 2025-09-16 14:03:01,965 - Epoch 0003: avg train loss = 0.6943\n",
      "INFO     - 2025-09-16 14:03:01,966 - Epoch 0003: train finished\n",
      "INFO     - 2025-09-16 14:03:01,967 - Epoch 0003: train metrics: {'MulticlassAccuracy': 0.49817708134651184, 'loss': 0.6943235158920288}\n",
      "INFO     - 2025-09-16 14:03:01,967 - Epoch 0003: validation started\n"
     ]
    },
    {
     "data": {
      "application/vnd.jupyter.widget-view+json": {
       "model_id": "23932a854111416cac66680b44c12ced",
       "version_major": 2,
       "version_minor": 0
      },
      "text/plain": [
       "  0%|          | 0/13 [00:00<?, ?it/s]"
      ]
     },
     "metadata": {},
     "output_type": "display_data"
    },
    {
     "name": "stdout",
     "output_type": "stream",
     "text": [
      "INFO     - 2025-09-16 14:03:02,533 - Epoch 0003: validation finished\n",
      "INFO     - 2025-09-16 14:03:02,534 - Epoch 0003: val metrics: {'MulticlassAccuracy': 0.49183303117752075, 'loss': 0.6958471123988812}\n",
      "INFO     - 2025-09-16 14:03:02,542 - Epoch 0004: train started\n"
     ]
    },
    {
     "data": {
      "application/vnd.jupyter.widget-view+json": {
       "model_id": "4bc5e4f819464518b4ab3eac0337decb",
       "version_major": 2,
       "version_minor": 0
      },
      "text/plain": [
       "  0%|          | 0/60 [00:00<?, ?it/s]"
      ]
     },
     "metadata": {},
     "output_type": "display_data"
    },
    {
     "name": "stdout",
     "output_type": "stream",
     "text": [
      "Data Loading took: 0.11542367935180664 seconds\n",
      "INFO     - 2025-09-16 14:03:03,429 - Epoch 0004: avg train loss = 0.6941\n",
      "INFO     - 2025-09-16 14:03:03,430 - Epoch 0004: train finished\n",
      "INFO     - 2025-09-16 14:03:03,430 - Epoch 0004: train metrics: {'MulticlassAccuracy': 0.5018228888511658, 'loss': 0.6940972983837128}\n",
      "INFO     - 2025-09-16 14:03:03,431 - Epoch 0004: validation started\n"
     ]
    },
    {
     "data": {
      "application/vnd.jupyter.widget-view+json": {
       "model_id": "913fb3d1204041008d0ddadc348f0ca3",
       "version_major": 2,
       "version_minor": 0
      },
      "text/plain": [
       "  0%|          | 0/13 [00:00<?, ?it/s]"
      ]
     },
     "metadata": {},
     "output_type": "display_data"
    },
    {
     "name": "stdout",
     "output_type": "stream",
     "text": [
      "INFO     - 2025-09-16 14:03:04,028 - Epoch 0004: validation finished\n",
      "INFO     - 2025-09-16 14:03:04,029 - Epoch 0004: val metrics: {'MulticlassAccuracy': 0.4924379885196686, 'loss': 0.6956890683907729}\n",
      "INFO     - 2025-09-16 14:03:04,036 - Epoch 0005: train started\n"
     ]
    },
    {
     "data": {
      "application/vnd.jupyter.widget-view+json": {
       "model_id": "c23d492d51324539baa193a7633f1655",
       "version_major": 2,
       "version_minor": 0
      },
      "text/plain": [
       "  0%|          | 0/60 [00:00<?, ?it/s]"
      ]
     },
     "metadata": {},
     "output_type": "display_data"
    },
    {
     "name": "stdout",
     "output_type": "stream",
     "text": [
      "Data Loading took: 0.11531472206115723 seconds\n",
      "INFO     - 2025-09-16 14:03:04,942 - Epoch 0005: avg train loss = 0.6939\n",
      "INFO     - 2025-09-16 14:03:04,943 - Epoch 0005: train finished\n",
      "INFO     - 2025-09-16 14:03:04,943 - Epoch 0005: train metrics: {'MulticlassAccuracy': 0.5042968988418579, 'loss': 0.693911341826121}\n",
      "INFO     - 2025-09-16 14:03:04,944 - Epoch 0005: validation started\n"
     ]
    },
    {
     "data": {
      "application/vnd.jupyter.widget-view+json": {
       "model_id": "2704932c325647c48a79a1eeb0116b62",
       "version_major": 2,
       "version_minor": 0
      },
      "text/plain": [
       "  0%|          | 0/13 [00:00<?, ?it/s]"
      ]
     },
     "metadata": {},
     "output_type": "display_data"
    },
    {
     "name": "stdout",
     "output_type": "stream",
     "text": [
      "INFO     - 2025-09-16 14:03:05,481 - Epoch 0005: validation finished\n",
      "INFO     - 2025-09-16 14:03:05,482 - Epoch 0005: val metrics: {'MulticlassAccuracy': 0.49183303117752075, 'loss': 0.6955630366618817}\n",
      "INFO     - 2025-09-16 14:03:05,490 - Epoch 0006: train started\n"
     ]
    },
    {
     "data": {
      "application/vnd.jupyter.widget-view+json": {
       "model_id": "a84ef13c63b149e48e9ff925921e6f5e",
       "version_major": 2,
       "version_minor": 0
      },
      "text/plain": [
       "  0%|          | 0/60 [00:00<?, ?it/s]"
      ]
     },
     "metadata": {},
     "output_type": "display_data"
    },
    {
     "name": "stdout",
     "output_type": "stream",
     "text": [
      "Data Loading took: 0.11492514610290527 seconds\n",
      "INFO     - 2025-09-16 14:03:06,332 - Epoch 0006: avg train loss = 0.6937\n",
      "INFO     - 2025-09-16 14:03:06,332 - Epoch 0006: train finished\n",
      "INFO     - 2025-09-16 14:03:06,333 - Epoch 0006: train metrics: {'MulticlassAccuracy': 0.505078136920929, 'loss': 0.6937490075826644}\n",
      "INFO     - 2025-09-16 14:03:06,334 - Epoch 0006: validation started\n"
     ]
    },
    {
     "data": {
      "application/vnd.jupyter.widget-view+json": {
       "model_id": "3b68f50d3f38436d96640ae4eb90de4c",
       "version_major": 2,
       "version_minor": 0
      },
      "text/plain": [
       "  0%|          | 0/13 [00:00<?, ?it/s]"
      ]
     },
     "metadata": {},
     "output_type": "display_data"
    },
    {
     "name": "stdout",
     "output_type": "stream",
     "text": [
      "INFO     - 2025-09-16 14:03:06,919 - Epoch 0006: validation finished\n",
      "INFO     - 2025-09-16 14:03:06,921 - Epoch 0006: val metrics: {'MulticlassAccuracy': 0.49364790320396423, 'loss': 0.6954609522452722}\n",
      "INFO     - 2025-09-16 14:03:06,929 - Epoch 0007: train started\n"
     ]
    },
    {
     "data": {
      "application/vnd.jupyter.widget-view+json": {
       "model_id": "4cd0f7e2a93c43fb8ea23bccda7ab603",
       "version_major": 2,
       "version_minor": 0
      },
      "text/plain": [
       "  0%|          | 0/60 [00:00<?, ?it/s]"
      ]
     },
     "metadata": {},
     "output_type": "display_data"
    },
    {
     "name": "stdout",
     "output_type": "stream",
     "text": [
      "Data Loading took: 0.12306427955627441 seconds\n",
      "INFO     - 2025-09-16 14:03:07,818 - Epoch 0007: avg train loss = 0.6936\n",
      "INFO     - 2025-09-16 14:03:07,819 - Epoch 0007: train finished\n",
      "INFO     - 2025-09-16 14:03:07,820 - Epoch 0007: train metrics: {'MulticlassAccuracy': 0.50390625, 'loss': 0.6936048607031504}\n",
      "INFO     - 2025-09-16 14:03:07,820 - Epoch 0007: validation started\n"
     ]
    },
    {
     "data": {
      "application/vnd.jupyter.widget-view+json": {
       "model_id": "8fee655255594339b9be329147708585",
       "version_major": 2,
       "version_minor": 0
      },
      "text/plain": [
       "  0%|          | 0/13 [00:00<?, ?it/s]"
      ]
     },
     "metadata": {},
     "output_type": "display_data"
    },
    {
     "name": "stdout",
     "output_type": "stream",
     "text": [
      "INFO     - 2025-09-16 14:03:08,396 - Epoch 0007: validation finished\n",
      "INFO     - 2025-09-16 14:03:08,397 - Epoch 0007: val metrics: {'MulticlassAccuracy': 0.4948578476905823, 'loss': 0.6953951028677133}\n",
      "INFO     - 2025-09-16 14:03:08,405 - Patience has run out. Early stopping at 7 epoch\n",
      "INFO     - 2025-09-16 14:03:08,405 - run 'detection/gru(1)/seed_0' finished successfully\n",
      "<All keys matched successfully>\n",
      "INFO     - 2025-09-16 14:03:08,413 - Epoch 0003: validation started\n"
     ]
    },
    {
     "data": {
      "application/vnd.jupyter.widget-view+json": {
       "model_id": "9aef0194cf38443f809b48b1ae2bc23e",
       "version_major": 2,
       "version_minor": 0
      },
      "text/plain": [
       "  0%|          | 0/61 [00:00<?, ?it/s]"
      ]
     },
     "metadata": {},
     "output_type": "display_data"
    },
    {
     "name": "stdout",
     "output_type": "stream",
     "text": [
      "INFO     - 2025-09-16 14:03:09,223 - Epoch 0003: validation finished\n",
      "INFO     - 2025-09-16 14:03:09,223 - Epoch 0003: val metrics: {'MulticlassAccuracy': 0.5054446458816528, 'loss': 0.693458697834953}\n",
      "INFO     - 2025-09-16 14:03:09,224 - Epoch 0003: validation started\n"
     ]
    },
    {
     "data": {
      "application/vnd.jupyter.widget-view+json": {
       "model_id": "f6f0c17b18d94ac4ad86890fa4b897d3",
       "version_major": 2,
       "version_minor": 0
      },
      "text/plain": [
       "  0%|          | 0/13 [00:00<?, ?it/s]"
      ]
     },
     "metadata": {},
     "output_type": "display_data"
    },
    {
     "name": "stdout",
     "output_type": "stream",
     "text": [
      "INFO     - 2025-09-16 14:03:09,754 - Epoch 0003: validation finished\n",
      "INFO     - 2025-09-16 14:03:09,799 - Epoch 0003: val metrics: {'MulticlassAccuracy': 0.49606776237487793, 'loss': 0.6960426477285532}\n",
      "INFO     - 2025-09-16 14:03:09,799 - Epoch 0003: validation started\n"
     ]
    },
    {
     "data": {
      "application/vnd.jupyter.widget-view+json": {
       "model_id": "27db3dbe229144749608f33b09e1bded",
       "version_major": 2,
       "version_minor": 0
      },
      "text/plain": [
       "  0%|          | 0/13 [00:00<?, ?it/s]"
      ]
     },
     "metadata": {},
     "output_type": "display_data"
    },
    {
     "name": "stdout",
     "output_type": "stream",
     "text": [
      "INFO     - 2025-09-16 14:03:10,320 - Epoch 0003: validation finished\n",
      "INFO     - 2025-09-16 14:03:10,322 - Epoch 0003: val metrics: {'MulticlassAccuracy': 0.5021173357963562, 'loss': 0.6947963512860812}\n",
      "INFO     - 2025-09-16 14:03:10,322 - Epoch 0003: validation started\n"
     ]
    },
    {
     "data": {
      "application/vnd.jupyter.widget-view+json": {
       "model_id": "59bfec5d56a445c795012d58f44fd682",
       "version_major": 2,
       "version_minor": 0
      },
      "text/plain": [
       "0it [00:00, ?it/s]"
      ]
     },
     "metadata": {},
     "output_type": "display_data"
    },
    {
     "name": "stdout",
     "output_type": "stream",
     "text": [
      "INFO     - 2025-09-16 14:03:10,870 - Epoch 0003: validation finished\n",
      "WARNING  - 2025-09-16 14:03:10,871 - No calls to update() have been made - returning 0.0\n",
      "INFO     - 2025-09-16 14:03:10,872 - Epoch 0003: val metrics: {'MulticlassAccuracy': nan, 'loss': 0.0}\n",
      "                                       0        mean  std\n",
      "MulticlassAccuracy              0.502117    0.502117  0.0\n",
      "loss                            0.694796    0.694796  0.0\n",
      "train_MulticlassAccuracy        0.505445    0.505445  0.0\n",
      "train_loss                      0.693459    0.693459  0.0\n",
      "train_val_MulticlassAccuracy    0.496068    0.496068  0.0\n",
      "train_val_loss                  0.696043    0.696043  0.0\n",
      "test_MulticlassAccuracy              NaN         NaN  NaN\n",
      "test_loss                       0.000000    0.000000  0.0\n",
      "memory_after                  224.000000  224.000000  0.0\n"
     ]
    },
    {
     "data": {
      "text/plain": [
       "{'GenOTD': 0.5799926308178759,\n",
       " 'GenOTD micro': 0.6565094987722124,\n",
       " 'Matched R1 amount_rur': 0.20908040035921902,\n",
       " 'Matched R1 trans_date': 0.9153061074473375,\n",
       " 'Matched F1 small_group': 0.2843059826841184,\n",
       " 'Matched F1 small_group micro': 0.6086433756805808,\n",
       " 'Paired R1 amount_rur': -0.6842713315326479,\n",
       " 'Paired R1 trans_date': 0.9144554010278411,\n",
       " 'Paired F1 small_group': 0.0480071678398347,\n",
       " 'Paired F1 small_group micro': 0.17866379310344827,\n",
       " 'Cardinality on small_group gen': 11.933212341197821,\n",
       " 'Cardinality on small_group orig': 10.690744101633394,\n",
       " 'Detection score (32 hist)': 0.9957653284072876}"
      ]
     },
     "execution_count": 12,
     "metadata": {},
     "output_type": "execute_result"
    }
   ],
   "source": [
    "sample_evaluator.estimate_metrics(gt_dir, gen_dir)"
   ]
  },
  {
   "cell_type": "code",
   "execution_count": null,
   "id": "3294e5e6",
   "metadata": {},
   "outputs": [],
   "source": []
  }
 ],
 "metadata": {
  "kernelspec": {
   "display_name": "Python 3 (ipykernel)",
   "language": "python",
   "name": "python3"
  },
  "language_info": {
   "codemirror_mode": {
    "name": "ipython",
    "version": 3
   },
   "file_extension": ".py",
   "mimetype": "text/x-python",
   "name": "python",
   "nbconvert_exporter": "python",
   "pygments_lexer": "ipython3",
   "version": "3.10.12"
  }
 },
 "nbformat": 4,
 "nbformat_minor": 5
}
