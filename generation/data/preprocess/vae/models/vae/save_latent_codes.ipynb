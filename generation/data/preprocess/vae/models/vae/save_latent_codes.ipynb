{
 "cells": [
  {
   "cell_type": "code",
   "execution_count": 1,
   "id": "8733f18f",
   "metadata": {},
   "outputs": [
    {
     "name": "stdout",
     "output_type": "stream",
     "text": [
      "/workspace/transactions/tabsyn-concat\n"
     ]
    },
    {
     "name": "stderr",
     "output_type": "stream",
     "text": [
      "/usr/local/lib/python3.10/dist-packages/IPython/core/magics/osm.py:417: UserWarning: using dhist requires you to install the `pickleshare` library.\n",
      "  self.shell.db['dhist'] = compress_dhist(dhist)[-100:]\n"
     ]
    }
   ],
   "source": [
    "%cd ../.."
   ]
  },
  {
   "cell_type": "code",
   "execution_count": 2,
   "id": "af1448ad",
   "metadata": {},
   "outputs": [],
   "source": [
    "import json\n",
    "from pathlib import Path\n",
    "import torch\n",
    "from torch.utils.data import DataLoader\n",
    "from tqdm import tqdm\n",
    "import numpy as np\n",
    "\n",
    "from utils_train import preprocess, TabularDataset\n",
    "from tabsyn.vae.model import Model_VAE, Encoder_model, Decoder_model"
   ]
  },
  {
   "cell_type": "code",
   "execution_count": 3,
   "id": "a2bb2207",
   "metadata": {},
   "outputs": [],
   "source": [
    "LR = 1e-3\n",
    "WD = 0\n",
    "D_TOKEN = 4\n",
    "TOKEN_BIAS = True\n",
    "\n",
    "N_HEAD = 1\n",
    "FACTOR = 32\n",
    "NUM_LAYERS = 2"
   ]
  },
  {
   "cell_type": "code",
   "execution_count": 4,
   "id": "1299921b",
   "metadata": {},
   "outputs": [],
   "source": [
    "dataname = \"datafusion_with_id\"\n",
    "data_dir = f'data/{dataname}'\n",
    "ckpt_dir = f\"tabsyn/vae/ckpt/{dataname}\"\n",
    "\n",
    "info_path = f'data/{dataname}/info.json'\n",
    "with open(info_path, 'r') as f:\n",
    "    info = json.load(f)\n",
    "    \n",
    "device = \"cuda:3\""
   ]
  },
  {
   "cell_type": "code",
   "execution_count": 5,
   "id": "729c137f",
   "metadata": {},
   "outputs": [
    {
     "data": {
      "text/plain": [
       "{'name': 'datafusion',\n",
       " 'task_type': 'binclass',\n",
       " 'header': 'infer',\n",
       " 'column_names': ['user_id',\n",
       "  'days_since_first_tx',\n",
       "  'mcc_code',\n",
       "  'currency_rk',\n",
       "  'transaction_amt',\n",
       "  'customer_age',\n",
       "  'time_diff_days',\n",
       "  'dummy_binclass'],\n",
       " 'num_col_idx': [1, 4, 6],\n",
       " 'cat_col_idx': [0, 2, 3, 5],\n",
       " 'target_col_idx': [7],\n",
       " 'file_type': 'csv',\n",
       " 'data_path': 'data/datafusion_with_id/preprocessed_with_id_train.csv',\n",
       " 'test_path': None,\n",
       " 'column_info': {'1': {},\n",
       "  'type': 'categorical',\n",
       "  'max': 90.94725694444443,\n",
       "  'min': 0.0,\n",
       "  '4': {},\n",
       "  '6': {},\n",
       "  '0': {},\n",
       "  'categorizes': [0, 1],\n",
       "  '2': {},\n",
       "  '3': {},\n",
       "  '5': {},\n",
       "  '7': {}},\n",
       " 'train_num': 9356053,\n",
       " 'test_num': 1039562,\n",
       " 'idx_mapping': {'0': 3,\n",
       "  '1': 0,\n",
       "  '2': 4,\n",
       "  '3': 5,\n",
       "  '4': 1,\n",
       "  '5': 6,\n",
       "  '6': 2,\n",
       "  '7': 7},\n",
       " 'inverse_idx_mapping': {'3': 0,\n",
       "  '0': 1,\n",
       "  '4': 2,\n",
       "  '5': 3,\n",
       "  '1': 4,\n",
       "  '6': 5,\n",
       "  '2': 6,\n",
       "  '7': 7},\n",
       " 'idx_name_mapping': {'0': 'user_id',\n",
       "  '1': 'days_since_first_tx',\n",
       "  '2': 'mcc_code',\n",
       "  '3': 'currency_rk',\n",
       "  '4': 'transaction_amt',\n",
       "  '5': 'customer_age',\n",
       "  '6': 'time_diff_days',\n",
       "  '7': 'dummy_binclass'},\n",
       " 'metadata': {'columns': {'1': {'sdtype': 'numerical',\n",
       "    'computer_representation': 'Float'},\n",
       "   '4': {'sdtype': 'numerical', 'computer_representation': 'Float'},\n",
       "   '6': {'sdtype': 'numerical', 'computer_representation': 'Float'},\n",
       "   '0': {'sdtype': 'categorical'},\n",
       "   '2': {'sdtype': 'categorical'},\n",
       "   '3': {'sdtype': 'categorical'},\n",
       "   '5': {'sdtype': 'categorical'},\n",
       "   '7': {'sdtype': 'categorical'}}}}"
      ]
     },
     "execution_count": 5,
     "metadata": {},
     "output_type": "execute_result"
    }
   ],
   "source": [
    "info"
   ]
  },
  {
   "cell_type": "markdown",
   "id": "6a6d0f78",
   "metadata": {},
   "source": [
    "# Get latent codes"
   ]
  },
  {
   "cell_type": "code",
   "execution_count": 6,
   "id": "84848481",
   "metadata": {},
   "outputs": [
    {
     "name": "stdout",
     "output_type": "stream",
     "text": [
      "No NaNs in numerical features, skipping\n"
     ]
    }
   ],
   "source": [
    "X_num, X_cat, categories, d_numerical = preprocess(data_dir, task_type = info['task_type'])"
   ]
  },
  {
   "cell_type": "code",
   "execution_count": 1,
   "id": "9df13a3c",
   "metadata": {},
   "outputs": [
    {
     "ename": "NameError",
     "evalue": "name 'categories' is not defined",
     "output_type": "error",
     "traceback": [
      "\u001b[0;31m---------------------------------------------------------------------------\u001b[0m",
      "\u001b[0;31mNameError\u001b[0m                                 Traceback (most recent call last)",
      "Cell \u001b[0;32mIn[1], line 1\u001b[0m\n\u001b[0;32m----> 1\u001b[0m \u001b[43mcategories\u001b[49m\n",
      "\u001b[0;31mNameError\u001b[0m: name 'categories' is not defined"
     ]
    }
   ],
   "source": [
    "categories"
   ]
  },
  {
   "cell_type": "code",
   "execution_count": 8,
   "id": "2ca6d679",
   "metadata": {},
   "outputs": [
    {
     "data": {
      "text/plain": [
       "(2, [2, 332, 4, 4])"
      ]
     },
     "execution_count": 8,
     "metadata": {},
     "output_type": "execute_result"
    }
   ],
   "source": [
    "d_numerical = 2\n",
    "categories.pop(1)\n",
    "categories[1] = 332\n",
    "d_numerical, categories"
   ]
  },
  {
   "cell_type": "code",
   "execution_count": 9,
   "id": "ed0c89c3",
   "metadata": {},
   "outputs": [],
   "source": [
    "# X_num[0][:10]"
   ]
  },
  {
   "cell_type": "code",
   "execution_count": 10,
   "id": "f4aac082",
   "metadata": {},
   "outputs": [
    {
     "name": "stdout",
     "output_type": "stream",
     "text": [
      "(9356053, 5)\n"
     ]
    },
    {
     "data": {
      "text/plain": [
       "array([0, 1, 0, 0, 1, 0, 1, 2, 2, 2, 3, 3, 0, 0, 3, 3, 3, 1, 0, 1, 2, 1,\n",
       "       0, 1, 0, 3, 1, 3, 3, 0, 0, 3, 2, 1, 0, 2, 0, 1, 0, 3])"
      ]
     },
     "execution_count": 10,
     "metadata": {},
     "output_type": "execute_result"
    }
   ],
   "source": [
    "print(X_cat[0].shape)\n",
    "X_cat[0][:40, 4]"
   ]
  },
  {
   "cell_type": "code",
   "execution_count": 11,
   "id": "a4412440",
   "metadata": {},
   "outputs": [
    {
     "name": "stdout",
     "output_type": "stream",
     "text": [
      "0 : 2440056 : 0.26079971971086524\n",
      "1 : 2103250 : 0.22480099246979468\n",
      "2 : 2229064 : 0.2382483297176705\n",
      "3 : 2583683 : 0.27615095810166956\n"
     ]
    }
   ],
   "source": [
    "age_balance = dict()\n",
    "for c in [0, 1, 2, 3]:\n",
    "    age_balance[c] = np.sum(X_cat[0][:, 4] == c)\n",
    "    print(f'{c} : {age_balance[c]} : {age_balance[c] / len(X_cat[0])}')"
   ]
  },
  {
   "cell_type": "code",
   "execution_count": 13,
   "id": "967426b8",
   "metadata": {},
   "outputs": [],
   "source": [
    "X_train_num, _ = X_num\n",
    "X_train_cat, _ = X_cat\n",
    "\n",
    "X_train_num, X_test_num = X_num\n",
    "X_train_cat, X_test_cat = X_cat\n",
    "\n",
    "X_train_num, X_test_num = torch.tensor(X_train_num).float(), torch.tensor(X_test_num).float()\n",
    "X_train_cat, X_test_cat =  torch.tensor(X_train_cat), torch.tensor(X_test_cat)\n",
    "\n",
    "train_data = TabularDataset(X_train_num.float(), X_train_cat)\n",
    "test_data = TabularDataset(X_test_num.float(), X_test_cat)\n",
    "\n",
    "batch_size = 2**15\n",
    "train_loader = DataLoader(\n",
    "    train_data,\n",
    "    batch_size=batch_size,\n",
    "    num_workers=4,\n",
    "    drop_last=False,\n",
    ")\n",
    "test_loader = DataLoader(\n",
    "    test_data,\n",
    "    batch_size=batch_size,\n",
    "    num_workers=4,\n",
    "    drop_last=False,\n",
    ")"
   ]
  },
  {
   "cell_type": "code",
   "execution_count": 14,
   "id": "b6cc4378",
   "metadata": {},
   "outputs": [
    {
     "name": "stdout",
     "output_type": "stream",
     "text": [
      "self.category_embeddings.weight.shape=torch.Size([342, 4])\n",
      "self.category_embeddings.weight.shape=torch.Size([342, 4])\n"
     ]
    },
    {
     "data": {
      "text/plain": [
       "Decoder_model(\n",
       "  (VAE_Decoder): Transformer(\n",
       "    (layers): ModuleList(\n",
       "      (0): ModuleDict(\n",
       "        (attention): MultiheadAttention(\n",
       "          (W_q): Linear(in_features=4, out_features=4, bias=True)\n",
       "          (W_k): Linear(in_features=4, out_features=4, bias=True)\n",
       "          (W_v): Linear(in_features=4, out_features=4, bias=True)\n",
       "        )\n",
       "        (linear0): Linear(in_features=4, out_features=128, bias=True)\n",
       "        (linear1): Linear(in_features=128, out_features=4, bias=True)\n",
       "        (norm1): LayerNorm((4,), eps=1e-05, elementwise_affine=True)\n",
       "      )\n",
       "      (1): ModuleDict(\n",
       "        (attention): MultiheadAttention(\n",
       "          (W_q): Linear(in_features=4, out_features=4, bias=True)\n",
       "          (W_k): Linear(in_features=4, out_features=4, bias=True)\n",
       "          (W_v): Linear(in_features=4, out_features=4, bias=True)\n",
       "        )\n",
       "        (linear0): Linear(in_features=4, out_features=128, bias=True)\n",
       "        (linear1): Linear(in_features=128, out_features=4, bias=True)\n",
       "        (norm1): LayerNorm((4,), eps=1e-05, elementwise_affine=True)\n",
       "        (norm0): LayerNorm((4,), eps=1e-05, elementwise_affine=True)\n",
       "      )\n",
       "    )\n",
       "    (activation): ReLU()\n",
       "    (last_activation): ReLU()\n",
       "    (last_normalization): LayerNorm((4,), eps=1e-05, elementwise_affine=True)\n",
       "    (head): Linear(in_features=4, out_features=4, bias=True)\n",
       "  )\n",
       "  (Detokenizer): Reconstructor(\n",
       "    (cat_recons): ModuleList(\n",
       "      (0): Linear(in_features=4, out_features=2, bias=True)\n",
       "      (1): Linear(in_features=4, out_features=332, bias=True)\n",
       "      (2-3): 2 x Linear(in_features=4, out_features=4, bias=True)\n",
       "    )\n",
       "  )\n",
       ")"
      ]
     },
     "execution_count": 14,
     "metadata": {},
     "output_type": "execute_result"
    }
   ],
   "source": [
    "model = Model_VAE(NUM_LAYERS, d_numerical, categories, D_TOKEN, n_head = N_HEAD, factor = FACTOR, bias = True)\n",
    "model = model.to(device)\n",
    "\n",
    "pre_encoder = Encoder_model(NUM_LAYERS, d_numerical, categories, D_TOKEN, n_head = N_HEAD, factor = FACTOR).to(device)\n",
    "pre_decoder = Decoder_model(NUM_LAYERS, d_numerical, categories, D_TOKEN, n_head = N_HEAD, factor = FACTOR).to(device)\n",
    "\n",
    "pre_encoder.eval()\n",
    "pre_decoder.eval()"
   ]
  },
  {
   "cell_type": "code",
   "execution_count": 15,
   "id": "bf724258",
   "metadata": {},
   "outputs": [
    {
     "data": {
      "text/plain": [
       "<All keys matched successfully>"
      ]
     },
     "execution_count": 15,
     "metadata": {},
     "output_type": "execute_result"
    }
   ],
   "source": [
    "ckpt = torch.load(f\"{ckpt_dir}/model.pt\")\n",
    "model.load_state_dict(ckpt)"
   ]
  },
  {
   "cell_type": "code",
   "execution_count": 16,
   "id": "c8046310",
   "metadata": {},
   "outputs": [
    {
     "data": {
      "text/plain": [
       "Model_VAE(\n",
       "  (VAE): VAE(\n",
       "    (Tokenizer): Tokenizer(\n",
       "      (category_embeddings): Embedding(342, 4)\n",
       "    )\n",
       "    (encoder_mu): Transformer(\n",
       "      (layers): ModuleList(\n",
       "        (0): ModuleDict(\n",
       "          (attention): MultiheadAttention(\n",
       "            (W_q): Linear(in_features=4, out_features=4, bias=True)\n",
       "            (W_k): Linear(in_features=4, out_features=4, bias=True)\n",
       "            (W_v): Linear(in_features=4, out_features=4, bias=True)\n",
       "          )\n",
       "          (linear0): Linear(in_features=4, out_features=128, bias=True)\n",
       "          (linear1): Linear(in_features=128, out_features=4, bias=True)\n",
       "          (norm1): LayerNorm((4,), eps=1e-05, elementwise_affine=True)\n",
       "        )\n",
       "        (1): ModuleDict(\n",
       "          (attention): MultiheadAttention(\n",
       "            (W_q): Linear(in_features=4, out_features=4, bias=True)\n",
       "            (W_k): Linear(in_features=4, out_features=4, bias=True)\n",
       "            (W_v): Linear(in_features=4, out_features=4, bias=True)\n",
       "          )\n",
       "          (linear0): Linear(in_features=4, out_features=128, bias=True)\n",
       "          (linear1): Linear(in_features=128, out_features=4, bias=True)\n",
       "          (norm1): LayerNorm((4,), eps=1e-05, elementwise_affine=True)\n",
       "          (norm0): LayerNorm((4,), eps=1e-05, elementwise_affine=True)\n",
       "        )\n",
       "      )\n",
       "      (activation): ReLU()\n",
       "      (last_activation): ReLU()\n",
       "      (last_normalization): LayerNorm((4,), eps=1e-05, elementwise_affine=True)\n",
       "      (head): Linear(in_features=4, out_features=4, bias=True)\n",
       "    )\n",
       "    (encoder_logvar): Transformer(\n",
       "      (layers): ModuleList(\n",
       "        (0): ModuleDict(\n",
       "          (attention): MultiheadAttention(\n",
       "            (W_q): Linear(in_features=4, out_features=4, bias=True)\n",
       "            (W_k): Linear(in_features=4, out_features=4, bias=True)\n",
       "            (W_v): Linear(in_features=4, out_features=4, bias=True)\n",
       "          )\n",
       "          (linear0): Linear(in_features=4, out_features=128, bias=True)\n",
       "          (linear1): Linear(in_features=128, out_features=4, bias=True)\n",
       "          (norm1): LayerNorm((4,), eps=1e-05, elementwise_affine=True)\n",
       "        )\n",
       "        (1): ModuleDict(\n",
       "          (attention): MultiheadAttention(\n",
       "            (W_q): Linear(in_features=4, out_features=4, bias=True)\n",
       "            (W_k): Linear(in_features=4, out_features=4, bias=True)\n",
       "            (W_v): Linear(in_features=4, out_features=4, bias=True)\n",
       "          )\n",
       "          (linear0): Linear(in_features=4, out_features=128, bias=True)\n",
       "          (linear1): Linear(in_features=128, out_features=4, bias=True)\n",
       "          (norm1): LayerNorm((4,), eps=1e-05, elementwise_affine=True)\n",
       "          (norm0): LayerNorm((4,), eps=1e-05, elementwise_affine=True)\n",
       "        )\n",
       "      )\n",
       "      (activation): ReLU()\n",
       "      (last_activation): ReLU()\n",
       "      (last_normalization): LayerNorm((4,), eps=1e-05, elementwise_affine=True)\n",
       "      (head): Linear(in_features=4, out_features=4, bias=True)\n",
       "    )\n",
       "    (decoder): Transformer(\n",
       "      (layers): ModuleList(\n",
       "        (0): ModuleDict(\n",
       "          (attention): MultiheadAttention(\n",
       "            (W_q): Linear(in_features=4, out_features=4, bias=True)\n",
       "            (W_k): Linear(in_features=4, out_features=4, bias=True)\n",
       "            (W_v): Linear(in_features=4, out_features=4, bias=True)\n",
       "          )\n",
       "          (linear0): Linear(in_features=4, out_features=128, bias=True)\n",
       "          (linear1): Linear(in_features=128, out_features=4, bias=True)\n",
       "          (norm1): LayerNorm((4,), eps=1e-05, elementwise_affine=True)\n",
       "        )\n",
       "        (1): ModuleDict(\n",
       "          (attention): MultiheadAttention(\n",
       "            (W_q): Linear(in_features=4, out_features=4, bias=True)\n",
       "            (W_k): Linear(in_features=4, out_features=4, bias=True)\n",
       "            (W_v): Linear(in_features=4, out_features=4, bias=True)\n",
       "          )\n",
       "          (linear0): Linear(in_features=4, out_features=128, bias=True)\n",
       "          (linear1): Linear(in_features=128, out_features=4, bias=True)\n",
       "          (norm1): LayerNorm((4,), eps=1e-05, elementwise_affine=True)\n",
       "          (norm0): LayerNorm((4,), eps=1e-05, elementwise_affine=True)\n",
       "        )\n",
       "      )\n",
       "      (activation): ReLU()\n",
       "      (last_activation): ReLU()\n",
       "      (last_normalization): LayerNorm((4,), eps=1e-05, elementwise_affine=True)\n",
       "      (head): Linear(in_features=4, out_features=4, bias=True)\n",
       "    )\n",
       "  )\n",
       "  (Reconstructor): Reconstructor(\n",
       "    (cat_recons): ModuleList(\n",
       "      (0): Linear(in_features=4, out_features=2, bias=True)\n",
       "      (1): Linear(in_features=4, out_features=332, bias=True)\n",
       "      (2-3): 2 x Linear(in_features=4, out_features=4, bias=True)\n",
       "    )\n",
       "  )\n",
       ")"
      ]
     },
     "execution_count": 16,
     "metadata": {},
     "output_type": "execute_result"
    }
   ],
   "source": [
    "model.eval()"
   ]
  },
  {
   "cell_type": "code",
   "execution_count": 17,
   "id": "ba70e2e7",
   "metadata": {},
   "outputs": [],
   "source": [
    "pre_encoder.load_weights(model)\n",
    "pre_decoder.load_weights(model)"
   ]
  },
  {
   "cell_type": "code",
   "execution_count": 18,
   "id": "8b1bebe9",
   "metadata": {},
   "outputs": [
    {
     "data": {
      "text/plain": [
       "Decoder_model(\n",
       "  (VAE_Decoder): Transformer(\n",
       "    (layers): ModuleList(\n",
       "      (0): ModuleDict(\n",
       "        (attention): MultiheadAttention(\n",
       "          (W_q): Linear(in_features=4, out_features=4, bias=True)\n",
       "          (W_k): Linear(in_features=4, out_features=4, bias=True)\n",
       "          (W_v): Linear(in_features=4, out_features=4, bias=True)\n",
       "        )\n",
       "        (linear0): Linear(in_features=4, out_features=128, bias=True)\n",
       "        (linear1): Linear(in_features=128, out_features=4, bias=True)\n",
       "        (norm1): LayerNorm((4,), eps=1e-05, elementwise_affine=True)\n",
       "      )\n",
       "      (1): ModuleDict(\n",
       "        (attention): MultiheadAttention(\n",
       "          (W_q): Linear(in_features=4, out_features=4, bias=True)\n",
       "          (W_k): Linear(in_features=4, out_features=4, bias=True)\n",
       "          (W_v): Linear(in_features=4, out_features=4, bias=True)\n",
       "        )\n",
       "        (linear0): Linear(in_features=4, out_features=128, bias=True)\n",
       "        (linear1): Linear(in_features=128, out_features=4, bias=True)\n",
       "        (norm1): LayerNorm((4,), eps=1e-05, elementwise_affine=True)\n",
       "        (norm0): LayerNorm((4,), eps=1e-05, elementwise_affine=True)\n",
       "      )\n",
       "    )\n",
       "    (activation): ReLU()\n",
       "    (last_activation): ReLU()\n",
       "    (last_normalization): LayerNorm((4,), eps=1e-05, elementwise_affine=True)\n",
       "    (head): Linear(in_features=4, out_features=4, bias=True)\n",
       "  )\n",
       "  (Detokenizer): Reconstructor(\n",
       "    (cat_recons): ModuleList(\n",
       "      (0): Linear(in_features=4, out_features=2, bias=True)\n",
       "      (1): Linear(in_features=4, out_features=332, bias=True)\n",
       "      (2-3): 2 x Linear(in_features=4, out_features=4, bias=True)\n",
       "    )\n",
       "  )\n",
       ")"
      ]
     },
     "execution_count": 18,
     "metadata": {},
     "output_type": "execute_result"
    }
   ],
   "source": [
    "pre_encoder.eval()\n",
    "pre_decoder.to(device)"
   ]
  },
  {
   "cell_type": "code",
   "execution_count": 19,
   "id": "bccda125",
   "metadata": {},
   "outputs": [
    {
     "name": "stderr",
     "output_type": "stream",
     "text": [
      "100%|███████████████████████████████████████████████████████████████████████████████████████████████████████████████████████████████████| 286/286 [00:23<00:00, 11.92it/s]\n"
     ]
    }
   ],
   "source": [
    "latent_codes = []\n",
    "client_ids = []\n",
    "abs_times = []\n",
    "age_categories = []\n",
    "\n",
    "with torch.inference_mode():\n",
    "    for batch_num, batch_cat in tqdm(train_loader):\n",
    "        batch_num = batch_num.to(device)\n",
    "        batch_cat = batch_cat.to(device)\n",
    "        abs_time, batch_num = batch_num[:, 0], batch_num[:, 1:]\n",
    "        client_id, batch_cat, age_category = batch_cat[:, 1], batch_cat[:, [0, 2, 3, 4]], batch_cat[:, [4]]\n",
    "        \n",
    "        train_z = pre_encoder(batch_num, batch_cat).cpu().numpy()\n",
    "        latent_codes.append(train_z)\n",
    "        client_ids.append(client_id.cpu().numpy())\n",
    "        abs_times.append(abs_time.cpu().numpy())\n",
    "        age_categories.append(age_category.cpu().numpy())"
   ]
  },
  {
   "cell_type": "code",
   "execution_count": 20,
   "id": "37b33d0b",
   "metadata": {},
   "outputs": [],
   "source": [
    "train_z = np.concatenate(latent_codes)\n",
    "train_client_ids = np.concatenate(client_ids)\n",
    "train_abs_times = np.concatenate(abs_times)\n",
    "train_age_categories = np.concatenate(age_categories)"
   ]
  },
  {
   "cell_type": "code",
   "execution_count": 21,
   "id": "edd64d29",
   "metadata": {},
   "outputs": [
    {
     "data": {
      "text/plain": [
       "(9356053, 7, 4)"
      ]
     },
     "execution_count": 21,
     "metadata": {},
     "output_type": "execute_result"
    }
   ],
   "source": [
    "train_z.shape"
   ]
  },
  {
   "cell_type": "code",
   "execution_count": 22,
   "id": "27a35778",
   "metadata": {},
   "outputs": [
    {
     "data": {
      "text/plain": [
       "array([[0],\n",
       "       [1],\n",
       "       [0],\n",
       "       [0],\n",
       "       [1],\n",
       "       [0],\n",
       "       [1],\n",
       "       [2],\n",
       "       [2],\n",
       "       [2],\n",
       "       [3],\n",
       "       [3],\n",
       "       [0],\n",
       "       [0],\n",
       "       [3],\n",
       "       [3],\n",
       "       [3],\n",
       "       [1],\n",
       "       [0],\n",
       "       [1]])"
      ]
     },
     "execution_count": 22,
     "metadata": {},
     "output_type": "execute_result"
    }
   ],
   "source": [
    "train_age_categories[:20]"
   ]
  },
  {
   "cell_type": "code",
   "execution_count": 23,
   "id": "9f08a723",
   "metadata": {},
   "outputs": [
    {
     "name": "stderr",
     "output_type": "stream",
     "text": [
      "100%|█████████████████████████████████████████████████████████████████████████████████████████████████████████████████████████████████████| 32/32 [00:03<00:00,  9.18it/s]\n"
     ]
    }
   ],
   "source": [
    "latent_codes = []\n",
    "client_ids = []\n",
    "abs_times = []\n",
    "age_categories = []\n",
    "\n",
    "with torch.inference_mode():\n",
    "    for batch_num, batch_cat in tqdm(test_loader):\n",
    "        batch_num = batch_num.to(device)\n",
    "        batch_cat = batch_cat.to(device) # batch_cat[:, 4] - age, понять, чему соответствует в изначальных фичах. \n",
    "        # groupby + количество штук - сравнить с изначальными датафреймом (train)\n",
    "        abs_time, batch_num = batch_num[:, 0], batch_num[:, 1:]\n",
    "        client_id, batch_cat, age_category = batch_cat[:, 1], batch_cat[:, [0, 2, 3, 4]], batch_cat[:, [4]]\n",
    "        \n",
    "        z = pre_encoder(batch_num, batch_cat).cpu().numpy()\n",
    "        latent_codes.append(z)\n",
    "        client_ids.append(client_id.cpu().numpy())\n",
    "        abs_times.append(abs_time.cpu().numpy())\n",
    "        age_categories.append(age_category.cpu().numpy())"
   ]
  },
  {
   "cell_type": "code",
   "execution_count": 24,
   "id": "535d5d1b",
   "metadata": {},
   "outputs": [],
   "source": [
    "test_z = np.concatenate(latent_codes)\n",
    "test_client_ids = np.concatenate(client_ids)\n",
    "test_abs_times = np.concatenate(abs_times)\n",
    "test_age_categories = np.concatenate(age_categories)"
   ]
  },
  {
   "cell_type": "code",
   "execution_count": 25,
   "id": "014af1e4",
   "metadata": {},
   "outputs": [
    {
     "data": {
      "text/plain": [
       "(1039562, 7, 4)"
      ]
     },
     "execution_count": 25,
     "metadata": {},
     "output_type": "execute_result"
    }
   ],
   "source": [
    "test_z.shape"
   ]
  },
  {
   "cell_type": "code",
   "execution_count": 26,
   "id": "bcf81b28",
   "metadata": {},
   "outputs": [
    {
     "data": {
      "text/plain": [
       "(1039562, 1)"
      ]
     },
     "execution_count": 26,
     "metadata": {},
     "output_type": "execute_result"
    }
   ],
   "source": [
    "test_age_categories.shape"
   ]
  },
  {
   "cell_type": "code",
   "execution_count": 27,
   "id": "654213bd",
   "metadata": {},
   "outputs": [],
   "source": [
    "np.save(f'{ckpt_dir}/train_z.npy', train_z)\n",
    "np.save(f'{ckpt_dir}/train_client_ids.npy', train_client_ids)\n",
    "np.save(f'{ckpt_dir}/train_abs_times.npy', train_abs_times)\n",
    "np.save(f'{ckpt_dir}/train_age_categories.npy', train_age_categories)"
   ]
  },
  {
   "cell_type": "code",
   "execution_count": 28,
   "id": "0b14f9bc",
   "metadata": {},
   "outputs": [],
   "source": [
    "np.save(f'{ckpt_dir}/test_z.npy', test_z)\n",
    "np.save(f'{ckpt_dir}/test_client_ids.npy', test_client_ids)\n",
    "np.save(f'{ckpt_dir}/test_abs_times.npy', test_abs_times)\n",
    "np.save(f'{ckpt_dir}/test_age_categories.npy', test_age_categories)"
   ]
  },
  {
   "cell_type": "markdown",
   "id": "a3d4627a",
   "metadata": {},
   "source": [
    "# Sort codes"
   ]
  },
  {
   "cell_type": "code",
   "execution_count": 63,
   "id": "c2d4a52e",
   "metadata": {},
   "outputs": [],
   "source": [
    "import pandas as pd\n",
    "from IPython.display import display"
   ]
  },
  {
   "cell_type": "code",
   "execution_count": 6,
   "id": "0eb3357c",
   "metadata": {},
   "outputs": [],
   "source": [
    "train_z = np.load(f'{ckpt_dir}/train_z.npy')\n",
    "train_client_ids = np.load(f'{ckpt_dir}/train_client_ids.npy')\n",
    "train_abs_times = np.load(f'{ckpt_dir}/train_abs_times.npy')"
   ]
  },
  {
   "cell_type": "code",
   "execution_count": 7,
   "id": "ffabfa49",
   "metadata": {},
   "outputs": [
    {
     "data": {
      "text/html": [
       "<div>\n",
       "<style scoped>\n",
       "    .dataframe tbody tr th:only-of-type {\n",
       "        vertical-align: middle;\n",
       "    }\n",
       "\n",
       "    .dataframe tbody tr th {\n",
       "        vertical-align: top;\n",
       "    }\n",
       "\n",
       "    .dataframe thead th {\n",
       "        text-align: right;\n",
       "    }\n",
       "</style>\n",
       "<table border=\"1\" class=\"dataframe\">\n",
       "  <thead>\n",
       "    <tr style=\"text-align: right;\">\n",
       "      <th></th>\n",
       "      <th>idx</th>\n",
       "      <th>order</th>\n",
       "    </tr>\n",
       "  </thead>\n",
       "  <tbody>\n",
       "    <tr>\n",
       "      <th>0</th>\n",
       "      <td>14315</td>\n",
       "      <td>-0.489501</td>\n",
       "    </tr>\n",
       "    <tr>\n",
       "      <th>1</th>\n",
       "      <td>17935</td>\n",
       "      <td>-0.566783</td>\n",
       "    </tr>\n",
       "    <tr>\n",
       "      <th>2</th>\n",
       "      <td>26622</td>\n",
       "      <td>-1.252068</td>\n",
       "    </tr>\n",
       "    <tr>\n",
       "      <th>3</th>\n",
       "      <td>48255</td>\n",
       "      <td>0.175591</td>\n",
       "    </tr>\n",
       "    <tr>\n",
       "      <th>4</th>\n",
       "      <td>36048</td>\n",
       "      <td>-0.455435</td>\n",
       "    </tr>\n",
       "    <tr>\n",
       "      <th>...</th>\n",
       "      <td>...</td>\n",
       "      <td>...</td>\n",
       "    </tr>\n",
       "    <tr>\n",
       "      <th>9356048</th>\n",
       "      <td>41529</td>\n",
       "      <td>0.143390</td>\n",
       "    </tr>\n",
       "    <tr>\n",
       "      <th>9356049</th>\n",
       "      <td>5793</td>\n",
       "      <td>-0.500177</td>\n",
       "    </tr>\n",
       "    <tr>\n",
       "      <th>9356050</th>\n",
       "      <td>39608</td>\n",
       "      <td>0.657490</td>\n",
       "    </tr>\n",
       "    <tr>\n",
       "      <th>9356051</th>\n",
       "      <td>5910</td>\n",
       "      <td>0.346575</td>\n",
       "    </tr>\n",
       "    <tr>\n",
       "      <th>9356052</th>\n",
       "      <td>50664</td>\n",
       "      <td>-1.186525</td>\n",
       "    </tr>\n",
       "  </tbody>\n",
       "</table>\n",
       "<p>9356053 rows × 2 columns</p>\n",
       "</div>"
      ],
      "text/plain": [
       "           idx     order\n",
       "0        14315 -0.489501\n",
       "1        17935 -0.566783\n",
       "2        26622 -1.252068\n",
       "3        48255  0.175591\n",
       "4        36048 -0.455435\n",
       "...        ...       ...\n",
       "9356048  41529  0.143390\n",
       "9356049   5793 -0.500177\n",
       "9356050  39608  0.657490\n",
       "9356051   5910  0.346575\n",
       "9356052  50664 -1.186525\n",
       "\n",
       "[9356053 rows x 2 columns]"
      ]
     },
     "execution_count": 7,
     "metadata": {},
     "output_type": "execute_result"
    }
   ],
   "source": [
    "df_seqs = pd.DataFrame(dict(idx=train_client_ids, order=train_abs_times))\n",
    "df_seqs"
   ]
  },
  {
   "cell_type": "code",
   "execution_count": 8,
   "id": "893124a3",
   "metadata": {},
   "outputs": [
    {
     "data": {
      "text/html": [
       "<div>\n",
       "<style scoped>\n",
       "    .dataframe tbody tr th:only-of-type {\n",
       "        vertical-align: middle;\n",
       "    }\n",
       "\n",
       "    .dataframe tbody tr th {\n",
       "        vertical-align: top;\n",
       "    }\n",
       "\n",
       "    .dataframe thead th {\n",
       "        text-align: right;\n",
       "    }\n",
       "</style>\n",
       "<table border=\"1\" class=\"dataframe\">\n",
       "  <thead>\n",
       "    <tr style=\"text-align: right;\">\n",
       "      <th></th>\n",
       "      <th>idx</th>\n",
       "      <th>order</th>\n",
       "    </tr>\n",
       "  </thead>\n",
       "  <tbody>\n",
       "    <tr>\n",
       "      <th>7764011</th>\n",
       "      <td>0</td>\n",
       "      <td>-3.014032</td>\n",
       "    </tr>\n",
       "    <tr>\n",
       "      <th>3805364</th>\n",
       "      <td>0</td>\n",
       "      <td>-1.187927</td>\n",
       "    </tr>\n",
       "    <tr>\n",
       "      <th>5330317</th>\n",
       "      <td>0</td>\n",
       "      <td>-0.701916</td>\n",
       "    </tr>\n",
       "    <tr>\n",
       "      <th>587580</th>\n",
       "      <td>0</td>\n",
       "      <td>-0.652003</td>\n",
       "    </tr>\n",
       "    <tr>\n",
       "      <th>7456754</th>\n",
       "      <td>0</td>\n",
       "      <td>-0.186872</td>\n",
       "    </tr>\n",
       "    <tr>\n",
       "      <th>...</th>\n",
       "      <td>...</td>\n",
       "      <td>...</td>\n",
       "    </tr>\n",
       "    <tr>\n",
       "      <th>4961325</th>\n",
       "      <td>76799</td>\n",
       "      <td>1.861384</td>\n",
       "    </tr>\n",
       "    <tr>\n",
       "      <th>3090022</th>\n",
       "      <td>76799</td>\n",
       "      <td>1.862275</td>\n",
       "    </tr>\n",
       "    <tr>\n",
       "      <th>1721820</th>\n",
       "      <td>76799</td>\n",
       "      <td>1.878158</td>\n",
       "    </tr>\n",
       "    <tr>\n",
       "      <th>7467402</th>\n",
       "      <td>76799</td>\n",
       "      <td>1.878258</td>\n",
       "    </tr>\n",
       "    <tr>\n",
       "      <th>351128</th>\n",
       "      <td>76799</td>\n",
       "      <td>1.879247</td>\n",
       "    </tr>\n",
       "  </tbody>\n",
       "</table>\n",
       "<p>9356053 rows × 2 columns</p>\n",
       "</div>"
      ],
      "text/plain": [
       "           idx     order\n",
       "7764011      0 -3.014032\n",
       "3805364      0 -1.187927\n",
       "5330317      0 -0.701916\n",
       "587580       0 -0.652003\n",
       "7456754      0 -0.186872\n",
       "...        ...       ...\n",
       "4961325  76799  1.861384\n",
       "3090022  76799  1.862275\n",
       "1721820  76799  1.878158\n",
       "7467402  76799  1.878258\n",
       "351128   76799  1.879247\n",
       "\n",
       "[9356053 rows x 2 columns]"
      ]
     },
     "execution_count": 8,
     "metadata": {},
     "output_type": "execute_result"
    }
   ],
   "source": [
    "df_seqs = df_seqs.sort_values([\"idx\", \"order\"])\n",
    "df_seqs"
   ]
  },
  {
   "cell_type": "code",
   "execution_count": 9,
   "id": "dff845ce",
   "metadata": {},
   "outputs": [
    {
     "data": {
      "text/plain": [
       "count    76800.000000\n",
       "mean       121.823607\n",
       "std        133.992507\n",
       "min          5.000000\n",
       "25%         30.000000\n",
       "50%         73.000000\n",
       "75%        167.000000\n",
       "max       1357.000000\n",
       "dtype: float64"
      ]
     },
     "execution_count": 9,
     "metadata": {},
     "output_type": "execute_result"
    }
   ],
   "source": [
    "df_seqs.groupby(\"idx\").size().describe()"
   ]
  },
  {
   "cell_type": "code",
   "execution_count": 58,
   "id": "1e1e1949",
   "metadata": {},
   "outputs": [
    {
     "data": {
      "text/html": [
       "<div>\n",
       "<style scoped>\n",
       "    .dataframe tbody tr th:only-of-type {\n",
       "        vertical-align: middle;\n",
       "    }\n",
       "\n",
       "    .dataframe tbody tr th {\n",
       "        vertical-align: top;\n",
       "    }\n",
       "\n",
       "    .dataframe thead th {\n",
       "        text-align: right;\n",
       "    }\n",
       "</style>\n",
       "<table border=\"1\" class=\"dataframe\">\n",
       "  <thead>\n",
       "    <tr style=\"text-align: right;\">\n",
       "      <th></th>\n",
       "      <th>idx</th>\n",
       "      <th>order</th>\n",
       "    </tr>\n",
       "  </thead>\n",
       "  <tbody>\n",
       "    <tr>\n",
       "      <th>7764011</th>\n",
       "      <td>0</td>\n",
       "      <td>-3.014032</td>\n",
       "    </tr>\n",
       "    <tr>\n",
       "      <th>3805364</th>\n",
       "      <td>0</td>\n",
       "      <td>-1.187927</td>\n",
       "    </tr>\n",
       "    <tr>\n",
       "      <th>5330317</th>\n",
       "      <td>0</td>\n",
       "      <td>-0.701916</td>\n",
       "    </tr>\n",
       "    <tr>\n",
       "      <th>587580</th>\n",
       "      <td>0</td>\n",
       "      <td>-0.652003</td>\n",
       "    </tr>\n",
       "    <tr>\n",
       "      <th>7456754</th>\n",
       "      <td>0</td>\n",
       "      <td>-0.186872</td>\n",
       "    </tr>\n",
       "    <tr>\n",
       "      <th>...</th>\n",
       "      <td>...</td>\n",
       "      <td>...</td>\n",
       "    </tr>\n",
       "    <tr>\n",
       "      <th>6925063</th>\n",
       "      <td>1</td>\n",
       "      <td>1.374727</td>\n",
       "    </tr>\n",
       "    <tr>\n",
       "      <th>8270442</th>\n",
       "      <td>1</td>\n",
       "      <td>1.374869</td>\n",
       "    </tr>\n",
       "    <tr>\n",
       "      <th>220895</th>\n",
       "      <td>1</td>\n",
       "      <td>1.377111</td>\n",
       "    </tr>\n",
       "    <tr>\n",
       "      <th>5817231</th>\n",
       "      <td>1</td>\n",
       "      <td>2.651878</td>\n",
       "    </tr>\n",
       "    <tr>\n",
       "      <th>585349</th>\n",
       "      <td>1</td>\n",
       "      <td>2.755017</td>\n",
       "    </tr>\n",
       "  </tbody>\n",
       "</table>\n",
       "<p>93 rows × 2 columns</p>\n",
       "</div>"
      ],
      "text/plain": [
       "         idx     order\n",
       "7764011    0 -3.014032\n",
       "3805364    0 -1.187927\n",
       "5330317    0 -0.701916\n",
       "587580     0 -0.652003\n",
       "7456754    0 -0.186872\n",
       "...      ...       ...\n",
       "6925063    1  1.374727\n",
       "8270442    1  1.374869\n",
       "220895     1  1.377111\n",
       "5817231    1  2.651878\n",
       "585349     1  2.755017\n",
       "\n",
       "[93 rows x 2 columns]"
      ]
     },
     "execution_count": 58,
     "metadata": {},
     "output_type": "execute_result"
    }
   ],
   "source": [
    "dev = df_seqs[df_seqs.idx <= 1]\n",
    "dev"
   ]
  },
  {
   "cell_type": "code",
   "execution_count": 75,
   "id": "5d24e9fa",
   "metadata": {},
   "outputs": [],
   "source": [
    "length = 12"
   ]
  },
  {
   "cell_type": "code",
   "execution_count": 86,
   "id": "d601dd58",
   "metadata": {},
   "outputs": [],
   "source": [
    "def get_slices(df):\n",
    "    w = filter(lambda df: len(df) == length, df.rolling(window=length))\n",
    "    indices = list(map(lambda df: df.index.values, w))\n",
    "    if not indices:\n",
    "        return pd.DataFrame(columns=list(range(length)), dtype=int)\n",
    "    return pd.DataFrame(np.stack(indices))"
   ]
  },
  {
   "cell_type": "code",
   "execution_count": 87,
   "id": "30c5937a",
   "metadata": {},
   "outputs": [],
   "source": [
    "idx = dev.groupby(\"idx\", group_keys=False).apply(get_slices, include_groups=False).values"
   ]
  },
  {
   "cell_type": "code",
   "execution_count": 88,
   "id": "c9714f73",
   "metadata": {},
   "outputs": [
    {
     "data": {
      "text/plain": [
       "(72, 12, 7, 4)"
      ]
     },
     "execution_count": 88,
     "metadata": {},
     "output_type": "execute_result"
    }
   ],
   "source": [
    "train_z[idx].shape"
   ]
  },
  {
   "cell_type": "code",
   "execution_count": 70,
   "id": "00923323",
   "metadata": {},
   "outputs": [
    {
     "data": {
      "text/plain": [
       "(9356053, 7, 4)"
      ]
     },
     "execution_count": 70,
     "metadata": {},
     "output_type": "execute_result"
    }
   ],
   "source": [
    "train_z.shape"
   ]
  },
  {
   "cell_type": "code",
   "execution_count": null,
   "id": "f72616dc",
   "metadata": {},
   "outputs": [],
   "source": []
  }
 ],
 "metadata": {
  "kernelspec": {
   "display_name": "Python 3 (ipykernel)",
   "language": "python",
   "name": "python3"
  },
  "language_info": {
   "codemirror_mode": {
    "name": "ipython",
    "version": 3
   },
   "file_extension": ".py",
   "mimetype": "text/x-python",
   "name": "python",
   "nbconvert_exporter": "python",
   "pygments_lexer": "ipython3",
   "version": "3.10.12"
  }
 },
 "nbformat": 4,
 "nbformat_minor": 5
}
