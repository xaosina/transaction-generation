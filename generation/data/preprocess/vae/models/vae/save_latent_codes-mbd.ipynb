{
 "cells": [
  {
   "cell_type": "code",
   "execution_count": 1,
   "id": "30f91917",
   "metadata": {},
   "outputs": [
    {
     "name": "stdout",
     "output_type": "stream",
     "text": [
      "/home/dev/sb-proj/tabsyn-concat\n"
     ]
    }
   ],
   "source": [
    "%cd ../.."
   ]
  },
  {
   "cell_type": "code",
   "execution_count": 2,
   "id": "48c8996b",
   "metadata": {},
   "outputs": [],
   "source": [
    "import json\n",
    "from pathlib import Path\n",
    "import torch\n",
    "from torch.utils.data import DataLoader\n",
    "from tqdm import tqdm\n",
    "import numpy as np\n",
    "\n",
    "from utils_train import preprocess, TabularDataset\n",
    "from tabsyn.vae.model import Model_VAE, Encoder_model, Decoder_model"
   ]
  },
  {
   "cell_type": "code",
   "execution_count": 4,
   "id": "8abde8c3",
   "metadata": {},
   "outputs": [],
   "source": [
    "torch.set_printoptions(sci_mode=False, precision=4)\n",
    "np.set_printoptions(suppress=True)"
   ]
  },
  {
   "cell_type": "code",
   "execution_count": 5,
   "id": "3b35bebc",
   "metadata": {},
   "outputs": [],
   "source": [
    "LR = 1e-3\n",
    "WD = 0\n",
    "D_TOKEN = 6\n",
    "TOKEN_BIAS = True\n",
    "\n",
    "N_HEAD = 2\n",
    "FACTOR = 64\n",
    "NUM_LAYERS = 2"
   ]
  },
  {
   "cell_type": "code",
   "execution_count": 7,
   "id": "e1e945ef",
   "metadata": {},
   "outputs": [],
   "source": [
    "# dataname = \"mbd_short_100k\"\n",
    "dataname = \"mbd_debug\"\n",
    "data_dir = f'data/{dataname}_with_id'\n",
    "ckpt_dir = f\"tabsyn/vae/ckpt/{dataname}\"\n",
    "info_path = f'data/{dataname}_with_id/info.json'\n",
    "\n",
    "with open(info_path, 'r') as f:\n",
    "    info = json.load(f)\n",
    "    \n",
    "device = \"cuda:0\""
   ]
  },
  {
   "cell_type": "markdown",
   "id": "f6f21614",
   "metadata": {},
   "source": [
    "# Get latent codes"
   ]
  },
  {
   "cell_type": "code",
   "execution_count": 8,
   "id": "8a8bf027",
   "metadata": {},
   "outputs": [
    {
     "name": "stdout",
     "output_type": "stream",
     "text": [
      "No NaNs in numerical features, skipping\n"
     ]
    }
   ],
   "source": [
    "X_num, X_cat, categories, d_numerical = preprocess(data_dir, task_type = info['task_type'])"
   ]
  },
  {
   "cell_type": "code",
   "execution_count": 9,
   "id": "e364fe12",
   "metadata": {},
   "outputs": [],
   "source": [
    "send_telegram_msg('Data was loaded.')"
   ]
  },
  {
   "cell_type": "code",
   "execution_count": 10,
   "id": "f39b5046",
   "metadata": {},
   "outputs": [
    {
     "data": {
      "text/plain": [
       "(3, [80000, 19, 11, 13, 36])"
      ]
     },
     "execution_count": 10,
     "metadata": {},
     "output_type": "execute_result"
    }
   ],
   "source": [
    "d_numerical, categories"
   ]
  },
  {
   "cell_type": "code",
   "execution_count": 11,
   "id": "20d1ca17",
   "metadata": {},
   "outputs": [
    {
     "data": {
      "text/plain": [
       "(2, [19, 11, 13, 36])"
      ]
     },
     "execution_count": 11,
     "metadata": {},
     "output_type": "execute_result"
    }
   ],
   "source": [
    "d_numerical = d_numerical - 1\n",
    "categories.pop(0)\n",
    "d_numerical, categories"
   ]
  },
  {
   "cell_type": "code",
   "execution_count": 12,
   "id": "be8d16b0",
   "metadata": {},
   "outputs": [],
   "source": [
    "X_train_num, _ = X_num\n",
    "X_train_cat, _ = X_cat\n",
    "\n",
    "X_train_num, X_test_num = X_num\n",
    "X_train_cat, X_test_cat = X_cat\n",
    "\n",
    "X_train_num, X_test_num = torch.tensor(X_train_num).float(), torch.tensor(X_test_num).float()\n",
    "X_train_cat, X_test_cat =  torch.tensor(X_train_cat), torch.tensor(X_test_cat)\n",
    "\n",
    "train_data = TabularDataset(X_train_num.float(), X_train_cat)\n",
    "test_data = TabularDataset(X_test_num.float(), X_test_cat)\n",
    "\n",
    "batch_size = 2**15\n",
    "train_loader = DataLoader(\n",
    "    train_data,\n",
    "    batch_size=batch_size,\n",
    "    num_workers=4,\n",
    "    drop_last=False,\n",
    ")\n",
    "test_loader = DataLoader(\n",
    "    test_data,\n",
    "    batch_size=batch_size,\n",
    "    num_workers=4,\n",
    "    drop_last=False,\n",
    ")"
   ]
  },
  {
   "cell_type": "code",
   "execution_count": 13,
   "id": "e6d13760",
   "metadata": {},
   "outputs": [
    {
     "name": "stdout",
     "output_type": "stream",
     "text": [
      "self.category_embeddings.weight.shape=torch.Size([79, 6])\n",
      "self.category_embeddings.weight.shape=torch.Size([79, 6])\n"
     ]
    },
    {
     "data": {
      "text/plain": [
       "Decoder_model(\n",
       "  (VAE_Decoder): Transformer(\n",
       "    (layers): ModuleList(\n",
       "      (0): ModuleDict(\n",
       "        (attention): MultiheadAttention(\n",
       "          (W_q): Linear(in_features=6, out_features=6, bias=True)\n",
       "          (W_k): Linear(in_features=6, out_features=6, bias=True)\n",
       "          (W_v): Linear(in_features=6, out_features=6, bias=True)\n",
       "          (W_out): Linear(in_features=6, out_features=6, bias=True)\n",
       "        )\n",
       "        (linear0): Linear(in_features=6, out_features=384, bias=True)\n",
       "        (linear1): Linear(in_features=384, out_features=6, bias=True)\n",
       "        (norm1): LayerNorm((6,), eps=1e-05, elementwise_affine=True)\n",
       "      )\n",
       "      (1): ModuleDict(\n",
       "        (attention): MultiheadAttention(\n",
       "          (W_q): Linear(in_features=6, out_features=6, bias=True)\n",
       "          (W_k): Linear(in_features=6, out_features=6, bias=True)\n",
       "          (W_v): Linear(in_features=6, out_features=6, bias=True)\n",
       "          (W_out): Linear(in_features=6, out_features=6, bias=True)\n",
       "        )\n",
       "        (linear0): Linear(in_features=6, out_features=384, bias=True)\n",
       "        (linear1): Linear(in_features=384, out_features=6, bias=True)\n",
       "        (norm1): LayerNorm((6,), eps=1e-05, elementwise_affine=True)\n",
       "        (norm0): LayerNorm((6,), eps=1e-05, elementwise_affine=True)\n",
       "      )\n",
       "    )\n",
       "    (activation): ReLU()\n",
       "    (last_activation): ReLU()\n",
       "    (last_normalization): LayerNorm((6,), eps=1e-05, elementwise_affine=True)\n",
       "    (head): Linear(in_features=6, out_features=6, bias=True)\n",
       "  )\n",
       "  (Detokenizer): Reconstructor(\n",
       "    (cat_recons): ModuleList(\n",
       "      (0): Linear(in_features=6, out_features=19, bias=True)\n",
       "      (1): Linear(in_features=6, out_features=11, bias=True)\n",
       "      (2): Linear(in_features=6, out_features=13, bias=True)\n",
       "      (3): Linear(in_features=6, out_features=36, bias=True)\n",
       "    )\n",
       "  )\n",
       ")"
      ]
     },
     "execution_count": 13,
     "metadata": {},
     "output_type": "execute_result"
    }
   ],
   "source": [
    "\n",
    "model = Model_VAE(NUM_LAYERS, d_numerical, categories, D_TOKEN, n_head = N_HEAD, factor = FACTOR, bias = True)\n",
    "model = model.to(device)\n",
    "\n",
    "pre_encoder = Encoder_model(NUM_LAYERS, d_numerical, categories, D_TOKEN, n_head = N_HEAD, factor = FACTOR).to(device)\n",
    "pre_decoder = Decoder_model(NUM_LAYERS, d_numerical, categories, D_TOKEN, n_head = N_HEAD, factor = FACTOR).to(device)\n",
    "\n",
    "pre_encoder.eval()\n",
    "pre_decoder.eval()"
   ]
  },
  {
   "cell_type": "code",
   "execution_count": 14,
   "id": "04cbc064",
   "metadata": {},
   "outputs": [
    {
     "data": {
      "text/plain": [
       "<All keys matched successfully>"
      ]
     },
     "execution_count": 14,
     "metadata": {},
     "output_type": "execute_result"
    }
   ],
   "source": [
    "ckpt = torch.load(f\"{ckpt_dir}/model.pt\")\n",
    "model.load_state_dict(ckpt)"
   ]
  },
  {
   "cell_type": "code",
   "execution_count": 15,
   "id": "c8faeb05",
   "metadata": {},
   "outputs": [
    {
     "data": {
      "text/plain": [
       "Model_VAE(\n",
       "  (VAE): VAE(\n",
       "    (Tokenizer): Tokenizer(\n",
       "      (category_embeddings): Embedding(79, 6)\n",
       "    )\n",
       "    (encoder_mu): Transformer(\n",
       "      (layers): ModuleList(\n",
       "        (0): ModuleDict(\n",
       "          (attention): MultiheadAttention(\n",
       "            (W_q): Linear(in_features=6, out_features=6, bias=True)\n",
       "            (W_k): Linear(in_features=6, out_features=6, bias=True)\n",
       "            (W_v): Linear(in_features=6, out_features=6, bias=True)\n",
       "            (W_out): Linear(in_features=6, out_features=6, bias=True)\n",
       "          )\n",
       "          (linear0): Linear(in_features=6, out_features=384, bias=True)\n",
       "          (linear1): Linear(in_features=384, out_features=6, bias=True)\n",
       "          (norm1): LayerNorm((6,), eps=1e-05, elementwise_affine=True)\n",
       "        )\n",
       "        (1): ModuleDict(\n",
       "          (attention): MultiheadAttention(\n",
       "            (W_q): Linear(in_features=6, out_features=6, bias=True)\n",
       "            (W_k): Linear(in_features=6, out_features=6, bias=True)\n",
       "            (W_v): Linear(in_features=6, out_features=6, bias=True)\n",
       "            (W_out): Linear(in_features=6, out_features=6, bias=True)\n",
       "          )\n",
       "          (linear0): Linear(in_features=6, out_features=384, bias=True)\n",
       "          (linear1): Linear(in_features=384, out_features=6, bias=True)\n",
       "          (norm1): LayerNorm((6,), eps=1e-05, elementwise_affine=True)\n",
       "          (norm0): LayerNorm((6,), eps=1e-05, elementwise_affine=True)\n",
       "        )\n",
       "      )\n",
       "      (activation): ReLU()\n",
       "      (last_activation): ReLU()\n",
       "      (last_normalization): LayerNorm((6,), eps=1e-05, elementwise_affine=True)\n",
       "      (head): Linear(in_features=6, out_features=6, bias=True)\n",
       "    )\n",
       "    (encoder_logvar): Transformer(\n",
       "      (layers): ModuleList(\n",
       "        (0): ModuleDict(\n",
       "          (attention): MultiheadAttention(\n",
       "            (W_q): Linear(in_features=6, out_features=6, bias=True)\n",
       "            (W_k): Linear(in_features=6, out_features=6, bias=True)\n",
       "            (W_v): Linear(in_features=6, out_features=6, bias=True)\n",
       "            (W_out): Linear(in_features=6, out_features=6, bias=True)\n",
       "          )\n",
       "          (linear0): Linear(in_features=6, out_features=384, bias=True)\n",
       "          (linear1): Linear(in_features=384, out_features=6, bias=True)\n",
       "          (norm1): LayerNorm((6,), eps=1e-05, elementwise_affine=True)\n",
       "        )\n",
       "        (1): ModuleDict(\n",
       "          (attention): MultiheadAttention(\n",
       "            (W_q): Linear(in_features=6, out_features=6, bias=True)\n",
       "            (W_k): Linear(in_features=6, out_features=6, bias=True)\n",
       "            (W_v): Linear(in_features=6, out_features=6, bias=True)\n",
       "            (W_out): Linear(in_features=6, out_features=6, bias=True)\n",
       "          )\n",
       "          (linear0): Linear(in_features=6, out_features=384, bias=True)\n",
       "          (linear1): Linear(in_features=384, out_features=6, bias=True)\n",
       "          (norm1): LayerNorm((6,), eps=1e-05, elementwise_affine=True)\n",
       "          (norm0): LayerNorm((6,), eps=1e-05, elementwise_affine=True)\n",
       "        )\n",
       "      )\n",
       "      (activation): ReLU()\n",
       "      (last_activation): ReLU()\n",
       "      (last_normalization): LayerNorm((6,), eps=1e-05, elementwise_affine=True)\n",
       "      (head): Linear(in_features=6, out_features=6, bias=True)\n",
       "    )\n",
       "    (decoder): Transformer(\n",
       "      (layers): ModuleList(\n",
       "        (0): ModuleDict(\n",
       "          (attention): MultiheadAttention(\n",
       "            (W_q): Linear(in_features=6, out_features=6, bias=True)\n",
       "            (W_k): Linear(in_features=6, out_features=6, bias=True)\n",
       "            (W_v): Linear(in_features=6, out_features=6, bias=True)\n",
       "            (W_out): Linear(in_features=6, out_features=6, bias=True)\n",
       "          )\n",
       "          (linear0): Linear(in_features=6, out_features=384, bias=True)\n",
       "          (linear1): Linear(in_features=384, out_features=6, bias=True)\n",
       "          (norm1): LayerNorm((6,), eps=1e-05, elementwise_affine=True)\n",
       "        )\n",
       "        (1): ModuleDict(\n",
       "          (attention): MultiheadAttention(\n",
       "            (W_q): Linear(in_features=6, out_features=6, bias=True)\n",
       "            (W_k): Linear(in_features=6, out_features=6, bias=True)\n",
       "            (W_v): Linear(in_features=6, out_features=6, bias=True)\n",
       "            (W_out): Linear(in_features=6, out_features=6, bias=True)\n",
       "          )\n",
       "          (linear0): Linear(in_features=6, out_features=384, bias=True)\n",
       "          (linear1): Linear(in_features=384, out_features=6, bias=True)\n",
       "          (norm1): LayerNorm((6,), eps=1e-05, elementwise_affine=True)\n",
       "          (norm0): LayerNorm((6,), eps=1e-05, elementwise_affine=True)\n",
       "        )\n",
       "      )\n",
       "      (activation): ReLU()\n",
       "      (last_activation): ReLU()\n",
       "      (last_normalization): LayerNorm((6,), eps=1e-05, elementwise_affine=True)\n",
       "      (head): Linear(in_features=6, out_features=6, bias=True)\n",
       "    )\n",
       "  )\n",
       "  (Reconstructor): Reconstructor(\n",
       "    (cat_recons): ModuleList(\n",
       "      (0): Linear(in_features=6, out_features=19, bias=True)\n",
       "      (1): Linear(in_features=6, out_features=11, bias=True)\n",
       "      (2): Linear(in_features=6, out_features=13, bias=True)\n",
       "      (3): Linear(in_features=6, out_features=36, bias=True)\n",
       "    )\n",
       "  )\n",
       ")"
      ]
     },
     "execution_count": 15,
     "metadata": {},
     "output_type": "execute_result"
    }
   ],
   "source": [
    "model.eval()"
   ]
  },
  {
   "cell_type": "code",
   "execution_count": 16,
   "id": "a1a1aa84",
   "metadata": {},
   "outputs": [],
   "source": [
    "pre_encoder.load_weights(model)\n",
    "pre_decoder.load_weights(model)"
   ]
  },
  {
   "cell_type": "code",
   "execution_count": 17,
   "id": "26642b5b",
   "metadata": {},
   "outputs": [
    {
     "data": {
      "text/plain": [
       "Decoder_model(\n",
       "  (VAE_Decoder): Transformer(\n",
       "    (layers): ModuleList(\n",
       "      (0): ModuleDict(\n",
       "        (attention): MultiheadAttention(\n",
       "          (W_q): Linear(in_features=6, out_features=6, bias=True)\n",
       "          (W_k): Linear(in_features=6, out_features=6, bias=True)\n",
       "          (W_v): Linear(in_features=6, out_features=6, bias=True)\n",
       "          (W_out): Linear(in_features=6, out_features=6, bias=True)\n",
       "        )\n",
       "        (linear0): Linear(in_features=6, out_features=384, bias=True)\n",
       "        (linear1): Linear(in_features=384, out_features=6, bias=True)\n",
       "        (norm1): LayerNorm((6,), eps=1e-05, elementwise_affine=True)\n",
       "      )\n",
       "      (1): ModuleDict(\n",
       "        (attention): MultiheadAttention(\n",
       "          (W_q): Linear(in_features=6, out_features=6, bias=True)\n",
       "          (W_k): Linear(in_features=6, out_features=6, bias=True)\n",
       "          (W_v): Linear(in_features=6, out_features=6, bias=True)\n",
       "          (W_out): Linear(in_features=6, out_features=6, bias=True)\n",
       "        )\n",
       "        (linear0): Linear(in_features=6, out_features=384, bias=True)\n",
       "        (linear1): Linear(in_features=384, out_features=6, bias=True)\n",
       "        (norm1): LayerNorm((6,), eps=1e-05, elementwise_affine=True)\n",
       "        (norm0): LayerNorm((6,), eps=1e-05, elementwise_affine=True)\n",
       "      )\n",
       "    )\n",
       "    (activation): ReLU()\n",
       "    (last_activation): ReLU()\n",
       "    (last_normalization): LayerNorm((6,), eps=1e-05, elementwise_affine=True)\n",
       "    (head): Linear(in_features=6, out_features=6, bias=True)\n",
       "  )\n",
       "  (Detokenizer): Reconstructor(\n",
       "    (cat_recons): ModuleList(\n",
       "      (0): Linear(in_features=6, out_features=19, bias=True)\n",
       "      (1): Linear(in_features=6, out_features=11, bias=True)\n",
       "      (2): Linear(in_features=6, out_features=13, bias=True)\n",
       "      (3): Linear(in_features=6, out_features=36, bias=True)\n",
       "    )\n",
       "  )\n",
       ")"
      ]
     },
     "execution_count": 17,
     "metadata": {},
     "output_type": "execute_result"
    }
   ],
   "source": [
    "pre_encoder.eval()\n",
    "pre_decoder.to(device)"
   ]
  },
  {
   "cell_type": "code",
   "execution_count": 18,
   "id": "f5d232b3",
   "metadata": {},
   "outputs": [
    {
     "name": "stderr",
     "output_type": "stream",
     "text": [
      "100%|██████████| 1477/1477 [03:14<00:00,  7.59it/s]\n"
     ]
    }
   ],
   "source": [
    "latent_codes = []\n",
    "client_ids = []\n",
    "abs_times = []\n",
    "\n",
    "with torch.inference_mode():\n",
    "    for batch_num, batch_cat in tqdm(train_loader):\n",
    "        # print(batch_num.shape, batch_cat.shape)\n",
    "        # print(batch_num[:5])\n",
    "        batch_num = batch_num.to(device)\n",
    "        batch_cat = batch_cat.to(device)\n",
    "        \n",
    "        # break\n",
    "        abs_time, batch_num = batch_num[:, 0], batch_num[:, 1:]\n",
    "        client_id, batch_cat = batch_cat[:, 0], batch_cat[:, 1:]\n",
    "        \n",
    "        train_z = pre_encoder(batch_num, batch_cat).cpu().numpy()\n",
    "        latent_codes.append(train_z)\n",
    "        client_ids.append(client_id.cpu().numpy())\n",
    "        abs_times.append(abs_time.cpu().numpy())"
   ]
  },
  {
   "cell_type": "code",
   "execution_count": 19,
   "id": "11b2e8d7",
   "metadata": {},
   "outputs": [],
   "source": [
    "train_z = np.concatenate(latent_codes)\n",
    "train_client_ids = np.concatenate(client_ids)\n",
    "train_abs_times = np.concatenate(abs_times)"
   ]
  },
  {
   "cell_type": "code",
   "execution_count": 20,
   "id": "826a10b4",
   "metadata": {},
   "outputs": [
    {
     "data": {
      "text/plain": [
       "(48390887, 7, 6)"
      ]
     },
     "execution_count": 20,
     "metadata": {},
     "output_type": "execute_result"
    }
   ],
   "source": [
    "train_z.shape"
   ]
  },
  {
   "cell_type": "code",
   "execution_count": 21,
   "id": "71ec51b4",
   "metadata": {},
   "outputs": [
    {
     "name": "stderr",
     "output_type": "stream",
     "text": [
      "  0%|          | 0/386 [00:00<?, ?it/s]"
     ]
    },
    {
     "name": "stderr",
     "output_type": "stream",
     "text": [
      "100%|██████████| 386/386 [00:56<00:00,  6.82it/s]\n"
     ]
    }
   ],
   "source": [
    "latent_codes = []\n",
    "client_ids = []\n",
    "abs_times = []\n",
    "\n",
    "with torch.inference_mode():\n",
    "    for batch_num, batch_cat in tqdm(test_loader):\n",
    "        batch_num = batch_num.to(device)\n",
    "        batch_cat = batch_cat.to(device)\n",
    "        abs_time, batch_num = batch_num[:, 0], batch_num[:, 1:]\n",
    "        client_id, batch_cat = batch_cat[:, 0], batch_cat[:, 1:]\n",
    "        \n",
    "        z = pre_encoder(batch_num, batch_cat).cpu().numpy()\n",
    "        latent_codes.append(z)\n",
    "        client_ids.append(client_id.cpu().numpy())\n",
    "        abs_times.append(abs_time.cpu().numpy())"
   ]
  },
  {
   "cell_type": "code",
   "execution_count": 22,
   "id": "ffe332f3",
   "metadata": {},
   "outputs": [],
   "source": [
    "test_z = np.concatenate(latent_codes)\n",
    "test_client_ids = np.concatenate(client_ids)\n",
    "test_abs_times = np.concatenate(abs_times)"
   ]
  },
  {
   "cell_type": "code",
   "execution_count": 23,
   "id": "7e03cee5",
   "metadata": {},
   "outputs": [
    {
     "data": {
      "text/plain": [
       "(12647803, 7, 6)"
      ]
     },
     "execution_count": 23,
     "metadata": {},
     "output_type": "execute_result"
    }
   ],
   "source": [
    "test_z.shape"
   ]
  },
  {
   "cell_type": "code",
   "execution_count": 24,
   "id": "927260d6",
   "metadata": {},
   "outputs": [
    {
     "data": {
      "text/plain": [
       "'tabsyn/vae/ckpt/mbd_debug'"
      ]
     },
     "execution_count": 24,
     "metadata": {},
     "output_type": "execute_result"
    }
   ],
   "source": [
    "ckpt_dir"
   ]
  },
  {
   "cell_type": "code",
   "execution_count": 25,
   "id": "845f8de7",
   "metadata": {},
   "outputs": [],
   "source": [
    "np.save(f'{ckpt_dir}/train_z.npy', train_z)\n",
    "np.save(f'{ckpt_dir}/train_client_ids.npy', train_client_ids)\n",
    "np.save(f'{ckpt_dir}/train_abs_times.npy', train_abs_times)"
   ]
  },
  {
   "cell_type": "code",
   "execution_count": 26,
   "id": "9da5d9a4",
   "metadata": {},
   "outputs": [],
   "source": [
    "np.save(f'{ckpt_dir}/test_z.npy', test_z)\n",
    "np.save(f'{ckpt_dir}/test_client_ids.npy', test_client_ids)\n",
    "np.save(f'{ckpt_dir}/test_abs_times.npy', test_abs_times)"
   ]
  },
  {
   "cell_type": "markdown",
   "id": "c819c6f5",
   "metadata": {},
   "source": [
    "# Sort codes"
   ]
  },
  {
   "cell_type": "code",
   "execution_count": 63,
   "id": "f34aa526",
   "metadata": {},
   "outputs": [],
   "source": [
    "import pandas as pd\n",
    "from IPython.display import display"
   ]
  },
  {
   "cell_type": "code",
   "execution_count": 6,
   "id": "9646c55d",
   "metadata": {},
   "outputs": [],
   "source": [
    "train_z = np.load(f'{ckpt_dir}/train_z.npy')\n",
    "train_client_ids = np.load(f'{ckpt_dir}/train_client_ids.npy')\n",
    "train_abs_times = np.load(f'{ckpt_dir}/train_abs_times.npy')"
   ]
  },
  {
   "cell_type": "code",
   "execution_count": 7,
   "id": "2a5a9420",
   "metadata": {},
   "outputs": [
    {
     "data": {
      "text/html": [
       "<div>\n",
       "<style scoped>\n",
       "    .dataframe tbody tr th:only-of-type {\n",
       "        vertical-align: middle;\n",
       "    }\n",
       "\n",
       "    .dataframe tbody tr th {\n",
       "        vertical-align: top;\n",
       "    }\n",
       "\n",
       "    .dataframe thead th {\n",
       "        text-align: right;\n",
       "    }\n",
       "</style>\n",
       "<table border=\"1\" class=\"dataframe\">\n",
       "  <thead>\n",
       "    <tr style=\"text-align: right;\">\n",
       "      <th></th>\n",
       "      <th>idx</th>\n",
       "      <th>order</th>\n",
       "    </tr>\n",
       "  </thead>\n",
       "  <tbody>\n",
       "    <tr>\n",
       "      <th>0</th>\n",
       "      <td>14315</td>\n",
       "      <td>-0.489501</td>\n",
       "    </tr>\n",
       "    <tr>\n",
       "      <th>1</th>\n",
       "      <td>17935</td>\n",
       "      <td>-0.566783</td>\n",
       "    </tr>\n",
       "    <tr>\n",
       "      <th>2</th>\n",
       "      <td>26622</td>\n",
       "      <td>-1.252068</td>\n",
       "    </tr>\n",
       "    <tr>\n",
       "      <th>3</th>\n",
       "      <td>48255</td>\n",
       "      <td>0.175591</td>\n",
       "    </tr>\n",
       "    <tr>\n",
       "      <th>4</th>\n",
       "      <td>36048</td>\n",
       "      <td>-0.455435</td>\n",
       "    </tr>\n",
       "    <tr>\n",
       "      <th>...</th>\n",
       "      <td>...</td>\n",
       "      <td>...</td>\n",
       "    </tr>\n",
       "    <tr>\n",
       "      <th>9356048</th>\n",
       "      <td>41529</td>\n",
       "      <td>0.143390</td>\n",
       "    </tr>\n",
       "    <tr>\n",
       "      <th>9356049</th>\n",
       "      <td>5793</td>\n",
       "      <td>-0.500177</td>\n",
       "    </tr>\n",
       "    <tr>\n",
       "      <th>9356050</th>\n",
       "      <td>39608</td>\n",
       "      <td>0.657490</td>\n",
       "    </tr>\n",
       "    <tr>\n",
       "      <th>9356051</th>\n",
       "      <td>5910</td>\n",
       "      <td>0.346575</td>\n",
       "    </tr>\n",
       "    <tr>\n",
       "      <th>9356052</th>\n",
       "      <td>50664</td>\n",
       "      <td>-1.186525</td>\n",
       "    </tr>\n",
       "  </tbody>\n",
       "</table>\n",
       "<p>9356053 rows × 2 columns</p>\n",
       "</div>"
      ],
      "text/plain": [
       "           idx     order\n",
       "0        14315 -0.489501\n",
       "1        17935 -0.566783\n",
       "2        26622 -1.252068\n",
       "3        48255  0.175591\n",
       "4        36048 -0.455435\n",
       "...        ...       ...\n",
       "9356048  41529  0.143390\n",
       "9356049   5793 -0.500177\n",
       "9356050  39608  0.657490\n",
       "9356051   5910  0.346575\n",
       "9356052  50664 -1.186525\n",
       "\n",
       "[9356053 rows x 2 columns]"
      ]
     },
     "execution_count": 7,
     "metadata": {},
     "output_type": "execute_result"
    }
   ],
   "source": [
    "df_seqs = pd.DataFrame(dict(idx=train_client_ids, order=train_abs_times))\n",
    "df_seqs"
   ]
  },
  {
   "cell_type": "code",
   "execution_count": 8,
   "id": "1a798fd6",
   "metadata": {},
   "outputs": [
    {
     "data": {
      "text/html": [
       "<div>\n",
       "<style scoped>\n",
       "    .dataframe tbody tr th:only-of-type {\n",
       "        vertical-align: middle;\n",
       "    }\n",
       "\n",
       "    .dataframe tbody tr th {\n",
       "        vertical-align: top;\n",
       "    }\n",
       "\n",
       "    .dataframe thead th {\n",
       "        text-align: right;\n",
       "    }\n",
       "</style>\n",
       "<table border=\"1\" class=\"dataframe\">\n",
       "  <thead>\n",
       "    <tr style=\"text-align: right;\">\n",
       "      <th></th>\n",
       "      <th>idx</th>\n",
       "      <th>order</th>\n",
       "    </tr>\n",
       "  </thead>\n",
       "  <tbody>\n",
       "    <tr>\n",
       "      <th>7764011</th>\n",
       "      <td>0</td>\n",
       "      <td>-3.014032</td>\n",
       "    </tr>\n",
       "    <tr>\n",
       "      <th>3805364</th>\n",
       "      <td>0</td>\n",
       "      <td>-1.187927</td>\n",
       "    </tr>\n",
       "    <tr>\n",
       "      <th>5330317</th>\n",
       "      <td>0</td>\n",
       "      <td>-0.701916</td>\n",
       "    </tr>\n",
       "    <tr>\n",
       "      <th>587580</th>\n",
       "      <td>0</td>\n",
       "      <td>-0.652003</td>\n",
       "    </tr>\n",
       "    <tr>\n",
       "      <th>7456754</th>\n",
       "      <td>0</td>\n",
       "      <td>-0.186872</td>\n",
       "    </tr>\n",
       "    <tr>\n",
       "      <th>...</th>\n",
       "      <td>...</td>\n",
       "      <td>...</td>\n",
       "    </tr>\n",
       "    <tr>\n",
       "      <th>4961325</th>\n",
       "      <td>76799</td>\n",
       "      <td>1.861384</td>\n",
       "    </tr>\n",
       "    <tr>\n",
       "      <th>3090022</th>\n",
       "      <td>76799</td>\n",
       "      <td>1.862275</td>\n",
       "    </tr>\n",
       "    <tr>\n",
       "      <th>1721820</th>\n",
       "      <td>76799</td>\n",
       "      <td>1.878158</td>\n",
       "    </tr>\n",
       "    <tr>\n",
       "      <th>7467402</th>\n",
       "      <td>76799</td>\n",
       "      <td>1.878258</td>\n",
       "    </tr>\n",
       "    <tr>\n",
       "      <th>351128</th>\n",
       "      <td>76799</td>\n",
       "      <td>1.879247</td>\n",
       "    </tr>\n",
       "  </tbody>\n",
       "</table>\n",
       "<p>9356053 rows × 2 columns</p>\n",
       "</div>"
      ],
      "text/plain": [
       "           idx     order\n",
       "7764011      0 -3.014032\n",
       "3805364      0 -1.187927\n",
       "5330317      0 -0.701916\n",
       "587580       0 -0.652003\n",
       "7456754      0 -0.186872\n",
       "...        ...       ...\n",
       "4961325  76799  1.861384\n",
       "3090022  76799  1.862275\n",
       "1721820  76799  1.878158\n",
       "7467402  76799  1.878258\n",
       "351128   76799  1.879247\n",
       "\n",
       "[9356053 rows x 2 columns]"
      ]
     },
     "execution_count": 8,
     "metadata": {},
     "output_type": "execute_result"
    }
   ],
   "source": [
    "df_seqs = df_seqs.sort_values([\"idx\", \"order\"])\n",
    "df_seqs"
   ]
  },
  {
   "cell_type": "code",
   "execution_count": 9,
   "id": "467dc34c",
   "metadata": {},
   "outputs": [
    {
     "data": {
      "text/plain": [
       "count    76800.000000\n",
       "mean       121.823607\n",
       "std        133.992507\n",
       "min          5.000000\n",
       "25%         30.000000\n",
       "50%         73.000000\n",
       "75%        167.000000\n",
       "max       1357.000000\n",
       "dtype: float64"
      ]
     },
     "execution_count": 9,
     "metadata": {},
     "output_type": "execute_result"
    }
   ],
   "source": [
    "df_seqs.groupby(\"idx\").size().describe()"
   ]
  },
  {
   "cell_type": "code",
   "execution_count": 58,
   "id": "47ccafe6",
   "metadata": {},
   "outputs": [
    {
     "data": {
      "text/html": [
       "<div>\n",
       "<style scoped>\n",
       "    .dataframe tbody tr th:only-of-type {\n",
       "        vertical-align: middle;\n",
       "    }\n",
       "\n",
       "    .dataframe tbody tr th {\n",
       "        vertical-align: top;\n",
       "    }\n",
       "\n",
       "    .dataframe thead th {\n",
       "        text-align: right;\n",
       "    }\n",
       "</style>\n",
       "<table border=\"1\" class=\"dataframe\">\n",
       "  <thead>\n",
       "    <tr style=\"text-align: right;\">\n",
       "      <th></th>\n",
       "      <th>idx</th>\n",
       "      <th>order</th>\n",
       "    </tr>\n",
       "  </thead>\n",
       "  <tbody>\n",
       "    <tr>\n",
       "      <th>7764011</th>\n",
       "      <td>0</td>\n",
       "      <td>-3.014032</td>\n",
       "    </tr>\n",
       "    <tr>\n",
       "      <th>3805364</th>\n",
       "      <td>0</td>\n",
       "      <td>-1.187927</td>\n",
       "    </tr>\n",
       "    <tr>\n",
       "      <th>5330317</th>\n",
       "      <td>0</td>\n",
       "      <td>-0.701916</td>\n",
       "    </tr>\n",
       "    <tr>\n",
       "      <th>587580</th>\n",
       "      <td>0</td>\n",
       "      <td>-0.652003</td>\n",
       "    </tr>\n",
       "    <tr>\n",
       "      <th>7456754</th>\n",
       "      <td>0</td>\n",
       "      <td>-0.186872</td>\n",
       "    </tr>\n",
       "    <tr>\n",
       "      <th>...</th>\n",
       "      <td>...</td>\n",
       "      <td>...</td>\n",
       "    </tr>\n",
       "    <tr>\n",
       "      <th>6925063</th>\n",
       "      <td>1</td>\n",
       "      <td>1.374727</td>\n",
       "    </tr>\n",
       "    <tr>\n",
       "      <th>8270442</th>\n",
       "      <td>1</td>\n",
       "      <td>1.374869</td>\n",
       "    </tr>\n",
       "    <tr>\n",
       "      <th>220895</th>\n",
       "      <td>1</td>\n",
       "      <td>1.377111</td>\n",
       "    </tr>\n",
       "    <tr>\n",
       "      <th>5817231</th>\n",
       "      <td>1</td>\n",
       "      <td>2.651878</td>\n",
       "    </tr>\n",
       "    <tr>\n",
       "      <th>585349</th>\n",
       "      <td>1</td>\n",
       "      <td>2.755017</td>\n",
       "    </tr>\n",
       "  </tbody>\n",
       "</table>\n",
       "<p>93 rows × 2 columns</p>\n",
       "</div>"
      ],
      "text/plain": [
       "         idx     order\n",
       "7764011    0 -3.014032\n",
       "3805364    0 -1.187927\n",
       "5330317    0 -0.701916\n",
       "587580     0 -0.652003\n",
       "7456754    0 -0.186872\n",
       "...      ...       ...\n",
       "6925063    1  1.374727\n",
       "8270442    1  1.374869\n",
       "220895     1  1.377111\n",
       "5817231    1  2.651878\n",
       "585349     1  2.755017\n",
       "\n",
       "[93 rows x 2 columns]"
      ]
     },
     "execution_count": 58,
     "metadata": {},
     "output_type": "execute_result"
    }
   ],
   "source": [
    "dev = df_seqs[df_seqs.idx <= 1]\n",
    "dev"
   ]
  },
  {
   "cell_type": "code",
   "execution_count": 75,
   "id": "83890713",
   "metadata": {},
   "outputs": [],
   "source": [
    "length = 12"
   ]
  },
  {
   "cell_type": "code",
   "execution_count": 86,
   "id": "18e80743",
   "metadata": {},
   "outputs": [],
   "source": [
    "def get_slices(df):\n",
    "    w = filter(lambda df: len(df) == length, df.rolling(window=length))\n",
    "    indices = list(map(lambda df: df.index.values, w))\n",
    "    if not indices:\n",
    "        return pd.DataFrame(columns=list(range(length)), dtype=int)\n",
    "    return pd.DataFrame(np.stack(indices))"
   ]
  },
  {
   "cell_type": "code",
   "execution_count": 87,
   "id": "910562fc",
   "metadata": {},
   "outputs": [],
   "source": [
    "idx = dev.groupby(\"idx\", group_keys=False).apply(get_slices, include_groups=False).values"
   ]
  },
  {
   "cell_type": "code",
   "execution_count": 88,
   "id": "76a13086",
   "metadata": {},
   "outputs": [
    {
     "data": {
      "text/plain": [
       "(72, 12, 7, 4)"
      ]
     },
     "execution_count": 88,
     "metadata": {},
     "output_type": "execute_result"
    }
   ],
   "source": [
    "train_z[idx].shape"
   ]
  },
  {
   "cell_type": "code",
   "execution_count": 70,
   "id": "b3ef324b",
   "metadata": {},
   "outputs": [
    {
     "data": {
      "text/plain": [
       "(9356053, 7, 4)"
      ]
     },
     "execution_count": 70,
     "metadata": {},
     "output_type": "execute_result"
    }
   ],
   "source": [
    "train_z.shape"
   ]
  },
  {
   "cell_type": "code",
   "execution_count": null,
   "id": "867510ed",
   "metadata": {},
   "outputs": [],
   "source": []
  }
 ],
 "metadata": {
  "kernelspec": {
   "display_name": "Python 3 (ipykernel)",
   "language": "python",
   "name": "python3"
  },
  "language_info": {
   "codemirror_mode": {
    "name": "ipython",
    "version": 3
   },
   "file_extension": ".py",
   "mimetype": "text/x-python",
   "name": "python",
   "nbconvert_exporter": "python",
   "pygments_lexer": "ipython3",
   "version": "3.10.12"
  }
 },
 "nbformat": 4,
 "nbformat_minor": 5
}
